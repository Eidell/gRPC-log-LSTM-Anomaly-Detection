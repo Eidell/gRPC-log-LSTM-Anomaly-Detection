{
 "cells": [
  {
   "cell_type": "code",
   "execution_count": 18,
   "id": "576efd79-5ea6-4127-b976-5ac99f0a0667",
   "metadata": {
    "jupyter": {
     "source_hidden": true
    },
    "tags": []
   },
   "outputs": [],
   "source": [
    "# bug fixing test piece\n",
    "\n",
    "import os\n",
    "import json\n",
    "import pandas as pd\n",
    "\n",
    "data = []\n",
    "\n",
    "\n",
    "# Load the JSON file\n",
    "with open(\"train/data-000000000021\") as f:\n",
    "# Extract the relevant features from each log entry\n",
    "    for line in f:\n",
    "        entry = json.loads(line)\n",
    "        # Extract the relevant features from the entry and add them to the data list\n",
    "        features = {'latency': entry['httpRequest']['latency'],\n",
    "                    'requestSize': entry['httpRequest']['requestSize'],\n",
    "                    'requestMethod': entry['httpRequest']['requestMethod'],\n",
    "                    'responseSize': entry['httpRequest']['responseSize'],\n",
    "                    'requestUrl': entry['httpRequest']['requestUrl'],\n",
    "                    'status': entry['httpRequest']['status'],\n",
    "                    'source_app': entry['labels']['source_app'],\n",
    "                    'timestamp': entry['timestamp']}\n",
    "        data.append(features)\n",
    "\n",
    "# Convert the list of dictionaries into a DataFrame\n",
    "df = pd.DataFrame(data)\n",
    "df.head"
   ]
  },
  {
   "cell_type": "code",
   "execution_count": 1,
   "id": "9734b1af-2af0-42d9-94dc-a70c00a0dbb3",
   "metadata": {},
   "outputs": [
    {
     "name": "stdout",
     "output_type": "stream",
     "text": [
      "Number of errors: 18\n"
     ]
    },
    {
     "data": {
      "text/html": [
       "<div>\n",
       "<style scoped>\n",
       "    .dataframe tbody tr th:only-of-type {\n",
       "        vertical-align: middle;\n",
       "    }\n",
       "\n",
       "    .dataframe tbody tr th {\n",
       "        vertical-align: top;\n",
       "    }\n",
       "\n",
       "    .dataframe thead th {\n",
       "        text-align: right;\n",
       "    }\n",
       "</style>\n",
       "<table border=\"1\" class=\"dataframe\">\n",
       "  <thead>\n",
       "    <tr style=\"text-align: right;\">\n",
       "      <th></th>\n",
       "      <th>latency</th>\n",
       "      <th>requestSize</th>\n",
       "      <th>requestMethod</th>\n",
       "      <th>responseSize</th>\n",
       "      <th>requestUrl</th>\n",
       "      <th>status</th>\n",
       "      <th>source_app</th>\n",
       "      <th>timestamp</th>\n",
       "    </tr>\n",
       "  </thead>\n",
       "  <tbody>\n",
       "    <tr>\n",
       "      <th>0</th>\n",
       "      <td>0.001479</td>\n",
       "      <td>712</td>\n",
       "      <td>POST</td>\n",
       "      <td>1778</td>\n",
       "      <td>http://currencyservice:7000/hipstershop.Curren...</td>\n",
       "      <td>200</td>\n",
       "      <td>frontend</td>\n",
       "      <td>2023-04-15 09:29:32.235081 UTC</td>\n",
       "    </tr>\n",
       "    <tr>\n",
       "      <th>1</th>\n",
       "      <td>0.002243</td>\n",
       "      <td>712</td>\n",
       "      <td>POST</td>\n",
       "      <td>1778</td>\n",
       "      <td>http://currencyservice:7000/hipstershop.Curren...</td>\n",
       "      <td>200</td>\n",
       "      <td>frontend</td>\n",
       "      <td>2023-04-15 09:29:27.826092 UTC</td>\n",
       "    </tr>\n",
       "    <tr>\n",
       "      <th>2</th>\n",
       "      <td>0.001678</td>\n",
       "      <td>717</td>\n",
       "      <td>POST</td>\n",
       "      <td>1626</td>\n",
       "      <td>http://currencyservice:7000/hipstershop.Curren...</td>\n",
       "      <td>200</td>\n",
       "      <td>frontend</td>\n",
       "      <td>2023-04-15 09:29:29.543643 UTC</td>\n",
       "    </tr>\n",
       "    <tr>\n",
       "      <th>3</th>\n",
       "      <td>0.001477</td>\n",
       "      <td>717</td>\n",
       "      <td>POST</td>\n",
       "      <td>1626</td>\n",
       "      <td>http://currencyservice:7000/hipstershop.Curren...</td>\n",
       "      <td>200</td>\n",
       "      <td>frontend</td>\n",
       "      <td>2023-04-15 09:29:32.243186 UTC</td>\n",
       "    </tr>\n",
       "    <tr>\n",
       "      <th>4</th>\n",
       "      <td>0.001591</td>\n",
       "      <td>712</td>\n",
       "      <td>POST</td>\n",
       "      <td>1778</td>\n",
       "      <td>http://currencyservice:7000/hipstershop.Curren...</td>\n",
       "      <td>200</td>\n",
       "      <td>frontend</td>\n",
       "      <td>2023-04-15 09:29:31.537701 UTC</td>\n",
       "    </tr>\n",
       "  </tbody>\n",
       "</table>\n",
       "</div>"
      ],
      "text/plain": [
       "    latency requestSize requestMethod responseSize  \\\n",
       "0  0.001479         712          POST         1778   \n",
       "1  0.002243         712          POST         1778   \n",
       "2  0.001678         717          POST         1626   \n",
       "3  0.001477         717          POST         1626   \n",
       "4  0.001591         712          POST         1778   \n",
       "\n",
       "                                          requestUrl status source_app  \\\n",
       "0  http://currencyservice:7000/hipstershop.Curren...    200   frontend   \n",
       "1  http://currencyservice:7000/hipstershop.Curren...    200   frontend   \n",
       "2  http://currencyservice:7000/hipstershop.Curren...    200   frontend   \n",
       "3  http://currencyservice:7000/hipstershop.Curren...    200   frontend   \n",
       "4  http://currencyservice:7000/hipstershop.Curren...    200   frontend   \n",
       "\n",
       "                        timestamp  \n",
       "0  2023-04-15 09:29:32.235081 UTC  \n",
       "1  2023-04-15 09:29:27.826092 UTC  \n",
       "2  2023-04-15 09:29:29.543643 UTC  \n",
       "3  2023-04-15 09:29:32.243186 UTC  \n",
       "4  2023-04-15 09:29:31.537701 UTC  "
      ]
     },
     "execution_count": 1,
     "metadata": {},
     "output_type": "execute_result"
    }
   ],
   "source": [
    "import os\n",
    "import json\n",
    "import pandas as pd\n",
    "\n",
    "folder_path = './train'  # change this to your folder path\n",
    "data = []\n",
    "errors = 0\n",
    "\n",
    "# Loop through all the files in the folder\n",
    "for filename in os.listdir(folder_path):\n",
    "    if (\"data\" not in filename):\n",
    "        continue\n",
    "    file_path = os.path.join(folder_path, filename)\n",
    "    # Load the JSON file\n",
    "    with open(file_path) as f:\n",
    "        # Extract the relevant features from each log entry\n",
    "        for line in f:\n",
    "            try:\n",
    "                entry = json.loads(line)\n",
    "                # Extract the relevant features from the entry and add them to the data list\n",
    "                features = {'latency': entry['httpRequest']['latency'],\n",
    "                            'requestSize': entry['httpRequest']['requestSize'],\n",
    "                            'requestMethod': entry['httpRequest']['requestMethod'],\n",
    "                            'responseSize': entry['httpRequest']['responseSize'],\n",
    "                            'requestUrl': entry['httpRequest']['requestUrl'],\n",
    "                            'status': entry['httpRequest']['status'],\n",
    "                            'source_app': entry['labels']['source_app'],\n",
    "                            'timestamp': entry['timestamp']}\n",
    "                data.append(features)\n",
    "            except json.JSONDecodeError:\n",
    "                # Handle JSONDecodeError and continue to the next line\n",
    "                errors += 1\n",
    "                # print(f\"Error decoding JSON in file {file_path}: {line}\")\n",
    "                continue\n",
    "\n",
    "# Convert the list of dictionaries into a DataFrame\n",
    "print(\"Number of errors: \" + str(errors))\n",
    "df = pd.DataFrame(data)\n",
    "df.head()"
   ]
  },
  {
   "cell_type": "code",
   "execution_count": 2,
   "id": "eee56b51-2f00-46c4-bb92-34139fb5786b",
   "metadata": {},
   "outputs": [
    {
     "name": "stdout",
     "output_type": "stream",
     "text": [
      "Index(['latency', 'requestSize', 'requestMethod', 'responseSize', 'requestUrl',\n",
      "       'status', 'source_app', 'timestamp'],\n",
      "      dtype='object')\n",
      "218570\n"
     ]
    }
   ],
   "source": [
    "print(df.columns)\n",
    "print(len(df))"
   ]
  },
  {
   "cell_type": "code",
   "execution_count": 3,
   "id": "9a1f3b4a-fba7-411a-a625-a7d6f6d76e1c",
   "metadata": {},
   "outputs": [],
   "source": [
    "# set timestamp as the index\n",
    "df.set_index('timestamp', inplace=True)\n",
    "# Sort the DataFrame by the index \n",
    "df = df.sort_index()\n",
    "\n",
    "dforiginal = df.copy()\n",
    "\n",
    "#catergorize latency\n",
    "df['latency'] = (df['latency'] < 0.1).astype(int)\n"
   ]
  },
  {
   "cell_type": "code",
   "execution_count": 4,
   "id": "054aa215-7c50-41b9-91e3-c6710279bd5b",
   "metadata": {},
   "outputs": [
    {
     "data": {
      "text/html": [
       "<div>\n",
       "<style scoped>\n",
       "    .dataframe tbody tr th:only-of-type {\n",
       "        vertical-align: middle;\n",
       "    }\n",
       "\n",
       "    .dataframe tbody tr th {\n",
       "        vertical-align: top;\n",
       "    }\n",
       "\n",
       "    .dataframe thead th {\n",
       "        text-align: right;\n",
       "    }\n",
       "</style>\n",
       "<table border=\"1\" class=\"dataframe\">\n",
       "  <thead>\n",
       "    <tr style=\"text-align: right;\">\n",
       "      <th></th>\n",
       "      <th>latency</th>\n",
       "      <th>requestSize</th>\n",
       "      <th>requestMethod</th>\n",
       "      <th>responseSize</th>\n",
       "      <th>requestUrl</th>\n",
       "      <th>status</th>\n",
       "      <th>source_app</th>\n",
       "    </tr>\n",
       "    <tr>\n",
       "      <th>timestamp</th>\n",
       "      <th></th>\n",
       "      <th></th>\n",
       "      <th></th>\n",
       "      <th></th>\n",
       "      <th></th>\n",
       "      <th></th>\n",
       "      <th></th>\n",
       "    </tr>\n",
       "  </thead>\n",
       "  <tbody>\n",
       "    <tr>\n",
       "      <th>2023-04-15 08:26:58.215025 UTC</th>\n",
       "      <td>1</td>\n",
       "      <td>730</td>\n",
       "      <td>POST</td>\n",
       "      <td>1757</td>\n",
       "      <td>http://productcatalogservice:3550/hipstershop....</td>\n",
       "      <td>200</td>\n",
       "      <td>frontend</td>\n",
       "    </tr>\n",
       "    <tr>\n",
       "      <th>2023-04-15 08:26:58.216662 UTC</th>\n",
       "      <td>1</td>\n",
       "      <td>730</td>\n",
       "      <td>POST</td>\n",
       "      <td>1695</td>\n",
       "      <td>http://productcatalogservice:3550/hipstershop....</td>\n",
       "      <td>200</td>\n",
       "      <td>frontend</td>\n",
       "    </tr>\n",
       "    <tr>\n",
       "      <th>2023-04-15 08:26:58.354216 UTC</th>\n",
       "      <td>1</td>\n",
       "      <td>730</td>\n",
       "      <td>POST</td>\n",
       "      <td>1747</td>\n",
       "      <td>http://productcatalogservice:3550/hipstershop....</td>\n",
       "      <td>200</td>\n",
       "      <td>frontend</td>\n",
       "    </tr>\n",
       "    <tr>\n",
       "      <th>2023-04-15 08:26:58.356309 UTC</th>\n",
       "      <td>1</td>\n",
       "      <td>730</td>\n",
       "      <td>POST</td>\n",
       "      <td>1695</td>\n",
       "      <td>http://productcatalogservice:3550/hipstershop....</td>\n",
       "      <td>200</td>\n",
       "      <td>frontend</td>\n",
       "    </tr>\n",
       "    <tr>\n",
       "      <th>2023-04-15 08:26:58.361683 UTC</th>\n",
       "      <td>1</td>\n",
       "      <td>730</td>\n",
       "      <td>POST</td>\n",
       "      <td>1742</td>\n",
       "      <td>http://productcatalogservice:3550/hipstershop....</td>\n",
       "      <td>200</td>\n",
       "      <td>frontend</td>\n",
       "    </tr>\n",
       "  </tbody>\n",
       "</table>\n",
       "</div>"
      ],
      "text/plain": [
       "                                latency requestSize requestMethod  \\\n",
       "timestamp                                                           \n",
       "2023-04-15 08:26:58.215025 UTC        1         730          POST   \n",
       "2023-04-15 08:26:58.216662 UTC        1         730          POST   \n",
       "2023-04-15 08:26:58.354216 UTC        1         730          POST   \n",
       "2023-04-15 08:26:58.356309 UTC        1         730          POST   \n",
       "2023-04-15 08:26:58.361683 UTC        1         730          POST   \n",
       "\n",
       "                               responseSize  \\\n",
       "timestamp                                     \n",
       "2023-04-15 08:26:58.215025 UTC         1757   \n",
       "2023-04-15 08:26:58.216662 UTC         1695   \n",
       "2023-04-15 08:26:58.354216 UTC         1747   \n",
       "2023-04-15 08:26:58.356309 UTC         1695   \n",
       "2023-04-15 08:26:58.361683 UTC         1742   \n",
       "\n",
       "                                                                       requestUrl  \\\n",
       "timestamp                                                                           \n",
       "2023-04-15 08:26:58.215025 UTC  http://productcatalogservice:3550/hipstershop....   \n",
       "2023-04-15 08:26:58.216662 UTC  http://productcatalogservice:3550/hipstershop....   \n",
       "2023-04-15 08:26:58.354216 UTC  http://productcatalogservice:3550/hipstershop....   \n",
       "2023-04-15 08:26:58.356309 UTC  http://productcatalogservice:3550/hipstershop....   \n",
       "2023-04-15 08:26:58.361683 UTC  http://productcatalogservice:3550/hipstershop....   \n",
       "\n",
       "                               status source_app  \n",
       "timestamp                                         \n",
       "2023-04-15 08:26:58.215025 UTC    200   frontend  \n",
       "2023-04-15 08:26:58.216662 UTC    200   frontend  \n",
       "2023-04-15 08:26:58.354216 UTC    200   frontend  \n",
       "2023-04-15 08:26:58.356309 UTC    200   frontend  \n",
       "2023-04-15 08:26:58.361683 UTC    200   frontend  "
      ]
     },
     "execution_count": 4,
     "metadata": {},
     "output_type": "execute_result"
    }
   ],
   "source": [
    "df.head()\n"
   ]
  },
  {
   "cell_type": "code",
   "execution_count": null,
   "id": "5e007ec6-f047-4fcc-9e2b-6302fc1b5a51",
   "metadata": {},
   "outputs": [],
   "source": []
  },
  {
   "cell_type": "code",
   "execution_count": 5,
   "id": "773963bc-8a40-4597-ac7d-817fdb396e76",
   "metadata": {},
   "outputs": [],
   "source": [
    "#create keys for unique rows\n",
    "\n",
    "df['key'] = df.groupby(['latency', 'requestSize', 'requestMethod', 'responseSize',\n",
    "       'requestUrl', 'status', 'source_app']).ngroup()"
   ]
  },
  {
   "cell_type": "code",
   "execution_count": 6,
   "id": "412bac00-ed62-437c-bf5c-ef7b4f37046f",
   "metadata": {},
   "outputs": [
    {
     "name": "stdout",
     "output_type": "stream",
     "text": [
      "\\begin{tabular}{lrllllllr}\n",
      " & latency & requestSize & requestMethod & responseSize & requestUrl & status & source_app & key \\\\\n",
      "timestamp &  &  &  &  &  &  &  &  \\\\\n",
      "2023-04-15 08:26:58.215025 UTC & 1 & 730 & POST & 1757 & http://productcatalogservice:3550/hipstershop.ProductCatalogService/GetProduct & 200 & frontend & 231 \\\\\n",
      "2023-04-15 08:26:58.216662 UTC & 1 & 730 & POST & 1695 & http://productcatalogservice:3550/hipstershop.ProductCatalogService/GetProduct & 200 & frontend & 217 \\\\\n",
      "2023-04-15 08:26:58.354216 UTC & 1 & 730 & POST & 1747 & http://productcatalogservice:3550/hipstershop.ProductCatalogService/GetProduct & 200 & frontend & 229 \\\\\n",
      "2023-04-15 08:26:58.356309 UTC & 1 & 730 & POST & 1695 & http://productcatalogservice:3550/hipstershop.ProductCatalogService/GetProduct & 200 & frontend & 217 \\\\\n",
      "2023-04-15 08:26:58.361683 UTC & 1 & 730 & POST & 1742 & http://productcatalogservice:3550/hipstershop.ProductCatalogService/GetProduct & 200 & frontend & 227 \\\\\n",
      "\\end{tabular}\n",
      "\n"
     ]
    }
   ],
   "source": [
    "#latex\n",
    "\n",
    "latex_table = df.head().style.to_latex()\n",
    "\n",
    "# print latex table\n",
    "print(latex_table)"
   ]
  },
  {
   "cell_type": "code",
   "execution_count": 7,
   "id": "226b4711-67c8-4343-a1c8-4ad866244219",
   "metadata": {},
   "outputs": [],
   "source": [
    "df=df[['key']]\n",
    "\n",
    "df = pd.get_dummies(df, columns=['key'])"
   ]
  },
  {
   "cell_type": "code",
   "execution_count": 8,
   "id": "8e8ebb67-aa0f-4654-9578-c200932342d4",
   "metadata": {
    "tags": []
   },
   "outputs": [
    {
     "data": {
      "text/html": [
       "<div>\n",
       "<style scoped>\n",
       "    .dataframe tbody tr th:only-of-type {\n",
       "        vertical-align: middle;\n",
       "    }\n",
       "\n",
       "    .dataframe tbody tr th {\n",
       "        vertical-align: top;\n",
       "    }\n",
       "\n",
       "    .dataframe thead th {\n",
       "        text-align: right;\n",
       "    }\n",
       "</style>\n",
       "<table border=\"1\" class=\"dataframe\">\n",
       "  <thead>\n",
       "    <tr style=\"text-align: right;\">\n",
       "      <th></th>\n",
       "      <th>key_0</th>\n",
       "      <th>key_1</th>\n",
       "      <th>key_2</th>\n",
       "      <th>key_3</th>\n",
       "      <th>key_4</th>\n",
       "      <th>key_5</th>\n",
       "      <th>key_6</th>\n",
       "      <th>key_7</th>\n",
       "      <th>key_8</th>\n",
       "      <th>key_9</th>\n",
       "      <th>...</th>\n",
       "      <th>key_377</th>\n",
       "      <th>key_378</th>\n",
       "      <th>key_379</th>\n",
       "      <th>key_380</th>\n",
       "      <th>key_381</th>\n",
       "      <th>key_382</th>\n",
       "      <th>key_383</th>\n",
       "      <th>key_384</th>\n",
       "      <th>key_385</th>\n",
       "      <th>key_386</th>\n",
       "    </tr>\n",
       "    <tr>\n",
       "      <th>timestamp</th>\n",
       "      <th></th>\n",
       "      <th></th>\n",
       "      <th></th>\n",
       "      <th></th>\n",
       "      <th></th>\n",
       "      <th></th>\n",
       "      <th></th>\n",
       "      <th></th>\n",
       "      <th></th>\n",
       "      <th></th>\n",
       "      <th></th>\n",
       "      <th></th>\n",
       "      <th></th>\n",
       "      <th></th>\n",
       "      <th></th>\n",
       "      <th></th>\n",
       "      <th></th>\n",
       "      <th></th>\n",
       "      <th></th>\n",
       "      <th></th>\n",
       "      <th></th>\n",
       "    </tr>\n",
       "  </thead>\n",
       "  <tbody>\n",
       "    <tr>\n",
       "      <th>2023-04-15 08:26:58.215025 UTC</th>\n",
       "      <td>0</td>\n",
       "      <td>0</td>\n",
       "      <td>0</td>\n",
       "      <td>0</td>\n",
       "      <td>0</td>\n",
       "      <td>0</td>\n",
       "      <td>0</td>\n",
       "      <td>0</td>\n",
       "      <td>0</td>\n",
       "      <td>0</td>\n",
       "      <td>...</td>\n",
       "      <td>0</td>\n",
       "      <td>0</td>\n",
       "      <td>0</td>\n",
       "      <td>0</td>\n",
       "      <td>0</td>\n",
       "      <td>0</td>\n",
       "      <td>0</td>\n",
       "      <td>0</td>\n",
       "      <td>0</td>\n",
       "      <td>0</td>\n",
       "    </tr>\n",
       "    <tr>\n",
       "      <th>2023-04-15 08:26:58.216662 UTC</th>\n",
       "      <td>0</td>\n",
       "      <td>0</td>\n",
       "      <td>0</td>\n",
       "      <td>0</td>\n",
       "      <td>0</td>\n",
       "      <td>0</td>\n",
       "      <td>0</td>\n",
       "      <td>0</td>\n",
       "      <td>0</td>\n",
       "      <td>0</td>\n",
       "      <td>...</td>\n",
       "      <td>0</td>\n",
       "      <td>0</td>\n",
       "      <td>0</td>\n",
       "      <td>0</td>\n",
       "      <td>0</td>\n",
       "      <td>0</td>\n",
       "      <td>0</td>\n",
       "      <td>0</td>\n",
       "      <td>0</td>\n",
       "      <td>0</td>\n",
       "    </tr>\n",
       "    <tr>\n",
       "      <th>2023-04-15 08:26:58.354216 UTC</th>\n",
       "      <td>0</td>\n",
       "      <td>0</td>\n",
       "      <td>0</td>\n",
       "      <td>0</td>\n",
       "      <td>0</td>\n",
       "      <td>0</td>\n",
       "      <td>0</td>\n",
       "      <td>0</td>\n",
       "      <td>0</td>\n",
       "      <td>0</td>\n",
       "      <td>...</td>\n",
       "      <td>0</td>\n",
       "      <td>0</td>\n",
       "      <td>0</td>\n",
       "      <td>0</td>\n",
       "      <td>0</td>\n",
       "      <td>0</td>\n",
       "      <td>0</td>\n",
       "      <td>0</td>\n",
       "      <td>0</td>\n",
       "      <td>0</td>\n",
       "    </tr>\n",
       "    <tr>\n",
       "      <th>2023-04-15 08:26:58.356309 UTC</th>\n",
       "      <td>0</td>\n",
       "      <td>0</td>\n",
       "      <td>0</td>\n",
       "      <td>0</td>\n",
       "      <td>0</td>\n",
       "      <td>0</td>\n",
       "      <td>0</td>\n",
       "      <td>0</td>\n",
       "      <td>0</td>\n",
       "      <td>0</td>\n",
       "      <td>...</td>\n",
       "      <td>0</td>\n",
       "      <td>0</td>\n",
       "      <td>0</td>\n",
       "      <td>0</td>\n",
       "      <td>0</td>\n",
       "      <td>0</td>\n",
       "      <td>0</td>\n",
       "      <td>0</td>\n",
       "      <td>0</td>\n",
       "      <td>0</td>\n",
       "    </tr>\n",
       "    <tr>\n",
       "      <th>2023-04-15 08:26:58.361683 UTC</th>\n",
       "      <td>0</td>\n",
       "      <td>0</td>\n",
       "      <td>0</td>\n",
       "      <td>0</td>\n",
       "      <td>0</td>\n",
       "      <td>0</td>\n",
       "      <td>0</td>\n",
       "      <td>0</td>\n",
       "      <td>0</td>\n",
       "      <td>0</td>\n",
       "      <td>...</td>\n",
       "      <td>0</td>\n",
       "      <td>0</td>\n",
       "      <td>0</td>\n",
       "      <td>0</td>\n",
       "      <td>0</td>\n",
       "      <td>0</td>\n",
       "      <td>0</td>\n",
       "      <td>0</td>\n",
       "      <td>0</td>\n",
       "      <td>0</td>\n",
       "    </tr>\n",
       "  </tbody>\n",
       "</table>\n",
       "<p>5 rows × 387 columns</p>\n",
       "</div>"
      ],
      "text/plain": [
       "                                key_0  key_1  key_2  key_3  key_4  key_5  \\\n",
       "timestamp                                                                  \n",
       "2023-04-15 08:26:58.215025 UTC      0      0      0      0      0      0   \n",
       "2023-04-15 08:26:58.216662 UTC      0      0      0      0      0      0   \n",
       "2023-04-15 08:26:58.354216 UTC      0      0      0      0      0      0   \n",
       "2023-04-15 08:26:58.356309 UTC      0      0      0      0      0      0   \n",
       "2023-04-15 08:26:58.361683 UTC      0      0      0      0      0      0   \n",
       "\n",
       "                                key_6  key_7  key_8  key_9  ...  key_377  \\\n",
       "timestamp                                                   ...            \n",
       "2023-04-15 08:26:58.215025 UTC      0      0      0      0  ...        0   \n",
       "2023-04-15 08:26:58.216662 UTC      0      0      0      0  ...        0   \n",
       "2023-04-15 08:26:58.354216 UTC      0      0      0      0  ...        0   \n",
       "2023-04-15 08:26:58.356309 UTC      0      0      0      0  ...        0   \n",
       "2023-04-15 08:26:58.361683 UTC      0      0      0      0  ...        0   \n",
       "\n",
       "                                key_378  key_379  key_380  key_381  key_382  \\\n",
       "timestamp                                                                     \n",
       "2023-04-15 08:26:58.215025 UTC        0        0        0        0        0   \n",
       "2023-04-15 08:26:58.216662 UTC        0        0        0        0        0   \n",
       "2023-04-15 08:26:58.354216 UTC        0        0        0        0        0   \n",
       "2023-04-15 08:26:58.356309 UTC        0        0        0        0        0   \n",
       "2023-04-15 08:26:58.361683 UTC        0        0        0        0        0   \n",
       "\n",
       "                                key_383  key_384  key_385  key_386  \n",
       "timestamp                                                           \n",
       "2023-04-15 08:26:58.215025 UTC        0        0        0        0  \n",
       "2023-04-15 08:26:58.216662 UTC        0        0        0        0  \n",
       "2023-04-15 08:26:58.354216 UTC        0        0        0        0  \n",
       "2023-04-15 08:26:58.356309 UTC        0        0        0        0  \n",
       "2023-04-15 08:26:58.361683 UTC        0        0        0        0  \n",
       "\n",
       "[5 rows x 387 columns]"
      ]
     },
     "execution_count": 8,
     "metadata": {},
     "output_type": "execute_result"
    }
   ],
   "source": [
    "df.head()"
   ]
  },
  {
   "cell_type": "code",
   "execution_count": 9,
   "id": "98032597-4f59-4785-bead-d25775527248",
   "metadata": {},
   "outputs": [],
   "source": [
    "from sklearn.preprocessing import StandardScaler\n",
    "\n",
    "\n",
    "train_size = int(len(df) * 0.95)\n",
    "train = df[:train_size][df.columns]\n",
    "test = df[train_size:][df.columns]"
   ]
  },
  {
   "cell_type": "code",
   "execution_count": 10,
   "id": "06b1fb68-aa3c-4e7c-b0fa-7352c0b51b94",
   "metadata": {},
   "outputs": [
    {
     "name": "stderr",
     "output_type": "stream",
     "text": [
      "2023-05-04 17:01:03.890992: I tensorflow/core/platform/cpu_feature_guard.cc:193] This TensorFlow binary is optimized with oneAPI Deep Neural Network Library (oneDNN) to use the following CPU instructions in performance-critical operations:  SSE4.1 SSE4.2 AVX\n",
      "To enable them in other operations, rebuild TensorFlow with the appropriate compiler flags.\n"
     ]
    }
   ],
   "source": [
    "# lstm autoencoder to recreate a timeseries\n",
    "import numpy as np\n",
    "from keras.models import Sequential\n",
    "from keras.layers import LSTM\n",
    "from keras.layers import Dense\n",
    "from keras.layers import RepeatVector\n",
    "from keras.layers import TimeDistributed\n",
    "'''\n",
    "A UDF to convert input data into 3-D\n",
    "array as required for LSTM network.\n",
    "'''\n",
    "\n",
    "def temporalize(X, y, lookback):\n",
    "    output_X = []\n",
    "    output_y = []\n",
    "    for i in range(len(X)-lookback-1):\n",
    "        t = []\n",
    "        for j in range(1,lookback+1):\n",
    "            # Gather past records upto the lookback period\n",
    "            t.append(X[[(i+j+1)], :])\n",
    "        output_X.append(t)\n",
    "        output_y.append(y[i+lookback+1])\n",
    "    return output_X, output_y"
   ]
  },
  {
   "cell_type": "code",
   "execution_count": 11,
   "id": "04298c20-fff9-4a12-a452-efb9f0ee8339",
   "metadata": {},
   "outputs": [
    {
     "data": {
      "text/plain": [
       "(218570, 387)"
      ]
     },
     "execution_count": 11,
     "metadata": {},
     "output_type": "execute_result"
    }
   ],
   "source": [
    "timeseries = np.array(df.values)\n",
    "timeseries.shape"
   ]
  },
  {
   "cell_type": "code",
   "execution_count": 12,
   "id": "df1ad9e7-8938-4076-89ee-fbf5b7454d58",
   "metadata": {},
   "outputs": [],
   "source": [
    "import numpy as np\n",
    "\n",
    "timesteps = 10\n",
    "X, y = temporalize(X = timeseries, y = np.zeros(len(timeseries)), lookback = timesteps)\n",
    "\n",
    "n_features = timeseries.shape[1]\n",
    "X = np.array(X)\n",
    "X = X.reshape(X.shape[0], timesteps, n_features)"
   ]
  },
  {
   "cell_type": "code",
   "execution_count": null,
   "id": "e0eb1028-16c8-4846-95ff-2fa7f72f18ac",
   "metadata": {
    "tags": []
   },
   "outputs": [],
   "source": []
  },
  {
   "cell_type": "code",
   "execution_count": 13,
   "id": "6e968aee-ff38-457f-ba7e-c7aaf73106b5",
   "metadata": {
    "tags": []
   },
   "outputs": [
    {
     "name": "stderr",
     "output_type": "stream",
     "text": [
      "2023-05-04 17:02:20.993062: I tensorflow/core/platform/cpu_feature_guard.cc:193] This TensorFlow binary is optimized with oneAPI Deep Neural Network Library (oneDNN) to use the following CPU instructions in performance-critical operations:  SSE4.1 SSE4.2 AVX\n",
      "To enable them in other operations, rebuild TensorFlow with the appropriate compiler flags.\n"
     ]
    },
    {
     "name": "stdout",
     "output_type": "stream",
     "text": [
      "Model: \"sequential\"\n",
      "_________________________________________________________________\n",
      " Layer (type)                Output Shape              Param #   \n",
      "=================================================================\n",
      " lstm (LSTM)                 (None, 10, 128)           264192    \n",
      "                                                                 \n",
      " lstm_1 (LSTM)               (None, 64)                49408     \n",
      "                                                                 \n",
      " repeat_vector (RepeatVector  (None, 10, 64)           0         \n",
      " )                                                               \n",
      "                                                                 \n",
      " lstm_2 (LSTM)               (None, 10, 64)            33024     \n",
      "                                                                 \n",
      " lstm_3 (LSTM)               (None, 10, 128)           98816     \n",
      "                                                                 \n",
      " time_distributed (TimeDistr  (None, 10, 387)          49923     \n",
      " ibuted)                                                         \n",
      "                                                                 \n",
      "=================================================================\n",
      "Total params: 495,363\n",
      "Trainable params: 495,363\n",
      "Non-trainable params: 0\n",
      "_________________________________________________________________\n"
     ]
    }
   ],
   "source": [
    "# define model\n",
    "model = Sequential()\n",
    "model.add(LSTM(128, activation='relu', input_shape=(timesteps,n_features), return_sequences=True))\n",
    "model.add(LSTM(64, activation='relu', return_sequences=False))\n",
    "model.add(RepeatVector(timesteps))\n",
    "model.add(LSTM(64, activation='relu', return_sequences=True))\n",
    "model.add(LSTM(128, activation='relu', return_sequences=True))\n",
    "model.add(TimeDistributed(Dense(n_features)))\n",
    "model.compile(optimizer='adam', loss='mse')\n",
    "model.summary()"
   ]
  },
  {
   "cell_type": "code",
   "execution_count": 24,
   "id": "62a99763-8116-429c-902f-9d64e3036fa9",
   "metadata": {
    "tags": []
   },
   "outputs": [
    {
     "name": "stdout",
     "output_type": "stream",
     "text": [
      "Model: \"sequential\"\n",
      "_________________________________________________________________\n",
      " Layer (type)                Output Shape              Param #   \n",
      "=================================================================\n",
      " lstm (LSTM)                 (None, 10, 128)           264192    \n",
      "                                                                 \n",
      " lstm_1 (LSTM)               (None, 64)                49408     \n",
      "                                                                 \n",
      " repeat_vector (RepeatVector  (None, 10, 64)           0         \n",
      " )                                                               \n",
      "                                                                 \n",
      " lstm_2 (LSTM)               (None, 10, 64)            33024     \n",
      "                                                                 \n",
      " lstm_3 (LSTM)               (None, 10, 128)           98816     \n",
      "                                                                 \n",
      " time_distributed (TimeDistr  (None, 10, 387)          49923     \n",
      " ibuted)                                                         \n",
      "                                                                 \n",
      "=================================================================\n",
      "Total params: 495,363\n",
      "Trainable params: 495,363\n",
      "Non-trainable params: 0\n",
      "_________________________________________________________________\n"
     ]
    },
    {
     "ename": "TypeError",
     "evalue": "cannot parse from 'NoneType'",
     "output_type": "error",
     "traceback": [
      "\u001b[0;31m---------------------------------------------------------------------------\u001b[0m",
      "\u001b[0;31mTypeError\u001b[0m                                 Traceback (most recent call last)",
      "Input \u001b[0;32mIn [24]\u001b[0m, in \u001b[0;36m<cell line: 2>\u001b[0;34m()\u001b[0m\n\u001b[1;32m      1\u001b[0m summary \u001b[38;5;241m=\u001b[39m model\u001b[38;5;241m.\u001b[39msummary()\n\u001b[0;32m----> 2\u001b[0m summary_df \u001b[38;5;241m=\u001b[39m \u001b[43mpd\u001b[49m\u001b[38;5;241;43m.\u001b[39;49m\u001b[43mread_html\u001b[49m\u001b[43m(\u001b[49m\u001b[43msummary\u001b[49m\u001b[43m,\u001b[49m\u001b[43m \u001b[49m\u001b[43mheader\u001b[49m\u001b[38;5;241;43m=\u001b[39;49m\u001b[38;5;241;43m0\u001b[39;49m\u001b[43m,\u001b[49m\u001b[43m \u001b[49m\u001b[43mindex_col\u001b[49m\u001b[38;5;241;43m=\u001b[39;49m\u001b[38;5;241;43m0\u001b[39;49m\u001b[43m)\u001b[49m[\u001b[38;5;241m0\u001b[39m]\n\u001b[1;32m      3\u001b[0m \u001b[38;5;66;03m# Convert the DataFrame to a LaTeX table and print it\u001b[39;00m\n\u001b[1;32m      4\u001b[0m summary_df\u001b[38;5;241m.\u001b[39mstyle\u001b[38;5;241m.\u001b[39mto_latex()\n",
      "File \u001b[0;32m/opt/software/lib/python3.9/site-packages/pandas/util/_decorators.py:311\u001b[0m, in \u001b[0;36mdeprecate_nonkeyword_arguments.<locals>.decorate.<locals>.wrapper\u001b[0;34m(*args, **kwargs)\u001b[0m\n\u001b[1;32m    305\u001b[0m \u001b[38;5;28;01mif\u001b[39;00m \u001b[38;5;28mlen\u001b[39m(args) \u001b[38;5;241m>\u001b[39m num_allow_args:\n\u001b[1;32m    306\u001b[0m     warnings\u001b[38;5;241m.\u001b[39mwarn(\n\u001b[1;32m    307\u001b[0m         msg\u001b[38;5;241m.\u001b[39mformat(arguments\u001b[38;5;241m=\u001b[39marguments),\n\u001b[1;32m    308\u001b[0m         \u001b[38;5;167;01mFutureWarning\u001b[39;00m,\n\u001b[1;32m    309\u001b[0m         stacklevel\u001b[38;5;241m=\u001b[39mstacklevel,\n\u001b[1;32m    310\u001b[0m     )\n\u001b[0;32m--> 311\u001b[0m \u001b[38;5;28;01mreturn\u001b[39;00m \u001b[43mfunc\u001b[49m\u001b[43m(\u001b[49m\u001b[38;5;241;43m*\u001b[39;49m\u001b[43margs\u001b[49m\u001b[43m,\u001b[49m\u001b[43m \u001b[49m\u001b[38;5;241;43m*\u001b[39;49m\u001b[38;5;241;43m*\u001b[39;49m\u001b[43mkwargs\u001b[49m\u001b[43m)\u001b[49m\n",
      "File \u001b[0;32m/opt/software/lib/python3.9/site-packages/pandas/io/html.py:1113\u001b[0m, in \u001b[0;36mread_html\u001b[0;34m(io, match, flavor, header, index_col, skiprows, attrs, parse_dates, thousands, encoding, decimal, converters, na_values, keep_default_na, displayed_only)\u001b[0m\n\u001b[1;32m   1109\u001b[0m validate_header_arg(header)\n\u001b[1;32m   1111\u001b[0m io \u001b[38;5;241m=\u001b[39m stringify_path(io)\n\u001b[0;32m-> 1113\u001b[0m \u001b[38;5;28;01mreturn\u001b[39;00m \u001b[43m_parse\u001b[49m\u001b[43m(\u001b[49m\n\u001b[1;32m   1114\u001b[0m \u001b[43m    \u001b[49m\u001b[43mflavor\u001b[49m\u001b[38;5;241;43m=\u001b[39;49m\u001b[43mflavor\u001b[49m\u001b[43m,\u001b[49m\n\u001b[1;32m   1115\u001b[0m \u001b[43m    \u001b[49m\u001b[43mio\u001b[49m\u001b[38;5;241;43m=\u001b[39;49m\u001b[43mio\u001b[49m\u001b[43m,\u001b[49m\n\u001b[1;32m   1116\u001b[0m \u001b[43m    \u001b[49m\u001b[43mmatch\u001b[49m\u001b[38;5;241;43m=\u001b[39;49m\u001b[43mmatch\u001b[49m\u001b[43m,\u001b[49m\n\u001b[1;32m   1117\u001b[0m \u001b[43m    \u001b[49m\u001b[43mheader\u001b[49m\u001b[38;5;241;43m=\u001b[39;49m\u001b[43mheader\u001b[49m\u001b[43m,\u001b[49m\n\u001b[1;32m   1118\u001b[0m \u001b[43m    \u001b[49m\u001b[43mindex_col\u001b[49m\u001b[38;5;241;43m=\u001b[39;49m\u001b[43mindex_col\u001b[49m\u001b[43m,\u001b[49m\n\u001b[1;32m   1119\u001b[0m \u001b[43m    \u001b[49m\u001b[43mskiprows\u001b[49m\u001b[38;5;241;43m=\u001b[39;49m\u001b[43mskiprows\u001b[49m\u001b[43m,\u001b[49m\n\u001b[1;32m   1120\u001b[0m \u001b[43m    \u001b[49m\u001b[43mparse_dates\u001b[49m\u001b[38;5;241;43m=\u001b[39;49m\u001b[43mparse_dates\u001b[49m\u001b[43m,\u001b[49m\n\u001b[1;32m   1121\u001b[0m \u001b[43m    \u001b[49m\u001b[43mthousands\u001b[49m\u001b[38;5;241;43m=\u001b[39;49m\u001b[43mthousands\u001b[49m\u001b[43m,\u001b[49m\n\u001b[1;32m   1122\u001b[0m \u001b[43m    \u001b[49m\u001b[43mattrs\u001b[49m\u001b[38;5;241;43m=\u001b[39;49m\u001b[43mattrs\u001b[49m\u001b[43m,\u001b[49m\n\u001b[1;32m   1123\u001b[0m \u001b[43m    \u001b[49m\u001b[43mencoding\u001b[49m\u001b[38;5;241;43m=\u001b[39;49m\u001b[43mencoding\u001b[49m\u001b[43m,\u001b[49m\n\u001b[1;32m   1124\u001b[0m \u001b[43m    \u001b[49m\u001b[43mdecimal\u001b[49m\u001b[38;5;241;43m=\u001b[39;49m\u001b[43mdecimal\u001b[49m\u001b[43m,\u001b[49m\n\u001b[1;32m   1125\u001b[0m \u001b[43m    \u001b[49m\u001b[43mconverters\u001b[49m\u001b[38;5;241;43m=\u001b[39;49m\u001b[43mconverters\u001b[49m\u001b[43m,\u001b[49m\n\u001b[1;32m   1126\u001b[0m \u001b[43m    \u001b[49m\u001b[43mna_values\u001b[49m\u001b[38;5;241;43m=\u001b[39;49m\u001b[43mna_values\u001b[49m\u001b[43m,\u001b[49m\n\u001b[1;32m   1127\u001b[0m \u001b[43m    \u001b[49m\u001b[43mkeep_default_na\u001b[49m\u001b[38;5;241;43m=\u001b[39;49m\u001b[43mkeep_default_na\u001b[49m\u001b[43m,\u001b[49m\n\u001b[1;32m   1128\u001b[0m \u001b[43m    \u001b[49m\u001b[43mdisplayed_only\u001b[49m\u001b[38;5;241;43m=\u001b[39;49m\u001b[43mdisplayed_only\u001b[49m\u001b[43m,\u001b[49m\n\u001b[1;32m   1129\u001b[0m \u001b[43m\u001b[49m\u001b[43m)\u001b[49m\n",
      "File \u001b[0;32m/opt/software/lib/python3.9/site-packages/pandas/io/html.py:919\u001b[0m, in \u001b[0;36m_parse\u001b[0;34m(flavor, io, match, attrs, encoding, displayed_only, **kwargs)\u001b[0m\n\u001b[1;32m    916\u001b[0m p \u001b[38;5;241m=\u001b[39m parser(io, compiled_match, attrs, encoding, displayed_only)\n\u001b[1;32m    918\u001b[0m \u001b[38;5;28;01mtry\u001b[39;00m:\n\u001b[0;32m--> 919\u001b[0m     tables \u001b[38;5;241m=\u001b[39m \u001b[43mp\u001b[49m\u001b[38;5;241;43m.\u001b[39;49m\u001b[43mparse_tables\u001b[49m\u001b[43m(\u001b[49m\u001b[43m)\u001b[49m\n\u001b[1;32m    920\u001b[0m \u001b[38;5;28;01mexcept\u001b[39;00m \u001b[38;5;167;01mValueError\u001b[39;00m \u001b[38;5;28;01mas\u001b[39;00m caught:\n\u001b[1;32m    921\u001b[0m     \u001b[38;5;66;03m# if `io` is an io-like object, check if it's seekable\u001b[39;00m\n\u001b[1;32m    922\u001b[0m     \u001b[38;5;66;03m# and try to rewind it before trying the next parser\u001b[39;00m\n\u001b[1;32m    923\u001b[0m     \u001b[38;5;28;01mif\u001b[39;00m \u001b[38;5;28mhasattr\u001b[39m(io, \u001b[38;5;124m\"\u001b[39m\u001b[38;5;124mseekable\u001b[39m\u001b[38;5;124m\"\u001b[39m) \u001b[38;5;129;01mand\u001b[39;00m io\u001b[38;5;241m.\u001b[39mseekable():\n",
      "File \u001b[0;32m/opt/software/lib/python3.9/site-packages/pandas/io/html.py:239\u001b[0m, in \u001b[0;36m_HtmlFrameParser.parse_tables\u001b[0;34m(self)\u001b[0m\n\u001b[1;32m    231\u001b[0m \u001b[38;5;28;01mdef\u001b[39;00m \u001b[38;5;21mparse_tables\u001b[39m(\u001b[38;5;28mself\u001b[39m):\n\u001b[1;32m    232\u001b[0m     \u001b[38;5;124;03m\"\"\"\u001b[39;00m\n\u001b[1;32m    233\u001b[0m \u001b[38;5;124;03m    Parse and return all tables from the DOM.\u001b[39;00m\n\u001b[1;32m    234\u001b[0m \n\u001b[0;32m   (...)\u001b[0m\n\u001b[1;32m    237\u001b[0m \u001b[38;5;124;03m    list of parsed (header, body, footer) tuples from tables.\u001b[39;00m\n\u001b[1;32m    238\u001b[0m \u001b[38;5;124;03m    \"\"\"\u001b[39;00m\n\u001b[0;32m--> 239\u001b[0m     tables \u001b[38;5;241m=\u001b[39m \u001b[38;5;28mself\u001b[39m\u001b[38;5;241m.\u001b[39m_parse_tables(\u001b[38;5;28;43mself\u001b[39;49m\u001b[38;5;241;43m.\u001b[39;49m\u001b[43m_build_doc\u001b[49m\u001b[43m(\u001b[49m\u001b[43m)\u001b[49m, \u001b[38;5;28mself\u001b[39m\u001b[38;5;241m.\u001b[39mmatch, \u001b[38;5;28mself\u001b[39m\u001b[38;5;241m.\u001b[39mattrs)\n\u001b[1;32m    240\u001b[0m     \u001b[38;5;28;01mreturn\u001b[39;00m (\u001b[38;5;28mself\u001b[39m\u001b[38;5;241m.\u001b[39m_parse_thead_tbody_tfoot(table) \u001b[38;5;28;01mfor\u001b[39;00m table \u001b[38;5;129;01min\u001b[39;00m tables)\n",
      "File \u001b[0;32m/opt/software/lib/python3.9/site-packages/pandas/io/html.py:743\u001b[0m, in \u001b[0;36m_LxmlFrameParser._build_doc\u001b[0;34m(self)\u001b[0m\n\u001b[1;32m    740\u001b[0m         r \u001b[38;5;241m=\u001b[39m parse(f, parser\u001b[38;5;241m=\u001b[39mparser)\n\u001b[1;32m    741\u001b[0m \u001b[38;5;28;01melse\u001b[39;00m:\n\u001b[1;32m    742\u001b[0m     \u001b[38;5;66;03m# try to parse the input in the simplest way\u001b[39;00m\n\u001b[0;32m--> 743\u001b[0m     r \u001b[38;5;241m=\u001b[39m \u001b[43mparse\u001b[49m\u001b[43m(\u001b[49m\u001b[38;5;28;43mself\u001b[39;49m\u001b[38;5;241;43m.\u001b[39;49m\u001b[43mio\u001b[49m\u001b[43m,\u001b[49m\u001b[43m \u001b[49m\u001b[43mparser\u001b[49m\u001b[38;5;241;43m=\u001b[39;49m\u001b[43mparser\u001b[49m\u001b[43m)\u001b[49m\n\u001b[1;32m    744\u001b[0m \u001b[38;5;28;01mtry\u001b[39;00m:\n\u001b[1;32m    745\u001b[0m     r \u001b[38;5;241m=\u001b[39m r\u001b[38;5;241m.\u001b[39mgetroot()\n",
      "File \u001b[0;32m/opt/software/lib/python3.9/site-packages/lxml/html/__init__.py:937\u001b[0m, in \u001b[0;36mparse\u001b[0;34m(filename_or_url, parser, base_url, **kw)\u001b[0m\n\u001b[1;32m    935\u001b[0m \u001b[38;5;28;01mif\u001b[39;00m parser \u001b[38;5;129;01mis\u001b[39;00m \u001b[38;5;28;01mNone\u001b[39;00m:\n\u001b[1;32m    936\u001b[0m     parser \u001b[38;5;241m=\u001b[39m html_parser\n\u001b[0;32m--> 937\u001b[0m \u001b[38;5;28;01mreturn\u001b[39;00m \u001b[43metree\u001b[49m\u001b[38;5;241;43m.\u001b[39;49m\u001b[43mparse\u001b[49m\u001b[43m(\u001b[49m\u001b[43mfilename_or_url\u001b[49m\u001b[43m,\u001b[49m\u001b[43m \u001b[49m\u001b[43mparser\u001b[49m\u001b[43m,\u001b[49m\u001b[43m \u001b[49m\u001b[43mbase_url\u001b[49m\u001b[38;5;241;43m=\u001b[39;49m\u001b[43mbase_url\u001b[49m\u001b[43m,\u001b[49m\u001b[43m \u001b[49m\u001b[38;5;241;43m*\u001b[39;49m\u001b[38;5;241;43m*\u001b[39;49m\u001b[43mkw\u001b[49m\u001b[43m)\u001b[49m\n",
      "File \u001b[0;32msrc/lxml/etree.pyx:3541\u001b[0m, in \u001b[0;36mlxml.etree.parse\u001b[0;34m()\u001b[0m\n",
      "File \u001b[0;32msrc/lxml/parser.pxi:1902\u001b[0m, in \u001b[0;36mlxml.etree._parseDocument\u001b[0;34m()\u001b[0m\n",
      "\u001b[0;31mTypeError\u001b[0m: cannot parse from 'NoneType'"
     ]
    }
   ],
   "source": [
    "summary = model.summary()\n",
    "summary_df = pd.read_html(summary, header=0, index_col=0)[0]\n",
    "# Convert the DataFrame to a LaTeX table and print it\n",
    "summary_df.style.to_latex()\n"
   ]
  },
  {
   "cell_type": "code",
   "execution_count": 19,
   "id": "e19ad99d-250b-456e-8958-40f20ae4851d",
   "metadata": {},
   "outputs": [
    {
     "name": "stdout",
     "output_type": "stream",
     "text": [
      "Epoch 1/10\n"
     ]
    },
    {
     "ename": "KeyboardInterrupt",
     "evalue": "",
     "output_type": "error",
     "traceback": [
      "\u001b[0;31m---------------------------------------------------------------------------\u001b[0m",
      "\u001b[0;31mKeyboardInterrupt\u001b[0m                         Traceback (most recent call last)",
      "Input \u001b[0;32mIn [19]\u001b[0m, in \u001b[0;36m<cell line: 2>\u001b[0;34m()\u001b[0m\n\u001b[1;32m      1\u001b[0m \u001b[38;5;66;03m# fit model\u001b[39;00m\n\u001b[0;32m----> 2\u001b[0m history \u001b[38;5;241m=\u001b[39m \u001b[43mmodel\u001b[49m\u001b[38;5;241;43m.\u001b[39;49m\u001b[43mfit\u001b[49m\u001b[43m(\u001b[49m\u001b[43mX\u001b[49m\u001b[43m,\u001b[49m\u001b[43m \u001b[49m\u001b[43mX\u001b[49m\u001b[43m,\u001b[49m\u001b[43m \u001b[49m\u001b[43mepochs\u001b[49m\u001b[38;5;241;43m=\u001b[39;49m\u001b[38;5;241;43m10\u001b[39;49m\u001b[43m,\u001b[49m\u001b[43m \u001b[49m\u001b[43mbatch_size\u001b[49m\u001b[38;5;241;43m=\u001b[39;49m\u001b[38;5;241;43m5\u001b[39;49m\u001b[43m,\u001b[49m\u001b[43m \u001b[49m\u001b[43mverbose\u001b[49m\u001b[38;5;241;43m=\u001b[39;49m\u001b[38;5;241;43m2\u001b[39;49m\u001b[43m,\u001b[49m\u001b[43m \u001b[49m\u001b[43mvalidation_split\u001b[49m\u001b[38;5;241;43m=\u001b[39;49m\u001b[38;5;241;43m0.2\u001b[39;49m\u001b[43m)\u001b[49m\n",
      "File \u001b[0;32m/opt/software/lib/python3.9/site-packages/keras/utils/traceback_utils.py:65\u001b[0m, in \u001b[0;36mfilter_traceback.<locals>.error_handler\u001b[0;34m(*args, **kwargs)\u001b[0m\n\u001b[1;32m     63\u001b[0m filtered_tb \u001b[38;5;241m=\u001b[39m \u001b[38;5;28;01mNone\u001b[39;00m\n\u001b[1;32m     64\u001b[0m \u001b[38;5;28;01mtry\u001b[39;00m:\n\u001b[0;32m---> 65\u001b[0m     \u001b[38;5;28;01mreturn\u001b[39;00m \u001b[43mfn\u001b[49m\u001b[43m(\u001b[49m\u001b[38;5;241;43m*\u001b[39;49m\u001b[43margs\u001b[49m\u001b[43m,\u001b[49m\u001b[43m \u001b[49m\u001b[38;5;241;43m*\u001b[39;49m\u001b[38;5;241;43m*\u001b[39;49m\u001b[43mkwargs\u001b[49m\u001b[43m)\u001b[49m\n\u001b[1;32m     66\u001b[0m \u001b[38;5;28;01mexcept\u001b[39;00m \u001b[38;5;167;01mException\u001b[39;00m \u001b[38;5;28;01mas\u001b[39;00m e:\n\u001b[1;32m     67\u001b[0m     filtered_tb \u001b[38;5;241m=\u001b[39m _process_traceback_frames(e\u001b[38;5;241m.\u001b[39m__traceback__)\n",
      "File \u001b[0;32m/opt/software/lib/python3.9/site-packages/keras/engine/training.py:1650\u001b[0m, in \u001b[0;36mModel.fit\u001b[0;34m(self, x, y, batch_size, epochs, verbose, callbacks, validation_split, validation_data, shuffle, class_weight, sample_weight, initial_epoch, steps_per_epoch, validation_steps, validation_batch_size, validation_freq, max_queue_size, workers, use_multiprocessing)\u001b[0m\n\u001b[1;32m   1642\u001b[0m \u001b[38;5;28;01mwith\u001b[39;00m tf\u001b[38;5;241m.\u001b[39mprofiler\u001b[38;5;241m.\u001b[39mexperimental\u001b[38;5;241m.\u001b[39mTrace(\n\u001b[1;32m   1643\u001b[0m     \u001b[38;5;124m\"\u001b[39m\u001b[38;5;124mtrain\u001b[39m\u001b[38;5;124m\"\u001b[39m,\n\u001b[1;32m   1644\u001b[0m     epoch_num\u001b[38;5;241m=\u001b[39mepoch,\n\u001b[0;32m   (...)\u001b[0m\n\u001b[1;32m   1647\u001b[0m     _r\u001b[38;5;241m=\u001b[39m\u001b[38;5;241m1\u001b[39m,\n\u001b[1;32m   1648\u001b[0m ):\n\u001b[1;32m   1649\u001b[0m     callbacks\u001b[38;5;241m.\u001b[39mon_train_batch_begin(step)\n\u001b[0;32m-> 1650\u001b[0m     tmp_logs \u001b[38;5;241m=\u001b[39m \u001b[38;5;28;43mself\u001b[39;49m\u001b[38;5;241;43m.\u001b[39;49m\u001b[43mtrain_function\u001b[49m\u001b[43m(\u001b[49m\u001b[43miterator\u001b[49m\u001b[43m)\u001b[49m\n\u001b[1;32m   1651\u001b[0m     \u001b[38;5;28;01mif\u001b[39;00m data_handler\u001b[38;5;241m.\u001b[39mshould_sync:\n\u001b[1;32m   1652\u001b[0m         context\u001b[38;5;241m.\u001b[39masync_wait()\n",
      "File \u001b[0;32m/opt/software/lib/python3.9/site-packages/tensorflow/python/util/traceback_utils.py:150\u001b[0m, in \u001b[0;36mfilter_traceback.<locals>.error_handler\u001b[0;34m(*args, **kwargs)\u001b[0m\n\u001b[1;32m    148\u001b[0m filtered_tb \u001b[38;5;241m=\u001b[39m \u001b[38;5;28;01mNone\u001b[39;00m\n\u001b[1;32m    149\u001b[0m \u001b[38;5;28;01mtry\u001b[39;00m:\n\u001b[0;32m--> 150\u001b[0m   \u001b[38;5;28;01mreturn\u001b[39;00m \u001b[43mfn\u001b[49m\u001b[43m(\u001b[49m\u001b[38;5;241;43m*\u001b[39;49m\u001b[43margs\u001b[49m\u001b[43m,\u001b[49m\u001b[43m \u001b[49m\u001b[38;5;241;43m*\u001b[39;49m\u001b[38;5;241;43m*\u001b[39;49m\u001b[43mkwargs\u001b[49m\u001b[43m)\u001b[49m\n\u001b[1;32m    151\u001b[0m \u001b[38;5;28;01mexcept\u001b[39;00m \u001b[38;5;167;01mException\u001b[39;00m \u001b[38;5;28;01mas\u001b[39;00m e:\n\u001b[1;32m    152\u001b[0m   filtered_tb \u001b[38;5;241m=\u001b[39m _process_traceback_frames(e\u001b[38;5;241m.\u001b[39m__traceback__)\n",
      "File \u001b[0;32m/opt/software/lib/python3.9/site-packages/tensorflow/python/eager/polymorphic_function/polymorphic_function.py:880\u001b[0m, in \u001b[0;36mFunction.__call__\u001b[0;34m(self, *args, **kwds)\u001b[0m\n\u001b[1;32m    877\u001b[0m compiler \u001b[38;5;241m=\u001b[39m \u001b[38;5;124m\"\u001b[39m\u001b[38;5;124mxla\u001b[39m\u001b[38;5;124m\"\u001b[39m \u001b[38;5;28;01mif\u001b[39;00m \u001b[38;5;28mself\u001b[39m\u001b[38;5;241m.\u001b[39m_jit_compile \u001b[38;5;28;01melse\u001b[39;00m \u001b[38;5;124m\"\u001b[39m\u001b[38;5;124mnonXla\u001b[39m\u001b[38;5;124m\"\u001b[39m\n\u001b[1;32m    879\u001b[0m \u001b[38;5;28;01mwith\u001b[39;00m OptionalXlaContext(\u001b[38;5;28mself\u001b[39m\u001b[38;5;241m.\u001b[39m_jit_compile):\n\u001b[0;32m--> 880\u001b[0m   result \u001b[38;5;241m=\u001b[39m \u001b[38;5;28;43mself\u001b[39;49m\u001b[38;5;241;43m.\u001b[39;49m\u001b[43m_call\u001b[49m\u001b[43m(\u001b[49m\u001b[38;5;241;43m*\u001b[39;49m\u001b[43margs\u001b[49m\u001b[43m,\u001b[49m\u001b[43m \u001b[49m\u001b[38;5;241;43m*\u001b[39;49m\u001b[38;5;241;43m*\u001b[39;49m\u001b[43mkwds\u001b[49m\u001b[43m)\u001b[49m\n\u001b[1;32m    882\u001b[0m new_tracing_count \u001b[38;5;241m=\u001b[39m \u001b[38;5;28mself\u001b[39m\u001b[38;5;241m.\u001b[39mexperimental_get_tracing_count()\n\u001b[1;32m    883\u001b[0m without_tracing \u001b[38;5;241m=\u001b[39m (tracing_count \u001b[38;5;241m==\u001b[39m new_tracing_count)\n",
      "File \u001b[0;32m/opt/software/lib/python3.9/site-packages/tensorflow/python/eager/polymorphic_function/polymorphic_function.py:912\u001b[0m, in \u001b[0;36mFunction._call\u001b[0;34m(self, *args, **kwds)\u001b[0m\n\u001b[1;32m    909\u001b[0m   \u001b[38;5;28mself\u001b[39m\u001b[38;5;241m.\u001b[39m_lock\u001b[38;5;241m.\u001b[39mrelease()\n\u001b[1;32m    910\u001b[0m   \u001b[38;5;66;03m# In this case we have created variables on the first call, so we run the\u001b[39;00m\n\u001b[1;32m    911\u001b[0m   \u001b[38;5;66;03m# defunned version which is guaranteed to never create variables.\u001b[39;00m\n\u001b[0;32m--> 912\u001b[0m   \u001b[38;5;28;01mreturn\u001b[39;00m \u001b[38;5;28;43mself\u001b[39;49m\u001b[38;5;241;43m.\u001b[39;49m\u001b[43m_no_variable_creation_fn\u001b[49m\u001b[43m(\u001b[49m\u001b[38;5;241;43m*\u001b[39;49m\u001b[43margs\u001b[49m\u001b[43m,\u001b[49m\u001b[43m \u001b[49m\u001b[38;5;241;43m*\u001b[39;49m\u001b[38;5;241;43m*\u001b[39;49m\u001b[43mkwds\u001b[49m\u001b[43m)\u001b[49m  \u001b[38;5;66;03m# pylint: disable=not-callable\u001b[39;00m\n\u001b[1;32m    913\u001b[0m \u001b[38;5;28;01melif\u001b[39;00m \u001b[38;5;28mself\u001b[39m\u001b[38;5;241m.\u001b[39m_variable_creation_fn \u001b[38;5;129;01mis\u001b[39;00m \u001b[38;5;129;01mnot\u001b[39;00m \u001b[38;5;28;01mNone\u001b[39;00m:\n\u001b[1;32m    914\u001b[0m   \u001b[38;5;66;03m# Release the lock early so that multiple threads can perform the call\u001b[39;00m\n\u001b[1;32m    915\u001b[0m   \u001b[38;5;66;03m# in parallel.\u001b[39;00m\n\u001b[1;32m    916\u001b[0m   \u001b[38;5;28mself\u001b[39m\u001b[38;5;241m.\u001b[39m_lock\u001b[38;5;241m.\u001b[39mrelease()\n",
      "File \u001b[0;32m/opt/software/lib/python3.9/site-packages/tensorflow/python/eager/polymorphic_function/tracing_compiler.py:134\u001b[0m, in \u001b[0;36mTracingCompiler.__call__\u001b[0;34m(self, *args, **kwargs)\u001b[0m\n\u001b[1;32m    131\u001b[0m \u001b[38;5;28;01mwith\u001b[39;00m \u001b[38;5;28mself\u001b[39m\u001b[38;5;241m.\u001b[39m_lock:\n\u001b[1;32m    132\u001b[0m   (concrete_function,\n\u001b[1;32m    133\u001b[0m    filtered_flat_args) \u001b[38;5;241m=\u001b[39m \u001b[38;5;28mself\u001b[39m\u001b[38;5;241m.\u001b[39m_maybe_define_function(args, kwargs)\n\u001b[0;32m--> 134\u001b[0m \u001b[38;5;28;01mreturn\u001b[39;00m \u001b[43mconcrete_function\u001b[49m\u001b[38;5;241;43m.\u001b[39;49m\u001b[43m_call_flat\u001b[49m\u001b[43m(\u001b[49m\n\u001b[1;32m    135\u001b[0m \u001b[43m    \u001b[49m\u001b[43mfiltered_flat_args\u001b[49m\u001b[43m,\u001b[49m\u001b[43m \u001b[49m\u001b[43mcaptured_inputs\u001b[49m\u001b[38;5;241;43m=\u001b[39;49m\u001b[43mconcrete_function\u001b[49m\u001b[38;5;241;43m.\u001b[39;49m\u001b[43mcaptured_inputs\u001b[49m\u001b[43m)\u001b[49m\n",
      "File \u001b[0;32m/opt/software/lib/python3.9/site-packages/tensorflow/python/eager/polymorphic_function/monomorphic_function.py:1745\u001b[0m, in \u001b[0;36mConcreteFunction._call_flat\u001b[0;34m(self, args, captured_inputs, cancellation_manager)\u001b[0m\n\u001b[1;32m   1741\u001b[0m possible_gradient_type \u001b[38;5;241m=\u001b[39m gradients_util\u001b[38;5;241m.\u001b[39mPossibleTapeGradientTypes(args)\n\u001b[1;32m   1742\u001b[0m \u001b[38;5;28;01mif\u001b[39;00m (possible_gradient_type \u001b[38;5;241m==\u001b[39m gradients_util\u001b[38;5;241m.\u001b[39mPOSSIBLE_GRADIENT_TYPES_NONE\n\u001b[1;32m   1743\u001b[0m     \u001b[38;5;129;01mand\u001b[39;00m executing_eagerly):\n\u001b[1;32m   1744\u001b[0m   \u001b[38;5;66;03m# No tape is watching; skip to running the function.\u001b[39;00m\n\u001b[0;32m-> 1745\u001b[0m   \u001b[38;5;28;01mreturn\u001b[39;00m \u001b[38;5;28mself\u001b[39m\u001b[38;5;241m.\u001b[39m_build_call_outputs(\u001b[38;5;28;43mself\u001b[39;49m\u001b[38;5;241;43m.\u001b[39;49m\u001b[43m_inference_function\u001b[49m\u001b[38;5;241;43m.\u001b[39;49m\u001b[43mcall\u001b[49m\u001b[43m(\u001b[49m\n\u001b[1;32m   1746\u001b[0m \u001b[43m      \u001b[49m\u001b[43mctx\u001b[49m\u001b[43m,\u001b[49m\u001b[43m \u001b[49m\u001b[43margs\u001b[49m\u001b[43m,\u001b[49m\u001b[43m \u001b[49m\u001b[43mcancellation_manager\u001b[49m\u001b[38;5;241;43m=\u001b[39;49m\u001b[43mcancellation_manager\u001b[49m\u001b[43m)\u001b[49m)\n\u001b[1;32m   1747\u001b[0m forward_backward \u001b[38;5;241m=\u001b[39m \u001b[38;5;28mself\u001b[39m\u001b[38;5;241m.\u001b[39m_select_forward_and_backward_functions(\n\u001b[1;32m   1748\u001b[0m     args,\n\u001b[1;32m   1749\u001b[0m     possible_gradient_type,\n\u001b[1;32m   1750\u001b[0m     executing_eagerly)\n\u001b[1;32m   1751\u001b[0m forward_function, args_with_tangents \u001b[38;5;241m=\u001b[39m forward_backward\u001b[38;5;241m.\u001b[39mforward()\n",
      "File \u001b[0;32m/opt/software/lib/python3.9/site-packages/tensorflow/python/eager/polymorphic_function/monomorphic_function.py:378\u001b[0m, in \u001b[0;36m_EagerDefinedFunction.call\u001b[0;34m(self, ctx, args, cancellation_manager)\u001b[0m\n\u001b[1;32m    376\u001b[0m \u001b[38;5;28;01mwith\u001b[39;00m _InterpolateFunctionError(\u001b[38;5;28mself\u001b[39m):\n\u001b[1;32m    377\u001b[0m   \u001b[38;5;28;01mif\u001b[39;00m cancellation_manager \u001b[38;5;129;01mis\u001b[39;00m \u001b[38;5;28;01mNone\u001b[39;00m:\n\u001b[0;32m--> 378\u001b[0m     outputs \u001b[38;5;241m=\u001b[39m \u001b[43mexecute\u001b[49m\u001b[38;5;241;43m.\u001b[39;49m\u001b[43mexecute\u001b[49m\u001b[43m(\u001b[49m\n\u001b[1;32m    379\u001b[0m \u001b[43m        \u001b[49m\u001b[38;5;28;43mstr\u001b[39;49m\u001b[43m(\u001b[49m\u001b[38;5;28;43mself\u001b[39;49m\u001b[38;5;241;43m.\u001b[39;49m\u001b[43msignature\u001b[49m\u001b[38;5;241;43m.\u001b[39;49m\u001b[43mname\u001b[49m\u001b[43m)\u001b[49m\u001b[43m,\u001b[49m\n\u001b[1;32m    380\u001b[0m \u001b[43m        \u001b[49m\u001b[43mnum_outputs\u001b[49m\u001b[38;5;241;43m=\u001b[39;49m\u001b[38;5;28;43mself\u001b[39;49m\u001b[38;5;241;43m.\u001b[39;49m\u001b[43m_num_outputs\u001b[49m\u001b[43m,\u001b[49m\n\u001b[1;32m    381\u001b[0m \u001b[43m        \u001b[49m\u001b[43minputs\u001b[49m\u001b[38;5;241;43m=\u001b[39;49m\u001b[43margs\u001b[49m\u001b[43m,\u001b[49m\n\u001b[1;32m    382\u001b[0m \u001b[43m        \u001b[49m\u001b[43mattrs\u001b[49m\u001b[38;5;241;43m=\u001b[39;49m\u001b[43mattrs\u001b[49m\u001b[43m,\u001b[49m\n\u001b[1;32m    383\u001b[0m \u001b[43m        \u001b[49m\u001b[43mctx\u001b[49m\u001b[38;5;241;43m=\u001b[39;49m\u001b[43mctx\u001b[49m\u001b[43m)\u001b[49m\n\u001b[1;32m    384\u001b[0m   \u001b[38;5;28;01melse\u001b[39;00m:\n\u001b[1;32m    385\u001b[0m     outputs \u001b[38;5;241m=\u001b[39m execute\u001b[38;5;241m.\u001b[39mexecute_with_cancellation(\n\u001b[1;32m    386\u001b[0m         \u001b[38;5;28mstr\u001b[39m(\u001b[38;5;28mself\u001b[39m\u001b[38;5;241m.\u001b[39msignature\u001b[38;5;241m.\u001b[39mname),\n\u001b[1;32m    387\u001b[0m         num_outputs\u001b[38;5;241m=\u001b[39m\u001b[38;5;28mself\u001b[39m\u001b[38;5;241m.\u001b[39m_num_outputs,\n\u001b[0;32m   (...)\u001b[0m\n\u001b[1;32m    390\u001b[0m         ctx\u001b[38;5;241m=\u001b[39mctx,\n\u001b[1;32m    391\u001b[0m         cancellation_manager\u001b[38;5;241m=\u001b[39mcancellation_manager)\n",
      "File \u001b[0;32m/opt/software/lib/python3.9/site-packages/tensorflow/python/eager/execute.py:52\u001b[0m, in \u001b[0;36mquick_execute\u001b[0;34m(op_name, num_outputs, inputs, attrs, ctx, name)\u001b[0m\n\u001b[1;32m     50\u001b[0m \u001b[38;5;28;01mtry\u001b[39;00m:\n\u001b[1;32m     51\u001b[0m   ctx\u001b[38;5;241m.\u001b[39mensure_initialized()\n\u001b[0;32m---> 52\u001b[0m   tensors \u001b[38;5;241m=\u001b[39m \u001b[43mpywrap_tfe\u001b[49m\u001b[38;5;241;43m.\u001b[39;49m\u001b[43mTFE_Py_Execute\u001b[49m\u001b[43m(\u001b[49m\u001b[43mctx\u001b[49m\u001b[38;5;241;43m.\u001b[39;49m\u001b[43m_handle\u001b[49m\u001b[43m,\u001b[49m\u001b[43m \u001b[49m\u001b[43mdevice_name\u001b[49m\u001b[43m,\u001b[49m\u001b[43m \u001b[49m\u001b[43mop_name\u001b[49m\u001b[43m,\u001b[49m\n\u001b[1;32m     53\u001b[0m \u001b[43m                                      \u001b[49m\u001b[43minputs\u001b[49m\u001b[43m,\u001b[49m\u001b[43m \u001b[49m\u001b[43mattrs\u001b[49m\u001b[43m,\u001b[49m\u001b[43m \u001b[49m\u001b[43mnum_outputs\u001b[49m\u001b[43m)\u001b[49m\n\u001b[1;32m     54\u001b[0m \u001b[38;5;28;01mexcept\u001b[39;00m core\u001b[38;5;241m.\u001b[39m_NotOkStatusException \u001b[38;5;28;01mas\u001b[39;00m e:\n\u001b[1;32m     55\u001b[0m   \u001b[38;5;28;01mif\u001b[39;00m name \u001b[38;5;129;01mis\u001b[39;00m \u001b[38;5;129;01mnot\u001b[39;00m \u001b[38;5;28;01mNone\u001b[39;00m:\n",
      "\u001b[0;31mKeyboardInterrupt\u001b[0m: "
     ]
    }
   ],
   "source": [
    "# fit model\n",
    "history = model.fit(X, X, epochs=10, batch_size=5, verbose=2, validation_split=0.2)"
   ]
  },
  {
   "cell_type": "code",
   "execution_count": null,
   "id": "cdd49310-bddd-457f-889f-27bef7715079",
   "metadata": {},
   "outputs": [],
   "source": [
    "# plot training and validation loss\n",
    "plt.plot(history.history['loss'], label='training loss')\n",
    "plt.plot(history.history['val_loss'], label='validation loss')\n",
    "plt.title('Training and Validation Loss')\n",
    "plt.xlabel('Epoch')\n",
    "plt.ylabel('Loss')\n",
    "plt.legend()\n",
    "plt.show()"
   ]
  },
  {
   "cell_type": "markdown",
   "id": "0b01d143-777d-46dd-a5c4-27c4f5e40440",
   "metadata": {},
   "source": [
    "# result analysis"
   ]
  },
  {
   "cell_type": "code",
   "execution_count": 16,
   "id": "18959c42-0c97-4d42-80c9-852f44f95428",
   "metadata": {
    "collapsed": true,
    "jupyter": {
     "outputs_hidden": true,
     "source_hidden": true
    },
    "tags": []
   },
   "outputs": [
    {
     "name": "stdout",
     "output_type": "stream",
     "text": [
      "\\begin{tabular}{ll}\n",
      "\\hline\n",
      " Variable         & Value   \\\\\n",
      "\\hline\n",
      " Model Summary    & Model: \"sequential\"\n",
      "\\_\\_\\_\\_\\_\\_\\_\\_\\_\\_\\_\\_\\_\\_\\_\\_\\_\\_\\_\\_\\_\\_\\_\\_\\_\\_\\_\\_\\_\\_\\_\\_\\_\\_\\_\\_\\_\\_\\_\\_\\_\\_\\_\\_\\_\\_\\_\\_\\_\\_\\_\\_\\_\\_\\_\\_\\_\\_\\_\\_\\_\\_\\_\\_\\_\n",
      " Layer (type)                Output Shape              Param \\#   \n",
      "=================================================================\n",
      " lstm (LSTM)                 (None, 10, 128)           154624    \n",
      "                                                                 \n",
      " lstm\\_1 (LSTM)               (None, 64)                49408     \n",
      "                                                                 \n",
      " repeat\\_vector (RepeatVector  (None, 10, 64)           0         \n",
      " )                                                               \n",
      "                                                                 \n",
      " lstm\\_2 (LSTM)               (None, 10, 64)            33024     \n",
      "                                                                 \n",
      " lstm\\_3 (LSTM)               (None, 10, 128)           98816     \n",
      "                                                                 \n",
      " time\\_distributed (TimeDistr  (None, 10, 173)          22317     \n",
      " ibuted)                                                         \n",
      "                                                                 \n",
      "=================================================================\n",
      "Total params: 358,189\n",
      "Trainable params: 358,189\n",
      "Non-trainable params: 0\n",
      "\\_\\_\\_\\_\\_\\_\\_\\_\\_\\_\\_\\_\\_\\_\\_\\_\\_\\_\\_\\_\\_\\_\\_\\_\\_\\_\\_\\_\\_\\_\\_\\_\\_\\_\\_\\_\\_\\_\\_\\_\\_\\_\\_\\_\\_\\_\\_\\_\\_\\_\\_\\_\\_\\_\\_\\_\\_\\_\\_\\_\\_\\_\\_\\_\\_         \\\\\n",
      " Predicted Values & [[[-0.     0.005  0.008 ...  0.001  0.003  0.001]\n",
      "  [-0.     0.007  0.014 ...  0.001  0.004  0.002]\n",
      "  [ 0.     0.006  0.015 ...  0.     0.003  0.002]\n",
      "  ...\n",
      "  [ 0.007  0.006  0.006 ...  0.003 -0.001 -0.002]\n",
      "  [ 0.006  0.011  0.008 ...  0.003  0.001 -0.003]\n",
      "  [ 0.005  0.017  0.012 ...  0.004  0.004 -0.004]]\n",
      "\n",
      " [[ 0.     0.006  0.006 ...  0.001  0.003  0.   ]\n",
      "  [ 0.     0.01   0.012 ...  0.001  0.004  0.002]\n",
      "  [ 0.     0.01   0.015 ... -0.001  0.004  0.003]\n",
      "  ...\n",
      "  [ 0.005  0.01   0.01  ...  0.002  0.    -0.002]\n",
      "  [ 0.006  0.013  0.011 ...  0.002  0.002 -0.002]\n",
      "  [ 0.006  0.015  0.012 ...  0.002  0.004 -0.002]]\n",
      "\n",
      " [[ 0.001  0.008  0.008 ...  0.001  0.003  0.   ]\n",
      "  [-0.     0.011  0.016 ...  0.     0.004  0.002]\n",
      "  [-0.001  0.005  0.015 ... -0.001  0.005  0.002]\n",
      "  ...\n",
      "  [ 0.003  0.009  0.018 ... -0.     0.003  0.   ]\n",
      "  [ 0.004  0.005  0.014 ...  0.     0.004  0.002]\n",
      "  [ 0.005  0.003  0.011 ...  0.001  0.005  0.002]]\n",
      "\n",
      " ...\n",
      "\n",
      " [[-0.     0.008  0.006 ...  0.001  0.002 -0.001]\n",
      "  [-0.     0.017  0.017 ...  0.002  0.001 -0.001]\n",
      "  [-0.001  0.023  0.025 ...  0.002 -0.    -0.001]\n",
      "  ...\n",
      "  [ 0.001  0.032  0.036 ...  0.002 -0.004 -0.003]\n",
      "  [ 0.001  0.037  0.038 ...  0.001 -0.006 -0.004]\n",
      "  [ 0.002  0.022  0.023 ...  0.    -0.005 -0.005]]\n",
      "\n",
      " [[ 0.     0.003  0.001 ...  0.001  0.001 -0.   ]\n",
      "  [ 0.     0.006  0.004 ...  0.001  0.001  0.   ]\n",
      "  [-0.     0.013  0.01  ...  0.001  0.001 -0.   ]\n",
      "  ...\n",
      "  [ 0.001  0.033  0.032 ...  0.001 -0.005 -0.003]\n",
      "  [ 0.001  0.028  0.031 ...  0.    -0.005 -0.001]\n",
      "  [-0.     0.023  0.032 ... -0.    -0.005 -0.   ]]\n",
      "\n",
      " [[ 0.001  0.004  0.003 ...  0.001  0.001 -0.   ]\n",
      "  [ 0.001  0.011  0.006 ...  0.     0.001 -0.   ]\n",
      "  [ 0.001  0.023  0.016 ...  0.001  0.001 -0.001]\n",
      "  ...\n",
      "  [ 0.001  0.025  0.025 ... -0.001 -0.002  0.   ]\n",
      "  [ 0.001  0.02   0.027 ... -0.001 -0.001  0.001]\n",
      "  [ 0.     0.017  0.03  ... -0.001 -0.001  0.001]]]         \\\\\n",
      " Actual Values    & [[[0 0 0 ... 0 0 0]\n",
      "  [0 0 0 ... 0 0 0]\n",
      "  [0 0 0 ... 0 0 0]\n",
      "  ...\n",
      "  [0 0 0 ... 0 0 0]\n",
      "  [0 0 0 ... 0 0 0]\n",
      "  [0 0 0 ... 0 0 0]]\n",
      "\n",
      " [[0 0 0 ... 0 0 0]\n",
      "  [0 0 0 ... 0 0 0]\n",
      "  [0 0 0 ... 0 0 0]\n",
      "  ...\n",
      "  [0 0 0 ... 0 0 0]\n",
      "  [0 0 0 ... 0 0 0]\n",
      "  [0 0 0 ... 0 0 0]]\n",
      "\n",
      " [[0 0 0 ... 0 0 0]\n",
      "  [0 0 0 ... 0 0 0]\n",
      "  [0 0 0 ... 0 0 0]\n",
      "  ...\n",
      "  [0 0 0 ... 0 0 0]\n",
      "  [0 0 0 ... 0 0 0]\n",
      "  [0 0 0 ... 0 0 0]]\n",
      "\n",
      " ...\n",
      "\n",
      " [[0 0 0 ... 0 0 0]\n",
      "  [0 0 0 ... 0 0 0]\n",
      "  [0 0 0 ... 0 0 0]\n",
      "  ...\n",
      "  [0 1 0 ... 0 0 0]\n",
      "  [0 0 0 ... 0 0 0]\n",
      "  [0 0 0 ... 0 0 0]]\n",
      "\n",
      " [[0 0 0 ... 0 0 0]\n",
      "  [0 0 0 ... 0 0 0]\n",
      "  [0 0 0 ... 0 0 0]\n",
      "  ...\n",
      "  [0 0 0 ... 0 0 0]\n",
      "  [0 0 0 ... 0 0 0]\n",
      "  [0 0 0 ... 0 0 0]]\n",
      "\n",
      " [[0 0 0 ... 0 0 0]\n",
      "  [0 0 0 ... 0 0 0]\n",
      "  [0 0 0 ... 0 0 0]\n",
      "  ...\n",
      "  [0 0 0 ... 0 0 0]\n",
      "  [0 0 0 ... 0 0 0]\n",
      "  [0 0 0 ... 0 0 0]]]         \\\\\n",
      "\\hline\n",
      "\\end{tabular}\n"
     ]
    }
   ],
   "source": [
    "from tabulate import tabulate\n",
    "\n",
    "# model summary\n",
    "model_summary = []\n",
    "model.summary(print_fn=lambda x: model_summary.append(x))\n",
    "model_summary = '\\n'.join(model_summary)\n",
    "\n",
    "# predicted and actual values\n",
    "predicted = np.round(yhat, 3)\n",
    "actual = np.round(X, 3)\n",
    "\n",
    "# create table\n",
    "table = [\n",
    "    ['Model Summary', model_summary],\n",
    "    ['Predicted Values', predicted],\n",
    "    ['Actual Values', actual]\n",
    "]\n",
    "\n",
    "# convert table to LaTeX format\n",
    "latex_table = tabulate(table, headers=['Variable', 'Value'], tablefmt='latex')\n",
    "\n",
    "# print LaTeX table\n",
    "print(latex_table)\n"
   ]
  },
  {
   "cell_type": "code",
   "execution_count": 20,
   "id": "00e984a4-e4b4-45f1-ba08-163cadb32d65",
   "metadata": {},
   "outputs": [],
   "source": [
    "# Reshape X and yhat to 2D arrays\n",
    "X_2d = X.reshape(X.shape[0]*timesteps, n_features)\n",
    "yhat_2d = yhat.reshape(X.shape[0]*timesteps, n_features)"
   ]
  },
  {
   "cell_type": "code",
   "execution_count": 21,
   "id": "b2289fab-1395-4e4b-a2db-06b289021405",
   "metadata": {},
   "outputs": [
    {
     "name": "stdout",
     "output_type": "stream",
     "text": [
      "MSE:  0.0033856726\n"
     ]
    }
   ],
   "source": [
    "# Calculate mean squared error\n",
    "mse = mean_squared_error(X_2d, yhat_2d)\n",
    "print(\"MSE: \", mse)"
   ]
  },
  {
   "cell_type": "code",
   "execution_count": 23,
   "id": "7970d5ad-2597-454d-b737-59e63cee446d",
   "metadata": {},
   "outputs": [
    {
     "name": "stdout",
     "output_type": "stream",
     "text": [
      "R2 score:  0.06690389884976325\n"
     ]
    }
   ],
   "source": [
    "from sklearn.metrics import r2_score\n",
    "r2 = r2_score(X_2d, yhat_2d)\n",
    "print(\"R2 score: \", r2)"
   ]
  },
  {
   "cell_type": "code",
   "execution_count": 41,
   "id": "a0e5ad53-f220-4465-953e-371d33597a28",
   "metadata": {},
   "outputs": [
    {
     "data": {
      "text/plain": [
       "110"
      ]
     },
     "execution_count": 41,
     "metadata": {},
     "output_type": "execute_result"
    }
   ],
   "source": [
    "np.argpartition(X[0][0],-1)[-1]"
   ]
  },
  {
   "cell_type": "code",
   "execution_count": 42,
   "id": "70704e44-56fa-4022-b559-833e9d71d7f5",
   "metadata": {},
   "outputs": [
    {
     "data": {
      "text/plain": [
       "array([ 58,  68, 113,  32,  76])"
      ]
     },
     "execution_count": 42,
     "metadata": {},
     "output_type": "execute_result"
    }
   ],
   "source": [
    "np.argpartition(yhat[0][0],-5)[-5:]"
   ]
  },
  {
   "cell_type": "code",
   "execution_count": 58,
   "id": "d5b16449-6e6f-47da-aed3-97b8a7c36a58",
   "metadata": {},
   "outputs": [
    {
     "data": {
      "text/plain": [
       "array([0.00485279, 0.00451607, 0.00409346, ..., 0.00446442, 0.00524236,\n",
       "       0.00528777], dtype=float32)"
      ]
     },
     "execution_count": 58,
     "metadata": {},
     "output_type": "execute_result"
    }
   ],
   "source": [
    "#reconstruction cost for the test set\n",
    "\n",
    "\n",
    "mse = np.mean(np.mean(np.power(X - yhat, 2), axis=1),axis=1)\n",
    "mse"
   ]
  },
  {
   "cell_type": "markdown",
   "id": "705c0cb9-03f5-40b2-b649-432886e6d205",
   "metadata": {},
   "source": [
    "# legacy"
   ]
  },
  {
   "cell_type": "code",
   "execution_count": null,
   "id": "99cc69cc-2ec3-4b3d-85a7-482386cde963",
   "metadata": {},
   "outputs": [],
   "source": []
  },
  {
   "cell_type": "code",
   "execution_count": 15,
   "id": "f05a8667-82f6-438c-93ac-8c9424279a16",
   "metadata": {
    "tags": []
   },
   "outputs": [
    {
     "name": "stdout",
     "output_type": "stream",
     "text": [
      "Epoch 1/5\n",
      "998/998 - 41s - loss: 0.0049 - 41s/epoch - 41ms/step\n",
      "Epoch 2/5\n",
      "998/998 - 32s - loss: 0.0043 - 32s/epoch - 32ms/step\n",
      "Epoch 3/5\n",
      "998/998 - 32s - loss: 0.0039 - 32s/epoch - 32ms/step\n",
      "Epoch 4/5\n",
      "998/998 - 32s - loss: 0.0037 - 32s/epoch - 32ms/step\n",
      "Epoch 5/5\n",
      "998/998 - 33s - loss: 0.0035 - 33s/epoch - 33ms/step\n",
      "---Predicted---\n",
      "[[[-0.     0.005  0.008 ...  0.001  0.003  0.001]\n",
      "  [-0.     0.007  0.014 ...  0.001  0.004  0.002]\n",
      "  [ 0.     0.006  0.015 ...  0.     0.003  0.002]\n",
      "  ...\n",
      "  [ 0.007  0.006  0.006 ...  0.003 -0.001 -0.002]\n",
      "  [ 0.006  0.011  0.008 ...  0.003  0.001 -0.003]\n",
      "  [ 0.005  0.017  0.012 ...  0.004  0.004 -0.004]]\n",
      "\n",
      " [[ 0.     0.006  0.006 ...  0.001  0.003  0.   ]\n",
      "  [ 0.     0.01   0.012 ...  0.001  0.004  0.002]\n",
      "  [ 0.     0.01   0.015 ... -0.001  0.004  0.003]\n",
      "  ...\n",
      "  [ 0.005  0.01   0.01  ...  0.002  0.    -0.002]\n",
      "  [ 0.006  0.013  0.011 ...  0.002  0.002 -0.002]\n",
      "  [ 0.006  0.015  0.012 ...  0.002  0.004 -0.002]]\n",
      "\n",
      " [[ 0.001  0.008  0.008 ...  0.001  0.003  0.   ]\n",
      "  [-0.     0.011  0.016 ...  0.     0.004  0.002]\n",
      "  [-0.001  0.005  0.015 ... -0.001  0.005  0.002]\n",
      "  ...\n",
      "  [ 0.003  0.009  0.018 ... -0.     0.003  0.   ]\n",
      "  [ 0.004  0.005  0.014 ...  0.     0.004  0.002]\n",
      "  [ 0.005  0.003  0.011 ...  0.001  0.005  0.002]]\n",
      "\n",
      " ...\n",
      "\n",
      " [[-0.     0.008  0.006 ...  0.001  0.002 -0.001]\n",
      "  [-0.     0.017  0.017 ...  0.002  0.001 -0.001]\n",
      "  [-0.001  0.023  0.025 ...  0.002 -0.    -0.001]\n",
      "  ...\n",
      "  [ 0.001  0.032  0.036 ...  0.002 -0.004 -0.003]\n",
      "  [ 0.001  0.037  0.038 ...  0.001 -0.006 -0.004]\n",
      "  [ 0.002  0.022  0.023 ...  0.    -0.005 -0.005]]\n",
      "\n",
      " [[ 0.     0.003  0.001 ...  0.001  0.001 -0.   ]\n",
      "  [ 0.     0.006  0.004 ...  0.001  0.001  0.   ]\n",
      "  [-0.     0.013  0.01  ...  0.001  0.001 -0.   ]\n",
      "  ...\n",
      "  [ 0.001  0.033  0.032 ...  0.001 -0.005 -0.003]\n",
      "  [ 0.001  0.028  0.031 ...  0.    -0.005 -0.001]\n",
      "  [-0.     0.023  0.032 ... -0.    -0.005 -0.   ]]\n",
      "\n",
      " [[ 0.001  0.004  0.003 ...  0.001  0.001 -0.   ]\n",
      "  [ 0.001  0.011  0.006 ...  0.     0.001 -0.   ]\n",
      "  [ 0.001  0.023  0.016 ...  0.001  0.001 -0.001]\n",
      "  ...\n",
      "  [ 0.001  0.025  0.025 ... -0.001 -0.002  0.   ]\n",
      "  [ 0.001  0.02   0.027 ... -0.001 -0.001  0.001]\n",
      "  [ 0.     0.017  0.03  ... -0.001 -0.001  0.001]]]\n",
      "---Actual---\n",
      "[[[0 0 0 ... 0 0 0]\n",
      "  [0 0 0 ... 0 0 0]\n",
      "  [0 0 0 ... 0 0 0]\n",
      "  ...\n",
      "  [0 0 0 ... 0 0 0]\n",
      "  [0 0 0 ... 0 0 0]\n",
      "  [0 0 0 ... 0 0 0]]\n",
      "\n",
      " [[0 0 0 ... 0 0 0]\n",
      "  [0 0 0 ... 0 0 0]\n",
      "  [0 0 0 ... 0 0 0]\n",
      "  ...\n",
      "  [0 0 0 ... 0 0 0]\n",
      "  [0 0 0 ... 0 0 0]\n",
      "  [0 0 0 ... 0 0 0]]\n",
      "\n",
      " [[0 0 0 ... 0 0 0]\n",
      "  [0 0 0 ... 0 0 0]\n",
      "  [0 0 0 ... 0 0 0]\n",
      "  ...\n",
      "  [0 0 0 ... 0 0 0]\n",
      "  [0 0 0 ... 0 0 0]\n",
      "  [0 0 0 ... 0 0 0]]\n",
      "\n",
      " ...\n",
      "\n",
      " [[0 0 0 ... 0 0 0]\n",
      "  [0 0 0 ... 0 0 0]\n",
      "  [0 0 0 ... 0 0 0]\n",
      "  ...\n",
      "  [0 1 0 ... 0 0 0]\n",
      "  [0 0 0 ... 0 0 0]\n",
      "  [0 0 0 ... 0 0 0]]\n",
      "\n",
      " [[0 0 0 ... 0 0 0]\n",
      "  [0 0 0 ... 0 0 0]\n",
      "  [0 0 0 ... 0 0 0]\n",
      "  ...\n",
      "  [0 0 0 ... 0 0 0]\n",
      "  [0 0 0 ... 0 0 0]\n",
      "  [0 0 0 ... 0 0 0]]\n",
      "\n",
      " [[0 0 0 ... 0 0 0]\n",
      "  [0 0 0 ... 0 0 0]\n",
      "  [0 0 0 ... 0 0 0]\n",
      "  ...\n",
      "  [0 0 0 ... 0 0 0]\n",
      "  [0 0 0 ... 0 0 0]\n",
      "  [0 0 0 ... 0 0 0]]]\n"
     ]
    }
   ],
   "source": [
    "# fit model\n",
    "model.fit(X, X, epochs=5, batch_size=5, verbose=2)\n",
    "# demonstrate reconstruction\n",
    "yhat = model.predict(X, verbose=0)\n",
    "print('---Predicted---')\n",
    "print(np.round(yhat,3))\n",
    "print('---Actual---')\n",
    "print(np.round(X, 3))"
   ]
  },
  {
   "cell_type": "code",
   "execution_count": 26,
   "id": "6535e7f7-c21d-4190-9d63-dbe89ea04906",
   "metadata": {
    "tags": []
   },
   "outputs": [],
   "source": [
    "#OLD\n",
    "\n",
    "\n",
    "import json\n",
    "import pandas as pd\n",
    "\n",
    "\n",
    "# Load data from JSON file and Convert data to pandas DataFrame\n",
    "df = pd.read_json('data.json', convert_dates=['timestamp'])\n"
   ]
  },
  {
   "cell_type": "code",
   "execution_count": 11,
   "id": "6653e514-7d54-4089-b1ce-b55e4dfc68d9",
   "metadata": {
    "tags": []
   },
   "outputs": [
    {
     "ename": "IndexError",
     "evalue": "tuple index out of range",
     "output_type": "error",
     "traceback": [
      "\u001b[0;31m---------------------------------------------------------------------------\u001b[0m",
      "\u001b[0;31mIndexError\u001b[0m                                Traceback (most recent call last)",
      "Input \u001b[0;32mIn [11]\u001b[0m, in \u001b[0;36m<cell line: 4>\u001b[0;34m()\u001b[0m\n\u001b[1;32m      1\u001b[0m \u001b[38;5;28;01mimport\u001b[39;00m \u001b[38;5;21;01mkeras\u001b[39;00m\n\u001b[1;32m      3\u001b[0m model \u001b[38;5;241m=\u001b[39m keras\u001b[38;5;241m.\u001b[39mSequential()\n\u001b[1;32m      4\u001b[0m model\u001b[38;5;241m.\u001b[39madd(keras\u001b[38;5;241m.\u001b[39mlayers\u001b[38;5;241m.\u001b[39mLSTM(\n\u001b[1;32m      5\u001b[0m     units\u001b[38;5;241m=\u001b[39m\u001b[38;5;241m64\u001b[39m,\n\u001b[0;32m----> 6\u001b[0m     input_shape\u001b[38;5;241m=\u001b[39m(X\u001b[38;5;241m.\u001b[39mshape[\u001b[38;5;241m1\u001b[39m], \u001b[43mX\u001b[49m\u001b[38;5;241;43m.\u001b[39;49m\u001b[43mshape\u001b[49m\u001b[43m[\u001b[49m\u001b[38;5;241;43m2\u001b[39;49m\u001b[43m]\u001b[49m)\n\u001b[1;32m      7\u001b[0m ))\n\u001b[1;32m      8\u001b[0m model\u001b[38;5;241m.\u001b[39madd(keras\u001b[38;5;241m.\u001b[39mlayers\u001b[38;5;241m.\u001b[39mDropout(rate\u001b[38;5;241m=\u001b[39m\u001b[38;5;241m0.2\u001b[39m))\n\u001b[1;32m      9\u001b[0m model\u001b[38;5;241m.\u001b[39madd(keras\u001b[38;5;241m.\u001b[39mlayers\u001b[38;5;241m.\u001b[39mRepeatVector(n\u001b[38;5;241m=\u001b[39mX_train\u001b[38;5;241m.\u001b[39mshape[\u001b[38;5;241m1\u001b[39m]))\n",
      "\u001b[0;31mIndexError\u001b[0m: tuple index out of range"
     ]
    }
   ],
   "source": [
    "import keras\n",
    "\n",
    "model = keras.Sequential()\n",
    "model.add(keras.layers.LSTM(\n",
    "    units=64,\n",
    "    input_shape=(X.shape[1], X.shape[2])\n",
    "))\n",
    "model.add(keras.layers.Dropout(rate=0.2))\n",
    "model.add(keras.layers.RepeatVector(n=X_train.shape[1]))\n",
    "model.add(keras.layers.LSTM(units=64, return_sequences=True))\n",
    "model.add(keras.layers.Dropout(rate=0.2))\n",
    "model.add(\n",
    "  keras.layers.TimeDistributed(\n",
    "    keras.layers.Dense(units=X_train.shape[2])\n",
    "  )\n",
    ")\n",
    "\n",
    "model.compile(loss='mae', optimizer='adam')"
   ]
  },
  {
   "cell_type": "code",
   "execution_count": 5,
   "id": "6ff948af-ca0d-46c9-9538-12506802c37c",
   "metadata": {
    "tags": []
   },
   "outputs": [
    {
     "data": {
      "text/plain": [
       "array(['latency', 'requestSize', 'requestMethod', 'responseSize',\n",
       "       'requestUrl', 'status', 'source_app'], dtype=object)"
      ]
     },
     "execution_count": 5,
     "metadata": {},
     "output_type": "execute_result"
    }
   ],
   "source": [
    "#from sklearn.preprocessing import MinMaxScaler\n",
    "\n",
    "# Convert categorical features to one-hot encoded format\n",
    "#df = pd.get_dummies(df, columns=['requestUrl', 'status', 'source_app','requestMethod'])\n",
    "\n",
    "# Normalize the numerical features\n",
    "#scaler = MinMaxScaler()\n",
    "#df[[\"latency\", \"requestSize\", \"responseSize\"]] = scaler.fit_transform(df[[\"latency\", \"requestSize\", \"responseSize\"]])\n",
    "#df.columns.values.astype(list)"
   ]
  },
  {
   "cell_type": "code",
   "execution_count": 16,
   "id": "c3986460-43ea-4036-b1bc-29660de47bc0",
   "metadata": {},
   "outputs": [
    {
     "name": "stdout",
     "output_type": "stream",
     "text": [
      "8/8 [==============================] - 1s 3ms/step\n",
      "Test MSE: latency                                                                                               0.011552\n",
      "requestSize                                                                                           0.003098\n",
      "responseSize                                                                                          0.053303\n",
      "requestUrl_http://adservice:9555/hipstershop.AdService/GetAds                                         0.063806\n",
      "requestUrl_http://cartservice:7070/hipstershop.CartService/AddItem                                    0.007903\n",
      "requestUrl_http://cartservice:7070/hipstershop.CartService/EmptyCart                                  0.000008\n",
      "requestUrl_http://cartservice:7070/hipstershop.CartService/GetCart                                    0.080683\n",
      "requestUrl_http://checkoutservice:5050/hipstershop.CheckoutService/PlaceOrder                         0.000004\n",
      "requestUrl_http://currencyservice:7000/hipstershop.CurrencyService/Convert                            0.136811\n",
      "requestUrl_http://currencyservice:7000/hipstershop.CurrencyService/GetSupportedCurrencies             0.080350\n",
      "requestUrl_http://emailservice:5000/hipstershop.EmailService/SendOrderConfirmation                    0.000008\n",
      "requestUrl_http://paymentservice:50051/hipstershop.PaymentService/Charge                              0.000009\n",
      "requestUrl_http://productcatalogservice:3550/hipstershop.ProductCatalogService/GetProduct             0.245808\n",
      "requestUrl_http://productcatalogservice:3550/hipstershop.ProductCatalogService/ListProducts           0.067597\n",
      "requestUrl_http://recommendationservice:8080/hipstershop.RecommendationService/ListRecommendations    0.062272\n",
      "requestUrl_http://shippingservice:50051/hipstershop.ShippingService/GetQuote                          0.007981\n",
      "requestUrl_http://shippingservice:50051/hipstershop.ShippingService/ShipOrder                         0.000005\n",
      "status_200                                                                                            0.000073\n",
      "source_app_checkoutservice                                                                            0.001262\n",
      "source_app_frontend                                                                                   0.064354\n",
      "source_app_recommendationservice                                                                      0.060172\n",
      "requestMethod_POST                                                                                    0.000049\n",
      "dtype: float64\n"
     ]
    },
    {
     "name": "stderr",
     "output_type": "stream",
     "text": [
      "/opt/software/lib/python3.9/site-packages/numpy/core/fromnumeric.py:3438: FutureWarning: In a future version, DataFrame.mean(axis=None) will return a scalar mean over the entire DataFrame. To retain the old behavior, use 'frame.mean(axis=0)' or just 'frame.mean()'\n",
      "  return mean(axis=axis, dtype=dtype, out=out, **kwargs)\n"
     ]
    }
   ],
   "source": [
    "\n",
    "test_array = np.array(test)\n",
    "test_array = np.reshape(test_array, (test_array.shape[0], 1, test_array.shape[1]))\n",
    "\n",
    "# Generate predictions on test data\n",
    "y_pred = model.predict(test_array)\n",
    "\n",
    "# Denormalize the predicted values\n",
    "y_pred_denorm = scaler.inverse_transform(y_pred)\n",
    "\n",
    "# Calculate the mean squared error\n",
    "mse = np.mean(np.square(test - y_pred_denorm))\n",
    "\n",
    "print('Test MSE:', mse)\n"
   ]
  },
  {
   "cell_type": "code",
   "execution_count": null,
   "id": "21e8e4ba-8ed5-4d26-8dd0-37441965ac5d",
   "metadata": {},
   "outputs": [],
   "source": []
  }
 ],
 "metadata": {
  "kernelspec": {
   "display_name": "Python 3",
   "language": "python",
   "name": "python3"
  },
  "language_info": {
   "codemirror_mode": {
    "name": "ipython",
    "version": 3
   },
   "file_extension": ".py",
   "mimetype": "text/x-python",
   "name": "python",
   "nbconvert_exporter": "python",
   "pygments_lexer": "ipython3",
   "version": "3.9.16"
  }
 },
 "nbformat": 4,
 "nbformat_minor": 5
}
