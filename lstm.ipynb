{
 "cells": [
  {
   "cell_type": "code",
   "execution_count": null,
   "id": "6535e7f7-c21d-4190-9d63-dbe89ea04906",
   "metadata": {},
   "outputs": [],
   "source": [
    "import json\n",
    "import pandas as pd\n",
    "\n",
    "\n",
    "# Load data from JSON file and Convert data to pandas DataFrame\n",
    "df = pd.read_json('data.json', convert_dates=['timestamp'])"
   ]
  },
  {
   "cell_type": "code",
   "execution_count": null,
   "id": "54d042fb-afef-4d84-992d-fdb89f67dd41",
   "metadata": {
    "jupyter": {
     "source_hidden": true
    },
    "tags": []
   },
   "outputs": [],
   "source": [
    "print(df.columns)"
   ]
  },
  {
   "cell_type": "code",
   "execution_count": null,
   "id": "9a1f3b4a-fba7-411a-a625-a7d6f6d76e1c",
   "metadata": {},
   "outputs": [],
   "source": [
    "# set timestamp as the index\n",
    "df.set_index('timestamp', inplace=True)\n",
    "# Sort the DataFrame by the index \n",
    "df = df.sort_index()"
   ]
  },
  {
   "cell_type": "code",
   "execution_count": null,
   "id": "6ff948af-ca0d-46c9-9538-12506802c37c",
   "metadata": {},
   "outputs": [],
   "source": [
    "from sklearn.preprocessing import MinMaxScaler\n",
    "\n",
    "# Convert categorical features to one-hot encoded format\n",
    "df = pd.get_dummies(df, columns=['requestUrl', 'status', 'source_app','requestMethod'])\n",
    "\n",
    "# Normalize the numerical features\n",
    "scaler = MinMaxScaler()\n",
    "df[[\"latency\", \"requestSize\", \"responseSize\",]] = scaler.fit_transform(df[[\"latency\", \"requestSize\", \"responseSize\"]])"
   ]
  },
  {
   "cell_type": "code",
   "execution_count": null,
   "id": "8e8ebb67-aa0f-4654-9578-c200932342d4",
   "metadata": {
    "jupyter": {
     "source_hidden": true
    },
    "tags": []
   },
   "outputs": [],
   "source": [
    "print(df.columns)"
   ]
  },
  {
   "cell_type": "code",
   "execution_count": null,
   "id": "98032597-4f59-4785-bead-d25775527248",
   "metadata": {},
   "outputs": [],
   "source": [
    "from sklearn.preprocessing import StandardScaler\n",
    "\n",
    "# Rescale the data using the training data\n",
    "scaler = StandardScaler()\n",
    "train_size = int(len(df) * 0.95)\n",
    "train = df[:train_size][df.columns]\n",
    "test = df[train_size:][df.columns]\n",
    "scaler.fit(train)\n",
    "df[df.columns] = scaler.transform(df[df.columns])"
   ]
  },
  {
   "cell_type": "code",
   "execution_count": null,
   "id": "989c7e81-f3a3-4822-833f-a363e3c771c5",
   "metadata": {},
   "outputs": [],
   "source": [
    "import tensorflow as tf\n",
    "from tensorflow.keras.layers import Input, LSTM, Dense\n",
    "from tensorflow.keras.models import Model\n",
    "\n",
    "# Load pre-processed data\n",
    "X = train\n",
    "\n",
    "# Define the model\n",
    "inputs = Input(shape=(X.shape[1], X.shape[2]))\n",
    "lstm1 = LSTM(64, return_sequences=True)(inputs)\n",
    "lstm2 = LSTM(32)(lstm1)\n",
    "dense1 = Dense(32, activation='relu')(lstm2)\n",
    "outputs = Dense(X.shape[2], activation='sigmoid')(dense1)\n",
    "model = Model(inputs=inputs, outputs=outputs)\n",
    "model.compile(loss='mse', optimizer='adam')\n",
    "\n",
    "# Train the model\n",
    "history = model.fit(X, X, epochs=100, batch_size=32, validation_split=0.1)\n"
   ]
  },
  {
   "cell_type": "code",
   "execution_count": null,
   "id": "c3986460-43ea-4036-b1bc-29660de47bc0",
   "metadata": {},
   "outputs": [],
   "source": [
    "# Generate predictions on test data\n",
    "y_pred = model.predict(test)\n",
    "\n",
    "# Denormalize the predicted values\n",
    "y_pred_denorm = scaler.inverse_transform(y_pred)\n",
    "\n",
    "# Calculate the mean squared error\n",
    "mse = np.mean(np.square(test - y_pred_denorm))\n",
    "\n",
    "print('Test MSE:', mse)\n"
   ]
  },
  {
   "cell_type": "code",
   "execution_count": null,
   "id": "21e8e4ba-8ed5-4d26-8dd0-37441965ac5d",
   "metadata": {},
   "outputs": [],
   "source": []
  }
 ],
 "metadata": {
  "kernelspec": {
   "display_name": "Python 3",
   "language": "python",
   "name": "python3"
  },
  "language_info": {
   "codemirror_mode": {
    "name": "ipython",
    "version": 3
   },
   "file_extension": ".py",
   "mimetype": "text/x-python",
   "name": "python",
   "nbconvert_exporter": "python",
   "pygments_lexer": "ipython3",
   "version": "3.9.16"
  }
 },
 "nbformat": 4,
 "nbformat_minor": 5
}
