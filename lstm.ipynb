{
  "cells": [
    {
      "cell_type": "code",
      "source": [
        "import tensorflow as tf\n",
        "from tensorflow.keras import layers\n",
        "\n",
        "import os\n",
        "import pandas as pd\n",
        "import json\n",
        "import numpy as np"
      ],
      "metadata": {
        "id": "aZ06re8w5-aY"
      },
      "id": "aZ06re8w5-aY",
      "execution_count": null,
      "outputs": []
    },
    {
      "cell_type": "markdown",
      "source": [
        "### vauth"
      ],
      "metadata": {
        "id": "7vxbc0Yg8le1"
      },
      "id": "7vxbc0Yg8le1"
    },
    {
      "cell_type": "code",
      "source": [
        "from google.colab import auth\n",
        "auth.authenticate_user()\n"
      ],
      "metadata": {
        "id": "PzJxt8VV8kxf"
      },
      "id": "PzJxt8VV8kxf",
      "execution_count": null,
      "outputs": []
    },
    {
      "cell_type": "markdown",
      "source": [
        "# preprosessing"
      ],
      "metadata": {
        "id": "N1jejr4U6Dcs"
      },
      "id": "N1jejr4U6Dcs"
    },
    {
      "cell_type": "markdown",
      "source": [
        "## extract features from files and make a dataframe"
      ],
      "metadata": {
        "id": "9-1tjNKO6HmP"
      },
      "id": "9-1tjNKO6HmP"
    },
    {
      "cell_type": "code",
      "source": [
        "#help function to import data as dataframes\n",
        "def import_to_df(folder, start, end): \n",
        "  \n",
        "  #preprosess filenames\n",
        "  filenamessorted = []\n",
        "  for filename in os.listdir(folder):\n",
        "      if (\"data\" not in filename):\n",
        "          continue\n",
        "      file_path = os.path.join(folder, filename)\n",
        "      with open(file_path) as f:\n",
        "        try: \n",
        "          entry = json.loads(f.readline())\n",
        "          filenamessorted.append((filename,entry['timestamp']))\n",
        "        except:\n",
        "          continue\n",
        "  filenamessorted.sort(key=lambda a: a[1])\n",
        "  files = [t[0] for t in filenamessorted]\n",
        "  filessliced = files[start:end]\n",
        " \n",
        "  print(filessliced)\n",
        "\n",
        "  data = []\n",
        "  errors = 0\n",
        "  for filename in filessliced:\n",
        "      file_path = os.path.join(folder, filename)\n",
        "      with open(file_path) as f:\n",
        "          # Extract the relevant features from each log entry\n",
        "          for line in f:\n",
        "              try:\n",
        "                  entry = json.loads(line)\n",
        "                  # Extract the relevant features from the entry and add them to the data list\n",
        "                  features = {'latency': entry['httpRequest']['latency'],\n",
        "                              'requestSize': entry['httpRequest']['requestSize'],\n",
        "                              'requestMethod': entry['httpRequest']['requestMethod'],\n",
        "                              'responseSize': entry['httpRequest']['responseSize'],\n",
        "                              'requestUrl': entry['httpRequest']['requestUrl'],\n",
        "                              'status': entry['httpRequest']['status'],\n",
        "                              'source_app': entry['labels']['source_app'],\n",
        "                              'timestamp': entry['timestamp']}\n",
        "                  data.append(features)\n",
        "              except json.JSONDecodeError:\n",
        "                  # Handle JSONDecodeError and continue to the next line\n",
        "                  errors += 1\n",
        "                  print(f\"Error decoding JSON in file {file_path}: {line}\")\n",
        "                  continue\n",
        "              except KeyError:\n",
        "                  # Error and continue to the next line\n",
        "                  errors += 1\n",
        "                  print(f\"KEY error in file {file_path}: {line}\")\n",
        "                  continue\n",
        "\n",
        "\n",
        "  # Convert the list of dictionaries into a DataFrame\n",
        "  print(\"Number of errors: \" + str(errors))\n",
        "  df = pd.DataFrame(data)\n",
        "\n",
        "  df['timestamp'] = pd.to_datetime(df['timestamp'], utc=True)\n",
        "  df.set_index('timestamp', inplace=True)\n",
        "  df = df.sort_index()\n",
        "\n",
        "  dforiginal = df.copy()\n",
        "  return df, dforiginal\n"
      ],
      "metadata": {
        "id": "bsPUQSp-5kpb"
      },
      "id": "bsPUQSp-5kpb",
      "execution_count": 112,
      "outputs": []
    },
    {
      "cell_type": "markdown",
      "source": [
        "## import train"
      ],
      "metadata": {
        "id": "qOuulQOpR0ib"
      },
      "id": "qOuulQOpR0ib"
    },
    {
      "cell_type": "code",
      "source": [
        "''' ---- real call:'''\n",
        "#train_df,train_dforiginal = import_to_df(\"/content/normal\",17,40);\n",
        "\n",
        "''' ---- testing calls:'''\n",
        "train_df,train_dforiginal = import_to_df(\"/content/normal\",17,22);\n",
        "train_df.shape"
      ],
      "metadata": {
        "colab": {
          "base_uri": "https://localhost:8080/"
        },
        "id": "sUF_zR0jR7qB",
        "outputId": "085be6db-3f6e-44b6-a133-0d969809ba48"
      },
      "id": "sUF_zR0jR7qB",
      "execution_count": 160,
      "outputs": [
        {
          "output_type": "stream",
          "name": "stdout",
          "text": [
            "['data000000000018', 'data000000000019', 'data000000000021', 'data000000000020', 'data000000000022']\n",
            "Number of errors: 0\n"
          ]
        },
        {
          "output_type": "execute_result",
          "data": {
            "text/plain": [
              "(234807, 7)"
            ]
          },
          "metadata": {},
          "execution_count": 160
        }
      ]
    },
    {
      "cell_type": "markdown",
      "source": [
        "## import test"
      ],
      "metadata": {
        "id": "XZtnlZ51R3dl"
      },
      "id": "XZtnlZ51R3dl"
    },
    {
      "cell_type": "code",
      "source": [
        "''' ---- real call: '''\n",
        "#test_df,test_dforiginal  = import_to_df(\"/content/anomaly\",39, 50);\n",
        "\n",
        "'''---- testing calls:\n",
        "'''\n",
        "test_df, test_dforiginal = import_to_df(\"/content/anomaly\",39,44);\n",
        "test_df.shape"
      ],
      "metadata": {
        "colab": {
          "base_uri": "https://localhost:8080/"
        },
        "id": "4Z2zq2e2SVo7",
        "outputId": "277b83e4-7b1b-4ea3-d9a1-7dd4252835eb"
      },
      "execution_count": 163,
      "outputs": [
        {
          "output_type": "stream",
          "name": "stdout",
          "text": [
            "['data-000000000046', 'data-000000000034', 'data-000000000030', 'data-000000000048', 'data-000000000043']\n",
            "Number of errors: 0\n"
          ]
        },
        {
          "output_type": "execute_result",
          "data": {
            "text/plain": [
              "(195606, 7)"
            ]
          },
          "metadata": {},
          "execution_count": 163
        }
      ],
      "id": "4Z2zq2e2SVo7"
    },
    {
      "cell_type": "markdown",
      "source": [
        "## Latency"
      ],
      "metadata": {
        "id": "ZV26tOIZyP94"
      },
      "id": "ZV26tOIZyP94"
    },
    {
      "cell_type": "markdown",
      "source": [
        "### plot"
      ],
      "metadata": {
        "id": "HAum_Ssf5oEV"
      },
      "id": "HAum_Ssf5oEV"
    },
    {
      "cell_type": "code",
      "source": [
        "import pandas as pd\n",
        "import numpy as np\n",
        "import matplotlib.pyplot as plt\n",
        "\n",
        "\n",
        "latency_mean = train_df['latency'].mean()\n",
        "latency_std = train_df['latency'].std()\n",
        "thresholds = []\n",
        "\n",
        "for i in range(4):\n",
        "\n",
        "# Define threshold for abnormal latency as three standard deviations away from the mean of TrainDF\n",
        "  thresholds.append(latency_mean + i*latency_std)\n",
        "\n",
        "# Define empty lists to store results\n",
        "train_labels_list = []\n",
        "train_fractions_list = []\n",
        "test_labels_list = []\n",
        "test_fractions_list = []\n",
        "\n",
        "# Loop over threshold values\n",
        "for threshold in thresholds:\n",
        "\n",
        "    train_df['latency_label'] = np.where(train_df['latency'] > threshold, 1, 0)\n",
        "    test_df['latency_label'] = np.where(test_df['latency'] > threshold, 1, 0)\n",
        "\n",
        "    # Compute fraction of abnormal latencies\n",
        "    train_fraction = train_df['latency_label'].value_counts()[1]/train_df.shape[0]\n",
        "    test_fraction = test_df['latency_label'].value_counts()[1]/test_df.shape[0]\n",
        "    #test_fraction = test_df['latency_label'].mean()\n",
        "\n",
        "    # Append results to lists\n",
        "    train_labels_list.append(train_df['latency_label'])\n",
        "    train_fractions_list.append(train_fraction)\n",
        "    test_labels_list.append(test_df['latency_label'])\n",
        "    test_fractions_list.append(test_fraction)\n",
        "\n",
        "\n",
        "# Plot results\n",
        "plt.plot(thresholds, train_fractions_list, label='Train')\n",
        "plt.plot(thresholds, test_fractions_list, label='Test')\n",
        "plt.legend()\n",
        "plt.xlabel('Threshold')\n",
        "plt.ylabel('Fraction of abnormal latencies')\n",
        "plt.show()\n",
        "\n",
        "# Create table of results\n",
        "results = pd.DataFrame({'Threshold': thresholds, 'Train Fraction': train_fractions_list, 'Test Fraction': test_fractions_list})\n",
        "print(results)\n"
      ],
      "metadata": {
        "id": "HORaB4Z_yOgE",
        "outputId": "f6d860e2-39c0-4ebb-b192-b653a7d3ebd5",
        "colab": {
          "base_uri": "https://localhost:8080/",
          "height": 541
        }
      },
      "id": "HORaB4Z_yOgE",
      "execution_count": 116,
      "outputs": [
        {
          "output_type": "display_data",
          "data": {
            "text/plain": [
              "<Figure size 640x480 with 1 Axes>"
            ],
            "image/png": "[encoded data removed]"
          },
          "metadata": {}
        },
        {
          "output_type": "stream",
          "name": "stdout",
          "text": [
            "   Threshold  Train Fraction  Test Fraction\n",
            "0   0.009487        0.165548       0.167446\n",
            "1   0.033471        0.110739       0.111746\n",
            "2   0.057456        0.061928       0.061611\n",
            "3   0.081440        0.012603       0.012920\n"
          ]
        }
      ]
    },
    {
      "cell_type": "code",
      "source": [
        "train_df['latency_label'].value_counts(),test_df['latency_label'].value_counts()"
      ],
      "metadata": {
        "id": "mBqZ5zmJzyVF",
        "outputId": "969e92e1-363d-4832-f2d6-8720e40801ba",
        "colab": {
          "base_uri": "https://localhost:8080/",
          "height": 617
        }
      },
      "id": "mBqZ5zmJzyVF",
      "execution_count": 157,
      "outputs": [
        {
          "output_type": "error",
          "ename": "KeyError",
          "evalue": "ignored",
          "traceback": [
            "\u001b[0;31m---------------------------------------------------------------------------\u001b[0m",
            "\u001b[0;31mKeyError\u001b[0m                                  Traceback (most recent call last)",
            "\u001b[0;32m/usr/local/lib/python3.10/dist-packages/pandas/core/indexes/base.py\u001b[0m in \u001b[0;36mget_loc\u001b[0;34m(self, key, method, tolerance)\u001b[0m\n\u001b[1;32m   3801\u001b[0m             \u001b[0;32mtry\u001b[0m\u001b[0;34m:\u001b[0m\u001b[0;34m\u001b[0m\u001b[0;34m\u001b[0m\u001b[0m\n\u001b[0;32m-> 3802\u001b[0;31m                 \u001b[0;32mreturn\u001b[0m \u001b[0mself\u001b[0m\u001b[0;34m.\u001b[0m\u001b[0m_engine\u001b[0m\u001b[0;34m.\u001b[0m\u001b[0mget_loc\u001b[0m\u001b[0;34m(\u001b[0m\u001b[0mcasted_key\u001b[0m\u001b[0;34m)\u001b[0m\u001b[0;34m\u001b[0m\u001b[0;34m\u001b[0m\u001b[0m\n\u001b[0m\u001b[1;32m   3803\u001b[0m             \u001b[0;32mexcept\u001b[0m \u001b[0mKeyError\u001b[0m \u001b[0;32mas\u001b[0m \u001b[0merr\u001b[0m\u001b[0;34m:\u001b[0m\u001b[0;34m\u001b[0m\u001b[0;34m\u001b[0m\u001b[0m\n",
            "\u001b[0;32m/usr/local/lib/python3.10/dist-packages/pandas/_libs/index.pyx\u001b[0m in \u001b[0;36mpandas._libs.index.IndexEngine.get_loc\u001b[0;34m()\u001b[0m\n",
            "\u001b[0;32m/usr/local/lib/python3.10/dist-packages/pandas/_libs/index.pyx\u001b[0m in \u001b[0;36mpandas._libs.index.IndexEngine.get_loc\u001b[0;34m()\u001b[0m\n",
            "\u001b[0;32mpandas/_libs/hashtable_class_helper.pxi\u001b[0m in \u001b[0;36mpandas._libs.hashtable.PyObjectHashTable.get_item\u001b[0;34m()\u001b[0m\n",
            "\u001b[0;32mpandas/_libs/hashtable_class_helper.pxi\u001b[0m in \u001b[0;36mpandas._libs.hashtable.PyObjectHashTable.get_item\u001b[0;34m()\u001b[0m\n",
            "\u001b[0;31mKeyError\u001b[0m: 'latency_label'",
            "\nThe above exception was the direct cause of the following exception:\n",
            "\u001b[0;31mKeyError\u001b[0m                                  Traceback (most recent call last)",
            "\u001b[0;32m<ipython-input-157-526293e32d19>\u001b[0m in \u001b[0;36m<cell line: 1>\u001b[0;34m()\u001b[0m\n\u001b[0;32m----> 1\u001b[0;31m \u001b[0mtrain_df\u001b[0m\u001b[0;34m[\u001b[0m\u001b[0;34m'latency_label'\u001b[0m\u001b[0;34m]\u001b[0m\u001b[0;34m.\u001b[0m\u001b[0mvalue_counts\u001b[0m\u001b[0;34m(\u001b[0m\u001b[0;34m)\u001b[0m\u001b[0;34m,\u001b[0m\u001b[0mtest_df\u001b[0m\u001b[0;34m[\u001b[0m\u001b[0;34m'latency_label'\u001b[0m\u001b[0;34m]\u001b[0m\u001b[0;34m.\u001b[0m\u001b[0mvalue_counts\u001b[0m\u001b[0;34m(\u001b[0m\u001b[0;34m)\u001b[0m\u001b[0;34m\u001b[0m\u001b[0;34m\u001b[0m\u001b[0m\n\u001b[0m",
            "\u001b[0;32m/usr/local/lib/python3.10/dist-packages/pandas/core/frame.py\u001b[0m in \u001b[0;36m__getitem__\u001b[0;34m(self, key)\u001b[0m\n\u001b[1;32m   3805\u001b[0m             \u001b[0;32mif\u001b[0m \u001b[0mself\u001b[0m\u001b[0;34m.\u001b[0m\u001b[0mcolumns\u001b[0m\u001b[0;34m.\u001b[0m\u001b[0mnlevels\u001b[0m \u001b[0;34m>\u001b[0m \u001b[0;36m1\u001b[0m\u001b[0;34m:\u001b[0m\u001b[0;34m\u001b[0m\u001b[0;34m\u001b[0m\u001b[0m\n\u001b[1;32m   3806\u001b[0m                 \u001b[0;32mreturn\u001b[0m \u001b[0mself\u001b[0m\u001b[0;34m.\u001b[0m\u001b[0m_getitem_multilevel\u001b[0m\u001b[0;34m(\u001b[0m\u001b[0mkey\u001b[0m\u001b[0;34m)\u001b[0m\u001b[0;34m\u001b[0m\u001b[0;34m\u001b[0m\u001b[0m\n\u001b[0;32m-> 3807\u001b[0;31m             \u001b[0mindexer\u001b[0m \u001b[0;34m=\u001b[0m \u001b[0mself\u001b[0m\u001b[0;34m.\u001b[0m\u001b[0mcolumns\u001b[0m\u001b[0;34m.\u001b[0m\u001b[0mget_loc\u001b[0m\u001b[0;34m(\u001b[0m\u001b[0mkey\u001b[0m\u001b[0;34m)\u001b[0m\u001b[0;34m\u001b[0m\u001b[0;34m\u001b[0m\u001b[0m\n\u001b[0m\u001b[1;32m   3808\u001b[0m             \u001b[0;32mif\u001b[0m \u001b[0mis_integer\u001b[0m\u001b[0;34m(\u001b[0m\u001b[0mindexer\u001b[0m\u001b[0;34m)\u001b[0m\u001b[0;34m:\u001b[0m\u001b[0;34m\u001b[0m\u001b[0;34m\u001b[0m\u001b[0m\n\u001b[1;32m   3809\u001b[0m                 \u001b[0mindexer\u001b[0m \u001b[0;34m=\u001b[0m \u001b[0;34m[\u001b[0m\u001b[0mindexer\u001b[0m\u001b[0;34m]\u001b[0m\u001b[0;34m\u001b[0m\u001b[0;34m\u001b[0m\u001b[0m\n",
            "\u001b[0;32m/usr/local/lib/python3.10/dist-packages/pandas/core/indexes/base.py\u001b[0m in \u001b[0;36mget_loc\u001b[0;34m(self, key, method, tolerance)\u001b[0m\n\u001b[1;32m   3802\u001b[0m                 \u001b[0;32mreturn\u001b[0m \u001b[0mself\u001b[0m\u001b[0;34m.\u001b[0m\u001b[0m_engine\u001b[0m\u001b[0;34m.\u001b[0m\u001b[0mget_loc\u001b[0m\u001b[0;34m(\u001b[0m\u001b[0mcasted_key\u001b[0m\u001b[0;34m)\u001b[0m\u001b[0;34m\u001b[0m\u001b[0;34m\u001b[0m\u001b[0m\n\u001b[1;32m   3803\u001b[0m             \u001b[0;32mexcept\u001b[0m \u001b[0mKeyError\u001b[0m \u001b[0;32mas\u001b[0m \u001b[0merr\u001b[0m\u001b[0;34m:\u001b[0m\u001b[0;34m\u001b[0m\u001b[0;34m\u001b[0m\u001b[0m\n\u001b[0;32m-> 3804\u001b[0;31m                 \u001b[0;32mraise\u001b[0m \u001b[0mKeyError\u001b[0m\u001b[0;34m(\u001b[0m\u001b[0mkey\u001b[0m\u001b[0;34m)\u001b[0m \u001b[0;32mfrom\u001b[0m \u001b[0merr\u001b[0m\u001b[0;34m\u001b[0m\u001b[0;34m\u001b[0m\u001b[0m\n\u001b[0m\u001b[1;32m   3805\u001b[0m             \u001b[0;32mexcept\u001b[0m \u001b[0mTypeError\u001b[0m\u001b[0;34m:\u001b[0m\u001b[0;34m\u001b[0m\u001b[0;34m\u001b[0m\u001b[0m\n\u001b[1;32m   3806\u001b[0m                 \u001b[0;31m# If we have a listlike key, _check_indexing_error will raise\u001b[0m\u001b[0;34m\u001b[0m\u001b[0;34m\u001b[0m\u001b[0m\n",
            "\u001b[0;31mKeyError\u001b[0m: 'latency_label'"
          ]
        }
      ]
    },
    {
      "cell_type": "markdown",
      "source": [
        "### determine"
      ],
      "metadata": {
        "id": "Fs3serfm55UH"
      },
      "id": "Fs3serfm55UH"
    },
    {
      "cell_type": "code",
      "source": [
        "latency_threshold = (latency_mean + 1*latency_std)\n",
        "\n",
        "train_df['latency_label'] = np.where(train_df['latency'] > latency_threshold, 1, 0)\n",
        "test_df['latency_label'] = np.where(test_df['latency'] > latency_threshold, 1, 0)\n"
      ],
      "metadata": {
        "id": "DNIAXCnW5wwu"
      },
      "id": "DNIAXCnW5wwu",
      "execution_count": 164,
      "outputs": []
    },
    {
      "cell_type": "markdown",
      "source": [
        "## backup and debugging"
      ],
      "metadata": {
        "id": "UidQOBjfXJPN"
      },
      "id": "UidQOBjfXJPN"
    },
    {
      "cell_type": "code",
      "execution_count": null,
      "id": "eee56b51-2f00-46c4-bb92-34139fb5786b",
      "metadata": {
        "colab": {
          "base_uri": "https://localhost:8080/"
        },
        "id": "eee56b51-2f00-46c4-bb92-34139fb5786b",
        "outputId": "c806ad40-1d69-42e3-e737-eb6291c42285"
      },
      "outputs": [
        {
          "output_type": "stream",
          "name": "stdout",
          "text": [
            "(10000, 7) 10000\n",
            "(10000, 7) 10000\n"
          ]
        }
      ],
      "source": [
        "print(train_dforiginal.shape, len(train_df))\n",
        "print(test_dforiginal.shape, len(test_df))\n"
      ]
    },
    {
      "cell_type": "code",
      "source": [
        "earliest_train = train_df.index.min()\n",
        "latest_train = train_df.index.max()\n",
        "earliest_test = test_df.index.min()\n",
        "latest_test = test_df.index.max()\n",
        "\n",
        "print(\"Earliest train timestamp:\", earliest_train)\n",
        "print(\"Latest train timestamp:\", latest_train)\n",
        "print(\"Earliest test timestamp:\", earliest_test)\n",
        "print(\"Latest test timestamp:\", latest_test)\n"
      ],
      "metadata": {
        "colab": {
          "base_uri": "https://localhost:8080/"
        },
        "id": "gGOhJS_zR9uU",
        "outputId": "79b36db4-1310-4f90-ef74-f1aa1573f181"
      },
      "id": "gGOhJS_zR9uU",
      "execution_count": null,
      "outputs": [
        {
          "output_type": "stream",
          "name": "stdout",
          "text": [
            "Earliest train timestamp: 2023-04-18 00:28:36.741168+00:00\n",
            "Latest train timestamp: 2023-04-18 00:57:39.686390+00:00\n",
            "Earliest test timestamp: 2023-04-21 00:07:40.949091+00:00\n",
            "Latest test timestamp: 2023-04-21 01:07:49.241144+00:00\n"
          ]
        }
      ]
    },
    {
      "cell_type": "code",
      "source": [
        "# in case of error\n",
        "train_df = train_dforiginal\n",
        "test_df = test_dforiginal\n",
        "\n",
        "print(train_df.head)\n",
        "print(test_df.head)"
      ],
      "metadata": {
        "id": "gGvQCW9nWkjt"
      },
      "id": "gGvQCW9nWkjt",
      "execution_count": null,
      "outputs": []
    },
    {
      "cell_type": "markdown",
      "source": [
        "## create keys and dummies"
      ],
      "metadata": {
        "id": "cxF-5KAKXLRZ"
      },
      "id": "cxF-5KAKXLRZ"
    },
    {
      "cell_type": "code",
      "source": [
        "train_df.to_csv('trainfinal.csv', index=True)\n",
        "test_df.to_csv('testfinal.csv', index=True)"
      ],
      "metadata": {
        "id": "bVs2LKb7rf8k"
      },
      "id": "bVs2LKb7rf8k",
      "execution_count": 120,
      "outputs": []
    },
    {
      "cell_type": "code",
      "execution_count": 165,
      "id": "9a1f3b4a-fba7-411a-a625-a7d6f6d76e1c",
      "metadata": {
        "id": "9a1f3b4a-fba7-411a-a625-a7d6f6d76e1c"
      },
      "outputs": [],
      "source": [
        "# concatenate the dataframes\n",
        "df_concat = pd.concat([test_df, train_df], axis=0)\n",
        "\n",
        "\n",
        "# create keys for both dataframes\n",
        "df_concat['key'] = df_concat.groupby(['latency_label', 'requestSize', 'requestMethod', 'responseSize',\n",
        "       'requestUrl', 'status', 'source_app'], dropna=False).ngroup()\n",
        "\n",
        "# get dummies for the 'key' column\n",
        "df_concat=df_concat[['key']]\n",
        "df_concat = pd.get_dummies(df_concat, columns=['key'])\n",
        "\n",
        "\n",
        "# split back into original dataframes\n",
        "test_df = df_concat.iloc[:len(test_df), :]\n",
        "train_df = df_concat.iloc[len(test_df):, :]"
      ]
    },
    {
      "cell_type": "code",
      "execution_count": 166,
      "id": "054aa215-7c50-41b9-91e3-c6710279bd5b",
      "metadata": {
        "id": "054aa215-7c50-41b9-91e3-c6710279bd5b",
        "colab": {
          "base_uri": "https://localhost:8080/"
        },
        "outputId": "ec2de68d-b025-4a7d-b694-11b2812086d5"
      },
      "outputs": [
        {
          "output_type": "stream",
          "name": "stdout",
          "text": [
            "(234807, 540)\n",
            "(195606, 540)\n",
            "                                  key_0  key_1  key_2  key_3  key_4  key_5  \\\n",
            "timestamp                                                                    \n",
            "2023-04-21 13:06:18.757041+00:00      0      0      0      0      0      0   \n",
            "2023-04-21 13:06:23.974268+00:00      0      0      0      0      0      0   \n",
            "2023-04-21 13:06:24.258780+00:00      0      0      0      0      0      0   \n",
            "2023-04-21 13:06:24.379785+00:00      0      0      0      0      0      0   \n",
            "2023-04-21 13:06:24.383645+00:00      0      0      0      0      0      0   \n",
            "\n",
            "                                  key_6  key_7  key_8  key_9  ...  key_530  \\\n",
            "timestamp                                                     ...            \n",
            "2023-04-21 13:06:18.757041+00:00      0      0      0      0  ...        0   \n",
            "2023-04-21 13:06:23.974268+00:00      0      0      0      0  ...        0   \n",
            "2023-04-21 13:06:24.258780+00:00      0      0      0      0  ...        0   \n",
            "2023-04-21 13:06:24.379785+00:00      0      0      0      0  ...        0   \n",
            "2023-04-21 13:06:24.383645+00:00      0      0      0      0  ...        0   \n",
            "\n",
            "                                  key_531  key_532  key_533  key_534  key_535  \\\n",
            "timestamp                                                                       \n",
            "2023-04-21 13:06:18.757041+00:00        0        0        0        0        0   \n",
            "2023-04-21 13:06:23.974268+00:00        0        0        0        0        0   \n",
            "2023-04-21 13:06:24.258780+00:00        0        0        0        0        0   \n",
            "2023-04-21 13:06:24.379785+00:00        0        0        0        0        0   \n",
            "2023-04-21 13:06:24.383645+00:00        0        0        0        0        0   \n",
            "\n",
            "                                  key_536  key_537  key_538  key_539  \n",
            "timestamp                                                             \n",
            "2023-04-21 13:06:18.757041+00:00        0        0        0        0  \n",
            "2023-04-21 13:06:23.974268+00:00        0        0        0        0  \n",
            "2023-04-21 13:06:24.258780+00:00        0        0        0        0  \n",
            "2023-04-21 13:06:24.379785+00:00        0        0        0        0  \n",
            "2023-04-21 13:06:24.383645+00:00        0        0        0        0  \n",
            "\n",
            "[5 rows x 540 columns]\n"
          ]
        }
      ],
      "source": [
        "print(train_df.shape)\n",
        "print(test_df.shape)\n",
        "print(test_df.head())"
      ]
    },
    {
      "cell_type": "markdown",
      "source": [
        "# AUTOENCODER"
      ],
      "metadata": {
        "id": "5aNuJy31zy9K"
      },
      "id": "5aNuJy31zy9K"
    },
    {
      "cell_type": "markdown",
      "source": [
        "## gpu test"
      ],
      "metadata": {
        "id": "PBd0DewyVlX7"
      },
      "id": "PBd0DewyVlX7"
    },
    {
      "cell_type": "code",
      "source": [
        "import tensorflow as tf\n",
        "\n",
        "gpus = tf.config.experimental.list_physical_devices('GPU')\n",
        "if gpus:\n",
        "    try:\n",
        "        for gpu in gpus:\n",
        "            tf.config.experimental.set_memory_growth(gpu, True)\n",
        "    except RuntimeError as e:\n",
        "        print(e)"
      ],
      "metadata": {
        "id": "H6OvhVJj9Uoi"
      },
      "id": "H6OvhVJj9Uoi",
      "execution_count": null,
      "outputs": []
    },
    {
      "cell_type": "code",
      "source": [
        "import tensorflow as tf\n",
        "device_name = tf.test.gpu_device_name()\n",
        "if device_name != '/device:GPU:0':\n",
        "  raise SystemError('GPU device not found')\n",
        "print('Found GPU at: {}'.format(device_name))\n",
        "tf.config.experimental.list_physical_devices('GPU')"
      ],
      "metadata": {
        "colab": {
          "base_uri": "https://localhost:8080/"
        },
        "id": "XdfD6s3loCUP",
        "outputId": "13e39d7c-9cee-4edb-af08-604f1a831dfd"
      },
      "id": "XdfD6s3loCUP",
      "execution_count": null,
      "outputs": [
        {
          "output_type": "stream",
          "name": "stdout",
          "text": [
            "Found GPU at: /device:GPU:0\n"
          ]
        },
        {
          "output_type": "execute_result",
          "data": {
            "text/plain": [
              "[PhysicalDevice(name='/physical_device:GPU:0', device_type='GPU')]"
            ]
          },
          "metadata": {},
          "execution_count": 12
        }
      ]
    },
    {
      "cell_type": "markdown",
      "source": [
        "## timeseries"
      ],
      "metadata": {
        "id": "UQwZkIaU0wut"
      },
      "id": "UQwZkIaU0wut"
    },
    {
      "cell_type": "code",
      "source": [
        "\n",
        "\n",
        "num_steps = 20\n",
        "features = train_df.shape[1]\n",
        "\n",
        "train_batches = (train_df.shape[0] // num_steps) * num_steps\n",
        "train_data = train_df.iloc[:train_batches]\n",
        "\n",
        "features = train_df.shape[1]\n",
        "x_train_shaped = np.reshape(train_data.to_numpy(), newshape=(-1, num_steps, features))\n"
      ],
      "metadata": {
        "id": "Cj80aj_fkZRK"
      },
      "id": "Cj80aj_fkZRK",
      "execution_count": 123,
      "outputs": []
    },
    {
      "cell_type": "code",
      "source": [
        "test_batches = (test_df.shape[0] // num_steps) * num_steps\n",
        "test_data = test_df.iloc[:test_batches]\n",
        "\n",
        "features = test_df.shape[1]\n",
        "x_test_shaped = np.reshape(test_data.to_numpy(), newshape=(-1, num_steps, features))\n"
      ],
      "metadata": {
        "id": "X9nQ8Uj10QZZ"
      },
      "id": "X9nQ8Uj10QZZ",
      "execution_count": 147,
      "outputs": []
    },
    {
      "cell_type": "code",
      "source": [
        "x_train_shaped.shape, x_test_shaped.shape"
      ],
      "metadata": {
        "colab": {
          "base_uri": "https://localhost:8080/"
        },
        "id": "VhwPznhCpfFl",
        "outputId": "5a70fa1e-5fab-43a1-dc84-d54bbe5a9901"
      },
      "id": "VhwPznhCpfFl",
      "execution_count": 127,
      "outputs": [
        {
          "output_type": "execute_result",
          "data": {
            "text/plain": [
              "((41714, 20, 615), (20174, 20, 615))"
            ]
          },
          "metadata": {},
          "execution_count": 127
        }
      ]
    },
    {
      "cell_type": "markdown",
      "source": [
        "## define model"
      ],
      "metadata": {
        "id": "x5NGuLqBjv-u"
      },
      "id": "x5NGuLqBjv-u"
    },
    {
      "cell_type": "code",
      "source": [
        "import keras\n",
        "from keras.models import Sequential\n",
        "from keras.layers import LSTM\n",
        "from keras.layers import RepeatVector\n",
        "from keras.layers import TimeDistributed\n",
        "from keras.layers import Dense\n",
        "\n",
        "\n",
        "# Define the model \n",
        "model = Sequential()\n",
        "\n",
        "# Encoder\n",
        "model.add(LSTM(128, activation='tanh', input_shape=(x_train_shaped.shape[1],x_train_shaped.shape[2]), return_sequences=True))\n",
        "model.add(LSTM(64, activation='tanh', return_sequences=False))\n",
        "model.add(RepeatVector(x_train_shaped.shape[1]))\n",
        "\n",
        "# Decoder\n",
        "model.add(LSTM(64, activation='tanh', return_sequences=True))\n",
        "model.add(LSTM(128, activation='tanh', return_sequences=True))\n",
        "model.add(TimeDistributed(Dense(x_train_shaped.shape[2])))\n",
        "\n",
        "model.compile(optimizer='adam', loss='mse',metrics=['accuracy'])\n",
        "model.summary()\n"
      ],
      "metadata": {
        "colab": {
          "base_uri": "https://localhost:8080/"
        },
        "id": "d4n9u8xUHlxZ",
        "outputId": "eb12bc2e-c044-43ad-fdbb-3ed312f0ff65"
      },
      "id": "d4n9u8xUHlxZ",
      "execution_count": 128,
      "outputs": [
        {
          "output_type": "stream",
          "name": "stdout",
          "text": [
            "Model: \"sequential_4\"\n",
            "_________________________________________________________________\n",
            " Layer (type)                Output Shape              Param #   \n",
            "=================================================================\n",
            " lstm_16 (LSTM)              (None, 20, 128)           380928    \n",
            "                                                                 \n",
            " lstm_17 (LSTM)              (None, 64)                49408     \n",
            "                                                                 \n",
            " repeat_vector_4 (RepeatVect  (None, 20, 64)           0         \n",
            " or)                                                             \n",
            "                                                                 \n",
            " lstm_18 (LSTM)              (None, 20, 64)            33024     \n",
            "                                                                 \n",
            " lstm_19 (LSTM)              (None, 20, 128)           98816     \n",
            "                                                                 \n",
            " time_distributed_4 (TimeDis  (None, 20, 615)          79335     \n",
            " tributed)                                                       \n",
            "                                                                 \n",
            "=================================================================\n",
            "Total params: 641,511\n",
            "Trainable params: 641,511\n",
            "Non-trainable params: 0\n",
            "_________________________________________________________________\n"
          ]
        }
      ]
    },
    {
      "cell_type": "code",
      "source": [
        "model.layers[0].input_shape\n"
      ],
      "metadata": {
        "colab": {
          "base_uri": "https://localhost:8080/"
        },
        "id": "yxLL35klpa0w",
        "outputId": "fb7782aa-d78b-4b53-8d95-a52e37a33f4a"
      },
      "id": "yxLL35klpa0w",
      "execution_count": 129,
      "outputs": [
        {
          "output_type": "execute_result",
          "data": {
            "text/plain": [
              "(None, 20, 615)"
            ]
          },
          "metadata": {},
          "execution_count": 129
        }
      ]
    },
    {
      "cell_type": "markdown",
      "source": [
        "### fit"
      ],
      "metadata": {
        "id": "YjBrS-zhy0mI"
      },
      "id": "YjBrS-zhy0mI"
    },
    {
      "cell_type": "code",
      "source": [
        "import matplotlib.pyplot as plt\n",
        "\n",
        "epochs = 250\n",
        "checkpoint_filepath = '/tmp/checkpoint'\n",
        "model_checkpoint_callback = tf.keras.callbacks.ModelCheckpoint(\n",
        "    filepath=checkpoint_filepath,\n",
        "    save_weights_only=True,\n",
        "    monitor='val_accuracy',\n",
        "    mode='max',\n",
        "    save_best_only=True)\n",
        "\n",
        "# Model weights are saved at the end of every epoch, if it's the best seen\n",
        "# so far.\n",
        "\n",
        "history = model.fit(x_train_shaped,x_train_shaped, epochs=epochs, validation_split=0.2, callbacks=[model_checkpoint_callback])\n",
        "\n",
        "# Plot training and validation loss over epochs\n",
        "loss = history.history['loss']\n",
        "val_loss = history.history['val_loss']\n",
        "epochs = range(len(loss))\n",
        "\n",
        "plt.figure()\n",
        "plt.plot(epochs, loss, 'r', label='Training loss')\n",
        "plt.plot(epochs, val_loss, 'b', label='Validation loss')\n",
        "plt.title('Training and validation loss')\n",
        "plt.legend()\n",
        "plt.show()"
      ],
      "metadata": {
        "colab": {
          "base_uri": "https://localhost:8080/",
          "height": 509
        },
        "id": "WV4tW8L7xGo_",
        "outputId": "9470721b-2847-4959-b3e4-85b9c919acb2"
      },
      "id": "WV4tW8L7xGo_",
      "execution_count": 170,
      "outputs": [
        {
          "output_type": "stream",
          "name": "stdout",
          "text": [
            "Epoch 1/250\n",
            " 304/1043 [=======>......................] - ETA: 7s - loss: 2.5502e-04 - accuracy: 0.8751"
          ]
        },
        {
          "output_type": "error",
          "ename": "KeyboardInterrupt",
          "evalue": "ignored",
          "traceback": [
            "\u001b[0;31m---------------------------------------------------------------------------\u001b[0m",
            "\u001b[0;31mKeyboardInterrupt\u001b[0m                         Traceback (most recent call last)",
            "\u001b[0;32m<ipython-input-170-d2441c60dbe7>\u001b[0m in \u001b[0;36m<cell line: 15>\u001b[0;34m()\u001b[0m\n\u001b[1;32m     13\u001b[0m \u001b[0;31m# so far.\u001b[0m\u001b[0;34m\u001b[0m\u001b[0;34m\u001b[0m\u001b[0m\n\u001b[1;32m     14\u001b[0m \u001b[0;34m\u001b[0m\u001b[0m\n\u001b[0;32m---> 15\u001b[0;31m \u001b[0mhistory\u001b[0m \u001b[0;34m=\u001b[0m \u001b[0mmodel\u001b[0m\u001b[0;34m.\u001b[0m\u001b[0mfit\u001b[0m\u001b[0;34m(\u001b[0m\u001b[0mx_train_shaped\u001b[0m\u001b[0;34m,\u001b[0m\u001b[0mx_train_shaped\u001b[0m\u001b[0;34m,\u001b[0m \u001b[0mepochs\u001b[0m\u001b[0;34m=\u001b[0m\u001b[0mepochs\u001b[0m\u001b[0;34m,\u001b[0m \u001b[0mvalidation_split\u001b[0m\u001b[0;34m=\u001b[0m\u001b[0;36m0.2\u001b[0m\u001b[0;34m,\u001b[0m \u001b[0mcallbacks\u001b[0m\u001b[0;34m=\u001b[0m\u001b[0;34m[\u001b[0m\u001b[0mmodel_checkpoint_callback\u001b[0m\u001b[0;34m]\u001b[0m\u001b[0;34m)\u001b[0m\u001b[0;34m\u001b[0m\u001b[0;34m\u001b[0m\u001b[0m\n\u001b[0m\u001b[1;32m     16\u001b[0m \u001b[0;34m\u001b[0m\u001b[0m\n\u001b[1;32m     17\u001b[0m \u001b[0;31m# Plot training and validation loss over epochs\u001b[0m\u001b[0;34m\u001b[0m\u001b[0;34m\u001b[0m\u001b[0m\n",
            "\u001b[0;32m/usr/local/lib/python3.10/dist-packages/keras/utils/traceback_utils.py\u001b[0m in \u001b[0;36merror_handler\u001b[0;34m(*args, **kwargs)\u001b[0m\n\u001b[1;32m     63\u001b[0m         \u001b[0mfiltered_tb\u001b[0m \u001b[0;34m=\u001b[0m \u001b[0;32mNone\u001b[0m\u001b[0;34m\u001b[0m\u001b[0;34m\u001b[0m\u001b[0m\n\u001b[1;32m     64\u001b[0m         \u001b[0;32mtry\u001b[0m\u001b[0;34m:\u001b[0m\u001b[0;34m\u001b[0m\u001b[0;34m\u001b[0m\u001b[0m\n\u001b[0;32m---> 65\u001b[0;31m             \u001b[0;32mreturn\u001b[0m \u001b[0mfn\u001b[0m\u001b[0;34m(\u001b[0m\u001b[0;34m*\u001b[0m\u001b[0margs\u001b[0m\u001b[0;34m,\u001b[0m \u001b[0;34m**\u001b[0m\u001b[0mkwargs\u001b[0m\u001b[0;34m)\u001b[0m\u001b[0;34m\u001b[0m\u001b[0;34m\u001b[0m\u001b[0m\n\u001b[0m\u001b[1;32m     66\u001b[0m         \u001b[0;32mexcept\u001b[0m \u001b[0mException\u001b[0m \u001b[0;32mas\u001b[0m \u001b[0me\u001b[0m\u001b[0;34m:\u001b[0m\u001b[0;34m\u001b[0m\u001b[0;34m\u001b[0m\u001b[0m\n\u001b[1;32m     67\u001b[0m             \u001b[0mfiltered_tb\u001b[0m \u001b[0;34m=\u001b[0m \u001b[0m_process_traceback_frames\u001b[0m\u001b[0;34m(\u001b[0m\u001b[0me\u001b[0m\u001b[0;34m.\u001b[0m\u001b[0m__traceback__\u001b[0m\u001b[0;34m)\u001b[0m\u001b[0;34m\u001b[0m\u001b[0;34m\u001b[0m\u001b[0m\n",
            "\u001b[0;32m/usr/local/lib/python3.10/dist-packages/keras/engine/training.py\u001b[0m in \u001b[0;36mfit\u001b[0;34m(self, x, y, batch_size, epochs, verbose, callbacks, validation_split, validation_data, shuffle, class_weight, sample_weight, initial_epoch, steps_per_epoch, validation_steps, validation_batch_size, validation_freq, max_queue_size, workers, use_multiprocessing)\u001b[0m\n\u001b[1;32m   1683\u001b[0m                         ):\n\u001b[1;32m   1684\u001b[0m                             \u001b[0mcallbacks\u001b[0m\u001b[0;34m.\u001b[0m\u001b[0mon_train_batch_begin\u001b[0m\u001b[0;34m(\u001b[0m\u001b[0mstep\u001b[0m\u001b[0;34m)\u001b[0m\u001b[0;34m\u001b[0m\u001b[0;34m\u001b[0m\u001b[0m\n\u001b[0;32m-> 1685\u001b[0;31m                             \u001b[0mtmp_logs\u001b[0m \u001b[0;34m=\u001b[0m \u001b[0mself\u001b[0m\u001b[0;34m.\u001b[0m\u001b[0mtrain_function\u001b[0m\u001b[0;34m(\u001b[0m\u001b[0miterator\u001b[0m\u001b[0;34m)\u001b[0m\u001b[0;34m\u001b[0m\u001b[0;34m\u001b[0m\u001b[0m\n\u001b[0m\u001b[1;32m   1686\u001b[0m                             \u001b[0;32mif\u001b[0m \u001b[0mdata_handler\u001b[0m\u001b[0;34m.\u001b[0m\u001b[0mshould_sync\u001b[0m\u001b[0;34m:\u001b[0m\u001b[0;34m\u001b[0m\u001b[0;34m\u001b[0m\u001b[0m\n\u001b[1;32m   1687\u001b[0m                                 \u001b[0mcontext\u001b[0m\u001b[0;34m.\u001b[0m\u001b[0masync_wait\u001b[0m\u001b[0;34m(\u001b[0m\u001b[0;34m)\u001b[0m\u001b[0;34m\u001b[0m\u001b[0;34m\u001b[0m\u001b[0m\n",
            "\u001b[0;32m/usr/local/lib/python3.10/dist-packages/tensorflow/python/util/traceback_utils.py\u001b[0m in \u001b[0;36merror_handler\u001b[0;34m(*args, **kwargs)\u001b[0m\n\u001b[1;32m    148\u001b[0m     \u001b[0mfiltered_tb\u001b[0m \u001b[0;34m=\u001b[0m \u001b[0;32mNone\u001b[0m\u001b[0;34m\u001b[0m\u001b[0;34m\u001b[0m\u001b[0m\n\u001b[1;32m    149\u001b[0m     \u001b[0;32mtry\u001b[0m\u001b[0;34m:\u001b[0m\u001b[0;34m\u001b[0m\u001b[0;34m\u001b[0m\u001b[0m\n\u001b[0;32m--> 150\u001b[0;31m       \u001b[0;32mreturn\u001b[0m \u001b[0mfn\u001b[0m\u001b[0;34m(\u001b[0m\u001b[0;34m*\u001b[0m\u001b[0margs\u001b[0m\u001b[0;34m,\u001b[0m \u001b[0;34m**\u001b[0m\u001b[0mkwargs\u001b[0m\u001b[0;34m)\u001b[0m\u001b[0;34m\u001b[0m\u001b[0;34m\u001b[0m\u001b[0m\n\u001b[0m\u001b[1;32m    151\u001b[0m     \u001b[0;32mexcept\u001b[0m \u001b[0mException\u001b[0m \u001b[0;32mas\u001b[0m \u001b[0me\u001b[0m\u001b[0;34m:\u001b[0m\u001b[0;34m\u001b[0m\u001b[0;34m\u001b[0m\u001b[0m\n\u001b[1;32m    152\u001b[0m       \u001b[0mfiltered_tb\u001b[0m \u001b[0;34m=\u001b[0m \u001b[0m_process_traceback_frames\u001b[0m\u001b[0;34m(\u001b[0m\u001b[0me\u001b[0m\u001b[0;34m.\u001b[0m\u001b[0m__traceback__\u001b[0m\u001b[0;34m)\u001b[0m\u001b[0;34m\u001b[0m\u001b[0;34m\u001b[0m\u001b[0m\n",
            "\u001b[0;32m/usr/local/lib/python3.10/dist-packages/tensorflow/python/eager/polymorphic_function/polymorphic_function.py\u001b[0m in \u001b[0;36m__call__\u001b[0;34m(self, *args, **kwds)\u001b[0m\n\u001b[1;32m    892\u001b[0m \u001b[0;34m\u001b[0m\u001b[0m\n\u001b[1;32m    893\u001b[0m       \u001b[0;32mwith\u001b[0m \u001b[0mOptionalXlaContext\u001b[0m\u001b[0;34m(\u001b[0m\u001b[0mself\u001b[0m\u001b[0;34m.\u001b[0m\u001b[0m_jit_compile\u001b[0m\u001b[0;34m)\u001b[0m\u001b[0;34m:\u001b[0m\u001b[0;34m\u001b[0m\u001b[0;34m\u001b[0m\u001b[0m\n\u001b[0;32m--> 894\u001b[0;31m         \u001b[0mresult\u001b[0m \u001b[0;34m=\u001b[0m \u001b[0mself\u001b[0m\u001b[0;34m.\u001b[0m\u001b[0m_call\u001b[0m\u001b[0;34m(\u001b[0m\u001b[0;34m*\u001b[0m\u001b[0margs\u001b[0m\u001b[0;34m,\u001b[0m \u001b[0;34m**\u001b[0m\u001b[0mkwds\u001b[0m\u001b[0;34m)\u001b[0m\u001b[0;34m\u001b[0m\u001b[0;34m\u001b[0m\u001b[0m\n\u001b[0m\u001b[1;32m    895\u001b[0m \u001b[0;34m\u001b[0m\u001b[0m\n\u001b[1;32m    896\u001b[0m       \u001b[0mnew_tracing_count\u001b[0m \u001b[0;34m=\u001b[0m \u001b[0mself\u001b[0m\u001b[0;34m.\u001b[0m\u001b[0mexperimental_get_tracing_count\u001b[0m\u001b[0;34m(\u001b[0m\u001b[0;34m)\u001b[0m\u001b[0;34m\u001b[0m\u001b[0;34m\u001b[0m\u001b[0m\n",
            "\u001b[0;32m/usr/local/lib/python3.10/dist-packages/tensorflow/python/eager/polymorphic_function/polymorphic_function.py\u001b[0m in \u001b[0;36m_call\u001b[0;34m(self, *args, **kwds)\u001b[0m\n\u001b[1;32m    924\u001b[0m       \u001b[0;31m# In this case we have created variables on the first call, so we run the\u001b[0m\u001b[0;34m\u001b[0m\u001b[0;34m\u001b[0m\u001b[0m\n\u001b[1;32m    925\u001b[0m       \u001b[0;31m# defunned version which is guaranteed to never create variables.\u001b[0m\u001b[0;34m\u001b[0m\u001b[0;34m\u001b[0m\u001b[0m\n\u001b[0;32m--> 926\u001b[0;31m       \u001b[0;32mreturn\u001b[0m \u001b[0mself\u001b[0m\u001b[0;34m.\u001b[0m\u001b[0m_no_variable_creation_fn\u001b[0m\u001b[0;34m(\u001b[0m\u001b[0;34m*\u001b[0m\u001b[0margs\u001b[0m\u001b[0;34m,\u001b[0m \u001b[0;34m**\u001b[0m\u001b[0mkwds\u001b[0m\u001b[0;34m)\u001b[0m  \u001b[0;31m# pylint: disable=not-callable\u001b[0m\u001b[0;34m\u001b[0m\u001b[0;34m\u001b[0m\u001b[0m\n\u001b[0m\u001b[1;32m    927\u001b[0m     \u001b[0;32melif\u001b[0m \u001b[0mself\u001b[0m\u001b[0;34m.\u001b[0m\u001b[0m_variable_creation_fn\u001b[0m \u001b[0;32mis\u001b[0m \u001b[0;32mnot\u001b[0m \u001b[0;32mNone\u001b[0m\u001b[0;34m:\u001b[0m\u001b[0;34m\u001b[0m\u001b[0;34m\u001b[0m\u001b[0m\n\u001b[1;32m    928\u001b[0m       \u001b[0;31m# Release the lock early so that multiple threads can perform the call\u001b[0m\u001b[0;34m\u001b[0m\u001b[0;34m\u001b[0m\u001b[0m\n",
            "\u001b[0;32m/usr/local/lib/python3.10/dist-packages/tensorflow/python/eager/polymorphic_function/tracing_compiler.py\u001b[0m in \u001b[0;36m__call__\u001b[0;34m(self, *args, **kwargs)\u001b[0m\n\u001b[1;32m    141\u001b[0m       (concrete_function,\n\u001b[1;32m    142\u001b[0m        filtered_flat_args) = self._maybe_define_function(args, kwargs)\n\u001b[0;32m--> 143\u001b[0;31m     return concrete_function._call_flat(\n\u001b[0m\u001b[1;32m    144\u001b[0m         filtered_flat_args, captured_inputs=concrete_function.captured_inputs)  # pylint: disable=protected-access\n\u001b[1;32m    145\u001b[0m \u001b[0;34m\u001b[0m\u001b[0m\n",
            "\u001b[0;32m/usr/local/lib/python3.10/dist-packages/tensorflow/python/eager/polymorphic_function/monomorphic_function.py\u001b[0m in \u001b[0;36m_call_flat\u001b[0;34m(self, args, captured_inputs, cancellation_manager)\u001b[0m\n\u001b[1;32m   1755\u001b[0m         and executing_eagerly):\n\u001b[1;32m   1756\u001b[0m       \u001b[0;31m# No tape is watching; skip to running the function.\u001b[0m\u001b[0;34m\u001b[0m\u001b[0;34m\u001b[0m\u001b[0m\n\u001b[0;32m-> 1757\u001b[0;31m       return self._build_call_outputs(self._inference_function.call(\n\u001b[0m\u001b[1;32m   1758\u001b[0m           ctx, args, cancellation_manager=cancellation_manager))\n\u001b[1;32m   1759\u001b[0m     forward_backward = self._select_forward_and_backward_functions(\n",
            "\u001b[0;32m/usr/local/lib/python3.10/dist-packages/tensorflow/python/eager/polymorphic_function/monomorphic_function.py\u001b[0m in \u001b[0;36mcall\u001b[0;34m(self, ctx, args, cancellation_manager)\u001b[0m\n\u001b[1;32m    379\u001b[0m       \u001b[0;32mwith\u001b[0m \u001b[0m_InterpolateFunctionError\u001b[0m\u001b[0;34m(\u001b[0m\u001b[0mself\u001b[0m\u001b[0;34m)\u001b[0m\u001b[0;34m:\u001b[0m\u001b[0;34m\u001b[0m\u001b[0;34m\u001b[0m\u001b[0m\n\u001b[1;32m    380\u001b[0m         \u001b[0;32mif\u001b[0m \u001b[0mcancellation_manager\u001b[0m \u001b[0;32mis\u001b[0m \u001b[0;32mNone\u001b[0m\u001b[0;34m:\u001b[0m\u001b[0;34m\u001b[0m\u001b[0;34m\u001b[0m\u001b[0m\n\u001b[0;32m--> 381\u001b[0;31m           outputs = execute.execute(\n\u001b[0m\u001b[1;32m    382\u001b[0m               \u001b[0mstr\u001b[0m\u001b[0;34m(\u001b[0m\u001b[0mself\u001b[0m\u001b[0;34m.\u001b[0m\u001b[0msignature\u001b[0m\u001b[0;34m.\u001b[0m\u001b[0mname\u001b[0m\u001b[0;34m)\u001b[0m\u001b[0;34m,\u001b[0m\u001b[0;34m\u001b[0m\u001b[0;34m\u001b[0m\u001b[0m\n\u001b[1;32m    383\u001b[0m               \u001b[0mnum_outputs\u001b[0m\u001b[0;34m=\u001b[0m\u001b[0mself\u001b[0m\u001b[0;34m.\u001b[0m\u001b[0m_num_outputs\u001b[0m\u001b[0;34m,\u001b[0m\u001b[0;34m\u001b[0m\u001b[0;34m\u001b[0m\u001b[0m\n",
            "\u001b[0;32m/usr/local/lib/python3.10/dist-packages/tensorflow/python/eager/execute.py\u001b[0m in \u001b[0;36mquick_execute\u001b[0;34m(op_name, num_outputs, inputs, attrs, ctx, name)\u001b[0m\n\u001b[1;32m     50\u001b[0m   \u001b[0;32mtry\u001b[0m\u001b[0;34m:\u001b[0m\u001b[0;34m\u001b[0m\u001b[0;34m\u001b[0m\u001b[0m\n\u001b[1;32m     51\u001b[0m     \u001b[0mctx\u001b[0m\u001b[0;34m.\u001b[0m\u001b[0mensure_initialized\u001b[0m\u001b[0;34m(\u001b[0m\u001b[0;34m)\u001b[0m\u001b[0;34m\u001b[0m\u001b[0;34m\u001b[0m\u001b[0m\n\u001b[0;32m---> 52\u001b[0;31m     tensors = pywrap_tfe.TFE_Py_Execute(ctx._handle, device_name, op_name,\n\u001b[0m\u001b[1;32m     53\u001b[0m                                         inputs, attrs, num_outputs)\n\u001b[1;32m     54\u001b[0m   \u001b[0;32mexcept\u001b[0m \u001b[0mcore\u001b[0m\u001b[0;34m.\u001b[0m\u001b[0m_NotOkStatusException\u001b[0m \u001b[0;32mas\u001b[0m \u001b[0me\u001b[0m\u001b[0;34m:\u001b[0m\u001b[0;34m\u001b[0m\u001b[0;34m\u001b[0m\u001b[0m\n",
            "\u001b[0;31mKeyboardInterrupt\u001b[0m: "
          ]
        }
      ]
    },
    {
      "cell_type": "code",
      "source": [
        "import matplotlib.pyplot as plt\n",
        "\n",
        "# load the best weights\n",
        "model.load_weights(checkpoint_filepath)\n",
        "\n",
        "# Get the value of the validation accuracy at each epoch\n",
        "val_acc = history.history['val_accuracy']\n",
        "\n",
        "# Get the epoch with the highest validation accuracy\n",
        "best_epoch = np.argmax(val_acc)\n",
        "\n",
        "# plot accuracy\n",
        "plt.plot(model.history.history['accuracy'])\n",
        "plt.plot(model.history.history['val_accuracy'])\n",
        "plt.title('Model accuracy')\n",
        "plt.ylabel('Accuracy')\n",
        "plt.xlabel('Epoch')\n",
        "plt.legend(['Train', 'Validation'], loc='upper left')\n",
        "plt.show()\n"
      ],
      "metadata": {
        "colab": {
          "base_uri": "https://localhost:8080/",
          "height": 472
        },
        "id": "zufSrS6XQFH0",
        "outputId": "248f92b4-a47d-485e-cf05-c66ce808bb06"
      },
      "id": "zufSrS6XQFH0",
      "execution_count": 131,
      "outputs": [
        {
          "output_type": "display_data",
          "data": {
            "text/plain": [
              "<Figure size 640x480 with 1 Axes>"
            ],
            "image/png": "[encoded data removed]"
          },
          "metadata": {}
        }
      ]
    },
    {
      "cell_type": "code",
      "source": [
        "import matplotlib.pyplot as plt\n",
        "import numpy as np\n",
        "\n",
        "# Assuming you have already defined val_acc and best_epoch as shown in the previous code snippet\n",
        "\n",
        "# Plot validation accuracy vs. epoch\n",
        "epochs = range(1, len(val_acc) + 1)\n",
        "plt.plot(epochs, val_acc, 'b', label='Validation accuracy')\n",
        "\n",
        "# Add a point at the best epoch\n",
        "best_val_acc = val_acc[best_epoch]\n",
        "plt.plot(best_epoch + 1, best_val_acc, 'bo', label=f'Best epoch ({best_epoch + 1}, {best_val_acc:.2f})')\n",
        "\n",
        "# Add labels and legend\n",
        "plt.title('Validation accuracy')\n",
        "plt.xlabel('Epoch')\n",
        "plt.ylabel('Accuracy')\n",
        "plt.legend()\n",
        "\n",
        "plt.show()\n"
      ],
      "metadata": {
        "colab": {
          "base_uri": "https://localhost:8080/",
          "height": 472
        },
        "id": "BEGN0QkzSAu4",
        "outputId": "7df2dbc6-0757-4e91-d97c-d47db61cb47f"
      },
      "id": "BEGN0QkzSAu4",
      "execution_count": 132,
      "outputs": [
        {
          "output_type": "display_data",
          "data": {
            "text/plain": [
              "<Figure size 640x480 with 1 Axes>"
            ],
            "image/png": "[encoded data removed]"
          },
          "metadata": {}
        }
      ]
    },
    {
      "cell_type": "markdown",
      "source": [
        "### predict train"
      ],
      "metadata": {
        "id": "m-9YUXIxyywL"
      },
      "id": "m-9YUXIxyywL"
    },
    {
      "cell_type": "code",
      "source": [
        "X_pred = model.predict(x_train_shaped)\n",
        "X_pred_test = model.predict(x_test_shaped)\n",
        "model.save('model{}.h5'.format(timesteps))"
      ],
      "metadata": {
        "colab": {
          "base_uri": "https://localhost:8080/"
        },
        "id": "toMD7PI2tDUC",
        "outputId": "ef32a82e-1c18-4886-af70-3fddc9ae86bd"
      },
      "id": "toMD7PI2tDUC",
      "execution_count": 133,
      "outputs": [
        {
          "output_type": "stream",
          "name": "stdout",
          "text": [
            "1304/1304 [==============================] - 7s 4ms/step\n"
          ]
        }
      ]
    },
    {
      "cell_type": "markdown",
      "source": [
        "### Predict test"
      ],
      "metadata": {
        "id": "c47rtlh7yvYO"
      },
      "id": "c47rtlh7yvYO"
    },
    {
      "cell_type": "code",
      "source": [],
      "metadata": {
        "colab": {
          "base_uri": "https://localhost:8080/"
        },
        "id": "d7jNFWIRDSe_",
        "outputId": "bbbaa349-dccd-4e43-a7ce-c8c92b19cffd"
      },
      "id": "d7jNFWIRDSe_",
      "execution_count": 146,
      "outputs": [
        {
          "output_type": "stream",
          "name": "stdout",
          "text": [
            "631/631 [==============================] - 3s 4ms/step\n"
          ]
        }
      ]
    },
    {
      "cell_type": "markdown",
      "source": [
        "### save model"
      ],
      "metadata": {
        "id": "bM3QLgsAaYSD"
      },
      "id": "bM3QLgsAaYSD"
    },
    {
      "cell_type": "code",
      "source": [
        "# save the model\n"
      ],
      "metadata": {
        "id": "G8FcC2jk7JHf"
      },
      "id": "G8FcC2jk7JHf",
      "execution_count": 135,
      "outputs": []
    },
    {
      "cell_type": "markdown",
      "source": [
        "# Classify"
      ],
      "metadata": {
        "id": "es0PBpSCx_wO"
      },
      "id": "es0PBpSCx_wO"
    },
    {
      "cell_type": "code",
      "source": [
        "from sklearn.metrics import mean_squared_error\n",
        "\n",
        "# Iterate over each sequence in X_train\n",
        "\n",
        "def calc_mse(X,X_predict):\n",
        "  mse_list = []\n",
        "  for i in range(X.shape[0]):\n",
        "      # Get the current sequence\n",
        "      sequence = X[i]\n",
        "\n",
        "      # Calculate the mean squared error for the sequence\n",
        "      mse = mean_squared_error(sequence, X_predict[i])\n",
        "      mse_list.append(mse)\n",
        "  return mse_list"
      ],
      "metadata": {
        "id": "jaMbMvT6tZ3M"
      },
      "execution_count": 136,
      "outputs": [],
      "id": "jaMbMvT6tZ3M"
    },
    {
      "cell_type": "code",
      "source": [
        "mse_train = calc_mse(x_train_shaped, X_pred)\n",
        "mse_test = calc_mse(x_test_shaped, X_pred_test)\n"
      ],
      "metadata": {
        "id": "FPZgKEEluQZO"
      },
      "id": "FPZgKEEluQZO",
      "execution_count": 148,
      "outputs": []
    },
    {
      "cell_type": "markdown",
      "source": [
        "# approx the best threshold"
      ],
      "metadata": {
        "id": "PkrtfSlPaK1t"
      },
      "id": "PkrtfSlPaK1t"
    },
    {
      "cell_type": "code",
      "source": [
        "import pandas as pd\n",
        "import numpy as np\n",
        "def threshold_loop(mse_train,mse_test):\n",
        "  mean_error = np.mean(mse_train)\n",
        "  std_error = np.std(mse_train)\n",
        "\n",
        "  def classify(mse_list, threshold):\n",
        "    classified = []\n",
        "    for i in range(len(mse_list)):\n",
        "      classified.append(0 if mse_list[i] < threshold else 1)\n",
        "    return classified\n",
        "\n",
        "  # Set threshold as a certain number of standard deviations from the mean\n",
        "  std_deviations = [0.1, 0.5, 1, 1.1, 1.25, 1.3, 1.4, 1.5, 1.75, 2,2.5, 3]\n",
        "  results = []\n",
        "\n",
        "  for num_std in std_deviations:\n",
        "    threshold = mean_error + num_std * std_error\n",
        "    train_classified = classify(mse_train, threshold)\n",
        "    test_classified = classify(mse_test, threshold)\n",
        "\n",
        "    TP = test_classified.count(1)\n",
        "    FP = train_classified.count(1)\n",
        "    TN = train_classified.count(0)\n",
        "    FN = test_classified.count(0)\n",
        "    try:\n",
        "      accuracy = (TP + TN) / (TP + FP + TN + FN)\n",
        "      precision = TP / (TP + FP)\n",
        "      recall = TP / (TP + FN)\n",
        "      f1_score = 2 * (precision * recall) / (precision + recall)\n",
        "      specificity = TN / (TN + FP)\n",
        "      fpr = FP / (TN + FP)\n",
        "    except Exception as err:\n",
        "      print(err)\n",
        "      continue\n",
        "    results.append({\n",
        "        'SDs': num_std,\n",
        "        'Threshold': threshold,\n",
        "        'Accuracy': accuracy,\n",
        "        'Precision': precision,\n",
        "        'Recall': recall,\n",
        "        'F1-score': f1_score,\n",
        "        'Specificity': specificity,\n",
        "        'FPR': fpr\n",
        "    })\n",
        "\n",
        "  # Create table of results\n",
        "  results_df = pd.DataFrame(results)\n",
        "  print(\"********* RESULTS WITH SD \"+str(num_std)+\"********\")\n",
        "  print(results_df)\n",
        "  print(\"***********\")\n",
        "  return results_df\n"
      ],
      "metadata": {
        "id": "zQ6kZhH8aJ4f"
      },
      "id": "zQ6kZhH8aJ4f",
      "execution_count": 188,
      "outputs": []
    },
    {
      "cell_type": "code",
      "source": [
        "results_df = threshold_loop(mse_train,mse_test)\n",
        "results_df"
      ],
      "metadata": {
        "colab": {
          "base_uri": "https://localhost:8080/",
          "height": 171
        },
        "id": "673cYTmKhHi5",
        "outputId": "513c8335-1830-44e7-8ce2-175c07724d2a"
      },
      "id": "673cYTmKhHi5",
      "execution_count": 143,
      "outputs": [
        {
          "output_type": "error",
          "ename": "NameError",
          "evalue": "ignored",
          "traceback": [
            "\u001b[0;31m---------------------------------------------------------------------------\u001b[0m",
            "\u001b[0;31mNameError\u001b[0m                                 Traceback (most recent call last)",
            "\u001b[0;32m<ipython-input-143-2b7c813217d0>\u001b[0m in \u001b[0;36m<cell line: 1>\u001b[0;34m()\u001b[0m\n\u001b[0;32m----> 1\u001b[0;31m \u001b[0mresults_df\u001b[0m \u001b[0;34m=\u001b[0m \u001b[0mthreshold_loop\u001b[0m\u001b[0;34m(\u001b[0m\u001b[0mmse_train\u001b[0m\u001b[0;34m,\u001b[0m\u001b[0mmse_test\u001b[0m\u001b[0;34m)\u001b[0m\u001b[0;34m\u001b[0m\u001b[0;34m\u001b[0m\u001b[0m\n\u001b[0m",
            "\u001b[0;31mNameError\u001b[0m: name 'threshold_loop' is not defined"
          ]
        }
      ]
    },
    {
      "cell_type": "code",
      "source": [
        "results_df.style.to_latex()"
      ],
      "metadata": {
        "colab": {
          "base_uri": "https://localhost:8080/",
          "height": 171
        },
        "id": "rrTDBBpFjz5j",
        "outputId": "5e045e93-9101-4002-d542-a62fff5935d7"
      },
      "id": "rrTDBBpFjz5j",
      "execution_count": 111,
      "outputs": [
        {
          "output_type": "error",
          "ename": "TypeError",
          "evalue": "ignored",
          "traceback": [
            "\u001b[0;31m---------------------------------------------------------------------------\u001b[0m",
            "\u001b[0;31mTypeError\u001b[0m                                 Traceback (most recent call last)",
            "\u001b[0;32m<ipython-input-111-45353dc28fab>\u001b[0m in \u001b[0;36m<cell line: 1>\u001b[0;34m()\u001b[0m\n\u001b[0;32m----> 1\u001b[0;31m \u001b[0mresults_df\u001b[0m\u001b[0;34m.\u001b[0m\u001b[0mstyle\u001b[0m\u001b[0;34m.\u001b[0m\u001b[0mto_latex\u001b[0m\u001b[0;34m(\u001b[0m\u001b[0mindex\u001b[0m\u001b[0;34m=\u001b[0m\u001b[0;32mFalse\u001b[0m\u001b[0;34m)\u001b[0m\u001b[0;34m\u001b[0m\u001b[0;34m\u001b[0m\u001b[0m\n\u001b[0m",
            "\u001b[0;31mTypeError\u001b[0m: Styler.to_latex() got an unexpected keyword argument 'index'"
          ]
        }
      ]
    },
    {
      "cell_type": "markdown",
      "source": [
        "# AUTOENCODER AS FUNCTION"
      ],
      "metadata": {
        "id": "EvjbL2695Kp8"
      },
      "id": "EvjbL2695Kp8"
    },
    {
      "cell_type": "code",
      "source": [
        "import keras\n",
        "from keras.models import Sequential\n",
        "from keras.layers import LSTM\n",
        "from keras.layers import RepeatVector\n",
        "from keras.layers import TimeDistributed\n",
        "from keras.layers import Dense\n",
        "\n",
        "window_results_df = pd.DataFrame(columns=['seq_len', 'best_acc'])\n",
        "\n",
        "def autoencode(seq_len, epochs):\n",
        "  \n",
        "  print('TRAINDF SHAPE: ' + str(train_df.shape))\n",
        "  '''preprosses'''\n",
        "  def shape(df):\n",
        "    features = train_df.shape[1]\n",
        "    batches = (df.shape[0] // seq_len) * seq_len\n",
        "    data = df.iloc[:batches]\n",
        "\n",
        "    df_shaped = np.reshape(data.to_numpy(), newshape=(-1, seq_len, features))\n",
        "\n",
        "    return df_shaped\n",
        "\n",
        "\n",
        "  x_train_shaped = shape(train_df.copy())\n",
        "  x_test_shaped = shape(test_df.copy())\n",
        "  print(\"X_TRAIN_SHAPED SHAPE: \" + str(x_train_shaped.shape))\n",
        "  '''define model'''\n",
        "  model = Sequential()\n",
        "\n",
        "  # Encoder\n",
        "  model.add(LSTM(128, activation='tanh', input_shape=(x_train_shaped.shape[1],x_train_shaped.shape[2]), return_sequences=True))\n",
        "  model.add(LSTM(64, activation='tanh', return_sequences=False))\n",
        "  model.add(RepeatVector(x_train_shaped.shape[1]))\n",
        "\n",
        "  # Decoder\n",
        "  model.add(LSTM(64, activation='tanh', return_sequences=True))\n",
        "  model.add(LSTM(128, activation='tanh', return_sequences=True))\n",
        "  model.add(TimeDistributed(Dense(x_train_shaped.shape[2])))\n",
        "\n",
        "  model.compile(optimizer='adam', loss='mse',metrics=['accuracy'])\n",
        "  print(\"******* SUMMARY WITH SEQ_LEN: \" + str(seq_len))\n",
        "  print(model.summary())\n",
        "\n",
        "  '''fit'''\n",
        "\n",
        "  checkpoint_filepath = '/tmp/checkpoint'\n",
        "  model_checkpoint_callback = tf.keras.callbacks.ModelCheckpoint(\n",
        "    filepath=checkpoint_filepath,\n",
        "    save_weights_only=True,\n",
        "    monitor='val_accuracy',\n",
        "    mode='max',\n",
        "    save_best_only=True)\n",
        "\n",
        "\n",
        "  history = model.fit(x_train_shaped,x_train_shaped, epochs=epochs, validation_split=0.2, callbacks=[model_checkpoint_callback])\n",
        "\n",
        "  # Plot training and validation loss over epochs\n",
        "  loss = history.history['loss']\n",
        "  val_loss = history.history['val_loss']\n",
        "  epochs = range(len(loss))\n",
        "\n",
        "  plt.figure()\n",
        "  plt.plot(epochs, loss, 'r', label='Training loss')\n",
        "  plt.plot(epochs, val_loss, 'b', label='Validation loss')\n",
        "  plt.title('Training and validation loss at seq len {}'.format(seq_len))\n",
        "  plt.legend()\n",
        "  plt.show()\n",
        "\n",
        "  ''''pred & results '''\n",
        "\n",
        "  print(\"****** PREDICTING *******\")\n",
        "  X_pred = model.predict(x_train_shaped)\n",
        "  X_pred_test = model.predict(x_test_shaped)\n",
        "  #model.save('model{}.h5'.format(seq_len))\n",
        "\n",
        "  print(\"****** MSE CALC *******\")\n",
        "  mse_train = calc_mse(x_train_shaped, X_pred)\n",
        "  mse_test = calc_mse(x_test_shaped, X_pred_test)\n",
        "\n",
        "  print(\"****** {} THRESHOLD LOOPING *******\".format(seq_len))\n",
        "  current_results_df = threshold_loop(mse_train,mse_test)\n",
        "\n",
        "\n",
        "  best_row = results_df.iloc[results_df['Accuracy'].idxmax()]\n",
        "  window_results_df.loc[seq_len] = best_row\n",
        "  \n",
        "  "
      ],
      "metadata": {
        "id": "igmVLZT95NJC"
      },
      "id": "igmVLZT95NJC",
      "execution_count": 191,
      "outputs": []
    },
    {
      "cell_type": "code",
      "source": [
        " best_row = results_df.iloc[results_df['Accuracy'].idxmax()]\n"
      ],
      "metadata": {
        "id": "uBs3V5O1oAei",
        "outputId": "dff86739-5f95-4115-9e13-aeb54d9d82d7",
        "colab": {
          "base_uri": "https://localhost:8080/"
        }
      },
      "id": "uBs3V5O1oAei",
      "execution_count": 193,
      "outputs": [
        {
          "output_type": "execute_result",
          "data": {
            "text/plain": [
              "SDs            2.000000\n",
              "Threshold      0.000770\n",
              "Accuracy       0.690118\n",
              "Precision      0.594821\n",
              "Recall         0.154853\n",
              "F1-score       0.245733\n",
              "Specificity    0.948986\n",
              "FPR            0.051014\n",
              "Name: 13, dtype: float64"
            ]
          },
          "metadata": {},
          "execution_count": 193
        }
      ]
    },
    {
      "cell_type": "code",
      "source": [
        "window_results_df = pd.DataFrame(columns=['seq_len', 'best_row'])\n",
        "epochs = 5\n",
        "for seq_len in [10,20]:\n",
        "  autoencode(seq_len, epochs)\n",
        "window_results_df"
      ],
      "metadata": {
        "id": "LXU5Plsub5sp",
        "outputId": "47c5a07e-457d-4dd2-b704-1f9dcbf986ff",
        "colab": {
          "base_uri": "https://localhost:8080/",
          "height": 1000
        }
      },
      "id": "LXU5Plsub5sp",
      "execution_count": null,
      "outputs": [
        {
          "output_type": "stream",
          "name": "stdout",
          "text": [
            "TRAINDF SHAPE: (234807, 540)\n",
            "X_TRAIN_SHAPED SHAPE: (23480, 10, 540)\n",
            "******* SUMMARY WITH SEQ_LEN: 10\n",
            "Model: \"sequential_15\"\n",
            "_________________________________________________________________\n",
            " Layer (type)                Output Shape              Param #   \n",
            "=================================================================\n",
            " lstm_60 (LSTM)              (None, 10, 128)           342528    \n",
            "                                                                 \n",
            " lstm_61 (LSTM)              (None, 64)                49408     \n",
            "                                                                 \n",
            " repeat_vector_15 (RepeatVec  (None, 10, 64)           0         \n",
            " tor)                                                            \n",
            "                                                                 \n",
            " lstm_62 (LSTM)              (None, 10, 64)            33024     \n",
            "                                                                 \n",
            " lstm_63 (LSTM)              (None, 10, 128)           98816     \n",
            "                                                                 \n",
            " time_distributed_15 (TimeDi  (None, 10, 540)          69660     \n",
            " stributed)                                                      \n",
            "                                                                 \n",
            "=================================================================\n",
            "Total params: 593,436\n",
            "Trainable params: 593,436\n",
            "Non-trainable params: 0\n",
            "_________________________________________________________________\n",
            "None\n",
            "Epoch 1/5\n",
            "587/587 [==============================] - 13s 13ms/step - loss: 0.0016 - accuracy: 0.2200 - val_loss: 0.0016 - val_accuracy: 0.2884\n",
            "Epoch 2/5\n",
            "587/587 [==============================] - 5s 9ms/step - loss: 0.0015 - accuracy: 0.3135 - val_loss: 0.0014 - val_accuracy: 0.3450\n",
            "Epoch 3/5\n",
            "587/587 [==============================] - 5s 8ms/step - loss: 0.0013 - accuracy: 0.4106 - val_loss: 0.0013 - val_accuracy: 0.4551\n",
            "Epoch 4/5\n",
            "587/587 [==============================] - 5s 9ms/step - loss: 0.0012 - accuracy: 0.4872 - val_loss: 0.0012 - val_accuracy: 0.5104\n",
            "Epoch 5/5\n",
            "587/587 [==============================] - 6s 9ms/step - loss: 0.0011 - accuracy: 0.5355 - val_loss: 0.0011 - val_accuracy: 0.5450\n"
          ]
        },
        {
          "output_type": "display_data",
          "data": {
            "text/plain": [
              "<Figure size 640x480 with 1 Axes>"
            ],
            "image/png": "[encoded data removed]"
          },
          "metadata": {}
        },
        {
          "output_type": "stream",
          "name": "stdout",
          "text": [
            "****** PREDICTING *******\n",
            "734/734 [==============================] - 4s 3ms/step\n",
            "612/612 [==============================] - 2s 4ms/step\n",
            "****** MSE CALC *******\n"
          ]
        }
      ]
    },
    {
      "cell_type": "code",
      "source": [],
      "metadata": {
        "id": "N90yo7rzRvgY"
      },
      "id": "N90yo7rzRvgY",
      "execution_count": null,
      "outputs": []
    },
    {
      "cell_type": "markdown",
      "source": [
        "# Legacy"
      ],
      "metadata": {
        "id": "Mp11-_mcoufG"
      },
      "id": "Mp11-_mcoufG"
    },
    {
      "cell_type": "code",
      "source": [
        "TP = test_classified.count(1)\n",
        "FP = train_classified.count(1)\n",
        "TN = train_classified.count(0)\n",
        "FN = test_classified.count(0)"
      ],
      "metadata": {
        "id": "Q32yuSJeWFpP",
        "colab": {
          "base_uri": "https://localhost:8080/",
          "height": 226
        },
        "outputId": "c718c935-2c30-4498-ddf8-966954d556c9"
      },
      "id": "Q32yuSJeWFpP",
      "execution_count": 84,
      "outputs": [
        {
          "output_type": "error",
          "ename": "NameError",
          "evalue": "ignored",
          "traceback": [
            "\u001b[0;31m---------------------------------------------------------------------------\u001b[0m",
            "\u001b[0;31mNameError\u001b[0m                                 Traceback (most recent call last)",
            "\u001b[0;32m<ipython-input-84-8b023d282d97>\u001b[0m in \u001b[0;36m<cell line: 1>\u001b[0;34m()\u001b[0m\n\u001b[0;32m----> 1\u001b[0;31m \u001b[0mTP\u001b[0m \u001b[0;34m=\u001b[0m \u001b[0mtest_classified\u001b[0m\u001b[0;34m.\u001b[0m\u001b[0mcount\u001b[0m\u001b[0;34m(\u001b[0m\u001b[0;36m1\u001b[0m\u001b[0;34m)\u001b[0m\u001b[0;34m\u001b[0m\u001b[0;34m\u001b[0m\u001b[0m\n\u001b[0m\u001b[1;32m      2\u001b[0m \u001b[0mFP\u001b[0m \u001b[0;34m=\u001b[0m \u001b[0mtrain_classified\u001b[0m\u001b[0;34m.\u001b[0m\u001b[0mcount\u001b[0m\u001b[0;34m(\u001b[0m\u001b[0;36m1\u001b[0m\u001b[0;34m)\u001b[0m\u001b[0;34m\u001b[0m\u001b[0;34m\u001b[0m\u001b[0m\n\u001b[1;32m      3\u001b[0m \u001b[0mTN\u001b[0m \u001b[0;34m=\u001b[0m \u001b[0mtrain_classified\u001b[0m\u001b[0;34m.\u001b[0m\u001b[0mcount\u001b[0m\u001b[0;34m(\u001b[0m\u001b[0;36m0\u001b[0m\u001b[0;34m)\u001b[0m\u001b[0;34m\u001b[0m\u001b[0;34m\u001b[0m\u001b[0m\n\u001b[1;32m      4\u001b[0m \u001b[0mFN\u001b[0m \u001b[0;34m=\u001b[0m \u001b[0mtest_classified\u001b[0m\u001b[0;34m.\u001b[0m\u001b[0mcount\u001b[0m\u001b[0;34m(\u001b[0m\u001b[0;36m0\u001b[0m\u001b[0;34m)\u001b[0m\u001b[0;34m\u001b[0m\u001b[0;34m\u001b[0m\u001b[0m\n",
            "\u001b[0;31mNameError\u001b[0m: name 'test_classified' is not defined"
          ]
        }
      ]
    },
    {
      "cell_type": "code",
      "source": [
        "accuracy = (TP + TN) / (TP + FP + TN + FN)\n",
        "precision = TP / (TP + FP)\n",
        "recall = TP / (TP + FN)\n",
        "f1_score = 2 * (precision * recall) / (precision + recall)\n",
        "specificity = TN / (TN + FP)\n",
        "fpr = FP / (TN + FP)\n"
      ],
      "metadata": {
        "id": "urt-du3AWDsS"
      },
      "id": "urt-du3AWDsS",
      "execution_count": null,
      "outputs": []
    },
    {
      "cell_type": "code",
      "source": [
        "confusion_matrix = pd.DataFrame(\n",
        "    {\n",
        "        '': ['Actual Positive', 'Actual Negative'],\n",
        "        'Predicted Positive': [TP, FP],\n",
        "        'Predicted Negative': [FN, TN]\n",
        "    }\n",
        ")\n",
        "\n",
        "# Convert the dataframe to a LaTeX table\n",
        "confusion_matrix_latex = confusion_matrix.style.to_latex()\n",
        "\n",
        "# Print the table and the metrics\n",
        "print(confusion_matrix_latex)\n",
        "print(f'Accuracy: {accuracy:.2f}')\n",
        "print(f'Precision: {precision:.2f}')\n",
        "print(f'Recall: {recall:.2f}')\n",
        "print(f'F1-score: {f1_score:.2f}')"
      ],
      "metadata": {
        "colab": {
          "base_uri": "https://localhost:8080/"
        },
        "id": "GRWSE2s8WRiO",
        "outputId": "e02b0fb7-796c-4ca9-8902-4451308dadda"
      },
      "id": "GRWSE2s8WRiO",
      "execution_count": null,
      "outputs": [
        {
          "output_type": "stream",
          "name": "stdout",
          "text": [
            "\\begin{tabular}{llrr}\n",
            " &  & Predicted Positive & Predicted Negative \\\\\n",
            "0 & Actual Positive & 853 & 147 \\\\\n",
            "1 & Actual Negative & 345 & 655 \\\\\n",
            "\\end{tabular}\n",
            "\n",
            "Accuracy: 0.75\n",
            "Precision: 0.71\n",
            "Recall: 0.85\n",
            "F1-score: 0.78\n"
          ]
        }
      ]
    }
  ],
  "metadata": {
    "kernelspec": {
      "display_name": "Python 3",
      "language": "python",
      "name": "python3"
    },
    "language_info": {
      "codemirror_mode": {
        "name": "ipython",
        "version": 3
      },
      "file_extension": ".py",
      "mimetype": "text/x-python",
      "name": "python",
      "nbconvert_exporter": "python",
      "pygments_lexer": "ipython3",
      "version": "3.9.16"
    },
    "colab": {
      "provenance": [],
      "history_visible": true,
      "machine_shape": "hm",
      "gpuType": "T4",
      "toc_visible": true
    },
    "accelerator": "GPU",
    "gpuClass": "standard"
  },
  "nbformat": 4,
  "nbformat_minor": 5
}