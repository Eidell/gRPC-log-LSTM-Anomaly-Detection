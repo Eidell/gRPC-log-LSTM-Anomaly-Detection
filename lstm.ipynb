{
  "cells": [
    {
      "cell_type": "code",
      "source": [
        "import tensorflow as tf\n",
        "from tensorflow.keras import layers\n",
        "\n",
        "import os\n",
        "import pandas as pd\n",
        "import json\n",
        "import numpy as np"
      ],
      "metadata": {
        "id": "aZ06re8w5-aY"
      },
      "id": "aZ06re8w5-aY",
      "execution_count": 1,
      "outputs": []
    },
    {
      "cell_type": "markdown",
      "source": [
        "### vauth"
      ],
      "metadata": {
        "id": "7vxbc0Yg8le1"
      },
      "id": "7vxbc0Yg8le1"
    },
    {
      "cell_type": "code",
      "source": [
        "from google.colab import auth\n",
        "auth.authenticate_user()\n"
      ],
      "metadata": {
        "id": "PzJxt8VV8kxf"
      },
      "id": "PzJxt8VV8kxf",
      "execution_count": 2,
      "outputs": []
    },
    {
      "cell_type": "markdown",
      "source": [
        "# preprosessing"
      ],
      "metadata": {
        "id": "N1jejr4U6Dcs"
      },
      "id": "N1jejr4U6Dcs"
    },
    {
      "cell_type": "markdown",
      "source": [
        "## extract features from files and make a dataframe"
      ],
      "metadata": {
        "id": "9-1tjNKO6HmP"
      },
      "id": "9-1tjNKO6HmP"
    },
    {
      "cell_type": "code",
      "source": [
        "#help function to import data as dataframes\n",
        "def import_to_df(folder, start, end): \n",
        "  \n",
        "  #preprosess filenames\n",
        "  filenamessorted = []\n",
        "  for filename in os.listdir(folder):\n",
        "      if (\"data\" not in filename):\n",
        "          continue\n",
        "      file_path = os.path.join(folder, filename)\n",
        "      with open(file_path) as f:\n",
        "        try: \n",
        "          entry = json.loads(f.readline())\n",
        "          filenamessorted.append((filename,entry['timestamp']))\n",
        "        except:\n",
        "          continue\n",
        "  filenamessorted.sort(key=lambda a: a[1])\n",
        "  files = [t[0] for t in filenamessorted]\n",
        "  filessliced = files[start:end]\n",
        " \n",
        "  print(filessliced)\n",
        "\n",
        "  data = []\n",
        "  errors = 0\n",
        "  for filename in filessliced:\n",
        "      file_path = os.path.join(folder, filename)\n",
        "      with open(file_path) as f:\n",
        "          # Extract the relevant features from each log entry\n",
        "          for line in f:\n",
        "              try:\n",
        "                  entry = json.loads(line)\n",
        "                  # Extract the relevant features from the entry and add them to the data list\n",
        "                  features = {'latency': entry['httpRequest']['latency'],\n",
        "                              'requestSize': entry['httpRequest']['requestSize'],\n",
        "                              'requestMethod': entry['httpRequest']['requestMethod'],\n",
        "                              'responseSize': entry['httpRequest']['responseSize'],\n",
        "                              'requestUrl': entry['httpRequest']['requestUrl'],\n",
        "                              'status': entry['httpRequest']['status'],\n",
        "                              'source_app': entry['labels']['source_app'],\n",
        "                              'timestamp': entry['timestamp']}\n",
        "                  data.append(features)\n",
        "              except json.JSONDecodeError:\n",
        "                  # Handle JSONDecodeError and continue to the next line\n",
        "                  errors += 1\n",
        "                  print(f\"Error decoding JSON in file {file_path}: {line}\")\n",
        "                  continue\n",
        "              except KeyError:\n",
        "                  # Error and continue to the next line\n",
        "                  errors += 1\n",
        "                  print(f\"KEY error in file {file_path}: {line}\")\n",
        "                  continue\n",
        "\n",
        "\n",
        "  # Convert the list of dictionaries into a DataFrame\n",
        "  print(\"Number of errors: \" + str(errors))\n",
        "  df = pd.DataFrame(data)\n",
        "\n",
        "  df['timestamp'] = pd.to_datetime(df['timestamp'], utc=True)\n",
        "  df.set_index('timestamp', inplace=True)\n",
        "  df = df.sort_index()\n",
        "\n",
        "  dforiginal = df.copy()\n",
        "  return df, dforiginal\n"
      ],
      "metadata": {
        "id": "bsPUQSp-5kpb"
      },
      "id": "bsPUQSp-5kpb",
      "execution_count": 22,
      "outputs": []
    },
    {
      "cell_type": "markdown",
      "source": [
        "## import train"
      ],
      "metadata": {
        "id": "qOuulQOpR0ib"
      },
      "id": "qOuulQOpR0ib"
    },
    {
      "cell_type": "code",
      "source": [
        "''' ---- real call:'''\n",
        "#train_df,train_dforiginal = import_to_df(\"/content/normal\",17,40);\n",
        "\n",
        "''' ---- testing calls:'''\n",
        "train_df,train_dforiginal = import_to_df(\"/content/normal\",17,25);\n"
      ],
      "metadata": {
        "colab": {
          "base_uri": "https://localhost:8080/"
        },
        "id": "sUF_zR0jR7qB",
        "outputId": "547da9cd-ebb6-4452-d935-52d2967e0f27"
      },
      "id": "sUF_zR0jR7qB",
      "execution_count": 25,
      "outputs": [
        {
          "output_type": "stream",
          "name": "stdout",
          "text": [
            "['data000000000018', 'data000000000019', 'data000000000021', 'data000000000020', 'data000000000022', 'data000000000024', 'data000000000023', 'data000000000025']\n",
            "Number of errors: 0\n"
          ]
        }
      ]
    },
    {
      "cell_type": "markdown",
      "source": [
        "## import test"
      ],
      "metadata": {
        "id": "XZtnlZ51R3dl"
      },
      "id": "XZtnlZ51R3dl"
    },
    {
      "cell_type": "code",
      "source": [
        "''' ---- real call: '''\n",
        "#test_df,test_dforiginal  = import_to_df(\"/content/anomaly\",39, 50);\n",
        "\n",
        "'''---- testing calls:\n",
        "'''\n",
        "test_df, test_dforiginal = import_to_df(\"/content/anomaly\",39,45);\n"
      ],
      "metadata": {
        "colab": {
          "base_uri": "https://localhost:8080/"
        },
        "id": "4Z2zq2e2SVo7",
        "outputId": "79cd77c3-ceb2-4954-b718-f96833b32ba9"
      },
      "execution_count": 24,
      "outputs": [
        {
          "output_type": "stream",
          "name": "stdout",
          "text": [
            "['data-000000000046', 'data-000000000034', 'data-000000000030', 'data-000000000048', 'data-000000000043', 'data-000000000051']\n",
            "Number of errors: 0\n"
          ]
        }
      ],
      "id": "4Z2zq2e2SVo7"
    },
    {
      "cell_type": "markdown",
      "source": [
        "## Latency"
      ],
      "metadata": {
        "id": "ZV26tOIZyP94"
      },
      "id": "ZV26tOIZyP94"
    },
    {
      "cell_type": "markdown",
      "source": [
        "### plot"
      ],
      "metadata": {
        "id": "HAum_Ssf5oEV"
      },
      "id": "HAum_Ssf5oEV"
    },
    {
      "cell_type": "code",
      "source": [
        "import pandas as pd\n",
        "import numpy as np\n",
        "import matplotlib.pyplot as plt\n",
        "\n",
        "\n",
        "latency_mean = train_df['latency'].mean()\n",
        "latency_std = train_df['latency'].std()\n",
        "thresholds = []\n",
        "\n",
        "for i in range(4):\n",
        "\n",
        "# Define threshold for abnormal latency as three standard deviations away from the mean of TrainDF\n",
        "  thresholds.append(latency_mean + i*latency_std)\n",
        "\n",
        "# Define empty lists to store results\n",
        "train_labels_list = []\n",
        "train_fractions_list = []\n",
        "test_labels_list = []\n",
        "test_fractions_list = []\n",
        "\n",
        "# Loop over threshold values\n",
        "for threshold in thresholds:\n",
        "\n",
        "    train_df['latency_label'] = np.where(train_df['latency'] > threshold, 1, 0)\n",
        "    test_df['latency_label'] = np.where(test_df['latency'] > threshold, 1, 0)\n",
        "\n",
        "    # Compute fraction of abnormal latencies\n",
        "    train_fraction = train_df['latency_label'].value_counts()[1]/train_df.shape[0]\n",
        "    test_fraction = test_df['latency_label'].value_counts()[1]/test_df.shape[0]\n",
        "    #test_fraction = test_df['latency_label'].mean()\n",
        "\n",
        "    # Append results to lists\n",
        "    train_labels_list.append(train_df['latency_label'])\n",
        "    train_fractions_list.append(train_fraction)\n",
        "    test_labels_list.append(test_df['latency_label'])\n",
        "    test_fractions_list.append(test_fraction)\n",
        "\n",
        "\n",
        "# Plot results\n",
        "plt.plot(thresholds, train_fractions_list, label='Train')\n",
        "plt.plot(thresholds, test_fractions_list, label='Test')\n",
        "plt.legend()\n",
        "plt.xlabel('Threshold')\n",
        "plt.ylabel('Fraction of abnormal latencies')\n",
        "plt.show()\n",
        "\n",
        "# Create table of results\n",
        "results = pd.DataFrame({'Threshold': thresholds, 'Train Fraction': train_fractions_list, 'Test Fraction': test_fractions_list})\n",
        "print(results)\n"
      ],
      "metadata": {
        "id": "HORaB4Z_yOgE",
        "outputId": "923959cc-7c9d-48a2-f5c3-866a42f2bed3",
        "colab": {
          "base_uri": "https://localhost:8080/",
          "height": 541
        }
      },
      "id": "HORaB4Z_yOgE",
      "execution_count": 53,
      "outputs": [
        {
          "output_type": "display_data",
          "data": {
            "text/plain": [
              "<Figure size 640x480 with 1 Axes>"
            ],
            "image/png": "[encoded data removed]"
          },
          "metadata": {}
        },
        {
          "output_type": "stream",
          "name": "stdout",
          "text": [
            "   Threshold  Train Fraction  Test Fraction\n",
            "0   0.009522        0.166284       0.166527\n",
            "1   0.033578        0.110956       0.110322\n",
            "2   0.057634        0.061775       0.060408\n",
            "3   0.081690        0.012293       0.012522\n"
          ]
        }
      ]
    },
    {
      "cell_type": "code",
      "source": [
        "train_df['latency_label'].value_counts(),test_df['latency_label'].value_counts()"
      ],
      "metadata": {
        "id": "mBqZ5zmJzyVF",
        "outputId": "e61d8246-5305-4ae3-ef5b-ea3051e80827",
        "colab": {
          "base_uri": "https://localhost:8080/"
        }
      },
      "id": "mBqZ5zmJzyVF",
      "execution_count": 54,
      "outputs": [
        {
          "output_type": "execute_result",
          "data": {
            "text/plain": [
              "(0    336898\n",
              " 1      4193\n",
              " Name: latency_label, dtype: int64,\n",
              " 0    240609\n",
              " 1      3051\n",
              " Name: latency_label, dtype: int64)"
            ]
          },
          "metadata": {},
          "execution_count": 54
        }
      ]
    },
    {
      "cell_type": "markdown",
      "source": [
        "### determine"
      ],
      "metadata": {
        "id": "Fs3serfm55UH"
      },
      "id": "Fs3serfm55UH"
    },
    {
      "cell_type": "code",
      "source": [
        "treshold = (latency_mean + 2*latency_std)\n",
        "\n",
        "train_df['latency_label'] = np.where(train_df['latency'] > threshold, 1, 0)\n",
        "test_df['latency_label'] = np.where(test_df['latency'] > threshold, 1, 0)\n"
      ],
      "metadata": {
        "id": "DNIAXCnW5wwu"
      },
      "id": "DNIAXCnW5wwu",
      "execution_count": 55,
      "outputs": []
    },
    {
      "cell_type": "markdown",
      "source": [
        "## backup and debugging"
      ],
      "metadata": {
        "id": "UidQOBjfXJPN"
      },
      "id": "UidQOBjfXJPN"
    },
    {
      "cell_type": "code",
      "execution_count": 12,
      "id": "eee56b51-2f00-46c4-bb92-34139fb5786b",
      "metadata": {
        "colab": {
          "base_uri": "https://localhost:8080/"
        },
        "id": "eee56b51-2f00-46c4-bb92-34139fb5786b",
        "outputId": "c806ad40-1d69-42e3-e737-eb6291c42285"
      },
      "outputs": [
        {
          "output_type": "stream",
          "name": "stdout",
          "text": [
            "(10000, 7) 10000\n",
            "(10000, 7) 10000\n"
          ]
        }
      ],
      "source": [
        "print(train_dforiginal.shape, len(train_df))\n",
        "print(test_dforiginal.shape, len(test_df))\n"
      ]
    },
    {
      "cell_type": "code",
      "source": [
        "earliest_train = train_df.index.min()\n",
        "latest_train = train_df.index.max()\n",
        "earliest_test = test_df.index.min()\n",
        "latest_test = test_df.index.max()\n",
        "\n",
        "print(\"Earliest train timestamp:\", earliest_train)\n",
        "print(\"Latest train timestamp:\", latest_train)\n",
        "print(\"Earliest test timestamp:\", earliest_test)\n",
        "print(\"Latest test timestamp:\", latest_test)\n"
      ],
      "metadata": {
        "colab": {
          "base_uri": "https://localhost:8080/"
        },
        "id": "gGOhJS_zR9uU",
        "outputId": "79b36db4-1310-4f90-ef74-f1aa1573f181"
      },
      "id": "gGOhJS_zR9uU",
      "execution_count": null,
      "outputs": [
        {
          "output_type": "stream",
          "name": "stdout",
          "text": [
            "Earliest train timestamp: 2023-04-18 00:28:36.741168+00:00\n",
            "Latest train timestamp: 2023-04-18 00:57:39.686390+00:00\n",
            "Earliest test timestamp: 2023-04-21 00:07:40.949091+00:00\n",
            "Latest test timestamp: 2023-04-21 01:07:49.241144+00:00\n"
          ]
        }
      ]
    },
    {
      "cell_type": "code",
      "source": [
        "# in case of error\n",
        "train_df = train_dforiginal\n",
        "test_df = test_dforiginal\n",
        "\n",
        "print(train_df.head)\n",
        "print(test_df.head)"
      ],
      "metadata": {
        "id": "gGvQCW9nWkjt"
      },
      "id": "gGvQCW9nWkjt",
      "execution_count": null,
      "outputs": []
    },
    {
      "cell_type": "code",
      "source": [
        "# assuming the dataframe is named 'df'\n",
        "num_combinations = train_df.drop_duplicates().shape[0]\n",
        "print(num_combinations)"
      ],
      "metadata": {
        "colab": {
          "base_uri": "https://localhost:8080/"
        },
        "id": "nQROH_KB9j_1",
        "outputId": "5dcbea9d-fced-4173-ac35-be38bb2f482f"
      },
      "id": "nQROH_KB9j_1",
      "execution_count": null,
      "outputs": [
        {
          "output_type": "stream",
          "name": "stdout",
          "text": [
            "311\n"
          ]
        }
      ]
    },
    {
      "cell_type": "code",
      "source": [
        "import tensorflow as tf\n",
        "tf.config.list_physical_devices('GPU')"
      ],
      "metadata": {
        "colab": {
          "base_uri": "https://localhost:8080/"
        },
        "id": "SWKA71RNOS-w",
        "outputId": "4dfdda4c-c490-4569-b6b5-260136efd6d9"
      },
      "id": "SWKA71RNOS-w",
      "execution_count": null,
      "outputs": [
        {
          "output_type": "execute_result",
          "data": {
            "text/plain": [
              "[PhysicalDevice(name='/physical_device:GPU:0', device_type='GPU')]"
            ]
          },
          "metadata": {},
          "execution_count": 6
        }
      ]
    },
    {
      "cell_type": "code",
      "source": [
        "!nvidia-smi"
      ],
      "metadata": {
        "colab": {
          "base_uri": "https://localhost:8080/"
        },
        "id": "eFOouyzMOnNo",
        "outputId": "5cff5908-3812-4839-fc8b-175743a9b864"
      },
      "id": "eFOouyzMOnNo",
      "execution_count": null,
      "outputs": [
        {
          "output_type": "stream",
          "name": "stdout",
          "text": [
            "Tue May  9 11:16:54 2023       \n",
            "+-----------------------------------------------------------------------------+\n",
            "| NVIDIA-SMI 525.85.12    Driver Version: 525.85.12    CUDA Version: 12.0     |\n",
            "|-------------------------------+----------------------+----------------------+\n",
            "| GPU  Name        Persistence-M| Bus-Id        Disp.A | Volatile Uncorr. ECC |\n",
            "| Fan  Temp  Perf  Pwr:Usage/Cap|         Memory-Usage | GPU-Util  Compute M. |\n",
            "|                               |                      |               MIG M. |\n",
            "|===============================+======================+======================|\n",
            "|   0  NVIDIA A100-SXM...  Off  | 00000000:00:04.0 Off |                    0 |\n",
            "| N/A   34C    P0    52W / 400W |    691MiB / 40960MiB |      0%      Default |\n",
            "|                               |                      |             Disabled |\n",
            "+-------------------------------+----------------------+----------------------+\n",
            "                                                                               \n",
            "+-----------------------------------------------------------------------------+\n",
            "| Processes:                                                                  |\n",
            "|  GPU   GI   CI        PID   Type   Process name                  GPU Memory |\n",
            "|        ID   ID                                                   Usage      |\n",
            "|=============================================================================|\n",
            "+-----------------------------------------------------------------------------+\n"
          ]
        }
      ]
    },
    {
      "cell_type": "markdown",
      "source": [
        "## create keyes and dummies"
      ],
      "metadata": {
        "id": "cxF-5KAKXLRZ"
      },
      "id": "cxF-5KAKXLRZ"
    },
    {
      "cell_type": "code",
      "source": [
        "train_df.to_csv('train.csv', index=True)\n",
        "test_df.to_csv('test.csv', index=True)"
      ],
      "metadata": {
        "id": "bVs2LKb7rf8k"
      },
      "id": "bVs2LKb7rf8k",
      "execution_count": 9,
      "outputs": []
    },
    {
      "cell_type": "code",
      "execution_count": 10,
      "id": "9a1f3b4a-fba7-411a-a625-a7d6f6d76e1c",
      "metadata": {
        "id": "9a1f3b4a-fba7-411a-a625-a7d6f6d76e1c"
      },
      "outputs": [],
      "source": [
        "# concatenate the dataframes\n",
        "df_concat = pd.concat([test_df, train_df], axis=0)\n",
        "\n",
        "\n",
        "# create keys for both dataframes\n",
        "df_concat['key'] = df_concat.groupby(['latency_label', 'requestSize', 'requestMethod', 'responseSize',\n",
        "       'requestUrl', 'status', 'source_app'], dropna=False).ngroup()\n",
        "\n",
        "# get dummies for the 'key' column\n",
        "df_concat=df_concat[['key']]\n",
        "df_concat = pd.get_dummies(df_concat, columns=['key'])\n",
        "\n",
        "\n",
        "# split back into original dataframes\n",
        "test_df = df_concat.iloc[:len(test_df), :]\n",
        "train_df = df_concat.iloc[len(test_df):, :]"
      ]
    },
    {
      "cell_type": "code",
      "execution_count": null,
      "id": "054aa215-7c50-41b9-91e3-c6710279bd5b",
      "metadata": {
        "id": "054aa215-7c50-41b9-91e3-c6710279bd5b"
      },
      "outputs": [],
      "source": [
        "print(train_df.shape)\n",
        "print(test_df.shape)\n",
        "print(test_df.head())"
      ]
    },
    {
      "cell_type": "markdown",
      "source": [
        "# AUTOENCODER"
      ],
      "metadata": {
        "id": "5aNuJy31zy9K"
      },
      "id": "5aNuJy31zy9K"
    },
    {
      "cell_type": "markdown",
      "source": [
        "## Datasets"
      ],
      "metadata": {
        "id": "-eJ8jM2G1St5"
      },
      "id": "-eJ8jM2G1St5"
    },
    {
      "cell_type": "markdown",
      "source": [
        "### Function"
      ],
      "metadata": {
        "id": "4yQERJ_i1WYj"
      },
      "id": "4yQERJ_i1WYj"
    },
    {
      "cell_type": "markdown",
      "source": [
        "## gpu test"
      ],
      "metadata": {
        "id": "PBd0DewyVlX7"
      },
      "id": "PBd0DewyVlX7"
    },
    {
      "cell_type": "code",
      "source": [
        "import tensorflow as tf\n",
        "\n",
        "gpus = tf.config.experimental.list_physical_devices('GPU')\n",
        "if gpus:\n",
        "    try:\n",
        "        for gpu in gpus:\n",
        "            tf.config.experimental.set_memory_growth(gpu, True)\n",
        "    except RuntimeError as e:\n",
        "        print(e)"
      ],
      "metadata": {
        "id": "H6OvhVJj9Uoi"
      },
      "id": "H6OvhVJj9Uoi",
      "execution_count": null,
      "outputs": []
    },
    {
      "cell_type": "code",
      "source": [
        "import tensorflow as tf\n",
        "device_name = tf.test.gpu_device_name()\n",
        "if device_name != '/device:GPU:0':\n",
        "  raise SystemError('GPU device not found')\n",
        "print('Found GPU at: {}'.format(device_name))\n",
        "tf.config.experimental.list_physical_devices('GPU')"
      ],
      "metadata": {
        "colab": {
          "base_uri": "https://localhost:8080/"
        },
        "id": "XdfD6s3loCUP",
        "outputId": "13e39d7c-9cee-4edb-af08-604f1a831dfd"
      },
      "id": "XdfD6s3loCUP",
      "execution_count": null,
      "outputs": [
        {
          "output_type": "stream",
          "name": "stdout",
          "text": [
            "Found GPU at: /device:GPU:0\n"
          ]
        },
        {
          "output_type": "execute_result",
          "data": {
            "text/plain": [
              "[PhysicalDevice(name='/physical_device:GPU:0', device_type='GPU')]"
            ]
          },
          "metadata": {},
          "execution_count": 12
        }
      ]
    },
    {
      "cell_type": "markdown",
      "source": [
        "## timeseries"
      ],
      "metadata": {
        "id": "UQwZkIaU0wut"
      },
      "id": "UQwZkIaU0wut"
    },
    {
      "cell_type": "code",
      "source": [],
      "metadata": {
        "id": "0KYCMjNGsY4g"
      },
      "id": "0KYCMjNGsY4g",
      "execution_count": null,
      "outputs": []
    },
    {
      "cell_type": "code",
      "source": [
        "num_steps = 20\n",
        "features = train_df.shape[1]\n",
        "x_train_shaped = np.reshape((train_df.iloc[:341080]).to_numpy(), newshape=(-1, num_steps, features))\n",
        "\n",
        "\n",
        "\n",
        "\n",
        "#train_gen = TimeseriesGenerator(train_data, train_data, length=seq_length, batch_size=batch_size)"
      ],
      "metadata": {
        "id": "Cj80aj_fkZRK"
      },
      "id": "Cj80aj_fkZRK",
      "execution_count": 12,
      "outputs": []
    },
    {
      "cell_type": "code",
      "source": [
        "features = train_df.shape[1]\n",
        "x_test_shaped = np.reshape((test_df).to_numpy(), newshape=(-1, num_steps, features))\n",
        "\n",
        "\n"
      ],
      "metadata": {
        "id": "X9nQ8Uj10QZZ"
      },
      "id": "X9nQ8Uj10QZZ",
      "execution_count": 14,
      "outputs": []
    },
    {
      "cell_type": "code",
      "source": [
        "x_train_shaped.shape, x_test_shaped.shape"
      ],
      "metadata": {
        "colab": {
          "base_uri": "https://localhost:8080/"
        },
        "id": "VhwPznhCpfFl",
        "outputId": "d9d220f0-ab53-4ec8-8e00-78984d84741c"
      },
      "id": "VhwPznhCpfFl",
      "execution_count": 16,
      "outputs": [
        {
          "output_type": "execute_result",
          "data": {
            "text/plain": [
              "((17054, 20, 417), (12183, 20, 417))"
            ]
          },
          "metadata": {},
          "execution_count": 16
        }
      ]
    },
    {
      "cell_type": "markdown",
      "source": [
        "## define model"
      ],
      "metadata": {
        "id": "x5NGuLqBjv-u"
      },
      "id": "x5NGuLqBjv-u"
    },
    {
      "cell_type": "code",
      "source": [
        "import keras\n",
        "from keras.models import Sequential\n",
        "from keras.layers import LSTM\n",
        "from keras.layers import RepeatVector\n",
        "from keras.layers import TimeDistributed\n",
        "from keras.layers import Dense\n",
        "\n",
        "\n",
        "# Define the model \n",
        "model = Sequential()\n",
        "\n",
        "# Encoder\n",
        "model.add(LSTM(128, activation='tanh', input_shape=(x_train_shaped.shape[1],x_train_shaped.shape[2]), return_sequences=True))\n",
        "model.add(LSTM(64, activation='tanh', return_sequences=False))\n",
        "model.add(RepeatVector(x_train_shaped.shape[1]))\n",
        "\n",
        "# Decoder\n",
        "model.add(LSTM(64, activation='tanh', return_sequences=True))\n",
        "model.add(LSTM(128, activation='tanh', return_sequences=True))\n",
        "model.add(TimeDistributed(Dense(x_train_shaped.shape[2])))\n",
        "\n",
        "model.compile(optimizer='adam', loss='mse')\n",
        "model.summary()\n"
      ],
      "metadata": {
        "colab": {
          "base_uri": "https://localhost:8080/"
        },
        "id": "d4n9u8xUHlxZ",
        "outputId": "47017603-8e61-4e30-9ad9-3c175da74560"
      },
      "id": "d4n9u8xUHlxZ",
      "execution_count": 17,
      "outputs": [
        {
          "output_type": "stream",
          "name": "stdout",
          "text": [
            "Model: \"sequential\"\n",
            "_________________________________________________________________\n",
            " Layer (type)                Output Shape              Param #   \n",
            "=================================================================\n",
            " lstm (LSTM)                 (None, 20, 128)           279552    \n",
            "                                                                 \n",
            " lstm_1 (LSTM)               (None, 64)                49408     \n",
            "                                                                 \n",
            " repeat_vector (RepeatVector  (None, 20, 64)           0         \n",
            " )                                                               \n",
            "                                                                 \n",
            " lstm_2 (LSTM)               (None, 20, 64)            33024     \n",
            "                                                                 \n",
            " lstm_3 (LSTM)               (None, 20, 128)           98816     \n",
            "                                                                 \n",
            " time_distributed (TimeDistr  (None, 20, 417)          53793     \n",
            " ibuted)                                                         \n",
            "                                                                 \n",
            "=================================================================\n",
            "Total params: 514,593\n",
            "Trainable params: 514,593\n",
            "Non-trainable params: 0\n",
            "_________________________________________________________________\n"
          ]
        }
      ]
    },
    {
      "cell_type": "code",
      "source": [
        "model.layers[0].input_shape\n"
      ],
      "metadata": {
        "colab": {
          "base_uri": "https://localhost:8080/"
        },
        "id": "yxLL35klpa0w",
        "outputId": "a42573f6-3769-4850-b99c-1e48763da387"
      },
      "id": "yxLL35klpa0w",
      "execution_count": 18,
      "outputs": [
        {
          "output_type": "execute_result",
          "data": {
            "text/plain": [
              "(None, 20, 417)"
            ]
          },
          "metadata": {},
          "execution_count": 18
        }
      ]
    },
    {
      "cell_type": "markdown",
      "source": [
        "### fit"
      ],
      "metadata": {
        "id": "YjBrS-zhy0mI"
      },
      "id": "YjBrS-zhy0mI"
    },
    {
      "cell_type": "code",
      "source": [
        "import matplotlib.pyplot as plt\n",
        "\n",
        "epochs = 200\n",
        "\n",
        "history = model.fit(x_train_shaped,x_train_shaped, epochs=epochs, validation_split=0.2)\n",
        "\n",
        "# Plot training and validation loss over epochs\n",
        "loss = history.history['loss']\n",
        "val_loss = history.history['val_loss']\n",
        "epochs = range(len(loss))\n",
        "\n",
        "plt.figure()\n",
        "plt.plot(epochs, loss, 'r', label='Training loss')\n",
        "plt.plot(epochs, val_loss, 'b', label='Validation loss')\n",
        "plt.title('Training and validation loss')\n",
        "plt.legend()\n",
        "plt.show()"
      ],
      "metadata": {
        "colab": {
          "base_uri": "https://localhost:8080/",
          "height": 1000
        },
        "id": "WV4tW8L7xGo_",
        "outputId": "962f4e1e-5f9c-4f03-e1c8-07a8f4ee1ba3"
      },
      "id": "WV4tW8L7xGo_",
      "execution_count": 19,
      "outputs": [
        {
          "output_type": "stream",
          "name": "stdout",
          "text": [
            "Epoch 1/200\n",
            "427/427 [==============================] - 18s 14ms/step - loss: 0.0022 - val_loss: 0.0021\n",
            "Epoch 2/200\n",
            "427/427 [==============================] - 4s 10ms/step - loss: 0.0021 - val_loss: 0.0020\n",
            "Epoch 3/200\n",
            "427/427 [==============================] - 5s 11ms/step - loss: 0.0020 - val_loss: 0.0020\n",
            "Epoch 4/200\n",
            "427/427 [==============================] - 4s 10ms/step - loss: 0.0019 - val_loss: 0.0018\n",
            "Epoch 5/200\n",
            "427/427 [==============================] - 4s 10ms/step - loss: 0.0017 - val_loss: 0.0017\n",
            "Epoch 6/200\n",
            "427/427 [==============================] - 4s 10ms/step - loss: 0.0017 - val_loss: 0.0017\n",
            "Epoch 7/200\n",
            "427/427 [==============================] - 4s 10ms/step - loss: 0.0016 - val_loss: 0.0016\n",
            "Epoch 8/200\n",
            "427/427 [==============================] - 4s 10ms/step - loss: 0.0016 - val_loss: 0.0016\n",
            "Epoch 9/200\n",
            "427/427 [==============================] - 4s 10ms/step - loss: 0.0016 - val_loss: 0.0016\n",
            "Epoch 10/200\n",
            "427/427 [==============================] - 4s 10ms/step - loss: 0.0015 - val_loss: 0.0016\n",
            "Epoch 11/200\n",
            "427/427 [==============================] - 4s 10ms/step - loss: 0.0015 - val_loss: 0.0015\n",
            "Epoch 12/200\n",
            "427/427 [==============================] - 4s 10ms/step - loss: 0.0015 - val_loss: 0.0015\n",
            "Epoch 13/200\n",
            "427/427 [==============================] - 4s 10ms/step - loss: 0.0015 - val_loss: 0.0015\n",
            "Epoch 14/200\n",
            "427/427 [==============================] - 4s 10ms/step - loss: 0.0015 - val_loss: 0.0015\n",
            "Epoch 15/200\n",
            "427/427 [==============================] - 4s 10ms/step - loss: 0.0014 - val_loss: 0.0014\n",
            "Epoch 16/200\n",
            "427/427 [==============================] - 4s 10ms/step - loss: 0.0014 - val_loss: 0.0014\n",
            "Epoch 17/200\n",
            "427/427 [==============================] - 4s 10ms/step - loss: 0.0014 - val_loss: 0.0014\n",
            "Epoch 18/200\n",
            "427/427 [==============================] - 4s 10ms/step - loss: 0.0014 - val_loss: 0.0014\n",
            "Epoch 19/200\n",
            "427/427 [==============================] - 4s 10ms/step - loss: 0.0014 - val_loss: 0.0014\n",
            "Epoch 20/200\n",
            "427/427 [==============================] - 4s 10ms/step - loss: 0.0013 - val_loss: 0.0014\n",
            "Epoch 21/200\n",
            "427/427 [==============================] - 4s 10ms/step - loss: 0.0013 - val_loss: 0.0013\n",
            "Epoch 22/200\n",
            "427/427 [==============================] - 4s 10ms/step - loss: 0.0013 - val_loss: 0.0014\n",
            "Epoch 23/200\n",
            "427/427 [==============================] - 4s 10ms/step - loss: 0.0013 - val_loss: 0.0013\n",
            "Epoch 24/200\n",
            "427/427 [==============================] - 4s 10ms/step - loss: 0.0013 - val_loss: 0.0013\n",
            "Epoch 25/200\n",
            "427/427 [==============================] - 4s 10ms/step - loss: 0.0012 - val_loss: 0.0013\n",
            "Epoch 26/200\n",
            "427/427 [==============================] - 4s 10ms/step - loss: 0.0012 - val_loss: 0.0013\n",
            "Epoch 27/200\n",
            "427/427 [==============================] - 4s 10ms/step - loss: 0.0012 - val_loss: 0.0012\n",
            "Epoch 28/200\n",
            "427/427 [==============================] - 4s 10ms/step - loss: 0.0012 - val_loss: 0.0012\n",
            "Epoch 29/200\n",
            "427/427 [==============================] - 4s 10ms/step - loss: 0.0012 - val_loss: 0.0012\n",
            "Epoch 30/200\n",
            "427/427 [==============================] - 4s 10ms/step - loss: 0.0011 - val_loss: 0.0012\n",
            "Epoch 31/200\n",
            "427/427 [==============================] - 4s 10ms/step - loss: 0.0012 - val_loss: 0.0012\n",
            "Epoch 32/200\n",
            "427/427 [==============================] - 4s 10ms/step - loss: 0.0011 - val_loss: 0.0011\n",
            "Epoch 33/200\n",
            "427/427 [==============================] - 4s 10ms/step - loss: 0.0011 - val_loss: 0.0012\n",
            "Epoch 34/200\n",
            "427/427 [==============================] - 4s 10ms/step - loss: 0.0011 - val_loss: 0.0011\n",
            "Epoch 35/200\n",
            "427/427 [==============================] - 4s 10ms/step - loss: 0.0010 - val_loss: 0.0011\n",
            "Epoch 36/200\n",
            "427/427 [==============================] - 4s 10ms/step - loss: 0.0010 - val_loss: 0.0011\n",
            "Epoch 37/200\n",
            "427/427 [==============================] - 4s 10ms/step - loss: 9.9894e-04 - val_loss: 0.0011\n",
            "Epoch 38/200\n",
            "427/427 [==============================] - 4s 10ms/step - loss: 0.0010 - val_loss: 0.0011\n",
            "Epoch 39/200\n",
            "427/427 [==============================] - 4s 10ms/step - loss: 9.8095e-04 - val_loss: 0.0011\n",
            "Epoch 40/200\n",
            "427/427 [==============================] - 4s 10ms/step - loss: 9.5478e-04 - val_loss: 0.0010\n",
            "Epoch 41/200\n",
            "427/427 [==============================] - 4s 10ms/step - loss: 9.5213e-04 - val_loss: 0.0010\n",
            "Epoch 42/200\n",
            "427/427 [==============================] - 4s 10ms/step - loss: 9.4391e-04 - val_loss: 0.0010\n",
            "Epoch 43/200\n",
            "427/427 [==============================] - 4s 10ms/step - loss: 9.8097e-04 - val_loss: 0.0013\n",
            "Epoch 44/200\n",
            "427/427 [==============================] - 4s 10ms/step - loss: 9.4583e-04 - val_loss: 9.9633e-04\n",
            "Epoch 45/200\n",
            "427/427 [==============================] - 4s 10ms/step - loss: 8.9169e-04 - val_loss: 9.8215e-04\n",
            "Epoch 46/200\n",
            "427/427 [==============================] - 4s 10ms/step - loss: 8.8285e-04 - val_loss: 9.7789e-04\n",
            "Epoch 47/200\n",
            "427/427 [==============================] - 4s 10ms/step - loss: 9.0996e-04 - val_loss: 9.7395e-04\n",
            "Epoch 48/200\n",
            "427/427 [==============================] - 4s 10ms/step - loss: 9.1004e-04 - val_loss: 9.7134e-04\n",
            "Epoch 49/200\n",
            "427/427 [==============================] - 4s 10ms/step - loss: 8.6542e-04 - val_loss: 9.6964e-04\n",
            "Epoch 50/200\n",
            "427/427 [==============================] - 4s 10ms/step - loss: 8.4909e-04 - val_loss: 9.4486e-04\n",
            "Epoch 51/200\n",
            "427/427 [==============================] - 4s 10ms/step - loss: 8.6097e-04 - val_loss: 9.5372e-04\n",
            "Epoch 52/200\n",
            "427/427 [==============================] - 4s 10ms/step - loss: 8.5667e-04 - val_loss: 0.0011\n",
            "Epoch 53/200\n",
            "427/427 [==============================] - 4s 10ms/step - loss: 8.8188e-04 - val_loss: 9.2134e-04\n",
            "Epoch 54/200\n",
            "427/427 [==============================] - 4s 10ms/step - loss: 8.1009e-04 - val_loss: 9.1448e-04\n",
            "Epoch 55/200\n",
            "427/427 [==============================] - 4s 10ms/step - loss: 8.1967e-04 - val_loss: 9.2920e-04\n",
            "Epoch 56/200\n",
            "427/427 [==============================] - 5s 11ms/step - loss: 8.3688e-04 - val_loss: 0.0011\n",
            "Epoch 57/200\n",
            "427/427 [==============================] - 4s 10ms/step - loss: 9.1543e-04 - val_loss: 9.0109e-04\n",
            "Epoch 58/200\n",
            "427/427 [==============================] - 4s 10ms/step - loss: 7.8105e-04 - val_loss: 8.8949e-04\n",
            "Epoch 59/200\n",
            "427/427 [==============================] - 4s 10ms/step - loss: 7.7352e-04 - val_loss: 8.9629e-04\n",
            "Epoch 60/200\n",
            "427/427 [==============================] - 4s 10ms/step - loss: 7.8681e-04 - val_loss: 9.3007e-04\n",
            "Epoch 61/200\n",
            "427/427 [==============================] - 4s 10ms/step - loss: 8.0775e-04 - val_loss: 9.8934e-04\n",
            "Epoch 62/200\n",
            "427/427 [==============================] - 4s 10ms/step - loss: 7.8309e-04 - val_loss: 8.8245e-04\n",
            "Epoch 63/200\n",
            "427/427 [==============================] - 4s 10ms/step - loss: 7.6187e-04 - val_loss: 8.9095e-04\n",
            "Epoch 64/200\n",
            "427/427 [==============================] - 4s 10ms/step - loss: 8.0375e-04 - val_loss: 8.7691e-04\n",
            "Epoch 65/200\n",
            "427/427 [==============================] - 4s 10ms/step - loss: 7.5952e-04 - val_loss: 9.1137e-04\n",
            "Epoch 66/200\n",
            "427/427 [==============================] - 4s 10ms/step - loss: 7.3904e-04 - val_loss: 0.0013\n",
            "Epoch 67/200\n",
            "427/427 [==============================] - 4s 10ms/step - loss: 8.0651e-04 - val_loss: 8.4681e-04\n",
            "Epoch 68/200\n",
            "427/427 [==============================] - 4s 10ms/step - loss: 7.2822e-04 - val_loss: 8.4729e-04\n",
            "Epoch 69/200\n",
            "427/427 [==============================] - 4s 11ms/step - loss: 7.1816e-04 - val_loss: 8.5108e-04\n",
            "Epoch 70/200\n",
            "427/427 [==============================] - 4s 10ms/step - loss: 7.1559e-04 - val_loss: 8.7286e-04\n",
            "Epoch 71/200\n",
            "427/427 [==============================] - 4s 10ms/step - loss: 7.3737e-04 - val_loss: 8.8269e-04\n",
            "Epoch 72/200\n",
            "427/427 [==============================] - 4s 10ms/step - loss: 7.1749e-04 - val_loss: 8.5615e-04\n",
            "Epoch 73/200\n",
            "427/427 [==============================] - 4s 10ms/step - loss: 6.9862e-04 - val_loss: 8.3605e-04\n",
            "Epoch 74/200\n",
            "427/427 [==============================] - 4s 10ms/step - loss: 7.5728e-04 - val_loss: 8.5891e-04\n",
            "Epoch 75/200\n",
            "427/427 [==============================] - 4s 10ms/step - loss: 6.9417e-04 - val_loss: 8.4705e-04\n",
            "Epoch 76/200\n",
            "427/427 [==============================] - 4s 10ms/step - loss: 7.2767e-04 - val_loss: 8.8426e-04\n",
            "Epoch 77/200\n",
            "427/427 [==============================] - 4s 10ms/step - loss: 7.1095e-04 - val_loss: 8.3108e-04\n",
            "Epoch 78/200\n",
            "427/427 [==============================] - 4s 10ms/step - loss: 6.9467e-04 - val_loss: 8.2084e-04\n",
            "Epoch 79/200\n",
            "427/427 [==============================] - 4s 10ms/step - loss: 6.8491e-04 - val_loss: 9.0383e-04\n",
            "Epoch 80/200\n",
            "427/427 [==============================] - 4s 10ms/step - loss: 7.3036e-04 - val_loss: 8.1825e-04\n",
            "Epoch 81/200\n",
            "427/427 [==============================] - 4s 10ms/step - loss: 6.6745e-04 - val_loss: 8.1446e-04\n",
            "Epoch 82/200\n",
            "427/427 [==============================] - 4s 10ms/step - loss: 6.4988e-04 - val_loss: 8.1437e-04\n",
            "Epoch 83/200\n",
            "427/427 [==============================] - 4s 10ms/step - loss: 6.6092e-04 - val_loss: 8.2581e-04\n",
            "Epoch 84/200\n",
            "427/427 [==============================] - 4s 10ms/step - loss: 7.0426e-04 - val_loss: 0.0010\n",
            "Epoch 85/200\n",
            "427/427 [==============================] - 4s 10ms/step - loss: 7.2845e-04 - val_loss: 8.1247e-04\n",
            "Epoch 86/200\n",
            "427/427 [==============================] - 4s 10ms/step - loss: 6.4958e-04 - val_loss: 7.9686e-04\n",
            "Epoch 87/200\n",
            "427/427 [==============================] - 4s 10ms/step - loss: 6.4584e-04 - val_loss: 7.9908e-04\n",
            "Epoch 88/200\n",
            "427/427 [==============================] - 4s 10ms/step - loss: 6.4319e-04 - val_loss: 8.0096e-04\n",
            "Epoch 89/200\n",
            "427/427 [==============================] - 4s 10ms/step - loss: 6.3451e-04 - val_loss: 8.1141e-04\n",
            "Epoch 90/200\n",
            "427/427 [==============================] - 4s 10ms/step - loss: 6.3720e-04 - val_loss: 8.1369e-04\n",
            "Epoch 91/200\n",
            "427/427 [==============================] - 4s 10ms/step - loss: 6.5314e-04 - val_loss: 8.1682e-04\n",
            "Epoch 92/200\n",
            "427/427 [==============================] - 4s 10ms/step - loss: 6.6645e-04 - val_loss: 7.9408e-04\n",
            "Epoch 93/200\n",
            "427/427 [==============================] - 4s 10ms/step - loss: 6.7839e-04 - val_loss: 7.8838e-04\n",
            "Epoch 94/200\n",
            "427/427 [==============================] - 4s 10ms/step - loss: 6.6173e-04 - val_loss: 7.9421e-04\n",
            "Epoch 95/200\n",
            "427/427 [==============================] - 4s 10ms/step - loss: 6.1934e-04 - val_loss: 7.8897e-04\n",
            "Epoch 96/200\n",
            "427/427 [==============================] - 4s 10ms/step - loss: 6.0821e-04 - val_loss: 7.8933e-04\n",
            "Epoch 97/200\n",
            "427/427 [==============================] - 4s 10ms/step - loss: 6.5856e-04 - val_loss: 8.2215e-04\n",
            "Epoch 98/200\n",
            "427/427 [==============================] - 4s 10ms/step - loss: 7.4301e-04 - val_loss: 8.4548e-04\n",
            "Epoch 99/200\n",
            "427/427 [==============================] - 4s 10ms/step - loss: 6.2651e-04 - val_loss: 7.8378e-04\n",
            "Epoch 100/200\n",
            "427/427 [==============================] - 4s 10ms/step - loss: 5.9735e-04 - val_loss: 7.6742e-04\n",
            "Epoch 101/200\n",
            "427/427 [==============================] - 5s 11ms/step - loss: 5.8965e-04 - val_loss: 7.8682e-04\n",
            "Epoch 102/200\n",
            "427/427 [==============================] - 4s 10ms/step - loss: 5.9295e-04 - val_loss: 7.8050e-04\n",
            "Epoch 103/200\n",
            "427/427 [==============================] - 4s 10ms/step - loss: 5.9517e-04 - val_loss: 7.9258e-04\n",
            "Epoch 104/200\n",
            "427/427 [==============================] - 4s 10ms/step - loss: 6.6740e-04 - val_loss: 8.2603e-04\n",
            "Epoch 105/200\n",
            "427/427 [==============================] - 4s 10ms/step - loss: 6.2813e-04 - val_loss: 7.9878e-04\n",
            "Epoch 106/200\n",
            "427/427 [==============================] - 4s 10ms/step - loss: 5.8807e-04 - val_loss: 8.1924e-04\n",
            "Epoch 107/200\n",
            "427/427 [==============================] - 4s 10ms/step - loss: 5.8876e-04 - val_loss: 7.8379e-04\n",
            "Epoch 108/200\n",
            "427/427 [==============================] - 4s 10ms/step - loss: 5.7661e-04 - val_loss: 7.7873e-04\n",
            "Epoch 109/200\n",
            "427/427 [==============================] - 4s 10ms/step - loss: 6.1201e-04 - val_loss: 8.2514e-04\n",
            "Epoch 110/200\n",
            "427/427 [==============================] - 4s 10ms/step - loss: 5.8834e-04 - val_loss: 7.6947e-04\n",
            "Epoch 111/200\n",
            "427/427 [==============================] - 4s 10ms/step - loss: 5.8610e-04 - val_loss: 7.6418e-04\n",
            "Epoch 112/200\n",
            "427/427 [==============================] - 4s 10ms/step - loss: 6.2154e-04 - val_loss: 7.8928e-04\n",
            "Epoch 113/200\n",
            "427/427 [==============================] - 4s 10ms/step - loss: 5.6988e-04 - val_loss: 7.5786e-04\n",
            "Epoch 114/200\n",
            "427/427 [==============================] - 4s 10ms/step - loss: 5.6644e-04 - val_loss: 7.7621e-04\n",
            "Epoch 115/200\n",
            "427/427 [==============================] - 4s 10ms/step - loss: 5.6360e-04 - val_loss: 7.5958e-04\n",
            "Epoch 116/200\n",
            "427/427 [==============================] - 4s 10ms/step - loss: 6.2850e-04 - val_loss: 7.7477e-04\n",
            "Epoch 117/200\n",
            "427/427 [==============================] - 4s 10ms/step - loss: 5.6224e-04 - val_loss: 7.5810e-04\n",
            "Epoch 118/200\n",
            "427/427 [==============================] - 4s 10ms/step - loss: 5.5145e-04 - val_loss: 7.5676e-04\n",
            "Epoch 119/200\n",
            "427/427 [==============================] - 4s 10ms/step - loss: 5.8481e-04 - val_loss: 7.7197e-04\n",
            "Epoch 120/200\n",
            "427/427 [==============================] - 4s 10ms/step - loss: 5.6990e-04 - val_loss: 7.5670e-04\n",
            "Epoch 121/200\n",
            "427/427 [==============================] - 4s 10ms/step - loss: 5.3818e-04 - val_loss: 7.5361e-04\n",
            "Epoch 122/200\n",
            "427/427 [==============================] - 4s 10ms/step - loss: 5.6501e-04 - val_loss: 9.1487e-04\n",
            "Epoch 123/200\n",
            "427/427 [==============================] - 4s 10ms/step - loss: 5.8539e-04 - val_loss: 7.9663e-04\n",
            "Epoch 124/200\n",
            "427/427 [==============================] - 4s 10ms/step - loss: 5.9795e-04 - val_loss: 7.5366e-04\n",
            "Epoch 125/200\n",
            "427/427 [==============================] - 4s 10ms/step - loss: 5.3328e-04 - val_loss: 7.4914e-04\n",
            "Epoch 126/200\n",
            "427/427 [==============================] - 4s 10ms/step - loss: 5.3187e-04 - val_loss: 7.5388e-04\n",
            "Epoch 127/200\n",
            "427/427 [==============================] - 4s 10ms/step - loss: 5.2641e-04 - val_loss: 7.6380e-04\n",
            "Epoch 128/200\n",
            "427/427 [==============================] - 4s 10ms/step - loss: 5.4744e-04 - val_loss: 7.5427e-04\n",
            "Epoch 129/200\n",
            "427/427 [==============================] - 4s 10ms/step - loss: 5.3996e-04 - val_loss: 7.6551e-04\n",
            "Epoch 130/200\n",
            "427/427 [==============================] - 4s 10ms/step - loss: 5.9246e-04 - val_loss: 8.4214e-04\n",
            "Epoch 131/200\n",
            "427/427 [==============================] - 4s 10ms/step - loss: 5.4649e-04 - val_loss: 7.7140e-04\n",
            "Epoch 132/200\n",
            "427/427 [==============================] - 4s 10ms/step - loss: 5.2373e-04 - val_loss: 8.4354e-04\n",
            "Epoch 133/200\n",
            "427/427 [==============================] - 4s 10ms/step - loss: 5.3761e-04 - val_loss: 7.3900e-04\n",
            "Epoch 134/200\n",
            "427/427 [==============================] - 4s 10ms/step - loss: 5.3385e-04 - val_loss: 7.6985e-04\n",
            "Epoch 135/200\n",
            "427/427 [==============================] - 4s 10ms/step - loss: 5.3203e-04 - val_loss: 7.6679e-04\n",
            "Epoch 136/200\n",
            "427/427 [==============================] - 4s 10ms/step - loss: 5.2712e-04 - val_loss: 7.4714e-04\n",
            "Epoch 137/200\n",
            "427/427 [==============================] - 4s 10ms/step - loss: 5.2758e-04 - val_loss: 7.5828e-04\n",
            "Epoch 138/200\n",
            "427/427 [==============================] - 4s 10ms/step - loss: 5.1525e-04 - val_loss: 7.3782e-04\n",
            "Epoch 139/200\n",
            "427/427 [==============================] - 4s 10ms/step - loss: 5.1121e-04 - val_loss: 7.5042e-04\n",
            "Epoch 140/200\n",
            "427/427 [==============================] - 4s 10ms/step - loss: 5.1605e-04 - val_loss: 7.6718e-04\n",
            "Epoch 141/200\n",
            "427/427 [==============================] - 4s 10ms/step - loss: 5.2311e-04 - val_loss: 7.3253e-04\n",
            "Epoch 142/200\n",
            "427/427 [==============================] - 4s 10ms/step - loss: 5.1976e-04 - val_loss: 7.6417e-04\n",
            "Epoch 143/200\n",
            "427/427 [==============================] - 4s 10ms/step - loss: 5.1572e-04 - val_loss: 7.3666e-04\n",
            "Epoch 144/200\n",
            "427/427 [==============================] - 4s 10ms/step - loss: 6.3120e-04 - val_loss: 7.5726e-04\n",
            "Epoch 145/200\n",
            "427/427 [==============================] - 4s 10ms/step - loss: 5.2278e-04 - val_loss: 7.4691e-04\n",
            "Epoch 146/200\n",
            "427/427 [==============================] - 4s 10ms/step - loss: 5.3932e-04 - val_loss: 7.5136e-04\n",
            "Epoch 147/200\n",
            "427/427 [==============================] - 4s 10ms/step - loss: 4.9808e-04 - val_loss: 7.2930e-04\n",
            "Epoch 148/200\n",
            "427/427 [==============================] - 4s 10ms/step - loss: 4.9058e-04 - val_loss: 7.3077e-04\n",
            "Epoch 149/200\n",
            "427/427 [==============================] - 4s 10ms/step - loss: 4.9899e-04 - val_loss: 7.3835e-04\n",
            "Epoch 150/200\n",
            "427/427 [==============================] - 4s 10ms/step - loss: 5.1891e-04 - val_loss: 7.3830e-04\n",
            "Epoch 151/200\n",
            "427/427 [==============================] - 4s 10ms/step - loss: 5.1125e-04 - val_loss: 7.3659e-04\n",
            "Epoch 152/200\n",
            "427/427 [==============================] - 4s 10ms/step - loss: 5.3554e-04 - val_loss: 9.8872e-04\n",
            "Epoch 153/200\n",
            "427/427 [==============================] - 4s 10ms/step - loss: 6.0382e-04 - val_loss: 7.2087e-04\n",
            "Epoch 154/200\n",
            "427/427 [==============================] - 4s 10ms/step - loss: 4.8982e-04 - val_loss: 7.1457e-04\n",
            "Epoch 155/200\n",
            "427/427 [==============================] - 4s 10ms/step - loss: 4.7200e-04 - val_loss: 7.1306e-04\n",
            "Epoch 156/200\n",
            "427/427 [==============================] - 4s 10ms/step - loss: 4.7456e-04 - val_loss: 7.3501e-04\n",
            "Epoch 157/200\n",
            "427/427 [==============================] - 4s 10ms/step - loss: 4.7958e-04 - val_loss: 7.2601e-04\n",
            "Epoch 158/200\n",
            "427/427 [==============================] - 4s 10ms/step - loss: 4.8608e-04 - val_loss: 7.4155e-04\n",
            "Epoch 159/200\n",
            "427/427 [==============================] - 4s 10ms/step - loss: 5.0294e-04 - val_loss: 7.2889e-04\n",
            "Epoch 160/200\n",
            "427/427 [==============================] - 4s 10ms/step - loss: 4.7538e-04 - val_loss: 7.2114e-04\n",
            "Epoch 161/200\n",
            "427/427 [==============================] - 4s 10ms/step - loss: 4.9421e-04 - val_loss: 7.1890e-04\n",
            "Epoch 162/200\n",
            "427/427 [==============================] - 4s 10ms/step - loss: 5.1449e-04 - val_loss: 7.1912e-04\n",
            "Epoch 163/200\n",
            "427/427 [==============================] - 4s 10ms/step - loss: 4.7163e-04 - val_loss: 7.2500e-04\n",
            "Epoch 164/200\n",
            "427/427 [==============================] - 4s 10ms/step - loss: 4.6841e-04 - val_loss: 7.2245e-04\n",
            "Epoch 165/200\n",
            "427/427 [==============================] - 4s 10ms/step - loss: 4.7381e-04 - val_loss: 7.4347e-04\n",
            "Epoch 166/200\n",
            "427/427 [==============================] - 4s 10ms/step - loss: 5.0991e-04 - val_loss: 7.2083e-04\n",
            "Epoch 167/200\n",
            "427/427 [==============================] - 4s 10ms/step - loss: 4.7025e-04 - val_loss: 7.1740e-04\n",
            "Epoch 168/200\n",
            "427/427 [==============================] - 4s 10ms/step - loss: 4.9127e-04 - val_loss: 7.3549e-04\n",
            "Epoch 169/200\n",
            "427/427 [==============================] - 4s 10ms/step - loss: 4.8313e-04 - val_loss: 7.1142e-04\n",
            "Epoch 170/200\n",
            "427/427 [==============================] - 4s 10ms/step - loss: 4.7277e-04 - val_loss: 7.1348e-04\n",
            "Epoch 171/200\n",
            "427/427 [==============================] - 4s 10ms/step - loss: 4.5924e-04 - val_loss: 7.1675e-04\n",
            "Epoch 172/200\n",
            "427/427 [==============================] - 4s 10ms/step - loss: 4.5888e-04 - val_loss: 7.4991e-04\n",
            "Epoch 173/200\n",
            "427/427 [==============================] - 4s 10ms/step - loss: 4.6316e-04 - val_loss: 7.2151e-04\n",
            "Epoch 174/200\n",
            "427/427 [==============================] - 4s 10ms/step - loss: 5.5200e-04 - val_loss: 7.4170e-04\n",
            "Epoch 175/200\n",
            "427/427 [==============================] - 4s 10ms/step - loss: 4.6910e-04 - val_loss: 7.1291e-04\n",
            "Epoch 176/200\n",
            "427/427 [==============================] - 4s 10ms/step - loss: 4.4417e-04 - val_loss: 7.0641e-04\n",
            "Epoch 177/200\n",
            "427/427 [==============================] - 4s 10ms/step - loss: 4.4538e-04 - val_loss: 7.2037e-04\n",
            "Epoch 178/200\n",
            "427/427 [==============================] - 4s 10ms/step - loss: 4.6708e-04 - val_loss: 7.3212e-04\n",
            "Epoch 179/200\n",
            "427/427 [==============================] - 4s 10ms/step - loss: 4.6182e-04 - val_loss: 7.1494e-04\n",
            "Epoch 180/200\n",
            "427/427 [==============================] - 4s 10ms/step - loss: 6.0713e-04 - val_loss: 7.2866e-04\n",
            "Epoch 181/200\n",
            "427/427 [==============================] - 4s 10ms/step - loss: 4.6227e-04 - val_loss: 7.0814e-04\n",
            "Epoch 182/200\n",
            "427/427 [==============================] - 4s 10ms/step - loss: 4.3755e-04 - val_loss: 7.1123e-04\n",
            "Epoch 183/200\n",
            "427/427 [==============================] - 4s 10ms/step - loss: 4.3764e-04 - val_loss: 7.1256e-04\n",
            "Epoch 184/200\n",
            "427/427 [==============================] - 4s 10ms/step - loss: 4.3947e-04 - val_loss: 7.1388e-04\n",
            "Epoch 185/200\n",
            "427/427 [==============================] - 4s 10ms/step - loss: 6.1926e-04 - val_loss: 7.5083e-04\n",
            "Epoch 186/200\n",
            "427/427 [==============================] - 4s 10ms/step - loss: 4.6232e-04 - val_loss: 7.0735e-04\n",
            "Epoch 187/200\n",
            "427/427 [==============================] - 4s 10ms/step - loss: 4.3693e-04 - val_loss: 7.0109e-04\n",
            "Epoch 188/200\n",
            "427/427 [==============================] - 4s 10ms/step - loss: 4.2553e-04 - val_loss: 7.0365e-04\n",
            "Epoch 189/200\n",
            "427/427 [==============================] - 4s 10ms/step - loss: 4.3515e-04 - val_loss: 7.2041e-04\n",
            "Epoch 190/200\n",
            "427/427 [==============================] - 4s 10ms/step - loss: 4.4486e-04 - val_loss: 7.0951e-04\n",
            "Epoch 191/200\n",
            "427/427 [==============================] - 4s 10ms/step - loss: 4.4258e-04 - val_loss: 7.2321e-04\n",
            "Epoch 192/200\n",
            "427/427 [==============================] - 4s 10ms/step - loss: 4.5466e-04 - val_loss: 7.3230e-04\n",
            "Epoch 193/200\n",
            "427/427 [==============================] - 4s 10ms/step - loss: 4.8742e-04 - val_loss: 7.2846e-04\n",
            "Epoch 194/200\n",
            "427/427 [==============================] - 4s 10ms/step - loss: 4.6557e-04 - val_loss: 7.2117e-04\n",
            "Epoch 195/200\n",
            "427/427 [==============================] - 4s 10ms/step - loss: 4.3604e-04 - val_loss: 7.0406e-04\n",
            "Epoch 196/200\n",
            "427/427 [==============================] - 4s 10ms/step - loss: 4.4508e-04 - val_loss: 7.1225e-04\n",
            "Epoch 197/200\n",
            "427/427 [==============================] - 4s 10ms/step - loss: 4.4111e-04 - val_loss: 7.0340e-04\n",
            "Epoch 198/200\n",
            "427/427 [==============================] - 4s 10ms/step - loss: 4.5312e-04 - val_loss: 7.2426e-04\n",
            "Epoch 199/200\n",
            "427/427 [==============================] - 4s 10ms/step - loss: 4.6719e-04 - val_loss: 7.0768e-04\n",
            "Epoch 200/200\n",
            "427/427 [==============================] - 4s 10ms/step - loss: 5.6745e-04 - val_loss: 7.1745e-04\n"
          ]
        },
        {
          "output_type": "display_data",
          "data": {
            "text/plain": [
              "<Figure size 640x480 with 1 Axes>"
            ],
            "image/png": "[encoded data removed]"
          },
          "metadata": {}
        }
      ]
    },
    {
      "cell_type": "markdown",
      "source": [
        "### predict train"
      ],
      "metadata": {
        "id": "m-9YUXIxyywL"
      },
      "id": "m-9YUXIxyywL"
    },
    {
      "cell_type": "code",
      "source": [
        "with tf.device('/cpu:0'):\n",
        "  X_pred = model.predict(x_train_shaped)"
      ],
      "metadata": {
        "colab": {
          "base_uri": "https://localhost:8080/"
        },
        "id": "toMD7PI2tDUC",
        "outputId": "f79881ff-1333-4cf8-d652-3f02219b58fa"
      },
      "id": "toMD7PI2tDUC",
      "execution_count": 92,
      "outputs": [
        {
          "output_type": "stream",
          "name": "stdout",
          "text": [
            "32/32 [==============================] - 2s 20ms/step\n"
          ]
        }
      ]
    },
    {
      "cell_type": "code",
      "source": [
        "# Plot predicted vs. actual\n",
        "plt.plot(x_train_shaped.flatten(), label='Actual')\n",
        "plt.plot(X_pred.flatten(), label='Predicted')\n",
        "plt.legend()\n",
        "plt.show()"
      ],
      "metadata": {
        "id": "pJ0vGcdqekjn"
      },
      "id": "pJ0vGcdqekjn",
      "execution_count": null,
      "outputs": []
    },
    {
      "cell_type": "markdown",
      "source": [
        "### Predict test"
      ],
      "metadata": {
        "id": "c47rtlh7yvYO"
      },
      "id": "c47rtlh7yvYO"
    },
    {
      "cell_type": "code",
      "source": [
        "#with tf.device('/device:GPU:0'):\n",
        "X_pred_test = model.predict(x_test_shaped)"
      ],
      "metadata": {
        "colab": {
          "base_uri": "https://localhost:8080/"
        },
        "id": "d7jNFWIRDSe_",
        "outputId": "4e28d38b-6e75-48ba-bdaf-b21c239a5127"
      },
      "id": "d7jNFWIRDSe_",
      "execution_count": 97,
      "outputs": [
        {
          "output_type": "stream",
          "name": "stdout",
          "text": [
            "32/32 [==============================] - 0s 4ms/step\n"
          ]
        }
      ]
    },
    {
      "cell_type": "code",
      "source": [
        "# save the model\n",
        "model.save('my_model.h5')"
      ],
      "metadata": {
        "id": "G8FcC2jk7JHf"
      },
      "id": "G8FcC2jk7JHf",
      "execution_count": 128,
      "outputs": []
    },
    {
      "cell_type": "markdown",
      "source": [
        "# ML"
      ],
      "metadata": {
        "id": "au3qWJbRVA5S"
      },
      "id": "au3qWJbRVA5S"
    },
    {
      "cell_type": "markdown",
      "source": [
        "# Classify"
      ],
      "metadata": {
        "id": "es0PBpSCx_wO"
      },
      "id": "es0PBpSCx_wO"
    },
    {
      "cell_type": "code",
      "source": [
        "from sklearn.metrics import mean_squared_error\n",
        "\n",
        "# Iterate over each sequence in X_train\n",
        "\n",
        "def calc_mse(X,X_predict):\n",
        "  mse_list = []\n",
        "  for i in range(X.shape[0]):\n",
        "      # Get the current sequence\n",
        "      sequence = X[i]\n",
        "\n",
        "      # Calculate the mean squared error for the sequence\n",
        "      mse = mean_squared_error(sequence, X_predict[i])\n",
        "      mse_list.append(mse)\n",
        "  return mse_list"
      ],
      "metadata": {
        "id": "jaMbMvT6tZ3M"
      },
      "execution_count": 99,
      "outputs": [],
      "id": "jaMbMvT6tZ3M"
    },
    {
      "cell_type": "code",
      "source": [
        "mse_train = calc_mse(x_train_shaped, X_pred)\n",
        "mse_train[:10]"
      ],
      "metadata": {
        "colab": {
          "base_uri": "https://localhost:8080/"
        },
        "id": "FPZgKEEluQZO",
        "outputId": "c52bc0d0-5471-44e5-f790-4ca33fb253ed"
      },
      "id": "FPZgKEEluQZO",
      "execution_count": 101,
      "outputs": [
        {
          "output_type": "execute_result",
          "data": {
            "text/plain": [
              "[0.0009648893,\n",
              " 0.0016433381,\n",
              " 0.00209405,\n",
              " 0.00196355,\n",
              " 0.0022053425,\n",
              " 0.0022250116,\n",
              " 0.0020170284,\n",
              " 0.0018587692,\n",
              " 0.0019730492,\n",
              " 0.0015563897]"
            ]
          },
          "metadata": {},
          "execution_count": 101
        }
      ]
    },
    {
      "cell_type": "code",
      "source": [
        "mse_test = calc_mse(x_test_shaped, X_pred_test)\n",
        "mse_test[:10]"
      ],
      "metadata": {
        "colab": {
          "base_uri": "https://localhost:8080/"
        },
        "id": "UUyDk59Bz_m2",
        "outputId": "a526cbaf-bd51-4e68-9925-5e2b4cadf3de"
      },
      "execution_count": 102,
      "outputs": [
        {
          "output_type": "execute_result",
          "data": {
            "text/plain": [
              "[0.0025950328,\n",
              " 0.002417322,\n",
              " 0.0027495099,\n",
              " 0.0024953983,\n",
              " 0.0024975683,\n",
              " 0.0023612643,\n",
              " 0.0024932441,\n",
              " 0.002334594,\n",
              " 0.0022397381,\n",
              " 0.0019854724]"
            ]
          },
          "metadata": {},
          "execution_count": 102
        }
      ],
      "id": "UUyDk59Bz_m2"
    },
    {
      "cell_type": "markdown",
      "source": [
        "### TRESHOLD"
      ],
      "metadata": {
        "id": "oYeiLiDpx7o0"
      },
      "id": "oYeiLiDpx7o0"
    },
    {
      "cell_type": "code",
      "source": [
        "mean_error = np.mean(mse_train)\n",
        "std_error = np.std(mse_train)\n",
        "\n",
        "# Set threshold as a certain number of standard deviations from the mean\n",
        "num_std = 0.5  # Set number of standard deviations away from mean\n",
        "threshold = mean_error + num_std * std_error\n",
        "\n",
        "print(f\"Threshold: {threshold}\")"
      ],
      "metadata": {
        "colab": {
          "base_uri": "https://localhost:8080/"
        },
        "id": "tnnwcqGLx7Fv",
        "outputId": "e75cab35-527d-43b1-b06f-41c65f98260c"
      },
      "id": "tnnwcqGLx7Fv",
      "execution_count": 123,
      "outputs": [
        {
          "output_type": "stream",
          "name": "stdout",
          "text": [
            "Threshold: 0.00202481729502324\n"
          ]
        }
      ]
    },
    {
      "cell_type": "markdown",
      "source": [
        "### create classification vector"
      ],
      "metadata": {
        "id": "jnhGIpuL1ByG"
      },
      "id": "jnhGIpuL1ByG"
    },
    {
      "cell_type": "code",
      "source": [
        "def classify(mse_list):\n",
        "  classified = []\n",
        "  for i in range(x_train_shaped.shape[0]):\n",
        "    classified.append(0 if mse_list[i] < threshold else 1)\n",
        "  return classified"
      ],
      "metadata": {
        "id": "0qxf15Xk1F5I"
      },
      "id": "0qxf15Xk1F5I",
      "execution_count": 118,
      "outputs": []
    },
    {
      "cell_type": "code",
      "source": [
        "train_classified = classify(mse_train)\n",
        "test_classified = classify(mse_test)"
      ],
      "metadata": {
        "id": "kKIPgh_dFr1P"
      },
      "id": "kKIPgh_dFr1P",
      "execution_count": 124,
      "outputs": []
    },
    {
      "cell_type": "code",
      "source": [
        "train_classified[:10],test_classified[:10]"
      ],
      "metadata": {
        "colab": {
          "base_uri": "https://localhost:8080/"
        },
        "id": "sFOjR6-XWeFv",
        "outputId": "15741c52-32e7-46b6-e8e9-00c2f37ad409"
      },
      "id": "sFOjR6-XWeFv",
      "execution_count": null,
      "outputs": [
        {
          "output_type": "execute_result",
          "data": {
            "text/plain": [
              "([0, 0, 0, 0, 0, 0, 0, 0, 0, 0], [0, 0, 0, 0, 0, 0, 0, 0, 0, 0])"
            ]
          },
          "metadata": {},
          "execution_count": 26
        }
      ]
    },
    {
      "cell_type": "markdown",
      "id": "0b01d143-777d-46dd-a5c4-27c4f5e40440",
      "metadata": {
        "id": "0b01d143-777d-46dd-a5c4-27c4f5e40440"
      },
      "source": [
        "# result analysis"
      ]
    },
    {
      "cell_type": "markdown",
      "source": [
        "# metrics"
      ],
      "metadata": {
        "id": "9uK6W2-uRxV2"
      },
      "id": "9uK6W2-uRxV2"
    },
    {
      "cell_type": "code",
      "source": [],
      "metadata": {
        "id": "N90yo7rzRvgY"
      },
      "id": "N90yo7rzRvgY",
      "execution_count": null,
      "outputs": []
    },
    {
      "cell_type": "code",
      "source": [
        "TP = test_classified.count(1)\n",
        "FP = train_classified.count(1)\n",
        "TN = train_classified.count(0)\n",
        "FN = test_classified.count(0)"
      ],
      "metadata": {
        "id": "Q32yuSJeWFpP"
      },
      "id": "Q32yuSJeWFpP",
      "execution_count": 125,
      "outputs": []
    },
    {
      "cell_type": "code",
      "source": [
        "accuracy = (TP + TN) / (TP + FP + TN + FN)\n",
        "precision = TP / (TP + FP)\n",
        "recall = TP / (TP + FN)\n",
        "f1_score = 2 * (precision * recall) / (precision + recall)\n",
        "specificity = TN / (TN + FP)\n",
        "fpr = FP / (TN + FP)\n"
      ],
      "metadata": {
        "id": "urt-du3AWDsS"
      },
      "id": "urt-du3AWDsS",
      "execution_count": 126,
      "outputs": []
    },
    {
      "cell_type": "code",
      "source": [
        "confusion_matrix = pd.DataFrame(\n",
        "    {\n",
        "        '': ['Actual Positive', 'Actual Negative'],\n",
        "        'Predicted Positive': [TP, FP],\n",
        "        'Predicted Negative': [FN, TN]\n",
        "    }\n",
        ")\n",
        "\n",
        "# Convert the dataframe to a LaTeX table\n",
        "confusion_matrix_latex = confusion_matrix.style.to_latex()\n",
        "\n",
        "# Print the table and the metrics\n",
        "print(confusion_matrix_latex)\n",
        "print(f'Accuracy: {accuracy:.2f}')\n",
        "print(f'Precision: {precision:.2f}')\n",
        "print(f'Recall: {recall:.2f}')\n",
        "print(f'F1-score: {f1_score:.2f}')"
      ],
      "metadata": {
        "colab": {
          "base_uri": "https://localhost:8080/"
        },
        "id": "GRWSE2s8WRiO",
        "outputId": "e02b0fb7-796c-4ca9-8902-4451308dadda"
      },
      "id": "GRWSE2s8WRiO",
      "execution_count": 127,
      "outputs": [
        {
          "output_type": "stream",
          "name": "stdout",
          "text": [
            "\\begin{tabular}{llrr}\n",
            " &  & Predicted Positive & Predicted Negative \\\\\n",
            "0 & Actual Positive & 853 & 147 \\\\\n",
            "1 & Actual Negative & 345 & 655 \\\\\n",
            "\\end{tabular}\n",
            "\n",
            "Accuracy: 0.75\n",
            "Precision: 0.71\n",
            "Recall: 0.85\n",
            "F1-score: 0.78\n"
          ]
        }
      ]
    },
    {
      "cell_type": "markdown",
      "source": [
        "# model information to latex"
      ],
      "metadata": {
        "id": "jgk4bmbYWSlS"
      },
      "id": "jgk4bmbYWSlS"
    },
    {
      "cell_type": "code",
      "source": [
        "# Extract important information from train_df and test_df\n",
        "n_train_samples, n_train_features = train_df.shape\n",
        "n_test_samples, n_test_features = test_df.shape\n",
        "\n",
        "\n",
        "# Create a LaTeX table with the extracted information\n",
        "latex = \"\"\"\n",
        "\\\\begin{table}[ht]\n",
        "\\\\centering\n",
        "\\\\begin{tabular}{|l|c|c|}\n",
        "\\\\hline\n",
        "\\\\textbf{Dataset} & \\\\textbf{Number of Samples} & \\\\textbf{Number of Features} \\\\\\\\\n",
        "\\\\hline\n",
        "Train & %d & %d \\\\\\\\\n",
        "Test & %d & %d \\\\\\\\\n",
        "\\\\hline\n",
        "\\\\end{tabular}\n",
        "\\\\caption{Important Information from train\\_df and test\\_df Datasets}\n",
        "\\\\label{tab:dataset-info}\n",
        "\\\\end{table}\n",
        "\n",
        "\\\\begin{table}[ht]\n",
        "\\\\centering\n",
        "\\\\begin{tabular}{|l|c|}\n",
        "\\\\hline\n",
        "\\\\textbf{Parameter} & \\\\textbf{Value} \\\\\\\\\n",
        "\\\\hline\n",
        "Number of Timesteps & %d \\\\\\\\\n",
        "Number of Features & %d \\\\\\\\\n",
        "Latent Dimension & %d \\\\\\\\\n",
        "Batch Size & %d \\\\\\\\\n",
        "\\\\hline\n",
        "\\\\end{tabular}\n",
        "\\\\caption{Parameters Used in the LSTM Autoencoder Model}\n",
        "\\\\label{tab:model-parameters}\n",
        "\\\\end{table}\n",
        "\"\"\" % (n_train_samples, n_train_features, n_test_samples, n_test_features, timesteps, n_features, latent_dim, batch_size)\n",
        "\n",
        "# Write LaTeX table to file\n",
        "with open('info.tex', 'w') as f:\n",
        "    f.write(latex)"
      ],
      "metadata": {
        "id": "r3hQQ0Q1WaNI"
      },
      "id": "r3hQQ0Q1WaNI",
      "execution_count": null,
      "outputs": []
    },
    {
      "cell_type": "code",
      "execution_count": null,
      "id": "18959c42-0c97-4d42-80c9-852f44f95428",
      "metadata": {
        "collapsed": true,
        "jupyter": {
          "outputs_hidden": true,
          "source_hidden": true
        },
        "tags": [],
        "id": "18959c42-0c97-4d42-80c9-852f44f95428",
        "outputId": "fdcc85bf-a31f-4a5c-d915-3272651b38ae"
      },
      "outputs": [
        {
          "name": "stdout",
          "output_type": "stream",
          "text": [
            "\\begin{tabular}{ll}\n",
            "\\hline\n",
            " Variable         & Value   \\\\\n",
            "\\hline\n",
            " Model Summary    & Model: \"sequential\"\n",
            "\\_\\_\\_\\_\\_\\_\\_\\_\\_\\_\\_\\_\\_\\_\\_\\_\\_\\_\\_\\_\\_\\_\\_\\_\\_\\_\\_\\_\\_\\_\\_\\_\\_\\_\\_\\_\\_\\_\\_\\_\\_\\_\\_\\_\\_\\_\\_\\_\\_\\_\\_\\_\\_\\_\\_\\_\\_\\_\\_\\_\\_\\_\\_\\_\\_\n",
            " Layer (type)                Output Shape              Param \\#   \n",
            "=================================================================\n",
            " lstm (LSTM)                 (None, 10, 128)           154624    \n",
            "                                                                 \n",
            " lstm\\_1 (LSTM)               (None, 64)                49408     \n",
            "                                                                 \n",
            " repeat\\_vector (RepeatVector  (None, 10, 64)           0         \n",
            " )                                                               \n",
            "                                                                 \n",
            " lstm\\_2 (LSTM)               (None, 10, 64)            33024     \n",
            "                                                                 \n",
            " lstm\\_3 (LSTM)               (None, 10, 128)           98816     \n",
            "                                                                 \n",
            " time\\_distributed (TimeDistr  (None, 10, 173)          22317     \n",
            " ibuted)                                                         \n",
            "                                                                 \n",
            "=================================================================\n",
            "Total params: 358,189\n",
            "Trainable params: 358,189\n",
            "Non-trainable params: 0\n",
            "\\_\\_\\_\\_\\_\\_\\_\\_\\_\\_\\_\\_\\_\\_\\_\\_\\_\\_\\_\\_\\_\\_\\_\\_\\_\\_\\_\\_\\_\\_\\_\\_\\_\\_\\_\\_\\_\\_\\_\\_\\_\\_\\_\\_\\_\\_\\_\\_\\_\\_\\_\\_\\_\\_\\_\\_\\_\\_\\_\\_\\_\\_\\_\\_\\_         \\\\\n",
            " Predicted Values & [[[-0.     0.005  0.008 ...  0.001  0.003  0.001]\n",
            "  [-0.     0.007  0.014 ...  0.001  0.004  0.002]\n",
            "  [ 0.     0.006  0.015 ...  0.     0.003  0.002]\n",
            "  ...\n",
            "  [ 0.007  0.006  0.006 ...  0.003 -0.001 -0.002]\n",
            "  [ 0.006  0.011  0.008 ...  0.003  0.001 -0.003]\n",
            "  [ 0.005  0.017  0.012 ...  0.004  0.004 -0.004]]\n",
            "\n",
            " [[ 0.     0.006  0.006 ...  0.001  0.003  0.   ]\n",
            "  [ 0.     0.01   0.012 ...  0.001  0.004  0.002]\n",
            "  [ 0.     0.01   0.015 ... -0.001  0.004  0.003]\n",
            "  ...\n",
            "  [ 0.005  0.01   0.01  ...  0.002  0.    -0.002]\n",
            "  [ 0.006  0.013  0.011 ...  0.002  0.002 -0.002]\n",
            "  [ 0.006  0.015  0.012 ...  0.002  0.004 -0.002]]\n",
            "\n",
            " [[ 0.001  0.008  0.008 ...  0.001  0.003  0.   ]\n",
            "  [-0.     0.011  0.016 ...  0.     0.004  0.002]\n",
            "  [-0.001  0.005  0.015 ... -0.001  0.005  0.002]\n",
            "  ...\n",
            "  [ 0.003  0.009  0.018 ... -0.     0.003  0.   ]\n",
            "  [ 0.004  0.005  0.014 ...  0.     0.004  0.002]\n",
            "  [ 0.005  0.003  0.011 ...  0.001  0.005  0.002]]\n",
            "\n",
            " ...\n",
            "\n",
            " [[-0.     0.008  0.006 ...  0.001  0.002 -0.001]\n",
            "  [-0.     0.017  0.017 ...  0.002  0.001 -0.001]\n",
            "  [-0.001  0.023  0.025 ...  0.002 -0.    -0.001]\n",
            "  ...\n",
            "  [ 0.001  0.032  0.036 ...  0.002 -0.004 -0.003]\n",
            "  [ 0.001  0.037  0.038 ...  0.001 -0.006 -0.004]\n",
            "  [ 0.002  0.022  0.023 ...  0.    -0.005 -0.005]]\n",
            "\n",
            " [[ 0.     0.003  0.001 ...  0.001  0.001 -0.   ]\n",
            "  [ 0.     0.006  0.004 ...  0.001  0.001  0.   ]\n",
            "  [-0.     0.013  0.01  ...  0.001  0.001 -0.   ]\n",
            "  ...\n",
            "  [ 0.001  0.033  0.032 ...  0.001 -0.005 -0.003]\n",
            "  [ 0.001  0.028  0.031 ...  0.    -0.005 -0.001]\n",
            "  [-0.     0.023  0.032 ... -0.    -0.005 -0.   ]]\n",
            "\n",
            " [[ 0.001  0.004  0.003 ...  0.001  0.001 -0.   ]\n",
            "  [ 0.001  0.011  0.006 ...  0.     0.001 -0.   ]\n",
            "  [ 0.001  0.023  0.016 ...  0.001  0.001 -0.001]\n",
            "  ...\n",
            "  [ 0.001  0.025  0.025 ... -0.001 -0.002  0.   ]\n",
            "  [ 0.001  0.02   0.027 ... -0.001 -0.001  0.001]\n",
            "  [ 0.     0.017  0.03  ... -0.001 -0.001  0.001]]]         \\\\\n",
            " Actual Values    & [[[0 0 0 ... 0 0 0]\n",
            "  [0 0 0 ... 0 0 0]\n",
            "  [0 0 0 ... 0 0 0]\n",
            "  ...\n",
            "  [0 0 0 ... 0 0 0]\n",
            "  [0 0 0 ... 0 0 0]\n",
            "  [0 0 0 ... 0 0 0]]\n",
            "\n",
            " [[0 0 0 ... 0 0 0]\n",
            "  [0 0 0 ... 0 0 0]\n",
            "  [0 0 0 ... 0 0 0]\n",
            "  ...\n",
            "  [0 0 0 ... 0 0 0]\n",
            "  [0 0 0 ... 0 0 0]\n",
            "  [0 0 0 ... 0 0 0]]\n",
            "\n",
            " [[0 0 0 ... 0 0 0]\n",
            "  [0 0 0 ... 0 0 0]\n",
            "  [0 0 0 ... 0 0 0]\n",
            "  ...\n",
            "  [0 0 0 ... 0 0 0]\n",
            "  [0 0 0 ... 0 0 0]\n",
            "  [0 0 0 ... 0 0 0]]\n",
            "\n",
            " ...\n",
            "\n",
            " [[0 0 0 ... 0 0 0]\n",
            "  [0 0 0 ... 0 0 0]\n",
            "  [0 0 0 ... 0 0 0]\n",
            "  ...\n",
            "  [0 1 0 ... 0 0 0]\n",
            "  [0 0 0 ... 0 0 0]\n",
            "  [0 0 0 ... 0 0 0]]\n",
            "\n",
            " [[0 0 0 ... 0 0 0]\n",
            "  [0 0 0 ... 0 0 0]\n",
            "  [0 0 0 ... 0 0 0]\n",
            "  ...\n",
            "  [0 0 0 ... 0 0 0]\n",
            "  [0 0 0 ... 0 0 0]\n",
            "  [0 0 0 ... 0 0 0]]\n",
            "\n",
            " [[0 0 0 ... 0 0 0]\n",
            "  [0 0 0 ... 0 0 0]\n",
            "  [0 0 0 ... 0 0 0]\n",
            "  ...\n",
            "  [0 0 0 ... 0 0 0]\n",
            "  [0 0 0 ... 0 0 0]\n",
            "  [0 0 0 ... 0 0 0]]]         \\\\\n",
            "\\hline\n",
            "\\end{tabular}\n"
          ]
        }
      ],
      "source": [
        "from tabulate import tabulate\n",
        "\n",
        "# model summary\n",
        "model_summary = []\n",
        "model.summary(print_fn=lambda x: model_summary.append(x))\n",
        "model_summary = '\\n'.join(model_summary)\n",
        "\n",
        "# predicted and actual values\n",
        "predicted = np.round(yhat, 3)\n",
        "actual = np.round(X, 3)\n",
        "\n",
        "# create table\n",
        "table = [\n",
        "    ['Model Summary', model_summary],\n",
        "    ['Predicted Values', predicted],\n",
        "    ['Actual Values', actual]\n",
        "]\n",
        "\n",
        "# convert table to LaTeX format\n",
        "latex_table = tabulate(table, headers=['Variable', 'Value'], tablefmt='latex')\n",
        "\n",
        "# print LaTeX table\n",
        "print(latex_table)\n"
      ]
    },
    {
      "cell_type": "code",
      "execution_count": null,
      "id": "00e984a4-e4b4-45f1-ba08-163cadb32d65",
      "metadata": {
        "id": "00e984a4-e4b4-45f1-ba08-163cadb32d65"
      },
      "outputs": [],
      "source": [
        "# Reshape X and yhat to 2D arrays\n",
        "X_2d = X.reshape(X.shape[0]*timesteps, n_features)\n",
        "yhat_2d = yhat.reshape(X.shape[0]*timesteps, n_features)"
      ]
    },
    {
      "cell_type": "code",
      "execution_count": null,
      "id": "b2289fab-1395-4e4b-a2db-06b289021405",
      "metadata": {
        "id": "b2289fab-1395-4e4b-a2db-06b289021405",
        "outputId": "395a5006-0035-4b0c-d914-094e4fc3fec7"
      },
      "outputs": [
        {
          "name": "stdout",
          "output_type": "stream",
          "text": [
            "MSE:  0.0033856726\n"
          ]
        }
      ],
      "source": [
        "# Calculate mean squared error\n",
        "mse = mean_squared_error(X_2d, yhat_2d)\n",
        "print(\"MSE: \", mse)"
      ]
    },
    {
      "cell_type": "code",
      "execution_count": null,
      "id": "7970d5ad-2597-454d-b737-59e63cee446d",
      "metadata": {
        "id": "7970d5ad-2597-454d-b737-59e63cee446d",
        "outputId": "20942336-69c8-45b6-bea6-f3d3833dee13"
      },
      "outputs": [
        {
          "name": "stdout",
          "output_type": "stream",
          "text": [
            "R2 score:  0.06690389884976325\n"
          ]
        }
      ],
      "source": [
        "from sklearn.metrics import r2_score\n",
        "r2 = r2_score(X_2d, yhat_2d)\n",
        "print(\"R2 score: \", r2)"
      ]
    },
    {
      "cell_type": "code",
      "source": [
        "data_train = []\n",
        "errors_train = 0\n",
        "\n",
        "for file in uploaded_test :\n",
        "    for line in file:\n",
        "      try:\n",
        "          entry = json.loads(line)\n",
        "          features = {'latency': entry['httpRequest']['latency'],\n",
        "                      'requestSize': entry['httpRequest']['requestSize'],\n",
        "                      'requestMethod': entry['httpRequest']['requestMethod'],\n",
        "                      'responseSize': entry['httpRequest']['responseSize'],\n",
        "                      'requestUrl': entry['httpRequest']['requestUrl'],\n",
        "                      'status': entry['httpRequest']['status'],\n",
        "                      'source_app': entry['labels']['source_app'],\n",
        "                      'timestamp': entry['timestamp']}          \n",
        "          # Extract the relevant features from the entry and add them to the data list\n",
        "          data_train.append(features)\n",
        "      except json.JSONDecodeError:\n",
        "          # Handle JSONDecodeError and continue to the next line\n",
        "          errors_train += 1\n",
        "          # print(f\"Error decoding JSON in file {file_path}: {line}\")\n",
        "          continue\n",
        "\n",
        "# Convert the list of dictionaries into a DataFrame\n",
        "print(\"Number of errors: \" + str(errors_train))\n",
        "df_train = pd.DataFrame(data_train)\n",
        "df_train.head()"
      ],
      "metadata": {
        "id": "rVI30OO_7AsH"
      },
      "id": "rVI30OO_7AsH",
      "execution_count": null,
      "outputs": []
    },
    {
      "cell_type": "code",
      "source": [
        "import tensorflow as tf\n",
        "from tensorflow.compat.v1.keras.backend import set_session\n",
        "# configure tensorflow to use GPU\n",
        "\n",
        "config = tf.compat.v1.ConfigProto()\n",
        "config.gpu_options.allow_growth = True  # dynamically grow the memory used on the GPU\n",
        "config.gpu_options.per_process_gpu_memory_fraction = 0.9  # limit the GPU memory used to 90%\n",
        "sess = tf.compat.v1.Session(config=config)\n",
        "set_session(sess)"
      ],
      "metadata": {
        "id": "jddY2I8HlTG5"
      },
      "id": "jddY2I8HlTG5",
      "execution_count": null,
      "outputs": []
    },
    {
      "cell_type": "code",
      "execution_count": null,
      "id": "cdd49310-bddd-457f-889f-27bef7715079",
      "metadata": {
        "colab": {
          "base_uri": "https://localhost:8080/",
          "height": 472
        },
        "id": "cdd49310-bddd-457f-889f-27bef7715079",
        "outputId": "23f83ff5-cb67-4d84-abfc-256d32d64d7f"
      },
      "outputs": [
        {
          "output_type": "display_data",
          "data": {
            "text/plain": [
              "<Figure size 640x480 with 1 Axes>"
            ],
            "image/png": "[encoded data removed]"
          },
          "metadata": {}
        }
      ],
      "source": [
        "import matplotlib.pyplot as plt\n",
        "# plot training and validation loss\n",
        "plt.plot(history.history['loss'], label='training loss')\n",
        "plt.plot(history.history['val_loss'], label='validation loss')\n",
        "plt.title('Training and Validation Loss')\n",
        "plt.xlabel('Epoch')\n",
        "plt.ylabel('Loss')\n",
        "plt.legend()\n",
        "plt.show()"
      ]
    },
    {
      "cell_type": "markdown",
      "source": [
        "## Create Keys"
      ],
      "metadata": {
        "id": "jKmlw4uy6_Fp"
      },
      "id": "jKmlw4uy6_Fp"
    },
    {
      "cell_type": "code",
      "execution_count": null,
      "id": "773963bc-8a40-4597-ac7d-817fdb396e76",
      "metadata": {
        "id": "773963bc-8a40-4597-ac7d-817fdb396e76"
      },
      "outputs": [],
      "source": [
        "#create keys for unique rows\n",
        "\n",
        "df['key'] = df.groupby(['latency', 'requestSize', 'requestMethod', 'responseSize',\n",
        "       'requestUrl', 'status', 'source_app']).ngroup()"
      ]
    },
    {
      "cell_type": "code",
      "execution_count": null,
      "id": "412bac00-ed62-437c-bf5c-ef7b4f37046f",
      "metadata": {
        "id": "412bac00-ed62-437c-bf5c-ef7b4f37046f",
        "outputId": "41e7c711-fa6e-4917-f53f-49a8ea36005e"
      },
      "outputs": [
        {
          "name": "stdout",
          "output_type": "stream",
          "text": [
            "\\begin{tabular}{lrllllllr}\n",
            " & latency & requestSize & requestMethod & responseSize & requestUrl & status & source_app & key \\\\\n",
            "timestamp &  &  &  &  &  &  &  &  \\\\\n",
            "2023-04-15 08:26:58.215025 UTC & 1 & 730 & POST & 1757 & http://productcatalogservice:3550/hipstershop.ProductCatalogService/GetProduct & 200 & frontend & 231 \\\\\n",
            "2023-04-15 08:26:58.216662 UTC & 1 & 730 & POST & 1695 & http://productcatalogservice:3550/hipstershop.ProductCatalogService/GetProduct & 200 & frontend & 217 \\\\\n",
            "2023-04-15 08:26:58.354216 UTC & 1 & 730 & POST & 1747 & http://productcatalogservice:3550/hipstershop.ProductCatalogService/GetProduct & 200 & frontend & 229 \\\\\n",
            "2023-04-15 08:26:58.356309 UTC & 1 & 730 & POST & 1695 & http://productcatalogservice:3550/hipstershop.ProductCatalogService/GetProduct & 200 & frontend & 217 \\\\\n",
            "2023-04-15 08:26:58.361683 UTC & 1 & 730 & POST & 1742 & http://productcatalogservice:3550/hipstershop.ProductCatalogService/GetProduct & 200 & frontend & 227 \\\\\n",
            "\\end{tabular}\n",
            "\n"
          ]
        }
      ],
      "source": [
        "#latex\n",
        "\n",
        "latex_table = df.head().style.to_latex()\n",
        "\n",
        "# print latex table\n",
        "print(latex_table)"
      ]
    },
    {
      "cell_type": "code",
      "execution_count": null,
      "id": "226b4711-67c8-4343-a1c8-4ad866244219",
      "metadata": {
        "id": "226b4711-67c8-4343-a1c8-4ad866244219"
      },
      "outputs": [],
      "source": [
        "df=df[['key']]\n",
        "\n",
        "df = pd.get_dummies(df, columns=['key'])"
      ]
    },
    {
      "cell_type": "code",
      "execution_count": null,
      "id": "8e8ebb67-aa0f-4654-9578-c200932342d4",
      "metadata": {
        "tags": [],
        "id": "8e8ebb67-aa0f-4654-9578-c200932342d4",
        "outputId": "c60e043b-f910-4ca8-9699-b76f6c1916fd"
      },
      "outputs": [
        {
          "data": {
            "text/html": [
              "<div>\n",
              "<style scoped>\n",
              "    .dataframe tbody tr th:only-of-type {\n",
              "        vertical-align: middle;\n",
              "    }\n",
              "\n",
              "    .dataframe tbody tr th {\n",
              "        vertical-align: top;\n",
              "    }\n",
              "\n",
              "    .dataframe thead th {\n",
              "        text-align: right;\n",
              "    }\n",
              "</style>\n",
              "<table border=\"1\" class=\"dataframe\">\n",
              "  <thead>\n",
              "    <tr style=\"text-align: right;\">\n",
              "      <th></th>\n",
              "      <th>key_0</th>\n",
              "      <th>key_1</th>\n",
              "      <th>key_2</th>\n",
              "      <th>key_3</th>\n",
              "      <th>key_4</th>\n",
              "      <th>key_5</th>\n",
              "      <th>key_6</th>\n",
              "      <th>key_7</th>\n",
              "      <th>key_8</th>\n",
              "      <th>key_9</th>\n",
              "      <th>...</th>\n",
              "      <th>key_377</th>\n",
              "      <th>key_378</th>\n",
              "      <th>key_379</th>\n",
              "      <th>key_380</th>\n",
              "      <th>key_381</th>\n",
              "      <th>key_382</th>\n",
              "      <th>key_383</th>\n",
              "      <th>key_384</th>\n",
              "      <th>key_385</th>\n",
              "      <th>key_386</th>\n",
              "    </tr>\n",
              "    <tr>\n",
              "      <th>timestamp</th>\n",
              "      <th></th>\n",
              "      <th></th>\n",
              "      <th></th>\n",
              "      <th></th>\n",
              "      <th></th>\n",
              "      <th></th>\n",
              "      <th></th>\n",
              "      <th></th>\n",
              "      <th></th>\n",
              "      <th></th>\n",
              "      <th></th>\n",
              "      <th></th>\n",
              "      <th></th>\n",
              "      <th></th>\n",
              "      <th></th>\n",
              "      <th></th>\n",
              "      <th></th>\n",
              "      <th></th>\n",
              "      <th></th>\n",
              "      <th></th>\n",
              "      <th></th>\n",
              "    </tr>\n",
              "  </thead>\n",
              "  <tbody>\n",
              "    <tr>\n",
              "      <th>2023-04-15 08:26:58.215025 UTC</th>\n",
              "      <td>0</td>\n",
              "      <td>0</td>\n",
              "      <td>0</td>\n",
              "      <td>0</td>\n",
              "      <td>0</td>\n",
              "      <td>0</td>\n",
              "      <td>0</td>\n",
              "      <td>0</td>\n",
              "      <td>0</td>\n",
              "      <td>0</td>\n",
              "      <td>...</td>\n",
              "      <td>0</td>\n",
              "      <td>0</td>\n",
              "      <td>0</td>\n",
              "      <td>0</td>\n",
              "      <td>0</td>\n",
              "      <td>0</td>\n",
              "      <td>0</td>\n",
              "      <td>0</td>\n",
              "      <td>0</td>\n",
              "      <td>0</td>\n",
              "    </tr>\n",
              "    <tr>\n",
              "      <th>2023-04-15 08:26:58.216662 UTC</th>\n",
              "      <td>0</td>\n",
              "      <td>0</td>\n",
              "      <td>0</td>\n",
              "      <td>0</td>\n",
              "      <td>0</td>\n",
              "      <td>0</td>\n",
              "      <td>0</td>\n",
              "      <td>0</td>\n",
              "      <td>0</td>\n",
              "      <td>0</td>\n",
              "      <td>...</td>\n",
              "      <td>0</td>\n",
              "      <td>0</td>\n",
              "      <td>0</td>\n",
              "      <td>0</td>\n",
              "      <td>0</td>\n",
              "      <td>0</td>\n",
              "      <td>0</td>\n",
              "      <td>0</td>\n",
              "      <td>0</td>\n",
              "      <td>0</td>\n",
              "    </tr>\n",
              "    <tr>\n",
              "      <th>2023-04-15 08:26:58.354216 UTC</th>\n",
              "      <td>0</td>\n",
              "      <td>0</td>\n",
              "      <td>0</td>\n",
              "      <td>0</td>\n",
              "      <td>0</td>\n",
              "      <td>0</td>\n",
              "      <td>0</td>\n",
              "      <td>0</td>\n",
              "      <td>0</td>\n",
              "      <td>0</td>\n",
              "      <td>...</td>\n",
              "      <td>0</td>\n",
              "      <td>0</td>\n",
              "      <td>0</td>\n",
              "      <td>0</td>\n",
              "      <td>0</td>\n",
              "      <td>0</td>\n",
              "      <td>0</td>\n",
              "      <td>0</td>\n",
              "      <td>0</td>\n",
              "      <td>0</td>\n",
              "    </tr>\n",
              "    <tr>\n",
              "      <th>2023-04-15 08:26:58.356309 UTC</th>\n",
              "      <td>0</td>\n",
              "      <td>0</td>\n",
              "      <td>0</td>\n",
              "      <td>0</td>\n",
              "      <td>0</td>\n",
              "      <td>0</td>\n",
              "      <td>0</td>\n",
              "      <td>0</td>\n",
              "      <td>0</td>\n",
              "      <td>0</td>\n",
              "      <td>...</td>\n",
              "      <td>0</td>\n",
              "      <td>0</td>\n",
              "      <td>0</td>\n",
              "      <td>0</td>\n",
              "      <td>0</td>\n",
              "      <td>0</td>\n",
              "      <td>0</td>\n",
              "      <td>0</td>\n",
              "      <td>0</td>\n",
              "      <td>0</td>\n",
              "    </tr>\n",
              "    <tr>\n",
              "      <th>2023-04-15 08:26:58.361683 UTC</th>\n",
              "      <td>0</td>\n",
              "      <td>0</td>\n",
              "      <td>0</td>\n",
              "      <td>0</td>\n",
              "      <td>0</td>\n",
              "      <td>0</td>\n",
              "      <td>0</td>\n",
              "      <td>0</td>\n",
              "      <td>0</td>\n",
              "      <td>0</td>\n",
              "      <td>...</td>\n",
              "      <td>0</td>\n",
              "      <td>0</td>\n",
              "      <td>0</td>\n",
              "      <td>0</td>\n",
              "      <td>0</td>\n",
              "      <td>0</td>\n",
              "      <td>0</td>\n",
              "      <td>0</td>\n",
              "      <td>0</td>\n",
              "      <td>0</td>\n",
              "    </tr>\n",
              "  </tbody>\n",
              "</table>\n",
              "<p>5 rows × 387 columns</p>\n",
              "</div>"
            ],
            "text/plain": [
              "                                key_0  key_1  key_2  key_3  key_4  key_5  \\\n",
              "timestamp                                                                  \n",
              "2023-04-15 08:26:58.215025 UTC      0      0      0      0      0      0   \n",
              "2023-04-15 08:26:58.216662 UTC      0      0      0      0      0      0   \n",
              "2023-04-15 08:26:58.354216 UTC      0      0      0      0      0      0   \n",
              "2023-04-15 08:26:58.356309 UTC      0      0      0      0      0      0   \n",
              "2023-04-15 08:26:58.361683 UTC      0      0      0      0      0      0   \n",
              "\n",
              "                                key_6  key_7  key_8  key_9  ...  key_377  \\\n",
              "timestamp                                                   ...            \n",
              "2023-04-15 08:26:58.215025 UTC      0      0      0      0  ...        0   \n",
              "2023-04-15 08:26:58.216662 UTC      0      0      0      0  ...        0   \n",
              "2023-04-15 08:26:58.354216 UTC      0      0      0      0  ...        0   \n",
              "2023-04-15 08:26:58.356309 UTC      0      0      0      0  ...        0   \n",
              "2023-04-15 08:26:58.361683 UTC      0      0      0      0  ...        0   \n",
              "\n",
              "                                key_378  key_379  key_380  key_381  key_382  \\\n",
              "timestamp                                                                     \n",
              "2023-04-15 08:26:58.215025 UTC        0        0        0        0        0   \n",
              "2023-04-15 08:26:58.216662 UTC        0        0        0        0        0   \n",
              "2023-04-15 08:26:58.354216 UTC        0        0        0        0        0   \n",
              "2023-04-15 08:26:58.356309 UTC        0        0        0        0        0   \n",
              "2023-04-15 08:26:58.361683 UTC        0        0        0        0        0   \n",
              "\n",
              "                                key_383  key_384  key_385  key_386  \n",
              "timestamp                                                           \n",
              "2023-04-15 08:26:58.215025 UTC        0        0        0        0  \n",
              "2023-04-15 08:26:58.216662 UTC        0        0        0        0  \n",
              "2023-04-15 08:26:58.354216 UTC        0        0        0        0  \n",
              "2023-04-15 08:26:58.356309 UTC        0        0        0        0  \n",
              "2023-04-15 08:26:58.361683 UTC        0        0        0        0  \n",
              "\n",
              "[5 rows x 387 columns]"
            ]
          },
          "execution_count": 8,
          "metadata": {},
          "output_type": "execute_result"
        }
      ],
      "source": [
        "df.head()"
      ]
    },
    {
      "cell_type": "code",
      "execution_count": null,
      "id": "98032597-4f59-4785-bead-d25775527248",
      "metadata": {
        "id": "98032597-4f59-4785-bead-d25775527248"
      },
      "outputs": [],
      "source": [
        "from sklearn.preprocessing import StandardScaler\n",
        "\n",
        "\n",
        "train_size = int(len(df) * 0.95)\n",
        "train = df[:train_size][df.columns]\n",
        "test = df[train_size:][df.columns]"
      ]
    },
    {
      "cell_type": "code",
      "execution_count": null,
      "id": "e0eb1028-16c8-4846-95ff-2fa7f72f18ac",
      "metadata": {
        "tags": [],
        "id": "e0eb1028-16c8-4846-95ff-2fa7f72f18ac"
      },
      "outputs": [],
      "source": []
    },
    {
      "cell_type": "code",
      "execution_count": null,
      "id": "a0e5ad53-f220-4465-953e-371d33597a28",
      "metadata": {
        "id": "a0e5ad53-f220-4465-953e-371d33597a28",
        "outputId": "68be696a-2d4d-4b97-96d9-abdc37343fc1"
      },
      "outputs": [
        {
          "data": {
            "text/plain": [
              "110"
            ]
          },
          "execution_count": 41,
          "metadata": {},
          "output_type": "execute_result"
        }
      ],
      "source": [
        "np.argpartition(X[0][0],-1)[-1]"
      ]
    },
    {
      "cell_type": "code",
      "execution_count": null,
      "id": "70704e44-56fa-4022-b559-833e9d71d7f5",
      "metadata": {
        "id": "70704e44-56fa-4022-b559-833e9d71d7f5",
        "outputId": "0410d61b-6f64-4c31-fbd8-6fc131f73bfa"
      },
      "outputs": [
        {
          "data": {
            "text/plain": [
              "array([ 58,  68, 113,  32,  76])"
            ]
          },
          "execution_count": 42,
          "metadata": {},
          "output_type": "execute_result"
        }
      ],
      "source": [
        "np.argpartition(yhat[0][0],-5)[-5:]"
      ]
    },
    {
      "cell_type": "code",
      "execution_count": null,
      "id": "d5b16449-6e6f-47da-aed3-97b8a7c36a58",
      "metadata": {
        "id": "d5b16449-6e6f-47da-aed3-97b8a7c36a58",
        "outputId": "ce198f8d-9b7d-42f1-bd40-ab7301cda808"
      },
      "outputs": [
        {
          "data": {
            "text/plain": [
              "array([0.00485279, 0.00451607, 0.00409346, ..., 0.00446442, 0.00524236,\n",
              "       0.00528777], dtype=float32)"
            ]
          },
          "execution_count": 58,
          "metadata": {},
          "output_type": "execute_result"
        }
      ],
      "source": [
        "#reconstruction cost for the test set\n",
        "\n",
        "\n",
        "mse = np.mean(np.mean(np.power(X - yhat, 2), axis=1),axis=1)\n",
        "mse"
      ]
    },
    {
      "cell_type": "markdown",
      "id": "705c0cb9-03f5-40b2-b649-432886e6d205",
      "metadata": {
        "id": "705c0cb9-03f5-40b2-b649-432886e6d205"
      },
      "source": [
        "# legacy"
      ]
    },
    {
      "cell_type": "markdown",
      "source": [
        "## timeseries testing"
      ],
      "metadata": {
        "id": "QbEk3UEtd5DS"
      },
      "id": "QbEk3UEtd5DS"
    },
    {
      "cell_type": "code",
      "execution_count": null,
      "id": "99cc69cc-2ec3-4b3d-85a7-482386cde963",
      "metadata": {
        "id": "99cc69cc-2ec3-4b3d-85a7-482386cde963"
      },
      "outputs": [],
      "source": []
    },
    {
      "cell_type": "code",
      "execution_count": null,
      "id": "6e968aee-ff38-457f-ba7e-c7aaf73106b5",
      "metadata": {
        "tags": [],
        "colab": {
          "base_uri": "https://localhost:8080/"
        },
        "id": "6e968aee-ff38-457f-ba7e-c7aaf73106b5",
        "outputId": "ea37530d-10c1-43cc-a9c1-9d3f2443540d"
      },
      "outputs": [
        {
          "output_type": "stream",
          "name": "stdout",
          "text": [
            "Model: \"sequential\"\n",
            "_________________________________________________________________\n",
            " Layer (type)                Output Shape              Param #   \n",
            "=================================================================\n",
            " lstm (LSTM)                 (None, 20, 128)           271872    \n",
            "                                                                 \n",
            " lstm_1 (LSTM)               (None, 64)                49408     \n",
            "                                                                 \n",
            " repeat_vector (RepeatVector  (None, 20, 64)           0         \n",
            " )                                                               \n",
            "                                                                 \n",
            " lstm_2 (LSTM)               (None, 20, 64)            33024     \n",
            "                                                                 \n",
            " lstm_3 (LSTM)               (None, 20, 128)           98816     \n",
            "                                                                 \n",
            " time_distributed (TimeDistr  (None, 20, 402)          51858     \n",
            " ibuted)                                                         \n",
            "                                                                 \n",
            "=================================================================\n",
            "Total params: 504,978\n",
            "Trainable params: 504,978\n",
            "Non-trainable params: 0\n",
            "_________________________________________________________________\n",
            "Model: \"sequential\"\n",
            "_________________________________________________________________\n",
            " Layer (type)                Output Shape              Param #   \n",
            "=================================================================\n",
            " lstm (LSTM)                 (None, 20, 128)           271872    \n",
            "                                                                 \n",
            " lstm_1 (LSTM)               (None, 64)                49408     \n",
            "                                                                 \n",
            " repeat_vector (RepeatVector  (None, 20, 64)           0         \n",
            " )                                                               \n",
            "                                                                 \n",
            " lstm_2 (LSTM)               (None, 20, 64)            33024     \n",
            "                                                                 \n",
            " lstm_3 (LSTM)               (None, 20, 128)           98816     \n",
            "                                                                 \n",
            " time_distributed (TimeDistr  (None, 20, 402)          51858     \n",
            " ibuted)                                                         \n",
            "                                                                 \n",
            "=================================================================\n",
            "Total params: 504,978\n",
            "Trainable params: 504,978\n",
            "Non-trainable params: 0\n",
            "_________________________________________________________________\n"
          ]
        }
      ],
      "source": [
        "import keras\n",
        "from keras.models import Sequential\n",
        "from keras.layers import LSTM\n",
        "import tensorflow as tf\n",
        "\n",
        "# Define the model \n",
        "with tf.device('/device:GPU:0'):\n",
        "  model = tf.keras.Sequential()\n",
        "  model.add(LSTM(128, activation='tanh', input_shape=(timesteps,n_features), return_sequences=True))\n",
        "  model.add(LSTM(64, activation='tanh', return_sequences=False))\n",
        "  model.add(RepeatVector(timesteps))\n",
        "  model.add(LSTM(64, activation='tanh', return_sequences=True))\n",
        "  model.add(LSTM(128, activation='tanh', return_sequences=True))\n",
        "  model.add(TimeDistributed(Dense(n_features)))\n",
        "  model.compile(optimizer='adam', loss='mse')\n",
        "  model.summary()\n",
        "# Write LaTeX table to file\n",
        "with open('modelsummary.tex', 'w') as f:\n",
        "    f.write(str(model.summary()))"
      ]
    },
    {
      "cell_type": "code",
      "execution_count": null,
      "id": "f05a8667-82f6-438c-93ac-8c9424279a16",
      "metadata": {
        "tags": [],
        "id": "f05a8667-82f6-438c-93ac-8c9424279a16",
        "outputId": "0560ee91-cd97-4a9b-c66d-758b32c9013e"
      },
      "outputs": [
        {
          "name": "stdout",
          "output_type": "stream",
          "text": [
            "Epoch 1/5\n",
            "998/998 - 41s - loss: 0.0049 - 41s/epoch - 41ms/step\n",
            "Epoch 2/5\n",
            "998/998 - 32s - loss: 0.0043 - 32s/epoch - 32ms/step\n",
            "Epoch 3/5\n",
            "998/998 - 32s - loss: 0.0039 - 32s/epoch - 32ms/step\n",
            "Epoch 4/5\n",
            "998/998 - 32s - loss: 0.0037 - 32s/epoch - 32ms/step\n",
            "Epoch 5/5\n",
            "998/998 - 33s - loss: 0.0035 - 33s/epoch - 33ms/step\n",
            "---Predicted---\n",
            "[[[-0.     0.005  0.008 ...  0.001  0.003  0.001]\n",
            "  [-0.     0.007  0.014 ...  0.001  0.004  0.002]\n",
            "  [ 0.     0.006  0.015 ...  0.     0.003  0.002]\n",
            "  ...\n",
            "  [ 0.007  0.006  0.006 ...  0.003 -0.001 -0.002]\n",
            "  [ 0.006  0.011  0.008 ...  0.003  0.001 -0.003]\n",
            "  [ 0.005  0.017  0.012 ...  0.004  0.004 -0.004]]\n",
            "\n",
            " [[ 0.     0.006  0.006 ...  0.001  0.003  0.   ]\n",
            "  [ 0.     0.01   0.012 ...  0.001  0.004  0.002]\n",
            "  [ 0.     0.01   0.015 ... -0.001  0.004  0.003]\n",
            "  ...\n",
            "  [ 0.005  0.01   0.01  ...  0.002  0.    -0.002]\n",
            "  [ 0.006  0.013  0.011 ...  0.002  0.002 -0.002]\n",
            "  [ 0.006  0.015  0.012 ...  0.002  0.004 -0.002]]\n",
            "\n",
            " [[ 0.001  0.008  0.008 ...  0.001  0.003  0.   ]\n",
            "  [-0.     0.011  0.016 ...  0.     0.004  0.002]\n",
            "  [-0.001  0.005  0.015 ... -0.001  0.005  0.002]\n",
            "  ...\n",
            "  [ 0.003  0.009  0.018 ... -0.     0.003  0.   ]\n",
            "  [ 0.004  0.005  0.014 ...  0.     0.004  0.002]\n",
            "  [ 0.005  0.003  0.011 ...  0.001  0.005  0.002]]\n",
            "\n",
            " ...\n",
            "\n",
            " [[-0.     0.008  0.006 ...  0.001  0.002 -0.001]\n",
            "  [-0.     0.017  0.017 ...  0.002  0.001 -0.001]\n",
            "  [-0.001  0.023  0.025 ...  0.002 -0.    -0.001]\n",
            "  ...\n",
            "  [ 0.001  0.032  0.036 ...  0.002 -0.004 -0.003]\n",
            "  [ 0.001  0.037  0.038 ...  0.001 -0.006 -0.004]\n",
            "  [ 0.002  0.022  0.023 ...  0.    -0.005 -0.005]]\n",
            "\n",
            " [[ 0.     0.003  0.001 ...  0.001  0.001 -0.   ]\n",
            "  [ 0.     0.006  0.004 ...  0.001  0.001  0.   ]\n",
            "  [-0.     0.013  0.01  ...  0.001  0.001 -0.   ]\n",
            "  ...\n",
            "  [ 0.001  0.033  0.032 ...  0.001 -0.005 -0.003]\n",
            "  [ 0.001  0.028  0.031 ...  0.    -0.005 -0.001]\n",
            "  [-0.     0.023  0.032 ... -0.    -0.005 -0.   ]]\n",
            "\n",
            " [[ 0.001  0.004  0.003 ...  0.001  0.001 -0.   ]\n",
            "  [ 0.001  0.011  0.006 ...  0.     0.001 -0.   ]\n",
            "  [ 0.001  0.023  0.016 ...  0.001  0.001 -0.001]\n",
            "  ...\n",
            "  [ 0.001  0.025  0.025 ... -0.001 -0.002  0.   ]\n",
            "  [ 0.001  0.02   0.027 ... -0.001 -0.001  0.001]\n",
            "  [ 0.     0.017  0.03  ... -0.001 -0.001  0.001]]]\n",
            "---Actual---\n",
            "[[[0 0 0 ... 0 0 0]\n",
            "  [0 0 0 ... 0 0 0]\n",
            "  [0 0 0 ... 0 0 0]\n",
            "  ...\n",
            "  [0 0 0 ... 0 0 0]\n",
            "  [0 0 0 ... 0 0 0]\n",
            "  [0 0 0 ... 0 0 0]]\n",
            "\n",
            " [[0 0 0 ... 0 0 0]\n",
            "  [0 0 0 ... 0 0 0]\n",
            "  [0 0 0 ... 0 0 0]\n",
            "  ...\n",
            "  [0 0 0 ... 0 0 0]\n",
            "  [0 0 0 ... 0 0 0]\n",
            "  [0 0 0 ... 0 0 0]]\n",
            "\n",
            " [[0 0 0 ... 0 0 0]\n",
            "  [0 0 0 ... 0 0 0]\n",
            "  [0 0 0 ... 0 0 0]\n",
            "  ...\n",
            "  [0 0 0 ... 0 0 0]\n",
            "  [0 0 0 ... 0 0 0]\n",
            "  [0 0 0 ... 0 0 0]]\n",
            "\n",
            " ...\n",
            "\n",
            " [[0 0 0 ... 0 0 0]\n",
            "  [0 0 0 ... 0 0 0]\n",
            "  [0 0 0 ... 0 0 0]\n",
            "  ...\n",
            "  [0 1 0 ... 0 0 0]\n",
            "  [0 0 0 ... 0 0 0]\n",
            "  [0 0 0 ... 0 0 0]]\n",
            "\n",
            " [[0 0 0 ... 0 0 0]\n",
            "  [0 0 0 ... 0 0 0]\n",
            "  [0 0 0 ... 0 0 0]\n",
            "  ...\n",
            "  [0 0 0 ... 0 0 0]\n",
            "  [0 0 0 ... 0 0 0]\n",
            "  [0 0 0 ... 0 0 0]]\n",
            "\n",
            " [[0 0 0 ... 0 0 0]\n",
            "  [0 0 0 ... 0 0 0]\n",
            "  [0 0 0 ... 0 0 0]\n",
            "  ...\n",
            "  [0 0 0 ... 0 0 0]\n",
            "  [0 0 0 ... 0 0 0]\n",
            "  [0 0 0 ... 0 0 0]]]\n"
          ]
        }
      ],
      "source": [
        "# fit model\n",
        "model.fit(X, X, epochs=5, batch_size=5, verbose=2)\n",
        "# demonstrate reconstruction\n",
        "yhat = model.predict(X, verbose=0)\n",
        "print('---Predicted---')\n",
        "print(np.round(yhat,3))\n",
        "print('---Actual---')\n",
        "print(np.round(X, 3))"
      ]
    },
    {
      "cell_type": "code",
      "execution_count": null,
      "id": "576efd79-5ea6-4127-b976-5ac99f0a0667",
      "metadata": {
        "jupyter": {
          "source_hidden": true
        },
        "tags": [],
        "id": "576efd79-5ea6-4127-b976-5ac99f0a0667"
      },
      "outputs": [],
      "source": [
        "# bug fixing test piece\n",
        "\n",
        "import os\n",
        "import json\n",
        "import pandas as pd\n",
        "\n",
        "data = []\n",
        "\n",
        "\n",
        "# Load the JSON file\n",
        "with open(\"train/data-000000000021\") as f:\n",
        "# Extract the relevant features from each log entry\n",
        "    for line in f:\n",
        "        entry = json.loads(line)\n",
        "        # Extract the relevant features from the entry and add them to the data list\n",
        "        features = {'latency': entry['httpRequest']['latency'],\n",
        "                    'requestSize': entry['httpRequest']['requestSize'],\n",
        "                    'requestMethod': entry['httpRequest']['requestMethod'],\n",
        "                    'responseSize': entry['httpRequest']['responseSize'],\n",
        "                    'requestUrl': entry['httpRequest']['requestUrl'],\n",
        "                    'status': entry['httpRequest']['status'],\n",
        "                    'source_app': entry['labels']['source_app'],\n",
        "                    'timestamp': entry['timestamp']}\n",
        "        data.append(features)\n",
        "\n",
        "# Convert the list of dictionaries into a DataFrame\n",
        "df = pd.DataFrame(data)\n",
        "df.head"
      ]
    },
    {
      "cell_type": "code",
      "execution_count": null,
      "id": "9734b1af-2af0-42d9-94dc-a70c00a0dbb3",
      "metadata": {
        "id": "9734b1af-2af0-42d9-94dc-a70c00a0dbb3",
        "outputId": "d2313ef1-9489-4cd3-96bc-8f478ce53aa4"
      },
      "outputs": [
        {
          "name": "stdout",
          "output_type": "stream",
          "text": [
            "Number of errors: 18\n"
          ]
        },
        {
          "data": {
            "text/html": [
              "<div>\n",
              "<style scoped>\n",
              "    .dataframe tbody tr th:only-of-type {\n",
              "        vertical-align: middle;\n",
              "    }\n",
              "\n",
              "    .dataframe tbody tr th {\n",
              "        vertical-align: top;\n",
              "    }\n",
              "\n",
              "    .dataframe thead th {\n",
              "        text-align: right;\n",
              "    }\n",
              "</style>\n",
              "<table border=\"1\" class=\"dataframe\">\n",
              "  <thead>\n",
              "    <tr style=\"text-align: right;\">\n",
              "      <th></th>\n",
              "      <th>latency</th>\n",
              "      <th>requestSize</th>\n",
              "      <th>requestMethod</th>\n",
              "      <th>responseSize</th>\n",
              "      <th>requestUrl</th>\n",
              "      <th>status</th>\n",
              "      <th>source_app</th>\n",
              "      <th>timestamp</th>\n",
              "    </tr>\n",
              "  </thead>\n",
              "  <tbody>\n",
              "    <tr>\n",
              "      <th>0</th>\n",
              "      <td>0.001479</td>\n",
              "      <td>712</td>\n",
              "      <td>POST</td>\n",
              "      <td>1778</td>\n",
              "      <td>http://currencyservice:7000/hipstershop.Curren...</td>\n",
              "      <td>200</td>\n",
              "      <td>frontend</td>\n",
              "      <td>2023-04-15 09:29:32.235081 UTC</td>\n",
              "    </tr>\n",
              "    <tr>\n",
              "      <th>1</th>\n",
              "      <td>0.002243</td>\n",
              "      <td>712</td>\n",
              "      <td>POST</td>\n",
              "      <td>1778</td>\n",
              "      <td>http://currencyservice:7000/hipstershop.Curren...</td>\n",
              "      <td>200</td>\n",
              "      <td>frontend</td>\n",
              "      <td>2023-04-15 09:29:27.826092 UTC</td>\n",
              "    </tr>\n",
              "    <tr>\n",
              "      <th>2</th>\n",
              "      <td>0.001678</td>\n",
              "      <td>717</td>\n",
              "      <td>POST</td>\n",
              "      <td>1626</td>\n",
              "      <td>http://currencyservice:7000/hipstershop.Curren...</td>\n",
              "      <td>200</td>\n",
              "      <td>frontend</td>\n",
              "      <td>2023-04-15 09:29:29.543643 UTC</td>\n",
              "    </tr>\n",
              "    <tr>\n",
              "      <th>3</th>\n",
              "      <td>0.001477</td>\n",
              "      <td>717</td>\n",
              "      <td>POST</td>\n",
              "      <td>1626</td>\n",
              "      <td>http://currencyservice:7000/hipstershop.Curren...</td>\n",
              "      <td>200</td>\n",
              "      <td>frontend</td>\n",
              "      <td>2023-04-15 09:29:32.243186 UTC</td>\n",
              "    </tr>\n",
              "    <tr>\n",
              "      <th>4</th>\n",
              "      <td>0.001591</td>\n",
              "      <td>712</td>\n",
              "      <td>POST</td>\n",
              "      <td>1778</td>\n",
              "      <td>http://currencyservice:7000/hipstershop.Curren...</td>\n",
              "      <td>200</td>\n",
              "      <td>frontend</td>\n",
              "      <td>2023-04-15 09:29:31.537701 UTC</td>\n",
              "    </tr>\n",
              "  </tbody>\n",
              "</table>\n",
              "</div>"
            ],
            "text/plain": [
              "    latency requestSize requestMethod responseSize  \\\n",
              "0  0.001479         712          POST         1778   \n",
              "1  0.002243         712          POST         1778   \n",
              "2  0.001678         717          POST         1626   \n",
              "3  0.001477         717          POST         1626   \n",
              "4  0.001591         712          POST         1778   \n",
              "\n",
              "                                          requestUrl status source_app  \\\n",
              "0  http://currencyservice:7000/hipstershop.Curren...    200   frontend   \n",
              "1  http://currencyservice:7000/hipstershop.Curren...    200   frontend   \n",
              "2  http://currencyservice:7000/hipstershop.Curren...    200   frontend   \n",
              "3  http://currencyservice:7000/hipstershop.Curren...    200   frontend   \n",
              "4  http://currencyservice:7000/hipstershop.Curren...    200   frontend   \n",
              "\n",
              "                        timestamp  \n",
              "0  2023-04-15 09:29:32.235081 UTC  \n",
              "1  2023-04-15 09:29:27.826092 UTC  \n",
              "2  2023-04-15 09:29:29.543643 UTC  \n",
              "3  2023-04-15 09:29:32.243186 UTC  \n",
              "4  2023-04-15 09:29:31.537701 UTC  "
            ]
          },
          "execution_count": 1,
          "metadata": {},
          "output_type": "execute_result"
        }
      ],
      "source": [
        "folder_path = './train'  # change this to your folder path\n",
        "data = []\n",
        "errors = 0\n",
        "\n",
        "# Loop through all the files in the folder\n",
        "for filename in os.listdir(folder_path):\n",
        "    if (\"data\" not in filename):\n",
        "        continue\n",
        "    file_path = os.path.join(folder_path, filename)\n",
        "    # Load the JSON file\n",
        "    with open(file_path) as f:\n",
        "        # Extract the relevant features from each log entry\n",
        "        for line in f:\n",
        "            try:\n",
        "                entry = json.loads(line)\n",
        "                # Extract the relevant features from the entry and add them to the data list\n",
        "                features = {'latency': entry['httpRequest']['latency'],\n",
        "                            'requestSize': entry['httpRequest']['requestSize'],\n",
        "                            'requestMethod': entry['httpRequest']['requestMethod'],\n",
        "                            'responseSize': entry['httpRequest']['responseSize'],\n",
        "                            'requestUrl': entry['httpRequest']['requestUrl'],\n",
        "                            'status': entry['httpRequest']['status'],\n",
        "                            'source_app': entry['labels']['source_app'],\n",
        "                            'timestamp': entry['timestamp']}\n",
        "                data.append(features)\n",
        "            except json.JSONDecodeError:\n",
        "                # Handle JSONDecodeError and continue to the next line\n",
        "                errors += 1\n",
        "                # print(f\"Error decoding JSON in file {file_path}: {line}\")\n",
        "                continue\n",
        "\n",
        "# Convert the list of dictionaries into a DataFrame\n",
        "print(\"Number of errors: \" + str(errors))\n",
        "df = pd.DataFrame(data)\n",
        "df.head()"
      ]
    },
    {
      "cell_type": "code",
      "execution_count": null,
      "id": "6535e7f7-c21d-4190-9d63-dbe89ea04906",
      "metadata": {
        "tags": [],
        "id": "6535e7f7-c21d-4190-9d63-dbe89ea04906"
      },
      "outputs": [],
      "source": [
        "#OLD\n",
        "\n",
        "\n",
        "import json\n",
        "import pandas as pd\n",
        "\n",
        "\n",
        "# Load data from JSON file and Convert data to pandas DataFrame\n",
        "df = pd.read_json('data.json', convert_dates=['timestamp'])\n"
      ]
    },
    {
      "cell_type": "code",
      "execution_count": null,
      "id": "6653e514-7d54-4089-b1ce-b55e4dfc68d9",
      "metadata": {
        "tags": [],
        "id": "6653e514-7d54-4089-b1ce-b55e4dfc68d9",
        "outputId": "ec65a216-9d0b-4282-990a-251093100da1"
      },
      "outputs": [
        {
          "ename": "IndexError",
          "evalue": "tuple index out of range",
          "output_type": "error",
          "traceback": [
            "\u001b[0;31m---------------------------------------------------------------------------\u001b[0m",
            "\u001b[0;31mIndexError\u001b[0m                                Traceback (most recent call last)",
            "Input \u001b[0;32mIn [11]\u001b[0m, in \u001b[0;36m<cell line: 4>\u001b[0;34m()\u001b[0m\n\u001b[1;32m      1\u001b[0m \u001b[38;5;28;01mimport\u001b[39;00m \u001b[38;5;21;01mkeras\u001b[39;00m\n\u001b[1;32m      3\u001b[0m model \u001b[38;5;241m=\u001b[39m keras\u001b[38;5;241m.\u001b[39mSequential()\n\u001b[1;32m      4\u001b[0m model\u001b[38;5;241m.\u001b[39madd(keras\u001b[38;5;241m.\u001b[39mlayers\u001b[38;5;241m.\u001b[39mLSTM(\n\u001b[1;32m      5\u001b[0m     units\u001b[38;5;241m=\u001b[39m\u001b[38;5;241m64\u001b[39m,\n\u001b[0;32m----> 6\u001b[0m     input_shape\u001b[38;5;241m=\u001b[39m(X\u001b[38;5;241m.\u001b[39mshape[\u001b[38;5;241m1\u001b[39m], \u001b[43mX\u001b[49m\u001b[38;5;241;43m.\u001b[39;49m\u001b[43mshape\u001b[49m\u001b[43m[\u001b[49m\u001b[38;5;241;43m2\u001b[39;49m\u001b[43m]\u001b[49m)\n\u001b[1;32m      7\u001b[0m ))\n\u001b[1;32m      8\u001b[0m model\u001b[38;5;241m.\u001b[39madd(keras\u001b[38;5;241m.\u001b[39mlayers\u001b[38;5;241m.\u001b[39mDropout(rate\u001b[38;5;241m=\u001b[39m\u001b[38;5;241m0.2\u001b[39m))\n\u001b[1;32m      9\u001b[0m model\u001b[38;5;241m.\u001b[39madd(keras\u001b[38;5;241m.\u001b[39mlayers\u001b[38;5;241m.\u001b[39mRepeatVector(n\u001b[38;5;241m=\u001b[39mX_train\u001b[38;5;241m.\u001b[39mshape[\u001b[38;5;241m1\u001b[39m]))\n",
            "\u001b[0;31mIndexError\u001b[0m: tuple index out of range"
          ]
        }
      ],
      "source": [
        "import keras\n",
        "\n",
        "model = keras.Sequential()\n",
        "model.add(keras.layers.LSTM(\n",
        "    units=64,\n",
        "    input_shape=(X.shape[1], X.shape[2])\n",
        "))\n",
        "model.add(keras.layers.Dropout(rate=0.2))\n",
        "model.add(keras.layers.RepeatVector(n=X_train.shape[1]))\n",
        "model.add(keras.layers.LSTM(units=64, return_sequences=True))\n",
        "model.add(keras.layers.Dropout(rate=0.2))\n",
        "model.add(\n",
        "  keras.layers.TimeDistributed(\n",
        "    keras.layers.Dense(units=X_train.shape[2])\n",
        "  )\n",
        ")\n",
        "\n",
        "model.compile(loss='mae', optimizer='adam')"
      ]
    },
    {
      "cell_type": "code",
      "execution_count": null,
      "id": "6ff948af-ca0d-46c9-9538-12506802c37c",
      "metadata": {
        "tags": [],
        "id": "6ff948af-ca0d-46c9-9538-12506802c37c",
        "outputId": "7ea8b4e5-2f7b-4f89-e990-a0e04f69d832"
      },
      "outputs": [
        {
          "data": {
            "text/plain": [
              "array(['latency', 'requestSize', 'requestMethod', 'responseSize',\n",
              "       'requestUrl', 'status', 'source_app'], dtype=object)"
            ]
          },
          "execution_count": 5,
          "metadata": {},
          "output_type": "execute_result"
        }
      ],
      "source": [
        "#from sklearn.preprocessing import MinMaxScaler\n",
        "\n",
        "# Convert categorical features to one-hot encoded format\n",
        "#df = pd.get_dummies(df, columns=['requestUrl', 'status', 'source_app','requestMethod'])\n",
        "\n",
        "# Normalize the numerical features\n",
        "#scaler = MinMaxScaler()\n",
        "#df[[\"latency\", \"requestSize\", \"responseSize\"]] = scaler.fit_transform(df[[\"latency\", \"requestSize\", \"responseSize\"]])\n",
        "#df.columns.values.astype(list)"
      ]
    },
    {
      "cell_type": "code",
      "execution_count": null,
      "id": "c3986460-43ea-4036-b1bc-29660de47bc0",
      "metadata": {
        "id": "c3986460-43ea-4036-b1bc-29660de47bc0",
        "outputId": "29c9e4b6-b61a-4252-e6b6-868b70224a47"
      },
      "outputs": [
        {
          "name": "stdout",
          "output_type": "stream",
          "text": [
            "8/8 [==============================] - 1s 3ms/step\n",
            "Test MSE: latency                                                                                               0.011552\n",
            "requestSize                                                                                           0.003098\n",
            "responseSize                                                                                          0.053303\n",
            "requestUrl_http://adservice:9555/hipstershop.AdService/GetAds                                         0.063806\n",
            "requestUrl_http://cartservice:7070/hipstershop.CartService/AddItem                                    0.007903\n",
            "requestUrl_http://cartservice:7070/hipstershop.CartService/EmptyCart                                  0.000008\n",
            "requestUrl_http://cartservice:7070/hipstershop.CartService/GetCart                                    0.080683\n",
            "requestUrl_http://checkoutservice:5050/hipstershop.CheckoutService/PlaceOrder                         0.000004\n",
            "requestUrl_http://currencyservice:7000/hipstershop.CurrencyService/Convert                            0.136811\n",
            "requestUrl_http://currencyservice:7000/hipstershop.CurrencyService/GetSupportedCurrencies             0.080350\n",
            "requestUrl_http://emailservice:5000/hipstershop.EmailService/SendOrderConfirmation                    0.000008\n",
            "requestUrl_http://paymentservice:50051/hipstershop.PaymentService/Charge                              0.000009\n",
            "requestUrl_http://productcatalogservice:3550/hipstershop.ProductCatalogService/GetProduct             0.245808\n",
            "requestUrl_http://productcatalogservice:3550/hipstershop.ProductCatalogService/ListProducts           0.067597\n",
            "requestUrl_http://recommendationservice:8080/hipstershop.RecommendationService/ListRecommendations    0.062272\n",
            "requestUrl_http://shippingservice:50051/hipstershop.ShippingService/GetQuote                          0.007981\n",
            "requestUrl_http://shippingservice:50051/hipstershop.ShippingService/ShipOrder                         0.000005\n",
            "status_200                                                                                            0.000073\n",
            "source_app_checkoutservice                                                                            0.001262\n",
            "source_app_frontend                                                                                   0.064354\n",
            "source_app_recommendationservice                                                                      0.060172\n",
            "requestMethod_POST                                                                                    0.000049\n",
            "dtype: float64\n"
          ]
        },
        {
          "name": "stderr",
          "output_type": "stream",
          "text": [
            "/opt/software/lib/python3.9/site-packages/numpy/core/fromnumeric.py:3438: FutureWarning: In a future version, DataFrame.mean(axis=None) will return a scalar mean over the entire DataFrame. To retain the old behavior, use 'frame.mean(axis=0)' or just 'frame.mean()'\n",
            "  return mean(axis=axis, dtype=dtype, out=out, **kwargs)\n"
          ]
        }
      ],
      "source": [
        "\n",
        "test_array = np.array(test)\n",
        "test_array = np.reshape(test_array, (test_array.shape[0], 1, test_array.shape[1]))\n",
        "\n",
        "# Generate predictions on test data\n",
        "y_pred = model.predict(test_array)\n",
        "\n",
        "# Denormalize the predicted values\n",
        "y_pred_denorm = scaler.inverse_transform(y_pred)\n",
        "\n",
        "# Calculate the mean squared error\n",
        "mse = np.mean(np.square(test - y_pred_denorm))\n",
        "\n",
        "print('Test MSE:', mse)\n"
      ]
    },
    {
      "cell_type": "code",
      "execution_count": null,
      "id": "21e8e4ba-8ed5-4d26-8dd0-37441965ac5d",
      "metadata": {
        "id": "21e8e4ba-8ed5-4d26-8dd0-37441965ac5d"
      },
      "outputs": [],
      "source": []
    }
  ],
  "metadata": {
    "kernelspec": {
      "display_name": "Python 3",
      "language": "python",
      "name": "python3"
    },
    "language_info": {
      "codemirror_mode": {
        "name": "ipython",
        "version": 3
      },
      "file_extension": ".py",
      "mimetype": "text/x-python",
      "name": "python",
      "nbconvert_exporter": "python",
      "pygments_lexer": "ipython3",
      "version": "3.9.16"
    },
    "colab": {
      "provenance": [],
      "history_visible": true,
      "machine_shape": "hm",
      "gpuType": "T4",
      "toc_visible": true
    },
    "accelerator": "GPU",
    "gpuClass": "standard"
  },
  "nbformat": 4,
  "nbformat_minor": 5
}