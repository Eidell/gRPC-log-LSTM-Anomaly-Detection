{
  "cells": [
    {
      "cell_type": "code",
      "source": [
        "import tensorflow as tf\n",
        "from tensorflow.keras import layers\n",
        "\n",
        "import os\n",
        "import pandas as pd\n",
        "import json\n",
        "import numpy as np"
      ],
      "metadata": {
        "id": "aZ06re8w5-aY"
      },
      "id": "aZ06re8w5-aY",
      "execution_count": null,
      "outputs": []
    },
    {
      "cell_type": "markdown",
      "source": [
        "### vauth"
      ],
      "metadata": {
        "id": "7vxbc0Yg8le1"
      },
      "id": "7vxbc0Yg8le1"
    },
    {
      "cell_type": "code",
      "source": [
        "from google.colab import auth\n",
        "auth.authenticate_user()\n"
      ],
      "metadata": {
        "id": "PzJxt8VV8kxf"
      },
      "id": "PzJxt8VV8kxf",
      "execution_count": null,
      "outputs": []
    },
    {
      "cell_type": "markdown",
      "source": [
        "# preprosessing"
      ],
      "metadata": {
        "id": "N1jejr4U6Dcs"
      },
      "id": "N1jejr4U6Dcs"
    },
    {
      "cell_type": "markdown",
      "source": [
        "## extract features from files and make a dataframe"
      ],
      "metadata": {
        "id": "9-1tjNKO6HmP"
      },
      "id": "9-1tjNKO6HmP"
    },
    {
      "cell_type": "code",
      "source": [
        "#help function to import data as dataframes\n",
        "def import_to_df(folder, start, end): \n",
        "  \n",
        "  #preprosess filenames\n",
        "  filenamessorted = []\n",
        "  for filename in os.listdir(folder):\n",
        "      if (\"data\" not in filename):\n",
        "          continue\n",
        "      file_path = os.path.join(folder, filename)\n",
        "      with open(file_path) as f:\n",
        "        try: \n",
        "          entry = json.loads(f.readline())\n",
        "          filenamessorted.append((filename,entry['timestamp']))\n",
        "        except:\n",
        "          continue\n",
        "  filenamessorted.sort(key=lambda a: a[1])\n",
        "  files = [t[0] for t in filenamessorted]\n",
        "  filessliced = files[start:end]\n",
        " \n",
        "  print(filessliced)\n",
        "\n",
        "  data = []\n",
        "  errors = 0\n",
        "  for filename in filessliced:\n",
        "      file_path = os.path.join(folder, filename)\n",
        "      with open(file_path) as f:\n",
        "          # Extract the relevant features from each log entry\n",
        "          for line in f:\n",
        "              try:\n",
        "                  entry = json.loads(line)\n",
        "                  # Extract the relevant features from the entry and add them to the data list\n",
        "                  features = {'latency': entry['httpRequest']['latency'],\n",
        "                              'requestSize': entry['httpRequest']['requestSize'],\n",
        "                              'requestMethod': entry['httpRequest']['requestMethod'],\n",
        "                              'responseSize': entry['httpRequest']['responseSize'],\n",
        "                              'requestUrl': entry['httpRequest']['requestUrl'],\n",
        "                              'status': entry['httpRequest']['status'],\n",
        "                              'source_app': entry['labels']['source_app'],\n",
        "                              'timestamp': entry['timestamp']}\n",
        "                  data.append(features)\n",
        "              except json.JSONDecodeError:\n",
        "                  # Handle JSONDecodeError and continue to the next line\n",
        "                  errors += 1\n",
        "                  print(f\"Error decoding JSON in file {file_path}: {line}\")\n",
        "                  continue\n",
        "              except KeyError:\n",
        "                  # Error and continue to the next line\n",
        "                  errors += 1\n",
        "                  print(f\"KEY error in file {file_path}: {line}\")\n",
        "                  continue\n",
        "\n",
        "\n",
        "  # Convert the list of dictionaries into a DataFrame\n",
        "  print(\"Number of errors: \" + str(errors))\n",
        "  df = pd.DataFrame(data)\n",
        "\n",
        "  df['timestamp'] = pd.to_datetime(df['timestamp'], utc=True)\n",
        "  df.set_index('timestamp', inplace=True)\n",
        "  df = df.sort_index()\n",
        "\n",
        "  dforiginal = df.copy()\n",
        "  return df, dforiginal\n"
      ],
      "metadata": {
        "id": "bsPUQSp-5kpb"
      },
      "id": "bsPUQSp-5kpb",
      "execution_count": 112,
      "outputs": []
    },
    {
      "cell_type": "markdown",
      "source": [
        "## import train"
      ],
      "metadata": {
        "id": "qOuulQOpR0ib"
      },
      "id": "qOuulQOpR0ib"
    },
    {
      "cell_type": "code",
      "source": [
        "''' ---- real call:'''\n",
        "train_df,train_dforiginal = import_to_df(\"/content/normal\",17,40);\n",
        "\n",
        "''' ---- testing calls:'''\n",
        "#train_df,train_dforiginal = import_to_df(\"/content/normal\",17,25);\n"
      ],
      "metadata": {
        "colab": {
          "base_uri": "https://localhost:8080/",
          "height": 93
        },
        "id": "sUF_zR0jR7qB",
        "outputId": "9a3ab8fc-d33b-475d-88dd-8dce4533326a"
      },
      "id": "sUF_zR0jR7qB",
      "execution_count": 113,
      "outputs": [
        {
          "metadata": {
            "tags": null
          },
          "name": "stdout",
          "output_type": "stream",
          "text": [
            "['data000000000018', 'data000000000019', 'data000000000021', 'data000000000020', 'data000000000022', 'data000000000024', 'data000000000023', 'data000000000025', 'data000000000031', 'data000000000026', 'data000000000027', 'data000000000028', 'data000000000029', 'data000000000030', 'data000000000032', 'data000000000033', 'data000000000034', 'data000000000035', 'data000000000036', 'data000000000037', 'data000000000038', 'data000000000039', 'data000000000040']\n",
            "Number of errors: 0\n"
          ]
        },
        {
          "output_type": "execute_result",
          "data": {
            "text/plain": [
              "' ---- testing calls:'"
            ],
            "application/vnd.google.colaboratory.intrinsic+json": {
              "type": "string"
            }
          },
          "metadata": {},
          "execution_count": 113
        }
      ]
    },
    {
      "cell_type": "markdown",
      "source": [
        "## import test"
      ],
      "metadata": {
        "id": "XZtnlZ51R3dl"
      },
      "id": "XZtnlZ51R3dl"
    },
    {
      "cell_type": "code",
      "source": [
        "''' ---- real call: '''\n",
        "test_df,test_dforiginal  = import_to_df(\"/content/anomaly\",39, 50);\n",
        "\n",
        "'''---- testing calls:\n",
        "'''\n",
        "#test_df, test_dforiginal = import_to_df(\"/content/anomaly\",39,45);\n"
      ],
      "metadata": {
        "colab": {
          "base_uri": "https://localhost:8080/",
          "height": 93
        },
        "id": "4Z2zq2e2SVo7",
        "outputId": "60db0acb-5c07-4fbd-87cf-39509f633cfe"
      },
      "execution_count": 114,
      "outputs": [
        {
          "output_type": "stream",
          "name": "stdout",
          "text": [
            "['data-000000000046', 'data-000000000034', 'data-000000000030', 'data-000000000048', 'data-000000000043', 'data-000000000051', 'data-000000000052', 'data-000000000045', 'data-000000000047', 'data-000000000042', 'data-000000000049']\n",
            "Number of errors: 0\n"
          ]
        },
        {
          "output_type": "execute_result",
          "data": {
            "text/plain": [
              "'---- testing calls:\\n'"
            ],
            "application/vnd.google.colaboratory.intrinsic+json": {
              "type": "string"
            }
          },
          "metadata": {},
          "execution_count": 114
        }
      ],
      "id": "4Z2zq2e2SVo7"
    },
    {
      "cell_type": "markdown",
      "source": [
        "## Latency"
      ],
      "metadata": {
        "id": "ZV26tOIZyP94"
      },
      "id": "ZV26tOIZyP94"
    },
    {
      "cell_type": "markdown",
      "source": [
        "### plot"
      ],
      "metadata": {
        "id": "HAum_Ssf5oEV"
      },
      "id": "HAum_Ssf5oEV"
    },
    {
      "cell_type": "code",
      "source": [
        "import pandas as pd\n",
        "import numpy as np\n",
        "import matplotlib.pyplot as plt\n",
        "\n",
        "\n",
        "latency_mean = train_df['latency'].mean()\n",
        "latency_std = train_df['latency'].std()\n",
        "thresholds = []\n",
        "\n",
        "for i in range(4):\n",
        "\n",
        "# Define threshold for abnormal latency as three standard deviations away from the mean of TrainDF\n",
        "  thresholds.append(latency_mean + i*latency_std)\n",
        "\n",
        "# Define empty lists to store results\n",
        "train_labels_list = []\n",
        "train_fractions_list = []\n",
        "test_labels_list = []\n",
        "test_fractions_list = []\n",
        "\n",
        "# Loop over threshold values\n",
        "for threshold in thresholds:\n",
        "\n",
        "    train_df['latency_label'] = np.where(train_df['latency'] > threshold, 1, 0)\n",
        "    test_df['latency_label'] = np.where(test_df['latency'] > threshold, 1, 0)\n",
        "\n",
        "    # Compute fraction of abnormal latencies\n",
        "    train_fraction = train_df['latency_label'].value_counts()[1]/train_df.shape[0]\n",
        "    test_fraction = test_df['latency_label'].value_counts()[1]/test_df.shape[0]\n",
        "    #test_fraction = test_df['latency_label'].mean()\n",
        "\n",
        "    # Append results to lists\n",
        "    train_labels_list.append(train_df['latency_label'])\n",
        "    train_fractions_list.append(train_fraction)\n",
        "    test_labels_list.append(test_df['latency_label'])\n",
        "    test_fractions_list.append(test_fraction)\n",
        "\n",
        "\n",
        "# Plot results\n",
        "plt.plot(thresholds, train_fractions_list, label='Train')\n",
        "plt.plot(thresholds, test_fractions_list, label='Test')\n",
        "plt.legend()\n",
        "plt.xlabel('Threshold')\n",
        "plt.ylabel('Fraction of abnormal latencies')\n",
        "plt.show()\n",
        "\n",
        "# Create table of results\n",
        "results = pd.DataFrame({'Threshold': thresholds, 'Train Fraction': train_fractions_list, 'Test Fraction': test_fractions_list})\n",
        "print(results)\n"
      ],
      "metadata": {
        "id": "HORaB4Z_yOgE",
        "outputId": "f6d860e2-39c0-4ebb-b192-b653a7d3ebd5",
        "colab": {
          "base_uri": "https://localhost:8080/",
          "height": 541
        }
      },
      "id": "HORaB4Z_yOgE",
      "execution_count": 116,
      "outputs": [
        {
          "output_type": "display_data",
          "data": {
            "text/plain": [
              "<Figure size 640x480 with 1 Axes>"
            ],
            "image/png": "[encoded data removed]"
          },
          "metadata": {}
        },
        {
          "output_type": "stream",
          "name": "stdout",
          "text": [
            "   Threshold  Train Fraction  Test Fraction\n",
            "0   0.009487        0.165548       0.167446\n",
            "1   0.033471        0.110739       0.111746\n",
            "2   0.057456        0.061928       0.061611\n",
            "3   0.081440        0.012603       0.012920\n"
          ]
        }
      ]
    },
    {
      "cell_type": "code",
      "source": [
        "train_df['latency_label'].value_counts(),test_df['latency_label'].value_counts()"
      ],
      "metadata": {
        "id": "mBqZ5zmJzyVF",
        "outputId": "e61d8246-5305-4ae3-ef5b-ea3051e80827",
        "colab": {
          "base_uri": "https://localhost:8080/"
        }
      },
      "id": "mBqZ5zmJzyVF",
      "execution_count": null,
      "outputs": [
        {
          "output_type": "execute_result",
          "data": {
            "text/plain": [
              "(0    336898\n",
              " 1      4193\n",
              " Name: latency_label, dtype: int64,\n",
              " 0    240609\n",
              " 1      3051\n",
              " Name: latency_label, dtype: int64)"
            ]
          },
          "metadata": {},
          "execution_count": 54
        }
      ]
    },
    {
      "cell_type": "markdown",
      "source": [
        "### determine"
      ],
      "metadata": {
        "id": "Fs3serfm55UH"
      },
      "id": "Fs3serfm55UH"
    },
    {
      "cell_type": "code",
      "source": [
        "latency_threshold = (latency_mean + 1*latency_std)\n",
        "\n",
        "train_df['latency_label'] = np.where(train_df['latency'] > latency_threshold, 1, 0)\n",
        "test_df['latency_label'] = np.where(test_df['latency'] > latency_threshold, 1, 0)\n"
      ],
      "metadata": {
        "id": "DNIAXCnW5wwu"
      },
      "id": "DNIAXCnW5wwu",
      "execution_count": 119,
      "outputs": []
    },
    {
      "cell_type": "markdown",
      "source": [
        "## backup and debugging"
      ],
      "metadata": {
        "id": "UidQOBjfXJPN"
      },
      "id": "UidQOBjfXJPN"
    },
    {
      "cell_type": "code",
      "execution_count": null,
      "id": "eee56b51-2f00-46c4-bb92-34139fb5786b",
      "metadata": {
        "colab": {
          "base_uri": "https://localhost:8080/"
        },
        "id": "eee56b51-2f00-46c4-bb92-34139fb5786b",
        "outputId": "c806ad40-1d69-42e3-e737-eb6291c42285"
      },
      "outputs": [
        {
          "output_type": "stream",
          "name": "stdout",
          "text": [
            "(10000, 7) 10000\n",
            "(10000, 7) 10000\n"
          ]
        }
      ],
      "source": [
        "print(train_dforiginal.shape, len(train_df))\n",
        "print(test_dforiginal.shape, len(test_df))\n"
      ]
    },
    {
      "cell_type": "code",
      "source": [
        "earliest_train = train_df.index.min()\n",
        "latest_train = train_df.index.max()\n",
        "earliest_test = test_df.index.min()\n",
        "latest_test = test_df.index.max()\n",
        "\n",
        "print(\"Earliest train timestamp:\", earliest_train)\n",
        "print(\"Latest train timestamp:\", latest_train)\n",
        "print(\"Earliest test timestamp:\", earliest_test)\n",
        "print(\"Latest test timestamp:\", latest_test)\n"
      ],
      "metadata": {
        "colab": {
          "base_uri": "https://localhost:8080/"
        },
        "id": "gGOhJS_zR9uU",
        "outputId": "79b36db4-1310-4f90-ef74-f1aa1573f181"
      },
      "id": "gGOhJS_zR9uU",
      "execution_count": null,
      "outputs": [
        {
          "output_type": "stream",
          "name": "stdout",
          "text": [
            "Earliest train timestamp: 2023-04-18 00:28:36.741168+00:00\n",
            "Latest train timestamp: 2023-04-18 00:57:39.686390+00:00\n",
            "Earliest test timestamp: 2023-04-21 00:07:40.949091+00:00\n",
            "Latest test timestamp: 2023-04-21 01:07:49.241144+00:00\n"
          ]
        }
      ]
    },
    {
      "cell_type": "code",
      "source": [
        "# in case of error\n",
        "train_df = train_dforiginal\n",
        "test_df = test_dforiginal\n",
        "\n",
        "print(train_df.head)\n",
        "print(test_df.head)"
      ],
      "metadata": {
        "id": "gGvQCW9nWkjt"
      },
      "id": "gGvQCW9nWkjt",
      "execution_count": null,
      "outputs": []
    },
    {
      "cell_type": "markdown",
      "source": [
        "## create keys and dummies"
      ],
      "metadata": {
        "id": "cxF-5KAKXLRZ"
      },
      "id": "cxF-5KAKXLRZ"
    },
    {
      "cell_type": "code",
      "source": [
        "train_df.to_csv('trainfinal.csv', index=True)\n",
        "test_df.to_csv('testfinal.csv', index=True)"
      ],
      "metadata": {
        "id": "bVs2LKb7rf8k"
      },
      "id": "bVs2LKb7rf8k",
      "execution_count": 120,
      "outputs": []
    },
    {
      "cell_type": "code",
      "execution_count": 121,
      "id": "9a1f3b4a-fba7-411a-a625-a7d6f6d76e1c",
      "metadata": {
        "id": "9a1f3b4a-fba7-411a-a625-a7d6f6d76e1c"
      },
      "outputs": [],
      "source": [
        "# concatenate the dataframes\n",
        "df_concat = pd.concat([test_df, train_df], axis=0)\n",
        "\n",
        "\n",
        "# create keys for both dataframes\n",
        "df_concat['key'] = df_concat.groupby(['latency_label', 'requestSize', 'requestMethod', 'responseSize',\n",
        "       'requestUrl', 'status', 'source_app'], dropna=False).ngroup()\n",
        "\n",
        "# get dummies for the 'key' column\n",
        "df_concat=df_concat[['key']]\n",
        "df_concat = pd.get_dummies(df_concat, columns=['key'])\n",
        "\n",
        "\n",
        "# split back into original dataframes\n",
        "test_df = df_concat.iloc[:len(test_df), :]\n",
        "train_df = df_concat.iloc[len(test_df):, :]"
      ]
    },
    {
      "cell_type": "code",
      "execution_count": 122,
      "id": "054aa215-7c50-41b9-91e3-c6710279bd5b",
      "metadata": {
        "id": "054aa215-7c50-41b9-91e3-c6710279bd5b",
        "outputId": "a4982cbe-d899-4ecc-f0e1-2b0075afaa68",
        "colab": {
          "base_uri": "https://localhost:8080/"
        }
      },
      "outputs": [
        {
          "output_type": "stream",
          "name": "stdout",
          "text": [
            "(834294, 615)\n",
            "(403497, 615)\n"
          ]
        }
      ],
      "source": [
        "print(train_df.shape)\n",
        "print(test_df.shape)\n",
        "#print(test_df.head())"
      ]
    },
    {
      "cell_type": "markdown",
      "source": [
        "# AUTOENCODER AS FUNCTION"
      ],
      "metadata": {
        "id": "EvjbL2695Kp8"
      },
      "id": "EvjbL2695Kp8"
    },
    {
      "cell_type": "code",
      "source": [
        "def autoencode():\n",
        "  X_pred = model.predict(x_train_shaped)\n",
        "X_pred_test = model.predict(x_test_shaped)\n",
        "model.save('model{}.h5'.format(timesteps))"
      ],
      "metadata": {
        "id": "igmVLZT95NJC"
      },
      "id": "igmVLZT95NJC",
      "execution_count": null,
      "outputs": []
    },
    {
      "cell_type": "markdown",
      "source": [
        "# AUTOENCODER"
      ],
      "metadata": {
        "id": "5aNuJy31zy9K"
      },
      "id": "5aNuJy31zy9K"
    },
    {
      "cell_type": "markdown",
      "source": [
        "## gpu test"
      ],
      "metadata": {
        "id": "PBd0DewyVlX7"
      },
      "id": "PBd0DewyVlX7"
    },
    {
      "cell_type": "code",
      "source": [
        "import tensorflow as tf\n",
        "\n",
        "gpus = tf.config.experimental.list_physical_devices('GPU')\n",
        "if gpus:\n",
        "    try:\n",
        "        for gpu in gpus:\n",
        "            tf.config.experimental.set_memory_growth(gpu, True)\n",
        "    except RuntimeError as e:\n",
        "        print(e)"
      ],
      "metadata": {
        "id": "H6OvhVJj9Uoi"
      },
      "id": "H6OvhVJj9Uoi",
      "execution_count": null,
      "outputs": []
    },
    {
      "cell_type": "code",
      "source": [
        "import tensorflow as tf\n",
        "device_name = tf.test.gpu_device_name()\n",
        "if device_name != '/device:GPU:0':\n",
        "  raise SystemError('GPU device not found')\n",
        "print('Found GPU at: {}'.format(device_name))\n",
        "tf.config.experimental.list_physical_devices('GPU')"
      ],
      "metadata": {
        "colab": {
          "base_uri": "https://localhost:8080/"
        },
        "id": "XdfD6s3loCUP",
        "outputId": "13e39d7c-9cee-4edb-af08-604f1a831dfd"
      },
      "id": "XdfD6s3loCUP",
      "execution_count": null,
      "outputs": [
        {
          "output_type": "stream",
          "name": "stdout",
          "text": [
            "Found GPU at: /device:GPU:0\n"
          ]
        },
        {
          "output_type": "execute_result",
          "data": {
            "text/plain": [
              "[PhysicalDevice(name='/physical_device:GPU:0', device_type='GPU')]"
            ]
          },
          "metadata": {},
          "execution_count": 12
        }
      ]
    },
    {
      "cell_type": "markdown",
      "source": [
        "## timeseries"
      ],
      "metadata": {
        "id": "UQwZkIaU0wut"
      },
      "id": "UQwZkIaU0wut"
    },
    {
      "cell_type": "code",
      "source": [
        "\n",
        "\n",
        "num_steps = 20\n",
        "features = train_df.shape[1]\n",
        "\n",
        "train_batches = (train_df.shape[0] // num_steps) * num_steps\n",
        "train_data = train_df.iloc[:train_batches]\n",
        "\n",
        "features = train_df.shape[1]\n",
        "x_train_shaped = np.reshape(train_data.to_numpy(), newshape=(-1, num_steps, features))\n"
      ],
      "metadata": {
        "id": "Cj80aj_fkZRK"
      },
      "id": "Cj80aj_fkZRK",
      "execution_count": 123,
      "outputs": []
    },
    {
      "cell_type": "code",
      "source": [
        "test_batches = (test_df.shape[0] // num_steps) * num_steps\n",
        "test_data = test_df.iloc[:test_batches]\n",
        "\n",
        "features = test_df.shape[1]\n",
        "x_test_shaped = np.reshape(test_data.to_numpy(), newshape=(-1, num_steps, features))\n"
      ],
      "metadata": {
        "id": "X9nQ8Uj10QZZ"
      },
      "id": "X9nQ8Uj10QZZ",
      "execution_count": 126,
      "outputs": []
    },
    {
      "cell_type": "code",
      "source": [
        "x_train_shaped.shape, x_test_shaped.shape"
      ],
      "metadata": {
        "colab": {
          "base_uri": "https://localhost:8080/"
        },
        "id": "VhwPznhCpfFl",
        "outputId": "5a70fa1e-5fab-43a1-dc84-d54bbe5a9901"
      },
      "id": "VhwPznhCpfFl",
      "execution_count": 127,
      "outputs": [
        {
          "output_type": "execute_result",
          "data": {
            "text/plain": [
              "((41714, 20, 615), (20174, 20, 615))"
            ]
          },
          "metadata": {},
          "execution_count": 127
        }
      ]
    },
    {
      "cell_type": "markdown",
      "source": [
        "## define model"
      ],
      "metadata": {
        "id": "x5NGuLqBjv-u"
      },
      "id": "x5NGuLqBjv-u"
    },
    {
      "cell_type": "code",
      "source": [
        "import keras\n",
        "from keras.models import Sequential\n",
        "from keras.layers import LSTM\n",
        "from keras.layers import RepeatVector\n",
        "from keras.layers import TimeDistributed\n",
        "from keras.layers import Dense\n",
        "\n",
        "\n",
        "# Define the model \n",
        "model = Sequential()\n",
        "\n",
        "# Encoder\n",
        "model.add(LSTM(128, activation='tanh', input_shape=(x_train_shaped.shape[1],x_train_shaped.shape[2]), return_sequences=True))\n",
        "model.add(LSTM(64, activation='tanh', return_sequences=False))\n",
        "model.add(RepeatVector(x_train_shaped.shape[1]))\n",
        "\n",
        "# Decoder\n",
        "model.add(LSTM(64, activation='tanh', return_sequences=True))\n",
        "model.add(LSTM(128, activation='tanh', return_sequences=True))\n",
        "model.add(TimeDistributed(Dense(x_train_shaped.shape[2])))\n",
        "\n",
        "model.compile(optimizer='adam', loss='mse',metrics=['accuracy'])\n",
        "model.summary()\n"
      ],
      "metadata": {
        "colab": {
          "base_uri": "https://localhost:8080/"
        },
        "id": "d4n9u8xUHlxZ",
        "outputId": "eb12bc2e-c044-43ad-fdbb-3ed312f0ff65"
      },
      "id": "d4n9u8xUHlxZ",
      "execution_count": 128,
      "outputs": [
        {
          "output_type": "stream",
          "name": "stdout",
          "text": [
            "Model: \"sequential_4\"\n",
            "_________________________________________________________________\n",
            " Layer (type)                Output Shape              Param #   \n",
            "=================================================================\n",
            " lstm_16 (LSTM)              (None, 20, 128)           380928    \n",
            "                                                                 \n",
            " lstm_17 (LSTM)              (None, 64)                49408     \n",
            "                                                                 \n",
            " repeat_vector_4 (RepeatVect  (None, 20, 64)           0         \n",
            " or)                                                             \n",
            "                                                                 \n",
            " lstm_18 (LSTM)              (None, 20, 64)            33024     \n",
            "                                                                 \n",
            " lstm_19 (LSTM)              (None, 20, 128)           98816     \n",
            "                                                                 \n",
            " time_distributed_4 (TimeDis  (None, 20, 615)          79335     \n",
            " tributed)                                                       \n",
            "                                                                 \n",
            "=================================================================\n",
            "Total params: 641,511\n",
            "Trainable params: 641,511\n",
            "Non-trainable params: 0\n",
            "_________________________________________________________________\n"
          ]
        }
      ]
    },
    {
      "cell_type": "code",
      "source": [
        "model.layers[0].input_shape\n"
      ],
      "metadata": {
        "colab": {
          "base_uri": "https://localhost:8080/"
        },
        "id": "yxLL35klpa0w",
        "outputId": "fb7782aa-d78b-4b53-8d95-a52e37a33f4a"
      },
      "id": "yxLL35klpa0w",
      "execution_count": 129,
      "outputs": [
        {
          "output_type": "execute_result",
          "data": {
            "text/plain": [
              "(None, 20, 615)"
            ]
          },
          "metadata": {},
          "execution_count": 129
        }
      ]
    },
    {
      "cell_type": "markdown",
      "source": [
        "### fit"
      ],
      "metadata": {
        "id": "YjBrS-zhy0mI"
      },
      "id": "YjBrS-zhy0mI"
    },
    {
      "cell_type": "code",
      "source": [
        "import matplotlib.pyplot as plt\n",
        "\n",
        "epochs = 250\n",
        "checkpoint_filepath = '/tmp/checkpoint'\n",
        "model_checkpoint_callback = tf.keras.callbacks.ModelCheckpoint(\n",
        "    filepath=checkpoint_filepath,\n",
        "    save_weights_only=True,\n",
        "    monitor='val_accuracy',\n",
        "    mode='max',\n",
        "    save_best_only=True)\n",
        "\n",
        "# Model weights are saved at the end of every epoch, if it's the best seen\n",
        "# so far.\n",
        "\n",
        "history = model.fit(x_train_shaped,x_train_shaped, epochs=epochs, validation_split=0.2, callbacks=[model_checkpoint_callback])\n",
        "\n",
        "# Plot training and validation loss over epochs\n",
        "loss = history.history['loss']\n",
        "val_loss = history.history['val_loss']\n",
        "epochs = range(len(loss))\n",
        "\n",
        "plt.figure()\n",
        "plt.plot(epochs, loss, 'r', label='Training loss')\n",
        "plt.plot(epochs, val_loss, 'b', label='Validation loss')\n",
        "plt.title('Training and validation loss')\n",
        "plt.legend()\n",
        "plt.show()"
      ],
      "metadata": {
        "colab": {
          "base_uri": "https://localhost:8080/",
          "height": 1000
        },
        "id": "WV4tW8L7xGo_",
        "outputId": "f4c40ebf-285c-4c66-bf29-1d89f6226b72"
      },
      "id": "WV4tW8L7xGo_",
      "execution_count": 130,
      "outputs": [
        {
          "output_type": "stream",
          "name": "stdout",
          "text": [
            "Epoch 1/250\n",
            "1043/1043 [==============================] - 21s 13ms/step - loss: 0.0015 - accuracy: 0.1967 - val_loss: 0.0014 - val_accuracy: 0.2610\n",
            "Epoch 2/250\n",
            "1043/1043 [==============================] - 12s 11ms/step - loss: 0.0013 - accuracy: 0.3011 - val_loss: 0.0012 - val_accuracy: 0.3592\n",
            "Epoch 3/250\n",
            "1043/1043 [==============================] - 11s 11ms/step - loss: 0.0012 - accuracy: 0.3871 - val_loss: 0.0011 - val_accuracy: 0.4117\n",
            "Epoch 4/250\n",
            "1043/1043 [==============================] - 11s 11ms/step - loss: 0.0011 - accuracy: 0.4272 - val_loss: 0.0011 - val_accuracy: 0.4393\n",
            "Epoch 5/250\n",
            "1043/1043 [==============================] - 11s 11ms/step - loss: 0.0011 - accuracy: 0.4487 - val_loss: 0.0010 - val_accuracy: 0.4626\n",
            "Epoch 6/250\n",
            "1043/1043 [==============================] - 11s 11ms/step - loss: 0.0010 - accuracy: 0.4727 - val_loss: 0.0010 - val_accuracy: 0.4879\n",
            "Epoch 7/250\n",
            "1043/1043 [==============================] - 11s 11ms/step - loss: 0.0010 - accuracy: 0.4968 - val_loss: 9.8935e-04 - val_accuracy: 0.5081\n",
            "Epoch 8/250\n",
            "1043/1043 [==============================] - 11s 11ms/step - loss: 9.7484e-04 - accuracy: 0.5201 - val_loss: 9.5404e-04 - val_accuracy: 0.5336\n",
            "Epoch 9/250\n",
            "1043/1043 [==============================] - 11s 11ms/step - loss: 9.4733e-04 - accuracy: 0.5401 - val_loss: 9.2359e-04 - val_accuracy: 0.5545\n",
            "Epoch 10/250\n",
            "1043/1043 [==============================] - 11s 11ms/step - loss: 9.1413e-04 - accuracy: 0.5616 - val_loss: 9.1103e-04 - val_accuracy: 0.5661\n",
            "Epoch 11/250\n",
            "1043/1043 [==============================] - 11s 11ms/step - loss: 8.7699e-04 - accuracy: 0.5854 - val_loss: 8.5997e-04 - val_accuracy: 0.5968\n",
            "Epoch 12/250\n",
            "1043/1043 [==============================] - 11s 11ms/step - loss: 8.4878e-04 - accuracy: 0.6036 - val_loss: 8.8812e-04 - val_accuracy: 0.5869\n",
            "Epoch 13/250\n",
            "1043/1043 [==============================] - 11s 11ms/step - loss: 8.0047e-04 - accuracy: 0.6299 - val_loss: 7.8877e-04 - val_accuracy: 0.6348\n",
            "Epoch 14/250\n",
            "1043/1043 [==============================] - 12s 11ms/step - loss: 7.7400e-04 - accuracy: 0.6442 - val_loss: 7.5613e-04 - val_accuracy: 0.6519\n",
            "Epoch 15/250\n",
            "1043/1043 [==============================] - 11s 11ms/step - loss: 7.5063e-04 - accuracy: 0.6568 - val_loss: 7.4292e-04 - val_accuracy: 0.6599\n",
            "Epoch 16/250\n",
            "1043/1043 [==============================] - 11s 11ms/step - loss: 7.2033e-04 - accuracy: 0.6724 - val_loss: 7.1511e-04 - val_accuracy: 0.6735\n",
            "Epoch 17/250\n",
            "1043/1043 [==============================] - 11s 11ms/step - loss: 7.0651e-04 - accuracy: 0.6799 - val_loss: 6.9110e-04 - val_accuracy: 0.6875\n",
            "Epoch 18/250\n",
            "1043/1043 [==============================] - 11s 11ms/step - loss: 6.8549e-04 - accuracy: 0.6902 - val_loss: 6.7729e-04 - val_accuracy: 0.6942\n",
            "Epoch 19/250\n",
            "1043/1043 [==============================] - 11s 11ms/step - loss: 6.5489e-04 - accuracy: 0.7050 - val_loss: 6.5793e-04 - val_accuracy: 0.7039\n",
            "Epoch 20/250\n",
            "1043/1043 [==============================] - 11s 11ms/step - loss: 6.4274e-04 - accuracy: 0.7117 - val_loss: 6.5896e-04 - val_accuracy: 0.7057\n",
            "Epoch 21/250\n",
            "1043/1043 [==============================] - 11s 11ms/step - loss: 6.3953e-04 - accuracy: 0.7139 - val_loss: 6.2376e-04 - val_accuracy: 0.7204\n",
            "Epoch 22/250\n",
            "1043/1043 [==============================] - 11s 11ms/step - loss: 6.1191e-04 - accuracy: 0.7269 - val_loss: 6.1197e-04 - val_accuracy: 0.7265\n",
            "Epoch 23/250\n",
            "1043/1043 [==============================] - 11s 11ms/step - loss: 6.0449e-04 - accuracy: 0.7309 - val_loss: 6.0246e-04 - val_accuracy: 0.7302\n",
            "Epoch 24/250\n",
            "1043/1043 [==============================] - 11s 11ms/step - loss: 5.9054e-04 - accuracy: 0.7374 - val_loss: 5.9712e-04 - val_accuracy: 0.7351\n",
            "Epoch 25/250\n",
            "1043/1043 [==============================] - 11s 11ms/step - loss: 5.7689e-04 - accuracy: 0.7437 - val_loss: 5.9494e-04 - val_accuracy: 0.7367\n",
            "Epoch 26/250\n",
            "1043/1043 [==============================] - 11s 11ms/step - loss: 5.8112e-04 - accuracy: 0.7428 - val_loss: 5.6929e-04 - val_accuracy: 0.7478\n",
            "Epoch 27/250\n",
            "1043/1043 [==============================] - 11s 11ms/step - loss: 5.6643e-04 - accuracy: 0.7487 - val_loss: 5.7295e-04 - val_accuracy: 0.7443\n",
            "Epoch 28/250\n",
            "1043/1043 [==============================] - 11s 11ms/step - loss: 5.4246e-04 - accuracy: 0.7588 - val_loss: 5.6278e-04 - val_accuracy: 0.7501\n",
            "Epoch 29/250\n",
            "1043/1043 [==============================] - 11s 11ms/step - loss: 5.4906e-04 - accuracy: 0.7566 - val_loss: 5.5728e-04 - val_accuracy: 0.7522\n",
            "Epoch 30/250\n",
            "1043/1043 [==============================] - 11s 11ms/step - loss: 5.3124e-04 - accuracy: 0.7643 - val_loss: 5.4940e-04 - val_accuracy: 0.7552\n",
            "Epoch 31/250\n",
            "1043/1043 [==============================] - 11s 11ms/step - loss: 5.3269e-04 - accuracy: 0.7641 - val_loss: 5.4475e-04 - val_accuracy: 0.7587\n",
            "Epoch 32/250\n",
            "1043/1043 [==============================] - 11s 11ms/step - loss: 5.2806e-04 - accuracy: 0.7661 - val_loss: 5.5701e-04 - val_accuracy: 0.7522\n",
            "Epoch 33/250\n",
            "1043/1043 [==============================] - 11s 11ms/step - loss: 5.2079e-04 - accuracy: 0.7694 - val_loss: 5.2825e-04 - val_accuracy: 0.7633\n",
            "Epoch 34/250\n",
            "1043/1043 [==============================] - 11s 11ms/step - loss: 5.1093e-04 - accuracy: 0.7733 - val_loss: 5.2256e-04 - val_accuracy: 0.7675\n",
            "Epoch 35/250\n",
            "1043/1043 [==============================] - 11s 11ms/step - loss: 5.0672e-04 - accuracy: 0.7755 - val_loss: 5.3005e-04 - val_accuracy: 0.7651\n",
            "Epoch 36/250\n",
            "1043/1043 [==============================] - 11s 11ms/step - loss: 4.9873e-04 - accuracy: 0.7790 - val_loss: 5.1131e-04 - val_accuracy: 0.7718\n",
            "Epoch 37/250\n",
            "1043/1043 [==============================] - 11s 11ms/step - loss: 5.0229e-04 - accuracy: 0.7785 - val_loss: 5.9364e-04 - val_accuracy: 0.7415\n",
            "Epoch 38/250\n",
            "1043/1043 [==============================] - 11s 11ms/step - loss: 4.8762e-04 - accuracy: 0.7843 - val_loss: 5.1778e-04 - val_accuracy: 0.7705\n",
            "Epoch 39/250\n",
            "1043/1043 [==============================] - 11s 11ms/step - loss: 4.8016e-04 - accuracy: 0.7875 - val_loss: 5.4309e-04 - val_accuracy: 0.7620\n",
            "Epoch 40/250\n",
            "1043/1043 [==============================] - 11s 11ms/step - loss: 4.8747e-04 - accuracy: 0.7857 - val_loss: 6.2824e-04 - val_accuracy: 0.7263\n",
            "Epoch 41/250\n",
            "1043/1043 [==============================] - 11s 11ms/step - loss: 4.8658e-04 - accuracy: 0.7856 - val_loss: 4.8996e-04 - val_accuracy: 0.7841\n",
            "Epoch 42/250\n",
            "1043/1043 [==============================] - 12s 11ms/step - loss: 4.7839e-04 - accuracy: 0.7894 - val_loss: 4.9021e-04 - val_accuracy: 0.7831\n",
            "Epoch 43/250\n",
            "1043/1043 [==============================] - 11s 11ms/step - loss: 4.5612e-04 - accuracy: 0.7986 - val_loss: 4.8993e-04 - val_accuracy: 0.7840\n",
            "Epoch 44/250\n",
            "1043/1043 [==============================] - 11s 11ms/step - loss: 4.5430e-04 - accuracy: 0.7998 - val_loss: 4.8331e-04 - val_accuracy: 0.7877\n",
            "Epoch 45/250\n",
            "1043/1043 [==============================] - 11s 11ms/step - loss: 4.5817e-04 - accuracy: 0.7980 - val_loss: 4.8068e-04 - val_accuracy: 0.7885\n",
            "Epoch 46/250\n",
            "1043/1043 [==============================] - 11s 11ms/step - loss: 4.5492e-04 - accuracy: 0.7992 - val_loss: 6.3823e-04 - val_accuracy: 0.7263\n",
            "Epoch 47/250\n",
            "1043/1043 [==============================] - 11s 11ms/step - loss: 4.4910e-04 - accuracy: 0.8016 - val_loss: 4.6367e-04 - val_accuracy: 0.7955\n",
            "Epoch 48/250\n",
            "1043/1043 [==============================] - 11s 11ms/step - loss: 4.3876e-04 - accuracy: 0.8054 - val_loss: 4.7079e-04 - val_accuracy: 0.7923\n",
            "Epoch 49/250\n",
            "1043/1043 [==============================] - 11s 11ms/step - loss: 4.3910e-04 - accuracy: 0.8052 - val_loss: 4.8541e-04 - val_accuracy: 0.7864\n",
            "Epoch 50/250\n",
            "1043/1043 [==============================] - 11s 11ms/step - loss: 4.4965e-04 - accuracy: 0.8013 - val_loss: 4.7342e-04 - val_accuracy: 0.7914\n",
            "Epoch 51/250\n",
            "1043/1043 [==============================] - 11s 11ms/step - loss: 4.4156e-04 - accuracy: 0.8044 - val_loss: 4.6082e-04 - val_accuracy: 0.7955\n",
            "Epoch 52/250\n",
            "1043/1043 [==============================] - 11s 11ms/step - loss: 4.2400e-04 - accuracy: 0.8113 - val_loss: 4.6323e-04 - val_accuracy: 0.7941\n",
            "Epoch 53/250\n",
            "1043/1043 [==============================] - 11s 11ms/step - loss: 4.3507e-04 - accuracy: 0.8069 - val_loss: 4.6073e-04 - val_accuracy: 0.7948\n",
            "Epoch 54/250\n",
            "1043/1043 [==============================] - 11s 11ms/step - loss: 4.2261e-04 - accuracy: 0.8115 - val_loss: 4.9698e-04 - val_accuracy: 0.7820\n",
            "Epoch 55/250\n",
            "1043/1043 [==============================] - 11s 11ms/step - loss: 4.2355e-04 - accuracy: 0.8112 - val_loss: 4.6059e-04 - val_accuracy: 0.7958\n",
            "Epoch 56/250\n",
            "1043/1043 [==============================] - 11s 11ms/step - loss: 4.1416e-04 - accuracy: 0.8148 - val_loss: 4.5631e-04 - val_accuracy: 0.7976\n",
            "Epoch 57/250\n",
            "1043/1043 [==============================] - 11s 11ms/step - loss: 4.1661e-04 - accuracy: 0.8141 - val_loss: 4.5070e-04 - val_accuracy: 0.7998\n",
            "Epoch 58/250\n",
            "1043/1043 [==============================] - 11s 11ms/step - loss: 4.1430e-04 - accuracy: 0.8148 - val_loss: 4.4624e-04 - val_accuracy: 0.8008\n",
            "Epoch 59/250\n",
            "1043/1043 [==============================] - 11s 11ms/step - loss: 4.1237e-04 - accuracy: 0.8156 - val_loss: 5.5532e-04 - val_accuracy: 0.7577\n",
            "Epoch 60/250\n",
            "1043/1043 [==============================] - 11s 11ms/step - loss: 4.0598e-04 - accuracy: 0.8178 - val_loss: 4.4809e-04 - val_accuracy: 0.8003\n",
            "Epoch 61/250\n",
            "1043/1043 [==============================] - 11s 11ms/step - loss: 4.0754e-04 - accuracy: 0.8174 - val_loss: 4.5007e-04 - val_accuracy: 0.7998\n",
            "Epoch 62/250\n",
            "1043/1043 [==============================] - 11s 11ms/step - loss: 3.9568e-04 - accuracy: 0.8220 - val_loss: 4.4860e-04 - val_accuracy: 0.8009\n",
            "Epoch 63/250\n",
            "1043/1043 [==============================] - 11s 11ms/step - loss: 4.0492e-04 - accuracy: 0.8185 - val_loss: 4.7323e-04 - val_accuracy: 0.7917\n",
            "Epoch 64/250\n",
            "1043/1043 [==============================] - 11s 11ms/step - loss: 4.0925e-04 - accuracy: 0.8171 - val_loss: 4.3145e-04 - val_accuracy: 0.8066\n",
            "Epoch 65/250\n",
            "1043/1043 [==============================] - 11s 11ms/step - loss: 4.0294e-04 - accuracy: 0.8195 - val_loss: 4.5232e-04 - val_accuracy: 0.8003\n",
            "Epoch 66/250\n",
            "1043/1043 [==============================] - 11s 11ms/step - loss: 4.1759e-04 - accuracy: 0.8135 - val_loss: 4.3282e-04 - val_accuracy: 0.8070\n",
            "Epoch 67/250\n",
            "1043/1043 [==============================] - 11s 11ms/step - loss: 3.8016e-04 - accuracy: 0.8278 - val_loss: 4.3042e-04 - val_accuracy: 0.8083\n",
            "Epoch 68/250\n",
            "1043/1043 [==============================] - 11s 11ms/step - loss: 4.0040e-04 - accuracy: 0.8205 - val_loss: 4.3985e-04 - val_accuracy: 0.8036\n",
            "Epoch 69/250\n",
            "1043/1043 [==============================] - 12s 11ms/step - loss: 3.9038e-04 - accuracy: 0.8241 - val_loss: 4.2763e-04 - val_accuracy: 0.8094\n",
            "Epoch 70/250\n",
            "1043/1043 [==============================] - 11s 11ms/step - loss: 3.8018e-04 - accuracy: 0.8280 - val_loss: 4.4499e-04 - val_accuracy: 0.8034\n",
            "Epoch 71/250\n",
            "1043/1043 [==============================] - 11s 11ms/step - loss: 3.8476e-04 - accuracy: 0.8265 - val_loss: 4.2917e-04 - val_accuracy: 0.8075\n",
            "Epoch 72/250\n",
            "1043/1043 [==============================] - 11s 11ms/step - loss: 3.8468e-04 - accuracy: 0.8264 - val_loss: 4.3109e-04 - val_accuracy: 0.8079\n",
            "Epoch 73/250\n",
            "1043/1043 [==============================] - 11s 11ms/step - loss: 3.8566e-04 - accuracy: 0.8266 - val_loss: 4.2987e-04 - val_accuracy: 0.8086\n",
            "Epoch 74/250\n",
            "1043/1043 [==============================] - 11s 11ms/step - loss: 3.7652e-04 - accuracy: 0.8298 - val_loss: 4.4248e-04 - val_accuracy: 0.8041\n",
            "Epoch 75/250\n",
            "1043/1043 [==============================] - 11s 11ms/step - loss: 4.1638e-04 - accuracy: 0.8143 - val_loss: 5.0545e-04 - val_accuracy: 0.7768\n",
            "Epoch 76/250\n",
            "1043/1043 [==============================] - 11s 11ms/step - loss: 3.8240e-04 - accuracy: 0.8273 - val_loss: 4.1658e-04 - val_accuracy: 0.8140\n",
            "Epoch 77/250\n",
            "1043/1043 [==============================] - 11s 11ms/step - loss: 3.6676e-04 - accuracy: 0.8336 - val_loss: 4.1993e-04 - val_accuracy: 0.8121\n",
            "Epoch 78/250\n",
            "1043/1043 [==============================] - 11s 11ms/step - loss: 3.6689e-04 - accuracy: 0.8336 - val_loss: 4.1883e-04 - val_accuracy: 0.8126\n",
            "Epoch 79/250\n",
            "1043/1043 [==============================] - 11s 11ms/step - loss: 3.8950e-04 - accuracy: 0.8253 - val_loss: 7.7432e-04 - val_accuracy: 0.6819\n",
            "Epoch 80/250\n",
            "1043/1043 [==============================] - 11s 11ms/step - loss: 3.7112e-04 - accuracy: 0.8320 - val_loss: 4.1071e-04 - val_accuracy: 0.8149\n",
            "Epoch 81/250\n",
            "1043/1043 [==============================] - 11s 10ms/step - loss: 3.5699e-04 - accuracy: 0.8373 - val_loss: 4.1973e-04 - val_accuracy: 0.8119\n",
            "Epoch 82/250\n",
            "1043/1043 [==============================] - 11s 11ms/step - loss: 3.6864e-04 - accuracy: 0.8331 - val_loss: 4.1702e-04 - val_accuracy: 0.8136\n",
            "Epoch 83/250\n",
            "1043/1043 [==============================] - 11s 11ms/step - loss: 3.7296e-04 - accuracy: 0.8316 - val_loss: 4.5635e-04 - val_accuracy: 0.8003\n",
            "Epoch 84/250\n",
            "1043/1043 [==============================] - 11s 11ms/step - loss: 3.6252e-04 - accuracy: 0.8355 - val_loss: 4.1574e-04 - val_accuracy: 0.8146\n",
            "Epoch 85/250\n",
            "1043/1043 [==============================] - 11s 11ms/step - loss: 3.6295e-04 - accuracy: 0.8353 - val_loss: 4.5824e-04 - val_accuracy: 0.7978\n",
            "Epoch 86/250\n",
            "1043/1043 [==============================] - 11s 11ms/step - loss: 3.5855e-04 - accuracy: 0.8371 - val_loss: 4.1601e-04 - val_accuracy: 0.8136\n",
            "Epoch 87/250\n",
            "1043/1043 [==============================] - 11s 11ms/step - loss: 3.5707e-04 - accuracy: 0.8381 - val_loss: 4.2990e-04 - val_accuracy: 0.8111\n",
            "Epoch 88/250\n",
            "1043/1043 [==============================] - 11s 11ms/step - loss: 3.5723e-04 - accuracy: 0.8375 - val_loss: 4.1304e-04 - val_accuracy: 0.8155\n",
            "Epoch 89/250\n",
            "1043/1043 [==============================] - 11s 11ms/step - loss: 3.6504e-04 - accuracy: 0.8351 - val_loss: 4.0748e-04 - val_accuracy: 0.8172\n",
            "Epoch 90/250\n",
            "1043/1043 [==============================] - 11s 11ms/step - loss: 3.6055e-04 - accuracy: 0.8363 - val_loss: 4.0917e-04 - val_accuracy: 0.8168\n",
            "Epoch 91/250\n",
            "1043/1043 [==============================] - 11s 11ms/step - loss: 3.5560e-04 - accuracy: 0.8382 - val_loss: 4.0933e-04 - val_accuracy: 0.8165\n",
            "Epoch 92/250\n",
            "1043/1043 [==============================] - 11s 11ms/step - loss: 3.6771e-04 - accuracy: 0.8337 - val_loss: 4.0672e-04 - val_accuracy: 0.8173\n",
            "Epoch 93/250\n",
            "1043/1043 [==============================] - 11s 11ms/step - loss: 3.4214e-04 - accuracy: 0.8429 - val_loss: 4.0907e-04 - val_accuracy: 0.8173\n",
            "Epoch 94/250\n",
            "1043/1043 [==============================] - 11s 11ms/step - loss: 3.4617e-04 - accuracy: 0.8416 - val_loss: 4.1363e-04 - val_accuracy: 0.8149\n",
            "Epoch 95/250\n",
            "1043/1043 [==============================] - 11s 11ms/step - loss: 3.5055e-04 - accuracy: 0.8404 - val_loss: 4.2247e-04 - val_accuracy: 0.8126\n",
            "Epoch 96/250\n",
            "1043/1043 [==============================] - 11s 11ms/step - loss: 3.4437e-04 - accuracy: 0.8421 - val_loss: 4.0909e-04 - val_accuracy: 0.8180\n",
            "Epoch 97/250\n",
            "1043/1043 [==============================] - 12s 11ms/step - loss: 3.5094e-04 - accuracy: 0.8404 - val_loss: 4.0564e-04 - val_accuracy: 0.8169\n",
            "Epoch 98/250\n",
            "1043/1043 [==============================] - 11s 11ms/step - loss: 3.4349e-04 - accuracy: 0.8427 - val_loss: 4.1801e-04 - val_accuracy: 0.8139\n",
            "Epoch 99/250\n",
            "1043/1043 [==============================] - 11s 11ms/step - loss: 3.3963e-04 - accuracy: 0.8442 - val_loss: 4.0953e-04 - val_accuracy: 0.8172\n",
            "Epoch 100/250\n",
            "1043/1043 [==============================] - 11s 11ms/step - loss: 3.5275e-04 - accuracy: 0.8396 - val_loss: 4.0404e-04 - val_accuracy: 0.8180\n",
            "Epoch 101/250\n",
            "1043/1043 [==============================] - 11s 11ms/step - loss: 3.5089e-04 - accuracy: 0.8405 - val_loss: 4.0167e-04 - val_accuracy: 0.8192\n",
            "Epoch 102/250\n",
            "1043/1043 [==============================] - 11s 11ms/step - loss: 3.3469e-04 - accuracy: 0.8459 - val_loss: 3.9970e-04 - val_accuracy: 0.8194\n",
            "Epoch 103/250\n",
            "1043/1043 [==============================] - 11s 11ms/step - loss: 3.6202e-04 - accuracy: 0.8363 - val_loss: 4.1398e-04 - val_accuracy: 0.8147\n",
            "Epoch 104/250\n",
            "1043/1043 [==============================] - 11s 11ms/step - loss: 3.3740e-04 - accuracy: 0.8448 - val_loss: 4.0811e-04 - val_accuracy: 0.8180\n",
            "Epoch 105/250\n",
            "1043/1043 [==============================] - 11s 11ms/step - loss: 3.3373e-04 - accuracy: 0.8465 - val_loss: 4.0400e-04 - val_accuracy: 0.8195\n",
            "Epoch 106/250\n",
            "1043/1043 [==============================] - 11s 11ms/step - loss: 3.3329e-04 - accuracy: 0.8465 - val_loss: 4.0869e-04 - val_accuracy: 0.8175\n",
            "Epoch 107/250\n",
            "1043/1043 [==============================] - 11s 11ms/step - loss: 3.4976e-04 - accuracy: 0.8409 - val_loss: 4.1962e-04 - val_accuracy: 0.8132\n",
            "Epoch 108/250\n",
            "1043/1043 [==============================] - 11s 11ms/step - loss: 3.2883e-04 - accuracy: 0.8478 - val_loss: 4.0102e-04 - val_accuracy: 0.8202\n",
            "Epoch 109/250\n",
            "1043/1043 [==============================] - 11s 11ms/step - loss: 3.3406e-04 - accuracy: 0.8464 - val_loss: 4.0067e-04 - val_accuracy: 0.8209\n",
            "Epoch 110/250\n",
            "1043/1043 [==============================] - 11s 11ms/step - loss: 3.4710e-04 - accuracy: 0.8418 - val_loss: 4.0052e-04 - val_accuracy: 0.8191\n",
            "Epoch 111/250\n",
            "1043/1043 [==============================] - 11s 11ms/step - loss: 3.3036e-04 - accuracy: 0.8474 - val_loss: 4.2850e-04 - val_accuracy: 0.8111\n",
            "Epoch 112/250\n",
            "1043/1043 [==============================] - 11s 11ms/step - loss: 3.3869e-04 - accuracy: 0.8449 - val_loss: 4.0043e-04 - val_accuracy: 0.8199\n",
            "Epoch 113/250\n",
            "1043/1043 [==============================] - 11s 11ms/step - loss: 3.3090e-04 - accuracy: 0.8478 - val_loss: 4.2184e-04 - val_accuracy: 0.8127\n",
            "Epoch 114/250\n",
            "1043/1043 [==============================] - 11s 11ms/step - loss: 3.2837e-04 - accuracy: 0.8484 - val_loss: 3.9791e-04 - val_accuracy: 0.8221\n",
            "Epoch 115/250\n",
            "1043/1043 [==============================] - 11s 11ms/step - loss: 3.3899e-04 - accuracy: 0.8450 - val_loss: 4.1349e-04 - val_accuracy: 0.8162\n",
            "Epoch 116/250\n",
            "1043/1043 [==============================] - 11s 11ms/step - loss: 3.2451e-04 - accuracy: 0.8498 - val_loss: 3.9705e-04 - val_accuracy: 0.8222\n",
            "Epoch 117/250\n",
            "1043/1043 [==============================] - 11s 11ms/step - loss: 3.3108e-04 - accuracy: 0.8477 - val_loss: 4.1594e-04 - val_accuracy: 0.8156\n",
            "Epoch 118/250\n",
            "1043/1043 [==============================] - 11s 11ms/step - loss: 3.2539e-04 - accuracy: 0.8497 - val_loss: 3.9900e-04 - val_accuracy: 0.8215\n",
            "Epoch 119/250\n",
            "1043/1043 [==============================] - 11s 11ms/step - loss: 3.3245e-04 - accuracy: 0.8473 - val_loss: 3.9410e-04 - val_accuracy: 0.8224\n",
            "Epoch 120/250\n",
            "1043/1043 [==============================] - 11s 11ms/step - loss: 3.2372e-04 - accuracy: 0.8504 - val_loss: 4.1143e-04 - val_accuracy: 0.8169\n",
            "Epoch 121/250\n",
            "1043/1043 [==============================] - 11s 11ms/step - loss: 3.2649e-04 - accuracy: 0.8496 - val_loss: 4.0821e-04 - val_accuracy: 0.8192\n",
            "Epoch 122/250\n",
            "1043/1043 [==============================] - 11s 11ms/step - loss: 3.3237e-04 - accuracy: 0.8475 - val_loss: 3.9247e-04 - val_accuracy: 0.8242\n",
            "Epoch 123/250\n",
            "1043/1043 [==============================] - 11s 11ms/step - loss: 3.1488e-04 - accuracy: 0.8534 - val_loss: 3.9225e-04 - val_accuracy: 0.8241\n",
            "Epoch 124/250\n",
            "1043/1043 [==============================] - 12s 11ms/step - loss: 3.3087e-04 - accuracy: 0.8482 - val_loss: 3.9415e-04 - val_accuracy: 0.8228\n",
            "Epoch 125/250\n",
            "1043/1043 [==============================] - 11s 11ms/step - loss: 3.1659e-04 - accuracy: 0.8529 - val_loss: 4.0011e-04 - val_accuracy: 0.8216\n",
            "Epoch 126/250\n",
            "1043/1043 [==============================] - 11s 11ms/step - loss: 3.2493e-04 - accuracy: 0.8505 - val_loss: 3.9767e-04 - val_accuracy: 0.8223\n",
            "Epoch 127/250\n",
            "1043/1043 [==============================] - 11s 11ms/step - loss: 3.1930e-04 - accuracy: 0.8524 - val_loss: 3.9497e-04 - val_accuracy: 0.8217\n",
            "Epoch 128/250\n",
            "1043/1043 [==============================] - 11s 11ms/step - loss: 3.1505e-04 - accuracy: 0.8533 - val_loss: 4.1300e-04 - val_accuracy: 0.8166\n",
            "Epoch 129/250\n",
            "1043/1043 [==============================] - 11s 11ms/step - loss: 3.2465e-04 - accuracy: 0.8505 - val_loss: 3.8945e-04 - val_accuracy: 0.8241\n",
            "Epoch 130/250\n",
            "1043/1043 [==============================] - 11s 11ms/step - loss: 3.1855e-04 - accuracy: 0.8527 - val_loss: 3.9766e-04 - val_accuracy: 0.8225\n",
            "Epoch 131/250\n",
            "1043/1043 [==============================] - 11s 11ms/step - loss: 3.1855e-04 - accuracy: 0.8525 - val_loss: 3.9692e-04 - val_accuracy: 0.8229\n",
            "Epoch 132/250\n",
            "1043/1043 [==============================] - 11s 11ms/step - loss: 3.2274e-04 - accuracy: 0.8511 - val_loss: 3.9540e-04 - val_accuracy: 0.8220\n",
            "Epoch 133/250\n",
            "1043/1043 [==============================] - 11s 11ms/step - loss: 3.1875e-04 - accuracy: 0.8525 - val_loss: 4.0633e-04 - val_accuracy: 0.8190\n",
            "Epoch 134/250\n",
            "1043/1043 [==============================] - 11s 11ms/step - loss: 3.2019e-04 - accuracy: 0.8519 - val_loss: 4.2252e-04 - val_accuracy: 0.8128\n",
            "Epoch 135/250\n",
            "1043/1043 [==============================] - 11s 11ms/step - loss: 3.2991e-04 - accuracy: 0.8486 - val_loss: 4.1190e-04 - val_accuracy: 0.8179\n",
            "Epoch 136/250\n",
            "1043/1043 [==============================] - 11s 11ms/step - loss: 3.1042e-04 - accuracy: 0.8553 - val_loss: 3.8695e-04 - val_accuracy: 0.8264\n",
            "Epoch 137/250\n",
            "1043/1043 [==============================] - 11s 11ms/step - loss: 3.0765e-04 - accuracy: 0.8562 - val_loss: 3.9271e-04 - val_accuracy: 0.8248\n",
            "Epoch 138/250\n",
            "1043/1043 [==============================] - 11s 11ms/step - loss: 3.1372e-04 - accuracy: 0.8543 - val_loss: 3.9342e-04 - val_accuracy: 0.8234\n",
            "Epoch 139/250\n",
            "1043/1043 [==============================] - 11s 11ms/step - loss: 3.5858e-04 - accuracy: 0.8387 - val_loss: 3.8359e-04 - val_accuracy: 0.8278\n",
            "Epoch 140/250\n",
            "1043/1043 [==============================] - 11s 11ms/step - loss: 3.0295e-04 - accuracy: 0.8578 - val_loss: 3.8820e-04 - val_accuracy: 0.8259\n",
            "Epoch 141/250\n",
            "1043/1043 [==============================] - 11s 11ms/step - loss: 3.0894e-04 - accuracy: 0.8560 - val_loss: 4.0183e-04 - val_accuracy: 0.8207\n",
            "Epoch 142/250\n",
            "1043/1043 [==============================] - 11s 11ms/step - loss: 3.6146e-04 - accuracy: 0.8366 - val_loss: 3.9379e-04 - val_accuracy: 0.8236\n",
            "Epoch 143/250\n",
            "1043/1043 [==============================] - 11s 11ms/step - loss: 3.1260e-04 - accuracy: 0.8546 - val_loss: 3.9159e-04 - val_accuracy: 0.8248\n",
            "Epoch 144/250\n",
            "1043/1043 [==============================] - 11s 11ms/step - loss: 3.1397e-04 - accuracy: 0.8545 - val_loss: 3.9656e-04 - val_accuracy: 0.8235\n",
            "Epoch 145/250\n",
            "1043/1043 [==============================] - 11s 11ms/step - loss: 3.0886e-04 - accuracy: 0.8564 - val_loss: 3.8672e-04 - val_accuracy: 0.8267\n",
            "Epoch 146/250\n",
            "1043/1043 [==============================] - 11s 11ms/step - loss: 3.0507e-04 - accuracy: 0.8574 - val_loss: 4.1417e-04 - val_accuracy: 0.8173\n",
            "Epoch 147/250\n",
            "1043/1043 [==============================] - 11s 11ms/step - loss: 3.0882e-04 - accuracy: 0.8562 - val_loss: 4.2940e-04 - val_accuracy: 0.8098\n",
            "Epoch 148/250\n",
            "1043/1043 [==============================] - 11s 11ms/step - loss: 3.0868e-04 - accuracy: 0.8565 - val_loss: 4.0813e-04 - val_accuracy: 0.8193\n",
            "Epoch 149/250\n",
            "1043/1043 [==============================] - 11s 11ms/step - loss: 3.0314e-04 - accuracy: 0.8582 - val_loss: 3.9422e-04 - val_accuracy: 0.8247\n",
            "Epoch 150/250\n",
            "1043/1043 [==============================] - 11s 11ms/step - loss: 3.1593e-04 - accuracy: 0.8541 - val_loss: 3.9176e-04 - val_accuracy: 0.8253\n",
            "Epoch 151/250\n",
            "1043/1043 [==============================] - 11s 11ms/step - loss: 3.0471e-04 - accuracy: 0.8579 - val_loss: 3.8721e-04 - val_accuracy: 0.8265\n",
            "Epoch 152/250\n",
            "1043/1043 [==============================] - 12s 11ms/step - loss: 3.2196e-04 - accuracy: 0.8520 - val_loss: 3.8557e-04 - val_accuracy: 0.8285\n",
            "Epoch 153/250\n",
            "1043/1043 [==============================] - 11s 11ms/step - loss: 3.0541e-04 - accuracy: 0.8577 - val_loss: 3.8499e-04 - val_accuracy: 0.8271\n",
            "Epoch 154/250\n",
            "1043/1043 [==============================] - 11s 11ms/step - loss: 3.0390e-04 - accuracy: 0.8583 - val_loss: 3.8884e-04 - val_accuracy: 0.8263\n",
            "Epoch 155/250\n",
            "1043/1043 [==============================] - 11s 11ms/step - loss: 3.0780e-04 - accuracy: 0.8571 - val_loss: 3.8378e-04 - val_accuracy: 0.8273\n",
            "Epoch 156/250\n",
            "1043/1043 [==============================] - 11s 11ms/step - loss: 2.9755e-04 - accuracy: 0.8604 - val_loss: 3.9463e-04 - val_accuracy: 0.8236\n",
            "Epoch 157/250\n",
            "1043/1043 [==============================] - 11s 11ms/step - loss: 3.0403e-04 - accuracy: 0.8586 - val_loss: 3.9075e-04 - val_accuracy: 0.8257\n",
            "Epoch 158/250\n",
            "1043/1043 [==============================] - 11s 11ms/step - loss: 3.0151e-04 - accuracy: 0.8592 - val_loss: 3.9148e-04 - val_accuracy: 0.8254\n",
            "Epoch 159/250\n",
            "1043/1043 [==============================] - 11s 11ms/step - loss: 3.0471e-04 - accuracy: 0.8580 - val_loss: 3.8743e-04 - val_accuracy: 0.8270\n",
            "Epoch 160/250\n",
            "1043/1043 [==============================] - 11s 11ms/step - loss: 3.0093e-04 - accuracy: 0.8597 - val_loss: 4.3925e-04 - val_accuracy: 0.8087\n",
            "Epoch 161/250\n",
            "1043/1043 [==============================] - 11s 11ms/step - loss: 3.0739e-04 - accuracy: 0.8575 - val_loss: 3.8686e-04 - val_accuracy: 0.8270\n",
            "Epoch 162/250\n",
            "1043/1043 [==============================] - 11s 11ms/step - loss: 3.0118e-04 - accuracy: 0.8592 - val_loss: 3.8519e-04 - val_accuracy: 0.8266\n",
            "Epoch 163/250\n",
            "1043/1043 [==============================] - 11s 11ms/step - loss: 3.2431e-04 - accuracy: 0.8511 - val_loss: 4.0924e-04 - val_accuracy: 0.8193\n",
            "Epoch 164/250\n",
            "1043/1043 [==============================] - 11s 11ms/step - loss: 2.9710e-04 - accuracy: 0.8604 - val_loss: 3.8988e-04 - val_accuracy: 0.8259\n",
            "Epoch 165/250\n",
            "1043/1043 [==============================] - 11s 11ms/step - loss: 2.9297e-04 - accuracy: 0.8618 - val_loss: 4.0065e-04 - val_accuracy: 0.8223\n",
            "Epoch 166/250\n",
            "1043/1043 [==============================] - 11s 11ms/step - loss: 2.9919e-04 - accuracy: 0.8598 - val_loss: 3.8316e-04 - val_accuracy: 0.8279\n",
            "Epoch 167/250\n",
            "1043/1043 [==============================] - 11s 11ms/step - loss: 2.9743e-04 - accuracy: 0.8605 - val_loss: 3.8717e-04 - val_accuracy: 0.8266\n",
            "Epoch 168/250\n",
            "1043/1043 [==============================] - 11s 11ms/step - loss: 2.9324e-04 - accuracy: 0.8618 - val_loss: 3.8322e-04 - val_accuracy: 0.8281\n",
            "Epoch 169/250\n",
            "1043/1043 [==============================] - 11s 11ms/step - loss: 3.1346e-04 - accuracy: 0.8551 - val_loss: 3.8245e-04 - val_accuracy: 0.8286\n",
            "Epoch 170/250\n",
            "1043/1043 [==============================] - 11s 11ms/step - loss: 2.9647e-04 - accuracy: 0.8605 - val_loss: 3.8772e-04 - val_accuracy: 0.8268\n",
            "Epoch 171/250\n",
            "1043/1043 [==============================] - 11s 11ms/step - loss: 3.0483e-04 - accuracy: 0.8579 - val_loss: 3.9025e-04 - val_accuracy: 0.8253\n",
            "Epoch 172/250\n",
            "1043/1043 [==============================] - 11s 11ms/step - loss: 2.9958e-04 - accuracy: 0.8596 - val_loss: 3.8516e-04 - val_accuracy: 0.8272\n",
            "Epoch 173/250\n",
            "1043/1043 [==============================] - 11s 11ms/step - loss: 2.8719e-04 - accuracy: 0.8636 - val_loss: 3.8713e-04 - val_accuracy: 0.8271\n",
            "Epoch 174/250\n",
            "1043/1043 [==============================] - 11s 11ms/step - loss: 2.9643e-04 - accuracy: 0.8608 - val_loss: 3.7841e-04 - val_accuracy: 0.8298\n",
            "Epoch 175/250\n",
            "1043/1043 [==============================] - 11s 11ms/step - loss: 2.9600e-04 - accuracy: 0.8611 - val_loss: 3.9402e-04 - val_accuracy: 0.8238\n",
            "Epoch 176/250\n",
            "1043/1043 [==============================] - 11s 11ms/step - loss: 3.0123e-04 - accuracy: 0.8595 - val_loss: 3.8253e-04 - val_accuracy: 0.8279\n",
            "Epoch 177/250\n",
            "1043/1043 [==============================] - 11s 11ms/step - loss: 2.9484e-04 - accuracy: 0.8618 - val_loss: 3.8802e-04 - val_accuracy: 0.8265\n",
            "Epoch 178/250\n",
            "1043/1043 [==============================] - 11s 11ms/step - loss: 2.8449e-04 - accuracy: 0.8649 - val_loss: 3.8486e-04 - val_accuracy: 0.8284\n",
            "Epoch 179/250\n",
            "1043/1043 [==============================] - 12s 11ms/step - loss: 3.0788e-04 - accuracy: 0.8574 - val_loss: 3.7970e-04 - val_accuracy: 0.8303\n",
            "Epoch 180/250\n",
            "1043/1043 [==============================] - 11s 11ms/step - loss: 3.2340e-04 - accuracy: 0.8516 - val_loss: 3.8008e-04 - val_accuracy: 0.8295\n",
            "Epoch 181/250\n",
            "1043/1043 [==============================] - 11s 11ms/step - loss: 3.0347e-04 - accuracy: 0.8590 - val_loss: 3.7819e-04 - val_accuracy: 0.8297\n",
            "Epoch 182/250\n",
            "1043/1043 [==============================] - 11s 11ms/step - loss: 2.7979e-04 - accuracy: 0.8664 - val_loss: 3.7738e-04 - val_accuracy: 0.8306\n",
            "Epoch 183/250\n",
            "1043/1043 [==============================] - 11s 11ms/step - loss: 2.8551e-04 - accuracy: 0.8649 - val_loss: 3.8405e-04 - val_accuracy: 0.8285\n",
            "Epoch 184/250\n",
            "1043/1043 [==============================] - 11s 11ms/step - loss: 3.0292e-04 - accuracy: 0.8590 - val_loss: 3.9285e-04 - val_accuracy: 0.8254\n",
            "Epoch 185/250\n",
            "1043/1043 [==============================] - 11s 11ms/step - loss: 2.9401e-04 - accuracy: 0.8618 - val_loss: 3.8471e-04 - val_accuracy: 0.8283\n",
            "Epoch 186/250\n",
            "1043/1043 [==============================] - 11s 11ms/step - loss: 2.9424e-04 - accuracy: 0.8621 - val_loss: 3.8601e-04 - val_accuracy: 0.8274\n",
            "Epoch 187/250\n",
            "1043/1043 [==============================] - 11s 11ms/step - loss: 2.8314e-04 - accuracy: 0.8653 - val_loss: 3.7815e-04 - val_accuracy: 0.8308\n",
            "Epoch 188/250\n",
            "1043/1043 [==============================] - 11s 11ms/step - loss: 2.8415e-04 - accuracy: 0.8653 - val_loss: 3.7605e-04 - val_accuracy: 0.8321\n",
            "Epoch 189/250\n",
            "1043/1043 [==============================] - 11s 11ms/step - loss: 3.0479e-04 - accuracy: 0.8586 - val_loss: 3.7674e-04 - val_accuracy: 0.8319\n",
            "Epoch 190/250\n",
            "1043/1043 [==============================] - 11s 11ms/step - loss: 2.9455e-04 - accuracy: 0.8622 - val_loss: 3.8734e-04 - val_accuracy: 0.8274\n",
            "Epoch 191/250\n",
            "1043/1043 [==============================] - 11s 11ms/step - loss: 2.8201e-04 - accuracy: 0.8662 - val_loss: 3.8206e-04 - val_accuracy: 0.8290\n",
            "Epoch 192/250\n",
            "1043/1043 [==============================] - 11s 11ms/step - loss: 2.9119e-04 - accuracy: 0.8634 - val_loss: 3.8088e-04 - val_accuracy: 0.8303\n",
            "Epoch 193/250\n",
            "1043/1043 [==============================] - 11s 11ms/step - loss: 2.8199e-04 - accuracy: 0.8663 - val_loss: 3.7816e-04 - val_accuracy: 0.8313\n",
            "Epoch 194/250\n",
            "1043/1043 [==============================] - 11s 11ms/step - loss: 2.7979e-04 - accuracy: 0.8670 - val_loss: 3.7827e-04 - val_accuracy: 0.8307\n",
            "Epoch 195/250\n",
            "1043/1043 [==============================] - 11s 11ms/step - loss: 2.8420e-04 - accuracy: 0.8656 - val_loss: 3.8626e-04 - val_accuracy: 0.8278\n",
            "Epoch 196/250\n",
            "1043/1043 [==============================] - 11s 11ms/step - loss: 2.9268e-04 - accuracy: 0.8629 - val_loss: 3.8556e-04 - val_accuracy: 0.8288\n",
            "Epoch 197/250\n",
            "1043/1043 [==============================] - 11s 11ms/step - loss: 2.8339e-04 - accuracy: 0.8659 - val_loss: 3.8328e-04 - val_accuracy: 0.8285\n",
            "Epoch 198/250\n",
            "1043/1043 [==============================] - 11s 11ms/step - loss: 2.7953e-04 - accuracy: 0.8672 - val_loss: 3.7673e-04 - val_accuracy: 0.8306\n",
            "Epoch 199/250\n",
            "1043/1043 [==============================] - 11s 11ms/step - loss: 2.9157e-04 - accuracy: 0.8634 - val_loss: 3.7711e-04 - val_accuracy: 0.8301\n",
            "Epoch 200/250\n",
            "1043/1043 [==============================] - 11s 11ms/step - loss: 2.7356e-04 - accuracy: 0.8688 - val_loss: 3.8150e-04 - val_accuracy: 0.8283\n",
            "Epoch 201/250\n",
            "1043/1043 [==============================] - 11s 11ms/step - loss: 2.8360e-04 - accuracy: 0.8660 - val_loss: 3.9843e-04 - val_accuracy: 0.8239\n",
            "Epoch 202/250\n",
            "1043/1043 [==============================] - 11s 11ms/step - loss: 2.8750e-04 - accuracy: 0.8647 - val_loss: 3.7728e-04 - val_accuracy: 0.8305\n",
            "Epoch 203/250\n",
            "1043/1043 [==============================] - 11s 11ms/step - loss: 2.8257e-04 - accuracy: 0.8660 - val_loss: 3.9140e-04 - val_accuracy: 0.8260\n",
            "Epoch 204/250\n",
            "1043/1043 [==============================] - 11s 11ms/step - loss: 2.8191e-04 - accuracy: 0.8665 - val_loss: 3.8127e-04 - val_accuracy: 0.8297\n",
            "Epoch 205/250\n",
            "1043/1043 [==============================] - 11s 11ms/step - loss: 2.9443e-04 - accuracy: 0.8621 - val_loss: 3.8164e-04 - val_accuracy: 0.8290\n",
            "Epoch 206/250\n",
            "1043/1043 [==============================] - 11s 11ms/step - loss: 2.7919e-04 - accuracy: 0.8674 - val_loss: 3.8464e-04 - val_accuracy: 0.8289\n",
            "Epoch 207/250\n",
            "1043/1043 [==============================] - 12s 11ms/step - loss: 2.7570e-04 - accuracy: 0.8685 - val_loss: 3.7474e-04 - val_accuracy: 0.8314\n",
            "Epoch 208/250\n",
            "1043/1043 [==============================] - 11s 11ms/step - loss: 2.7980e-04 - accuracy: 0.8671 - val_loss: 3.7906e-04 - val_accuracy: 0.8296\n",
            "Epoch 209/250\n",
            "1043/1043 [==============================] - 11s 11ms/step - loss: 2.8653e-04 - accuracy: 0.8652 - val_loss: 4.1292e-04 - val_accuracy: 0.8179\n",
            "Epoch 210/250\n",
            "1043/1043 [==============================] - 11s 11ms/step - loss: 2.8026e-04 - accuracy: 0.8669 - val_loss: 3.7484e-04 - val_accuracy: 0.8326\n",
            "Epoch 211/250\n",
            "1043/1043 [==============================] - 11s 11ms/step - loss: 2.7403e-04 - accuracy: 0.8689 - val_loss: 3.8052e-04 - val_accuracy: 0.8299\n",
            "Epoch 212/250\n",
            "1043/1043 [==============================] - 11s 11ms/step - loss: 2.7811e-04 - accuracy: 0.8678 - val_loss: 3.9697e-04 - val_accuracy: 0.8238\n",
            "Epoch 213/250\n",
            "1043/1043 [==============================] - 11s 11ms/step - loss: 2.8157e-04 - accuracy: 0.8666 - val_loss: 3.8737e-04 - val_accuracy: 0.8285\n",
            "Epoch 214/250\n",
            "1043/1043 [==============================] - 11s 10ms/step - loss: 2.7260e-04 - accuracy: 0.8695 - val_loss: 3.7654e-04 - val_accuracy: 0.8313\n",
            "Epoch 215/250\n",
            "1043/1043 [==============================] - 11s 11ms/step - loss: 2.9167e-04 - accuracy: 0.8632 - val_loss: 3.7959e-04 - val_accuracy: 0.8302\n",
            "Epoch 216/250\n",
            "1043/1043 [==============================] - 11s 11ms/step - loss: 2.7506e-04 - accuracy: 0.8686 - val_loss: 3.7782e-04 - val_accuracy: 0.8311\n",
            "Epoch 217/250\n",
            "1043/1043 [==============================] - 11s 11ms/step - loss: 2.7778e-04 - accuracy: 0.8679 - val_loss: 3.7692e-04 - val_accuracy: 0.8321\n",
            "Epoch 218/250\n",
            "1043/1043 [==============================] - 11s 10ms/step - loss: 2.8309e-04 - accuracy: 0.8661 - val_loss: 3.7810e-04 - val_accuracy: 0.8312\n",
            "Epoch 219/250\n",
            "1043/1043 [==============================] - 11s 11ms/step - loss: 2.7292e-04 - accuracy: 0.8691 - val_loss: 3.7284e-04 - val_accuracy: 0.8332\n",
            "Epoch 220/250\n",
            "1043/1043 [==============================] - 11s 10ms/step - loss: 2.7781e-04 - accuracy: 0.8681 - val_loss: 3.8055e-04 - val_accuracy: 0.8299\n",
            "Epoch 221/250\n",
            "1043/1043 [==============================] - 11s 11ms/step - loss: 2.6850e-04 - accuracy: 0.8709 - val_loss: 3.7836e-04 - val_accuracy: 0.8307\n",
            "Epoch 222/250\n",
            "1043/1043 [==============================] - 11s 11ms/step - loss: 3.2560e-04 - accuracy: 0.8508 - val_loss: 4.1560e-04 - val_accuracy: 0.8167\n",
            "Epoch 223/250\n",
            "1043/1043 [==============================] - 11s 11ms/step - loss: 2.8665e-04 - accuracy: 0.8646 - val_loss: 3.7355e-04 - val_accuracy: 0.8324\n",
            "Epoch 224/250\n",
            "1043/1043 [==============================] - 11s 11ms/step - loss: 2.6961e-04 - accuracy: 0.8702 - val_loss: 3.7418e-04 - val_accuracy: 0.8322\n",
            "Epoch 225/250\n",
            "1043/1043 [==============================] - 11s 11ms/step - loss: 2.9230e-04 - accuracy: 0.8629 - val_loss: 3.8304e-04 - val_accuracy: 0.8296\n",
            "Epoch 226/250\n",
            "1043/1043 [==============================] - 11s 11ms/step - loss: 2.6552e-04 - accuracy: 0.8717 - val_loss: 3.7705e-04 - val_accuracy: 0.8317\n",
            "Epoch 227/250\n",
            "1043/1043 [==============================] - 11s 11ms/step - loss: 2.7143e-04 - accuracy: 0.8699 - val_loss: 3.9252e-04 - val_accuracy: 0.8262\n",
            "Epoch 228/250\n",
            "1043/1043 [==============================] - 11s 11ms/step - loss: 2.8648e-04 - accuracy: 0.8651 - val_loss: 3.7716e-04 - val_accuracy: 0.8314\n",
            "Epoch 229/250\n",
            "1043/1043 [==============================] - 11s 11ms/step - loss: 2.6956e-04 - accuracy: 0.8703 - val_loss: 3.7727e-04 - val_accuracy: 0.8306\n",
            "Epoch 230/250\n",
            "1043/1043 [==============================] - 11s 11ms/step - loss: 2.7452e-04 - accuracy: 0.8687 - val_loss: 3.9586e-04 - val_accuracy: 0.8237\n",
            "Epoch 231/250\n",
            "1043/1043 [==============================] - 11s 11ms/step - loss: 2.6923e-04 - accuracy: 0.8705 - val_loss: 3.8835e-04 - val_accuracy: 0.8279\n",
            "Epoch 232/250\n",
            "1043/1043 [==============================] - 11s 11ms/step - loss: 2.7394e-04 - accuracy: 0.8693 - val_loss: 4.1516e-04 - val_accuracy: 0.8177\n",
            "Epoch 233/250\n",
            "1043/1043 [==============================] - 11s 11ms/step - loss: 2.8516e-04 - accuracy: 0.8656 - val_loss: 3.9166e-04 - val_accuracy: 0.8257\n",
            "Epoch 234/250\n",
            "1043/1043 [==============================] - 11s 11ms/step - loss: 2.7891e-04 - accuracy: 0.8676 - val_loss: 3.7054e-04 - val_accuracy: 0.8328\n",
            "Epoch 235/250\n",
            "1043/1043 [==============================] - 11s 11ms/step - loss: 2.6411e-04 - accuracy: 0.8721 - val_loss: 4.0726e-04 - val_accuracy: 0.8204\n",
            "Epoch 236/250\n",
            "1043/1043 [==============================] - 11s 11ms/step - loss: 2.7167e-04 - accuracy: 0.8702 - val_loss: 3.7385e-04 - val_accuracy: 0.8321\n",
            "Epoch 237/250\n",
            "1043/1043 [==============================] - 11s 11ms/step - loss: 2.8371e-04 - accuracy: 0.8660 - val_loss: 3.8034e-04 - val_accuracy: 0.8298\n",
            "Epoch 238/250\n",
            "1043/1043 [==============================] - 11s 11ms/step - loss: 2.7981e-04 - accuracy: 0.8675 - val_loss: 3.7328e-04 - val_accuracy: 0.8330\n",
            "Epoch 239/250\n",
            "1043/1043 [==============================] - 11s 11ms/step - loss: 2.7602e-04 - accuracy: 0.8683 - val_loss: 3.7427e-04 - val_accuracy: 0.8320\n",
            "Epoch 240/250\n",
            "1043/1043 [==============================] - 11s 11ms/step - loss: 2.7558e-04 - accuracy: 0.8685 - val_loss: 3.6938e-04 - val_accuracy: 0.8334\n",
            "Epoch 241/250\n",
            "1043/1043 [==============================] - 11s 11ms/step - loss: 2.6342e-04 - accuracy: 0.8723 - val_loss: 4.0016e-04 - val_accuracy: 0.8236\n",
            "Epoch 242/250\n",
            "1043/1043 [==============================] - 11s 11ms/step - loss: 2.7873e-04 - accuracy: 0.8677 - val_loss: 3.7426e-04 - val_accuracy: 0.8315\n",
            "Epoch 243/250\n",
            "1043/1043 [==============================] - 11s 11ms/step - loss: 2.8067e-04 - accuracy: 0.8669 - val_loss: 3.7327e-04 - val_accuracy: 0.8322\n",
            "Epoch 244/250\n",
            "1043/1043 [==============================] - 11s 11ms/step - loss: 2.6791e-04 - accuracy: 0.8711 - val_loss: 3.7966e-04 - val_accuracy: 0.8295\n",
            "Epoch 245/250\n",
            "1043/1043 [==============================] - 11s 11ms/step - loss: 2.6667e-04 - accuracy: 0.8714 - val_loss: 3.8547e-04 - val_accuracy: 0.8277\n",
            "Epoch 246/250\n",
            "1043/1043 [==============================] - 11s 11ms/step - loss: 2.7278e-04 - accuracy: 0.8697 - val_loss: 3.8714e-04 - val_accuracy: 0.8281\n",
            "Epoch 247/250\n",
            "1043/1043 [==============================] - 11s 11ms/step - loss: 2.6586e-04 - accuracy: 0.8718 - val_loss: 3.7593e-04 - val_accuracy: 0.8315\n",
            "Epoch 248/250\n",
            "1043/1043 [==============================] - 11s 11ms/step - loss: 2.6576e-04 - accuracy: 0.8717 - val_loss: 3.9095e-04 - val_accuracy: 0.8266\n",
            "Epoch 249/250\n",
            "1043/1043 [==============================] - 11s 11ms/step - loss: 2.6507e-04 - accuracy: 0.8721 - val_loss: 3.7482e-04 - val_accuracy: 0.8322\n",
            "Epoch 250/250\n",
            "1043/1043 [==============================] - 11s 11ms/step - loss: 2.8039e-04 - accuracy: 0.8672 - val_loss: 3.8019e-04 - val_accuracy: 0.8303\n"
          ]
        },
        {
          "output_type": "display_data",
          "data": {
            "text/plain": [
              "<Figure size 640x480 with 1 Axes>"
            ],
            "image/png": "[encoded data removed]"
          },
          "metadata": {}
        }
      ]
    },
    {
      "cell_type": "code",
      "source": [
        "import matplotlib.pyplot as plt\n",
        "\n",
        "# load the best weights\n",
        "model.load_weights(checkpoint_filepath)\n",
        "\n",
        "# Get the value of the validation accuracy at each epoch\n",
        "val_acc = history.history['val_accuracy']\n",
        "\n",
        "# Get the epoch with the highest validation accuracy\n",
        "best_epoch = np.argmax(val_acc)\n",
        "\n",
        "# plot accuracy\n",
        "plt.plot(model.history.history['accuracy'])\n",
        "plt.plot(model.history.history['val_accuracy'])\n",
        "plt.title('Model accuracy')\n",
        "plt.ylabel('Accuracy')\n",
        "plt.xlabel('Epoch')\n",
        "plt.legend(['Train', 'Validation'], loc='upper left')\n",
        "plt.show()\n"
      ],
      "metadata": {
        "id": "zufSrS6XQFH0",
        "outputId": "248f92b4-a47d-485e-cf05-c66ce808bb06",
        "colab": {
          "base_uri": "https://localhost:8080/",
          "height": 472
        }
      },
      "id": "zufSrS6XQFH0",
      "execution_count": 131,
      "outputs": [
        {
          "output_type": "display_data",
          "data": {
            "text/plain": [
              "<Figure size 640x480 with 1 Axes>"
            ],
            "image/png": "[encoded data removed]"
          },
          "metadata": {}
        }
      ]
    },
    {
      "cell_type": "code",
      "source": [
        "import matplotlib.pyplot as plt\n",
        "import numpy as np\n",
        "\n",
        "# Assuming you have already defined val_acc and best_epoch as shown in the previous code snippet\n",
        "\n",
        "# Plot validation accuracy vs. epoch\n",
        "epochs = range(1, len(val_acc) + 1)\n",
        "plt.plot(epochs, val_acc, 'b', label='Validation accuracy')\n",
        "\n",
        "# Add a point at the best epoch\n",
        "best_val_acc = val_acc[best_epoch]\n",
        "plt.plot(best_epoch + 1, best_val_acc, 'bo', label=f'Best epoch ({best_epoch + 1}, {best_val_acc:.2f})')\n",
        "\n",
        "# Add labels and legend\n",
        "plt.title('Validation accuracy')\n",
        "plt.xlabel('Epoch')\n",
        "plt.ylabel('Accuracy')\n",
        "plt.legend()\n",
        "\n",
        "plt.show()\n"
      ],
      "metadata": {
        "id": "BEGN0QkzSAu4",
        "outputId": "7df2dbc6-0757-4e91-d97c-d47db61cb47f",
        "colab": {
          "base_uri": "https://localhost:8080/",
          "height": 472
        }
      },
      "id": "BEGN0QkzSAu4",
      "execution_count": 132,
      "outputs": [
        {
          "output_type": "display_data",
          "data": {
            "text/plain": [
              "<Figure size 640x480 with 1 Axes>"
            ],
            "image/png": "[encoded data removed]"
          },
          "metadata": {}
        }
      ]
    },
    {
      "cell_type": "markdown",
      "source": [
        "### predict train"
      ],
      "metadata": {
        "id": "m-9YUXIxyywL"
      },
      "id": "m-9YUXIxyywL"
    },
    {
      "cell_type": "code",
      "source": [
        "X_pred = model.predict(x_train_shaped)\n",
        "X_pred_test = model.predict(x_test_shaped)\n",
        "model.save('model{}.h5'.format(timesteps))"
      ],
      "metadata": {
        "colab": {
          "base_uri": "https://localhost:8080/"
        },
        "id": "toMD7PI2tDUC",
        "outputId": "ef32a82e-1c18-4886-af70-3fddc9ae86bd"
      },
      "id": "toMD7PI2tDUC",
      "execution_count": 133,
      "outputs": [
        {
          "output_type": "stream",
          "name": "stdout",
          "text": [
            "1304/1304 [==============================] - 7s 4ms/step\n"
          ]
        }
      ]
    },
    {
      "cell_type": "markdown",
      "source": [
        "### Predict test"
      ],
      "metadata": {
        "id": "c47rtlh7yvYO"
      },
      "id": "c47rtlh7yvYO"
    },
    {
      "cell_type": "code",
      "source": [],
      "metadata": {
        "colab": {
          "base_uri": "https://localhost:8080/"
        },
        "id": "d7jNFWIRDSe_",
        "outputId": "bbbaa349-dccd-4e43-a7ce-c8c92b19cffd"
      },
      "id": "d7jNFWIRDSe_",
      "execution_count": 146,
      "outputs": [
        {
          "output_type": "stream",
          "name": "stdout",
          "text": [
            "631/631 [==============================] - 3s 4ms/step\n"
          ]
        }
      ]
    },
    {
      "cell_type": "markdown",
      "source": [
        "### save model"
      ],
      "metadata": {
        "id": "bM3QLgsAaYSD"
      },
      "id": "bM3QLgsAaYSD"
    },
    {
      "cell_type": "code",
      "source": [
        "# save the model\n"
      ],
      "metadata": {
        "id": "G8FcC2jk7JHf"
      },
      "id": "G8FcC2jk7JHf",
      "execution_count": 135,
      "outputs": []
    },
    {
      "cell_type": "markdown",
      "source": [
        "# Classify"
      ],
      "metadata": {
        "id": "es0PBpSCx_wO"
      },
      "id": "es0PBpSCx_wO"
    },
    {
      "cell_type": "code",
      "source": [
        "from sklearn.metrics import mean_squared_error\n",
        "\n",
        "# Iterate over each sequence in X_train\n",
        "\n",
        "def calc_mse(X,X_predict):\n",
        "  mse_list = []\n",
        "  for i in range(X.shape[0]):\n",
        "      # Get the current sequence\n",
        "      sequence = X[i]\n",
        "\n",
        "      # Calculate the mean squared error for the sequence\n",
        "      mse = mean_squared_error(sequence, X_predict[i])\n",
        "      mse_list.append(mse)\n",
        "  return mse_list"
      ],
      "metadata": {
        "id": "jaMbMvT6tZ3M"
      },
      "execution_count": 136,
      "outputs": [],
      "id": "jaMbMvT6tZ3M"
    },
    {
      "cell_type": "code",
      "source": [
        "mse_train = calc_mse(x_train_shaped, X_pred)\n",
        "mse_test = calc_mse(x_test_shaped, X_pred_test)\n"
      ],
      "metadata": {
        "id": "FPZgKEEluQZO"
      },
      "id": "FPZgKEEluQZO",
      "execution_count": 137,
      "outputs": []
    },
    {
      "cell_type": "markdown",
      "source": [
        "# approx the best threshold"
      ],
      "metadata": {
        "id": "PkrtfSlPaK1t"
      },
      "id": "PkrtfSlPaK1t"
    },
    {
      "cell_type": "code",
      "source": [
        "import pandas as pd\n",
        "import numpy as np\n",
        "def threshold_loop(mse_train,mse_test):\n",
        "  mean_error = np.mean(mse_train)\n",
        "  std_error = np.std(mse_train)\n",
        "\n",
        "\n",
        "  def classify(mse_list, threshold):\n",
        "    classified = []\n",
        "    for i in range(len(mse_list)):\n",
        "      classified.append(0 if mse_list[i] < threshold else 1)\n",
        "    return classified\n",
        "\n",
        "  # Set threshold as a certain number of standard deviations from the mean\n",
        "  std_deviations = [0.1, 0.5, 1, 1.1, 1.25, 1.3, 1.35, 1.4, 1.45, 1.5, 1.75, 1.8, 1.9, 2, 3]\n",
        "  results = []\n",
        "\n",
        "  for num_std in std_deviations:\n",
        "    threshold = mean_error + num_std * std_error\n",
        "    train_classified = classify(mse_train, threshold)\n",
        "    test_classified = classify(mse_test, threshold)\n",
        "\n",
        "    TP = test_classified.count(1)\n",
        "    FP = train_classified.count(1)\n",
        "    TN = train_classified.count(0)\n",
        "    FN = test_classified.count(0)\n",
        "    accuracy = (TP + TN) / (TP + FP + TN + FN)\n",
        "    precision = TP / (TP + FP)\n",
        "    recall = TP / (TP + FN)\n",
        "    f1_score = 2 * (precision * recall) / (precision + recall)\n",
        "    specificity = TN / (TN + FP)\n",
        "    fpr = FP / (TN + FP)\n",
        "\n",
        "    results.append({\n",
        "        'SDs': num_std,\n",
        "        'Threshold': threshold,\n",
        "        'Accuracy': accuracy,\n",
        "        'Precision': precision,\n",
        "        'Recall': recall,\n",
        "        'F1-score': f1_score,\n",
        "        'Specificity': specificity,\n",
        "        'FPR': fpr\n",
        "    })\n",
        "\n",
        "  # Create table of results\n",
        "  results_df = pd.DataFrame(results)\n",
        "\n"
      ],
      "metadata": {
        "id": "zQ6kZhH8aJ4f"
      },
      "id": "zQ6kZhH8aJ4f",
      "execution_count": 145,
      "outputs": []
    },
    {
      "cell_type": "code",
      "source": [
        "results_df = threshold_loop(mse_train,mse_test)\n",
        "results_df"
      ],
      "metadata": {
        "id": "673cYTmKhHi5",
        "outputId": "513c8335-1830-44e7-8ce2-175c07724d2a",
        "colab": {
          "base_uri": "https://localhost:8080/",
          "height": 171
        }
      },
      "id": "673cYTmKhHi5",
      "execution_count": 143,
      "outputs": [
        {
          "output_type": "error",
          "ename": "NameError",
          "evalue": "ignored",
          "traceback": [
            "\u001b[0;31m---------------------------------------------------------------------------\u001b[0m",
            "\u001b[0;31mNameError\u001b[0m                                 Traceback (most recent call last)",
            "\u001b[0;32m<ipython-input-143-2b7c813217d0>\u001b[0m in \u001b[0;36m<cell line: 1>\u001b[0;34m()\u001b[0m\n\u001b[0;32m----> 1\u001b[0;31m \u001b[0mresults_df\u001b[0m \u001b[0;34m=\u001b[0m \u001b[0mthreshold_loop\u001b[0m\u001b[0;34m(\u001b[0m\u001b[0mmse_train\u001b[0m\u001b[0;34m,\u001b[0m\u001b[0mmse_test\u001b[0m\u001b[0;34m)\u001b[0m\u001b[0;34m\u001b[0m\u001b[0;34m\u001b[0m\u001b[0m\n\u001b[0m",
            "\u001b[0;31mNameError\u001b[0m: name 'threshold_loop' is not defined"
          ]
        }
      ]
    },
    {
      "cell_type": "code",
      "source": [
        "results_df.style.to_latex()"
      ],
      "metadata": {
        "id": "rrTDBBpFjz5j",
        "outputId": "5e045e93-9101-4002-d542-a62fff5935d7",
        "colab": {
          "base_uri": "https://localhost:8080/",
          "height": 171
        }
      },
      "id": "rrTDBBpFjz5j",
      "execution_count": 111,
      "outputs": [
        {
          "output_type": "error",
          "ename": "TypeError",
          "evalue": "ignored",
          "traceback": [
            "\u001b[0;31m---------------------------------------------------------------------------\u001b[0m",
            "\u001b[0;31mTypeError\u001b[0m                                 Traceback (most recent call last)",
            "\u001b[0;32m<ipython-input-111-45353dc28fab>\u001b[0m in \u001b[0;36m<cell line: 1>\u001b[0;34m()\u001b[0m\n\u001b[0;32m----> 1\u001b[0;31m \u001b[0mresults_df\u001b[0m\u001b[0;34m.\u001b[0m\u001b[0mstyle\u001b[0m\u001b[0;34m.\u001b[0m\u001b[0mto_latex\u001b[0m\u001b[0;34m(\u001b[0m\u001b[0mindex\u001b[0m\u001b[0;34m=\u001b[0m\u001b[0;32mFalse\u001b[0m\u001b[0;34m)\u001b[0m\u001b[0;34m\u001b[0m\u001b[0;34m\u001b[0m\u001b[0m\n\u001b[0m",
            "\u001b[0;31mTypeError\u001b[0m: Styler.to_latex() got an unexpected keyword argument 'index'"
          ]
        }
      ]
    },
    {
      "cell_type": "markdown",
      "source": [
        "### TRESHOLD"
      ],
      "metadata": {
        "id": "oYeiLiDpx7o0"
      },
      "id": "oYeiLiDpx7o0"
    },
    {
      "cell_type": "code",
      "source": [
        "mean_error = np.mean(mse_train)\n",
        "std_error = np.std(mse_train)\n",
        "\n",
        "# Set threshold as a certain number of standard deviations from the mean\n",
        "std_deviations = [0.001, 0.01, 0.1, 0.5, 1, 2, 3]\n",
        "thresholds = []\n",
        "\n",
        "for num_std in std_deviations:\n",
        "  thresholds.append(mean_error + num_std * std_error)\n"
      ],
      "metadata": {
        "colab": {
          "base_uri": "https://localhost:8080/"
        },
        "id": "tnnwcqGLx7Fv",
        "outputId": "e75cab35-527d-43b1-b06f-41c65f98260c"
      },
      "id": "tnnwcqGLx7Fv",
      "execution_count": null,
      "outputs": [
        {
          "output_type": "stream",
          "name": "stdout",
          "text": [
            "Threshold: 0.00202481729502324\n"
          ]
        }
      ]
    },
    {
      "cell_type": "markdown",
      "source": [
        "### create classification vector"
      ],
      "metadata": {
        "id": "jnhGIpuL1ByG"
      },
      "id": "jnhGIpuL1ByG"
    },
    {
      "cell_type": "code",
      "source": [
        "def classify(mse_list):\n",
        "  classified = []\n",
        "  for i in range(x_train_shaped.shape[0]):\n",
        "    classified.append(0 if mse_list[i] < threshold else 1)\n",
        "  return classified"
      ],
      "metadata": {
        "id": "0qxf15Xk1F5I"
      },
      "id": "0qxf15Xk1F5I",
      "execution_count": 70,
      "outputs": []
    },
    {
      "cell_type": "code",
      "source": [
        "for \n",
        "\n",
        "train_classified = classify(mse_train)\n",
        "test_classified = classify(mse_test)"
      ],
      "metadata": {
        "id": "kKIPgh_dFr1P"
      },
      "id": "kKIPgh_dFr1P",
      "execution_count": null,
      "outputs": []
    },
    {
      "cell_type": "code",
      "source": [
        "train_classified[:10],test_classified[:10]"
      ],
      "metadata": {
        "colab": {
          "base_uri": "https://localhost:8080/"
        },
        "id": "sFOjR6-XWeFv",
        "outputId": "15741c52-32e7-46b6-e8e9-00c2f37ad409"
      },
      "id": "sFOjR6-XWeFv",
      "execution_count": null,
      "outputs": [
        {
          "output_type": "execute_result",
          "data": {
            "text/plain": [
              "([0, 0, 0, 0, 0, 0, 0, 0, 0, 0], [0, 0, 0, 0, 0, 0, 0, 0, 0, 0])"
            ]
          },
          "metadata": {},
          "execution_count": 26
        }
      ]
    },
    {
      "cell_type": "markdown",
      "id": "0b01d143-777d-46dd-a5c4-27c4f5e40440",
      "metadata": {
        "id": "0b01d143-777d-46dd-a5c4-27c4f5e40440"
      },
      "source": [
        "# result analysis"
      ]
    },
    {
      "cell_type": "markdown",
      "source": [
        "# metrics"
      ],
      "metadata": {
        "id": "9uK6W2-uRxV2"
      },
      "id": "9uK6W2-uRxV2"
    },
    {
      "cell_type": "code",
      "source": [],
      "metadata": {
        "id": "N90yo7rzRvgY"
      },
      "id": "N90yo7rzRvgY",
      "execution_count": null,
      "outputs": []
    },
    {
      "cell_type": "code",
      "source": [
        "TP = test_classified.count(1)\n",
        "FP = train_classified.count(1)\n",
        "TN = train_classified.count(0)\n",
        "FN = test_classified.count(0)"
      ],
      "metadata": {
        "id": "Q32yuSJeWFpP",
        "outputId": "c718c935-2c30-4498-ddf8-966954d556c9",
        "colab": {
          "base_uri": "https://localhost:8080/",
          "height": 226
        }
      },
      "id": "Q32yuSJeWFpP",
      "execution_count": 84,
      "outputs": [
        {
          "output_type": "error",
          "ename": "NameError",
          "evalue": "ignored",
          "traceback": [
            "\u001b[0;31m---------------------------------------------------------------------------\u001b[0m",
            "\u001b[0;31mNameError\u001b[0m                                 Traceback (most recent call last)",
            "\u001b[0;32m<ipython-input-84-8b023d282d97>\u001b[0m in \u001b[0;36m<cell line: 1>\u001b[0;34m()\u001b[0m\n\u001b[0;32m----> 1\u001b[0;31m \u001b[0mTP\u001b[0m \u001b[0;34m=\u001b[0m \u001b[0mtest_classified\u001b[0m\u001b[0;34m.\u001b[0m\u001b[0mcount\u001b[0m\u001b[0;34m(\u001b[0m\u001b[0;36m1\u001b[0m\u001b[0;34m)\u001b[0m\u001b[0;34m\u001b[0m\u001b[0;34m\u001b[0m\u001b[0m\n\u001b[0m\u001b[1;32m      2\u001b[0m \u001b[0mFP\u001b[0m \u001b[0;34m=\u001b[0m \u001b[0mtrain_classified\u001b[0m\u001b[0;34m.\u001b[0m\u001b[0mcount\u001b[0m\u001b[0;34m(\u001b[0m\u001b[0;36m1\u001b[0m\u001b[0;34m)\u001b[0m\u001b[0;34m\u001b[0m\u001b[0;34m\u001b[0m\u001b[0m\n\u001b[1;32m      3\u001b[0m \u001b[0mTN\u001b[0m \u001b[0;34m=\u001b[0m \u001b[0mtrain_classified\u001b[0m\u001b[0;34m.\u001b[0m\u001b[0mcount\u001b[0m\u001b[0;34m(\u001b[0m\u001b[0;36m0\u001b[0m\u001b[0;34m)\u001b[0m\u001b[0;34m\u001b[0m\u001b[0;34m\u001b[0m\u001b[0m\n\u001b[1;32m      4\u001b[0m \u001b[0mFN\u001b[0m \u001b[0;34m=\u001b[0m \u001b[0mtest_classified\u001b[0m\u001b[0;34m.\u001b[0m\u001b[0mcount\u001b[0m\u001b[0;34m(\u001b[0m\u001b[0;36m0\u001b[0m\u001b[0;34m)\u001b[0m\u001b[0;34m\u001b[0m\u001b[0;34m\u001b[0m\u001b[0m\n",
            "\u001b[0;31mNameError\u001b[0m: name 'test_classified' is not defined"
          ]
        }
      ]
    },
    {
      "cell_type": "code",
      "source": [
        "accuracy = (TP + TN) / (TP + FP + TN + FN)\n",
        "precision = TP / (TP + FP)\n",
        "recall = TP / (TP + FN)\n",
        "f1_score = 2 * (precision * recall) / (precision + recall)\n",
        "specificity = TN / (TN + FP)\n",
        "fpr = FP / (TN + FP)\n"
      ],
      "metadata": {
        "id": "urt-du3AWDsS"
      },
      "id": "urt-du3AWDsS",
      "execution_count": null,
      "outputs": []
    },
    {
      "cell_type": "code",
      "source": [
        "confusion_matrix = pd.DataFrame(\n",
        "    {\n",
        "        '': ['Actual Positive', 'Actual Negative'],\n",
        "        'Predicted Positive': [TP, FP],\n",
        "        'Predicted Negative': [FN, TN]\n",
        "    }\n",
        ")\n",
        "\n",
        "# Convert the dataframe to a LaTeX table\n",
        "confusion_matrix_latex = confusion_matrix.style.to_latex()\n",
        "\n",
        "# Print the table and the metrics\n",
        "print(confusion_matrix_latex)\n",
        "print(f'Accuracy: {accuracy:.2f}')\n",
        "print(f'Precision: {precision:.2f}')\n",
        "print(f'Recall: {recall:.2f}')\n",
        "print(f'F1-score: {f1_score:.2f}')"
      ],
      "metadata": {
        "colab": {
          "base_uri": "https://localhost:8080/"
        },
        "id": "GRWSE2s8WRiO",
        "outputId": "e02b0fb7-796c-4ca9-8902-4451308dadda"
      },
      "id": "GRWSE2s8WRiO",
      "execution_count": null,
      "outputs": [
        {
          "output_type": "stream",
          "name": "stdout",
          "text": [
            "\\begin{tabular}{llrr}\n",
            " &  & Predicted Positive & Predicted Negative \\\\\n",
            "0 & Actual Positive & 853 & 147 \\\\\n",
            "1 & Actual Negative & 345 & 655 \\\\\n",
            "\\end{tabular}\n",
            "\n",
            "Accuracy: 0.75\n",
            "Precision: 0.71\n",
            "Recall: 0.85\n",
            "F1-score: 0.78\n"
          ]
        }
      ]
    }
  ],
  "metadata": {
    "kernelspec": {
      "display_name": "Python 3",
      "language": "python",
      "name": "python3"
    },
    "language_info": {
      "codemirror_mode": {
        "name": "ipython",
        "version": 3
      },
      "file_extension": ".py",
      "mimetype": "text/x-python",
      "name": "python",
      "nbconvert_exporter": "python",
      "pygments_lexer": "ipython3",
      "version": "3.9.16"
    },
    "colab": {
      "provenance": [],
      "history_visible": true,
      "machine_shape": "hm",
      "gpuType": "T4",
      "toc_visible": true
    },
    "accelerator": "GPU",
    "gpuClass": "standard"
  },
  "nbformat": 4,
  "nbformat_minor": 5
}