{
  "cells": [
    {
      "cell_type": "code",
      "source": [
        "import os\n",
        "import pandas as pd\n",
        "import json"
      ],
      "metadata": {
        "id": "aZ06re8w5-aY"
      },
      "id": "aZ06re8w5-aY",
      "execution_count": 6,
      "outputs": []
    },
    {
      "cell_type": "markdown",
      "source": [
        "### vauth"
      ],
      "metadata": {
        "id": "7vxbc0Yg8le1"
      },
      "id": "7vxbc0Yg8le1"
    },
    {
      "cell_type": "code",
      "source": [
        "from google.colab import auth\n",
        "auth.authenticate_user()\n"
      ],
      "metadata": {
        "id": "PzJxt8VV8kxf"
      },
      "id": "PzJxt8VV8kxf",
      "execution_count": null,
      "outputs": []
    },
    {
      "cell_type": "markdown",
      "source": [
        "# preprosessing"
      ],
      "metadata": {
        "id": "N1jejr4U6Dcs"
      },
      "id": "N1jejr4U6Dcs"
    },
    {
      "cell_type": "markdown",
      "source": [
        "## extract features from files and make a dataframe"
      ],
      "metadata": {
        "id": "9-1tjNKO6HmP"
      },
      "id": "9-1tjNKO6HmP"
    },
    {
      "cell_type": "code",
      "source": [
        "#help function to import data as dataframes\n",
        "def import_to_df(folder): \n",
        "  \n",
        "# Loop through all the files in the folder\n",
        "  for filename in os.listdir(folder):\n",
        "      data = []\n",
        "      errors = 0\n",
        "      if (\"data\" not in filename):\n",
        "          continue\n",
        "      file_path = os.path.join(folder, filename)\n",
        "      # Load the JSON file\n",
        "      with open(file_path) as f:\n",
        "          #print(file_path)\n",
        "          # Extract the relevant features from each log entry\n",
        "          for line in f:\n",
        "              try:\n",
        "                  entry = json.loads(line)\n",
        "                  # Extract the relevant features from the entry and add them to the data list\n",
        "                  features = {'latency': entry['httpRequest']['latency'],\n",
        "                              'requestSize': entry['httpRequest']['requestSize'],\n",
        "                              'requestMethod': entry['httpRequest']['requestMethod'],\n",
        "                              'responseSize': entry['httpRequest']['responseSize'],\n",
        "                              'requestUrl': entry['httpRequest']['requestUrl'],\n",
        "                              'status': entry['httpRequest']['status'],\n",
        "                              'source_app': entry['labels']['source_app'],\n",
        "                              'timestamp': entry['timestamp']}\n",
        "                  data.append(features)\n",
        "              except json.JSONDecodeError:\n",
        "                  # Handle JSONDecodeError and continue to the next line\n",
        "                  errors += 1\n",
        "                  print(f\"Error decoding JSON in file {file_path}: {line}\")\n",
        "                  continue\n",
        "              except KeyError:\n",
        "                  # Error and continue to the next line\n",
        "                  errors += 1\n",
        "                  print(f\"KEY error in file {file_path}: {line}\")\n",
        "                  continue\n",
        "\n",
        "\n",
        "  # Convert the list of dictionaries into a DataFrame\n",
        "  print(\"Number of errors: \" + str(errors))\n",
        "  df = pd.DataFrame(data)\n",
        "  print(df.head())\n",
        "  return df\n"
      ],
      "metadata": {
        "id": "bsPUQSp-5kpb"
      },
      "id": "bsPUQSp-5kpb",
      "execution_count": 9,
      "outputs": []
    },
    {
      "cell_type": "markdown",
      "source": [
        "## import train"
      ],
      "metadata": {
        "id": "qOuulQOpR0ib"
      },
      "id": "qOuulQOpR0ib"
    },
    {
      "cell_type": "code",
      "source": [
        "train_df = import_to_df(\"/content/normal\");\n",
        "\n",
        "train_df['timestamp'] = pd.to_datetime(train_df['timestamp'], utc=True)\n",
        "# set timestamp as the index\n",
        "train_df.set_index('timestamp', inplace=True)\n",
        "# Sort the DataFrame by the index \n",
        "train_df = train_df.sort_index()\n",
        "\n",
        "train_dforiginal = train_df.copy()\n",
        "\n",
        "#catergorize latency\n",
        "train_df['latency'] = (train_df['latency'] < 0.1).astype(int)\n"
      ],
      "metadata": {
        "id": "sUF_zR0jR7qB"
      },
      "id": "sUF_zR0jR7qB",
      "execution_count": null,
      "outputs": []
    },
    {
      "cell_type": "markdown",
      "source": [
        "## import test"
      ],
      "metadata": {
        "id": "XZtnlZ51R3dl"
      },
      "id": "XZtnlZ51R3dl"
    },
    {
      "cell_type": "code",
      "source": [
        "test_df = import_to_df(\"/content/anomaly\");\n",
        "\n",
        "# set timestamp as the index\n",
        "\n",
        "test_df['timestamp'] = pd.to_datetime(test_df['timestamp'], utc=True)\n",
        "test_df.set_index('timestamp', inplace=True)\n",
        "\n",
        "# Sort the DataFrame by the index \n",
        "test_df = test_df.sort_index()\n",
        "\n",
        "test_dforiginal = test_df.copy()\n",
        "\n",
        "#catergorize latency\n",
        "test_df['latency'] = (test_df['latency'] < 0.1).astype(int)\n"
      ],
      "metadata": {
        "colab": {
          "base_uri": "https://localhost:8080/"
        },
        "id": "4Z2zq2e2SVo7",
        "outputId": "56b465f8-250c-4352-9e0a-75cee71b6a64"
      },
      "execution_count": 17,
      "outputs": [
        {
          "output_type": "stream",
          "name": "stdout",
          "text": [
            "KEY error in file /content/anomaly/data-000000000068: {\"logName\":\"projects/arstiladippa/logs/server-accesslog-stackdriver\",\"resource\":{\"type\":\"k8s_container\",\"labels\":{\"container_name\":\"server\",\"location\":\"europe-north1\",\"namespace_name\":\"default\",\"cluster_name\":\"onlineboutique\",\"pod_name\":\"adservice-555649568c-7xs8v\",\"project_id\":\"arstiladippa\"}},\"timestamp\":\"2023-04-21 23:25:58.734769 UTC\",\"receiveTimestamp\":\"2023-04-21 23:26:00.178806 UTC\",\"severity\":\"INFO\",\"insertId\":\"17ujnq8f3wjkxn\",\"httpRequest\":{\"requestMethod\":\"POST\",\"requestUrl\":\"http://adservice:9555/hipstershop.AdService/GetAds\",\"requestSize\":\"694\",\"userAgent\":\"grpc-go/1.53.0\",\"remoteIp\":\"10.68.129.200:58810\",\"serverIp\":\"10.68.129.70:9555\",\"latency\":0.000397674,\"protocol\":\"grpc\"},\"labels\":{\"source_workload\":\"frontend\",\"request_id\":\"160447fa-74c4-4f16-8108-e655045767bb\",\"destination_namespace\":\"default\",\"response_flag\":\"-\",\"destination_service_host\":\"adservice.default.svc.cluster.local\",\"log_sampled\":\"false\",\"source_name\":\"frontend-758754f77b-8428g\",\"source_principal\":\"spiffe://arstiladippa.svc.id.goog/ns/default/sa/frontend\",\"route_name\":\"default\",\"destination_service_name\":\"adservice\",\"mesh_uid\":\"proj-889558701154\",\"source_namespace\":\"default\",\"upstream_cluster\":\"inbound|9555||\",\"connection_id\":\"29\",\"destination_canonical_service\":\"adservice\",\"source_app\":\"frontend\",\"service_authentication_policy\":\"MUTUAL_TLS\",\"response_details\":\"http2.remote_reset\",\"destination_name\":\"adservice-555649568c-7xs8v\",\"destination_principal\":\"spiffe://arstiladippa.svc.id.goog/ns/default/sa/adservice\",\"source_canonical_service\":\"frontend\",\"destination_workload\":\"adservice\",\"requested_server_name\":\"outbound_.9555_._.adservice.default.svc.cluster.local\",\"upstream_host\":\"10.68.129.70:9555\",\"destination_app\":\"adservice\",\"protocol\":\"grpc\",\"destination_canonical_revision\":\"latest\",\"source_canonical_revision\":\"latest\"}}\n",
            "\n",
            "KEY error in file /content/anomaly/data-000000000031: {\"logName\":\"projects/arstiladippa/logs/server-accesslog-stackdriver\",\"resource\":{\"type\":\"k8s_container\",\"labels\":{\"container_name\":\"server\",\"location\":\"europe-north1\",\"namespace_name\":\"default\",\"cluster_name\":\"onlineboutique\",\"pod_name\":\"productcatalogservice-cb76857b5-zkqnd\",\"project_id\":\"arstiladippa\"}},\"timestamp\":\"2023-04-21 10:46:47.249316 UTC\",\"receiveTimestamp\":\"2023-04-21 10:47:02.960494 UTC\",\"severity\":\"INFO\",\"insertId\":\"15ci2cpf1peftr\",\"httpRequest\":{\"requestMethod\":\"POST\",\"requestUrl\":\"http://productcatalogservice:3550/hipstershop.ProductCatalogService/GetProduct\",\"requestSize\":\"713\",\"userAgent\":\"grpc-go/1.53.0\",\"remoteIp\":\"10.68.129.200:42724\",\"serverIp\":\"10.68.129.201:3550\",\"latency\":0.000332708,\"protocol\":\"grpc\"},\"labels\":{\"source_workload\":\"frontend\",\"request_id\":\"3d659953-5460-425d-8db2-5d3e383c1e34\",\"destination_namespace\":\"default\",\"response_flag\":\"-\",\"destination_service_host\":\"productcatalogservice.default.svc.cluster.local\",\"log_sampled\":\"false\",\"source_name\":\"frontend-758754f77b-8428g\",\"source_principal\":\"spiffe://arstiladippa.svc.id.goog/ns/default/sa/frontend\",\"route_name\":\"default\",\"destination_service_name\":\"productcatalogservice\",\"mesh_uid\":\"proj-889558701154\",\"source_namespace\":\"default\",\"upstream_cluster\":\"inbound|3550||\",\"connection_id\":\"10\",\"destination_canonical_service\":\"productcatalogservice\",\"source_app\":\"frontend\",\"service_authentication_policy\":\"MUTUAL_TLS\",\"response_details\":\"http2.remote_reset\",\"destination_name\":\"productcatalogservice-cb76857b5-zkqnd\",\"destination_principal\":\"spiffe://arstiladippa.svc.id.goog/ns/default/sa/productcatalogservice\",\"source_canonical_service\":\"frontend\",\"destination_workload\":\"productcatalogservice\",\"requested_server_name\":\"outbound_.3550_._.productcatalogservice.default.svc.cluster.local\",\"upstream_host\":\"10.68.129.201:3550\",\"destination_app\":\"productcatalogservice\",\"protocol\":\"grpc\",\"destination_canonical_revision\":\"latest\",\"source_canonical_revision\":\"latest\"}}\n",
            "\n",
            "KEY error in file /content/anomaly/data-000000000031: {\"logName\":\"projects/arstiladippa/logs/server-accesslog-stackdriver\",\"resource\":{\"type\":\"k8s_container\",\"labels\":{\"container_name\":\"server\",\"location\":\"europe-north1\",\"namespace_name\":\"default\",\"cluster_name\":\"onlineboutique\",\"pod_name\":\"productcatalogservice-cb76857b5-zkqnd\",\"project_id\":\"arstiladippa\"}},\"timestamp\":\"2023-04-21 10:46:50.090336 UTC\",\"receiveTimestamp\":\"2023-04-21 10:47:02.960494 UTC\",\"severity\":\"INFO\",\"insertId\":\"15ci2cpf1pefy4\",\"httpRequest\":{\"requestMethod\":\"POST\",\"requestUrl\":\"http://productcatalogservice:3550/hipstershop.ProductCatalogService/GetProduct\",\"requestSize\":\"713\",\"userAgent\":\"grpc-go/1.53.0\",\"remoteIp\":\"10.68.129.200:42724\",\"serverIp\":\"10.68.129.201:3550\",\"latency\":0.000466714,\"protocol\":\"grpc\"},\"labels\":{\"source_workload\":\"frontend\",\"request_id\":\"9ea66ac7-3145-4c50-bcd2-95c49f7556c4\",\"destination_namespace\":\"default\",\"response_flag\":\"-\",\"destination_service_host\":\"productcatalogservice.default.svc.cluster.local\",\"log_sampled\":\"false\",\"source_name\":\"frontend-758754f77b-8428g\",\"source_principal\":\"spiffe://arstiladippa.svc.id.goog/ns/default/sa/frontend\",\"route_name\":\"default\",\"destination_service_name\":\"productcatalogservice\",\"mesh_uid\":\"proj-889558701154\",\"source_namespace\":\"default\",\"upstream_cluster\":\"inbound|3550||\",\"connection_id\":\"10\",\"destination_canonical_service\":\"productcatalogservice\",\"source_app\":\"frontend\",\"service_authentication_policy\":\"MUTUAL_TLS\",\"response_details\":\"http2.remote_reset\",\"destination_name\":\"productcatalogservice-cb76857b5-zkqnd\",\"destination_principal\":\"spiffe://arstiladippa.svc.id.goog/ns/default/sa/productcatalogservice\",\"source_canonical_service\":\"frontend\",\"destination_workload\":\"productcatalogservice\",\"requested_server_name\":\"outbound_.3550_._.productcatalogservice.default.svc.cluster.local\",\"upstream_host\":\"10.68.129.201:3550\",\"destination_app\":\"productcatalogservice\",\"protocol\":\"grpc\",\"destination_canonical_revision\":\"latest\",\"source_canonical_revision\":\"latest\"}}\n",
            "\n",
            "KEY error in file /content/anomaly/data-000000000031: {\"logName\":\"projects/arstiladippa/logs/server-accesslog-stackdriver\",\"resource\":{\"type\":\"k8s_container\",\"labels\":{\"container_name\":\"server\",\"location\":\"europe-north1\",\"namespace_name\":\"default\",\"cluster_name\":\"onlineboutique\",\"pod_name\":\"productcatalogservice-cb76857b5-zkqnd\",\"project_id\":\"arstiladippa\"}},\"timestamp\":\"2023-04-21 10:48:59.726352 UTC\",\"receiveTimestamp\":\"2023-04-21 10:49:02.942794 UTC\",\"severity\":\"INFO\",\"insertId\":\"wr4p4rf2zmxyr\",\"httpRequest\":{\"requestMethod\":\"POST\",\"requestUrl\":\"http://productcatalogservice:3550/hipstershop.ProductCatalogService/GetProduct\",\"requestSize\":\"713\",\"userAgent\":\"grpc-go/1.53.0\",\"remoteIp\":\"10.68.129.200:42724\",\"serverIp\":\"10.68.129.201:3550\",\"latency\":0.000265292,\"protocol\":\"grpc\"},\"labels\":{\"source_workload\":\"frontend\",\"request_id\":\"88aa5567-a6a3-4c38-b2af-6dc995330aee\",\"destination_namespace\":\"default\",\"response_flag\":\"-\",\"destination_service_host\":\"productcatalogservice.default.svc.cluster.local\",\"log_sampled\":\"false\",\"source_name\":\"frontend-758754f77b-8428g\",\"source_principal\":\"spiffe://arstiladippa.svc.id.goog/ns/default/sa/frontend\",\"route_name\":\"default\",\"destination_service_name\":\"productcatalogservice\",\"mesh_uid\":\"proj-889558701154\",\"source_namespace\":\"default\",\"upstream_cluster\":\"inbound|3550||\",\"connection_id\":\"10\",\"destination_canonical_service\":\"productcatalogservice\",\"source_app\":\"frontend\",\"service_authentication_policy\":\"MUTUAL_TLS\",\"response_details\":\"http2.remote_reset\",\"destination_name\":\"productcatalogservice-cb76857b5-zkqnd\",\"destination_principal\":\"spiffe://arstiladippa.svc.id.goog/ns/default/sa/productcatalogservice\",\"source_canonical_service\":\"frontend\",\"destination_workload\":\"productcatalogservice\",\"requested_server_name\":\"outbound_.3550_._.productcatalogservice.default.svc.cluster.local\",\"upstream_host\":\"10.68.129.201:3550\",\"destination_app\":\"productcatalogservice\",\"protocol\":\"grpc\",\"destination_canonical_revision\":\"latest\",\"source_canonical_revision\":\"latest\"}}\n",
            "\n",
            "KEY error in file /content/anomaly/data-000000000031: {\"logName\":\"projects/arstiladippa/logs/server-accesslog-stackdriver\",\"resource\":{\"type\":\"k8s_container\",\"labels\":{\"container_name\":\"server\",\"location\":\"europe-north1\",\"namespace_name\":\"default\",\"cluster_name\":\"onlineboutique\",\"pod_name\":\"productcatalogservice-cb76857b5-zkqnd\",\"project_id\":\"arstiladippa\"}},\"timestamp\":\"2023-04-21 10:48:58.123536 UTC\",\"receiveTimestamp\":\"2023-04-21 10:49:02.942794 UTC\",\"severity\":\"INFO\",\"insertId\":\"wr4p4rf2zmxvq\",\"httpRequest\":{\"requestMethod\":\"POST\",\"requestUrl\":\"http://productcatalogservice:3550/hipstershop.ProductCatalogService/GetProduct\",\"requestSize\":\"713\",\"userAgent\":\"grpc-go/1.53.0\",\"remoteIp\":\"10.68.129.200:42724\",\"serverIp\":\"10.68.129.201:3550\",\"latency\":0.000266541,\"protocol\":\"grpc\"},\"labels\":{\"source_workload\":\"frontend\",\"request_id\":\"80c350b3-8ddf-4913-8ace-782269f3c4c9\",\"destination_namespace\":\"default\",\"response_flag\":\"-\",\"destination_service_host\":\"productcatalogservice.default.svc.cluster.local\",\"log_sampled\":\"false\",\"source_name\":\"frontend-758754f77b-8428g\",\"source_principal\":\"spiffe://arstiladippa.svc.id.goog/ns/default/sa/frontend\",\"route_name\":\"default\",\"destination_service_name\":\"productcatalogservice\",\"mesh_uid\":\"proj-889558701154\",\"source_namespace\":\"default\",\"upstream_cluster\":\"inbound|3550||\",\"connection_id\":\"10\",\"destination_canonical_service\":\"productcatalogservice\",\"source_app\":\"frontend\",\"service_authentication_policy\":\"MUTUAL_TLS\",\"response_details\":\"http2.remote_reset\",\"destination_name\":\"productcatalogservice-cb76857b5-zkqnd\",\"destination_principal\":\"spiffe://arstiladippa.svc.id.goog/ns/default/sa/productcatalogservice\",\"source_canonical_service\":\"frontend\",\"destination_workload\":\"productcatalogservice\",\"requested_server_name\":\"outbound_.3550_._.productcatalogservice.default.svc.cluster.local\",\"upstream_host\":\"10.68.129.201:3550\",\"destination_app\":\"productcatalogservice\",\"protocol\":\"grpc\",\"destination_canonical_revision\":\"latest\",\"source_canonical_revision\":\"latest\"}}\n",
            "\n",
            "KEY error in file /content/anomaly/data-000000000021: {\"logName\":\"projects/arstiladippa/logs/server-accesslog-stackdriver\",\"resource\":{\"type\":\"k8s_container\",\"labels\":{\"container_name\":\"server\",\"location\":\"europe-north1\",\"namespace_name\":\"default\",\"cluster_name\":\"onlineboutique\",\"pod_name\":\"productcatalogservice-cb76857b5-zkqnd\",\"project_id\":\"arstiladippa\"}},\"timestamp\":\"2023-04-21 10:46:49.832613 UTC\",\"receiveTimestamp\":\"2023-04-21 10:47:02.960494 UTC\",\"severity\":\"INFO\",\"insertId\":\"15ci2cpf1pefxp\",\"httpRequest\":{\"requestMethod\":\"POST\",\"requestUrl\":\"http://productcatalogservice:3550/hipstershop.ProductCatalogService/GetProduct\",\"requestSize\":\"713\",\"userAgent\":\"grpc-go/1.53.0\",\"remoteIp\":\"10.68.129.200:42724\",\"serverIp\":\"10.68.129.201:3550\",\"latency\":0.000266927,\"protocol\":\"grpc\"},\"labels\":{\"source_workload\":\"frontend\",\"request_id\":\"3b0102bd-71a0-4a40-af01-de3c69701663\",\"destination_namespace\":\"default\",\"response_flag\":\"-\",\"destination_service_host\":\"productcatalogservice.default.svc.cluster.local\",\"log_sampled\":\"false\",\"source_name\":\"frontend-758754f77b-8428g\",\"source_principal\":\"spiffe://arstiladippa.svc.id.goog/ns/default/sa/frontend\",\"route_name\":\"default\",\"destination_service_name\":\"productcatalogservice\",\"mesh_uid\":\"proj-889558701154\",\"source_namespace\":\"default\",\"upstream_cluster\":\"inbound|3550||\",\"connection_id\":\"10\",\"destination_canonical_service\":\"productcatalogservice\",\"source_app\":\"frontend\",\"service_authentication_policy\":\"MUTUAL_TLS\",\"response_details\":\"http2.remote_reset\",\"destination_name\":\"productcatalogservice-cb76857b5-zkqnd\",\"destination_principal\":\"spiffe://arstiladippa.svc.id.goog/ns/default/sa/productcatalogservice\",\"source_canonical_service\":\"frontend\",\"destination_workload\":\"productcatalogservice\",\"requested_server_name\":\"outbound_.3550_._.productcatalogservice.default.svc.cluster.local\",\"upstream_host\":\"10.68.129.201:3550\",\"destination_app\":\"productcatalogservice\",\"protocol\":\"grpc\",\"destination_canonical_revision\":\"latest\",\"source_canonical_revision\":\"latest\"}}\n",
            "\n",
            "KEY error in file /content/anomaly/data-000000000021: {\"logName\":\"projects/arstiladippa/logs/server-accesslog-stackdriver\",\"resource\":{\"type\":\"k8s_container\",\"labels\":{\"container_name\":\"server\",\"location\":\"europe-north1\",\"namespace_name\":\"default\",\"cluster_name\":\"onlineboutique\",\"pod_name\":\"productcatalogservice-cb76857b5-zkqnd\",\"project_id\":\"arstiladippa\"}},\"timestamp\":\"2023-04-21 10:46:47.557526 UTC\",\"receiveTimestamp\":\"2023-04-21 10:47:02.960494 UTC\",\"severity\":\"INFO\",\"insertId\":\"15ci2cpf1pefuc\",\"httpRequest\":{\"requestMethod\":\"POST\",\"requestUrl\":\"http://productcatalogservice:3550/hipstershop.ProductCatalogService/GetProduct\",\"requestSize\":\"713\",\"userAgent\":\"grpc-go/1.53.0\",\"remoteIp\":\"10.68.129.200:42724\",\"serverIp\":\"10.68.129.201:3550\",\"latency\":0.000242839,\"protocol\":\"grpc\"},\"labels\":{\"source_workload\":\"frontend\",\"request_id\":\"7b75c641-d0ab-4766-b8c2-99d0e959e9fa\",\"destination_namespace\":\"default\",\"response_flag\":\"-\",\"destination_service_host\":\"productcatalogservice.default.svc.cluster.local\",\"log_sampled\":\"false\",\"source_name\":\"frontend-758754f77b-8428g\",\"source_principal\":\"spiffe://arstiladippa.svc.id.goog/ns/default/sa/frontend\",\"route_name\":\"default\",\"destination_service_name\":\"productcatalogservice\",\"mesh_uid\":\"proj-889558701154\",\"source_namespace\":\"default\",\"upstream_cluster\":\"inbound|3550||\",\"connection_id\":\"10\",\"destination_canonical_service\":\"productcatalogservice\",\"source_app\":\"frontend\",\"service_authentication_policy\":\"MUTUAL_TLS\",\"response_details\":\"http2.remote_reset\",\"destination_name\":\"productcatalogservice-cb76857b5-zkqnd\",\"destination_principal\":\"spiffe://arstiladippa.svc.id.goog/ns/default/sa/productcatalogservice\",\"source_canonical_service\":\"frontend\",\"destination_workload\":\"productcatalogservice\",\"requested_server_name\":\"outbound_.3550_._.productcatalogservice.default.svc.cluster.local\",\"upstream_host\":\"10.68.129.201:3550\",\"destination_app\":\"productcatalogservice\",\"protocol\":\"grpc\",\"destination_canonical_revision\":\"latest\",\"source_canonical_revision\":\"latest\"}}\n",
            "\n",
            "KEY error in file /content/anomaly/data-000000000021: {\"logName\":\"projects/arstiladippa/logs/server-accesslog-stackdriver\",\"resource\":{\"type\":\"k8s_container\",\"labels\":{\"container_name\":\"server\",\"location\":\"europe-north1\",\"namespace_name\":\"default\",\"cluster_name\":\"onlineboutique\",\"pod_name\":\"productcatalogservice-cb76857b5-zkqnd\",\"project_id\":\"arstiladippa\"}},\"timestamp\":\"2023-04-21 10:48:59.530593 UTC\",\"receiveTimestamp\":\"2023-04-21 10:49:02.942794 UTC\",\"severity\":\"INFO\",\"insertId\":\"wr4p4rf2zmxye\",\"httpRequest\":{\"requestMethod\":\"POST\",\"requestUrl\":\"http://productcatalogservice:3550/hipstershop.ProductCatalogService/GetProduct\",\"requestSize\":\"713\",\"userAgent\":\"grpc-go/1.53.0\",\"remoteIp\":\"10.68.129.200:42724\",\"serverIp\":\"10.68.129.201:3550\",\"latency\":0.000282232,\"protocol\":\"grpc\"},\"labels\":{\"source_workload\":\"frontend\",\"request_id\":\"34a1e7ba-f636-4a7e-b18e-cf8382ac5b8c\",\"destination_namespace\":\"default\",\"response_flag\":\"-\",\"destination_service_host\":\"productcatalogservice.default.svc.cluster.local\",\"log_sampled\":\"false\",\"source_name\":\"frontend-758754f77b-8428g\",\"source_principal\":\"spiffe://arstiladippa.svc.id.goog/ns/default/sa/frontend\",\"route_name\":\"default\",\"destination_service_name\":\"productcatalogservice\",\"mesh_uid\":\"proj-889558701154\",\"source_namespace\":\"default\",\"upstream_cluster\":\"inbound|3550||\",\"connection_id\":\"10\",\"destination_canonical_service\":\"productcatalogservice\",\"source_app\":\"frontend\",\"service_authentication_policy\":\"MUTUAL_TLS\",\"response_details\":\"http2.remote_reset\",\"destination_name\":\"productcatalogservice-cb76857b5-zkqnd\",\"destination_principal\":\"spiffe://arstiladippa.svc.id.goog/ns/default/sa/productcatalogservice\",\"source_canonical_service\":\"frontend\",\"destination_workload\":\"productcatalogservice\",\"requested_server_name\":\"outbound_.3550_._.productcatalogservice.default.svc.cluster.local\",\"upstream_host\":\"10.68.129.201:3550\",\"destination_app\":\"productcatalogservice\",\"protocol\":\"grpc\",\"destination_canonical_revision\":\"latest\",\"source_canonical_revision\":\"latest\"}}\n",
            "\n",
            "KEY error in file /content/anomaly/data-000000000021: {\"logName\":\"projects/arstiladippa/logs/server-accesslog-stackdriver\",\"resource\":{\"type\":\"k8s_container\",\"labels\":{\"container_name\":\"server\",\"location\":\"europe-north1\",\"namespace_name\":\"default\",\"cluster_name\":\"onlineboutique\",\"pod_name\":\"productcatalogservice-cb76857b5-zkqnd\",\"project_id\":\"arstiladippa\"}},\"timestamp\":\"2023-04-21 10:48:57.923261 UTC\",\"receiveTimestamp\":\"2023-04-21 10:49:02.942794 UTC\",\"severity\":\"INFO\",\"insertId\":\"wr4p4rf2zmxvi\",\"httpRequest\":{\"requestMethod\":\"POST\",\"requestUrl\":\"http://productcatalogservice:3550/hipstershop.ProductCatalogService/GetProduct\",\"requestSize\":\"713\",\"userAgent\":\"grpc-go/1.53.0\",\"remoteIp\":\"10.68.129.200:42724\",\"serverIp\":\"10.68.129.201:3550\",\"latency\":0.000246194,\"protocol\":\"grpc\"},\"labels\":{\"source_workload\":\"frontend\",\"request_id\":\"62e9976c-1606-4b47-9d20-908841330bf3\",\"destination_namespace\":\"default\",\"response_flag\":\"-\",\"destination_service_host\":\"productcatalogservice.default.svc.cluster.local\",\"log_sampled\":\"false\",\"source_name\":\"frontend-758754f77b-8428g\",\"source_principal\":\"spiffe://arstiladippa.svc.id.goog/ns/default/sa/frontend\",\"route_name\":\"default\",\"destination_service_name\":\"productcatalogservice\",\"mesh_uid\":\"proj-889558701154\",\"source_namespace\":\"default\",\"upstream_cluster\":\"inbound|3550||\",\"connection_id\":\"10\",\"destination_canonical_service\":\"productcatalogservice\",\"source_app\":\"frontend\",\"service_authentication_policy\":\"MUTUAL_TLS\",\"response_details\":\"http2.remote_reset\",\"destination_name\":\"productcatalogservice-cb76857b5-zkqnd\",\"destination_principal\":\"spiffe://arstiladippa.svc.id.goog/ns/default/sa/productcatalogservice\",\"source_canonical_service\":\"frontend\",\"destination_workload\":\"productcatalogservice\",\"requested_server_name\":\"outbound_.3550_._.productcatalogservice.default.svc.cluster.local\",\"upstream_host\":\"10.68.129.201:3550\",\"destination_app\":\"productcatalogservice\",\"protocol\":\"grpc\",\"destination_canonical_revision\":\"latest\",\"source_canonical_revision\":\"latest\"}}\n",
            "\n",
            "Number of errors: 0\n",
            "    latency requestSize requestMethod responseSize  \\\n",
            "0  0.010894         717          POST         1626   \n",
            "1  0.001548         717          POST         1626   \n",
            "2  0.001572         717          POST         1626   \n",
            "3  0.001046         717          POST         1626   \n",
            "4  0.001593         712          POST         1778   \n",
            "\n",
            "                                          requestUrl status source_app  \\\n",
            "0  http://currencyservice:7000/hipstershop.Curren...    200   frontend   \n",
            "1  http://currencyservice:7000/hipstershop.Curren...    200   frontend   \n",
            "2  http://currencyservice:7000/hipstershop.Curren...    200   frontend   \n",
            "3  http://currencyservice:7000/hipstershop.Curren...    200   frontend   \n",
            "4  http://currencyservice:7000/hipstershop.Curren...    200   frontend   \n",
            "\n",
            "                        timestamp  \n",
            "0  2023-04-21 06:40:34.041842 UTC  \n",
            "1  2023-04-21 06:40:34.158592 UTC  \n",
            "2  2023-04-21 06:40:36.678341 UTC  \n",
            "3  2023-04-21 06:40:38.594784 UTC  \n",
            "4  2023-04-21 06:40:38.529778 UTC  \n"
          ]
        }
      ],
      "id": "4Z2zq2e2SVo7"
    },
    {
      "cell_type": "code",
      "execution_count": 40,
      "id": "eee56b51-2f00-46c4-bb92-34139fb5786b",
      "metadata": {
        "colab": {
          "base_uri": "https://localhost:8080/"
        },
        "id": "eee56b51-2f00-46c4-bb92-34139fb5786b",
        "outputId": "3bb8c4f0-76e4-4608-b251-5091e639ca18"
      },
      "outputs": [
        {
          "output_type": "stream",
          "name": "stdout",
          "text": [
            "Index(['key_0', 'key_1', 'key_2', 'key_3', 'key_4', 'key_5', 'key_6', 'key_7',\n",
            "       'key_8', 'key_9',\n",
            "       ...\n",
            "       'key_336', 'key_337', 'key_338', 'key_339', 'key_340', 'key_341',\n",
            "       'key_342', 'key_343', 'key_344', 'key_345'],\n",
            "      dtype='object', length=346) 52912\n",
            "Index(['key_0', 'key_1', 'key_2', 'key_3', 'key_4', 'key_5', 'key_6', 'key_7',\n",
            "       'key_8', 'key_9',\n",
            "       ...\n",
            "       'key_336', 'key_337', 'key_338', 'key_339', 'key_340', 'key_341',\n",
            "       'key_342', 'key_343', 'key_344', 'key_345'],\n",
            "      dtype='object', length=346) 49904\n"
          ]
        }
      ],
      "source": [
        "print(train_df.columns, len(train_df))\n",
        "print(test_df.columns, len(test_df))\n"
      ]
    },
    {
      "cell_type": "markdown",
      "source": [
        "## backup"
      ],
      "metadata": {
        "id": "UidQOBjfXJPN"
      },
      "id": "UidQOBjfXJPN"
    },
    {
      "cell_type": "code",
      "source": [
        "# in case of error\n",
        "train_df = train_dforiginal\n",
        "test_df = test_dforiginal\n",
        "\n",
        "print(train_df.head)\n",
        "print(test_df.head)"
      ],
      "metadata": {
        "colab": {
          "base_uri": "https://localhost:8080/"
        },
        "id": "gGvQCW9nWkjt",
        "outputId": "6f147316-f49b-47e7-8fae-e70fcbc8c1ff"
      },
      "id": "gGvQCW9nWkjt",
      "execution_count": null,
      "outputs": [
        {
          "output_type": "stream",
          "name": "stdout",
          "text": [
            "<bound method NDFrame.head of                                  latency requestSize requestMethod  \\\n",
            "timestamp                                                            \n",
            "2023-04-15 16:50:22.241541 UTC  0.002163         723          POST   \n",
            "2023-04-15 16:50:22.272519 UTC  0.002794         739          POST   \n",
            "2023-04-15 16:50:22.283803 UTC  0.002220         723          POST   \n",
            "2023-04-15 16:50:22.788723 UTC  0.002255         723          POST   \n",
            "2023-04-15 16:50:23.454963 UTC  0.079178         723          POST   \n",
            "...                                  ...         ...           ...   \n",
            "2023-04-15 17:22:38.664003 UTC  0.001816         717          POST   \n",
            "2023-04-15 17:22:38.668368 UTC  0.000670         730          POST   \n",
            "2023-04-15 17:22:38.670605 UTC  0.001749         717          POST   \n",
            "2023-04-15 17:22:38.673977 UTC  0.000728         730          POST   \n",
            "2023-04-15 17:22:38.676006 UTC  0.001259         717          POST   \n",
            "\n",
            "                               responseSize  \\\n",
            "timestamp                                     \n",
            "2023-04-15 16:50:22.241541 UTC         1585   \n",
            "2023-04-15 16:50:22.272519 UTC         1499   \n",
            "2023-04-15 16:50:22.283803 UTC         1601   \n",
            "2023-04-15 16:50:22.788723 UTC         1553   \n",
            "2023-04-15 16:50:23.454963 UTC         1570   \n",
            "...                                     ...   \n",
            "2023-04-15 17:22:38.664003 UTC         1626   \n",
            "2023-04-15 17:22:38.668368 UTC         1742   \n",
            "2023-04-15 17:22:38.670605 UTC         1626   \n",
            "2023-04-15 17:22:38.673977 UTC         1707   \n",
            "2023-04-15 17:22:38.676006 UTC         1626   \n",
            "\n",
            "                                                                       requestUrl  \\\n",
            "timestamp                                                                           \n",
            "2023-04-15 16:50:22.241541 UTC  http://cartservice:7070/hipstershop.CartServic...   \n",
            "2023-04-15 16:50:22.272519 UTC  http://cartservice:7070/hipstershop.CartServic...   \n",
            "2023-04-15 16:50:22.283803 UTC  http://cartservice:7070/hipstershop.CartServic...   \n",
            "2023-04-15 16:50:22.788723 UTC  http://cartservice:7070/hipstershop.CartServic...   \n",
            "2023-04-15 16:50:23.454963 UTC  http://cartservice:7070/hipstershop.CartServic...   \n",
            "...                                                                           ...   \n",
            "2023-04-15 17:22:38.664003 UTC  http://currencyservice:7000/hipstershop.Curren...   \n",
            "2023-04-15 17:22:38.668368 UTC  http://productcatalogservice:3550/hipstershop....   \n",
            "2023-04-15 17:22:38.670605 UTC  http://currencyservice:7000/hipstershop.Curren...   \n",
            "2023-04-15 17:22:38.673977 UTC  http://productcatalogservice:3550/hipstershop....   \n",
            "2023-04-15 17:22:38.676006 UTC  http://currencyservice:7000/hipstershop.Curren...   \n",
            "\n",
            "                               status source_app  \n",
            "timestamp                                         \n",
            "2023-04-15 16:50:22.241541 UTC    200   frontend  \n",
            "2023-04-15 16:50:22.272519 UTC    200   frontend  \n",
            "2023-04-15 16:50:22.283803 UTC    200   frontend  \n",
            "2023-04-15 16:50:22.788723 UTC    200   frontend  \n",
            "2023-04-15 16:50:23.454963 UTC    200   frontend  \n",
            "...                               ...        ...  \n",
            "2023-04-15 17:22:38.664003 UTC    200   frontend  \n",
            "2023-04-15 17:22:38.668368 UTC    200   frontend  \n",
            "2023-04-15 17:22:38.670605 UTC    200   frontend  \n",
            "2023-04-15 17:22:38.673977 UTC    200   frontend  \n",
            "2023-04-15 17:22:38.676006 UTC    200   frontend  \n",
            "\n",
            "[54484 rows x 7 columns]>\n",
            "<bound method NDFrame.head of                                  latency requestSize requestMethod  \\\n",
            "timestamp                                                            \n",
            "2023-04-21 14:25:07.360701 UTC  0.073474         723          POST   \n",
            "2023-04-21 14:25:07.942614 UTC  0.002057         723          POST   \n",
            "2023-04-21 14:25:08.028286 UTC  0.005028         723          POST   \n",
            "2023-04-21 14:25:09.379843 UTC  0.002341         723          POST   \n",
            "2023-04-21 14:25:10.27611 UTC   0.002401         723          POST   \n",
            "...                                  ...         ...           ...   \n",
            "2023-04-21 15:22:45.355789 UTC  0.001600         717          POST   \n",
            "2023-04-21 15:22:45.364449 UTC  0.001302         717          POST   \n",
            "2023-04-21 15:22:45.369501 UTC  0.001218         717          POST   \n",
            "2023-04-21 15:22:45.372053 UTC  0.081778         717          POST   \n",
            "2023-04-21 15:22:45.457045 UTC  0.001723         717          POST   \n",
            "\n",
            "                               responseSize  \\\n",
            "timestamp                                     \n",
            "2023-04-21 14:25:07.360701 UTC         1500   \n",
            "2023-04-21 14:25:07.942614 UTC         1499   \n",
            "2023-04-21 14:25:08.028286 UTC         1569   \n",
            "2023-04-21 14:25:09.379843 UTC         1553   \n",
            "2023-04-21 14:25:10.27611 UTC          1569   \n",
            "...                                     ...   \n",
            "2023-04-21 15:22:45.355789 UTC         1626   \n",
            "2023-04-21 15:22:45.364449 UTC         1626   \n",
            "2023-04-21 15:22:45.369501 UTC         1626   \n",
            "2023-04-21 15:22:45.372053 UTC         1627   \n",
            "2023-04-21 15:22:45.457045 UTC         1626   \n",
            "\n",
            "                                                                       requestUrl  \\\n",
            "timestamp                                                                           \n",
            "2023-04-21 14:25:07.360701 UTC  http://cartservice:7070/hipstershop.CartServic...   \n",
            "2023-04-21 14:25:07.942614 UTC  http://cartservice:7070/hipstershop.CartServic...   \n",
            "2023-04-21 14:25:08.028286 UTC  http://cartservice:7070/hipstershop.CartServic...   \n",
            "2023-04-21 14:25:09.379843 UTC  http://cartservice:7070/hipstershop.CartServic...   \n",
            "2023-04-21 14:25:10.27611 UTC   http://cartservice:7070/hipstershop.CartServic...   \n",
            "...                                                                           ...   \n",
            "2023-04-21 15:22:45.355789 UTC  http://currencyservice:7000/hipstershop.Curren...   \n",
            "2023-04-21 15:22:45.364449 UTC  http://currencyservice:7000/hipstershop.Curren...   \n",
            "2023-04-21 15:22:45.369501 UTC  http://currencyservice:7000/hipstershop.Curren...   \n",
            "2023-04-21 15:22:45.372053 UTC  http://currencyservice:7000/hipstershop.Curren...   \n",
            "2023-04-21 15:22:45.457045 UTC  http://currencyservice:7000/hipstershop.Curren...   \n",
            "\n",
            "                               status source_app  \n",
            "timestamp                                         \n",
            "2023-04-21 14:25:07.360701 UTC    200   frontend  \n",
            "2023-04-21 14:25:07.942614 UTC    200   frontend  \n",
            "2023-04-21 14:25:08.028286 UTC    200   frontend  \n",
            "2023-04-21 14:25:09.379843 UTC    200   frontend  \n",
            "2023-04-21 14:25:10.27611 UTC     200   frontend  \n",
            "...                               ...        ...  \n",
            "2023-04-21 15:22:45.355789 UTC    200   frontend  \n",
            "2023-04-21 15:22:45.364449 UTC    200   frontend  \n",
            "2023-04-21 15:22:45.369501 UTC    200   frontend  \n",
            "2023-04-21 15:22:45.372053 UTC    200   frontend  \n",
            "2023-04-21 15:22:45.457045 UTC    200   frontend  \n",
            "\n",
            "[48713 rows x 7 columns]>\n"
          ]
        }
      ]
    },
    {
      "cell_type": "markdown",
      "source": [
        "## create keyes and dummies"
      ],
      "metadata": {
        "id": "cxF-5KAKXLRZ"
      },
      "id": "cxF-5KAKXLRZ"
    },
    {
      "cell_type": "code",
      "execution_count": 19,
      "id": "9a1f3b4a-fba7-411a-a625-a7d6f6d76e1c",
      "metadata": {
        "id": "9a1f3b4a-fba7-411a-a625-a7d6f6d76e1c"
      },
      "outputs": [],
      "source": [
        "# concatenate the dataframes\n",
        "df_concat = pd.concat([test_df, train_df], axis=0)\n",
        "\n",
        "\n",
        "# create keys for both dataframes\n",
        "df_concat['key'] = df_concat.groupby(['latency', 'requestSize', 'requestMethod', 'responseSize',\n",
        "       'requestUrl', 'status', 'source_app'], dropna=False).ngroup()\n",
        "\n",
        "# get dummies for the 'key' column\n",
        "df_concat=df_concat[['key']]\n",
        "df_concat = pd.get_dummies(df_concat, columns=['key'])\n",
        "\n",
        "#print(df_concat.head())\n",
        "\n",
        "# split back into original dataframes\n",
        "test_df = df_concat.iloc[:len(test_df), :]\n",
        "train_df = df_concat.iloc[len(test_df):, :]\n",
        "\n"
      ]
    },
    {
      "cell_type": "code",
      "execution_count": 20,
      "id": "054aa215-7c50-41b9-91e3-c6710279bd5b",
      "metadata": {
        "colab": {
          "base_uri": "https://localhost:8080/"
        },
        "id": "054aa215-7c50-41b9-91e3-c6710279bd5b",
        "outputId": "0179057d-1d81-41f4-8a34-294f72d979ba"
      },
      "outputs": [
        {
          "output_type": "stream",
          "name": "stdout",
          "text": [
            "49904\n",
            "52912\n"
          ]
        }
      ],
      "source": [
        "print(len(test_df))\n",
        "print(len(train_df))"
      ]
    },
    {
      "cell_type": "code",
      "source": [
        "test_df.head()"
      ],
      "metadata": {
        "colab": {
          "base_uri": "https://localhost:8080/",
          "height": 417
        },
        "id": "SoCqWc2kU_8E",
        "outputId": "b4b5046b-00db-48c8-c324-c22c4cd2721d"
      },
      "id": "SoCqWc2kU_8E",
      "execution_count": 21,
      "outputs": [
        {
          "output_type": "execute_result",
          "data": {
            "text/plain": [
              "                                  key_0  key_1  key_2  key_3  key_4  key_5  \\\n",
              "timestamp                                                                    \n",
              "2023-04-21 06:40:33.188945+00:00      0      0      0      0      0      0   \n",
              "2023-04-21 06:40:33.340075+00:00      0      0      0      0      0      0   \n",
              "2023-04-21 06:40:33.343117+00:00      0      0      0      0      0      0   \n",
              "2023-04-21 06:40:33.358187+00:00      0      0      0      0      0      0   \n",
              "2023-04-21 06:40:33.360701+00:00      0      0      0      0      0      0   \n",
              "\n",
              "                                  key_6  key_7  key_8  key_9  ...  key_336  \\\n",
              "timestamp                                                     ...            \n",
              "2023-04-21 06:40:33.188945+00:00      0      0      0      0  ...        0   \n",
              "2023-04-21 06:40:33.340075+00:00      0      0      0      0  ...        0   \n",
              "2023-04-21 06:40:33.343117+00:00      0      0      0      0  ...        0   \n",
              "2023-04-21 06:40:33.358187+00:00      0      0      0      0  ...        0   \n",
              "2023-04-21 06:40:33.360701+00:00      0      0      0      0  ...        0   \n",
              "\n",
              "                                  key_337  key_338  key_339  key_340  key_341  \\\n",
              "timestamp                                                                       \n",
              "2023-04-21 06:40:33.188945+00:00        0        0        0        0        0   \n",
              "2023-04-21 06:40:33.340075+00:00        0        0        0        0        0   \n",
              "2023-04-21 06:40:33.343117+00:00        0        0        0        0        0   \n",
              "2023-04-21 06:40:33.358187+00:00        0        0        0        0        0   \n",
              "2023-04-21 06:40:33.360701+00:00        0        0        0        0        0   \n",
              "\n",
              "                                  key_342  key_343  key_344  key_345  \n",
              "timestamp                                                             \n",
              "2023-04-21 06:40:33.188945+00:00        0        0        0        0  \n",
              "2023-04-21 06:40:33.340075+00:00        0        0        0        0  \n",
              "2023-04-21 06:40:33.343117+00:00        0        0        0        0  \n",
              "2023-04-21 06:40:33.358187+00:00        0        0        0        0  \n",
              "2023-04-21 06:40:33.360701+00:00        0        0        0        0  \n",
              "\n",
              "[5 rows x 346 columns]"
            ],
            "text/html": [
              "\n",
              "  <div id=\"df-c3d11851-044c-4be5-b25e-a2a763e82beb\">\n",
              "    <div class=\"colab-df-container\">\n",
              "      <div>\n",
              "<style scoped>\n",
              "    .dataframe tbody tr th:only-of-type {\n",
              "        vertical-align: middle;\n",
              "    }\n",
              "\n",
              "    .dataframe tbody tr th {\n",
              "        vertical-align: top;\n",
              "    }\n",
              "\n",
              "    .dataframe thead th {\n",
              "        text-align: right;\n",
              "    }\n",
              "</style>\n",
              "<table border=\"1\" class=\"dataframe\">\n",
              "  <thead>\n",
              "    <tr style=\"text-align: right;\">\n",
              "      <th></th>\n",
              "      <th>key_0</th>\n",
              "      <th>key_1</th>\n",
              "      <th>key_2</th>\n",
              "      <th>key_3</th>\n",
              "      <th>key_4</th>\n",
              "      <th>key_5</th>\n",
              "      <th>key_6</th>\n",
              "      <th>key_7</th>\n",
              "      <th>key_8</th>\n",
              "      <th>key_9</th>\n",
              "      <th>...</th>\n",
              "      <th>key_336</th>\n",
              "      <th>key_337</th>\n",
              "      <th>key_338</th>\n",
              "      <th>key_339</th>\n",
              "      <th>key_340</th>\n",
              "      <th>key_341</th>\n",
              "      <th>key_342</th>\n",
              "      <th>key_343</th>\n",
              "      <th>key_344</th>\n",
              "      <th>key_345</th>\n",
              "    </tr>\n",
              "    <tr>\n",
              "      <th>timestamp</th>\n",
              "      <th></th>\n",
              "      <th></th>\n",
              "      <th></th>\n",
              "      <th></th>\n",
              "      <th></th>\n",
              "      <th></th>\n",
              "      <th></th>\n",
              "      <th></th>\n",
              "      <th></th>\n",
              "      <th></th>\n",
              "      <th></th>\n",
              "      <th></th>\n",
              "      <th></th>\n",
              "      <th></th>\n",
              "      <th></th>\n",
              "      <th></th>\n",
              "      <th></th>\n",
              "      <th></th>\n",
              "      <th></th>\n",
              "      <th></th>\n",
              "      <th></th>\n",
              "    </tr>\n",
              "  </thead>\n",
              "  <tbody>\n",
              "    <tr>\n",
              "      <th>2023-04-21 06:40:33.188945+00:00</th>\n",
              "      <td>0</td>\n",
              "      <td>0</td>\n",
              "      <td>0</td>\n",
              "      <td>0</td>\n",
              "      <td>0</td>\n",
              "      <td>0</td>\n",
              "      <td>0</td>\n",
              "      <td>0</td>\n",
              "      <td>0</td>\n",
              "      <td>0</td>\n",
              "      <td>...</td>\n",
              "      <td>0</td>\n",
              "      <td>0</td>\n",
              "      <td>0</td>\n",
              "      <td>0</td>\n",
              "      <td>0</td>\n",
              "      <td>0</td>\n",
              "      <td>0</td>\n",
              "      <td>0</td>\n",
              "      <td>0</td>\n",
              "      <td>0</td>\n",
              "    </tr>\n",
              "    <tr>\n",
              "      <th>2023-04-21 06:40:33.340075+00:00</th>\n",
              "      <td>0</td>\n",
              "      <td>0</td>\n",
              "      <td>0</td>\n",
              "      <td>0</td>\n",
              "      <td>0</td>\n",
              "      <td>0</td>\n",
              "      <td>0</td>\n",
              "      <td>0</td>\n",
              "      <td>0</td>\n",
              "      <td>0</td>\n",
              "      <td>...</td>\n",
              "      <td>0</td>\n",
              "      <td>0</td>\n",
              "      <td>0</td>\n",
              "      <td>0</td>\n",
              "      <td>0</td>\n",
              "      <td>0</td>\n",
              "      <td>0</td>\n",
              "      <td>0</td>\n",
              "      <td>0</td>\n",
              "      <td>0</td>\n",
              "    </tr>\n",
              "    <tr>\n",
              "      <th>2023-04-21 06:40:33.343117+00:00</th>\n",
              "      <td>0</td>\n",
              "      <td>0</td>\n",
              "      <td>0</td>\n",
              "      <td>0</td>\n",
              "      <td>0</td>\n",
              "      <td>0</td>\n",
              "      <td>0</td>\n",
              "      <td>0</td>\n",
              "      <td>0</td>\n",
              "      <td>0</td>\n",
              "      <td>...</td>\n",
              "      <td>0</td>\n",
              "      <td>0</td>\n",
              "      <td>0</td>\n",
              "      <td>0</td>\n",
              "      <td>0</td>\n",
              "      <td>0</td>\n",
              "      <td>0</td>\n",
              "      <td>0</td>\n",
              "      <td>0</td>\n",
              "      <td>0</td>\n",
              "    </tr>\n",
              "    <tr>\n",
              "      <th>2023-04-21 06:40:33.358187+00:00</th>\n",
              "      <td>0</td>\n",
              "      <td>0</td>\n",
              "      <td>0</td>\n",
              "      <td>0</td>\n",
              "      <td>0</td>\n",
              "      <td>0</td>\n",
              "      <td>0</td>\n",
              "      <td>0</td>\n",
              "      <td>0</td>\n",
              "      <td>0</td>\n",
              "      <td>...</td>\n",
              "      <td>0</td>\n",
              "      <td>0</td>\n",
              "      <td>0</td>\n",
              "      <td>0</td>\n",
              "      <td>0</td>\n",
              "      <td>0</td>\n",
              "      <td>0</td>\n",
              "      <td>0</td>\n",
              "      <td>0</td>\n",
              "      <td>0</td>\n",
              "    </tr>\n",
              "    <tr>\n",
              "      <th>2023-04-21 06:40:33.360701+00:00</th>\n",
              "      <td>0</td>\n",
              "      <td>0</td>\n",
              "      <td>0</td>\n",
              "      <td>0</td>\n",
              "      <td>0</td>\n",
              "      <td>0</td>\n",
              "      <td>0</td>\n",
              "      <td>0</td>\n",
              "      <td>0</td>\n",
              "      <td>0</td>\n",
              "      <td>...</td>\n",
              "      <td>0</td>\n",
              "      <td>0</td>\n",
              "      <td>0</td>\n",
              "      <td>0</td>\n",
              "      <td>0</td>\n",
              "      <td>0</td>\n",
              "      <td>0</td>\n",
              "      <td>0</td>\n",
              "      <td>0</td>\n",
              "      <td>0</td>\n",
              "    </tr>\n",
              "  </tbody>\n",
              "</table>\n",
              "<p>5 rows × 346 columns</p>\n",
              "</div>\n",
              "      <button class=\"colab-df-convert\" onclick=\"convertToInteractive('df-c3d11851-044c-4be5-b25e-a2a763e82beb')\"\n",
              "              title=\"Convert this dataframe to an interactive table.\"\n",
              "              style=\"display:none;\">\n",
              "        \n",
              "  <svg xmlns=\"http://www.w3.org/2000/svg\" height=\"24px\"viewBox=\"0 0 24 24\"\n",
              "       width=\"24px\">\n",
              "    <path d=\"M0 0h24v24H0V0z\" fill=\"none\"/>\n",
              "    <path d=\"M18.56 5.44l.94 2.06.94-2.06 2.06-.94-2.06-.94-.94-2.06-.94 2.06-2.06.94zm-11 1L8.5 8.5l.94-2.06 2.06-.94-2.06-.94L8.5 2.5l-.94 2.06-2.06.94zm10 10l.94 2.06.94-2.06 2.06-.94-2.06-.94-.94-2.06-.94 2.06-2.06.94z\"/><path d=\"M17.41 7.96l-1.37-1.37c-.4-.4-.92-.59-1.43-.59-.52 0-1.04.2-1.43.59L10.3 9.45l-7.72 7.72c-.78.78-.78 2.05 0 2.83L4 21.41c.39.39.9.59 1.41.59.51 0 1.02-.2 1.41-.59l7.78-7.78 2.81-2.81c.8-.78.8-2.07 0-2.86zM5.41 20L4 18.59l7.72-7.72 1.47 1.35L5.41 20z\"/>\n",
              "  </svg>\n",
              "      </button>\n",
              "      \n",
              "  <style>\n",
              "    .colab-df-container {\n",
              "      display:flex;\n",
              "      flex-wrap:wrap;\n",
              "      gap: 12px;\n",
              "    }\n",
              "\n",
              "    .colab-df-convert {\n",
              "      background-color: #E8F0FE;\n",
              "      border: none;\n",
              "      border-radius: 50%;\n",
              "      cursor: pointer;\n",
              "      display: none;\n",
              "      fill: #1967D2;\n",
              "      height: 32px;\n",
              "      padding: 0 0 0 0;\n",
              "      width: 32px;\n",
              "    }\n",
              "\n",
              "    .colab-df-convert:hover {\n",
              "      background-color: #E2EBFA;\n",
              "      box-shadow: 0px 1px 2px rgba(60, 64, 67, 0.3), 0px 1px 3px 1px rgba(60, 64, 67, 0.15);\n",
              "      fill: #174EA6;\n",
              "    }\n",
              "\n",
              "    [theme=dark] .colab-df-convert {\n",
              "      background-color: #3B4455;\n",
              "      fill: #D2E3FC;\n",
              "    }\n",
              "\n",
              "    [theme=dark] .colab-df-convert:hover {\n",
              "      background-color: #434B5C;\n",
              "      box-shadow: 0px 1px 3px 1px rgba(0, 0, 0, 0.15);\n",
              "      filter: drop-shadow(0px 1px 2px rgba(0, 0, 0, 0.3));\n",
              "      fill: #FFFFFF;\n",
              "    }\n",
              "  </style>\n",
              "\n",
              "      <script>\n",
              "        const buttonEl =\n",
              "          document.querySelector('#df-c3d11851-044c-4be5-b25e-a2a763e82beb button.colab-df-convert');\n",
              "        buttonEl.style.display =\n",
              "          google.colab.kernel.accessAllowed ? 'block' : 'none';\n",
              "\n",
              "        async function convertToInteractive(key) {\n",
              "          const element = document.querySelector('#df-c3d11851-044c-4be5-b25e-a2a763e82beb');\n",
              "          const dataTable =\n",
              "            await google.colab.kernel.invokeFunction('convertToInteractive',\n",
              "                                                     [key], {});\n",
              "          if (!dataTable) return;\n",
              "\n",
              "          const docLinkHtml = 'Like what you see? Visit the ' +\n",
              "            '<a target=\"_blank\" href=https://colab.research.google.com/notebooks/data_table.ipynb>data table notebook</a>'\n",
              "            + ' to learn more about interactive tables.';\n",
              "          element.innerHTML = '';\n",
              "          dataTable['output_type'] = 'display_data';\n",
              "          await google.colab.output.renderOutput(dataTable, element);\n",
              "          const docLink = document.createElement('div');\n",
              "          docLink.innerHTML = docLinkHtml;\n",
              "          element.appendChild(docLink);\n",
              "        }\n",
              "      </script>\n",
              "    </div>\n",
              "  </div>\n",
              "  "
            ]
          },
          "metadata": {},
          "execution_count": 21
        }
      ]
    },
    {
      "cell_type": "markdown",
      "source": [
        "# ML"
      ],
      "metadata": {
        "id": "au3qWJbRVA5S"
      },
      "id": "au3qWJbRVA5S"
    },
    {
      "cell_type": "markdown",
      "source": [
        "##variables"
      ],
      "metadata": {
        "id": "XIzvrQdYViP5"
      },
      "id": "XIzvrQdYViP5"
    },
    {
      "cell_type": "code",
      "execution_count": 27,
      "id": "06b1fb68-aa3c-4e7c-b0fa-7352c0b51b94",
      "metadata": {
        "id": "06b1fb68-aa3c-4e7c-b0fa-7352c0b51b94"
      },
      "outputs": [],
      "source": [
        "# lstm autoencoder to recreate a timeseries\n",
        "import numpy as np\n",
        "from keras.models import Sequential\n",
        "from keras.layers import LSTM\n",
        "from keras.layers import Dense\n",
        "from keras.layers import RepeatVector\n",
        "from keras.layers import TimeDistributed\n",
        "'''\n",
        "A UDF to convert input data into 3-D\n",
        "array as required for LSTM network.\n",
        "'''\n",
        "\n",
        "def temporalize(X, y, lookback):\n",
        "    output_X = []\n",
        "    output_y = []\n",
        "    for i in range(len(X)-lookback-1):\n",
        "        t = []\n",
        "        for j in range(1,lookback+1):\n",
        "            # Gather past records upto the lookback period\n",
        "            t.append(X[[(i+j+1)], :])\n",
        "        output_X.append(t)\n",
        "        output_y.append(y[i+lookback+1])\n",
        "    return output_X, output_y"
      ]
    },
    {
      "cell_type": "code",
      "source": [
        "#defaults\n",
        "\n",
        "timeseries = np.array(train_df.values)\n",
        "timesteps = 10\n",
        "\n",
        "X, y = temporalize(X = timeseries, y = np.zeros(len(timeseries)), lookback = timesteps)\n",
        "n_features = timeseries.shape[1]\n",
        "\n",
        "\n",
        "X = np.array(X)\n",
        "X = X.reshape(X.shape[0], timesteps, n_features)\n",
        "\n",
        "latent_dim = 3\n",
        "batch_size = 32\n",
        "epochs = 20"
      ],
      "metadata": {
        "id": "NtAGm-nsVhXy"
      },
      "id": "NtAGm-nsVhXy",
      "execution_count": 36,
      "outputs": []
    },
    {
      "cell_type": "markdown",
      "source": [],
      "metadata": {
        "id": "Fohmyd_HVjpj"
      },
      "id": "Fohmyd_HVjpj"
    },
    {
      "cell_type": "markdown",
      "source": [
        "## gpu test"
      ],
      "metadata": {
        "id": "PBd0DewyVlX7"
      },
      "id": "PBd0DewyVlX7"
    },
    {
      "cell_type": "code",
      "source": [
        "import tensorflow as tf\n",
        "device_name = tf.test.gpu_device_name()\n",
        "if device_name != '/device:GPU:0':\n",
        "  raise SystemError('GPU device not found')\n",
        "print('Found GPU at: {}'.format(device_name))"
      ],
      "metadata": {
        "colab": {
          "base_uri": "https://localhost:8080/"
        },
        "id": "XdfD6s3loCUP",
        "outputId": "04f3b6de-f684-4907-b6ff-1e48a7e2064a"
      },
      "id": "XdfD6s3loCUP",
      "execution_count": 24,
      "outputs": [
        {
          "output_type": "stream",
          "name": "stdout",
          "text": [
            "Found GPU at: /device:GPU:0\n"
          ]
        }
      ]
    },
    {
      "cell_type": "markdown",
      "source": [
        "## define model"
      ],
      "metadata": {
        "id": "x5NGuLqBjv-u"
      },
      "id": "x5NGuLqBjv-u"
    },
    {
      "cell_type": "code",
      "execution_count": 39,
      "id": "6e968aee-ff38-457f-ba7e-c7aaf73106b5",
      "metadata": {
        "tags": [],
        "colab": {
          "base_uri": "https://localhost:8080/"
        },
        "id": "6e968aee-ff38-457f-ba7e-c7aaf73106b5",
        "outputId": "d1cae8f2-17e9-427f-8e05-dc2d2f965d03"
      },
      "outputs": [
        {
          "output_type": "stream",
          "name": "stderr",
          "text": [
            "WARNING:tensorflow:Layer lstm_32 will not use cuDNN kernels since it doesn't meet the criteria. It will use a generic GPU kernel as fallback when running on GPU.\n",
            "WARNING:tensorflow:Layer lstm_33 will not use cuDNN kernels since it doesn't meet the criteria. It will use a generic GPU kernel as fallback when running on GPU.\n",
            "WARNING:tensorflow:Layer lstm_34 will not use cuDNN kernels since it doesn't meet the criteria. It will use a generic GPU kernel as fallback when running on GPU.\n",
            "WARNING:tensorflow:Layer lstm_35 will not use cuDNN kernels since it doesn't meet the criteria. It will use a generic GPU kernel as fallback when running on GPU.\n"
          ]
        },
        {
          "output_type": "stream",
          "name": "stdout",
          "text": [
            "Model: \"sequential_8\"\n",
            "_________________________________________________________________\n",
            " Layer (type)                Output Shape              Param #   \n",
            "=================================================================\n",
            " lstm_32 (LSTM)              (None, 10, 128)           243200    \n",
            "                                                                 \n",
            " lstm_33 (LSTM)              (None, 64)                49408     \n",
            "                                                                 \n",
            " repeat_vector_8 (RepeatVect  (None, 10, 64)           0         \n",
            " or)                                                             \n",
            "                                                                 \n",
            " lstm_34 (LSTM)              (None, 10, 64)            33024     \n",
            "                                                                 \n",
            " lstm_35 (LSTM)              (None, 10, 128)           98816     \n",
            "                                                                 \n",
            " time_distributed_8 (TimeDis  (None, 10, 346)          44634     \n",
            " tributed)                                                       \n",
            "                                                                 \n",
            "=================================================================\n",
            "Total params: 469,082\n",
            "Trainable params: 469,082\n",
            "Non-trainable params: 0\n",
            "_________________________________________________________________\n",
            "Model: \"sequential_8\"\n",
            "_________________________________________________________________\n",
            " Layer (type)                Output Shape              Param #   \n",
            "=================================================================\n",
            " lstm_32 (LSTM)              (None, 10, 128)           243200    \n",
            "                                                                 \n",
            " lstm_33 (LSTM)              (None, 64)                49408     \n",
            "                                                                 \n",
            " repeat_vector_8 (RepeatVect  (None, 10, 64)           0         \n",
            " or)                                                             \n",
            "                                                                 \n",
            " lstm_34 (LSTM)              (None, 10, 64)            33024     \n",
            "                                                                 \n",
            " lstm_35 (LSTM)              (None, 10, 128)           98816     \n",
            "                                                                 \n",
            " time_distributed_8 (TimeDis  (None, 10, 346)          44634     \n",
            " tributed)                                                       \n",
            "                                                                 \n",
            "=================================================================\n",
            "Total params: 469,082\n",
            "Trainable params: 469,082\n",
            "Non-trainable params: 0\n",
            "_________________________________________________________________\n"
          ]
        }
      ],
      "source": [
        "import keras\n",
        "from keras.models import Sequential\n",
        "from keras.layers import LSTM\n",
        "\n",
        "# define the model\n",
        "with tf.device('/device:GPU:0'):\n",
        "  model = tf.keras.Sequential()\n",
        "  model.add(LSTM(128, activation='relu', input_shape=(timesteps,n_features), return_sequences=True))\n",
        "  model.add(LSTM(64, activation='relu', return_sequences=False))\n",
        "  model.add(RepeatVector(timesteps))\n",
        "  model.add(LSTM(64, activation='relu', return_sequences=True))\n",
        "  model.add(LSTM(128, activation='relu', return_sequences=True))\n",
        "  model.add(TimeDistributed(Dense(n_features)))\n",
        "  model.compile(optimizer='adam', loss='mse')\n",
        "  model.summary()\n",
        "# Write LaTeX table to file\n",
        "with open('modelsummary.tex', 'w') as f:\n",
        "    f.write(str(model.summary()))"
      ]
    },
    {
      "cell_type": "code",
      "execution_count": null,
      "id": "62a99763-8116-429c-902f-9d64e3036fa9",
      "metadata": {
        "tags": [],
        "id": "62a99763-8116-429c-902f-9d64e3036fa9"
      },
      "outputs": [],
      "source": [
        "import tabulate\n",
        "table = tabulate.tabulate([['Layer (type)', 'Output Shape', 'Param #'],\n",
        "                           *[(layer.name, layer.output_shape, layer.count_params()) for layer in model.layers]],\n",
        "                          headers='firstrow', tablefmt='latex_booktabs')\n",
        "print(table)\n",
        "\n"
      ]
    },
    {
      "cell_type": "markdown",
      "source": [
        "### fit"
      ],
      "metadata": {
        "id": "YjBrS-zhy0mI"
      },
      "id": "YjBrS-zhy0mI"
    },
    {
      "cell_type": "code",
      "execution_count": 41,
      "id": "e19ad99d-250b-456e-8958-40f20ae4851d",
      "metadata": {
        "colab": {
          "base_uri": "https://localhost:8080/"
        },
        "id": "e19ad99d-250b-456e-8958-40f20ae4851d",
        "outputId": "32ceb62b-d242-42a6-f64a-d9e0fc6fed2b"
      },
      "outputs": [
        {
          "output_type": "stream",
          "name": "stdout",
          "text": [
            "Epoch 1/10\n",
            "Epoch 2/10\n",
            "Epoch 3/10\n",
            "Epoch 4/10\n",
            "Epoch 5/10\n",
            "Epoch 6/10\n",
            "Epoch 7/10\n",
            "Epoch 8/10\n",
            "Epoch 9/10\n",
            "Epoch 10/10\n"
          ]
        }
      ],
      "source": [
        "# fit model\n",
        "with tf.device('/device:GPU:0'):\n",
        "  #X = X.astype('float32')\n",
        "  history = model.fit(X, X, epochs=10, batch_size=32, verbose=3, validation_split=0.2)"
      ]
    },
    {
      "cell_type": "markdown",
      "source": [
        "### predict train"
      ],
      "metadata": {
        "id": "m-9YUXIxyywL"
      },
      "id": "m-9YUXIxyywL"
    },
    {
      "cell_type": "code",
      "source": [
        "X_pred = model.predict(X)"
      ],
      "metadata": {
        "id": "toMD7PI2tDUC",
        "outputId": "dc698b39-f57d-4e71-a8b1-2e82a47d580b",
        "colab": {
          "base_uri": "https://localhost:8080/"
        }
      },
      "id": "toMD7PI2tDUC",
      "execution_count": 43,
      "outputs": [
        {
          "output_type": "stream",
          "name": "stdout",
          "text": [
            "1654/1654 [==============================] - 13s 8ms/step\n"
          ]
        }
      ]
    },
    {
      "cell_type": "markdown",
      "source": [
        "### Predict test"
      ],
      "metadata": {
        "id": "c47rtlh7yvYO"
      },
      "id": "c47rtlh7yvYO"
    },
    {
      "cell_type": "code",
      "source": [
        "X_test, y = temporalize(X = timeseries, y = np.zeros(len(timeseries)), lookback = timesteps)\n",
        "n_features = timeseries.shape[1]\n",
        "\n",
        "\n",
        "X_test = np.array(X_test)\n",
        "X_test = X_test.reshape(X_test.shape[0], timesteps, n_features)\n",
        "\n",
        "predictions = model.predict(X_test)"
      ],
      "metadata": {
        "id": "CU-2-eOQlVy8",
        "outputId": "71600aff-979d-4e82-b37c-0f2f7aa45241",
        "colab": {
          "base_uri": "https://localhost:8080/"
        }
      },
      "id": "CU-2-eOQlVy8",
      "execution_count": 52,
      "outputs": [
        {
          "output_type": "stream",
          "name": "stdout",
          "text": [
            "1654/1654 [==============================] - 13s 8ms/step\n"
          ]
        }
      ]
    },
    {
      "cell_type": "markdown",
      "source": [
        "# Classify"
      ],
      "metadata": {
        "id": "es0PBpSCx_wO"
      },
      "id": "es0PBpSCx_wO"
    },
    {
      "cell_type": "code",
      "source": [
        "from sklearn.metrics import mean_squared_error\n",
        "mse_train = []\n",
        "\n",
        "# Iterate over each sequence in X_test\n",
        "for i in range(X.shape[0]):\n",
        "    # Get the current sequence\n",
        "    sequence = X[i]\n",
        "\n",
        "    # Calculate the mean squared error for the sequence\n",
        "    mse = mean_squared_error(X[i], X_pred[i])\n",
        "    mse_train.append(mse)\n",
        "    mse_train.append(mse)\n",
        " "
      ],
      "metadata": {
        "id": "jaMbMvT6tZ3M"
      },
      "execution_count": null,
      "outputs": [],
      "id": "jaMbMvT6tZ3M"
    },
    {
      "cell_type": "code",
      "source": [
        "mse_train[:10]"
      ],
      "metadata": {
        "id": "FPZgKEEluQZO",
        "outputId": "174f3674-71ae-420f-abfd-00e7b21701fb",
        "colab": {
          "base_uri": "https://localhost:8080/"
        }
      },
      "id": "FPZgKEEluQZO",
      "execution_count": 49,
      "outputs": [
        {
          "output_type": "execute_result",
          "data": {
            "text/plain": [
              "[0.0024193558,\n",
              " 0.0024193558,\n",
              " 0.002869074,\n",
              " 0.002869074,\n",
              " 0.0029017546,\n",
              " 0.0029017546,\n",
              " 0.0027477816,\n",
              " 0.0027477816,\n",
              " 0.0027943514,\n",
              " 0.0027943514]"
            ]
          },
          "metadata": {},
          "execution_count": 49
        }
      ]
    },
    {
      "cell_type": "markdown",
      "source": [
        "### TRESHOLD"
      ],
      "metadata": {
        "id": "oYeiLiDpx7o0"
      },
      "id": "oYeiLiDpx7o0"
    },
    {
      "cell_type": "code",
      "source": [
        "# Assuming you have calculated the errors already and stored them in a variable named \"errors\"\n",
        "mean_error = np.mean(mse_train)\n",
        "std_error = np.std(mse_train)\n",
        "\n",
        "# Set threshold as a certain number of standard deviations from the mean\n",
        "num_std = 2  # Set number of standard deviations away from mean\n",
        "threshold = mean_error + num_std * std_error\n",
        "\n",
        "print(f\"Threshold: {threshold}\")"
      ],
      "metadata": {
        "id": "tnnwcqGLx7Fv",
        "outputId": "febd4c60-166c-4804-80f0-c122a82bb022",
        "colab": {
          "base_uri": "https://localhost:8080/"
        }
      },
      "id": "tnnwcqGLx7Fv",
      "execution_count": 50,
      "outputs": [
        {
          "output_type": "stream",
          "name": "stdout",
          "text": [
            "Threshold: 0.0023835654137656093\n"
          ]
        }
      ]
    },
    {
      "cell_type": "markdown",
      "source": [
        "## Run the model on anomalous data"
      ],
      "metadata": {
        "id": "5OKboas0lZj3"
      },
      "id": "5OKboas0lZj3"
    },
    {
      "cell_type": "markdown",
      "source": [
        "# timeseries testing"
      ],
      "metadata": {
        "id": "QbEk3UEtd5DS"
      },
      "id": "QbEk3UEtd5DS"
    },
    {
      "cell_type": "code",
      "source": [
        "timestepslist = [5,10,25,50]\n",
        "timeseries = np.array(train_df.values)\n",
        "errors = []\n",
        "epochs = 10\n",
        "\n",
        "# Train LSTM autoencoder models for each timestep\n",
        "for timesteps in timestepslist:\n",
        "    # Prepare the data with the current timestep\n",
        "    X_train = []\n",
        "    X_train, y = temporalize(X= timeseries, y = np.zeros(len(timeseries)), lookback = timesteps)\n",
        "    n_features = timeseries.shape[1]\n",
        "\n",
        "    X_train  = np.array(X_train)\n",
        "    X_train = X_train.reshape(X.shape[0], timesteps, n_features)\n",
        "    with tf.device('/device:GPU:0'):\n",
        "      model = tf.keras.Sequential()\n",
        "      model.add(LSTM(128, activation='relu', input_shape=(timesteps,n_features), return_sequences=True))\n",
        "      model.add(LSTM(64, activation='relu', return_sequences=False))\n",
        "      model.add(RepeatVector(timesteps))\n",
        "      model.add(LSTM(64, activation='relu', return_sequences=True))\n",
        "      model.add(LSTM(128, activation='relu', return_sequences=True))\n",
        "      model.add(TimeDistributed(Dense(n_features)))\n",
        "      model.compile(optimizer='adam', loss='mse')\n",
        "      model.summary()\n",
        "    # Write LaTeX table to file\n",
        "    #with open('modelsummary{}.tex'.format(timesteps), 'w') as f:\n",
        "    #    f.write(model.summary())\n",
        "\n",
        "    history = model.fit(X_train, X_train, epochs=epochs, batch_size=batch_size, verbose=1)\n",
        "    \n",
        "    # Compute the reconstruction error\n",
        "    X_train_pred = model.predict(X_train)\n",
        "    train_mse = np.mean(np.power(X_train - X_train_pred, 2), axis=1)\n",
        "    train_mse = train_mse.reshape((-1,))\n",
        "    \n",
        "    # Print the average reconstruction error\n",
        "    print(f'Timestep = {timesteps}, average reconstruction error = {np.mean(train_mse)}')\n",
        "\n",
        "\n",
        "      \n"
      ],
      "metadata": {
        "colab": {
          "base_uri": "https://localhost:8080/",
          "height": 1000
        },
        "id": "lI2uFOsTd80F",
        "outputId": "5201cc2c-035e-4e24-e77a-c3142ee3eefa"
      },
      "id": "lI2uFOsTd80F",
      "execution_count": 34,
      "outputs": [
        {
          "metadata": {
            "tags": null
          },
          "name": "stderr",
          "output_type": "stream",
          "text": [
            "WARNING:tensorflow:Layer lstm_16 will not use cuDNN kernels since it doesn't meet the criteria. It will use a generic GPU kernel as fallback when running on GPU.\n",
            "WARNING:tensorflow:Layer lstm_17 will not use cuDNN kernels since it doesn't meet the criteria. It will use a generic GPU kernel as fallback when running on GPU.\n",
            "WARNING:tensorflow:Layer lstm_18 will not use cuDNN kernels since it doesn't meet the criteria. It will use a generic GPU kernel as fallback when running on GPU.\n",
            "WARNING:tensorflow:Layer lstm_19 will not use cuDNN kernels since it doesn't meet the criteria. It will use a generic GPU kernel as fallback when running on GPU.\n"
          ]
        },
        {
          "output_type": "stream",
          "name": "stdout",
          "text": [
            "Model: \"sequential_4\"\n",
            "_________________________________________________________________\n",
            " Layer (type)                Output Shape              Param #   \n",
            "=================================================================\n",
            " lstm_16 (LSTM)              (None, 5, 128)            243200    \n",
            "                                                                 \n",
            " lstm_17 (LSTM)              (None, 64)                49408     \n",
            "                                                                 \n",
            " repeat_vector_4 (RepeatVect  (None, 5, 64)            0         \n",
            " or)                                                             \n",
            "                                                                 \n",
            " lstm_18 (LSTM)              (None, 5, 64)             33024     \n",
            "                                                                 \n",
            " lstm_19 (LSTM)              (None, 5, 128)            98816     \n",
            "                                                                 \n",
            " time_distributed_4 (TimeDis  (None, 5, 346)           44634     \n",
            " tributed)                                                       \n",
            "                                                                 \n",
            "=================================================================\n",
            "Total params: 469,082\n",
            "Trainable params: 469,082\n",
            "Non-trainable params: 0\n",
            "_________________________________________________________________\n",
            "Epoch 1/10\n",
            "1654/1654 [==============================] - 63s 35ms/step - loss: 0.0022\n",
            "Epoch 2/10\n",
            "1654/1654 [==============================] - 57s 35ms/step - loss: 0.0015\n",
            "Epoch 3/10\n",
            "1654/1654 [==============================] - 57s 34ms/step - loss: 0.0010\n",
            "Epoch 4/10\n",
            "1654/1654 [==============================] - 58s 35ms/step - loss: 7.5100e-04\n",
            "Epoch 5/10\n",
            "1654/1654 [==============================] - 57s 35ms/step - loss: 5.6908e-04\n",
            "Epoch 6/10\n",
            "1654/1654 [==============================] - 58s 35ms/step - loss: 4.7484e-04\n",
            "Epoch 7/10\n",
            "1654/1654 [==============================] - 57s 35ms/step - loss: 4.1854e-04\n",
            "Epoch 8/10\n",
            "1654/1654 [==============================] - 57s 35ms/step - loss: 3.7915e-04\n",
            "Epoch 9/10\n",
            "1654/1654 [==============================] - 57s 35ms/step - loss: 3.5144e-04\n",
            "Epoch 10/10\n",
            "1654/1654 [==============================] - 57s 34ms/step - loss: 3.2714e-04\n",
            "1654/1654 [==============================] - 8s 5ms/step\n",
            "Timestep = 5, average reconstruction error = 0.00031741976272314787\n"
          ]
        },
        {
          "output_type": "error",
          "ename": "ValueError",
          "evalue": "ignored",
          "traceback": [
            "\u001b[0;31m---------------------------------------------------------------------------\u001b[0m",
            "\u001b[0;31mValueError\u001b[0m                                Traceback (most recent call last)",
            "\u001b[0;32m<ipython-input-34-fb55dd133507>\u001b[0m in \u001b[0;36m<cell line: 7>\u001b[0;34m()\u001b[0m\n\u001b[1;32m     12\u001b[0m \u001b[0;34m\u001b[0m\u001b[0m\n\u001b[1;32m     13\u001b[0m     \u001b[0mX_train\u001b[0m  \u001b[0;34m=\u001b[0m \u001b[0mnp\u001b[0m\u001b[0;34m.\u001b[0m\u001b[0marray\u001b[0m\u001b[0;34m(\u001b[0m\u001b[0mX_train\u001b[0m\u001b[0;34m)\u001b[0m\u001b[0;34m\u001b[0m\u001b[0;34m\u001b[0m\u001b[0m\n\u001b[0;32m---> 14\u001b[0;31m     \u001b[0mX_train\u001b[0m \u001b[0;34m=\u001b[0m \u001b[0mX_train\u001b[0m\u001b[0;34m.\u001b[0m\u001b[0mreshape\u001b[0m\u001b[0;34m(\u001b[0m\u001b[0mX\u001b[0m\u001b[0;34m.\u001b[0m\u001b[0mshape\u001b[0m\u001b[0;34m[\u001b[0m\u001b[0;36m0\u001b[0m\u001b[0;34m]\u001b[0m\u001b[0;34m,\u001b[0m \u001b[0mtimesteps\u001b[0m\u001b[0;34m,\u001b[0m \u001b[0mn_features\u001b[0m\u001b[0;34m)\u001b[0m\u001b[0;34m\u001b[0m\u001b[0;34m\u001b[0m\u001b[0m\n\u001b[0m\u001b[1;32m     15\u001b[0m     \u001b[0;32mwith\u001b[0m \u001b[0mtf\u001b[0m\u001b[0;34m.\u001b[0m\u001b[0mdevice\u001b[0m\u001b[0;34m(\u001b[0m\u001b[0;34m'/device:GPU:0'\u001b[0m\u001b[0;34m)\u001b[0m\u001b[0;34m:\u001b[0m\u001b[0;34m\u001b[0m\u001b[0;34m\u001b[0m\u001b[0m\n\u001b[1;32m     16\u001b[0m       \u001b[0mmodel\u001b[0m \u001b[0;34m=\u001b[0m \u001b[0mtf\u001b[0m\u001b[0;34m.\u001b[0m\u001b[0mkeras\u001b[0m\u001b[0;34m.\u001b[0m\u001b[0mSequential\u001b[0m\u001b[0;34m(\u001b[0m\u001b[0;34m)\u001b[0m\u001b[0;34m\u001b[0m\u001b[0;34m\u001b[0m\u001b[0m\n",
            "\u001b[0;31mValueError\u001b[0m: cannot reshape array of size 183037460 into shape (52906,10,346)"
          ]
        }
      ]
    },
    {
      "cell_type": "markdown",
      "id": "0b01d143-777d-46dd-a5c4-27c4f5e40440",
      "metadata": {
        "id": "0b01d143-777d-46dd-a5c4-27c4f5e40440"
      },
      "source": [
        "# result analysis"
      ]
    },
    {
      "cell_type": "code",
      "source": [
        "# Extract important information from train_df and test_df\n",
        "n_train_samples, n_train_features = train_df.shape\n",
        "n_test_samples, n_test_features = test_df.shape\n",
        "\n",
        "\n",
        "# Create a LaTeX table with the extracted information\n",
        "latex = \"\"\"\n",
        "\\\\begin{table}[ht]\n",
        "\\\\centering\n",
        "\\\\begin{tabular}{|l|c|c|}\n",
        "\\\\hline\n",
        "\\\\textbf{Dataset} & \\\\textbf{Number of Samples} & \\\\textbf{Number of Features} \\\\\\\\\n",
        "\\\\hline\n",
        "Train & %d & %d \\\\\\\\\n",
        "Test & %d & %d \\\\\\\\\n",
        "\\\\hline\n",
        "\\\\end{tabular}\n",
        "\\\\caption{Important Information from train\\_df and test\\_df Datasets}\n",
        "\\\\label{tab:dataset-info}\n",
        "\\\\end{table}\n",
        "\n",
        "\\\\begin{table}[ht]\n",
        "\\\\centering\n",
        "\\\\begin{tabular}{|l|c|}\n",
        "\\\\hline\n",
        "\\\\textbf{Parameter} & \\\\textbf{Value} \\\\\\\\\n",
        "\\\\hline\n",
        "Number of Timesteps & %d \\\\\\\\\n",
        "Number of Features & %d \\\\\\\\\n",
        "Latent Dimension & %d \\\\\\\\\n",
        "Batch Size & %d \\\\\\\\\n",
        "\\\\hline\n",
        "\\\\end{tabular}\n",
        "\\\\caption{Parameters Used in the LSTM Autoencoder Model}\n",
        "\\\\label{tab:model-parameters}\n",
        "\\\\end{table}\n",
        "\"\"\" % (n_train_samples, n_train_features, n_test_samples, n_test_features, timesteps, n_features, latent_dim, batch_size)\n",
        "\n",
        "# Write LaTeX table to file\n",
        "with open('info.tex', 'w') as f:\n",
        "    f.write(latex)"
      ],
      "metadata": {
        "id": "r3hQQ0Q1WaNI"
      },
      "id": "r3hQQ0Q1WaNI",
      "execution_count": 26,
      "outputs": []
    },
    {
      "cell_type": "code",
      "execution_count": null,
      "id": "18959c42-0c97-4d42-80c9-852f44f95428",
      "metadata": {
        "collapsed": true,
        "jupyter": {
          "outputs_hidden": true,
          "source_hidden": true
        },
        "tags": [],
        "id": "18959c42-0c97-4d42-80c9-852f44f95428",
        "outputId": "fdcc85bf-a31f-4a5c-d915-3272651b38ae"
      },
      "outputs": [
        {
          "name": "stdout",
          "output_type": "stream",
          "text": [
            "\\begin{tabular}{ll}\n",
            "\\hline\n",
            " Variable         & Value   \\\\\n",
            "\\hline\n",
            " Model Summary    & Model: \"sequential\"\n",
            "\\_\\_\\_\\_\\_\\_\\_\\_\\_\\_\\_\\_\\_\\_\\_\\_\\_\\_\\_\\_\\_\\_\\_\\_\\_\\_\\_\\_\\_\\_\\_\\_\\_\\_\\_\\_\\_\\_\\_\\_\\_\\_\\_\\_\\_\\_\\_\\_\\_\\_\\_\\_\\_\\_\\_\\_\\_\\_\\_\\_\\_\\_\\_\\_\\_\n",
            " Layer (type)                Output Shape              Param \\#   \n",
            "=================================================================\n",
            " lstm (LSTM)                 (None, 10, 128)           154624    \n",
            "                                                                 \n",
            " lstm\\_1 (LSTM)               (None, 64)                49408     \n",
            "                                                                 \n",
            " repeat\\_vector (RepeatVector  (None, 10, 64)           0         \n",
            " )                                                               \n",
            "                                                                 \n",
            " lstm\\_2 (LSTM)               (None, 10, 64)            33024     \n",
            "                                                                 \n",
            " lstm\\_3 (LSTM)               (None, 10, 128)           98816     \n",
            "                                                                 \n",
            " time\\_distributed (TimeDistr  (None, 10, 173)          22317     \n",
            " ibuted)                                                         \n",
            "                                                                 \n",
            "=================================================================\n",
            "Total params: 358,189\n",
            "Trainable params: 358,189\n",
            "Non-trainable params: 0\n",
            "\\_\\_\\_\\_\\_\\_\\_\\_\\_\\_\\_\\_\\_\\_\\_\\_\\_\\_\\_\\_\\_\\_\\_\\_\\_\\_\\_\\_\\_\\_\\_\\_\\_\\_\\_\\_\\_\\_\\_\\_\\_\\_\\_\\_\\_\\_\\_\\_\\_\\_\\_\\_\\_\\_\\_\\_\\_\\_\\_\\_\\_\\_\\_\\_\\_         \\\\\n",
            " Predicted Values & [[[-0.     0.005  0.008 ...  0.001  0.003  0.001]\n",
            "  [-0.     0.007  0.014 ...  0.001  0.004  0.002]\n",
            "  [ 0.     0.006  0.015 ...  0.     0.003  0.002]\n",
            "  ...\n",
            "  [ 0.007  0.006  0.006 ...  0.003 -0.001 -0.002]\n",
            "  [ 0.006  0.011  0.008 ...  0.003  0.001 -0.003]\n",
            "  [ 0.005  0.017  0.012 ...  0.004  0.004 -0.004]]\n",
            "\n",
            " [[ 0.     0.006  0.006 ...  0.001  0.003  0.   ]\n",
            "  [ 0.     0.01   0.012 ...  0.001  0.004  0.002]\n",
            "  [ 0.     0.01   0.015 ... -0.001  0.004  0.003]\n",
            "  ...\n",
            "  [ 0.005  0.01   0.01  ...  0.002  0.    -0.002]\n",
            "  [ 0.006  0.013  0.011 ...  0.002  0.002 -0.002]\n",
            "  [ 0.006  0.015  0.012 ...  0.002  0.004 -0.002]]\n",
            "\n",
            " [[ 0.001  0.008  0.008 ...  0.001  0.003  0.   ]\n",
            "  [-0.     0.011  0.016 ...  0.     0.004  0.002]\n",
            "  [-0.001  0.005  0.015 ... -0.001  0.005  0.002]\n",
            "  ...\n",
            "  [ 0.003  0.009  0.018 ... -0.     0.003  0.   ]\n",
            "  [ 0.004  0.005  0.014 ...  0.     0.004  0.002]\n",
            "  [ 0.005  0.003  0.011 ...  0.001  0.005  0.002]]\n",
            "\n",
            " ...\n",
            "\n",
            " [[-0.     0.008  0.006 ...  0.001  0.002 -0.001]\n",
            "  [-0.     0.017  0.017 ...  0.002  0.001 -0.001]\n",
            "  [-0.001  0.023  0.025 ...  0.002 -0.    -0.001]\n",
            "  ...\n",
            "  [ 0.001  0.032  0.036 ...  0.002 -0.004 -0.003]\n",
            "  [ 0.001  0.037  0.038 ...  0.001 -0.006 -0.004]\n",
            "  [ 0.002  0.022  0.023 ...  0.    -0.005 -0.005]]\n",
            "\n",
            " [[ 0.     0.003  0.001 ...  0.001  0.001 -0.   ]\n",
            "  [ 0.     0.006  0.004 ...  0.001  0.001  0.   ]\n",
            "  [-0.     0.013  0.01  ...  0.001  0.001 -0.   ]\n",
            "  ...\n",
            "  [ 0.001  0.033  0.032 ...  0.001 -0.005 -0.003]\n",
            "  [ 0.001  0.028  0.031 ...  0.    -0.005 -0.001]\n",
            "  [-0.     0.023  0.032 ... -0.    -0.005 -0.   ]]\n",
            "\n",
            " [[ 0.001  0.004  0.003 ...  0.001  0.001 -0.   ]\n",
            "  [ 0.001  0.011  0.006 ...  0.     0.001 -0.   ]\n",
            "  [ 0.001  0.023  0.016 ...  0.001  0.001 -0.001]\n",
            "  ...\n",
            "  [ 0.001  0.025  0.025 ... -0.001 -0.002  0.   ]\n",
            "  [ 0.001  0.02   0.027 ... -0.001 -0.001  0.001]\n",
            "  [ 0.     0.017  0.03  ... -0.001 -0.001  0.001]]]         \\\\\n",
            " Actual Values    & [[[0 0 0 ... 0 0 0]\n",
            "  [0 0 0 ... 0 0 0]\n",
            "  [0 0 0 ... 0 0 0]\n",
            "  ...\n",
            "  [0 0 0 ... 0 0 0]\n",
            "  [0 0 0 ... 0 0 0]\n",
            "  [0 0 0 ... 0 0 0]]\n",
            "\n",
            " [[0 0 0 ... 0 0 0]\n",
            "  [0 0 0 ... 0 0 0]\n",
            "  [0 0 0 ... 0 0 0]\n",
            "  ...\n",
            "  [0 0 0 ... 0 0 0]\n",
            "  [0 0 0 ... 0 0 0]\n",
            "  [0 0 0 ... 0 0 0]]\n",
            "\n",
            " [[0 0 0 ... 0 0 0]\n",
            "  [0 0 0 ... 0 0 0]\n",
            "  [0 0 0 ... 0 0 0]\n",
            "  ...\n",
            "  [0 0 0 ... 0 0 0]\n",
            "  [0 0 0 ... 0 0 0]\n",
            "  [0 0 0 ... 0 0 0]]\n",
            "\n",
            " ...\n",
            "\n",
            " [[0 0 0 ... 0 0 0]\n",
            "  [0 0 0 ... 0 0 0]\n",
            "  [0 0 0 ... 0 0 0]\n",
            "  ...\n",
            "  [0 1 0 ... 0 0 0]\n",
            "  [0 0 0 ... 0 0 0]\n",
            "  [0 0 0 ... 0 0 0]]\n",
            "\n",
            " [[0 0 0 ... 0 0 0]\n",
            "  [0 0 0 ... 0 0 0]\n",
            "  [0 0 0 ... 0 0 0]\n",
            "  ...\n",
            "  [0 0 0 ... 0 0 0]\n",
            "  [0 0 0 ... 0 0 0]\n",
            "  [0 0 0 ... 0 0 0]]\n",
            "\n",
            " [[0 0 0 ... 0 0 0]\n",
            "  [0 0 0 ... 0 0 0]\n",
            "  [0 0 0 ... 0 0 0]\n",
            "  ...\n",
            "  [0 0 0 ... 0 0 0]\n",
            "  [0 0 0 ... 0 0 0]\n",
            "  [0 0 0 ... 0 0 0]]]         \\\\\n",
            "\\hline\n",
            "\\end{tabular}\n"
          ]
        }
      ],
      "source": [
        "from tabulate import tabulate\n",
        "\n",
        "# model summary\n",
        "model_summary = []\n",
        "model.summary(print_fn=lambda x: model_summary.append(x))\n",
        "model_summary = '\\n'.join(model_summary)\n",
        "\n",
        "# predicted and actual values\n",
        "predicted = np.round(yhat, 3)\n",
        "actual = np.round(X, 3)\n",
        "\n",
        "# create table\n",
        "table = [\n",
        "    ['Model Summary', model_summary],\n",
        "    ['Predicted Values', predicted],\n",
        "    ['Actual Values', actual]\n",
        "]\n",
        "\n",
        "# convert table to LaTeX format\n",
        "latex_table = tabulate(table, headers=['Variable', 'Value'], tablefmt='latex')\n",
        "\n",
        "# print LaTeX table\n",
        "print(latex_table)\n"
      ]
    },
    {
      "cell_type": "code",
      "execution_count": null,
      "id": "00e984a4-e4b4-45f1-ba08-163cadb32d65",
      "metadata": {
        "id": "00e984a4-e4b4-45f1-ba08-163cadb32d65"
      },
      "outputs": [],
      "source": [
        "# Reshape X and yhat to 2D arrays\n",
        "X_2d = X.reshape(X.shape[0]*timesteps, n_features)\n",
        "yhat_2d = yhat.reshape(X.shape[0]*timesteps, n_features)"
      ]
    },
    {
      "cell_type": "code",
      "execution_count": null,
      "id": "b2289fab-1395-4e4b-a2db-06b289021405",
      "metadata": {
        "id": "b2289fab-1395-4e4b-a2db-06b289021405",
        "outputId": "395a5006-0035-4b0c-d914-094e4fc3fec7"
      },
      "outputs": [
        {
          "name": "stdout",
          "output_type": "stream",
          "text": [
            "MSE:  0.0033856726\n"
          ]
        }
      ],
      "source": [
        "# Calculate mean squared error\n",
        "mse = mean_squared_error(X_2d, yhat_2d)\n",
        "print(\"MSE: \", mse)"
      ]
    },
    {
      "cell_type": "code",
      "execution_count": null,
      "id": "7970d5ad-2597-454d-b737-59e63cee446d",
      "metadata": {
        "id": "7970d5ad-2597-454d-b737-59e63cee446d",
        "outputId": "20942336-69c8-45b6-bea6-f3d3833dee13"
      },
      "outputs": [
        {
          "name": "stdout",
          "output_type": "stream",
          "text": [
            "R2 score:  0.06690389884976325\n"
          ]
        }
      ],
      "source": [
        "from sklearn.metrics import r2_score\n",
        "r2 = r2_score(X_2d, yhat_2d)\n",
        "print(\"R2 score: \", r2)"
      ]
    },
    {
      "cell_type": "markdown",
      "source": [
        "# legacy"
      ],
      "metadata": {
        "id": "eXszoLAbjEwe"
      },
      "id": "eXszoLAbjEwe"
    },
    {
      "cell_type": "code",
      "source": [
        "data_train = []\n",
        "errors_train = 0\n",
        "\n",
        "for file in uploaded_test :\n",
        "    for line in file:\n",
        "      try:\n",
        "          entry = json.loads(line)\n",
        "          features = {'latency': entry['httpRequest']['latency'],\n",
        "                      'requestSize': entry['httpRequest']['requestSize'],\n",
        "                      'requestMethod': entry['httpRequest']['requestMethod'],\n",
        "                      'responseSize': entry['httpRequest']['responseSize'],\n",
        "                      'requestUrl': entry['httpRequest']['requestUrl'],\n",
        "                      'status': entry['httpRequest']['status'],\n",
        "                      'source_app': entry['labels']['source_app'],\n",
        "                      'timestamp': entry['timestamp']}          \n",
        "          # Extract the relevant features from the entry and add them to the data list\n",
        "          data_train.append(features)\n",
        "      except json.JSONDecodeError:\n",
        "          # Handle JSONDecodeError and continue to the next line\n",
        "          errors_train += 1\n",
        "          # print(f\"Error decoding JSON in file {file_path}: {line}\")\n",
        "          continue\n",
        "\n",
        "# Convert the list of dictionaries into a DataFrame\n",
        "print(\"Number of errors: \" + str(errors_train))\n",
        "df_train = pd.DataFrame(data_train)\n",
        "df_train.head()"
      ],
      "metadata": {
        "id": "rVI30OO_7AsH"
      },
      "id": "rVI30OO_7AsH",
      "execution_count": null,
      "outputs": []
    },
    {
      "cell_type": "code",
      "source": [
        "import tensorflow as tf\n",
        "from tensorflow.compat.v1.keras.backend import set_session\n",
        "# configure tensorflow to use GPU\n",
        "\n",
        "config = tf.compat.v1.ConfigProto()\n",
        "config.gpu_options.allow_growth = True  # dynamically grow the memory used on the GPU\n",
        "config.gpu_options.per_process_gpu_memory_fraction = 0.9  # limit the GPU memory used to 90%\n",
        "sess = tf.compat.v1.Session(config=config)\n",
        "set_session(sess)"
      ],
      "metadata": {
        "id": "jddY2I8HlTG5"
      },
      "id": "jddY2I8HlTG5",
      "execution_count": null,
      "outputs": []
    },
    {
      "cell_type": "code",
      "execution_count": null,
      "id": "cdd49310-bddd-457f-889f-27bef7715079",
      "metadata": {
        "colab": {
          "base_uri": "https://localhost:8080/",
          "height": 472
        },
        "id": "cdd49310-bddd-457f-889f-27bef7715079",
        "outputId": "23f83ff5-cb67-4d84-abfc-256d32d64d7f"
      },
      "outputs": [
        {
          "output_type": "display_data",
          "data": {
            "text/plain": [
              "<Figure size 640x480 with 1 Axes>"
            ],
            "image/png": "[encoded data removed]"
          },
          "metadata": {}
        }
      ],
      "source": [
        "import matplotlib.pyplot as plt\n",
        "# plot training and validation loss\n",
        "plt.plot(history.history['loss'], label='training loss')\n",
        "plt.plot(history.history['val_loss'], label='validation loss')\n",
        "plt.title('Training and Validation Loss')\n",
        "plt.xlabel('Epoch')\n",
        "plt.ylabel('Loss')\n",
        "plt.legend()\n",
        "plt.show()"
      ]
    },
    {
      "cell_type": "markdown",
      "source": [
        "## Create Keys"
      ],
      "metadata": {
        "id": "jKmlw4uy6_Fp"
      },
      "id": "jKmlw4uy6_Fp"
    },
    {
      "cell_type": "code",
      "execution_count": null,
      "id": "773963bc-8a40-4597-ac7d-817fdb396e76",
      "metadata": {
        "id": "773963bc-8a40-4597-ac7d-817fdb396e76"
      },
      "outputs": [],
      "source": [
        "#create keys for unique rows\n",
        "\n",
        "df['key'] = df.groupby(['latency', 'requestSize', 'requestMethod', 'responseSize',\n",
        "       'requestUrl', 'status', 'source_app']).ngroup()"
      ]
    },
    {
      "cell_type": "code",
      "execution_count": null,
      "id": "412bac00-ed62-437c-bf5c-ef7b4f37046f",
      "metadata": {
        "id": "412bac00-ed62-437c-bf5c-ef7b4f37046f",
        "outputId": "41e7c711-fa6e-4917-f53f-49a8ea36005e"
      },
      "outputs": [
        {
          "name": "stdout",
          "output_type": "stream",
          "text": [
            "\\begin{tabular}{lrllllllr}\n",
            " & latency & requestSize & requestMethod & responseSize & requestUrl & status & source_app & key \\\\\n",
            "timestamp &  &  &  &  &  &  &  &  \\\\\n",
            "2023-04-15 08:26:58.215025 UTC & 1 & 730 & POST & 1757 & http://productcatalogservice:3550/hipstershop.ProductCatalogService/GetProduct & 200 & frontend & 231 \\\\\n",
            "2023-04-15 08:26:58.216662 UTC & 1 & 730 & POST & 1695 & http://productcatalogservice:3550/hipstershop.ProductCatalogService/GetProduct & 200 & frontend & 217 \\\\\n",
            "2023-04-15 08:26:58.354216 UTC & 1 & 730 & POST & 1747 & http://productcatalogservice:3550/hipstershop.ProductCatalogService/GetProduct & 200 & frontend & 229 \\\\\n",
            "2023-04-15 08:26:58.356309 UTC & 1 & 730 & POST & 1695 & http://productcatalogservice:3550/hipstershop.ProductCatalogService/GetProduct & 200 & frontend & 217 \\\\\n",
            "2023-04-15 08:26:58.361683 UTC & 1 & 730 & POST & 1742 & http://productcatalogservice:3550/hipstershop.ProductCatalogService/GetProduct & 200 & frontend & 227 \\\\\n",
            "\\end{tabular}\n",
            "\n"
          ]
        }
      ],
      "source": [
        "#latex\n",
        "\n",
        "latex_table = df.head().style.to_latex()\n",
        "\n",
        "# print latex table\n",
        "print(latex_table)"
      ]
    },
    {
      "cell_type": "code",
      "execution_count": null,
      "id": "226b4711-67c8-4343-a1c8-4ad866244219",
      "metadata": {
        "id": "226b4711-67c8-4343-a1c8-4ad866244219"
      },
      "outputs": [],
      "source": [
        "df=df[['key']]\n",
        "\n",
        "df = pd.get_dummies(df, columns=['key'])"
      ]
    },
    {
      "cell_type": "code",
      "execution_count": null,
      "id": "8e8ebb67-aa0f-4654-9578-c200932342d4",
      "metadata": {
        "tags": [],
        "id": "8e8ebb67-aa0f-4654-9578-c200932342d4",
        "outputId": "c60e043b-f910-4ca8-9699-b76f6c1916fd"
      },
      "outputs": [
        {
          "data": {
            "text/html": [
              "<div>\n",
              "<style scoped>\n",
              "    .dataframe tbody tr th:only-of-type {\n",
              "        vertical-align: middle;\n",
              "    }\n",
              "\n",
              "    .dataframe tbody tr th {\n",
              "        vertical-align: top;\n",
              "    }\n",
              "\n",
              "    .dataframe thead th {\n",
              "        text-align: right;\n",
              "    }\n",
              "</style>\n",
              "<table border=\"1\" class=\"dataframe\">\n",
              "  <thead>\n",
              "    <tr style=\"text-align: right;\">\n",
              "      <th></th>\n",
              "      <th>key_0</th>\n",
              "      <th>key_1</th>\n",
              "      <th>key_2</th>\n",
              "      <th>key_3</th>\n",
              "      <th>key_4</th>\n",
              "      <th>key_5</th>\n",
              "      <th>key_6</th>\n",
              "      <th>key_7</th>\n",
              "      <th>key_8</th>\n",
              "      <th>key_9</th>\n",
              "      <th>...</th>\n",
              "      <th>key_377</th>\n",
              "      <th>key_378</th>\n",
              "      <th>key_379</th>\n",
              "      <th>key_380</th>\n",
              "      <th>key_381</th>\n",
              "      <th>key_382</th>\n",
              "      <th>key_383</th>\n",
              "      <th>key_384</th>\n",
              "      <th>key_385</th>\n",
              "      <th>key_386</th>\n",
              "    </tr>\n",
              "    <tr>\n",
              "      <th>timestamp</th>\n",
              "      <th></th>\n",
              "      <th></th>\n",
              "      <th></th>\n",
              "      <th></th>\n",
              "      <th></th>\n",
              "      <th></th>\n",
              "      <th></th>\n",
              "      <th></th>\n",
              "      <th></th>\n",
              "      <th></th>\n",
              "      <th></th>\n",
              "      <th></th>\n",
              "      <th></th>\n",
              "      <th></th>\n",
              "      <th></th>\n",
              "      <th></th>\n",
              "      <th></th>\n",
              "      <th></th>\n",
              "      <th></th>\n",
              "      <th></th>\n",
              "      <th></th>\n",
              "    </tr>\n",
              "  </thead>\n",
              "  <tbody>\n",
              "    <tr>\n",
              "      <th>2023-04-15 08:26:58.215025 UTC</th>\n",
              "      <td>0</td>\n",
              "      <td>0</td>\n",
              "      <td>0</td>\n",
              "      <td>0</td>\n",
              "      <td>0</td>\n",
              "      <td>0</td>\n",
              "      <td>0</td>\n",
              "      <td>0</td>\n",
              "      <td>0</td>\n",
              "      <td>0</td>\n",
              "      <td>...</td>\n",
              "      <td>0</td>\n",
              "      <td>0</td>\n",
              "      <td>0</td>\n",
              "      <td>0</td>\n",
              "      <td>0</td>\n",
              "      <td>0</td>\n",
              "      <td>0</td>\n",
              "      <td>0</td>\n",
              "      <td>0</td>\n",
              "      <td>0</td>\n",
              "    </tr>\n",
              "    <tr>\n",
              "      <th>2023-04-15 08:26:58.216662 UTC</th>\n",
              "      <td>0</td>\n",
              "      <td>0</td>\n",
              "      <td>0</td>\n",
              "      <td>0</td>\n",
              "      <td>0</td>\n",
              "      <td>0</td>\n",
              "      <td>0</td>\n",
              "      <td>0</td>\n",
              "      <td>0</td>\n",
              "      <td>0</td>\n",
              "      <td>...</td>\n",
              "      <td>0</td>\n",
              "      <td>0</td>\n",
              "      <td>0</td>\n",
              "      <td>0</td>\n",
              "      <td>0</td>\n",
              "      <td>0</td>\n",
              "      <td>0</td>\n",
              "      <td>0</td>\n",
              "      <td>0</td>\n",
              "      <td>0</td>\n",
              "    </tr>\n",
              "    <tr>\n",
              "      <th>2023-04-15 08:26:58.354216 UTC</th>\n",
              "      <td>0</td>\n",
              "      <td>0</td>\n",
              "      <td>0</td>\n",
              "      <td>0</td>\n",
              "      <td>0</td>\n",
              "      <td>0</td>\n",
              "      <td>0</td>\n",
              "      <td>0</td>\n",
              "      <td>0</td>\n",
              "      <td>0</td>\n",
              "      <td>...</td>\n",
              "      <td>0</td>\n",
              "      <td>0</td>\n",
              "      <td>0</td>\n",
              "      <td>0</td>\n",
              "      <td>0</td>\n",
              "      <td>0</td>\n",
              "      <td>0</td>\n",
              "      <td>0</td>\n",
              "      <td>0</td>\n",
              "      <td>0</td>\n",
              "    </tr>\n",
              "    <tr>\n",
              "      <th>2023-04-15 08:26:58.356309 UTC</th>\n",
              "      <td>0</td>\n",
              "      <td>0</td>\n",
              "      <td>0</td>\n",
              "      <td>0</td>\n",
              "      <td>0</td>\n",
              "      <td>0</td>\n",
              "      <td>0</td>\n",
              "      <td>0</td>\n",
              "      <td>0</td>\n",
              "      <td>0</td>\n",
              "      <td>...</td>\n",
              "      <td>0</td>\n",
              "      <td>0</td>\n",
              "      <td>0</td>\n",
              "      <td>0</td>\n",
              "      <td>0</td>\n",
              "      <td>0</td>\n",
              "      <td>0</td>\n",
              "      <td>0</td>\n",
              "      <td>0</td>\n",
              "      <td>0</td>\n",
              "    </tr>\n",
              "    <tr>\n",
              "      <th>2023-04-15 08:26:58.361683 UTC</th>\n",
              "      <td>0</td>\n",
              "      <td>0</td>\n",
              "      <td>0</td>\n",
              "      <td>0</td>\n",
              "      <td>0</td>\n",
              "      <td>0</td>\n",
              "      <td>0</td>\n",
              "      <td>0</td>\n",
              "      <td>0</td>\n",
              "      <td>0</td>\n",
              "      <td>...</td>\n",
              "      <td>0</td>\n",
              "      <td>0</td>\n",
              "      <td>0</td>\n",
              "      <td>0</td>\n",
              "      <td>0</td>\n",
              "      <td>0</td>\n",
              "      <td>0</td>\n",
              "      <td>0</td>\n",
              "      <td>0</td>\n",
              "      <td>0</td>\n",
              "    </tr>\n",
              "  </tbody>\n",
              "</table>\n",
              "<p>5 rows × 387 columns</p>\n",
              "</div>"
            ],
            "text/plain": [
              "                                key_0  key_1  key_2  key_3  key_4  key_5  \\\n",
              "timestamp                                                                  \n",
              "2023-04-15 08:26:58.215025 UTC      0      0      0      0      0      0   \n",
              "2023-04-15 08:26:58.216662 UTC      0      0      0      0      0      0   \n",
              "2023-04-15 08:26:58.354216 UTC      0      0      0      0      0      0   \n",
              "2023-04-15 08:26:58.356309 UTC      0      0      0      0      0      0   \n",
              "2023-04-15 08:26:58.361683 UTC      0      0      0      0      0      0   \n",
              "\n",
              "                                key_6  key_7  key_8  key_9  ...  key_377  \\\n",
              "timestamp                                                   ...            \n",
              "2023-04-15 08:26:58.215025 UTC      0      0      0      0  ...        0   \n",
              "2023-04-15 08:26:58.216662 UTC      0      0      0      0  ...        0   \n",
              "2023-04-15 08:26:58.354216 UTC      0      0      0      0  ...        0   \n",
              "2023-04-15 08:26:58.356309 UTC      0      0      0      0  ...        0   \n",
              "2023-04-15 08:26:58.361683 UTC      0      0      0      0  ...        0   \n",
              "\n",
              "                                key_378  key_379  key_380  key_381  key_382  \\\n",
              "timestamp                                                                     \n",
              "2023-04-15 08:26:58.215025 UTC        0        0        0        0        0   \n",
              "2023-04-15 08:26:58.216662 UTC        0        0        0        0        0   \n",
              "2023-04-15 08:26:58.354216 UTC        0        0        0        0        0   \n",
              "2023-04-15 08:26:58.356309 UTC        0        0        0        0        0   \n",
              "2023-04-15 08:26:58.361683 UTC        0        0        0        0        0   \n",
              "\n",
              "                                key_383  key_384  key_385  key_386  \n",
              "timestamp                                                           \n",
              "2023-04-15 08:26:58.215025 UTC        0        0        0        0  \n",
              "2023-04-15 08:26:58.216662 UTC        0        0        0        0  \n",
              "2023-04-15 08:26:58.354216 UTC        0        0        0        0  \n",
              "2023-04-15 08:26:58.356309 UTC        0        0        0        0  \n",
              "2023-04-15 08:26:58.361683 UTC        0        0        0        0  \n",
              "\n",
              "[5 rows x 387 columns]"
            ]
          },
          "execution_count": 8,
          "metadata": {},
          "output_type": "execute_result"
        }
      ],
      "source": [
        "df.head()"
      ]
    },
    {
      "cell_type": "code",
      "execution_count": null,
      "id": "98032597-4f59-4785-bead-d25775527248",
      "metadata": {
        "id": "98032597-4f59-4785-bead-d25775527248"
      },
      "outputs": [],
      "source": [
        "from sklearn.preprocessing import StandardScaler\n",
        "\n",
        "\n",
        "train_size = int(len(df) * 0.95)\n",
        "train = df[:train_size][df.columns]\n",
        "test = df[train_size:][df.columns]"
      ]
    },
    {
      "cell_type": "code",
      "execution_count": null,
      "id": "e0eb1028-16c8-4846-95ff-2fa7f72f18ac",
      "metadata": {
        "tags": [],
        "id": "e0eb1028-16c8-4846-95ff-2fa7f72f18ac"
      },
      "outputs": [],
      "source": []
    },
    {
      "cell_type": "code",
      "execution_count": null,
      "id": "a0e5ad53-f220-4465-953e-371d33597a28",
      "metadata": {
        "id": "a0e5ad53-f220-4465-953e-371d33597a28",
        "outputId": "68be696a-2d4d-4b97-96d9-abdc37343fc1"
      },
      "outputs": [
        {
          "data": {
            "text/plain": [
              "110"
            ]
          },
          "execution_count": 41,
          "metadata": {},
          "output_type": "execute_result"
        }
      ],
      "source": [
        "np.argpartition(X[0][0],-1)[-1]"
      ]
    },
    {
      "cell_type": "code",
      "execution_count": null,
      "id": "70704e44-56fa-4022-b559-833e9d71d7f5",
      "metadata": {
        "id": "70704e44-56fa-4022-b559-833e9d71d7f5",
        "outputId": "0410d61b-6f64-4c31-fbd8-6fc131f73bfa"
      },
      "outputs": [
        {
          "data": {
            "text/plain": [
              "array([ 58,  68, 113,  32,  76])"
            ]
          },
          "execution_count": 42,
          "metadata": {},
          "output_type": "execute_result"
        }
      ],
      "source": [
        "np.argpartition(yhat[0][0],-5)[-5:]"
      ]
    },
    {
      "cell_type": "code",
      "execution_count": null,
      "id": "d5b16449-6e6f-47da-aed3-97b8a7c36a58",
      "metadata": {
        "id": "d5b16449-6e6f-47da-aed3-97b8a7c36a58",
        "outputId": "ce198f8d-9b7d-42f1-bd40-ab7301cda808"
      },
      "outputs": [
        {
          "data": {
            "text/plain": [
              "array([0.00485279, 0.00451607, 0.00409346, ..., 0.00446442, 0.00524236,\n",
              "       0.00528777], dtype=float32)"
            ]
          },
          "execution_count": 58,
          "metadata": {},
          "output_type": "execute_result"
        }
      ],
      "source": [
        "#reconstruction cost for the test set\n",
        "\n",
        "\n",
        "mse = np.mean(np.mean(np.power(X - yhat, 2), axis=1),axis=1)\n",
        "mse"
      ]
    },
    {
      "cell_type": "markdown",
      "id": "705c0cb9-03f5-40b2-b649-432886e6d205",
      "metadata": {
        "id": "705c0cb9-03f5-40b2-b649-432886e6d205"
      },
      "source": [
        "# legacy"
      ]
    },
    {
      "cell_type": "code",
      "execution_count": null,
      "id": "99cc69cc-2ec3-4b3d-85a7-482386cde963",
      "metadata": {
        "id": "99cc69cc-2ec3-4b3d-85a7-482386cde963"
      },
      "outputs": [],
      "source": []
    },
    {
      "cell_type": "code",
      "execution_count": null,
      "id": "f05a8667-82f6-438c-93ac-8c9424279a16",
      "metadata": {
        "tags": [],
        "id": "f05a8667-82f6-438c-93ac-8c9424279a16",
        "outputId": "0560ee91-cd97-4a9b-c66d-758b32c9013e"
      },
      "outputs": [
        {
          "name": "stdout",
          "output_type": "stream",
          "text": [
            "Epoch 1/5\n",
            "998/998 - 41s - loss: 0.0049 - 41s/epoch - 41ms/step\n",
            "Epoch 2/5\n",
            "998/998 - 32s - loss: 0.0043 - 32s/epoch - 32ms/step\n",
            "Epoch 3/5\n",
            "998/998 - 32s - loss: 0.0039 - 32s/epoch - 32ms/step\n",
            "Epoch 4/5\n",
            "998/998 - 32s - loss: 0.0037 - 32s/epoch - 32ms/step\n",
            "Epoch 5/5\n",
            "998/998 - 33s - loss: 0.0035 - 33s/epoch - 33ms/step\n",
            "---Predicted---\n",
            "[[[-0.     0.005  0.008 ...  0.001  0.003  0.001]\n",
            "  [-0.     0.007  0.014 ...  0.001  0.004  0.002]\n",
            "  [ 0.     0.006  0.015 ...  0.     0.003  0.002]\n",
            "  ...\n",
            "  [ 0.007  0.006  0.006 ...  0.003 -0.001 -0.002]\n",
            "  [ 0.006  0.011  0.008 ...  0.003  0.001 -0.003]\n",
            "  [ 0.005  0.017  0.012 ...  0.004  0.004 -0.004]]\n",
            "\n",
            " [[ 0.     0.006  0.006 ...  0.001  0.003  0.   ]\n",
            "  [ 0.     0.01   0.012 ...  0.001  0.004  0.002]\n",
            "  [ 0.     0.01   0.015 ... -0.001  0.004  0.003]\n",
            "  ...\n",
            "  [ 0.005  0.01   0.01  ...  0.002  0.    -0.002]\n",
            "  [ 0.006  0.013  0.011 ...  0.002  0.002 -0.002]\n",
            "  [ 0.006  0.015  0.012 ...  0.002  0.004 -0.002]]\n",
            "\n",
            " [[ 0.001  0.008  0.008 ...  0.001  0.003  0.   ]\n",
            "  [-0.     0.011  0.016 ...  0.     0.004  0.002]\n",
            "  [-0.001  0.005  0.015 ... -0.001  0.005  0.002]\n",
            "  ...\n",
            "  [ 0.003  0.009  0.018 ... -0.     0.003  0.   ]\n",
            "  [ 0.004  0.005  0.014 ...  0.     0.004  0.002]\n",
            "  [ 0.005  0.003  0.011 ...  0.001  0.005  0.002]]\n",
            "\n",
            " ...\n",
            "\n",
            " [[-0.     0.008  0.006 ...  0.001  0.002 -0.001]\n",
            "  [-0.     0.017  0.017 ...  0.002  0.001 -0.001]\n",
            "  [-0.001  0.023  0.025 ...  0.002 -0.    -0.001]\n",
            "  ...\n",
            "  [ 0.001  0.032  0.036 ...  0.002 -0.004 -0.003]\n",
            "  [ 0.001  0.037  0.038 ...  0.001 -0.006 -0.004]\n",
            "  [ 0.002  0.022  0.023 ...  0.    -0.005 -0.005]]\n",
            "\n",
            " [[ 0.     0.003  0.001 ...  0.001  0.001 -0.   ]\n",
            "  [ 0.     0.006  0.004 ...  0.001  0.001  0.   ]\n",
            "  [-0.     0.013  0.01  ...  0.001  0.001 -0.   ]\n",
            "  ...\n",
            "  [ 0.001  0.033  0.032 ...  0.001 -0.005 -0.003]\n",
            "  [ 0.001  0.028  0.031 ...  0.    -0.005 -0.001]\n",
            "  [-0.     0.023  0.032 ... -0.    -0.005 -0.   ]]\n",
            "\n",
            " [[ 0.001  0.004  0.003 ...  0.001  0.001 -0.   ]\n",
            "  [ 0.001  0.011  0.006 ...  0.     0.001 -0.   ]\n",
            "  [ 0.001  0.023  0.016 ...  0.001  0.001 -0.001]\n",
            "  ...\n",
            "  [ 0.001  0.025  0.025 ... -0.001 -0.002  0.   ]\n",
            "  [ 0.001  0.02   0.027 ... -0.001 -0.001  0.001]\n",
            "  [ 0.     0.017  0.03  ... -0.001 -0.001  0.001]]]\n",
            "---Actual---\n",
            "[[[0 0 0 ... 0 0 0]\n",
            "  [0 0 0 ... 0 0 0]\n",
            "  [0 0 0 ... 0 0 0]\n",
            "  ...\n",
            "  [0 0 0 ... 0 0 0]\n",
            "  [0 0 0 ... 0 0 0]\n",
            "  [0 0 0 ... 0 0 0]]\n",
            "\n",
            " [[0 0 0 ... 0 0 0]\n",
            "  [0 0 0 ... 0 0 0]\n",
            "  [0 0 0 ... 0 0 0]\n",
            "  ...\n",
            "  [0 0 0 ... 0 0 0]\n",
            "  [0 0 0 ... 0 0 0]\n",
            "  [0 0 0 ... 0 0 0]]\n",
            "\n",
            " [[0 0 0 ... 0 0 0]\n",
            "  [0 0 0 ... 0 0 0]\n",
            "  [0 0 0 ... 0 0 0]\n",
            "  ...\n",
            "  [0 0 0 ... 0 0 0]\n",
            "  [0 0 0 ... 0 0 0]\n",
            "  [0 0 0 ... 0 0 0]]\n",
            "\n",
            " ...\n",
            "\n",
            " [[0 0 0 ... 0 0 0]\n",
            "  [0 0 0 ... 0 0 0]\n",
            "  [0 0 0 ... 0 0 0]\n",
            "  ...\n",
            "  [0 1 0 ... 0 0 0]\n",
            "  [0 0 0 ... 0 0 0]\n",
            "  [0 0 0 ... 0 0 0]]\n",
            "\n",
            " [[0 0 0 ... 0 0 0]\n",
            "  [0 0 0 ... 0 0 0]\n",
            "  [0 0 0 ... 0 0 0]\n",
            "  ...\n",
            "  [0 0 0 ... 0 0 0]\n",
            "  [0 0 0 ... 0 0 0]\n",
            "  [0 0 0 ... 0 0 0]]\n",
            "\n",
            " [[0 0 0 ... 0 0 0]\n",
            "  [0 0 0 ... 0 0 0]\n",
            "  [0 0 0 ... 0 0 0]\n",
            "  ...\n",
            "  [0 0 0 ... 0 0 0]\n",
            "  [0 0 0 ... 0 0 0]\n",
            "  [0 0 0 ... 0 0 0]]]\n"
          ]
        }
      ],
      "source": [
        "# fit model\n",
        "model.fit(X, X, epochs=5, batch_size=5, verbose=2)\n",
        "# demonstrate reconstruction\n",
        "yhat = model.predict(X, verbose=0)\n",
        "print('---Predicted---')\n",
        "print(np.round(yhat,3))\n",
        "print('---Actual---')\n",
        "print(np.round(X, 3))"
      ]
    },
    {
      "cell_type": "code",
      "execution_count": null,
      "id": "576efd79-5ea6-4127-b976-5ac99f0a0667",
      "metadata": {
        "jupyter": {
          "source_hidden": true
        },
        "tags": [],
        "id": "576efd79-5ea6-4127-b976-5ac99f0a0667"
      },
      "outputs": [],
      "source": [
        "# bug fixing test piece\n",
        "\n",
        "import os\n",
        "import json\n",
        "import pandas as pd\n",
        "\n",
        "data = []\n",
        "\n",
        "\n",
        "# Load the JSON file\n",
        "with open(\"train/data-000000000021\") as f:\n",
        "# Extract the relevant features from each log entry\n",
        "    for line in f:\n",
        "        entry = json.loads(line)\n",
        "        # Extract the relevant features from the entry and add them to the data list\n",
        "        features = {'latency': entry['httpRequest']['latency'],\n",
        "                    'requestSize': entry['httpRequest']['requestSize'],\n",
        "                    'requestMethod': entry['httpRequest']['requestMethod'],\n",
        "                    'responseSize': entry['httpRequest']['responseSize'],\n",
        "                    'requestUrl': entry['httpRequest']['requestUrl'],\n",
        "                    'status': entry['httpRequest']['status'],\n",
        "                    'source_app': entry['labels']['source_app'],\n",
        "                    'timestamp': entry['timestamp']}\n",
        "        data.append(features)\n",
        "\n",
        "# Convert the list of dictionaries into a DataFrame\n",
        "df = pd.DataFrame(data)\n",
        "df.head"
      ]
    },
    {
      "cell_type": "code",
      "execution_count": null,
      "id": "9734b1af-2af0-42d9-94dc-a70c00a0dbb3",
      "metadata": {
        "id": "9734b1af-2af0-42d9-94dc-a70c00a0dbb3",
        "outputId": "d2313ef1-9489-4cd3-96bc-8f478ce53aa4"
      },
      "outputs": [
        {
          "name": "stdout",
          "output_type": "stream",
          "text": [
            "Number of errors: 18\n"
          ]
        },
        {
          "data": {
            "text/html": [
              "<div>\n",
              "<style scoped>\n",
              "    .dataframe tbody tr th:only-of-type {\n",
              "        vertical-align: middle;\n",
              "    }\n",
              "\n",
              "    .dataframe tbody tr th {\n",
              "        vertical-align: top;\n",
              "    }\n",
              "\n",
              "    .dataframe thead th {\n",
              "        text-align: right;\n",
              "    }\n",
              "</style>\n",
              "<table border=\"1\" class=\"dataframe\">\n",
              "  <thead>\n",
              "    <tr style=\"text-align: right;\">\n",
              "      <th></th>\n",
              "      <th>latency</th>\n",
              "      <th>requestSize</th>\n",
              "      <th>requestMethod</th>\n",
              "      <th>responseSize</th>\n",
              "      <th>requestUrl</th>\n",
              "      <th>status</th>\n",
              "      <th>source_app</th>\n",
              "      <th>timestamp</th>\n",
              "    </tr>\n",
              "  </thead>\n",
              "  <tbody>\n",
              "    <tr>\n",
              "      <th>0</th>\n",
              "      <td>0.001479</td>\n",
              "      <td>712</td>\n",
              "      <td>POST</td>\n",
              "      <td>1778</td>\n",
              "      <td>http://currencyservice:7000/hipstershop.Curren...</td>\n",
              "      <td>200</td>\n",
              "      <td>frontend</td>\n",
              "      <td>2023-04-15 09:29:32.235081 UTC</td>\n",
              "    </tr>\n",
              "    <tr>\n",
              "      <th>1</th>\n",
              "      <td>0.002243</td>\n",
              "      <td>712</td>\n",
              "      <td>POST</td>\n",
              "      <td>1778</td>\n",
              "      <td>http://currencyservice:7000/hipstershop.Curren...</td>\n",
              "      <td>200</td>\n",
              "      <td>frontend</td>\n",
              "      <td>2023-04-15 09:29:27.826092 UTC</td>\n",
              "    </tr>\n",
              "    <tr>\n",
              "      <th>2</th>\n",
              "      <td>0.001678</td>\n",
              "      <td>717</td>\n",
              "      <td>POST</td>\n",
              "      <td>1626</td>\n",
              "      <td>http://currencyservice:7000/hipstershop.Curren...</td>\n",
              "      <td>200</td>\n",
              "      <td>frontend</td>\n",
              "      <td>2023-04-15 09:29:29.543643 UTC</td>\n",
              "    </tr>\n",
              "    <tr>\n",
              "      <th>3</th>\n",
              "      <td>0.001477</td>\n",
              "      <td>717</td>\n",
              "      <td>POST</td>\n",
              "      <td>1626</td>\n",
              "      <td>http://currencyservice:7000/hipstershop.Curren...</td>\n",
              "      <td>200</td>\n",
              "      <td>frontend</td>\n",
              "      <td>2023-04-15 09:29:32.243186 UTC</td>\n",
              "    </tr>\n",
              "    <tr>\n",
              "      <th>4</th>\n",
              "      <td>0.001591</td>\n",
              "      <td>712</td>\n",
              "      <td>POST</td>\n",
              "      <td>1778</td>\n",
              "      <td>http://currencyservice:7000/hipstershop.Curren...</td>\n",
              "      <td>200</td>\n",
              "      <td>frontend</td>\n",
              "      <td>2023-04-15 09:29:31.537701 UTC</td>\n",
              "    </tr>\n",
              "  </tbody>\n",
              "</table>\n",
              "</div>"
            ],
            "text/plain": [
              "    latency requestSize requestMethod responseSize  \\\n",
              "0  0.001479         712          POST         1778   \n",
              "1  0.002243         712          POST         1778   \n",
              "2  0.001678         717          POST         1626   \n",
              "3  0.001477         717          POST         1626   \n",
              "4  0.001591         712          POST         1778   \n",
              "\n",
              "                                          requestUrl status source_app  \\\n",
              "0  http://currencyservice:7000/hipstershop.Curren...    200   frontend   \n",
              "1  http://currencyservice:7000/hipstershop.Curren...    200   frontend   \n",
              "2  http://currencyservice:7000/hipstershop.Curren...    200   frontend   \n",
              "3  http://currencyservice:7000/hipstershop.Curren...    200   frontend   \n",
              "4  http://currencyservice:7000/hipstershop.Curren...    200   frontend   \n",
              "\n",
              "                        timestamp  \n",
              "0  2023-04-15 09:29:32.235081 UTC  \n",
              "1  2023-04-15 09:29:27.826092 UTC  \n",
              "2  2023-04-15 09:29:29.543643 UTC  \n",
              "3  2023-04-15 09:29:32.243186 UTC  \n",
              "4  2023-04-15 09:29:31.537701 UTC  "
            ]
          },
          "execution_count": 1,
          "metadata": {},
          "output_type": "execute_result"
        }
      ],
      "source": [
        "folder_path = './train'  # change this to your folder path\n",
        "data = []\n",
        "errors = 0\n",
        "\n",
        "# Loop through all the files in the folder\n",
        "for filename in os.listdir(folder_path):\n",
        "    if (\"data\" not in filename):\n",
        "        continue\n",
        "    file_path = os.path.join(folder_path, filename)\n",
        "    # Load the JSON file\n",
        "    with open(file_path) as f:\n",
        "        # Extract the relevant features from each log entry\n",
        "        for line in f:\n",
        "            try:\n",
        "                entry = json.loads(line)\n",
        "                # Extract the relevant features from the entry and add them to the data list\n",
        "                features = {'latency': entry['httpRequest']['latency'],\n",
        "                            'requestSize': entry['httpRequest']['requestSize'],\n",
        "                            'requestMethod': entry['httpRequest']['requestMethod'],\n",
        "                            'responseSize': entry['httpRequest']['responseSize'],\n",
        "                            'requestUrl': entry['httpRequest']['requestUrl'],\n",
        "                            'status': entry['httpRequest']['status'],\n",
        "                            'source_app': entry['labels']['source_app'],\n",
        "                            'timestamp': entry['timestamp']}\n",
        "                data.append(features)\n",
        "            except json.JSONDecodeError:\n",
        "                # Handle JSONDecodeError and continue to the next line\n",
        "                errors += 1\n",
        "                # print(f\"Error decoding JSON in file {file_path}: {line}\")\n",
        "                continue\n",
        "\n",
        "# Convert the list of dictionaries into a DataFrame\n",
        "print(\"Number of errors: \" + str(errors))\n",
        "df = pd.DataFrame(data)\n",
        "df.head()"
      ]
    },
    {
      "cell_type": "code",
      "execution_count": null,
      "id": "6535e7f7-c21d-4190-9d63-dbe89ea04906",
      "metadata": {
        "tags": [],
        "id": "6535e7f7-c21d-4190-9d63-dbe89ea04906"
      },
      "outputs": [],
      "source": [
        "#OLD\n",
        "\n",
        "\n",
        "import json\n",
        "import pandas as pd\n",
        "\n",
        "\n",
        "# Load data from JSON file and Convert data to pandas DataFrame\n",
        "df = pd.read_json('data.json', convert_dates=['timestamp'])\n"
      ]
    },
    {
      "cell_type": "code",
      "execution_count": null,
      "id": "6653e514-7d54-4089-b1ce-b55e4dfc68d9",
      "metadata": {
        "tags": [],
        "id": "6653e514-7d54-4089-b1ce-b55e4dfc68d9",
        "outputId": "ec65a216-9d0b-4282-990a-251093100da1"
      },
      "outputs": [
        {
          "ename": "IndexError",
          "evalue": "tuple index out of range",
          "output_type": "error",
          "traceback": [
            "\u001b[0;31m---------------------------------------------------------------------------\u001b[0m",
            "\u001b[0;31mIndexError\u001b[0m                                Traceback (most recent call last)",
            "Input \u001b[0;32mIn [11]\u001b[0m, in \u001b[0;36m<cell line: 4>\u001b[0;34m()\u001b[0m\n\u001b[1;32m      1\u001b[0m \u001b[38;5;28;01mimport\u001b[39;00m \u001b[38;5;21;01mkeras\u001b[39;00m\n\u001b[1;32m      3\u001b[0m model \u001b[38;5;241m=\u001b[39m keras\u001b[38;5;241m.\u001b[39mSequential()\n\u001b[1;32m      4\u001b[0m model\u001b[38;5;241m.\u001b[39madd(keras\u001b[38;5;241m.\u001b[39mlayers\u001b[38;5;241m.\u001b[39mLSTM(\n\u001b[1;32m      5\u001b[0m     units\u001b[38;5;241m=\u001b[39m\u001b[38;5;241m64\u001b[39m,\n\u001b[0;32m----> 6\u001b[0m     input_shape\u001b[38;5;241m=\u001b[39m(X\u001b[38;5;241m.\u001b[39mshape[\u001b[38;5;241m1\u001b[39m], \u001b[43mX\u001b[49m\u001b[38;5;241;43m.\u001b[39;49m\u001b[43mshape\u001b[49m\u001b[43m[\u001b[49m\u001b[38;5;241;43m2\u001b[39;49m\u001b[43m]\u001b[49m)\n\u001b[1;32m      7\u001b[0m ))\n\u001b[1;32m      8\u001b[0m model\u001b[38;5;241m.\u001b[39madd(keras\u001b[38;5;241m.\u001b[39mlayers\u001b[38;5;241m.\u001b[39mDropout(rate\u001b[38;5;241m=\u001b[39m\u001b[38;5;241m0.2\u001b[39m))\n\u001b[1;32m      9\u001b[0m model\u001b[38;5;241m.\u001b[39madd(keras\u001b[38;5;241m.\u001b[39mlayers\u001b[38;5;241m.\u001b[39mRepeatVector(n\u001b[38;5;241m=\u001b[39mX_train\u001b[38;5;241m.\u001b[39mshape[\u001b[38;5;241m1\u001b[39m]))\n",
            "\u001b[0;31mIndexError\u001b[0m: tuple index out of range"
          ]
        }
      ],
      "source": [
        "import keras\n",
        "\n",
        "model = keras.Sequential()\n",
        "model.add(keras.layers.LSTM(\n",
        "    units=64,\n",
        "    input_shape=(X.shape[1], X.shape[2])\n",
        "))\n",
        "model.add(keras.layers.Dropout(rate=0.2))\n",
        "model.add(keras.layers.RepeatVector(n=X_train.shape[1]))\n",
        "model.add(keras.layers.LSTM(units=64, return_sequences=True))\n",
        "model.add(keras.layers.Dropout(rate=0.2))\n",
        "model.add(\n",
        "  keras.layers.TimeDistributed(\n",
        "    keras.layers.Dense(units=X_train.shape[2])\n",
        "  )\n",
        ")\n",
        "\n",
        "model.compile(loss='mae', optimizer='adam')"
      ]
    },
    {
      "cell_type": "code",
      "execution_count": null,
      "id": "6ff948af-ca0d-46c9-9538-12506802c37c",
      "metadata": {
        "tags": [],
        "id": "6ff948af-ca0d-46c9-9538-12506802c37c",
        "outputId": "7ea8b4e5-2f7b-4f89-e990-a0e04f69d832"
      },
      "outputs": [
        {
          "data": {
            "text/plain": [
              "array(['latency', 'requestSize', 'requestMethod', 'responseSize',\n",
              "       'requestUrl', 'status', 'source_app'], dtype=object)"
            ]
          },
          "execution_count": 5,
          "metadata": {},
          "output_type": "execute_result"
        }
      ],
      "source": [
        "#from sklearn.preprocessing import MinMaxScaler\n",
        "\n",
        "# Convert categorical features to one-hot encoded format\n",
        "#df = pd.get_dummies(df, columns=['requestUrl', 'status', 'source_app','requestMethod'])\n",
        "\n",
        "# Normalize the numerical features\n",
        "#scaler = MinMaxScaler()\n",
        "#df[[\"latency\", \"requestSize\", \"responseSize\"]] = scaler.fit_transform(df[[\"latency\", \"requestSize\", \"responseSize\"]])\n",
        "#df.columns.values.astype(list)"
      ]
    },
    {
      "cell_type": "code",
      "execution_count": null,
      "id": "c3986460-43ea-4036-b1bc-29660de47bc0",
      "metadata": {
        "id": "c3986460-43ea-4036-b1bc-29660de47bc0",
        "outputId": "29c9e4b6-b61a-4252-e6b6-868b70224a47"
      },
      "outputs": [
        {
          "name": "stdout",
          "output_type": "stream",
          "text": [
            "8/8 [==============================] - 1s 3ms/step\n",
            "Test MSE: latency                                                                                               0.011552\n",
            "requestSize                                                                                           0.003098\n",
            "responseSize                                                                                          0.053303\n",
            "requestUrl_http://adservice:9555/hipstershop.AdService/GetAds                                         0.063806\n",
            "requestUrl_http://cartservice:7070/hipstershop.CartService/AddItem                                    0.007903\n",
            "requestUrl_http://cartservice:7070/hipstershop.CartService/EmptyCart                                  0.000008\n",
            "requestUrl_http://cartservice:7070/hipstershop.CartService/GetCart                                    0.080683\n",
            "requestUrl_http://checkoutservice:5050/hipstershop.CheckoutService/PlaceOrder                         0.000004\n",
            "requestUrl_http://currencyservice:7000/hipstershop.CurrencyService/Convert                            0.136811\n",
            "requestUrl_http://currencyservice:7000/hipstershop.CurrencyService/GetSupportedCurrencies             0.080350\n",
            "requestUrl_http://emailservice:5000/hipstershop.EmailService/SendOrderConfirmation                    0.000008\n",
            "requestUrl_http://paymentservice:50051/hipstershop.PaymentService/Charge                              0.000009\n",
            "requestUrl_http://productcatalogservice:3550/hipstershop.ProductCatalogService/GetProduct             0.245808\n",
            "requestUrl_http://productcatalogservice:3550/hipstershop.ProductCatalogService/ListProducts           0.067597\n",
            "requestUrl_http://recommendationservice:8080/hipstershop.RecommendationService/ListRecommendations    0.062272\n",
            "requestUrl_http://shippingservice:50051/hipstershop.ShippingService/GetQuote                          0.007981\n",
            "requestUrl_http://shippingservice:50051/hipstershop.ShippingService/ShipOrder                         0.000005\n",
            "status_200                                                                                            0.000073\n",
            "source_app_checkoutservice                                                                            0.001262\n",
            "source_app_frontend                                                                                   0.064354\n",
            "source_app_recommendationservice                                                                      0.060172\n",
            "requestMethod_POST                                                                                    0.000049\n",
            "dtype: float64\n"
          ]
        },
        {
          "name": "stderr",
          "output_type": "stream",
          "text": [
            "/opt/software/lib/python3.9/site-packages/numpy/core/fromnumeric.py:3438: FutureWarning: In a future version, DataFrame.mean(axis=None) will return a scalar mean over the entire DataFrame. To retain the old behavior, use 'frame.mean(axis=0)' or just 'frame.mean()'\n",
            "  return mean(axis=axis, dtype=dtype, out=out, **kwargs)\n"
          ]
        }
      ],
      "source": [
        "\n",
        "test_array = np.array(test)\n",
        "test_array = np.reshape(test_array, (test_array.shape[0], 1, test_array.shape[1]))\n",
        "\n",
        "# Generate predictions on test data\n",
        "y_pred = model.predict(test_array)\n",
        "\n",
        "# Denormalize the predicted values\n",
        "y_pred_denorm = scaler.inverse_transform(y_pred)\n",
        "\n",
        "# Calculate the mean squared error\n",
        "mse = np.mean(np.square(test - y_pred_denorm))\n",
        "\n",
        "print('Test MSE:', mse)\n"
      ]
    },
    {
      "cell_type": "code",
      "execution_count": null,
      "id": "21e8e4ba-8ed5-4d26-8dd0-37441965ac5d",
      "metadata": {
        "id": "21e8e4ba-8ed5-4d26-8dd0-37441965ac5d"
      },
      "outputs": [],
      "source": []
    }
  ],
  "metadata": {
    "kernelspec": {
      "display_name": "Python 3",
      "language": "python",
      "name": "python3"
    },
    "language_info": {
      "codemirror_mode": {
        "name": "ipython",
        "version": 3
      },
      "file_extension": ".py",
      "mimetype": "text/x-python",
      "name": "python",
      "nbconvert_exporter": "python",
      "pygments_lexer": "ipython3",
      "version": "3.9.16"
    },
    "colab": {
      "provenance": [],
      "toc_visible": true,
      "history_visible": true,
      "machine_shape": "hm",
      "gpuType": "A100"
    },
    "accelerator": "GPU",
    "gpuClass": "standard"
  },
  "nbformat": 4,
  "nbformat_minor": 5
}