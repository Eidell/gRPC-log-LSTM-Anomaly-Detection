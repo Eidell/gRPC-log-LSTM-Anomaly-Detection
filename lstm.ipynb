{
  "cells": [
    {
      "cell_type": "code",
      "source": [
        "import tensorflow as tf\n",
        "from tensorflow.keras import layers\n",
        "\n",
        "import os\n",
        "import pandas as pd\n",
        "import json\n",
        "import numpy as np"
      ],
      "metadata": {
        "id": "aZ06re8w5-aY"
      },
      "id": "aZ06re8w5-aY",
      "execution_count": null,
      "outputs": []
    },
    {
      "cell_type": "markdown",
      "source": [
        "### vauth"
      ],
      "metadata": {
        "id": "7vxbc0Yg8le1"
      },
      "id": "7vxbc0Yg8le1"
    },
    {
      "cell_type": "code",
      "source": [
        "from google.colab import auth\n",
        "auth.authenticate_user()\n"
      ],
      "metadata": {
        "id": "PzJxt8VV8kxf"
      },
      "id": "PzJxt8VV8kxf",
      "execution_count": null,
      "outputs": []
    },
    {
      "cell_type": "markdown",
      "source": [
        "# preprosessing"
      ],
      "metadata": {
        "id": "N1jejr4U6Dcs"
      },
      "id": "N1jejr4U6Dcs"
    },
    {
      "cell_type": "markdown",
      "source": [
        "## extract features from files and make a dataframe"
      ],
      "metadata": {
        "id": "9-1tjNKO6HmP"
      },
      "id": "9-1tjNKO6HmP"
    },
    {
      "cell_type": "code",
      "source": [
        "#help function to import data as dataframes\n",
        "def import_to_df(folder, start, end): \n",
        "  \n",
        "  #preprosess filenames\n",
        "  filenamessorted = []\n",
        "  for filename in os.listdir(folder):\n",
        "      if (\"data\" not in filename):\n",
        "          continue\n",
        "      file_path = os.path.join(folder, filename)\n",
        "      with open(file_path) as f:\n",
        "        try: \n",
        "          entry = json.loads(f.readline())\n",
        "          filenamessorted.append((filename,entry['timestamp']))\n",
        "        except:\n",
        "          continue\n",
        "  filenamessorted.sort(key=lambda a: a[1])\n",
        "  files = [t[0] for t in filenamessorted]\n",
        "  filessliced = files[start:end]\n",
        " \n",
        "  print(filessliced)\n",
        "\n",
        "  data = []\n",
        "  errors = 0\n",
        "  for filename in filessliced:\n",
        "      file_path = os.path.join(folder, filename)\n",
        "      with open(file_path) as f:\n",
        "          # Extract the relevant features from each log entry\n",
        "          for line in f:\n",
        "              try:\n",
        "                  entry = json.loads(line)\n",
        "                  # Extract the relevant features from the entry and add them to the data list\n",
        "                  features = {'latency': entry['httpRequest']['latency'],\n",
        "                              'requestSize': entry['httpRequest']['requestSize'],\n",
        "                              'requestMethod': entry['httpRequest']['requestMethod'],\n",
        "                              'responseSize': entry['httpRequest']['responseSize'],\n",
        "                              'requestUrl': entry['httpRequest']['requestUrl'],\n",
        "                              'status': entry['httpRequest']['status'],\n",
        "                              'source_app': entry['labels']['source_app'],\n",
        "                              'timestamp': entry['timestamp']}\n",
        "                  data.append(features)\n",
        "              except json.JSONDecodeError:\n",
        "                  # Handle JSONDecodeError and continue to the next line\n",
        "                  errors += 1\n",
        "                  print(f\"Error decoding JSON in file {file_path}: {line}\")\n",
        "                  continue\n",
        "              except KeyError:\n",
        "                  # Error and continue to the next line\n",
        "                  errors += 1\n",
        "                  print(f\"KEY error in file {file_path}: {line}\")\n",
        "                  continue\n",
        "\n",
        "\n",
        "  # Convert the list of dictionaries into a DataFrame\n",
        "  print(\"Number of errors: \" + str(errors))\n",
        "  df = pd.DataFrame(data)\n",
        "\n",
        "  df['timestamp'] = pd.to_datetime(df['timestamp'], utc=True)\n",
        "  df.set_index('timestamp', inplace=True)\n",
        "  df = df.sort_index()\n",
        "\n",
        "  dforiginal = df.copy()\n",
        "  return df, dforiginal\n"
      ],
      "metadata": {
        "id": "bsPUQSp-5kpb"
      },
      "id": "bsPUQSp-5kpb",
      "execution_count": 112,
      "outputs": []
    },
    {
      "cell_type": "markdown",
      "source": [
        "## import train"
      ],
      "metadata": {
        "id": "qOuulQOpR0ib"
      },
      "id": "qOuulQOpR0ib"
    },
    {
      "cell_type": "code",
      "source": [
        "''' ---- real call:'''\n",
        "#train_df,train_dforiginal = import_to_df(\"/content/normal\",17,40);\n",
        "\n",
        "''' ---- testing calls:'''\n",
        "train_df,train_dforiginal = import_to_df(\"/content/normal\",17,22);\n",
        "train_df.shape"
      ],
      "metadata": {
        "colab": {
          "base_uri": "https://localhost:8080/"
        },
        "id": "sUF_zR0jR7qB",
        "outputId": "085be6db-3f6e-44b6-a133-0d969809ba48"
      },
      "id": "sUF_zR0jR7qB",
      "execution_count": 160,
      "outputs": [
        {
          "output_type": "stream",
          "name": "stdout",
          "text": [
            "['data000000000018', 'data000000000019', 'data000000000021', 'data000000000020', 'data000000000022']\n",
            "Number of errors: 0\n"
          ]
        },
        {
          "output_type": "execute_result",
          "data": {
            "text/plain": [
              "(234807, 7)"
            ]
          },
          "metadata": {},
          "execution_count": 160
        }
      ]
    },
    {
      "cell_type": "markdown",
      "source": [
        "## import test"
      ],
      "metadata": {
        "id": "XZtnlZ51R3dl"
      },
      "id": "XZtnlZ51R3dl"
    },
    {
      "cell_type": "code",
      "source": [
        "''' ---- real call: '''\n",
        "#test_df,test_dforiginal  = import_to_df(\"/content/anomaly\",39, 50);\n",
        "\n",
        "'''---- testing calls:\n",
        "'''\n",
        "test_df, test_dforiginal = import_to_df(\"/content/anomaly\",39,44);\n",
        "test_df.shape"
      ],
      "metadata": {
        "colab": {
          "base_uri": "https://localhost:8080/"
        },
        "id": "4Z2zq2e2SVo7",
        "outputId": "277b83e4-7b1b-4ea3-d9a1-7dd4252835eb"
      },
      "execution_count": 163,
      "outputs": [
        {
          "output_type": "stream",
          "name": "stdout",
          "text": [
            "['data-000000000046', 'data-000000000034', 'data-000000000030', 'data-000000000048', 'data-000000000043']\n",
            "Number of errors: 0\n"
          ]
        },
        {
          "output_type": "execute_result",
          "data": {
            "text/plain": [
              "(195606, 7)"
            ]
          },
          "metadata": {},
          "execution_count": 163
        }
      ],
      "id": "4Z2zq2e2SVo7"
    },
    {
      "cell_type": "markdown",
      "source": [
        "## Latency"
      ],
      "metadata": {
        "id": "ZV26tOIZyP94"
      },
      "id": "ZV26tOIZyP94"
    },
    {
      "cell_type": "markdown",
      "source": [
        "### plot"
      ],
      "metadata": {
        "id": "HAum_Ssf5oEV"
      },
      "id": "HAum_Ssf5oEV"
    },
    {
      "cell_type": "code",
      "source": [
        "import pandas as pd\n",
        "import numpy as np\n",
        "import matplotlib.pyplot as plt\n",
        "\n",
        "\n",
        "latency_mean = train_df['latency'].mean()\n",
        "latency_std = train_df['latency'].std()\n",
        "thresholds = []\n",
        "\n",
        "for i in range(4):\n",
        "\n",
        "# Define threshold for abnormal latency as three standard deviations away from the mean of TrainDF\n",
        "  thresholds.append(latency_mean + i*latency_std)\n",
        "\n",
        "# Define empty lists to store results\n",
        "train_labels_list = []\n",
        "train_fractions_list = []\n",
        "test_labels_list = []\n",
        "test_fractions_list = []\n",
        "\n",
        "# Loop over threshold values\n",
        "for threshold in thresholds:\n",
        "\n",
        "    train_df['latency_label'] = np.where(train_df['latency'] > threshold, 1, 0)\n",
        "    test_df['latency_label'] = np.where(test_df['latency'] > threshold, 1, 0)\n",
        "\n",
        "    # Compute fraction of abnormal latencies\n",
        "    train_fraction = train_df['latency_label'].value_counts()[1]/train_df.shape[0]\n",
        "    test_fraction = test_df['latency_label'].value_counts()[1]/test_df.shape[0]\n",
        "    #test_fraction = test_df['latency_label'].mean()\n",
        "\n",
        "    # Append results to lists\n",
        "    train_labels_list.append(train_df['latency_label'])\n",
        "    train_fractions_list.append(train_fraction)\n",
        "    test_labels_list.append(test_df['latency_label'])\n",
        "    test_fractions_list.append(test_fraction)\n",
        "\n",
        "\n",
        "# Plot results\n",
        "plt.plot(thresholds, train_fractions_list, label='Train')\n",
        "plt.plot(thresholds, test_fractions_list, label='Test')\n",
        "plt.legend()\n",
        "plt.xlabel('Threshold')\n",
        "plt.ylabel('Fraction of abnormal latencies')\n",
        "plt.show()\n",
        "\n",
        "# Create table of results\n",
        "results = pd.DataFrame({'Threshold': thresholds, 'Train Fraction': train_fractions_list, 'Test Fraction': test_fractions_list})\n",
        "print(results)\n"
      ],
      "metadata": {
        "id": "HORaB4Z_yOgE",
        "outputId": "f6d860e2-39c0-4ebb-b192-b653a7d3ebd5",
        "colab": {
          "base_uri": "https://localhost:8080/",
          "height": 541
        }
      },
      "id": "HORaB4Z_yOgE",
      "execution_count": 116,
      "outputs": [
        {
          "output_type": "display_data",
          "data": {
            "text/plain": [
              "<Figure size 640x480 with 1 Axes>"
            ],
            "image/png": "[encoded data removed]"
          },
          "metadata": {}
        },
        {
          "output_type": "stream",
          "name": "stdout",
          "text": [
            "   Threshold  Train Fraction  Test Fraction\n",
            "0   0.009487        0.165548       0.167446\n",
            "1   0.033471        0.110739       0.111746\n",
            "2   0.057456        0.061928       0.061611\n",
            "3   0.081440        0.012603       0.012920\n"
          ]
        }
      ]
    },
    {
      "cell_type": "code",
      "source": [
        "train_df['latency_label'].value_counts(),test_df['latency_label'].value_counts()"
      ],
      "metadata": {
        "id": "mBqZ5zmJzyVF",
        "outputId": "969e92e1-363d-4832-f2d6-8720e40801ba",
        "colab": {
          "base_uri": "https://localhost:8080/",
          "height": 617
        }
      },
      "id": "mBqZ5zmJzyVF",
      "execution_count": 157,
      "outputs": [
        {
          "output_type": "error",
          "ename": "KeyError",
          "evalue": "ignored",
          "traceback": [
            "\u001b[0;31m---------------------------------------------------------------------------\u001b[0m",
            "\u001b[0;31mKeyError\u001b[0m                                  Traceback (most recent call last)",
            "\u001b[0;32m/usr/local/lib/python3.10/dist-packages/pandas/core/indexes/base.py\u001b[0m in \u001b[0;36mget_loc\u001b[0;34m(self, key, method, tolerance)\u001b[0m\n\u001b[1;32m   3801\u001b[0m             \u001b[0;32mtry\u001b[0m\u001b[0;34m:\u001b[0m\u001b[0;34m\u001b[0m\u001b[0;34m\u001b[0m\u001b[0m\n\u001b[0;32m-> 3802\u001b[0;31m                 \u001b[0;32mreturn\u001b[0m \u001b[0mself\u001b[0m\u001b[0;34m.\u001b[0m\u001b[0m_engine\u001b[0m\u001b[0;34m.\u001b[0m\u001b[0mget_loc\u001b[0m\u001b[0;34m(\u001b[0m\u001b[0mcasted_key\u001b[0m\u001b[0;34m)\u001b[0m\u001b[0;34m\u001b[0m\u001b[0;34m\u001b[0m\u001b[0m\n\u001b[0m\u001b[1;32m   3803\u001b[0m             \u001b[0;32mexcept\u001b[0m \u001b[0mKeyError\u001b[0m \u001b[0;32mas\u001b[0m \u001b[0merr\u001b[0m\u001b[0;34m:\u001b[0m\u001b[0;34m\u001b[0m\u001b[0;34m\u001b[0m\u001b[0m\n",
            "\u001b[0;32m/usr/local/lib/python3.10/dist-packages/pandas/_libs/index.pyx\u001b[0m in \u001b[0;36mpandas._libs.index.IndexEngine.get_loc\u001b[0;34m()\u001b[0m\n",
            "\u001b[0;32m/usr/local/lib/python3.10/dist-packages/pandas/_libs/index.pyx\u001b[0m in \u001b[0;36mpandas._libs.index.IndexEngine.get_loc\u001b[0;34m()\u001b[0m\n",
            "\u001b[0;32mpandas/_libs/hashtable_class_helper.pxi\u001b[0m in \u001b[0;36mpandas._libs.hashtable.PyObjectHashTable.get_item\u001b[0;34m()\u001b[0m\n",
            "\u001b[0;32mpandas/_libs/hashtable_class_helper.pxi\u001b[0m in \u001b[0;36mpandas._libs.hashtable.PyObjectHashTable.get_item\u001b[0;34m()\u001b[0m\n",
            "\u001b[0;31mKeyError\u001b[0m: 'latency_label'",
            "\nThe above exception was the direct cause of the following exception:\n",
            "\u001b[0;31mKeyError\u001b[0m                                  Traceback (most recent call last)",
            "\u001b[0;32m<ipython-input-157-526293e32d19>\u001b[0m in \u001b[0;36m<cell line: 1>\u001b[0;34m()\u001b[0m\n\u001b[0;32m----> 1\u001b[0;31m \u001b[0mtrain_df\u001b[0m\u001b[0;34m[\u001b[0m\u001b[0;34m'latency_label'\u001b[0m\u001b[0;34m]\u001b[0m\u001b[0;34m.\u001b[0m\u001b[0mvalue_counts\u001b[0m\u001b[0;34m(\u001b[0m\u001b[0;34m)\u001b[0m\u001b[0;34m,\u001b[0m\u001b[0mtest_df\u001b[0m\u001b[0;34m[\u001b[0m\u001b[0;34m'latency_label'\u001b[0m\u001b[0;34m]\u001b[0m\u001b[0;34m.\u001b[0m\u001b[0mvalue_counts\u001b[0m\u001b[0;34m(\u001b[0m\u001b[0;34m)\u001b[0m\u001b[0;34m\u001b[0m\u001b[0;34m\u001b[0m\u001b[0m\n\u001b[0m",
            "\u001b[0;32m/usr/local/lib/python3.10/dist-packages/pandas/core/frame.py\u001b[0m in \u001b[0;36m__getitem__\u001b[0;34m(self, key)\u001b[0m\n\u001b[1;32m   3805\u001b[0m             \u001b[0;32mif\u001b[0m \u001b[0mself\u001b[0m\u001b[0;34m.\u001b[0m\u001b[0mcolumns\u001b[0m\u001b[0;34m.\u001b[0m\u001b[0mnlevels\u001b[0m \u001b[0;34m>\u001b[0m \u001b[0;36m1\u001b[0m\u001b[0;34m:\u001b[0m\u001b[0;34m\u001b[0m\u001b[0;34m\u001b[0m\u001b[0m\n\u001b[1;32m   3806\u001b[0m                 \u001b[0;32mreturn\u001b[0m \u001b[0mself\u001b[0m\u001b[0;34m.\u001b[0m\u001b[0m_getitem_multilevel\u001b[0m\u001b[0;34m(\u001b[0m\u001b[0mkey\u001b[0m\u001b[0;34m)\u001b[0m\u001b[0;34m\u001b[0m\u001b[0;34m\u001b[0m\u001b[0m\n\u001b[0;32m-> 3807\u001b[0;31m             \u001b[0mindexer\u001b[0m \u001b[0;34m=\u001b[0m \u001b[0mself\u001b[0m\u001b[0;34m.\u001b[0m\u001b[0mcolumns\u001b[0m\u001b[0;34m.\u001b[0m\u001b[0mget_loc\u001b[0m\u001b[0;34m(\u001b[0m\u001b[0mkey\u001b[0m\u001b[0;34m)\u001b[0m\u001b[0;34m\u001b[0m\u001b[0;34m\u001b[0m\u001b[0m\n\u001b[0m\u001b[1;32m   3808\u001b[0m             \u001b[0;32mif\u001b[0m \u001b[0mis_integer\u001b[0m\u001b[0;34m(\u001b[0m\u001b[0mindexer\u001b[0m\u001b[0;34m)\u001b[0m\u001b[0;34m:\u001b[0m\u001b[0;34m\u001b[0m\u001b[0;34m\u001b[0m\u001b[0m\n\u001b[1;32m   3809\u001b[0m                 \u001b[0mindexer\u001b[0m \u001b[0;34m=\u001b[0m \u001b[0;34m[\u001b[0m\u001b[0mindexer\u001b[0m\u001b[0;34m]\u001b[0m\u001b[0;34m\u001b[0m\u001b[0;34m\u001b[0m\u001b[0m\n",
            "\u001b[0;32m/usr/local/lib/python3.10/dist-packages/pandas/core/indexes/base.py\u001b[0m in \u001b[0;36mget_loc\u001b[0;34m(self, key, method, tolerance)\u001b[0m\n\u001b[1;32m   3802\u001b[0m                 \u001b[0;32mreturn\u001b[0m \u001b[0mself\u001b[0m\u001b[0;34m.\u001b[0m\u001b[0m_engine\u001b[0m\u001b[0;34m.\u001b[0m\u001b[0mget_loc\u001b[0m\u001b[0;34m(\u001b[0m\u001b[0mcasted_key\u001b[0m\u001b[0;34m)\u001b[0m\u001b[0;34m\u001b[0m\u001b[0;34m\u001b[0m\u001b[0m\n\u001b[1;32m   3803\u001b[0m             \u001b[0;32mexcept\u001b[0m \u001b[0mKeyError\u001b[0m \u001b[0;32mas\u001b[0m \u001b[0merr\u001b[0m\u001b[0;34m:\u001b[0m\u001b[0;34m\u001b[0m\u001b[0;34m\u001b[0m\u001b[0m\n\u001b[0;32m-> 3804\u001b[0;31m                 \u001b[0;32mraise\u001b[0m \u001b[0mKeyError\u001b[0m\u001b[0;34m(\u001b[0m\u001b[0mkey\u001b[0m\u001b[0;34m)\u001b[0m \u001b[0;32mfrom\u001b[0m \u001b[0merr\u001b[0m\u001b[0;34m\u001b[0m\u001b[0;34m\u001b[0m\u001b[0m\n\u001b[0m\u001b[1;32m   3805\u001b[0m             \u001b[0;32mexcept\u001b[0m \u001b[0mTypeError\u001b[0m\u001b[0;34m:\u001b[0m\u001b[0;34m\u001b[0m\u001b[0;34m\u001b[0m\u001b[0m\n\u001b[1;32m   3806\u001b[0m                 \u001b[0;31m# If we have a listlike key, _check_indexing_error will raise\u001b[0m\u001b[0;34m\u001b[0m\u001b[0;34m\u001b[0m\u001b[0m\n",
            "\u001b[0;31mKeyError\u001b[0m: 'latency_label'"
          ]
        }
      ]
    },
    {
      "cell_type": "markdown",
      "source": [
        "### determine"
      ],
      "metadata": {
        "id": "Fs3serfm55UH"
      },
      "id": "Fs3serfm55UH"
    },
    {
      "cell_type": "code",
      "source": [
        "latency_threshold = (latency_mean + 1*latency_std)\n",
        "\n",
        "train_df['latency_label'] = np.where(train_df['latency'] > latency_threshold, 1, 0)\n",
        "test_df['latency_label'] = np.where(test_df['latency'] > latency_threshold, 1, 0)\n"
      ],
      "metadata": {
        "id": "DNIAXCnW5wwu"
      },
      "id": "DNIAXCnW5wwu",
      "execution_count": 164,
      "outputs": []
    },
    {
      "cell_type": "markdown",
      "source": [
        "## backup and debugging"
      ],
      "metadata": {
        "id": "UidQOBjfXJPN"
      },
      "id": "UidQOBjfXJPN"
    },
    {
      "cell_type": "code",
      "execution_count": null,
      "id": "eee56b51-2f00-46c4-bb92-34139fb5786b",
      "metadata": {
        "colab": {
          "base_uri": "https://localhost:8080/"
        },
        "id": "eee56b51-2f00-46c4-bb92-34139fb5786b",
        "outputId": "c806ad40-1d69-42e3-e737-eb6291c42285"
      },
      "outputs": [
        {
          "output_type": "stream",
          "name": "stdout",
          "text": [
            "(10000, 7) 10000\n",
            "(10000, 7) 10000\n"
          ]
        }
      ],
      "source": [
        "print(train_dforiginal.shape, len(train_df))\n",
        "print(test_dforiginal.shape, len(test_df))\n"
      ]
    },
    {
      "cell_type": "code",
      "source": [
        "earliest_train = train_df.index.min()\n",
        "latest_train = train_df.index.max()\n",
        "earliest_test = test_df.index.min()\n",
        "latest_test = test_df.index.max()\n",
        "\n",
        "print(\"Earliest train timestamp:\", earliest_train)\n",
        "print(\"Latest train timestamp:\", latest_train)\n",
        "print(\"Earliest test timestamp:\", earliest_test)\n",
        "print(\"Latest test timestamp:\", latest_test)\n"
      ],
      "metadata": {
        "colab": {
          "base_uri": "https://localhost:8080/"
        },
        "id": "gGOhJS_zR9uU",
        "outputId": "79b36db4-1310-4f90-ef74-f1aa1573f181"
      },
      "id": "gGOhJS_zR9uU",
      "execution_count": null,
      "outputs": [
        {
          "output_type": "stream",
          "name": "stdout",
          "text": [
            "Earliest train timestamp: 2023-04-18 00:28:36.741168+00:00\n",
            "Latest train timestamp: 2023-04-18 00:57:39.686390+00:00\n",
            "Earliest test timestamp: 2023-04-21 00:07:40.949091+00:00\n",
            "Latest test timestamp: 2023-04-21 01:07:49.241144+00:00\n"
          ]
        }
      ]
    },
    {
      "cell_type": "code",
      "source": [
        "# in case of error\n",
        "train_df = train_dforiginal\n",
        "test_df = test_dforiginal\n",
        "\n",
        "print(train_df.head)\n",
        "print(test_df.head)"
      ],
      "metadata": {
        "id": "gGvQCW9nWkjt"
      },
      "id": "gGvQCW9nWkjt",
      "execution_count": null,
      "outputs": []
    },
    {
      "cell_type": "markdown",
      "source": [
        "## create keys and dummies"
      ],
      "metadata": {
        "id": "cxF-5KAKXLRZ"
      },
      "id": "cxF-5KAKXLRZ"
    },
    {
      "cell_type": "code",
      "source": [
        "train_df.to_csv('trainfinal.csv', index=True)\n",
        "test_df.to_csv('testfinal.csv', index=True)"
      ],
      "metadata": {
        "id": "bVs2LKb7rf8k"
      },
      "id": "bVs2LKb7rf8k",
      "execution_count": 120,
      "outputs": []
    },
    {
      "cell_type": "code",
      "execution_count": 165,
      "id": "9a1f3b4a-fba7-411a-a625-a7d6f6d76e1c",
      "metadata": {
        "id": "9a1f3b4a-fba7-411a-a625-a7d6f6d76e1c"
      },
      "outputs": [],
      "source": [
        "# concatenate the dataframes\n",
        "df_concat = pd.concat([test_df, train_df], axis=0)\n",
        "\n",
        "\n",
        "# create keys for both dataframes\n",
        "df_concat['key'] = df_concat.groupby(['latency_label', 'requestSize', 'requestMethod', 'responseSize',\n",
        "       'requestUrl', 'status', 'source_app'], dropna=False).ngroup()\n",
        "\n",
        "# get dummies for the 'key' column\n",
        "df_concat=df_concat[['key']]\n",
        "df_concat = pd.get_dummies(df_concat, columns=['key'])\n",
        "\n",
        "\n",
        "# split back into original dataframes\n",
        "test_df = df_concat.iloc[:len(test_df), :]\n",
        "train_df = df_concat.iloc[len(test_df):, :]"
      ]
    },
    {
      "cell_type": "code",
      "execution_count": 166,
      "id": "054aa215-7c50-41b9-91e3-c6710279bd5b",
      "metadata": {
        "id": "054aa215-7c50-41b9-91e3-c6710279bd5b",
        "colab": {
          "base_uri": "https://localhost:8080/"
        },
        "outputId": "ec2de68d-b025-4a7d-b694-11b2812086d5"
      },
      "outputs": [
        {
          "output_type": "stream",
          "name": "stdout",
          "text": [
            "(234807, 540)\n",
            "(195606, 540)\n",
            "                                  key_0  key_1  key_2  key_3  key_4  key_5  \\\n",
            "timestamp                                                                    \n",
            "2023-04-21 13:06:18.757041+00:00      0      0      0      0      0      0   \n",
            "2023-04-21 13:06:23.974268+00:00      0      0      0      0      0      0   \n",
            "2023-04-21 13:06:24.258780+00:00      0      0      0      0      0      0   \n",
            "2023-04-21 13:06:24.379785+00:00      0      0      0      0      0      0   \n",
            "2023-04-21 13:06:24.383645+00:00      0      0      0      0      0      0   \n",
            "\n",
            "                                  key_6  key_7  key_8  key_9  ...  key_530  \\\n",
            "timestamp                                                     ...            \n",
            "2023-04-21 13:06:18.757041+00:00      0      0      0      0  ...        0   \n",
            "2023-04-21 13:06:23.974268+00:00      0      0      0      0  ...        0   \n",
            "2023-04-21 13:06:24.258780+00:00      0      0      0      0  ...        0   \n",
            "2023-04-21 13:06:24.379785+00:00      0      0      0      0  ...        0   \n",
            "2023-04-21 13:06:24.383645+00:00      0      0      0      0  ...        0   \n",
            "\n",
            "                                  key_531  key_532  key_533  key_534  key_535  \\\n",
            "timestamp                                                                       \n",
            "2023-04-21 13:06:18.757041+00:00        0        0        0        0        0   \n",
            "2023-04-21 13:06:23.974268+00:00        0        0        0        0        0   \n",
            "2023-04-21 13:06:24.258780+00:00        0        0        0        0        0   \n",
            "2023-04-21 13:06:24.379785+00:00        0        0        0        0        0   \n",
            "2023-04-21 13:06:24.383645+00:00        0        0        0        0        0   \n",
            "\n",
            "                                  key_536  key_537  key_538  key_539  \n",
            "timestamp                                                             \n",
            "2023-04-21 13:06:18.757041+00:00        0        0        0        0  \n",
            "2023-04-21 13:06:23.974268+00:00        0        0        0        0  \n",
            "2023-04-21 13:06:24.258780+00:00        0        0        0        0  \n",
            "2023-04-21 13:06:24.379785+00:00        0        0        0        0  \n",
            "2023-04-21 13:06:24.383645+00:00        0        0        0        0  \n",
            "\n",
            "[5 rows x 540 columns]\n"
          ]
        }
      ],
      "source": [
        "print(train_df.shape)\n",
        "print(test_df.shape)\n",
        "print(test_df.head())"
      ]
    },
    {
      "cell_type": "markdown",
      "source": [
        "# AUTOENCODER"
      ],
      "metadata": {
        "id": "5aNuJy31zy9K"
      },
      "id": "5aNuJy31zy9K"
    },
    {
      "cell_type": "markdown",
      "source": [
        "## gpu test"
      ],
      "metadata": {
        "id": "PBd0DewyVlX7"
      },
      "id": "PBd0DewyVlX7"
    },
    {
      "cell_type": "code",
      "source": [
        "import tensorflow as tf\n",
        "\n",
        "gpus = tf.config.experimental.list_physical_devices('GPU')\n",
        "if gpus:\n",
        "    try:\n",
        "        for gpu in gpus:\n",
        "            tf.config.experimental.set_memory_growth(gpu, True)\n",
        "    except RuntimeError as e:\n",
        "        print(e)"
      ],
      "metadata": {
        "id": "H6OvhVJj9Uoi"
      },
      "id": "H6OvhVJj9Uoi",
      "execution_count": null,
      "outputs": []
    },
    {
      "cell_type": "code",
      "source": [
        "import tensorflow as tf\n",
        "device_name = tf.test.gpu_device_name()\n",
        "if device_name != '/device:GPU:0':\n",
        "  raise SystemError('GPU device not found')\n",
        "print('Found GPU at: {}'.format(device_name))\n",
        "tf.config.experimental.list_physical_devices('GPU')"
      ],
      "metadata": {
        "colab": {
          "base_uri": "https://localhost:8080/"
        },
        "id": "XdfD6s3loCUP",
        "outputId": "13e39d7c-9cee-4edb-af08-604f1a831dfd"
      },
      "id": "XdfD6s3loCUP",
      "execution_count": null,
      "outputs": [
        {
          "output_type": "stream",
          "name": "stdout",
          "text": [
            "Found GPU at: /device:GPU:0\n"
          ]
        },
        {
          "output_type": "execute_result",
          "data": {
            "text/plain": [
              "[PhysicalDevice(name='/physical_device:GPU:0', device_type='GPU')]"
            ]
          },
          "metadata": {},
          "execution_count": 12
        }
      ]
    },
    {
      "cell_type": "markdown",
      "source": [
        "## timeseries"
      ],
      "metadata": {
        "id": "UQwZkIaU0wut"
      },
      "id": "UQwZkIaU0wut"
    },
    {
      "cell_type": "code",
      "source": [
        "\n",
        "\n",
        "num_steps = 20\n",
        "features = train_df.shape[1]\n",
        "\n",
        "train_batches = (train_df.shape[0] // num_steps) * num_steps\n",
        "train_data = train_df.iloc[:train_batches]\n",
        "\n",
        "features = train_df.shape[1]\n",
        "x_train_shaped = np.reshape(train_data.to_numpy(), newshape=(-1, num_steps, features))\n"
      ],
      "metadata": {
        "id": "Cj80aj_fkZRK"
      },
      "id": "Cj80aj_fkZRK",
      "execution_count": 123,
      "outputs": []
    },
    {
      "cell_type": "code",
      "source": [
        "test_batches = (test_df.shape[0] // num_steps) * num_steps\n",
        "test_data = test_df.iloc[:test_batches]\n",
        "\n",
        "features = test_df.shape[1]\n",
        "x_test_shaped = np.reshape(test_data.to_numpy(), newshape=(-1, num_steps, features))\n"
      ],
      "metadata": {
        "id": "X9nQ8Uj10QZZ"
      },
      "id": "X9nQ8Uj10QZZ",
      "execution_count": 147,
      "outputs": []
    },
    {
      "cell_type": "code",
      "source": [
        "x_train_shaped.shape, x_test_shaped.shape"
      ],
      "metadata": {
        "colab": {
          "base_uri": "https://localhost:8080/"
        },
        "id": "VhwPznhCpfFl",
        "outputId": "5a70fa1e-5fab-43a1-dc84-d54bbe5a9901"
      },
      "id": "VhwPznhCpfFl",
      "execution_count": 127,
      "outputs": [
        {
          "output_type": "execute_result",
          "data": {
            "text/plain": [
              "((41714, 20, 615), (20174, 20, 615))"
            ]
          },
          "metadata": {},
          "execution_count": 127
        }
      ]
    },
    {
      "cell_type": "markdown",
      "source": [
        "## define model"
      ],
      "metadata": {
        "id": "x5NGuLqBjv-u"
      },
      "id": "x5NGuLqBjv-u"
    },
    {
      "cell_type": "code",
      "source": [
        "import keras\n",
        "from keras.models import Sequential\n",
        "from keras.layers import LSTM\n",
        "from keras.layers import RepeatVector\n",
        "from keras.layers import TimeDistributed\n",
        "from keras.layers import Dense\n",
        "\n",
        "\n",
        "# Define the model \n",
        "model = Sequential()\n",
        "\n",
        "# Encoder\n",
        "model.add(LSTM(128, activation='tanh', input_shape=(x_train_shaped.shape[1],x_train_shaped.shape[2]), return_sequences=True))\n",
        "model.add(LSTM(64, activation='tanh', return_sequences=False))\n",
        "model.add(RepeatVector(x_train_shaped.shape[1]))\n",
        "\n",
        "# Decoder\n",
        "model.add(LSTM(64, activation='tanh', return_sequences=True))\n",
        "model.add(LSTM(128, activation='tanh', return_sequences=True))\n",
        "model.add(TimeDistributed(Dense(x_train_shaped.shape[2])))\n",
        "\n",
        "model.compile(optimizer='adam', loss='mse',metrics=['accuracy'])\n",
        "model.summary()\n"
      ],
      "metadata": {
        "colab": {
          "base_uri": "https://localhost:8080/"
        },
        "id": "d4n9u8xUHlxZ",
        "outputId": "eb12bc2e-c044-43ad-fdbb-3ed312f0ff65"
      },
      "id": "d4n9u8xUHlxZ",
      "execution_count": 128,
      "outputs": [
        {
          "output_type": "stream",
          "name": "stdout",
          "text": [
            "Model: \"sequential_4\"\n",
            "_________________________________________________________________\n",
            " Layer (type)                Output Shape              Param #   \n",
            "=================================================================\n",
            " lstm_16 (LSTM)              (None, 20, 128)           380928    \n",
            "                                                                 \n",
            " lstm_17 (LSTM)              (None, 64)                49408     \n",
            "                                                                 \n",
            " repeat_vector_4 (RepeatVect  (None, 20, 64)           0         \n",
            " or)                                                             \n",
            "                                                                 \n",
            " lstm_18 (LSTM)              (None, 20, 64)            33024     \n",
            "                                                                 \n",
            " lstm_19 (LSTM)              (None, 20, 128)           98816     \n",
            "                                                                 \n",
            " time_distributed_4 (TimeDis  (None, 20, 615)          79335     \n",
            " tributed)                                                       \n",
            "                                                                 \n",
            "=================================================================\n",
            "Total params: 641,511\n",
            "Trainable params: 641,511\n",
            "Non-trainable params: 0\n",
            "_________________________________________________________________\n"
          ]
        }
      ]
    },
    {
      "cell_type": "code",
      "source": [
        "model.layers[0].input_shape\n"
      ],
      "metadata": {
        "colab": {
          "base_uri": "https://localhost:8080/"
        },
        "id": "yxLL35klpa0w",
        "outputId": "fb7782aa-d78b-4b53-8d95-a52e37a33f4a"
      },
      "id": "yxLL35klpa0w",
      "execution_count": 129,
      "outputs": [
        {
          "output_type": "execute_result",
          "data": {
            "text/plain": [
              "(None, 20, 615)"
            ]
          },
          "metadata": {},
          "execution_count": 129
        }
      ]
    },
    {
      "cell_type": "markdown",
      "source": [
        "### fit"
      ],
      "metadata": {
        "id": "YjBrS-zhy0mI"
      },
      "id": "YjBrS-zhy0mI"
    },
    {
      "cell_type": "code",
      "source": [
        "import matplotlib.pyplot as plt\n",
        "\n",
        "epochs = 250\n",
        "checkpoint_filepath = '/tmp/checkpoint'\n",
        "model_checkpoint_callback = tf.keras.callbacks.ModelCheckpoint(\n",
        "    filepath=checkpoint_filepath,\n",
        "    save_weights_only=True,\n",
        "    monitor='val_accuracy',\n",
        "    mode='max',\n",
        "    save_best_only=True)\n",
        "\n",
        "# Model weights are saved at the end of every epoch, if it's the best seen\n",
        "# so far.\n",
        "\n",
        "history = model.fit(x_train_shaped,x_train_shaped, epochs=epochs, validation_split=0.2, callbacks=[model_checkpoint_callback])\n",
        "\n",
        "# Plot training and validation loss over epochs\n",
        "loss = history.history['loss']\n",
        "val_loss = history.history['val_loss']\n",
        "epochs = range(len(loss))\n",
        "\n",
        "plt.figure()\n",
        "plt.plot(epochs, loss, 'r', label='Training loss')\n",
        "plt.plot(epochs, val_loss, 'b', label='Validation loss')\n",
        "plt.title('Training and validation loss')\n",
        "plt.legend()\n",
        "plt.show()"
      ],
      "metadata": {
        "colab": {
          "base_uri": "https://localhost:8080/",
          "height": 509
        },
        "id": "WV4tW8L7xGo_",
        "outputId": "9470721b-2847-4959-b3e4-85b9c919acb2"
      },
      "id": "WV4tW8L7xGo_",
      "execution_count": 170,
      "outputs": [
        {
          "output_type": "stream",
          "name": "stdout",
          "text": [
            "Epoch 1/250\n",
            " 304/1043 [=======>......................] - ETA: 7s - loss: 2.5502e-04 - accuracy: 0.8751"
          ]
        },
        {
          "output_type": "error",
          "ename": "KeyboardInterrupt",
          "evalue": "ignored",
          "traceback": [
            "\u001b[0;31m---------------------------------------------------------------------------\u001b[0m",
            "\u001b[0;31mKeyboardInterrupt\u001b[0m                         Traceback (most recent call last)",
            "\u001b[0;32m<ipython-input-170-d2441c60dbe7>\u001b[0m in \u001b[0;36m<cell line: 15>\u001b[0;34m()\u001b[0m\n\u001b[1;32m     13\u001b[0m \u001b[0;31m# so far.\u001b[0m\u001b[0;34m\u001b[0m\u001b[0;34m\u001b[0m\u001b[0m\n\u001b[1;32m     14\u001b[0m \u001b[0;34m\u001b[0m\u001b[0m\n\u001b[0;32m---> 15\u001b[0;31m \u001b[0mhistory\u001b[0m \u001b[0;34m=\u001b[0m \u001b[0mmodel\u001b[0m\u001b[0;34m.\u001b[0m\u001b[0mfit\u001b[0m\u001b[0;34m(\u001b[0m\u001b[0mx_train_shaped\u001b[0m\u001b[0;34m,\u001b[0m\u001b[0mx_train_shaped\u001b[0m\u001b[0;34m,\u001b[0m \u001b[0mepochs\u001b[0m\u001b[0;34m=\u001b[0m\u001b[0mepochs\u001b[0m\u001b[0;34m,\u001b[0m \u001b[0mvalidation_split\u001b[0m\u001b[0;34m=\u001b[0m\u001b[0;36m0.2\u001b[0m\u001b[0;34m,\u001b[0m \u001b[0mcallbacks\u001b[0m\u001b[0;34m=\u001b[0m\u001b[0;34m[\u001b[0m\u001b[0mmodel_checkpoint_callback\u001b[0m\u001b[0;34m]\u001b[0m\u001b[0;34m)\u001b[0m\u001b[0;34m\u001b[0m\u001b[0;34m\u001b[0m\u001b[0m\n\u001b[0m\u001b[1;32m     16\u001b[0m \u001b[0;34m\u001b[0m\u001b[0m\n\u001b[1;32m     17\u001b[0m \u001b[0;31m# Plot training and validation loss over epochs\u001b[0m\u001b[0;34m\u001b[0m\u001b[0;34m\u001b[0m\u001b[0m\n",
            "\u001b[0;32m/usr/local/lib/python3.10/dist-packages/keras/utils/traceback_utils.py\u001b[0m in \u001b[0;36merror_handler\u001b[0;34m(*args, **kwargs)\u001b[0m\n\u001b[1;32m     63\u001b[0m         \u001b[0mfiltered_tb\u001b[0m \u001b[0;34m=\u001b[0m \u001b[0;32mNone\u001b[0m\u001b[0;34m\u001b[0m\u001b[0;34m\u001b[0m\u001b[0m\n\u001b[1;32m     64\u001b[0m         \u001b[0;32mtry\u001b[0m\u001b[0;34m:\u001b[0m\u001b[0;34m\u001b[0m\u001b[0;34m\u001b[0m\u001b[0m\n\u001b[0;32m---> 65\u001b[0;31m             \u001b[0;32mreturn\u001b[0m \u001b[0mfn\u001b[0m\u001b[0;34m(\u001b[0m\u001b[0;34m*\u001b[0m\u001b[0margs\u001b[0m\u001b[0;34m,\u001b[0m \u001b[0;34m**\u001b[0m\u001b[0mkwargs\u001b[0m\u001b[0;34m)\u001b[0m\u001b[0;34m\u001b[0m\u001b[0;34m\u001b[0m\u001b[0m\n\u001b[0m\u001b[1;32m     66\u001b[0m         \u001b[0;32mexcept\u001b[0m \u001b[0mException\u001b[0m \u001b[0;32mas\u001b[0m \u001b[0me\u001b[0m\u001b[0;34m:\u001b[0m\u001b[0;34m\u001b[0m\u001b[0;34m\u001b[0m\u001b[0m\n\u001b[1;32m     67\u001b[0m             \u001b[0mfiltered_tb\u001b[0m \u001b[0;34m=\u001b[0m \u001b[0m_process_traceback_frames\u001b[0m\u001b[0;34m(\u001b[0m\u001b[0me\u001b[0m\u001b[0;34m.\u001b[0m\u001b[0m__traceback__\u001b[0m\u001b[0;34m)\u001b[0m\u001b[0;34m\u001b[0m\u001b[0;34m\u001b[0m\u001b[0m\n",
            "\u001b[0;32m/usr/local/lib/python3.10/dist-packages/keras/engine/training.py\u001b[0m in \u001b[0;36mfit\u001b[0;34m(self, x, y, batch_size, epochs, verbose, callbacks, validation_split, validation_data, shuffle, class_weight, sample_weight, initial_epoch, steps_per_epoch, validation_steps, validation_batch_size, validation_freq, max_queue_size, workers, use_multiprocessing)\u001b[0m\n\u001b[1;32m   1683\u001b[0m                         ):\n\u001b[1;32m   1684\u001b[0m                             \u001b[0mcallbacks\u001b[0m\u001b[0;34m.\u001b[0m\u001b[0mon_train_batch_begin\u001b[0m\u001b[0;34m(\u001b[0m\u001b[0mstep\u001b[0m\u001b[0;34m)\u001b[0m\u001b[0;34m\u001b[0m\u001b[0;34m\u001b[0m\u001b[0m\n\u001b[0;32m-> 1685\u001b[0;31m                             \u001b[0mtmp_logs\u001b[0m \u001b[0;34m=\u001b[0m \u001b[0mself\u001b[0m\u001b[0;34m.\u001b[0m\u001b[0mtrain_function\u001b[0m\u001b[0;34m(\u001b[0m\u001b[0miterator\u001b[0m\u001b[0;34m)\u001b[0m\u001b[0;34m\u001b[0m\u001b[0;34m\u001b[0m\u001b[0m\n\u001b[0m\u001b[1;32m   1686\u001b[0m                             \u001b[0;32mif\u001b[0m \u001b[0mdata_handler\u001b[0m\u001b[0;34m.\u001b[0m\u001b[0mshould_sync\u001b[0m\u001b[0;34m:\u001b[0m\u001b[0;34m\u001b[0m\u001b[0;34m\u001b[0m\u001b[0m\n\u001b[1;32m   1687\u001b[0m                                 \u001b[0mcontext\u001b[0m\u001b[0;34m.\u001b[0m\u001b[0masync_wait\u001b[0m\u001b[0;34m(\u001b[0m\u001b[0;34m)\u001b[0m\u001b[0;34m\u001b[0m\u001b[0;34m\u001b[0m\u001b[0m\n",
            "\u001b[0;32m/usr/local/lib/python3.10/dist-packages/tensorflow/python/util/traceback_utils.py\u001b[0m in \u001b[0;36merror_handler\u001b[0;34m(*args, **kwargs)\u001b[0m\n\u001b[1;32m    148\u001b[0m     \u001b[0mfiltered_tb\u001b[0m \u001b[0;34m=\u001b[0m \u001b[0;32mNone\u001b[0m\u001b[0;34m\u001b[0m\u001b[0;34m\u001b[0m\u001b[0m\n\u001b[1;32m    149\u001b[0m     \u001b[0;32mtry\u001b[0m\u001b[0;34m:\u001b[0m\u001b[0;34m\u001b[0m\u001b[0;34m\u001b[0m\u001b[0m\n\u001b[0;32m--> 150\u001b[0;31m       \u001b[0;32mreturn\u001b[0m \u001b[0mfn\u001b[0m\u001b[0;34m(\u001b[0m\u001b[0;34m*\u001b[0m\u001b[0margs\u001b[0m\u001b[0;34m,\u001b[0m \u001b[0;34m**\u001b[0m\u001b[0mkwargs\u001b[0m\u001b[0;34m)\u001b[0m\u001b[0;34m\u001b[0m\u001b[0;34m\u001b[0m\u001b[0m\n\u001b[0m\u001b[1;32m    151\u001b[0m     \u001b[0;32mexcept\u001b[0m \u001b[0mException\u001b[0m \u001b[0;32mas\u001b[0m \u001b[0me\u001b[0m\u001b[0;34m:\u001b[0m\u001b[0;34m\u001b[0m\u001b[0;34m\u001b[0m\u001b[0m\n\u001b[1;32m    152\u001b[0m       \u001b[0mfiltered_tb\u001b[0m \u001b[0;34m=\u001b[0m \u001b[0m_process_traceback_frames\u001b[0m\u001b[0;34m(\u001b[0m\u001b[0me\u001b[0m\u001b[0;34m.\u001b[0m\u001b[0m__traceback__\u001b[0m\u001b[0;34m)\u001b[0m\u001b[0;34m\u001b[0m\u001b[0;34m\u001b[0m\u001b[0m\n",
            "\u001b[0;32m/usr/local/lib/python3.10/dist-packages/tensorflow/python/eager/polymorphic_function/polymorphic_function.py\u001b[0m in \u001b[0;36m__call__\u001b[0;34m(self, *args, **kwds)\u001b[0m\n\u001b[1;32m    892\u001b[0m \u001b[0;34m\u001b[0m\u001b[0m\n\u001b[1;32m    893\u001b[0m       \u001b[0;32mwith\u001b[0m \u001b[0mOptionalXlaContext\u001b[0m\u001b[0;34m(\u001b[0m\u001b[0mself\u001b[0m\u001b[0;34m.\u001b[0m\u001b[0m_jit_compile\u001b[0m\u001b[0;34m)\u001b[0m\u001b[0;34m:\u001b[0m\u001b[0;34m\u001b[0m\u001b[0;34m\u001b[0m\u001b[0m\n\u001b[0;32m--> 894\u001b[0;31m         \u001b[0mresult\u001b[0m \u001b[0;34m=\u001b[0m \u001b[0mself\u001b[0m\u001b[0;34m.\u001b[0m\u001b[0m_call\u001b[0m\u001b[0;34m(\u001b[0m\u001b[0;34m*\u001b[0m\u001b[0margs\u001b[0m\u001b[0;34m,\u001b[0m \u001b[0;34m**\u001b[0m\u001b[0mkwds\u001b[0m\u001b[0;34m)\u001b[0m\u001b[0;34m\u001b[0m\u001b[0;34m\u001b[0m\u001b[0m\n\u001b[0m\u001b[1;32m    895\u001b[0m \u001b[0;34m\u001b[0m\u001b[0m\n\u001b[1;32m    896\u001b[0m       \u001b[0mnew_tracing_count\u001b[0m \u001b[0;34m=\u001b[0m \u001b[0mself\u001b[0m\u001b[0;34m.\u001b[0m\u001b[0mexperimental_get_tracing_count\u001b[0m\u001b[0;34m(\u001b[0m\u001b[0;34m)\u001b[0m\u001b[0;34m\u001b[0m\u001b[0;34m\u001b[0m\u001b[0m\n",
            "\u001b[0;32m/usr/local/lib/python3.10/dist-packages/tensorflow/python/eager/polymorphic_function/polymorphic_function.py\u001b[0m in \u001b[0;36m_call\u001b[0;34m(self, *args, **kwds)\u001b[0m\n\u001b[1;32m    924\u001b[0m       \u001b[0;31m# In this case we have created variables on the first call, so we run the\u001b[0m\u001b[0;34m\u001b[0m\u001b[0;34m\u001b[0m\u001b[0m\n\u001b[1;32m    925\u001b[0m       \u001b[0;31m# defunned version which is guaranteed to never create variables.\u001b[0m\u001b[0;34m\u001b[0m\u001b[0;34m\u001b[0m\u001b[0m\n\u001b[0;32m--> 926\u001b[0;31m       \u001b[0;32mreturn\u001b[0m \u001b[0mself\u001b[0m\u001b[0;34m.\u001b[0m\u001b[0m_no_variable_creation_fn\u001b[0m\u001b[0;34m(\u001b[0m\u001b[0;34m*\u001b[0m\u001b[0margs\u001b[0m\u001b[0;34m,\u001b[0m \u001b[0;34m**\u001b[0m\u001b[0mkwds\u001b[0m\u001b[0;34m)\u001b[0m  \u001b[0;31m# pylint: disable=not-callable\u001b[0m\u001b[0;34m\u001b[0m\u001b[0;34m\u001b[0m\u001b[0m\n\u001b[0m\u001b[1;32m    927\u001b[0m     \u001b[0;32melif\u001b[0m \u001b[0mself\u001b[0m\u001b[0;34m.\u001b[0m\u001b[0m_variable_creation_fn\u001b[0m \u001b[0;32mis\u001b[0m \u001b[0;32mnot\u001b[0m \u001b[0;32mNone\u001b[0m\u001b[0;34m:\u001b[0m\u001b[0;34m\u001b[0m\u001b[0;34m\u001b[0m\u001b[0m\n\u001b[1;32m    928\u001b[0m       \u001b[0;31m# Release the lock early so that multiple threads can perform the call\u001b[0m\u001b[0;34m\u001b[0m\u001b[0;34m\u001b[0m\u001b[0m\n",
            "\u001b[0;32m/usr/local/lib/python3.10/dist-packages/tensorflow/python/eager/polymorphic_function/tracing_compiler.py\u001b[0m in \u001b[0;36m__call__\u001b[0;34m(self, *args, **kwargs)\u001b[0m\n\u001b[1;32m    141\u001b[0m       (concrete_function,\n\u001b[1;32m    142\u001b[0m        filtered_flat_args) = self._maybe_define_function(args, kwargs)\n\u001b[0;32m--> 143\u001b[0;31m     return concrete_function._call_flat(\n\u001b[0m\u001b[1;32m    144\u001b[0m         filtered_flat_args, captured_inputs=concrete_function.captured_inputs)  # pylint: disable=protected-access\n\u001b[1;32m    145\u001b[0m \u001b[0;34m\u001b[0m\u001b[0m\n",
            "\u001b[0;32m/usr/local/lib/python3.10/dist-packages/tensorflow/python/eager/polymorphic_function/monomorphic_function.py\u001b[0m in \u001b[0;36m_call_flat\u001b[0;34m(self, args, captured_inputs, cancellation_manager)\u001b[0m\n\u001b[1;32m   1755\u001b[0m         and executing_eagerly):\n\u001b[1;32m   1756\u001b[0m       \u001b[0;31m# No tape is watching; skip to running the function.\u001b[0m\u001b[0;34m\u001b[0m\u001b[0;34m\u001b[0m\u001b[0m\n\u001b[0;32m-> 1757\u001b[0;31m       return self._build_call_outputs(self._inference_function.call(\n\u001b[0m\u001b[1;32m   1758\u001b[0m           ctx, args, cancellation_manager=cancellation_manager))\n\u001b[1;32m   1759\u001b[0m     forward_backward = self._select_forward_and_backward_functions(\n",
            "\u001b[0;32m/usr/local/lib/python3.10/dist-packages/tensorflow/python/eager/polymorphic_function/monomorphic_function.py\u001b[0m in \u001b[0;36mcall\u001b[0;34m(self, ctx, args, cancellation_manager)\u001b[0m\n\u001b[1;32m    379\u001b[0m       \u001b[0;32mwith\u001b[0m \u001b[0m_InterpolateFunctionError\u001b[0m\u001b[0;34m(\u001b[0m\u001b[0mself\u001b[0m\u001b[0;34m)\u001b[0m\u001b[0;34m:\u001b[0m\u001b[0;34m\u001b[0m\u001b[0;34m\u001b[0m\u001b[0m\n\u001b[1;32m    380\u001b[0m         \u001b[0;32mif\u001b[0m \u001b[0mcancellation_manager\u001b[0m \u001b[0;32mis\u001b[0m \u001b[0;32mNone\u001b[0m\u001b[0;34m:\u001b[0m\u001b[0;34m\u001b[0m\u001b[0;34m\u001b[0m\u001b[0m\n\u001b[0;32m--> 381\u001b[0;31m           outputs = execute.execute(\n\u001b[0m\u001b[1;32m    382\u001b[0m               \u001b[0mstr\u001b[0m\u001b[0;34m(\u001b[0m\u001b[0mself\u001b[0m\u001b[0;34m.\u001b[0m\u001b[0msignature\u001b[0m\u001b[0;34m.\u001b[0m\u001b[0mname\u001b[0m\u001b[0;34m)\u001b[0m\u001b[0;34m,\u001b[0m\u001b[0;34m\u001b[0m\u001b[0;34m\u001b[0m\u001b[0m\n\u001b[1;32m    383\u001b[0m               \u001b[0mnum_outputs\u001b[0m\u001b[0;34m=\u001b[0m\u001b[0mself\u001b[0m\u001b[0;34m.\u001b[0m\u001b[0m_num_outputs\u001b[0m\u001b[0;34m,\u001b[0m\u001b[0;34m\u001b[0m\u001b[0;34m\u001b[0m\u001b[0m\n",
            "\u001b[0;32m/usr/local/lib/python3.10/dist-packages/tensorflow/python/eager/execute.py\u001b[0m in \u001b[0;36mquick_execute\u001b[0;34m(op_name, num_outputs, inputs, attrs, ctx, name)\u001b[0m\n\u001b[1;32m     50\u001b[0m   \u001b[0;32mtry\u001b[0m\u001b[0;34m:\u001b[0m\u001b[0;34m\u001b[0m\u001b[0;34m\u001b[0m\u001b[0m\n\u001b[1;32m     51\u001b[0m     \u001b[0mctx\u001b[0m\u001b[0;34m.\u001b[0m\u001b[0mensure_initialized\u001b[0m\u001b[0;34m(\u001b[0m\u001b[0;34m)\u001b[0m\u001b[0;34m\u001b[0m\u001b[0;34m\u001b[0m\u001b[0m\n\u001b[0;32m---> 52\u001b[0;31m     tensors = pywrap_tfe.TFE_Py_Execute(ctx._handle, device_name, op_name,\n\u001b[0m\u001b[1;32m     53\u001b[0m                                         inputs, attrs, num_outputs)\n\u001b[1;32m     54\u001b[0m   \u001b[0;32mexcept\u001b[0m \u001b[0mcore\u001b[0m\u001b[0;34m.\u001b[0m\u001b[0m_NotOkStatusException\u001b[0m \u001b[0;32mas\u001b[0m \u001b[0me\u001b[0m\u001b[0;34m:\u001b[0m\u001b[0;34m\u001b[0m\u001b[0;34m\u001b[0m\u001b[0m\n",
            "\u001b[0;31mKeyboardInterrupt\u001b[0m: "
          ]
        }
      ]
    },
    {
      "cell_type": "code",
      "source": [
        "import matplotlib.pyplot as plt\n",
        "\n",
        "# load the best weights\n",
        "model.load_weights(checkpoint_filepath)\n",
        "\n",
        "# Get the value of the validation accuracy at each epoch\n",
        "val_acc = history.history['val_accuracy']\n",
        "\n",
        "# Get the epoch with the highest validation accuracy\n",
        "best_epoch = np.argmax(val_acc)\n",
        "\n",
        "# plot accuracy\n",
        "plt.plot(model.history.history['accuracy'])\n",
        "plt.plot(model.history.history['val_accuracy'])\n",
        "plt.title('Model accuracy')\n",
        "plt.ylabel('Accuracy')\n",
        "plt.xlabel('Epoch')\n",
        "plt.legend(['Train', 'Validation'], loc='upper left')\n",
        "plt.show()\n"
      ],
      "metadata": {
        "colab": {
          "base_uri": "https://localhost:8080/",
          "height": 472
        },
        "id": "zufSrS6XQFH0",
        "outputId": "248f92b4-a47d-485e-cf05-c66ce808bb06"
      },
      "id": "zufSrS6XQFH0",
      "execution_count": 131,
      "outputs": [
        {
          "output_type": "display_data",
          "data": {
            "text/plain": [
              "<Figure size 640x480 with 1 Axes>"
            ],
            "image/png": "[encoded data removed]"
          },
          "metadata": {}
        }
      ]
    },
    {
      "cell_type": "code",
      "source": [
        "import matplotlib.pyplot as plt\n",
        "import numpy as np\n",
        "\n",
        "# Assuming you have already defined val_acc and best_epoch as shown in the previous code snippet\n",
        "\n",
        "# Plot validation accuracy vs. epoch\n",
        "epochs = range(1, len(val_acc) + 1)\n",
        "plt.plot(epochs, val_acc, 'b', label='Validation accuracy')\n",
        "\n",
        "# Add a point at the best epoch\n",
        "best_val_acc = val_acc[best_epoch]\n",
        "plt.plot(best_epoch + 1, best_val_acc, 'bo', label=f'Best epoch ({best_epoch + 1}, {best_val_acc:.2f})')\n",
        "\n",
        "# Add labels and legend\n",
        "plt.title('Validation accuracy')\n",
        "plt.xlabel('Epoch')\n",
        "plt.ylabel('Accuracy')\n",
        "plt.legend()\n",
        "\n",
        "plt.show()\n"
      ],
      "metadata": {
        "colab": {
          "base_uri": "https://localhost:8080/",
          "height": 472
        },
        "id": "BEGN0QkzSAu4",
        "outputId": "7df2dbc6-0757-4e91-d97c-d47db61cb47f"
      },
      "id": "BEGN0QkzSAu4",
      "execution_count": 132,
      "outputs": [
        {
          "output_type": "display_data",
          "data": {
            "text/plain": [
              "<Figure size 640x480 with 1 Axes>"
            ],
            "image/png": "[encoded data removed]"
          },
          "metadata": {}
        }
      ]
    },
    {
      "cell_type": "markdown",
      "source": [
        "### predict train"
      ],
      "metadata": {
        "id": "m-9YUXIxyywL"
      },
      "id": "m-9YUXIxyywL"
    },
    {
      "cell_type": "code",
      "source": [
        "X_pred = model.predict(x_train_shaped)\n",
        "X_pred_test = model.predict(x_test_shaped)\n",
        "model.save('model{}.h5'.format(timesteps))"
      ],
      "metadata": {
        "colab": {
          "base_uri": "https://localhost:8080/"
        },
        "id": "toMD7PI2tDUC",
        "outputId": "ef32a82e-1c18-4886-af70-3fddc9ae86bd"
      },
      "id": "toMD7PI2tDUC",
      "execution_count": 133,
      "outputs": [
        {
          "output_type": "stream",
          "name": "stdout",
          "text": [
            "1304/1304 [==============================] - 7s 4ms/step\n"
          ]
        }
      ]
    },
    {
      "cell_type": "markdown",
      "source": [
        "### Predict test"
      ],
      "metadata": {
        "id": "c47rtlh7yvYO"
      },
      "id": "c47rtlh7yvYO"
    },
    {
      "cell_type": "code",
      "source": [],
      "metadata": {
        "colab": {
          "base_uri": "https://localhost:8080/"
        },
        "id": "d7jNFWIRDSe_",
        "outputId": "bbbaa349-dccd-4e43-a7ce-c8c92b19cffd"
      },
      "id": "d7jNFWIRDSe_",
      "execution_count": 146,
      "outputs": [
        {
          "output_type": "stream",
          "name": "stdout",
          "text": [
            "631/631 [==============================] - 3s 4ms/step\n"
          ]
        }
      ]
    },
    {
      "cell_type": "markdown",
      "source": [
        "### save model"
      ],
      "metadata": {
        "id": "bM3QLgsAaYSD"
      },
      "id": "bM3QLgsAaYSD"
    },
    {
      "cell_type": "code",
      "source": [
        "# save the model\n"
      ],
      "metadata": {
        "id": "G8FcC2jk7JHf"
      },
      "id": "G8FcC2jk7JHf",
      "execution_count": 135,
      "outputs": []
    },
    {
      "cell_type": "markdown",
      "source": [
        "# Classify"
      ],
      "metadata": {
        "id": "es0PBpSCx_wO"
      },
      "id": "es0PBpSCx_wO"
    },
    {
      "cell_type": "code",
      "source": [
        "from sklearn.metrics import mean_squared_error\n",
        "\n",
        "# Iterate over each sequence in X_train\n",
        "\n",
        "def calc_mse(X,X_predict):\n",
        "  mse_list = []\n",
        "  for i in range(X.shape[0]):\n",
        "      # Get the current sequence\n",
        "      sequence = X[i]\n",
        "\n",
        "      # Calculate the mean squared error for the sequence\n",
        "      mse = mean_squared_error(sequence, X_predict[i])\n",
        "      mse_list.append(mse)\n",
        "  return mse_list"
      ],
      "metadata": {
        "id": "jaMbMvT6tZ3M"
      },
      "execution_count": 136,
      "outputs": [],
      "id": "jaMbMvT6tZ3M"
    },
    {
      "cell_type": "code",
      "source": [
        "mse_train = calc_mse(x_train_shaped, X_pred)\n",
        "mse_test = calc_mse(x_test_shaped, X_pred_test)\n"
      ],
      "metadata": {
        "id": "FPZgKEEluQZO"
      },
      "id": "FPZgKEEluQZO",
      "execution_count": 148,
      "outputs": []
    },
    {
      "cell_type": "markdown",
      "source": [
        "# approx the best threshold"
      ],
      "metadata": {
        "id": "PkrtfSlPaK1t"
      },
      "id": "PkrtfSlPaK1t"
    },
    {
      "cell_type": "code",
      "source": [
        "import pandas as pd\n",
        "import numpy as np\n",
        "def threshold_loop(mse_train,mse_test):\n",
        "  mean_error = np.mean(mse_train)\n",
        "  std_error = np.std(mse_train)\n",
        "\n",
        "  def classify(mse_list, threshold):\n",
        "    classified = []\n",
        "    for i in range(len(mse_list)):\n",
        "      classified.append(0 if mse_list[i] < threshold else 1)\n",
        "    return classified\n",
        "\n",
        "  # Set threshold as a certain number of standard deviations from the mean\n",
        "  std_deviations = [0.1, 0.5, 1, 1.1, 1.25, 1.3, 1.4, 1.5, 1.75, 2,2.5, 3]\n",
        "  results = []\n",
        "\n",
        "  for num_std in std_deviations:\n",
        "    threshold = mean_error + num_std * std_error\n",
        "    train_classified = classify(mse_train, threshold)\n",
        "    test_classified = classify(mse_test, threshold)\n",
        "\n",
        "    TP = test_classified.count(1)\n",
        "    FP = train_classified.count(1)\n",
        "    TN = train_classified.count(0)\n",
        "    FN = test_classified.count(0)\n",
        "    try:\n",
        "      accuracy = (TP + TN) / (TP + FP + TN + FN)\n",
        "      precision = TP / (TP + FP)\n",
        "      recall = TP / (TP + FN)\n",
        "      f1_score = 2 * (precision * recall) / (precision + recall)\n",
        "      specificity = TN / (TN + FP)\n",
        "      fpr = FP / (TN + FP)\n",
        "    except Exception as err:\n",
        "      print(err)\n",
        "      continue\n",
        "    results.append({\n",
        "        'SDs': num_std,\n",
        "        'Threshold': threshold,\n",
        "        'Accuracy': accuracy,\n",
        "        'Precision': precision,\n",
        "        'Recall': recall,\n",
        "        'F1-score': f1_score,\n",
        "        'Specificity': specificity,\n",
        "        'FPR': fpr\n",
        "    })\n",
        "\n",
        "  # Create table of results\n",
        "  results_df = pd.DataFrame(results)\n",
        "\n",
        "  return results_df\n"
      ],
      "metadata": {
        "id": "zQ6kZhH8aJ4f"
      },
      "id": "zQ6kZhH8aJ4f",
      "execution_count": 197,
      "outputs": []
    },
    {
      "cell_type": "code",
      "source": [
        "results_df = threshold_loop(mse_train,mse_test)\n",
        "results_df"
      ],
      "metadata": {
        "colab": {
          "base_uri": "https://localhost:8080/",
          "height": 171
        },
        "id": "673cYTmKhHi5",
        "outputId": "513c8335-1830-44e7-8ce2-175c07724d2a"
      },
      "id": "673cYTmKhHi5",
      "execution_count": 143,
      "outputs": [
        {
          "output_type": "error",
          "ename": "NameError",
          "evalue": "ignored",
          "traceback": [
            "\u001b[0;31m---------------------------------------------------------------------------\u001b[0m",
            "\u001b[0;31mNameError\u001b[0m                                 Traceback (most recent call last)",
            "\u001b[0;32m<ipython-input-143-2b7c813217d0>\u001b[0m in \u001b[0;36m<cell line: 1>\u001b[0;34m()\u001b[0m\n\u001b[0;32m----> 1\u001b[0;31m \u001b[0mresults_df\u001b[0m \u001b[0;34m=\u001b[0m \u001b[0mthreshold_loop\u001b[0m\u001b[0;34m(\u001b[0m\u001b[0mmse_train\u001b[0m\u001b[0;34m,\u001b[0m\u001b[0mmse_test\u001b[0m\u001b[0;34m)\u001b[0m\u001b[0;34m\u001b[0m\u001b[0;34m\u001b[0m\u001b[0m\n\u001b[0m",
            "\u001b[0;31mNameError\u001b[0m: name 'threshold_loop' is not defined"
          ]
        }
      ]
    },
    {
      "cell_type": "code",
      "source": [
        "results_df.style.to_latex()"
      ],
      "metadata": {
        "colab": {
          "base_uri": "https://localhost:8080/",
          "height": 171
        },
        "id": "rrTDBBpFjz5j",
        "outputId": "5e045e93-9101-4002-d542-a62fff5935d7"
      },
      "id": "rrTDBBpFjz5j",
      "execution_count": 111,
      "outputs": [
        {
          "output_type": "error",
          "ename": "TypeError",
          "evalue": "ignored",
          "traceback": [
            "\u001b[0;31m---------------------------------------------------------------------------\u001b[0m",
            "\u001b[0;31mTypeError\u001b[0m                                 Traceback (most recent call last)",
            "\u001b[0;32m<ipython-input-111-45353dc28fab>\u001b[0m in \u001b[0;36m<cell line: 1>\u001b[0;34m()\u001b[0m\n\u001b[0;32m----> 1\u001b[0;31m \u001b[0mresults_df\u001b[0m\u001b[0;34m.\u001b[0m\u001b[0mstyle\u001b[0m\u001b[0;34m.\u001b[0m\u001b[0mto_latex\u001b[0m\u001b[0;34m(\u001b[0m\u001b[0mindex\u001b[0m\u001b[0;34m=\u001b[0m\u001b[0;32mFalse\u001b[0m\u001b[0;34m)\u001b[0m\u001b[0;34m\u001b[0m\u001b[0;34m\u001b[0m\u001b[0m\n\u001b[0m",
            "\u001b[0;31mTypeError\u001b[0m: Styler.to_latex() got an unexpected keyword argument 'index'"
          ]
        }
      ]
    },
    {
      "cell_type": "markdown",
      "source": [
        "# AUTOENCODER AS FUNCTION"
      ],
      "metadata": {
        "id": "EvjbL2695Kp8"
      },
      "id": "EvjbL2695Kp8"
    },
    {
      "cell_type": "code",
      "source": [
        "import keras\n",
        "from keras.models import Sequential\n",
        "from keras.layers import LSTM\n",
        "from keras.layers import RepeatVector\n",
        "from keras.layers import TimeDistributed\n",
        "from keras.layers import Dense\n",
        "\n",
        "window_results_df = pd.DataFrame(columns=['seq_len', 'best_acc'])\n",
        "\n",
        "def autoencode(seq_len, epochs):\n",
        "  \n",
        "  #print('TRAINDF SHAPE: ' + str(train_df.shape))\n",
        "  '''preprosses'''\n",
        "  def shape(df):\n",
        "    features = train_df.shape[1]\n",
        "    batches = (df.shape[0] // seq_len) * seq_len\n",
        "    data = df.iloc[:batches]\n",
        "\n",
        "    df_shaped = np.reshape(data.to_numpy(), newshape=(-1, seq_len, features))\n",
        "\n",
        "    return df_shaped\n",
        "\n",
        "\n",
        "  x_train_shaped = shape(train_df.copy())\n",
        "  x_test_shaped = shape(test_df.copy())\n",
        "  #print(\"X_TRAIN_SHAPED SHAPE: \" + str(x_train_shaped.shape))\n",
        "  '''define model'''\n",
        "  model = Sequential()\n",
        "\n",
        "  # Encoder\n",
        "  model.add(LSTM(128, activation='tanh', input_shape=(x_train_shaped.shape[1],x_train_shaped.shape[2]), return_sequences=True))\n",
        "  model.add(LSTM(64, activation='tanh', return_sequences=False))\n",
        "  model.add(RepeatVector(x_train_shaped.shape[1]))\n",
        "\n",
        "  # Decoder\n",
        "  model.add(LSTM(64, activation='tanh', return_sequences=True))\n",
        "  model.add(LSTM(128, activation='tanh', return_sequences=True))\n",
        "  model.add(TimeDistributed(Dense(x_train_shaped.shape[2])))\n",
        "\n",
        "  model.compile(optimizer='adam', loss='mse',metrics=['accuracy'])\n",
        "  print(\"******* SUMMARY WITH SEQ_LEN: \" + str(seq_len))\n",
        "  print(model.summary())\n",
        "\n",
        "  '''fit'''\n",
        "\n",
        "  checkpoint_filepath = '/tmp/checkpoint'\n",
        "  model_checkpoint_callback = tf.keras.callbacks.ModelCheckpoint(\n",
        "    filepath=checkpoint_filepath,\n",
        "    save_weights_only=True,\n",
        "    monitor='val_accuracy',\n",
        "    mode='max',\n",
        "    save_best_only=True)\n",
        "\n",
        "\n",
        "  history = model.fit(x_train_shaped,x_train_shaped, epochs=epochs, validation_split=0.2, callbacks=[model_checkpoint_callback])\n",
        "\n",
        "  # Plot training and validation loss over epochs\n",
        "  loss = history.history['loss']\n",
        "  val_loss = history.history['val_loss']\n",
        "  epochs = range(len(loss))\n",
        "\n",
        "  plt.figure()\n",
        "  plt.plot(epochs, loss, 'r', label='Training loss')\n",
        "  plt.plot(epochs, val_loss, 'b', label='Validation loss')\n",
        "  plt.title('Training and validation loss at seq len {}'.format(seq_len))\n",
        "  plt.legend()\n",
        "  plt.show()\n",
        "\n",
        "  ''''pred & results '''\n",
        "\n",
        "  print(\"****** PREDICTING *******\")\n",
        "  X_pred = model.predict(x_train_shaped)\n",
        "  X_pred_test = model.predict(x_test_shaped)\n",
        "  #model.save('model{}.h5'.format(seq_len))\n",
        "\n",
        "  #print(\"****** MSE CALC *******\")\n",
        "  mse_train = calc_mse(x_train_shaped, X_pred)\n",
        "  mse_test = calc_mse(x_test_shaped, X_pred_test)\n",
        "\n",
        "  print(\"****** {} THRESHOLD LOOPING *******\".format(seq_len))\n",
        "  current_results_df = threshold_loop(mse_train,mse_test)\n",
        "\n",
        "  '''  print(\"********* RESULTS ********\")\n",
        "    print(current_results_df)\n",
        "    print(\"***********\")\n",
        "  '''\n",
        "  best_row = current_results_df.iloc[current_results_df['Accuracy'].idxmax()]\n",
        "  window_results_df.loc[seq_len] = [seq_len, best_row]\n",
        "  \n",
        "  "
      ],
      "metadata": {
        "id": "igmVLZT95NJC"
      },
      "id": "igmVLZT95NJC",
      "execution_count": 203,
      "outputs": []
    },
    {
      "cell_type": "code",
      "source": [
        "window_results_df = pd.DataFrame(columns=['seq_len', 'best_row'])\n",
        "epochs = 100\n",
        "for seq_len in [20,30,50,70,100]:\n",
        "  autoencode(seq_len, epochs)\n",
        "window_results_df"
      ],
      "metadata": {
        "colab": {
          "base_uri": "https://localhost:8080/",
          "height": 874
        },
        "id": "LXU5Plsub5sp",
        "outputId": "42e47be7-bfe8-4978-f754-3fa45674b270"
      },
      "id": "LXU5Plsub5sp",
      "execution_count": 206,
      "outputs": [
        {
          "output_type": "stream",
          "name": "stdout",
          "text": [
            "******* SUMMARY WITH SEQ_LEN: 20\n",
            "Model: \"sequential_27\"\n",
            "_________________________________________________________________\n",
            " Layer (type)                Output Shape              Param #   \n",
            "=================================================================\n",
            " lstm_108 (LSTM)             (None, 20, 128)           342528    \n",
            "                                                                 \n",
            " lstm_109 (LSTM)             (None, 64)                49408     \n",
            "                                                                 \n",
            " repeat_vector_27 (RepeatVec  (None, 20, 64)           0         \n",
            " tor)                                                            \n",
            "                                                                 \n",
            " lstm_110 (LSTM)             (None, 20, 64)            33024     \n",
            "                                                                 \n",
            " lstm_111 (LSTM)             (None, 20, 128)           98816     \n",
            "                                                                 \n",
            " time_distributed_27 (TimeDi  (None, 20, 540)          69660     \n",
            " stributed)                                                      \n",
            "                                                                 \n",
            "=================================================================\n",
            "Total params: 593,436\n",
            "Trainable params: 593,436\n",
            "Non-trainable params: 0\n",
            "_________________________________________________________________\n",
            "None\n",
            "Epoch 1/100\n"
          ]
        },
        {
          "output_type": "error",
          "ename": "KeyboardInterrupt",
          "evalue": "ignored",
          "traceback": [
            "\u001b[0;31m---------------------------------------------------------------------------\u001b[0m",
            "\u001b[0;31mKeyboardInterrupt\u001b[0m                         Traceback (most recent call last)",
            "\u001b[0;32m<ipython-input-206-797b6ee369d2>\u001b[0m in \u001b[0;36m<cell line: 3>\u001b[0;34m()\u001b[0m\n\u001b[1;32m      2\u001b[0m \u001b[0mepochs\u001b[0m \u001b[0;34m=\u001b[0m \u001b[0;36m100\u001b[0m\u001b[0;34m\u001b[0m\u001b[0;34m\u001b[0m\u001b[0m\n\u001b[1;32m      3\u001b[0m \u001b[0;32mfor\u001b[0m \u001b[0mseq_len\u001b[0m \u001b[0;32min\u001b[0m \u001b[0;34m[\u001b[0m\u001b[0;36m20\u001b[0m\u001b[0;34m,\u001b[0m\u001b[0;36m30\u001b[0m\u001b[0;34m,\u001b[0m\u001b[0;36m50\u001b[0m\u001b[0;34m,\u001b[0m\u001b[0;36m70\u001b[0m\u001b[0;34m,\u001b[0m\u001b[0;36m100\u001b[0m\u001b[0;34m]\u001b[0m\u001b[0;34m:\u001b[0m\u001b[0;34m\u001b[0m\u001b[0;34m\u001b[0m\u001b[0m\n\u001b[0;32m----> 4\u001b[0;31m   \u001b[0mautoencode\u001b[0m\u001b[0;34m(\u001b[0m\u001b[0mseq_len\u001b[0m\u001b[0;34m,\u001b[0m \u001b[0mepochs\u001b[0m\u001b[0;34m)\u001b[0m\u001b[0;34m\u001b[0m\u001b[0;34m\u001b[0m\u001b[0m\n\u001b[0m\u001b[1;32m      5\u001b[0m \u001b[0mwindow_results_df\u001b[0m\u001b[0;34m\u001b[0m\u001b[0;34m\u001b[0m\u001b[0m\n",
            "\u001b[0;32m<ipython-input-203-52960ee7ea9e>\u001b[0m in \u001b[0;36mautoencode\u001b[0;34m(seq_len, epochs)\u001b[0m\n\u001b[1;32m     53\u001b[0m \u001b[0;34m\u001b[0m\u001b[0m\n\u001b[1;32m     54\u001b[0m \u001b[0;34m\u001b[0m\u001b[0m\n\u001b[0;32m---> 55\u001b[0;31m   \u001b[0mhistory\u001b[0m \u001b[0;34m=\u001b[0m \u001b[0mmodel\u001b[0m\u001b[0;34m.\u001b[0m\u001b[0mfit\u001b[0m\u001b[0;34m(\u001b[0m\u001b[0mx_train_shaped\u001b[0m\u001b[0;34m,\u001b[0m\u001b[0mx_train_shaped\u001b[0m\u001b[0;34m,\u001b[0m \u001b[0mepochs\u001b[0m\u001b[0;34m=\u001b[0m\u001b[0mepochs\u001b[0m\u001b[0;34m,\u001b[0m \u001b[0mvalidation_split\u001b[0m\u001b[0;34m=\u001b[0m\u001b[0;36m0.2\u001b[0m\u001b[0;34m,\u001b[0m \u001b[0mcallbacks\u001b[0m\u001b[0;34m=\u001b[0m\u001b[0;34m[\u001b[0m\u001b[0mmodel_checkpoint_callback\u001b[0m\u001b[0;34m]\u001b[0m\u001b[0;34m)\u001b[0m\u001b[0;34m\u001b[0m\u001b[0;34m\u001b[0m\u001b[0m\n\u001b[0m\u001b[1;32m     56\u001b[0m \u001b[0;34m\u001b[0m\u001b[0m\n\u001b[1;32m     57\u001b[0m   \u001b[0;31m# Plot training and validation loss over epochs\u001b[0m\u001b[0;34m\u001b[0m\u001b[0;34m\u001b[0m\u001b[0m\n",
            "\u001b[0;32m/usr/local/lib/python3.10/dist-packages/keras/utils/traceback_utils.py\u001b[0m in \u001b[0;36merror_handler\u001b[0;34m(*args, **kwargs)\u001b[0m\n\u001b[1;32m     63\u001b[0m         \u001b[0mfiltered_tb\u001b[0m \u001b[0;34m=\u001b[0m \u001b[0;32mNone\u001b[0m\u001b[0;34m\u001b[0m\u001b[0;34m\u001b[0m\u001b[0m\n\u001b[1;32m     64\u001b[0m         \u001b[0;32mtry\u001b[0m\u001b[0;34m:\u001b[0m\u001b[0;34m\u001b[0m\u001b[0;34m\u001b[0m\u001b[0m\n\u001b[0;32m---> 65\u001b[0;31m             \u001b[0;32mreturn\u001b[0m \u001b[0mfn\u001b[0m\u001b[0;34m(\u001b[0m\u001b[0;34m*\u001b[0m\u001b[0margs\u001b[0m\u001b[0;34m,\u001b[0m \u001b[0;34m**\u001b[0m\u001b[0mkwargs\u001b[0m\u001b[0;34m)\u001b[0m\u001b[0;34m\u001b[0m\u001b[0;34m\u001b[0m\u001b[0m\n\u001b[0m\u001b[1;32m     66\u001b[0m         \u001b[0;32mexcept\u001b[0m \u001b[0mException\u001b[0m \u001b[0;32mas\u001b[0m \u001b[0me\u001b[0m\u001b[0;34m:\u001b[0m\u001b[0;34m\u001b[0m\u001b[0;34m\u001b[0m\u001b[0m\n\u001b[1;32m     67\u001b[0m             \u001b[0mfiltered_tb\u001b[0m \u001b[0;34m=\u001b[0m \u001b[0m_process_traceback_frames\u001b[0m\u001b[0;34m(\u001b[0m\u001b[0me\u001b[0m\u001b[0;34m.\u001b[0m\u001b[0m__traceback__\u001b[0m\u001b[0;34m)\u001b[0m\u001b[0;34m\u001b[0m\u001b[0;34m\u001b[0m\u001b[0m\n",
            "\u001b[0;32m/usr/local/lib/python3.10/dist-packages/keras/engine/training.py\u001b[0m in \u001b[0;36mfit\u001b[0;34m(self, x, y, batch_size, epochs, verbose, callbacks, validation_split, validation_data, shuffle, class_weight, sample_weight, initial_epoch, steps_per_epoch, validation_steps, validation_batch_size, validation_freq, max_queue_size, workers, use_multiprocessing)\u001b[0m\n\u001b[1;32m   1683\u001b[0m                         ):\n\u001b[1;32m   1684\u001b[0m                             \u001b[0mcallbacks\u001b[0m\u001b[0;34m.\u001b[0m\u001b[0mon_train_batch_begin\u001b[0m\u001b[0;34m(\u001b[0m\u001b[0mstep\u001b[0m\u001b[0;34m)\u001b[0m\u001b[0;34m\u001b[0m\u001b[0;34m\u001b[0m\u001b[0m\n\u001b[0;32m-> 1685\u001b[0;31m                             \u001b[0mtmp_logs\u001b[0m \u001b[0;34m=\u001b[0m \u001b[0mself\u001b[0m\u001b[0;34m.\u001b[0m\u001b[0mtrain_function\u001b[0m\u001b[0;34m(\u001b[0m\u001b[0miterator\u001b[0m\u001b[0;34m)\u001b[0m\u001b[0;34m\u001b[0m\u001b[0;34m\u001b[0m\u001b[0m\n\u001b[0m\u001b[1;32m   1686\u001b[0m                             \u001b[0;32mif\u001b[0m \u001b[0mdata_handler\u001b[0m\u001b[0;34m.\u001b[0m\u001b[0mshould_sync\u001b[0m\u001b[0;34m:\u001b[0m\u001b[0;34m\u001b[0m\u001b[0;34m\u001b[0m\u001b[0m\n\u001b[1;32m   1687\u001b[0m                                 \u001b[0mcontext\u001b[0m\u001b[0;34m.\u001b[0m\u001b[0masync_wait\u001b[0m\u001b[0;34m(\u001b[0m\u001b[0;34m)\u001b[0m\u001b[0;34m\u001b[0m\u001b[0;34m\u001b[0m\u001b[0m\n",
            "\u001b[0;32m/usr/local/lib/python3.10/dist-packages/tensorflow/python/util/traceback_utils.py\u001b[0m in \u001b[0;36merror_handler\u001b[0;34m(*args, **kwargs)\u001b[0m\n\u001b[1;32m    148\u001b[0m     \u001b[0mfiltered_tb\u001b[0m \u001b[0;34m=\u001b[0m \u001b[0;32mNone\u001b[0m\u001b[0;34m\u001b[0m\u001b[0;34m\u001b[0m\u001b[0m\n\u001b[1;32m    149\u001b[0m     \u001b[0;32mtry\u001b[0m\u001b[0;34m:\u001b[0m\u001b[0;34m\u001b[0m\u001b[0;34m\u001b[0m\u001b[0m\n\u001b[0;32m--> 150\u001b[0;31m       \u001b[0;32mreturn\u001b[0m \u001b[0mfn\u001b[0m\u001b[0;34m(\u001b[0m\u001b[0;34m*\u001b[0m\u001b[0margs\u001b[0m\u001b[0;34m,\u001b[0m \u001b[0;34m**\u001b[0m\u001b[0mkwargs\u001b[0m\u001b[0;34m)\u001b[0m\u001b[0;34m\u001b[0m\u001b[0;34m\u001b[0m\u001b[0m\n\u001b[0m\u001b[1;32m    151\u001b[0m     \u001b[0;32mexcept\u001b[0m \u001b[0mException\u001b[0m \u001b[0;32mas\u001b[0m \u001b[0me\u001b[0m\u001b[0;34m:\u001b[0m\u001b[0;34m\u001b[0m\u001b[0;34m\u001b[0m\u001b[0m\n\u001b[1;32m    152\u001b[0m       \u001b[0mfiltered_tb\u001b[0m \u001b[0;34m=\u001b[0m \u001b[0m_process_traceback_frames\u001b[0m\u001b[0;34m(\u001b[0m\u001b[0me\u001b[0m\u001b[0;34m.\u001b[0m\u001b[0m__traceback__\u001b[0m\u001b[0;34m)\u001b[0m\u001b[0;34m\u001b[0m\u001b[0;34m\u001b[0m\u001b[0m\n",
            "\u001b[0;32m/usr/local/lib/python3.10/dist-packages/tensorflow/python/eager/polymorphic_function/polymorphic_function.py\u001b[0m in \u001b[0;36m__call__\u001b[0;34m(self, *args, **kwds)\u001b[0m\n\u001b[1;32m    892\u001b[0m \u001b[0;34m\u001b[0m\u001b[0m\n\u001b[1;32m    893\u001b[0m       \u001b[0;32mwith\u001b[0m \u001b[0mOptionalXlaContext\u001b[0m\u001b[0;34m(\u001b[0m\u001b[0mself\u001b[0m\u001b[0;34m.\u001b[0m\u001b[0m_jit_compile\u001b[0m\u001b[0;34m)\u001b[0m\u001b[0;34m:\u001b[0m\u001b[0;34m\u001b[0m\u001b[0;34m\u001b[0m\u001b[0m\n\u001b[0;32m--> 894\u001b[0;31m         \u001b[0mresult\u001b[0m \u001b[0;34m=\u001b[0m \u001b[0mself\u001b[0m\u001b[0;34m.\u001b[0m\u001b[0m_call\u001b[0m\u001b[0;34m(\u001b[0m\u001b[0;34m*\u001b[0m\u001b[0margs\u001b[0m\u001b[0;34m,\u001b[0m \u001b[0;34m**\u001b[0m\u001b[0mkwds\u001b[0m\u001b[0;34m)\u001b[0m\u001b[0;34m\u001b[0m\u001b[0;34m\u001b[0m\u001b[0m\n\u001b[0m\u001b[1;32m    895\u001b[0m \u001b[0;34m\u001b[0m\u001b[0m\n\u001b[1;32m    896\u001b[0m       \u001b[0mnew_tracing_count\u001b[0m \u001b[0;34m=\u001b[0m \u001b[0mself\u001b[0m\u001b[0;34m.\u001b[0m\u001b[0mexperimental_get_tracing_count\u001b[0m\u001b[0;34m(\u001b[0m\u001b[0;34m)\u001b[0m\u001b[0;34m\u001b[0m\u001b[0;34m\u001b[0m\u001b[0m\n",
            "\u001b[0;32m/usr/local/lib/python3.10/dist-packages/tensorflow/python/eager/polymorphic_function/polymorphic_function.py\u001b[0m in \u001b[0;36m_call\u001b[0;34m(self, *args, **kwds)\u001b[0m\n\u001b[1;32m    940\u001b[0m       \u001b[0;31m# This is the first call of __call__, so we have to initialize.\u001b[0m\u001b[0;34m\u001b[0m\u001b[0;34m\u001b[0m\u001b[0m\n\u001b[1;32m    941\u001b[0m       \u001b[0minitializers\u001b[0m \u001b[0;34m=\u001b[0m \u001b[0;34m[\u001b[0m\u001b[0;34m]\u001b[0m\u001b[0;34m\u001b[0m\u001b[0;34m\u001b[0m\u001b[0m\n\u001b[0;32m--> 942\u001b[0;31m       \u001b[0mself\u001b[0m\u001b[0;34m.\u001b[0m\u001b[0m_initialize\u001b[0m\u001b[0;34m(\u001b[0m\u001b[0margs\u001b[0m\u001b[0;34m,\u001b[0m \u001b[0mkwds\u001b[0m\u001b[0;34m,\u001b[0m \u001b[0madd_initializers_to\u001b[0m\u001b[0;34m=\u001b[0m\u001b[0minitializers\u001b[0m\u001b[0;34m)\u001b[0m\u001b[0;34m\u001b[0m\u001b[0;34m\u001b[0m\u001b[0m\n\u001b[0m\u001b[1;32m    943\u001b[0m     \u001b[0;32mfinally\u001b[0m\u001b[0;34m:\u001b[0m\u001b[0;34m\u001b[0m\u001b[0;34m\u001b[0m\u001b[0m\n\u001b[1;32m    944\u001b[0m       \u001b[0;31m# At this point we know that the initialization is complete (or less\u001b[0m\u001b[0;34m\u001b[0m\u001b[0;34m\u001b[0m\u001b[0m\n",
            "\u001b[0;32m/usr/local/lib/python3.10/dist-packages/tensorflow/python/eager/polymorphic_function/polymorphic_function.py\u001b[0m in \u001b[0;36m_initialize\u001b[0;34m(self, args, kwds, add_initializers_to)\u001b[0m\n\u001b[1;32m    761\u001b[0m     \u001b[0mself\u001b[0m\u001b[0;34m.\u001b[0m\u001b[0m_graph_deleter\u001b[0m \u001b[0;34m=\u001b[0m \u001b[0mFunctionDeleter\u001b[0m\u001b[0;34m(\u001b[0m\u001b[0mself\u001b[0m\u001b[0;34m.\u001b[0m\u001b[0m_lifted_initializer_graph\u001b[0m\u001b[0;34m)\u001b[0m\u001b[0;34m\u001b[0m\u001b[0;34m\u001b[0m\u001b[0m\n\u001b[1;32m    762\u001b[0m     self._concrete_variable_creation_fn = (\n\u001b[0;32m--> 763\u001b[0;31m         \u001b[0mself\u001b[0m\u001b[0;34m.\u001b[0m\u001b[0m_variable_creation_fn\u001b[0m    \u001b[0;31m# pylint: disable=protected-access\u001b[0m\u001b[0;34m\u001b[0m\u001b[0;34m\u001b[0m\u001b[0m\n\u001b[0m\u001b[1;32m    764\u001b[0m         ._get_concrete_function_internal_garbage_collected(\n\u001b[1;32m    765\u001b[0m             *args, **kwds))\n",
            "\u001b[0;32m/usr/local/lib/python3.10/dist-packages/tensorflow/python/eager/polymorphic_function/tracing_compiler.py\u001b[0m in \u001b[0;36m_get_concrete_function_internal_garbage_collected\u001b[0;34m(self, *args, **kwargs)\u001b[0m\n\u001b[1;32m    169\u001b[0m     \u001b[0;34m\"\"\"Returns a concrete function which cleans up its graph function.\"\"\"\u001b[0m\u001b[0;34m\u001b[0m\u001b[0;34m\u001b[0m\u001b[0m\n\u001b[1;32m    170\u001b[0m     \u001b[0;32mwith\u001b[0m \u001b[0mself\u001b[0m\u001b[0;34m.\u001b[0m\u001b[0m_lock\u001b[0m\u001b[0;34m:\u001b[0m\u001b[0;34m\u001b[0m\u001b[0;34m\u001b[0m\u001b[0m\n\u001b[0;32m--> 171\u001b[0;31m       \u001b[0mconcrete_function\u001b[0m\u001b[0;34m,\u001b[0m \u001b[0m_\u001b[0m \u001b[0;34m=\u001b[0m \u001b[0mself\u001b[0m\u001b[0;34m.\u001b[0m\u001b[0m_maybe_define_concrete_function\u001b[0m\u001b[0;34m(\u001b[0m\u001b[0margs\u001b[0m\u001b[0;34m,\u001b[0m \u001b[0mkwargs\u001b[0m\u001b[0;34m)\u001b[0m\u001b[0;34m\u001b[0m\u001b[0;34m\u001b[0m\u001b[0m\n\u001b[0m\u001b[1;32m    172\u001b[0m     \u001b[0;32mreturn\u001b[0m \u001b[0mconcrete_function\u001b[0m\u001b[0;34m\u001b[0m\u001b[0;34m\u001b[0m\u001b[0m\n\u001b[1;32m    173\u001b[0m \u001b[0;34m\u001b[0m\u001b[0m\n",
            "\u001b[0;32m/usr/local/lib/python3.10/dist-packages/tensorflow/python/eager/polymorphic_function/tracing_compiler.py\u001b[0m in \u001b[0;36m_maybe_define_concrete_function\u001b[0;34m(self, args, kwargs)\u001b[0m\n\u001b[1;32m    164\u001b[0m       \u001b[0mkwargs\u001b[0m \u001b[0;34m=\u001b[0m \u001b[0;34m{\u001b[0m\u001b[0;34m}\u001b[0m\u001b[0;34m\u001b[0m\u001b[0;34m\u001b[0m\u001b[0m\n\u001b[1;32m    165\u001b[0m \u001b[0;34m\u001b[0m\u001b[0m\n\u001b[0;32m--> 166\u001b[0;31m     \u001b[0;32mreturn\u001b[0m \u001b[0mself\u001b[0m\u001b[0;34m.\u001b[0m\u001b[0m_maybe_define_function\u001b[0m\u001b[0;34m(\u001b[0m\u001b[0margs\u001b[0m\u001b[0;34m,\u001b[0m \u001b[0mkwargs\u001b[0m\u001b[0;34m)\u001b[0m\u001b[0;34m\u001b[0m\u001b[0;34m\u001b[0m\u001b[0m\n\u001b[0m\u001b[1;32m    167\u001b[0m \u001b[0;34m\u001b[0m\u001b[0m\n\u001b[1;32m    168\u001b[0m   \u001b[0;32mdef\u001b[0m \u001b[0m_get_concrete_function_internal_garbage_collected\u001b[0m\u001b[0;34m(\u001b[0m\u001b[0mself\u001b[0m\u001b[0;34m,\u001b[0m \u001b[0;34m*\u001b[0m\u001b[0margs\u001b[0m\u001b[0;34m,\u001b[0m \u001b[0;34m**\u001b[0m\u001b[0mkwargs\u001b[0m\u001b[0;34m)\u001b[0m\u001b[0;34m:\u001b[0m\u001b[0;34m\u001b[0m\u001b[0;34m\u001b[0m\u001b[0m\n",
            "\u001b[0;32m/usr/local/lib/python3.10/dist-packages/tensorflow/python/eager/polymorphic_function/tracing_compiler.py\u001b[0m in \u001b[0;36m_maybe_define_function\u001b[0;34m(self, args, kwargs)\u001b[0m\n\u001b[1;32m    394\u001b[0m           \u001b[0mkwargs\u001b[0m \u001b[0;34m=\u001b[0m \u001b[0mplaceholder_bound_args\u001b[0m\u001b[0;34m.\u001b[0m\u001b[0mkwargs\u001b[0m\u001b[0;34m\u001b[0m\u001b[0;34m\u001b[0m\u001b[0m\n\u001b[1;32m    395\u001b[0m \u001b[0;34m\u001b[0m\u001b[0m\n\u001b[0;32m--> 396\u001b[0;31m           concrete_function = self._create_concrete_function(\n\u001b[0m\u001b[1;32m    397\u001b[0m               args, kwargs, func_graph)\n\u001b[1;32m    398\u001b[0m \u001b[0;34m\u001b[0m\u001b[0m\n",
            "\u001b[0;32m/usr/local/lib/python3.10/dist-packages/tensorflow/python/eager/polymorphic_function/tracing_compiler.py\u001b[0m in \u001b[0;36m_create_concrete_function\u001b[0;34m(self, args, kwargs, func_graph)\u001b[0m\n\u001b[1;32m    298\u001b[0m \u001b[0;34m\u001b[0m\u001b[0m\n\u001b[1;32m    299\u001b[0m     concrete_function = monomorphic_function.ConcreteFunction(\n\u001b[0;32m--> 300\u001b[0;31m         func_graph_module.func_graph_from_py_func(\n\u001b[0m\u001b[1;32m    301\u001b[0m             \u001b[0mself\u001b[0m\u001b[0;34m.\u001b[0m\u001b[0m_name\u001b[0m\u001b[0;34m,\u001b[0m\u001b[0;34m\u001b[0m\u001b[0;34m\u001b[0m\u001b[0m\n\u001b[1;32m    302\u001b[0m             \u001b[0mself\u001b[0m\u001b[0;34m.\u001b[0m\u001b[0m_python_function\u001b[0m\u001b[0;34m,\u001b[0m\u001b[0;34m\u001b[0m\u001b[0;34m\u001b[0m\u001b[0m\n",
            "\u001b[0;32m/usr/local/lib/python3.10/dist-packages/tensorflow/python/framework/func_graph.py\u001b[0m in \u001b[0;36mfunc_graph_from_py_func\u001b[0;34m(name, python_func, args, kwargs, signature, func_graph, autograph, autograph_options, add_control_dependencies, arg_names, op_return_value, collections, capture_by_value, create_placeholders, acd_record_initial_resource_uses)\u001b[0m\n\u001b[1;32m   1212\u001b[0m         \u001b[0m_\u001b[0m\u001b[0;34m,\u001b[0m \u001b[0moriginal_func\u001b[0m \u001b[0;34m=\u001b[0m \u001b[0mtf_decorator\u001b[0m\u001b[0;34m.\u001b[0m\u001b[0munwrap\u001b[0m\u001b[0;34m(\u001b[0m\u001b[0mpython_func\u001b[0m\u001b[0;34m)\u001b[0m\u001b[0;34m\u001b[0m\u001b[0;34m\u001b[0m\u001b[0m\n\u001b[1;32m   1213\u001b[0m \u001b[0;34m\u001b[0m\u001b[0m\n\u001b[0;32m-> 1214\u001b[0;31m       \u001b[0mfunc_outputs\u001b[0m \u001b[0;34m=\u001b[0m \u001b[0mpython_func\u001b[0m\u001b[0;34m(\u001b[0m\u001b[0;34m*\u001b[0m\u001b[0mfunc_args\u001b[0m\u001b[0;34m,\u001b[0m \u001b[0;34m**\u001b[0m\u001b[0mfunc_kwargs\u001b[0m\u001b[0;34m)\u001b[0m\u001b[0;34m\u001b[0m\u001b[0;34m\u001b[0m\u001b[0m\n\u001b[0m\u001b[1;32m   1215\u001b[0m \u001b[0;34m\u001b[0m\u001b[0m\n\u001b[1;32m   1216\u001b[0m       \u001b[0;31m# invariant: `func_outputs` contains only Tensors, CompositeTensors,\u001b[0m\u001b[0;34m\u001b[0m\u001b[0;34m\u001b[0m\u001b[0m\n",
            "\u001b[0;32m/usr/local/lib/python3.10/dist-packages/tensorflow/python/eager/polymorphic_function/polymorphic_function.py\u001b[0m in \u001b[0;36mwrapped_fn\u001b[0;34m(*args, **kwds)\u001b[0m\n\u001b[1;32m    665\u001b[0m         \u001b[0;31m# the function a weak reference to itself to avoid a reference cycle.\u001b[0m\u001b[0;34m\u001b[0m\u001b[0;34m\u001b[0m\u001b[0m\n\u001b[1;32m    666\u001b[0m         \u001b[0;32mwith\u001b[0m \u001b[0mOptionalXlaContext\u001b[0m\u001b[0;34m(\u001b[0m\u001b[0mcompile_with_xla\u001b[0m\u001b[0;34m)\u001b[0m\u001b[0;34m:\u001b[0m\u001b[0;34m\u001b[0m\u001b[0;34m\u001b[0m\u001b[0m\n\u001b[0;32m--> 667\u001b[0;31m           \u001b[0mout\u001b[0m \u001b[0;34m=\u001b[0m \u001b[0mweak_wrapped_fn\u001b[0m\u001b[0;34m(\u001b[0m\u001b[0;34m)\u001b[0m\u001b[0;34m.\u001b[0m\u001b[0m__wrapped__\u001b[0m\u001b[0;34m(\u001b[0m\u001b[0;34m*\u001b[0m\u001b[0margs\u001b[0m\u001b[0;34m,\u001b[0m \u001b[0;34m**\u001b[0m\u001b[0mkwds\u001b[0m\u001b[0;34m)\u001b[0m\u001b[0;34m\u001b[0m\u001b[0;34m\u001b[0m\u001b[0m\n\u001b[0m\u001b[1;32m    668\u001b[0m         \u001b[0;32mreturn\u001b[0m \u001b[0mout\u001b[0m\u001b[0;34m\u001b[0m\u001b[0;34m\u001b[0m\u001b[0m\n\u001b[1;32m    669\u001b[0m \u001b[0;34m\u001b[0m\u001b[0m\n",
            "\u001b[0;32m/usr/local/lib/python3.10/dist-packages/tensorflow/python/framework/func_graph.py\u001b[0m in \u001b[0;36mautograph_handler\u001b[0;34m(*args, **kwargs)\u001b[0m\n\u001b[1;32m   1187\u001b[0m           \u001b[0;31m# TODO(mdan): Push this block higher in tf.function's call stack.\u001b[0m\u001b[0;34m\u001b[0m\u001b[0;34m\u001b[0m\u001b[0m\n\u001b[1;32m   1188\u001b[0m           \u001b[0;32mtry\u001b[0m\u001b[0;34m:\u001b[0m\u001b[0;34m\u001b[0m\u001b[0;34m\u001b[0m\u001b[0m\n\u001b[0;32m-> 1189\u001b[0;31m             return autograph.converted_call(\n\u001b[0m\u001b[1;32m   1190\u001b[0m                 \u001b[0moriginal_func\u001b[0m\u001b[0;34m,\u001b[0m\u001b[0;34m\u001b[0m\u001b[0;34m\u001b[0m\u001b[0m\n\u001b[1;32m   1191\u001b[0m                 \u001b[0margs\u001b[0m\u001b[0;34m,\u001b[0m\u001b[0;34m\u001b[0m\u001b[0;34m\u001b[0m\u001b[0m\n",
            "\u001b[0;32m/usr/local/lib/python3.10/dist-packages/tensorflow/python/autograph/impl/api.py\u001b[0m in \u001b[0;36mconverted_call\u001b[0;34m(f, args, kwargs, caller_fn_scope, options)\u001b[0m\n\u001b[1;32m    437\u001b[0m     \u001b[0;32mtry\u001b[0m\u001b[0;34m:\u001b[0m\u001b[0;34m\u001b[0m\u001b[0;34m\u001b[0m\u001b[0m\n\u001b[1;32m    438\u001b[0m       \u001b[0;32mif\u001b[0m \u001b[0mkwargs\u001b[0m \u001b[0;32mis\u001b[0m \u001b[0;32mnot\u001b[0m \u001b[0;32mNone\u001b[0m\u001b[0;34m:\u001b[0m\u001b[0;34m\u001b[0m\u001b[0;34m\u001b[0m\u001b[0m\n\u001b[0;32m--> 439\u001b[0;31m         \u001b[0mresult\u001b[0m \u001b[0;34m=\u001b[0m \u001b[0mconverted_f\u001b[0m\u001b[0;34m(\u001b[0m\u001b[0;34m*\u001b[0m\u001b[0meffective_args\u001b[0m\u001b[0;34m,\u001b[0m \u001b[0;34m**\u001b[0m\u001b[0mkwargs\u001b[0m\u001b[0;34m)\u001b[0m\u001b[0;34m\u001b[0m\u001b[0;34m\u001b[0m\u001b[0m\n\u001b[0m\u001b[1;32m    440\u001b[0m       \u001b[0;32melse\u001b[0m\u001b[0;34m:\u001b[0m\u001b[0;34m\u001b[0m\u001b[0;34m\u001b[0m\u001b[0m\n\u001b[1;32m    441\u001b[0m         \u001b[0mresult\u001b[0m \u001b[0;34m=\u001b[0m \u001b[0mconverted_f\u001b[0m\u001b[0;34m(\u001b[0m\u001b[0;34m*\u001b[0m\u001b[0meffective_args\u001b[0m\u001b[0;34m)\u001b[0m\u001b[0;34m\u001b[0m\u001b[0;34m\u001b[0m\u001b[0m\n",
            "\u001b[0;32m/usr/local/lib/python3.10/dist-packages/keras/engine/training.py\u001b[0m in \u001b[0;36mtf__train_function\u001b[0;34m(iterator)\u001b[0m\n\u001b[1;32m     13\u001b[0m                 \u001b[0;32mtry\u001b[0m\u001b[0;34m:\u001b[0m\u001b[0;34m\u001b[0m\u001b[0;34m\u001b[0m\u001b[0m\n\u001b[1;32m     14\u001b[0m                     \u001b[0mdo_return\u001b[0m \u001b[0;34m=\u001b[0m \u001b[0;32mTrue\u001b[0m\u001b[0;34m\u001b[0m\u001b[0;34m\u001b[0m\u001b[0m\n\u001b[0;32m---> 15\u001b[0;31m                     \u001b[0mretval_\u001b[0m \u001b[0;34m=\u001b[0m \u001b[0mag__\u001b[0m\u001b[0;34m.\u001b[0m\u001b[0mconverted_call\u001b[0m\u001b[0;34m(\u001b[0m\u001b[0mag__\u001b[0m\u001b[0;34m.\u001b[0m\u001b[0mld\u001b[0m\u001b[0;34m(\u001b[0m\u001b[0mstep_function\u001b[0m\u001b[0;34m)\u001b[0m\u001b[0;34m,\u001b[0m \u001b[0;34m(\u001b[0m\u001b[0mag__\u001b[0m\u001b[0;34m.\u001b[0m\u001b[0mld\u001b[0m\u001b[0;34m(\u001b[0m\u001b[0mself\u001b[0m\u001b[0;34m)\u001b[0m\u001b[0;34m,\u001b[0m \u001b[0mag__\u001b[0m\u001b[0;34m.\u001b[0m\u001b[0mld\u001b[0m\u001b[0;34m(\u001b[0m\u001b[0miterator\u001b[0m\u001b[0;34m)\u001b[0m\u001b[0;34m)\u001b[0m\u001b[0;34m,\u001b[0m \u001b[0;32mNone\u001b[0m\u001b[0;34m,\u001b[0m \u001b[0mfscope\u001b[0m\u001b[0;34m)\u001b[0m\u001b[0;34m\u001b[0m\u001b[0;34m\u001b[0m\u001b[0m\n\u001b[0m\u001b[1;32m     16\u001b[0m                 \u001b[0;32mexcept\u001b[0m\u001b[0;34m:\u001b[0m\u001b[0;34m\u001b[0m\u001b[0;34m\u001b[0m\u001b[0m\n\u001b[1;32m     17\u001b[0m                     \u001b[0mdo_return\u001b[0m \u001b[0;34m=\u001b[0m \u001b[0;32mFalse\u001b[0m\u001b[0;34m\u001b[0m\u001b[0;34m\u001b[0m\u001b[0m\n",
            "\u001b[0;32m/usr/local/lib/python3.10/dist-packages/tensorflow/python/autograph/impl/api.py\u001b[0m in \u001b[0;36mconverted_call\u001b[0;34m(f, args, kwargs, caller_fn_scope, options)\u001b[0m\n\u001b[1;32m    375\u001b[0m \u001b[0;34m\u001b[0m\u001b[0m\n\u001b[1;32m    376\u001b[0m   \u001b[0;32mif\u001b[0m \u001b[0;32mnot\u001b[0m \u001b[0moptions\u001b[0m\u001b[0;34m.\u001b[0m\u001b[0muser_requested\u001b[0m \u001b[0;32mand\u001b[0m \u001b[0mconversion\u001b[0m\u001b[0;34m.\u001b[0m\u001b[0mis_allowlisted\u001b[0m\u001b[0;34m(\u001b[0m\u001b[0mf\u001b[0m\u001b[0;34m)\u001b[0m\u001b[0;34m:\u001b[0m\u001b[0;34m\u001b[0m\u001b[0;34m\u001b[0m\u001b[0m\n\u001b[0;32m--> 377\u001b[0;31m     \u001b[0;32mreturn\u001b[0m \u001b[0m_call_unconverted\u001b[0m\u001b[0;34m(\u001b[0m\u001b[0mf\u001b[0m\u001b[0;34m,\u001b[0m \u001b[0margs\u001b[0m\u001b[0;34m,\u001b[0m \u001b[0mkwargs\u001b[0m\u001b[0;34m,\u001b[0m \u001b[0moptions\u001b[0m\u001b[0;34m)\u001b[0m\u001b[0;34m\u001b[0m\u001b[0;34m\u001b[0m\u001b[0m\n\u001b[0m\u001b[1;32m    378\u001b[0m \u001b[0;34m\u001b[0m\u001b[0m\n\u001b[1;32m    379\u001b[0m   \u001b[0;31m# internal_convert_user_code is for example turned off when issuing a dynamic\u001b[0m\u001b[0;34m\u001b[0m\u001b[0;34m\u001b[0m\u001b[0m\n",
            "\u001b[0;32m/usr/local/lib/python3.10/dist-packages/tensorflow/python/autograph/impl/api.py\u001b[0m in \u001b[0;36m_call_unconverted\u001b[0;34m(f, args, kwargs, options, update_cache)\u001b[0m\n\u001b[1;32m    457\u001b[0m   \u001b[0;32mif\u001b[0m \u001b[0mkwargs\u001b[0m \u001b[0;32mis\u001b[0m \u001b[0;32mnot\u001b[0m \u001b[0;32mNone\u001b[0m\u001b[0;34m:\u001b[0m\u001b[0;34m\u001b[0m\u001b[0;34m\u001b[0m\u001b[0m\n\u001b[1;32m    458\u001b[0m     \u001b[0;32mreturn\u001b[0m \u001b[0mf\u001b[0m\u001b[0;34m(\u001b[0m\u001b[0;34m*\u001b[0m\u001b[0margs\u001b[0m\u001b[0;34m,\u001b[0m \u001b[0;34m**\u001b[0m\u001b[0mkwargs\u001b[0m\u001b[0;34m)\u001b[0m\u001b[0;34m\u001b[0m\u001b[0;34m\u001b[0m\u001b[0m\n\u001b[0;32m--> 459\u001b[0;31m   \u001b[0;32mreturn\u001b[0m \u001b[0mf\u001b[0m\u001b[0;34m(\u001b[0m\u001b[0;34m*\u001b[0m\u001b[0margs\u001b[0m\u001b[0;34m)\u001b[0m\u001b[0;34m\u001b[0m\u001b[0;34m\u001b[0m\u001b[0m\n\u001b[0m\u001b[1;32m    460\u001b[0m \u001b[0;34m\u001b[0m\u001b[0m\n\u001b[1;32m    461\u001b[0m \u001b[0;34m\u001b[0m\u001b[0m\n",
            "\u001b[0;32m/usr/local/lib/python3.10/dist-packages/keras/engine/training.py\u001b[0m in \u001b[0;36mstep_function\u001b[0;34m(model, iterator)\u001b[0m\n\u001b[1;32m   1266\u001b[0m                 )\n\u001b[1;32m   1267\u001b[0m             \u001b[0mdata\u001b[0m \u001b[0;34m=\u001b[0m \u001b[0mnext\u001b[0m\u001b[0;34m(\u001b[0m\u001b[0miterator\u001b[0m\u001b[0;34m)\u001b[0m\u001b[0;34m\u001b[0m\u001b[0;34m\u001b[0m\u001b[0m\n\u001b[0;32m-> 1268\u001b[0;31m             \u001b[0moutputs\u001b[0m \u001b[0;34m=\u001b[0m \u001b[0mmodel\u001b[0m\u001b[0;34m.\u001b[0m\u001b[0mdistribute_strategy\u001b[0m\u001b[0;34m.\u001b[0m\u001b[0mrun\u001b[0m\u001b[0;34m(\u001b[0m\u001b[0mrun_step\u001b[0m\u001b[0;34m,\u001b[0m \u001b[0margs\u001b[0m\u001b[0;34m=\u001b[0m\u001b[0;34m(\u001b[0m\u001b[0mdata\u001b[0m\u001b[0;34m,\u001b[0m\u001b[0;34m)\u001b[0m\u001b[0;34m)\u001b[0m\u001b[0;34m\u001b[0m\u001b[0;34m\u001b[0m\u001b[0m\n\u001b[0m\u001b[1;32m   1269\u001b[0m             outputs = reduce_per_replica(\n\u001b[1;32m   1270\u001b[0m                 \u001b[0moutputs\u001b[0m\u001b[0;34m,\u001b[0m\u001b[0;34m\u001b[0m\u001b[0;34m\u001b[0m\u001b[0m\n",
            "\u001b[0;32m/usr/local/lib/python3.10/dist-packages/tensorflow/python/distribute/distribute_lib.py\u001b[0m in \u001b[0;36mrun\u001b[0;34m(***failed resolving arguments***)\u001b[0m\n\u001b[1;32m   1314\u001b[0m       fn = autograph.tf_convert(\n\u001b[1;32m   1315\u001b[0m           fn, autograph_ctx.control_status_ctx(), convert_by_default=False)\n\u001b[0;32m-> 1316\u001b[0;31m       \u001b[0;32mreturn\u001b[0m \u001b[0mself\u001b[0m\u001b[0;34m.\u001b[0m\u001b[0m_extended\u001b[0m\u001b[0;34m.\u001b[0m\u001b[0mcall_for_each_replica\u001b[0m\u001b[0;34m(\u001b[0m\u001b[0mfn\u001b[0m\u001b[0;34m,\u001b[0m \u001b[0margs\u001b[0m\u001b[0;34m=\u001b[0m\u001b[0margs\u001b[0m\u001b[0;34m,\u001b[0m \u001b[0mkwargs\u001b[0m\u001b[0;34m=\u001b[0m\u001b[0mkwargs\u001b[0m\u001b[0;34m)\u001b[0m\u001b[0;34m\u001b[0m\u001b[0;34m\u001b[0m\u001b[0m\n\u001b[0m\u001b[1;32m   1317\u001b[0m \u001b[0;34m\u001b[0m\u001b[0m\n\u001b[1;32m   1318\u001b[0m   \u001b[0;32mdef\u001b[0m \u001b[0mreduce\u001b[0m\u001b[0;34m(\u001b[0m\u001b[0mself\u001b[0m\u001b[0;34m,\u001b[0m \u001b[0mreduce_op\u001b[0m\u001b[0;34m,\u001b[0m \u001b[0mvalue\u001b[0m\u001b[0;34m,\u001b[0m \u001b[0maxis\u001b[0m\u001b[0;34m)\u001b[0m\u001b[0;34m:\u001b[0m\u001b[0;34m\u001b[0m\u001b[0;34m\u001b[0m\u001b[0m\n",
            "\u001b[0;32m/usr/local/lib/python3.10/dist-packages/tensorflow/python/distribute/distribute_lib.py\u001b[0m in \u001b[0;36mcall_for_each_replica\u001b[0;34m(self, fn, args, kwargs)\u001b[0m\n\u001b[1;32m   2893\u001b[0m       \u001b[0mkwargs\u001b[0m \u001b[0;34m=\u001b[0m \u001b[0;34m{\u001b[0m\u001b[0;34m}\u001b[0m\u001b[0;34m\u001b[0m\u001b[0;34m\u001b[0m\u001b[0m\n\u001b[1;32m   2894\u001b[0m     \u001b[0;32mwith\u001b[0m \u001b[0mself\u001b[0m\u001b[0;34m.\u001b[0m\u001b[0m_container_strategy\u001b[0m\u001b[0;34m(\u001b[0m\u001b[0;34m)\u001b[0m\u001b[0;34m.\u001b[0m\u001b[0mscope\u001b[0m\u001b[0;34m(\u001b[0m\u001b[0;34m)\u001b[0m\u001b[0;34m:\u001b[0m\u001b[0;34m\u001b[0m\u001b[0;34m\u001b[0m\u001b[0m\n\u001b[0;32m-> 2895\u001b[0;31m       \u001b[0;32mreturn\u001b[0m \u001b[0mself\u001b[0m\u001b[0;34m.\u001b[0m\u001b[0m_call_for_each_replica\u001b[0m\u001b[0;34m(\u001b[0m\u001b[0mfn\u001b[0m\u001b[0;34m,\u001b[0m \u001b[0margs\u001b[0m\u001b[0;34m,\u001b[0m \u001b[0mkwargs\u001b[0m\u001b[0;34m)\u001b[0m\u001b[0;34m\u001b[0m\u001b[0;34m\u001b[0m\u001b[0m\n\u001b[0m\u001b[1;32m   2896\u001b[0m \u001b[0;34m\u001b[0m\u001b[0m\n\u001b[1;32m   2897\u001b[0m   \u001b[0;32mdef\u001b[0m \u001b[0m_call_for_each_replica\u001b[0m\u001b[0;34m(\u001b[0m\u001b[0mself\u001b[0m\u001b[0;34m,\u001b[0m \u001b[0mfn\u001b[0m\u001b[0;34m,\u001b[0m \u001b[0margs\u001b[0m\u001b[0;34m,\u001b[0m \u001b[0mkwargs\u001b[0m\u001b[0;34m)\u001b[0m\u001b[0;34m:\u001b[0m\u001b[0;34m\u001b[0m\u001b[0;34m\u001b[0m\u001b[0m\n",
            "\u001b[0;32m/usr/local/lib/python3.10/dist-packages/tensorflow/python/distribute/distribute_lib.py\u001b[0m in \u001b[0;36m_call_for_each_replica\u001b[0;34m(self, fn, args, kwargs)\u001b[0m\n\u001b[1;32m   3694\u001b[0m   \u001b[0;32mdef\u001b[0m \u001b[0m_call_for_each_replica\u001b[0m\u001b[0;34m(\u001b[0m\u001b[0mself\u001b[0m\u001b[0;34m,\u001b[0m \u001b[0mfn\u001b[0m\u001b[0;34m,\u001b[0m \u001b[0margs\u001b[0m\u001b[0;34m,\u001b[0m \u001b[0mkwargs\u001b[0m\u001b[0;34m)\u001b[0m\u001b[0;34m:\u001b[0m\u001b[0;34m\u001b[0m\u001b[0;34m\u001b[0m\u001b[0m\n\u001b[1;32m   3695\u001b[0m     \u001b[0;32mwith\u001b[0m \u001b[0mReplicaContext\u001b[0m\u001b[0;34m(\u001b[0m\u001b[0mself\u001b[0m\u001b[0;34m.\u001b[0m\u001b[0m_container_strategy\u001b[0m\u001b[0;34m(\u001b[0m\u001b[0;34m)\u001b[0m\u001b[0;34m,\u001b[0m \u001b[0mreplica_id_in_sync_group\u001b[0m\u001b[0;34m=\u001b[0m\u001b[0;36m0\u001b[0m\u001b[0;34m)\u001b[0m\u001b[0;34m:\u001b[0m\u001b[0;34m\u001b[0m\u001b[0;34m\u001b[0m\u001b[0m\n\u001b[0;32m-> 3696\u001b[0;31m       \u001b[0;32mreturn\u001b[0m \u001b[0mfn\u001b[0m\u001b[0;34m(\u001b[0m\u001b[0;34m*\u001b[0m\u001b[0margs\u001b[0m\u001b[0;34m,\u001b[0m \u001b[0;34m**\u001b[0m\u001b[0mkwargs\u001b[0m\u001b[0;34m)\u001b[0m\u001b[0;34m\u001b[0m\u001b[0;34m\u001b[0m\u001b[0m\n\u001b[0m\u001b[1;32m   3697\u001b[0m \u001b[0;34m\u001b[0m\u001b[0m\n\u001b[1;32m   3698\u001b[0m   \u001b[0;32mdef\u001b[0m \u001b[0m_reduce_to\u001b[0m\u001b[0;34m(\u001b[0m\u001b[0mself\u001b[0m\u001b[0;34m,\u001b[0m \u001b[0mreduce_op\u001b[0m\u001b[0;34m,\u001b[0m \u001b[0mvalue\u001b[0m\u001b[0;34m,\u001b[0m \u001b[0mdestinations\u001b[0m\u001b[0;34m,\u001b[0m \u001b[0moptions\u001b[0m\u001b[0;34m)\u001b[0m\u001b[0;34m:\u001b[0m\u001b[0;34m\u001b[0m\u001b[0;34m\u001b[0m\u001b[0m\n",
            "\u001b[0;32m/usr/local/lib/python3.10/dist-packages/tensorflow/python/autograph/impl/api.py\u001b[0m in \u001b[0;36mwrapper\u001b[0;34m(*args, **kwargs)\u001b[0m\n\u001b[1;32m    687\u001b[0m       \u001b[0;32mtry\u001b[0m\u001b[0;34m:\u001b[0m\u001b[0;34m\u001b[0m\u001b[0;34m\u001b[0m\u001b[0m\n\u001b[1;32m    688\u001b[0m         \u001b[0;32mwith\u001b[0m \u001b[0mconversion_ctx\u001b[0m\u001b[0;34m:\u001b[0m\u001b[0;34m\u001b[0m\u001b[0;34m\u001b[0m\u001b[0m\n\u001b[0;32m--> 689\u001b[0;31m           \u001b[0;32mreturn\u001b[0m \u001b[0mconverted_call\u001b[0m\u001b[0;34m(\u001b[0m\u001b[0mf\u001b[0m\u001b[0;34m,\u001b[0m \u001b[0margs\u001b[0m\u001b[0;34m,\u001b[0m \u001b[0mkwargs\u001b[0m\u001b[0;34m,\u001b[0m \u001b[0moptions\u001b[0m\u001b[0;34m=\u001b[0m\u001b[0moptions\u001b[0m\u001b[0;34m)\u001b[0m\u001b[0;34m\u001b[0m\u001b[0;34m\u001b[0m\u001b[0m\n\u001b[0m\u001b[1;32m    690\u001b[0m       \u001b[0;32mexcept\u001b[0m \u001b[0mException\u001b[0m \u001b[0;32mas\u001b[0m \u001b[0me\u001b[0m\u001b[0;34m:\u001b[0m  \u001b[0;31m# pylint:disable=broad-except\u001b[0m\u001b[0;34m\u001b[0m\u001b[0;34m\u001b[0m\u001b[0m\n\u001b[1;32m    691\u001b[0m         \u001b[0;32mif\u001b[0m \u001b[0mhasattr\u001b[0m\u001b[0;34m(\u001b[0m\u001b[0me\u001b[0m\u001b[0;34m,\u001b[0m \u001b[0;34m'ag_error_metadata'\u001b[0m\u001b[0;34m)\u001b[0m\u001b[0;34m:\u001b[0m\u001b[0;34m\u001b[0m\u001b[0;34m\u001b[0m\u001b[0m\n",
            "\u001b[0;32m/usr/local/lib/python3.10/dist-packages/tensorflow/python/autograph/impl/api.py\u001b[0m in \u001b[0;36mconverted_call\u001b[0;34m(f, args, kwargs, caller_fn_scope, options)\u001b[0m\n\u001b[1;32m    375\u001b[0m \u001b[0;34m\u001b[0m\u001b[0m\n\u001b[1;32m    376\u001b[0m   \u001b[0;32mif\u001b[0m \u001b[0;32mnot\u001b[0m \u001b[0moptions\u001b[0m\u001b[0;34m.\u001b[0m\u001b[0muser_requested\u001b[0m \u001b[0;32mand\u001b[0m \u001b[0mconversion\u001b[0m\u001b[0;34m.\u001b[0m\u001b[0mis_allowlisted\u001b[0m\u001b[0;34m(\u001b[0m\u001b[0mf\u001b[0m\u001b[0;34m)\u001b[0m\u001b[0;34m:\u001b[0m\u001b[0;34m\u001b[0m\u001b[0;34m\u001b[0m\u001b[0m\n\u001b[0;32m--> 377\u001b[0;31m     \u001b[0;32mreturn\u001b[0m \u001b[0m_call_unconverted\u001b[0m\u001b[0;34m(\u001b[0m\u001b[0mf\u001b[0m\u001b[0;34m,\u001b[0m \u001b[0margs\u001b[0m\u001b[0;34m,\u001b[0m \u001b[0mkwargs\u001b[0m\u001b[0;34m,\u001b[0m \u001b[0moptions\u001b[0m\u001b[0;34m)\u001b[0m\u001b[0;34m\u001b[0m\u001b[0;34m\u001b[0m\u001b[0m\n\u001b[0m\u001b[1;32m    378\u001b[0m \u001b[0;34m\u001b[0m\u001b[0m\n\u001b[1;32m    379\u001b[0m   \u001b[0;31m# internal_convert_user_code is for example turned off when issuing a dynamic\u001b[0m\u001b[0;34m\u001b[0m\u001b[0;34m\u001b[0m\u001b[0m\n",
            "\u001b[0;32m/usr/local/lib/python3.10/dist-packages/tensorflow/python/autograph/impl/api.py\u001b[0m in \u001b[0;36m_call_unconverted\u001b[0;34m(f, args, kwargs, options, update_cache)\u001b[0m\n\u001b[1;32m    456\u001b[0m \u001b[0;34m\u001b[0m\u001b[0m\n\u001b[1;32m    457\u001b[0m   \u001b[0;32mif\u001b[0m \u001b[0mkwargs\u001b[0m \u001b[0;32mis\u001b[0m \u001b[0;32mnot\u001b[0m \u001b[0;32mNone\u001b[0m\u001b[0;34m:\u001b[0m\u001b[0;34m\u001b[0m\u001b[0;34m\u001b[0m\u001b[0m\n\u001b[0;32m--> 458\u001b[0;31m     \u001b[0;32mreturn\u001b[0m \u001b[0mf\u001b[0m\u001b[0;34m(\u001b[0m\u001b[0;34m*\u001b[0m\u001b[0margs\u001b[0m\u001b[0;34m,\u001b[0m \u001b[0;34m**\u001b[0m\u001b[0mkwargs\u001b[0m\u001b[0;34m)\u001b[0m\u001b[0;34m\u001b[0m\u001b[0;34m\u001b[0m\u001b[0m\n\u001b[0m\u001b[1;32m    459\u001b[0m   \u001b[0;32mreturn\u001b[0m \u001b[0mf\u001b[0m\u001b[0;34m(\u001b[0m\u001b[0;34m*\u001b[0m\u001b[0margs\u001b[0m\u001b[0;34m)\u001b[0m\u001b[0;34m\u001b[0m\u001b[0;34m\u001b[0m\u001b[0m\n\u001b[1;32m    460\u001b[0m \u001b[0;34m\u001b[0m\u001b[0m\n",
            "\u001b[0;32m/usr/local/lib/python3.10/dist-packages/keras/engine/training.py\u001b[0m in \u001b[0;36mrun_step\u001b[0;34m(data)\u001b[0m\n\u001b[1;32m   1247\u001b[0m \u001b[0;34m\u001b[0m\u001b[0m\n\u001b[1;32m   1248\u001b[0m             \u001b[0;32mdef\u001b[0m \u001b[0mrun_step\u001b[0m\u001b[0;34m(\u001b[0m\u001b[0mdata\u001b[0m\u001b[0;34m)\u001b[0m\u001b[0;34m:\u001b[0m\u001b[0;34m\u001b[0m\u001b[0;34m\u001b[0m\u001b[0m\n\u001b[0;32m-> 1249\u001b[0;31m                 \u001b[0moutputs\u001b[0m \u001b[0;34m=\u001b[0m \u001b[0mmodel\u001b[0m\u001b[0;34m.\u001b[0m\u001b[0mtrain_step\u001b[0m\u001b[0;34m(\u001b[0m\u001b[0mdata\u001b[0m\u001b[0;34m)\u001b[0m\u001b[0;34m\u001b[0m\u001b[0;34m\u001b[0m\u001b[0m\n\u001b[0m\u001b[1;32m   1250\u001b[0m                 \u001b[0;31m# Ensure counter is updated only if `train_step` succeeds.\u001b[0m\u001b[0;34m\u001b[0m\u001b[0;34m\u001b[0m\u001b[0m\n\u001b[1;32m   1251\u001b[0m                 \u001b[0;32mwith\u001b[0m \u001b[0mtf\u001b[0m\u001b[0;34m.\u001b[0m\u001b[0mcontrol_dependencies\u001b[0m\u001b[0;34m(\u001b[0m\u001b[0m_minimum_control_deps\u001b[0m\u001b[0;34m(\u001b[0m\u001b[0moutputs\u001b[0m\u001b[0;34m)\u001b[0m\u001b[0;34m)\u001b[0m\u001b[0;34m:\u001b[0m\u001b[0;34m\u001b[0m\u001b[0;34m\u001b[0m\u001b[0m\n",
            "\u001b[0;32m/usr/local/lib/python3.10/dist-packages/keras/engine/training.py\u001b[0m in \u001b[0;36mtrain_step\u001b[0;34m(self, data)\u001b[0m\n\u001b[1;32m   1052\u001b[0m         \u001b[0mself\u001b[0m\u001b[0;34m.\u001b[0m\u001b[0m_validate_target_and_loss\u001b[0m\u001b[0;34m(\u001b[0m\u001b[0my\u001b[0m\u001b[0;34m,\u001b[0m \u001b[0mloss\u001b[0m\u001b[0;34m)\u001b[0m\u001b[0;34m\u001b[0m\u001b[0;34m\u001b[0m\u001b[0m\n\u001b[1;32m   1053\u001b[0m         \u001b[0;31m# Run backwards pass.\u001b[0m\u001b[0;34m\u001b[0m\u001b[0;34m\u001b[0m\u001b[0m\n\u001b[0;32m-> 1054\u001b[0;31m         \u001b[0mself\u001b[0m\u001b[0;34m.\u001b[0m\u001b[0moptimizer\u001b[0m\u001b[0;34m.\u001b[0m\u001b[0mminimize\u001b[0m\u001b[0;34m(\u001b[0m\u001b[0mloss\u001b[0m\u001b[0;34m,\u001b[0m \u001b[0mself\u001b[0m\u001b[0;34m.\u001b[0m\u001b[0mtrainable_variables\u001b[0m\u001b[0;34m,\u001b[0m \u001b[0mtape\u001b[0m\u001b[0;34m=\u001b[0m\u001b[0mtape\u001b[0m\u001b[0;34m)\u001b[0m\u001b[0;34m\u001b[0m\u001b[0;34m\u001b[0m\u001b[0m\n\u001b[0m\u001b[1;32m   1055\u001b[0m         \u001b[0;32mreturn\u001b[0m \u001b[0mself\u001b[0m\u001b[0;34m.\u001b[0m\u001b[0mcompute_metrics\u001b[0m\u001b[0;34m(\u001b[0m\u001b[0mx\u001b[0m\u001b[0;34m,\u001b[0m \u001b[0my\u001b[0m\u001b[0;34m,\u001b[0m \u001b[0my_pred\u001b[0m\u001b[0;34m,\u001b[0m \u001b[0msample_weight\u001b[0m\u001b[0;34m)\u001b[0m\u001b[0;34m\u001b[0m\u001b[0;34m\u001b[0m\u001b[0m\n\u001b[1;32m   1056\u001b[0m \u001b[0;34m\u001b[0m\u001b[0m\n",
            "\u001b[0;32m/usr/local/lib/python3.10/dist-packages/keras/optimizers/optimizer.py\u001b[0m in \u001b[0;36mminimize\u001b[0;34m(self, loss, var_list, tape)\u001b[0m\n\u001b[1;32m    541\u001b[0m         \"\"\"\n\u001b[1;32m    542\u001b[0m         \u001b[0mgrads_and_vars\u001b[0m \u001b[0;34m=\u001b[0m \u001b[0mself\u001b[0m\u001b[0;34m.\u001b[0m\u001b[0mcompute_gradients\u001b[0m\u001b[0;34m(\u001b[0m\u001b[0mloss\u001b[0m\u001b[0;34m,\u001b[0m \u001b[0mvar_list\u001b[0m\u001b[0;34m,\u001b[0m \u001b[0mtape\u001b[0m\u001b[0;34m)\u001b[0m\u001b[0;34m\u001b[0m\u001b[0;34m\u001b[0m\u001b[0m\n\u001b[0;32m--> 543\u001b[0;31m         \u001b[0mself\u001b[0m\u001b[0;34m.\u001b[0m\u001b[0mapply_gradients\u001b[0m\u001b[0;34m(\u001b[0m\u001b[0mgrads_and_vars\u001b[0m\u001b[0;34m)\u001b[0m\u001b[0;34m\u001b[0m\u001b[0;34m\u001b[0m\u001b[0m\n\u001b[0m\u001b[1;32m    544\u001b[0m \u001b[0;34m\u001b[0m\u001b[0m\n\u001b[1;32m    545\u001b[0m     \u001b[0;32mdef\u001b[0m \u001b[0m_compute_current_learning_rate\u001b[0m\u001b[0;34m(\u001b[0m\u001b[0mself\u001b[0m\u001b[0;34m)\u001b[0m\u001b[0;34m:\u001b[0m\u001b[0;34m\u001b[0m\u001b[0;34m\u001b[0m\u001b[0m\n",
            "\u001b[0;32m/usr/local/lib/python3.10/dist-packages/keras/optimizers/optimizer.py\u001b[0m in \u001b[0;36mapply_gradients\u001b[0;34m(self, grads_and_vars, name, skip_gradients_aggregation, **kwargs)\u001b[0m\n\u001b[1;32m   1172\u001b[0m         \u001b[0;32mif\u001b[0m \u001b[0;32mnot\u001b[0m \u001b[0mskip_gradients_aggregation\u001b[0m \u001b[0;32mand\u001b[0m \u001b[0mexperimental_aggregate_gradients\u001b[0m\u001b[0;34m:\u001b[0m\u001b[0;34m\u001b[0m\u001b[0;34m\u001b[0m\u001b[0m\n\u001b[1;32m   1173\u001b[0m             \u001b[0mgrads_and_vars\u001b[0m \u001b[0;34m=\u001b[0m \u001b[0mself\u001b[0m\u001b[0;34m.\u001b[0m\u001b[0maggregate_gradients\u001b[0m\u001b[0;34m(\u001b[0m\u001b[0mgrads_and_vars\u001b[0m\u001b[0;34m)\u001b[0m\u001b[0;34m\u001b[0m\u001b[0;34m\u001b[0m\u001b[0m\n\u001b[0;32m-> 1174\u001b[0;31m         \u001b[0;32mreturn\u001b[0m \u001b[0msuper\u001b[0m\u001b[0;34m(\u001b[0m\u001b[0;34m)\u001b[0m\u001b[0;34m.\u001b[0m\u001b[0mapply_gradients\u001b[0m\u001b[0;34m(\u001b[0m\u001b[0mgrads_and_vars\u001b[0m\u001b[0;34m,\u001b[0m \u001b[0mname\u001b[0m\u001b[0;34m=\u001b[0m\u001b[0mname\u001b[0m\u001b[0;34m)\u001b[0m\u001b[0;34m\u001b[0m\u001b[0;34m\u001b[0m\u001b[0m\n\u001b[0m\u001b[1;32m   1175\u001b[0m \u001b[0;34m\u001b[0m\u001b[0m\n\u001b[1;32m   1176\u001b[0m     \u001b[0;32mdef\u001b[0m \u001b[0m_apply_weight_decay\u001b[0m\u001b[0;34m(\u001b[0m\u001b[0mself\u001b[0m\u001b[0;34m,\u001b[0m \u001b[0mvariables\u001b[0m\u001b[0;34m)\u001b[0m\u001b[0;34m:\u001b[0m\u001b[0;34m\u001b[0m\u001b[0;34m\u001b[0m\u001b[0m\n",
            "\u001b[0;32m/usr/local/lib/python3.10/dist-packages/keras/optimizers/optimizer.py\u001b[0m in \u001b[0;36mapply_gradients\u001b[0;34m(self, grads_and_vars, name)\u001b[0m\n\u001b[1;32m    648\u001b[0m         \u001b[0mself\u001b[0m\u001b[0;34m.\u001b[0m\u001b[0m_apply_weight_decay\u001b[0m\u001b[0;34m(\u001b[0m\u001b[0mtrainable_variables\u001b[0m\u001b[0;34m)\u001b[0m\u001b[0;34m\u001b[0m\u001b[0;34m\u001b[0m\u001b[0m\n\u001b[1;32m    649\u001b[0m         \u001b[0mgrads_and_vars\u001b[0m \u001b[0;34m=\u001b[0m \u001b[0mlist\u001b[0m\u001b[0;34m(\u001b[0m\u001b[0mzip\u001b[0m\u001b[0;34m(\u001b[0m\u001b[0mgrads\u001b[0m\u001b[0;34m,\u001b[0m \u001b[0mtrainable_variables\u001b[0m\u001b[0;34m)\u001b[0m\u001b[0;34m)\u001b[0m\u001b[0;34m\u001b[0m\u001b[0;34m\u001b[0m\u001b[0m\n\u001b[0;32m--> 650\u001b[0;31m         \u001b[0miteration\u001b[0m \u001b[0;34m=\u001b[0m \u001b[0mself\u001b[0m\u001b[0;34m.\u001b[0m\u001b[0m_internal_apply_gradients\u001b[0m\u001b[0;34m(\u001b[0m\u001b[0mgrads_and_vars\u001b[0m\u001b[0;34m)\u001b[0m\u001b[0;34m\u001b[0m\u001b[0;34m\u001b[0m\u001b[0m\n\u001b[0m\u001b[1;32m    651\u001b[0m \u001b[0;34m\u001b[0m\u001b[0m\n\u001b[1;32m    652\u001b[0m         \u001b[0;31m# Apply variable constraints after applying gradients.\u001b[0m\u001b[0;34m\u001b[0m\u001b[0;34m\u001b[0m\u001b[0m\n",
            "\u001b[0;32m/usr/local/lib/python3.10/dist-packages/keras/optimizers/optimizer.py\u001b[0m in \u001b[0;36m_internal_apply_gradients\u001b[0;34m(self, grads_and_vars)\u001b[0m\n\u001b[1;32m   1198\u001b[0m \u001b[0;34m\u001b[0m\u001b[0m\n\u001b[1;32m   1199\u001b[0m     \u001b[0;32mdef\u001b[0m \u001b[0m_internal_apply_gradients\u001b[0m\u001b[0;34m(\u001b[0m\u001b[0mself\u001b[0m\u001b[0;34m,\u001b[0m \u001b[0mgrads_and_vars\u001b[0m\u001b[0;34m)\u001b[0m\u001b[0;34m:\u001b[0m\u001b[0;34m\u001b[0m\u001b[0;34m\u001b[0m\u001b[0m\n\u001b[0;32m-> 1200\u001b[0;31m         return tf.__internal__.distribute.interim.maybe_merge_call(\n\u001b[0m\u001b[1;32m   1201\u001b[0m             \u001b[0mself\u001b[0m\u001b[0;34m.\u001b[0m\u001b[0m_distributed_apply_gradients_fn\u001b[0m\u001b[0;34m,\u001b[0m\u001b[0;34m\u001b[0m\u001b[0;34m\u001b[0m\u001b[0m\n\u001b[1;32m   1202\u001b[0m             \u001b[0mself\u001b[0m\u001b[0;34m.\u001b[0m\u001b[0m_distribution_strategy\u001b[0m\u001b[0;34m,\u001b[0m\u001b[0;34m\u001b[0m\u001b[0;34m\u001b[0m\u001b[0m\n",
            "\u001b[0;32m/usr/local/lib/python3.10/dist-packages/tensorflow/python/distribute/merge_call_interim.py\u001b[0m in \u001b[0;36mmaybe_merge_call\u001b[0;34m(fn, strategy, *args, **kwargs)\u001b[0m\n\u001b[1;32m     49\u001b[0m   \"\"\"\n\u001b[1;32m     50\u001b[0m   \u001b[0;32mif\u001b[0m \u001b[0mstrategy_supports_no_merge_call\u001b[0m\u001b[0;34m(\u001b[0m\u001b[0;34m)\u001b[0m\u001b[0;34m:\u001b[0m\u001b[0;34m\u001b[0m\u001b[0;34m\u001b[0m\u001b[0m\n\u001b[0;32m---> 51\u001b[0;31m     \u001b[0;32mreturn\u001b[0m \u001b[0mfn\u001b[0m\u001b[0;34m(\u001b[0m\u001b[0mstrategy\u001b[0m\u001b[0;34m,\u001b[0m \u001b[0;34m*\u001b[0m\u001b[0margs\u001b[0m\u001b[0;34m,\u001b[0m \u001b[0;34m**\u001b[0m\u001b[0mkwargs\u001b[0m\u001b[0;34m)\u001b[0m\u001b[0;34m\u001b[0m\u001b[0;34m\u001b[0m\u001b[0m\n\u001b[0m\u001b[1;32m     52\u001b[0m   \u001b[0;32melse\u001b[0m\u001b[0;34m:\u001b[0m\u001b[0;34m\u001b[0m\u001b[0;34m\u001b[0m\u001b[0m\n\u001b[1;32m     53\u001b[0m     return distribution_strategy_context.get_replica_context().merge_call(\n",
            "\u001b[0;32m/usr/local/lib/python3.10/dist-packages/keras/optimizers/optimizer.py\u001b[0m in \u001b[0;36m_distributed_apply_gradients_fn\u001b[0;34m(self, distribution, grads_and_vars, **kwargs)\u001b[0m\n\u001b[1;32m   1248\u001b[0m \u001b[0;34m\u001b[0m\u001b[0m\n\u001b[1;32m   1249\u001b[0m         \u001b[0;32mfor\u001b[0m \u001b[0mgrad\u001b[0m\u001b[0;34m,\u001b[0m \u001b[0mvar\u001b[0m \u001b[0;32min\u001b[0m \u001b[0mgrads_and_vars\u001b[0m\u001b[0;34m:\u001b[0m\u001b[0;34m\u001b[0m\u001b[0;34m\u001b[0m\u001b[0m\n\u001b[0;32m-> 1250\u001b[0;31m             distribution.extended.update(\n\u001b[0m\u001b[1;32m   1251\u001b[0m                 \u001b[0mvar\u001b[0m\u001b[0;34m,\u001b[0m \u001b[0mapply_grad_to_update_var\u001b[0m\u001b[0;34m,\u001b[0m \u001b[0margs\u001b[0m\u001b[0;34m=\u001b[0m\u001b[0;34m(\u001b[0m\u001b[0mgrad\u001b[0m\u001b[0;34m,\u001b[0m\u001b[0;34m)\u001b[0m\u001b[0;34m,\u001b[0m \u001b[0mgroup\u001b[0m\u001b[0;34m=\u001b[0m\u001b[0;32mFalse\u001b[0m\u001b[0;34m\u001b[0m\u001b[0;34m\u001b[0m\u001b[0m\n\u001b[1;32m   1252\u001b[0m             )\n",
            "\u001b[0;32m/usr/local/lib/python3.10/dist-packages/tensorflow/python/distribute/distribute_lib.py\u001b[0m in \u001b[0;36mupdate\u001b[0;34m(self, var, fn, args, kwargs, group)\u001b[0m\n\u001b[1;32m   2637\u001b[0m         \u001b[0;32mreturn\u001b[0m \u001b[0mself\u001b[0m\u001b[0;34m.\u001b[0m\u001b[0m_update\u001b[0m\u001b[0;34m(\u001b[0m\u001b[0mvar\u001b[0m\u001b[0;34m,\u001b[0m \u001b[0mfn\u001b[0m\u001b[0;34m,\u001b[0m \u001b[0margs\u001b[0m\u001b[0;34m,\u001b[0m \u001b[0mkwargs\u001b[0m\u001b[0;34m,\u001b[0m \u001b[0mgroup\u001b[0m\u001b[0;34m)\u001b[0m\u001b[0;34m\u001b[0m\u001b[0;34m\u001b[0m\u001b[0m\n\u001b[1;32m   2638\u001b[0m     \u001b[0;32melse\u001b[0m\u001b[0;34m:\u001b[0m\u001b[0;34m\u001b[0m\u001b[0;34m\u001b[0m\u001b[0m\n\u001b[0;32m-> 2639\u001b[0;31m       return self._replica_ctx_update(\n\u001b[0m\u001b[1;32m   2640\u001b[0m           var, fn, args=args, kwargs=kwargs, group=group)\n\u001b[1;32m   2641\u001b[0m \u001b[0;34m\u001b[0m\u001b[0m\n",
            "\u001b[0;32m/usr/local/lib/python3.10/dist-packages/tensorflow/python/distribute/distribute_lib.py\u001b[0m in \u001b[0;36m_replica_ctx_update\u001b[0;34m(self, var, fn, args, kwargs, group)\u001b[0m\n\u001b[1;32m   2516\u001b[0m       \u001b[0;32mreturn\u001b[0m \u001b[0mself\u001b[0m\u001b[0;34m.\u001b[0m\u001b[0mupdate\u001b[0m\u001b[0;34m(\u001b[0m\u001b[0mvar\u001b[0m\u001b[0;34m,\u001b[0m \u001b[0mfn\u001b[0m\u001b[0;34m,\u001b[0m \u001b[0mmerged_args\u001b[0m\u001b[0;34m,\u001b[0m \u001b[0mmerged_kwargs\u001b[0m\u001b[0;34m,\u001b[0m \u001b[0mgroup\u001b[0m\u001b[0;34m=\u001b[0m\u001b[0mgroup\u001b[0m\u001b[0;34m)\u001b[0m\u001b[0;34m\u001b[0m\u001b[0;34m\u001b[0m\u001b[0m\n\u001b[1;32m   2517\u001b[0m \u001b[0;34m\u001b[0m\u001b[0m\n\u001b[0;32m-> 2518\u001b[0;31m     \u001b[0;32mreturn\u001b[0m \u001b[0mreplica_context\u001b[0m\u001b[0;34m.\u001b[0m\u001b[0mmerge_call\u001b[0m\u001b[0;34m(\u001b[0m\u001b[0mmerge_fn\u001b[0m\u001b[0;34m,\u001b[0m \u001b[0margs\u001b[0m\u001b[0;34m=\u001b[0m\u001b[0margs\u001b[0m\u001b[0;34m,\u001b[0m \u001b[0mkwargs\u001b[0m\u001b[0;34m=\u001b[0m\u001b[0mkwargs\u001b[0m\u001b[0;34m)\u001b[0m\u001b[0;34m\u001b[0m\u001b[0;34m\u001b[0m\u001b[0m\n\u001b[0m\u001b[1;32m   2519\u001b[0m \u001b[0;34m\u001b[0m\u001b[0m\n\u001b[1;32m   2520\u001b[0m   \u001b[0;32mdef\u001b[0m \u001b[0m_gather_to\u001b[0m\u001b[0;34m(\u001b[0m\u001b[0mself\u001b[0m\u001b[0;34m,\u001b[0m \u001b[0mvalue\u001b[0m\u001b[0;34m,\u001b[0m \u001b[0mdestinations\u001b[0m\u001b[0;34m,\u001b[0m \u001b[0maxis\u001b[0m\u001b[0;34m,\u001b[0m \u001b[0moptions\u001b[0m\u001b[0;34m=\u001b[0m\u001b[0;32mNone\u001b[0m\u001b[0;34m)\u001b[0m\u001b[0;34m:\u001b[0m\u001b[0;34m\u001b[0m\u001b[0;34m\u001b[0m\u001b[0m\n",
            "\u001b[0;32m/usr/local/lib/python3.10/dist-packages/tensorflow/python/distribute/distribute_lib.py\u001b[0m in \u001b[0;36mmerge_call\u001b[0;34m(self, merge_fn, args, kwargs)\u001b[0m\n\u001b[1;32m   3108\u001b[0m     merge_fn = autograph.tf_convert(\n\u001b[1;32m   3109\u001b[0m         merge_fn, autograph_ctx.control_status_ctx(), convert_by_default=False)\n\u001b[0;32m-> 3110\u001b[0;31m     \u001b[0;32mreturn\u001b[0m \u001b[0mself\u001b[0m\u001b[0;34m.\u001b[0m\u001b[0m_merge_call\u001b[0m\u001b[0;34m(\u001b[0m\u001b[0mmerge_fn\u001b[0m\u001b[0;34m,\u001b[0m \u001b[0margs\u001b[0m\u001b[0;34m,\u001b[0m \u001b[0mkwargs\u001b[0m\u001b[0;34m)\u001b[0m\u001b[0;34m\u001b[0m\u001b[0;34m\u001b[0m\u001b[0m\n\u001b[0m\u001b[1;32m   3111\u001b[0m \u001b[0;34m\u001b[0m\u001b[0m\n\u001b[1;32m   3112\u001b[0m   \u001b[0;32mdef\u001b[0m \u001b[0m_merge_call\u001b[0m\u001b[0;34m(\u001b[0m\u001b[0mself\u001b[0m\u001b[0;34m,\u001b[0m \u001b[0mmerge_fn\u001b[0m\u001b[0;34m,\u001b[0m \u001b[0margs\u001b[0m\u001b[0;34m,\u001b[0m \u001b[0mkwargs\u001b[0m\u001b[0;34m)\u001b[0m\u001b[0;34m:\u001b[0m\u001b[0;34m\u001b[0m\u001b[0;34m\u001b[0m\u001b[0m\n",
            "\u001b[0;32m/usr/local/lib/python3.10/dist-packages/tensorflow/python/distribute/distribute_lib.py\u001b[0m in \u001b[0;36m_merge_call\u001b[0;34m(self, merge_fn, args, kwargs)\u001b[0m\n\u001b[1;32m   3115\u001b[0m         distribution_strategy_context._CrossReplicaThreadMode(self._strategy))  # pylint: disable=protected-access\n\u001b[1;32m   3116\u001b[0m     \u001b[0;32mtry\u001b[0m\u001b[0;34m:\u001b[0m\u001b[0;34m\u001b[0m\u001b[0;34m\u001b[0m\u001b[0m\n\u001b[0;32m-> 3117\u001b[0;31m       \u001b[0;32mreturn\u001b[0m \u001b[0mmerge_fn\u001b[0m\u001b[0;34m(\u001b[0m\u001b[0mself\u001b[0m\u001b[0;34m.\u001b[0m\u001b[0m_strategy\u001b[0m\u001b[0;34m,\u001b[0m \u001b[0;34m*\u001b[0m\u001b[0margs\u001b[0m\u001b[0;34m,\u001b[0m \u001b[0;34m**\u001b[0m\u001b[0mkwargs\u001b[0m\u001b[0;34m)\u001b[0m\u001b[0;34m\u001b[0m\u001b[0;34m\u001b[0m\u001b[0m\n\u001b[0m\u001b[1;32m   3118\u001b[0m     \u001b[0;32mfinally\u001b[0m\u001b[0;34m:\u001b[0m\u001b[0;34m\u001b[0m\u001b[0;34m\u001b[0m\u001b[0m\n\u001b[1;32m   3119\u001b[0m       \u001b[0m_pop_per_thread_mode\u001b[0m\u001b[0;34m(\u001b[0m\u001b[0;34m)\u001b[0m\u001b[0;34m\u001b[0m\u001b[0;34m\u001b[0m\u001b[0m\n",
            "\u001b[0;32m/usr/local/lib/python3.10/dist-packages/tensorflow/python/autograph/impl/api.py\u001b[0m in \u001b[0;36mwrapper\u001b[0;34m(*args, **kwargs)\u001b[0m\n\u001b[1;32m    687\u001b[0m       \u001b[0;32mtry\u001b[0m\u001b[0;34m:\u001b[0m\u001b[0;34m\u001b[0m\u001b[0;34m\u001b[0m\u001b[0m\n\u001b[1;32m    688\u001b[0m         \u001b[0;32mwith\u001b[0m \u001b[0mconversion_ctx\u001b[0m\u001b[0;34m:\u001b[0m\u001b[0;34m\u001b[0m\u001b[0;34m\u001b[0m\u001b[0m\n\u001b[0;32m--> 689\u001b[0;31m           \u001b[0;32mreturn\u001b[0m \u001b[0mconverted_call\u001b[0m\u001b[0;34m(\u001b[0m\u001b[0mf\u001b[0m\u001b[0;34m,\u001b[0m \u001b[0margs\u001b[0m\u001b[0;34m,\u001b[0m \u001b[0mkwargs\u001b[0m\u001b[0;34m,\u001b[0m \u001b[0moptions\u001b[0m\u001b[0;34m=\u001b[0m\u001b[0moptions\u001b[0m\u001b[0;34m)\u001b[0m\u001b[0;34m\u001b[0m\u001b[0;34m\u001b[0m\u001b[0m\n\u001b[0m\u001b[1;32m    690\u001b[0m       \u001b[0;32mexcept\u001b[0m \u001b[0mException\u001b[0m \u001b[0;32mas\u001b[0m \u001b[0me\u001b[0m\u001b[0;34m:\u001b[0m  \u001b[0;31m# pylint:disable=broad-except\u001b[0m\u001b[0;34m\u001b[0m\u001b[0;34m\u001b[0m\u001b[0m\n\u001b[1;32m    691\u001b[0m         \u001b[0;32mif\u001b[0m \u001b[0mhasattr\u001b[0m\u001b[0;34m(\u001b[0m\u001b[0me\u001b[0m\u001b[0;34m,\u001b[0m \u001b[0;34m'ag_error_metadata'\u001b[0m\u001b[0;34m)\u001b[0m\u001b[0;34m:\u001b[0m\u001b[0;34m\u001b[0m\u001b[0;34m\u001b[0m\u001b[0m\n",
            "\u001b[0;32m/usr/local/lib/python3.10/dist-packages/tensorflow/python/autograph/impl/api.py\u001b[0m in \u001b[0;36mconverted_call\u001b[0;34m(f, args, kwargs, caller_fn_scope, options)\u001b[0m\n\u001b[1;32m    375\u001b[0m \u001b[0;34m\u001b[0m\u001b[0m\n\u001b[1;32m    376\u001b[0m   \u001b[0;32mif\u001b[0m \u001b[0;32mnot\u001b[0m \u001b[0moptions\u001b[0m\u001b[0;34m.\u001b[0m\u001b[0muser_requested\u001b[0m \u001b[0;32mand\u001b[0m \u001b[0mconversion\u001b[0m\u001b[0;34m.\u001b[0m\u001b[0mis_allowlisted\u001b[0m\u001b[0;34m(\u001b[0m\u001b[0mf\u001b[0m\u001b[0;34m)\u001b[0m\u001b[0;34m:\u001b[0m\u001b[0;34m\u001b[0m\u001b[0;34m\u001b[0m\u001b[0m\n\u001b[0;32m--> 377\u001b[0;31m     \u001b[0;32mreturn\u001b[0m \u001b[0m_call_unconverted\u001b[0m\u001b[0;34m(\u001b[0m\u001b[0mf\u001b[0m\u001b[0;34m,\u001b[0m \u001b[0margs\u001b[0m\u001b[0;34m,\u001b[0m \u001b[0mkwargs\u001b[0m\u001b[0;34m,\u001b[0m \u001b[0moptions\u001b[0m\u001b[0;34m)\u001b[0m\u001b[0;34m\u001b[0m\u001b[0;34m\u001b[0m\u001b[0m\n\u001b[0m\u001b[1;32m    378\u001b[0m \u001b[0;34m\u001b[0m\u001b[0m\n\u001b[1;32m    379\u001b[0m   \u001b[0;31m# internal_convert_user_code is for example turned off when issuing a dynamic\u001b[0m\u001b[0;34m\u001b[0m\u001b[0;34m\u001b[0m\u001b[0m\n",
            "\u001b[0;32m/usr/local/lib/python3.10/dist-packages/tensorflow/python/autograph/impl/api.py\u001b[0m in \u001b[0;36m_call_unconverted\u001b[0;34m(f, args, kwargs, options, update_cache)\u001b[0m\n\u001b[1;32m    456\u001b[0m \u001b[0;34m\u001b[0m\u001b[0m\n\u001b[1;32m    457\u001b[0m   \u001b[0;32mif\u001b[0m \u001b[0mkwargs\u001b[0m \u001b[0;32mis\u001b[0m \u001b[0;32mnot\u001b[0m \u001b[0;32mNone\u001b[0m\u001b[0;34m:\u001b[0m\u001b[0;34m\u001b[0m\u001b[0;34m\u001b[0m\u001b[0m\n\u001b[0;32m--> 458\u001b[0;31m     \u001b[0;32mreturn\u001b[0m \u001b[0mf\u001b[0m\u001b[0;34m(\u001b[0m\u001b[0;34m*\u001b[0m\u001b[0margs\u001b[0m\u001b[0;34m,\u001b[0m \u001b[0;34m**\u001b[0m\u001b[0mkwargs\u001b[0m\u001b[0;34m)\u001b[0m\u001b[0;34m\u001b[0m\u001b[0;34m\u001b[0m\u001b[0m\n\u001b[0m\u001b[1;32m    459\u001b[0m   \u001b[0;32mreturn\u001b[0m \u001b[0mf\u001b[0m\u001b[0;34m(\u001b[0m\u001b[0;34m*\u001b[0m\u001b[0margs\u001b[0m\u001b[0;34m)\u001b[0m\u001b[0;34m\u001b[0m\u001b[0;34m\u001b[0m\u001b[0m\n\u001b[1;32m    460\u001b[0m \u001b[0;34m\u001b[0m\u001b[0m\n",
            "\u001b[0;32m/usr/local/lib/python3.10/dist-packages/tensorflow/python/distribute/distribute_lib.py\u001b[0m in \u001b[0;36mmerge_fn\u001b[0;34m(_, *merged_args, **merged_kwargs)\u001b[0m\n\u001b[1;32m   2514\u001b[0m \u001b[0;34m\u001b[0m\u001b[0m\n\u001b[1;32m   2515\u001b[0m     \u001b[0;32mdef\u001b[0m \u001b[0mmerge_fn\u001b[0m\u001b[0;34m(\u001b[0m\u001b[0m_\u001b[0m\u001b[0;34m,\u001b[0m \u001b[0;34m*\u001b[0m\u001b[0mmerged_args\u001b[0m\u001b[0;34m,\u001b[0m \u001b[0;34m**\u001b[0m\u001b[0mmerged_kwargs\u001b[0m\u001b[0;34m)\u001b[0m\u001b[0;34m:\u001b[0m\u001b[0;34m\u001b[0m\u001b[0;34m\u001b[0m\u001b[0m\n\u001b[0;32m-> 2516\u001b[0;31m       \u001b[0;32mreturn\u001b[0m \u001b[0mself\u001b[0m\u001b[0;34m.\u001b[0m\u001b[0mupdate\u001b[0m\u001b[0;34m(\u001b[0m\u001b[0mvar\u001b[0m\u001b[0;34m,\u001b[0m \u001b[0mfn\u001b[0m\u001b[0;34m,\u001b[0m \u001b[0mmerged_args\u001b[0m\u001b[0;34m,\u001b[0m \u001b[0mmerged_kwargs\u001b[0m\u001b[0;34m,\u001b[0m \u001b[0mgroup\u001b[0m\u001b[0;34m=\u001b[0m\u001b[0mgroup\u001b[0m\u001b[0;34m)\u001b[0m\u001b[0;34m\u001b[0m\u001b[0;34m\u001b[0m\u001b[0m\n\u001b[0m\u001b[1;32m   2517\u001b[0m \u001b[0;34m\u001b[0m\u001b[0m\n\u001b[1;32m   2518\u001b[0m     \u001b[0;32mreturn\u001b[0m \u001b[0mreplica_context\u001b[0m\u001b[0;34m.\u001b[0m\u001b[0mmerge_call\u001b[0m\u001b[0;34m(\u001b[0m\u001b[0mmerge_fn\u001b[0m\u001b[0;34m,\u001b[0m \u001b[0margs\u001b[0m\u001b[0;34m=\u001b[0m\u001b[0margs\u001b[0m\u001b[0;34m,\u001b[0m \u001b[0mkwargs\u001b[0m\u001b[0;34m=\u001b[0m\u001b[0mkwargs\u001b[0m\u001b[0;34m)\u001b[0m\u001b[0;34m\u001b[0m\u001b[0;34m\u001b[0m\u001b[0m\n",
            "\u001b[0;32m/usr/local/lib/python3.10/dist-packages/tensorflow/python/distribute/distribute_lib.py\u001b[0m in \u001b[0;36mupdate\u001b[0;34m(self, var, fn, args, kwargs, group)\u001b[0m\n\u001b[1;32m   2635\u001b[0m           fn, autograph_ctx.control_status_ctx(), convert_by_default=False)\n\u001b[1;32m   2636\u001b[0m       \u001b[0;32mwith\u001b[0m \u001b[0mself\u001b[0m\u001b[0;34m.\u001b[0m\u001b[0m_container_strategy\u001b[0m\u001b[0;34m(\u001b[0m\u001b[0;34m)\u001b[0m\u001b[0;34m.\u001b[0m\u001b[0mscope\u001b[0m\u001b[0;34m(\u001b[0m\u001b[0;34m)\u001b[0m\u001b[0;34m:\u001b[0m\u001b[0;34m\u001b[0m\u001b[0;34m\u001b[0m\u001b[0m\n\u001b[0;32m-> 2637\u001b[0;31m         \u001b[0;32mreturn\u001b[0m \u001b[0mself\u001b[0m\u001b[0;34m.\u001b[0m\u001b[0m_update\u001b[0m\u001b[0;34m(\u001b[0m\u001b[0mvar\u001b[0m\u001b[0;34m,\u001b[0m \u001b[0mfn\u001b[0m\u001b[0;34m,\u001b[0m \u001b[0margs\u001b[0m\u001b[0;34m,\u001b[0m \u001b[0mkwargs\u001b[0m\u001b[0;34m,\u001b[0m \u001b[0mgroup\u001b[0m\u001b[0;34m)\u001b[0m\u001b[0;34m\u001b[0m\u001b[0;34m\u001b[0m\u001b[0m\n\u001b[0m\u001b[1;32m   2638\u001b[0m     \u001b[0;32melse\u001b[0m\u001b[0;34m:\u001b[0m\u001b[0;34m\u001b[0m\u001b[0;34m\u001b[0m\u001b[0m\n\u001b[1;32m   2639\u001b[0m       return self._replica_ctx_update(\n",
            "\u001b[0;32m/usr/local/lib/python3.10/dist-packages/tensorflow/python/distribute/distribute_lib.py\u001b[0m in \u001b[0;36m_update\u001b[0;34m(self, var, fn, args, kwargs, group)\u001b[0m\n\u001b[1;32m   3708\u001b[0m     \u001b[0;31m# The implementations of _update() and _update_non_slot() are identical\u001b[0m\u001b[0;34m\u001b[0m\u001b[0;34m\u001b[0m\u001b[0m\n\u001b[1;32m   3709\u001b[0m     \u001b[0;31m# except _update() passes `var` as the first argument to `fn()`.\u001b[0m\u001b[0;34m\u001b[0m\u001b[0;34m\u001b[0m\u001b[0m\n\u001b[0;32m-> 3710\u001b[0;31m     \u001b[0;32mreturn\u001b[0m \u001b[0mself\u001b[0m\u001b[0;34m.\u001b[0m\u001b[0m_update_non_slot\u001b[0m\u001b[0;34m(\u001b[0m\u001b[0mvar\u001b[0m\u001b[0;34m,\u001b[0m \u001b[0mfn\u001b[0m\u001b[0;34m,\u001b[0m \u001b[0;34m(\u001b[0m\u001b[0mvar\u001b[0m\u001b[0;34m,\u001b[0m\u001b[0;34m)\u001b[0m \u001b[0;34m+\u001b[0m \u001b[0mtuple\u001b[0m\u001b[0;34m(\u001b[0m\u001b[0margs\u001b[0m\u001b[0;34m)\u001b[0m\u001b[0;34m,\u001b[0m \u001b[0mkwargs\u001b[0m\u001b[0;34m,\u001b[0m \u001b[0mgroup\u001b[0m\u001b[0;34m)\u001b[0m\u001b[0;34m\u001b[0m\u001b[0;34m\u001b[0m\u001b[0m\n\u001b[0m\u001b[1;32m   3711\u001b[0m \u001b[0;34m\u001b[0m\u001b[0m\n\u001b[1;32m   3712\u001b[0m   \u001b[0;32mdef\u001b[0m \u001b[0m_update_non_slot\u001b[0m\u001b[0;34m(\u001b[0m\u001b[0mself\u001b[0m\u001b[0;34m,\u001b[0m \u001b[0mcolocate_with\u001b[0m\u001b[0;34m,\u001b[0m \u001b[0mfn\u001b[0m\u001b[0;34m,\u001b[0m \u001b[0margs\u001b[0m\u001b[0;34m,\u001b[0m \u001b[0mkwargs\u001b[0m\u001b[0;34m,\u001b[0m \u001b[0mshould_group\u001b[0m\u001b[0;34m)\u001b[0m\u001b[0;34m:\u001b[0m\u001b[0;34m\u001b[0m\u001b[0;34m\u001b[0m\u001b[0m\n",
            "\u001b[0;32m/usr/local/lib/python3.10/dist-packages/tensorflow/python/distribute/distribute_lib.py\u001b[0m in \u001b[0;36m_update_non_slot\u001b[0;34m(self, colocate_with, fn, args, kwargs, should_group)\u001b[0m\n\u001b[1;32m   3714\u001b[0m     \u001b[0;31m# once that value is used for something.\u001b[0m\u001b[0;34m\u001b[0m\u001b[0;34m\u001b[0m\u001b[0m\n\u001b[1;32m   3715\u001b[0m     \u001b[0;32mwith\u001b[0m \u001b[0mUpdateContext\u001b[0m\u001b[0;34m(\u001b[0m\u001b[0mcolocate_with\u001b[0m\u001b[0;34m)\u001b[0m\u001b[0;34m:\u001b[0m\u001b[0;34m\u001b[0m\u001b[0;34m\u001b[0m\u001b[0m\n\u001b[0;32m-> 3716\u001b[0;31m       \u001b[0mresult\u001b[0m \u001b[0;34m=\u001b[0m \u001b[0mfn\u001b[0m\u001b[0;34m(\u001b[0m\u001b[0;34m*\u001b[0m\u001b[0margs\u001b[0m\u001b[0;34m,\u001b[0m \u001b[0;34m**\u001b[0m\u001b[0mkwargs\u001b[0m\u001b[0;34m)\u001b[0m\u001b[0;34m\u001b[0m\u001b[0;34m\u001b[0m\u001b[0m\n\u001b[0m\u001b[1;32m   3717\u001b[0m       \u001b[0;32mif\u001b[0m \u001b[0mshould_group\u001b[0m\u001b[0;34m:\u001b[0m\u001b[0;34m\u001b[0m\u001b[0;34m\u001b[0m\u001b[0m\n\u001b[1;32m   3718\u001b[0m         \u001b[0;32mreturn\u001b[0m \u001b[0mresult\u001b[0m\u001b[0;34m\u001b[0m\u001b[0;34m\u001b[0m\u001b[0m\n",
            "\u001b[0;32m/usr/local/lib/python3.10/dist-packages/tensorflow/python/autograph/impl/api.py\u001b[0m in \u001b[0;36mwrapper\u001b[0;34m(*args, **kwargs)\u001b[0m\n\u001b[1;32m    687\u001b[0m       \u001b[0;32mtry\u001b[0m\u001b[0;34m:\u001b[0m\u001b[0;34m\u001b[0m\u001b[0;34m\u001b[0m\u001b[0m\n\u001b[1;32m    688\u001b[0m         \u001b[0;32mwith\u001b[0m \u001b[0mconversion_ctx\u001b[0m\u001b[0;34m:\u001b[0m\u001b[0;34m\u001b[0m\u001b[0;34m\u001b[0m\u001b[0m\n\u001b[0;32m--> 689\u001b[0;31m           \u001b[0;32mreturn\u001b[0m \u001b[0mconverted_call\u001b[0m\u001b[0;34m(\u001b[0m\u001b[0mf\u001b[0m\u001b[0;34m,\u001b[0m \u001b[0margs\u001b[0m\u001b[0;34m,\u001b[0m \u001b[0mkwargs\u001b[0m\u001b[0;34m,\u001b[0m \u001b[0moptions\u001b[0m\u001b[0;34m=\u001b[0m\u001b[0moptions\u001b[0m\u001b[0;34m)\u001b[0m\u001b[0;34m\u001b[0m\u001b[0;34m\u001b[0m\u001b[0m\n\u001b[0m\u001b[1;32m    690\u001b[0m       \u001b[0;32mexcept\u001b[0m \u001b[0mException\u001b[0m \u001b[0;32mas\u001b[0m \u001b[0me\u001b[0m\u001b[0;34m:\u001b[0m  \u001b[0;31m# pylint:disable=broad-except\u001b[0m\u001b[0;34m\u001b[0m\u001b[0;34m\u001b[0m\u001b[0m\n\u001b[1;32m    691\u001b[0m         \u001b[0;32mif\u001b[0m \u001b[0mhasattr\u001b[0m\u001b[0;34m(\u001b[0m\u001b[0me\u001b[0m\u001b[0;34m,\u001b[0m \u001b[0;34m'ag_error_metadata'\u001b[0m\u001b[0;34m)\u001b[0m\u001b[0;34m:\u001b[0m\u001b[0;34m\u001b[0m\u001b[0;34m\u001b[0m\u001b[0m\n",
            "\u001b[0;32m/usr/local/lib/python3.10/dist-packages/tensorflow/python/autograph/impl/api.py\u001b[0m in \u001b[0;36mconverted_call\u001b[0;34m(f, args, kwargs, caller_fn_scope, options)\u001b[0m\n\u001b[1;32m    329\u001b[0m   \u001b[0;32mif\u001b[0m \u001b[0mconversion\u001b[0m\u001b[0;34m.\u001b[0m\u001b[0mis_in_allowlist_cache\u001b[0m\u001b[0;34m(\u001b[0m\u001b[0mf\u001b[0m\u001b[0;34m,\u001b[0m \u001b[0moptions\u001b[0m\u001b[0;34m)\u001b[0m\u001b[0;34m:\u001b[0m\u001b[0;34m\u001b[0m\u001b[0;34m\u001b[0m\u001b[0m\n\u001b[1;32m    330\u001b[0m     \u001b[0mlogging\u001b[0m\u001b[0;34m.\u001b[0m\u001b[0mlog\u001b[0m\u001b[0;34m(\u001b[0m\u001b[0;36m2\u001b[0m\u001b[0;34m,\u001b[0m \u001b[0;34m'Allowlisted %s: from cache'\u001b[0m\u001b[0;34m,\u001b[0m \u001b[0mf\u001b[0m\u001b[0;34m)\u001b[0m\u001b[0;34m\u001b[0m\u001b[0;34m\u001b[0m\u001b[0m\n\u001b[0;32m--> 331\u001b[0;31m     \u001b[0;32mreturn\u001b[0m \u001b[0m_call_unconverted\u001b[0m\u001b[0;34m(\u001b[0m\u001b[0mf\u001b[0m\u001b[0;34m,\u001b[0m \u001b[0margs\u001b[0m\u001b[0;34m,\u001b[0m \u001b[0mkwargs\u001b[0m\u001b[0;34m,\u001b[0m \u001b[0moptions\u001b[0m\u001b[0;34m,\u001b[0m \u001b[0;32mFalse\u001b[0m\u001b[0;34m)\u001b[0m\u001b[0;34m\u001b[0m\u001b[0;34m\u001b[0m\u001b[0m\n\u001b[0m\u001b[1;32m    332\u001b[0m \u001b[0;34m\u001b[0m\u001b[0m\n\u001b[1;32m    333\u001b[0m   \u001b[0;32mif\u001b[0m \u001b[0mag_ctx\u001b[0m\u001b[0;34m.\u001b[0m\u001b[0mcontrol_status_ctx\u001b[0m\u001b[0;34m(\u001b[0m\u001b[0;34m)\u001b[0m\u001b[0;34m.\u001b[0m\u001b[0mstatus\u001b[0m \u001b[0;34m==\u001b[0m \u001b[0mag_ctx\u001b[0m\u001b[0;34m.\u001b[0m\u001b[0mStatus\u001b[0m\u001b[0;34m.\u001b[0m\u001b[0mDISABLED\u001b[0m\u001b[0;34m:\u001b[0m\u001b[0;34m\u001b[0m\u001b[0;34m\u001b[0m\u001b[0m\n",
            "\u001b[0;32m/usr/local/lib/python3.10/dist-packages/tensorflow/python/autograph/impl/api.py\u001b[0m in \u001b[0;36m_call_unconverted\u001b[0;34m(f, args, kwargs, options, update_cache)\u001b[0m\n\u001b[1;32m    456\u001b[0m \u001b[0;34m\u001b[0m\u001b[0m\n\u001b[1;32m    457\u001b[0m   \u001b[0;32mif\u001b[0m \u001b[0mkwargs\u001b[0m \u001b[0;32mis\u001b[0m \u001b[0;32mnot\u001b[0m \u001b[0;32mNone\u001b[0m\u001b[0;34m:\u001b[0m\u001b[0;34m\u001b[0m\u001b[0;34m\u001b[0m\u001b[0m\n\u001b[0;32m--> 458\u001b[0;31m     \u001b[0;32mreturn\u001b[0m \u001b[0mf\u001b[0m\u001b[0;34m(\u001b[0m\u001b[0;34m*\u001b[0m\u001b[0margs\u001b[0m\u001b[0;34m,\u001b[0m \u001b[0;34m**\u001b[0m\u001b[0mkwargs\u001b[0m\u001b[0;34m)\u001b[0m\u001b[0;34m\u001b[0m\u001b[0;34m\u001b[0m\u001b[0m\n\u001b[0m\u001b[1;32m    459\u001b[0m   \u001b[0;32mreturn\u001b[0m \u001b[0mf\u001b[0m\u001b[0;34m(\u001b[0m\u001b[0;34m*\u001b[0m\u001b[0margs\u001b[0m\u001b[0;34m)\u001b[0m\u001b[0;34m\u001b[0m\u001b[0;34m\u001b[0m\u001b[0m\n\u001b[1;32m    460\u001b[0m \u001b[0;34m\u001b[0m\u001b[0m\n",
            "\u001b[0;32m/usr/local/lib/python3.10/dist-packages/keras/optimizers/optimizer.py\u001b[0m in \u001b[0;36mapply_grad_to_update_var\u001b[0;34m(var, grad)\u001b[0m\n\u001b[1;32m   1243\u001b[0m         \u001b[0;32mdef\u001b[0m \u001b[0mapply_grad_to_update_var\u001b[0m\u001b[0;34m(\u001b[0m\u001b[0mvar\u001b[0m\u001b[0;34m,\u001b[0m \u001b[0mgrad\u001b[0m\u001b[0;34m)\u001b[0m\u001b[0;34m:\u001b[0m\u001b[0;34m\u001b[0m\u001b[0;34m\u001b[0m\u001b[0m\n\u001b[1;32m   1244\u001b[0m             \u001b[0;32mif\u001b[0m \u001b[0mself\u001b[0m\u001b[0;34m.\u001b[0m\u001b[0mjit_compile\u001b[0m\u001b[0;34m:\u001b[0m\u001b[0;34m\u001b[0m\u001b[0;34m\u001b[0m\u001b[0m\n\u001b[0;32m-> 1245\u001b[0;31m                 \u001b[0;32mreturn\u001b[0m \u001b[0mself\u001b[0m\u001b[0;34m.\u001b[0m\u001b[0m_update_step_xla\u001b[0m\u001b[0;34m(\u001b[0m\u001b[0mgrad\u001b[0m\u001b[0;34m,\u001b[0m \u001b[0mvar\u001b[0m\u001b[0;34m,\u001b[0m \u001b[0mid\u001b[0m\u001b[0;34m(\u001b[0m\u001b[0mself\u001b[0m\u001b[0;34m.\u001b[0m\u001b[0m_var_key\u001b[0m\u001b[0;34m(\u001b[0m\u001b[0mvar\u001b[0m\u001b[0;34m)\u001b[0m\u001b[0;34m)\u001b[0m\u001b[0;34m)\u001b[0m\u001b[0;34m\u001b[0m\u001b[0;34m\u001b[0m\u001b[0m\n\u001b[0m\u001b[1;32m   1246\u001b[0m             \u001b[0;32melse\u001b[0m\u001b[0;34m:\u001b[0m\u001b[0;34m\u001b[0m\u001b[0;34m\u001b[0m\u001b[0m\n\u001b[1;32m   1247\u001b[0m                 \u001b[0;32mreturn\u001b[0m \u001b[0mself\u001b[0m\u001b[0;34m.\u001b[0m\u001b[0m_update_step\u001b[0m\u001b[0;34m(\u001b[0m\u001b[0mgrad\u001b[0m\u001b[0;34m,\u001b[0m \u001b[0mvar\u001b[0m\u001b[0;34m)\u001b[0m\u001b[0;34m\u001b[0m\u001b[0;34m\u001b[0m\u001b[0m\n",
            "\u001b[0;32m/usr/local/lib/python3.10/dist-packages/tensorflow/python/util/traceback_utils.py\u001b[0m in \u001b[0;36merror_handler\u001b[0;34m(*args, **kwargs)\u001b[0m\n\u001b[1;32m    148\u001b[0m     \u001b[0mfiltered_tb\u001b[0m \u001b[0;34m=\u001b[0m \u001b[0;32mNone\u001b[0m\u001b[0;34m\u001b[0m\u001b[0;34m\u001b[0m\u001b[0m\n\u001b[1;32m    149\u001b[0m     \u001b[0;32mtry\u001b[0m\u001b[0;34m:\u001b[0m\u001b[0;34m\u001b[0m\u001b[0;34m\u001b[0m\u001b[0m\n\u001b[0;32m--> 150\u001b[0;31m       \u001b[0;32mreturn\u001b[0m \u001b[0mfn\u001b[0m\u001b[0;34m(\u001b[0m\u001b[0;34m*\u001b[0m\u001b[0margs\u001b[0m\u001b[0;34m,\u001b[0m \u001b[0;34m**\u001b[0m\u001b[0mkwargs\u001b[0m\u001b[0;34m)\u001b[0m\u001b[0;34m\u001b[0m\u001b[0;34m\u001b[0m\u001b[0m\n\u001b[0m\u001b[1;32m    151\u001b[0m     \u001b[0;32mexcept\u001b[0m \u001b[0mException\u001b[0m \u001b[0;32mas\u001b[0m \u001b[0me\u001b[0m\u001b[0;34m:\u001b[0m\u001b[0;34m\u001b[0m\u001b[0;34m\u001b[0m\u001b[0m\n\u001b[1;32m    152\u001b[0m       \u001b[0mfiltered_tb\u001b[0m \u001b[0;34m=\u001b[0m \u001b[0m_process_traceback_frames\u001b[0m\u001b[0;34m(\u001b[0m\u001b[0me\u001b[0m\u001b[0;34m.\u001b[0m\u001b[0m__traceback__\u001b[0m\u001b[0;34m)\u001b[0m\u001b[0;34m\u001b[0m\u001b[0;34m\u001b[0m\u001b[0m\n",
            "\u001b[0;32m/usr/local/lib/python3.10/dist-packages/tensorflow/python/eager/polymorphic_function/polymorphic_function.py\u001b[0m in \u001b[0;36m__call__\u001b[0;34m(self, *args, **kwds)\u001b[0m\n\u001b[1;32m    892\u001b[0m \u001b[0;34m\u001b[0m\u001b[0m\n\u001b[1;32m    893\u001b[0m       \u001b[0;32mwith\u001b[0m \u001b[0mOptionalXlaContext\u001b[0m\u001b[0;34m(\u001b[0m\u001b[0mself\u001b[0m\u001b[0;34m.\u001b[0m\u001b[0m_jit_compile\u001b[0m\u001b[0;34m)\u001b[0m\u001b[0;34m:\u001b[0m\u001b[0;34m\u001b[0m\u001b[0;34m\u001b[0m\u001b[0m\n\u001b[0;32m--> 894\u001b[0;31m         \u001b[0mresult\u001b[0m \u001b[0;34m=\u001b[0m \u001b[0mself\u001b[0m\u001b[0;34m.\u001b[0m\u001b[0m_call\u001b[0m\u001b[0;34m(\u001b[0m\u001b[0;34m*\u001b[0m\u001b[0margs\u001b[0m\u001b[0;34m,\u001b[0m \u001b[0;34m**\u001b[0m\u001b[0mkwds\u001b[0m\u001b[0;34m)\u001b[0m\u001b[0;34m\u001b[0m\u001b[0;34m\u001b[0m\u001b[0m\n\u001b[0m\u001b[1;32m    895\u001b[0m \u001b[0;34m\u001b[0m\u001b[0m\n\u001b[1;32m    896\u001b[0m       \u001b[0mnew_tracing_count\u001b[0m \u001b[0;34m=\u001b[0m \u001b[0mself\u001b[0m\u001b[0;34m.\u001b[0m\u001b[0mexperimental_get_tracing_count\u001b[0m\u001b[0;34m(\u001b[0m\u001b[0;34m)\u001b[0m\u001b[0;34m\u001b[0m\u001b[0;34m\u001b[0m\u001b[0m\n",
            "\u001b[0;32m/usr/local/lib/python3.10/dist-packages/tensorflow/python/eager/polymorphic_function/polymorphic_function.py\u001b[0m in \u001b[0;36m_call\u001b[0;34m(self, *args, **kwds)\u001b[0m\n\u001b[1;32m    931\u001b[0m       \u001b[0;31m# In this case we have not created variables on the first call. So we can\u001b[0m\u001b[0;34m\u001b[0m\u001b[0;34m\u001b[0m\u001b[0m\n\u001b[1;32m    932\u001b[0m       \u001b[0;31m# run the first trace but we should fail if variables are created.\u001b[0m\u001b[0;34m\u001b[0m\u001b[0;34m\u001b[0m\u001b[0m\n\u001b[0;32m--> 933\u001b[0;31m       \u001b[0mresults\u001b[0m \u001b[0;34m=\u001b[0m \u001b[0mself\u001b[0m\u001b[0;34m.\u001b[0m\u001b[0m_variable_creation_fn\u001b[0m\u001b[0;34m(\u001b[0m\u001b[0;34m*\u001b[0m\u001b[0margs\u001b[0m\u001b[0;34m,\u001b[0m \u001b[0;34m**\u001b[0m\u001b[0mkwds\u001b[0m\u001b[0;34m)\u001b[0m\u001b[0;34m\u001b[0m\u001b[0;34m\u001b[0m\u001b[0m\n\u001b[0m\u001b[1;32m    934\u001b[0m       \u001b[0;32mif\u001b[0m \u001b[0mself\u001b[0m\u001b[0;34m.\u001b[0m\u001b[0m_created_variables\u001b[0m \u001b[0;32mand\u001b[0m \u001b[0;32mnot\u001b[0m \u001b[0mALLOW_DYNAMIC_VARIABLE_CREATION\u001b[0m\u001b[0;34m:\u001b[0m\u001b[0;34m\u001b[0m\u001b[0;34m\u001b[0m\u001b[0m\n\u001b[1;32m    935\u001b[0m         raise ValueError(\"Creating variables on a non-first call to a function\"\n",
            "\u001b[0;32m/usr/local/lib/python3.10/dist-packages/tensorflow/python/eager/polymorphic_function/tracing_compiler.py\u001b[0m in \u001b[0;36m__call__\u001b[0;34m(self, *args, **kwargs)\u001b[0m\n\u001b[1;32m    140\u001b[0m     \u001b[0;32mwith\u001b[0m \u001b[0mself\u001b[0m\u001b[0;34m.\u001b[0m\u001b[0m_lock\u001b[0m\u001b[0;34m:\u001b[0m\u001b[0;34m\u001b[0m\u001b[0;34m\u001b[0m\u001b[0m\n\u001b[1;32m    141\u001b[0m       (concrete_function,\n\u001b[0;32m--> 142\u001b[0;31m        filtered_flat_args) = self._maybe_define_function(args, kwargs)\n\u001b[0m\u001b[1;32m    143\u001b[0m     return concrete_function._call_flat(\n\u001b[1;32m    144\u001b[0m         filtered_flat_args, captured_inputs=concrete_function.captured_inputs)  # pylint: disable=protected-access\n",
            "\u001b[0;32m/usr/local/lib/python3.10/dist-packages/tensorflow/python/eager/polymorphic_function/tracing_compiler.py\u001b[0m in \u001b[0;36m_maybe_define_function\u001b[0;34m(self, args, kwargs)\u001b[0m\n\u001b[1;32m    394\u001b[0m           \u001b[0mkwargs\u001b[0m \u001b[0;34m=\u001b[0m \u001b[0mplaceholder_bound_args\u001b[0m\u001b[0;34m.\u001b[0m\u001b[0mkwargs\u001b[0m\u001b[0;34m\u001b[0m\u001b[0;34m\u001b[0m\u001b[0m\n\u001b[1;32m    395\u001b[0m \u001b[0;34m\u001b[0m\u001b[0m\n\u001b[0;32m--> 396\u001b[0;31m           concrete_function = self._create_concrete_function(\n\u001b[0m\u001b[1;32m    397\u001b[0m               args, kwargs, func_graph)\n\u001b[1;32m    398\u001b[0m \u001b[0;34m\u001b[0m\u001b[0m\n",
            "\u001b[0;32m/usr/local/lib/python3.10/dist-packages/tensorflow/python/eager/polymorphic_function/tracing_compiler.py\u001b[0m in \u001b[0;36m_create_concrete_function\u001b[0;34m(self, args, kwargs, func_graph)\u001b[0m\n\u001b[1;32m    297\u001b[0m       \u001b[0marg_names\u001b[0m \u001b[0;34m=\u001b[0m \u001b[0mbase_arg_names\u001b[0m\u001b[0;34m\u001b[0m\u001b[0;34m\u001b[0m\u001b[0m\n\u001b[1;32m    298\u001b[0m \u001b[0;34m\u001b[0m\u001b[0m\n\u001b[0;32m--> 299\u001b[0;31m     concrete_function = monomorphic_function.ConcreteFunction(\n\u001b[0m\u001b[1;32m    300\u001b[0m         func_graph_module.func_graph_from_py_func(\n\u001b[1;32m    301\u001b[0m             \u001b[0mself\u001b[0m\u001b[0;34m.\u001b[0m\u001b[0m_name\u001b[0m\u001b[0;34m,\u001b[0m\u001b[0;34m\u001b[0m\u001b[0;34m\u001b[0m\u001b[0m\n",
            "\u001b[0;32m/usr/local/lib/python3.10/dist-packages/tensorflow/python/eager/polymorphic_function/monomorphic_function.py\u001b[0m in \u001b[0;36m__init__\u001b[0;34m(self, func_graph, attrs, shared_func_graph, spec)\u001b[0m\n\u001b[1;32m   1320\u001b[0m \u001b[0;34m\u001b[0m\u001b[0m\n\u001b[1;32m   1321\u001b[0m     \u001b[0;31m# spec defines the structured signature.\u001b[0m\u001b[0;34m\u001b[0m\u001b[0;34m\u001b[0m\u001b[0m\n\u001b[0;32m-> 1322\u001b[0;31m     \u001b[0mself\u001b[0m\u001b[0;34m.\u001b[0m\u001b[0m_set_function_spec\u001b[0m\u001b[0;34m(\u001b[0m\u001b[0mspec\u001b[0m\u001b[0;34m)\u001b[0m\u001b[0;34m\u001b[0m\u001b[0;34m\u001b[0m\u001b[0m\n\u001b[0m\u001b[1;32m   1323\u001b[0m \u001b[0;34m\u001b[0m\u001b[0m\n\u001b[1;32m   1324\u001b[0m     \u001b[0;32mif\u001b[0m \u001b[0mattrs\u001b[0m \u001b[0;32mand\u001b[0m \u001b[0mattributes_lib\u001b[0m\u001b[0;34m.\u001b[0m\u001b[0mIMPLEMENTS\u001b[0m \u001b[0;32min\u001b[0m \u001b[0mattrs\u001b[0m\u001b[0;34m:\u001b[0m\u001b[0;34m\u001b[0m\u001b[0;34m\u001b[0m\u001b[0m\n",
            "\u001b[0;32m/usr/local/lib/python3.10/dist-packages/tensorflow/python/eager/polymorphic_function/monomorphic_function.py\u001b[0m in \u001b[0;36m_set_function_spec\u001b[0;34m(self, spec)\u001b[0m\n\u001b[1;32m   1372\u001b[0m     \u001b[0mself\u001b[0m\u001b[0;34m.\u001b[0m\u001b[0m_function_spec\u001b[0m \u001b[0;34m=\u001b[0m \u001b[0;32mNone\u001b[0m\u001b[0;34m\u001b[0m\u001b[0;34m\u001b[0m\u001b[0m\n\u001b[1;32m   1373\u001b[0m     \u001b[0mself\u001b[0m\u001b[0;34m.\u001b[0m\u001b[0m_pre_initialized_function_spec\u001b[0m \u001b[0;34m=\u001b[0m \u001b[0mspec\u001b[0m\u001b[0;34m\u001b[0m\u001b[0;34m\u001b[0m\u001b[0m\n\u001b[0;32m-> 1374\u001b[0;31m     \u001b[0mself\u001b[0m\u001b[0;34m.\u001b[0m\u001b[0m_initialize_function_spec\u001b[0m\u001b[0;34m(\u001b[0m\u001b[0;34m)\u001b[0m\u001b[0;34m\u001b[0m\u001b[0;34m\u001b[0m\u001b[0m\n\u001b[0m\u001b[1;32m   1375\u001b[0m \u001b[0;34m\u001b[0m\u001b[0m\n\u001b[1;32m   1376\u001b[0m   \u001b[0;32mdef\u001b[0m \u001b[0m_initialize_function_spec\u001b[0m\u001b[0;34m(\u001b[0m\u001b[0mself\u001b[0m\u001b[0;34m)\u001b[0m\u001b[0;34m:\u001b[0m\u001b[0;34m\u001b[0m\u001b[0;34m\u001b[0m\u001b[0m\n",
            "\u001b[0;32m/usr/local/lib/python3.10/dist-packages/tensorflow/python/eager/polymorphic_function/monomorphic_function.py\u001b[0m in \u001b[0;36m_initialize_function_spec\u001b[0;34m(self)\u001b[0m\n\u001b[1;32m   1403\u001b[0m         annotations=spec.fullargspec.annotations)\n\u001b[1;32m   1404\u001b[0m     self._function_spec = (\n\u001b[0;32m-> 1405\u001b[0;31m         function_spec.FunctionSpec.from_fullargspec_and_signature(\n\u001b[0m\u001b[1;32m   1406\u001b[0m             \u001b[0mfullargspec\u001b[0m\u001b[0;34m,\u001b[0m\u001b[0;34m\u001b[0m\u001b[0;34m\u001b[0m\u001b[0m\n\u001b[1;32m   1407\u001b[0m             \u001b[0mspec\u001b[0m\u001b[0;34m.\u001b[0m\u001b[0mis_method\u001b[0m\u001b[0;34m,\u001b[0m\u001b[0;34m\u001b[0m\u001b[0;34m\u001b[0m\u001b[0m\n",
            "\u001b[0;32m/usr/local/lib/python3.10/dist-packages/tensorflow/python/eager/polymorphic_function/function_spec.py\u001b[0m in \u001b[0;36mfrom_fullargspec_and_signature\u001b[0;34m(cls, fullargspec, is_bound_method, input_signature, is_pure, name, jit_compile)\u001b[0m\n\u001b[1;32m    235\u001b[0m                                      jit_compile=None):\n\u001b[1;32m    236\u001b[0m     \u001b[0;34m\"\"\"Construct FunctionSpec from legacy FullArgSpec format.\"\"\"\u001b[0m\u001b[0;34m\u001b[0m\u001b[0;34m\u001b[0m\u001b[0m\n\u001b[0;32m--> 237\u001b[0;31m     \u001b[0mfunction_type\u001b[0m\u001b[0;34m,\u001b[0m \u001b[0mdefault_values\u001b[0m \u001b[0;34m=\u001b[0m \u001b[0mto_function_type\u001b[0m\u001b[0;34m(\u001b[0m\u001b[0mfullargspec\u001b[0m\u001b[0;34m)\u001b[0m\u001b[0;34m\u001b[0m\u001b[0;34m\u001b[0m\u001b[0m\n\u001b[0m\u001b[1;32m    238\u001b[0m     \u001b[0;32mif\u001b[0m \u001b[0minput_signature\u001b[0m\u001b[0;34m:\u001b[0m\u001b[0;34m\u001b[0m\u001b[0;34m\u001b[0m\u001b[0m\n\u001b[1;32m    239\u001b[0m       \u001b[0minput_signature\u001b[0m \u001b[0;34m=\u001b[0m \u001b[0mtuple\u001b[0m\u001b[0;34m(\u001b[0m\u001b[0minput_signature\u001b[0m\u001b[0;34m)\u001b[0m\u001b[0;34m\u001b[0m\u001b[0;34m\u001b[0m\u001b[0m\n",
            "\u001b[0;32m/usr/local/lib/python3.10/dist-packages/tensorflow/python/eager/polymorphic_function/function_spec.py\u001b[0m in \u001b[0;36mto_function_type\u001b[0;34m(fullargspec)\u001b[0m\n\u001b[1;32m    105\u001b[0m \u001b[0;32mdef\u001b[0m \u001b[0mto_function_type\u001b[0m\u001b[0;34m(\u001b[0m\u001b[0mfullargspec\u001b[0m\u001b[0;34m)\u001b[0m\u001b[0;34m:\u001b[0m\u001b[0;34m\u001b[0m\u001b[0;34m\u001b[0m\u001b[0m\n\u001b[1;32m    106\u001b[0m   \u001b[0;34m\"\"\"Generates FunctionType and default values from fullargspec.\"\"\"\u001b[0m\u001b[0;34m\u001b[0m\u001b[0;34m\u001b[0m\u001b[0m\n\u001b[0;32m--> 107\u001b[0;31m   \u001b[0mdefault_values\u001b[0m \u001b[0;34m=\u001b[0m \u001b[0m_to_default_values\u001b[0m\u001b[0;34m(\u001b[0m\u001b[0mfullargspec\u001b[0m\u001b[0;34m)\u001b[0m\u001b[0;34m\u001b[0m\u001b[0;34m\u001b[0m\u001b[0m\n\u001b[0m\u001b[1;32m    108\u001b[0m   \u001b[0mparameters\u001b[0m \u001b[0;34m=\u001b[0m \u001b[0;34m[\u001b[0m\u001b[0;34m]\u001b[0m\u001b[0;34m\u001b[0m\u001b[0;34m\u001b[0m\u001b[0m\n\u001b[1;32m    109\u001b[0m \u001b[0;34m\u001b[0m\u001b[0m\n",
            "\u001b[0;32m/usr/local/lib/python3.10/dist-packages/tensorflow/python/eager/polymorphic_function/function_spec.py\u001b[0m in \u001b[0;36m_to_default_values\u001b[0;34m(fullargspec)\u001b[0m\n\u001b[1;32m     95\u001b[0m     \u001b[0mdefaults\u001b[0m\u001b[0;34m.\u001b[0m\u001b[0mupdate\u001b[0m\u001b[0;34m(\u001b[0m\u001b[0mfullargspec\u001b[0m\u001b[0;34m.\u001b[0m\u001b[0mkwonlydefaults\u001b[0m\u001b[0;34m)\u001b[0m\u001b[0;34m\u001b[0m\u001b[0;34m\u001b[0m\u001b[0m\n\u001b[1;32m     96\u001b[0m \u001b[0;34m\u001b[0m\u001b[0m\n\u001b[0;32m---> 97\u001b[0;31m   defaults = {\n\u001b[0m\u001b[1;32m     98\u001b[0m       \u001b[0mfunction_type_lib\u001b[0m\u001b[0;34m.\u001b[0m\u001b[0msanitize_arg_name\u001b[0m\u001b[0;34m(\u001b[0m\u001b[0mname\u001b[0m\u001b[0;34m)\u001b[0m\u001b[0;34m:\u001b[0m \u001b[0mvalue\u001b[0m\u001b[0;34m\u001b[0m\u001b[0;34m\u001b[0m\u001b[0m\n\u001b[1;32m     99\u001b[0m       \u001b[0;32mfor\u001b[0m \u001b[0mname\u001b[0m\u001b[0;34m,\u001b[0m \u001b[0mvalue\u001b[0m \u001b[0;32min\u001b[0m \u001b[0mdefaults\u001b[0m\u001b[0;34m.\u001b[0m\u001b[0mitems\u001b[0m\u001b[0;34m(\u001b[0m\u001b[0;34m)\u001b[0m\u001b[0;34m\u001b[0m\u001b[0;34m\u001b[0m\u001b[0m\n",
            "\u001b[0;32m/usr/local/lib/python3.10/dist-packages/tensorflow/python/eager/polymorphic_function/function_spec.py\u001b[0m in \u001b[0;36m<dictcomp>\u001b[0;34m(.0)\u001b[0m\n\u001b[1;32m     96\u001b[0m \u001b[0;34m\u001b[0m\u001b[0m\n\u001b[1;32m     97\u001b[0m   defaults = {\n\u001b[0;32m---> 98\u001b[0;31m       \u001b[0mfunction_type_lib\u001b[0m\u001b[0;34m.\u001b[0m\u001b[0msanitize_arg_name\u001b[0m\u001b[0;34m(\u001b[0m\u001b[0mname\u001b[0m\u001b[0;34m)\u001b[0m\u001b[0;34m:\u001b[0m \u001b[0mvalue\u001b[0m\u001b[0;34m\u001b[0m\u001b[0;34m\u001b[0m\u001b[0m\n\u001b[0m\u001b[1;32m     99\u001b[0m       \u001b[0;32mfor\u001b[0m \u001b[0mname\u001b[0m\u001b[0;34m,\u001b[0m \u001b[0mvalue\u001b[0m \u001b[0;32min\u001b[0m \u001b[0mdefaults\u001b[0m\u001b[0;34m.\u001b[0m\u001b[0mitems\u001b[0m\u001b[0;34m(\u001b[0m\u001b[0;34m)\u001b[0m\u001b[0;34m\u001b[0m\u001b[0;34m\u001b[0m\u001b[0m\n\u001b[1;32m    100\u001b[0m   }\n",
            "\u001b[0;32m/usr/local/lib/python3.10/dist-packages/tensorflow/core/function/polymorphism/function_type.py\u001b[0m in \u001b[0;36msanitize_arg_name\u001b[0;34m(name)\u001b[0m\n\u001b[1;32m    341\u001b[0m   \"\"\"\n\u001b[1;32m    342\u001b[0m   \u001b[0;31m# Lower case and replace non-alphanumeric chars with '_'\u001b[0m\u001b[0;34m\u001b[0m\u001b[0;34m\u001b[0m\u001b[0m\n\u001b[0;32m--> 343\u001b[0;31m   \u001b[0mswapped\u001b[0m \u001b[0;34m=\u001b[0m \u001b[0;34m\"\"\u001b[0m\u001b[0;34m.\u001b[0m\u001b[0mjoin\u001b[0m\u001b[0;34m(\u001b[0m\u001b[0;34m[\u001b[0m\u001b[0mc\u001b[0m \u001b[0;32mif\u001b[0m \u001b[0mc\u001b[0m\u001b[0;34m.\u001b[0m\u001b[0misalnum\u001b[0m\u001b[0;34m(\u001b[0m\u001b[0;34m)\u001b[0m \u001b[0;32melse\u001b[0m \u001b[0;34m\"_\"\u001b[0m \u001b[0;32mfor\u001b[0m \u001b[0mc\u001b[0m \u001b[0;32min\u001b[0m \u001b[0mname\u001b[0m\u001b[0;34m]\u001b[0m\u001b[0;34m)\u001b[0m\u001b[0;34m\u001b[0m\u001b[0;34m\u001b[0m\u001b[0m\n\u001b[0m\u001b[1;32m    344\u001b[0m   \u001b[0mresult\u001b[0m \u001b[0;34m=\u001b[0m \u001b[0mswapped\u001b[0m \u001b[0;32mif\u001b[0m \u001b[0mswapped\u001b[0m\u001b[0;34m[\u001b[0m\u001b[0;36m0\u001b[0m\u001b[0;34m]\u001b[0m\u001b[0;34m.\u001b[0m\u001b[0misalpha\u001b[0m\u001b[0;34m(\u001b[0m\u001b[0;34m)\u001b[0m \u001b[0;32melse\u001b[0m \u001b[0;34m\"arg_\"\u001b[0m \u001b[0;34m+\u001b[0m \u001b[0mswapped\u001b[0m\u001b[0;34m\u001b[0m\u001b[0;34m\u001b[0m\u001b[0m\n\u001b[1;32m    345\u001b[0m \u001b[0;34m\u001b[0m\u001b[0m\n",
            "\u001b[0;32m/usr/local/lib/python3.10/dist-packages/tensorflow/core/function/polymorphism/function_type.py\u001b[0m in \u001b[0;36m<listcomp>\u001b[0;34m(.0)\u001b[0m\n\u001b[1;32m    341\u001b[0m   \"\"\"\n\u001b[1;32m    342\u001b[0m   \u001b[0;31m# Lower case and replace non-alphanumeric chars with '_'\u001b[0m\u001b[0;34m\u001b[0m\u001b[0;34m\u001b[0m\u001b[0m\n\u001b[0;32m--> 343\u001b[0;31m   \u001b[0mswapped\u001b[0m \u001b[0;34m=\u001b[0m \u001b[0;34m\"\"\u001b[0m\u001b[0;34m.\u001b[0m\u001b[0mjoin\u001b[0m\u001b[0;34m(\u001b[0m\u001b[0;34m[\u001b[0m\u001b[0mc\u001b[0m \u001b[0;32mif\u001b[0m \u001b[0mc\u001b[0m\u001b[0;34m.\u001b[0m\u001b[0misalnum\u001b[0m\u001b[0;34m(\u001b[0m\u001b[0;34m)\u001b[0m \u001b[0;32melse\u001b[0m \u001b[0;34m\"_\"\u001b[0m \u001b[0;32mfor\u001b[0m \u001b[0mc\u001b[0m \u001b[0;32min\u001b[0m \u001b[0mname\u001b[0m\u001b[0;34m]\u001b[0m\u001b[0;34m)\u001b[0m\u001b[0;34m\u001b[0m\u001b[0;34m\u001b[0m\u001b[0m\n\u001b[0m\u001b[1;32m    344\u001b[0m   \u001b[0mresult\u001b[0m \u001b[0;34m=\u001b[0m \u001b[0mswapped\u001b[0m \u001b[0;32mif\u001b[0m \u001b[0mswapped\u001b[0m\u001b[0;34m[\u001b[0m\u001b[0;36m0\u001b[0m\u001b[0;34m]\u001b[0m\u001b[0;34m.\u001b[0m\u001b[0misalpha\u001b[0m\u001b[0;34m(\u001b[0m\u001b[0;34m)\u001b[0m \u001b[0;32melse\u001b[0m \u001b[0;34m\"arg_\"\u001b[0m \u001b[0;34m+\u001b[0m \u001b[0mswapped\u001b[0m\u001b[0;34m\u001b[0m\u001b[0;34m\u001b[0m\u001b[0m\n\u001b[1;32m    345\u001b[0m \u001b[0;34m\u001b[0m\u001b[0m\n",
            "\u001b[0;31mKeyboardInterrupt\u001b[0m: "
          ]
        }
      ]
    },
    {
      "cell_type": "code",
      "source": [
        "window_results_df.to_csv('20to100.csv')"
      ],
      "metadata": {
        "id": "N90yo7rzRvgY"
      },
      "id": "N90yo7rzRvgY",
      "execution_count": 205,
      "outputs": []
    },
    {
      "cell_type": "code",
      "source": [
        "results30_df = pd.DataFrame(columns=['seq_len', 'best_row'])\n",
        "epochs = 250\n",
        "for seq_len in [30]:\n",
        "  autoencode(seq_len, epochs)\n",
        "results30_df"
      ],
      "metadata": {
        "colab": {
          "base_uri": "https://localhost:8080/",
          "height": 1000
        },
        "id": "xlKGsILjBb_H",
        "outputId": "b73722c1-5f72-472a-fa47-ebaf3f68cefd"
      },
      "id": "xlKGsILjBb_H",
      "execution_count": 208,
      "outputs": [
        {
          "output_type": "stream",
          "name": "stdout",
          "text": [
            "******* SUMMARY WITH SEQ_LEN: 30\n",
            "Model: \"sequential_29\"\n",
            "_________________________________________________________________\n",
            " Layer (type)                Output Shape              Param #   \n",
            "=================================================================\n",
            " lstm_116 (LSTM)             (None, 30, 128)           342528    \n",
            "                                                                 \n",
            " lstm_117 (LSTM)             (None, 64)                49408     \n",
            "                                                                 \n",
            " repeat_vector_29 (RepeatVec  (None, 30, 64)           0         \n",
            " tor)                                                            \n",
            "                                                                 \n",
            " lstm_118 (LSTM)             (None, 30, 64)            33024     \n",
            "                                                                 \n",
            " lstm_119 (LSTM)             (None, 30, 128)           98816     \n",
            "                                                                 \n",
            " time_distributed_29 (TimeDi  (None, 30, 540)          69660     \n",
            " stributed)                                                      \n",
            "                                                                 \n",
            "=================================================================\n",
            "Total params: 593,436\n",
            "Trainable params: 593,436\n",
            "Non-trainable params: 0\n",
            "_________________________________________________________________\n",
            "None\n",
            "Epoch 1/250\n",
            "196/196 [==============================] - 12s 20ms/step - loss: 0.0018 - accuracy: 0.1431 - val_loss: 0.0017 - val_accuracy: 0.1520\n",
            "Epoch 2/250\n",
            "196/196 [==============================] - 2s 12ms/step - loss: 0.0017 - accuracy: 0.1605 - val_loss: 0.0017 - val_accuracy: 0.1663\n",
            "Epoch 3/250\n",
            "196/196 [==============================] - 2s 12ms/step - loss: 0.0017 - accuracy: 0.1701 - val_loss: 0.0017 - val_accuracy: 0.1732\n",
            "Epoch 4/250\n",
            "196/196 [==============================] - 3s 13ms/step - loss: 0.0017 - accuracy: 0.1777 - val_loss: 0.0017 - val_accuracy: 0.1812\n",
            "Epoch 5/250\n",
            "196/196 [==============================] - 2s 12ms/step - loss: 0.0017 - accuracy: 0.1881 - val_loss: 0.0017 - val_accuracy: 0.1934\n",
            "Epoch 6/250\n",
            "196/196 [==============================] - 2s 12ms/step - loss: 0.0016 - accuracy: 0.2078 - val_loss: 0.0016 - val_accuracy: 0.2271\n",
            "Epoch 7/250\n",
            "196/196 [==============================] - 2s 12ms/step - loss: 0.0016 - accuracy: 0.2375 - val_loss: 0.0016 - val_accuracy: 0.2411\n",
            "Epoch 8/250\n",
            "196/196 [==============================] - 2s 12ms/step - loss: 0.0016 - accuracy: 0.2460 - val_loss: 0.0016 - val_accuracy: 0.2458\n",
            "Epoch 9/250\n",
            "196/196 [==============================] - 2s 13ms/step - loss: 0.0016 - accuracy: 0.2526 - val_loss: 0.0016 - val_accuracy: 0.2547\n",
            "Epoch 10/250\n",
            "196/196 [==============================] - 2s 12ms/step - loss: 0.0016 - accuracy: 0.2712 - val_loss: 0.0016 - val_accuracy: 0.2754\n",
            "Epoch 11/250\n",
            "196/196 [==============================] - 2s 12ms/step - loss: 0.0015 - accuracy: 0.2834 - val_loss: 0.0015 - val_accuracy: 0.2898\n",
            "Epoch 12/250\n",
            "196/196 [==============================] - 2s 12ms/step - loss: 0.0015 - accuracy: 0.3001 - val_loss: 0.0015 - val_accuracy: 0.2985\n",
            "Epoch 13/250\n",
            "196/196 [==============================] - 2s 12ms/step - loss: 0.0015 - accuracy: 0.3182 - val_loss: 0.0015 - val_accuracy: 0.3181\n",
            "Epoch 14/250\n",
            "196/196 [==============================] - 2s 13ms/step - loss: 0.0015 - accuracy: 0.3319 - val_loss: 0.0015 - val_accuracy: 0.3316\n",
            "Epoch 15/250\n",
            "196/196 [==============================] - 2s 12ms/step - loss: 0.0014 - accuracy: 0.3381 - val_loss: 0.0015 - val_accuracy: 0.3337\n",
            "Epoch 16/250\n",
            "196/196 [==============================] - 2s 12ms/step - loss: 0.0014 - accuracy: 0.3490 - val_loss: 0.0014 - val_accuracy: 0.3440\n",
            "Epoch 17/250\n",
            "196/196 [==============================] - 2s 12ms/step - loss: 0.0014 - accuracy: 0.3559 - val_loss: 0.0014 - val_accuracy: 0.3493\n",
            "Epoch 18/250\n",
            "196/196 [==============================] - 2s 12ms/step - loss: 0.0014 - accuracy: 0.3637 - val_loss: 0.0014 - val_accuracy: 0.3517\n",
            "Epoch 19/250\n",
            "196/196 [==============================] - 2s 12ms/step - loss: 0.0014 - accuracy: 0.3684 - val_loss: 0.0014 - val_accuracy: 0.3557\n",
            "Epoch 20/250\n",
            "196/196 [==============================] - 2s 12ms/step - loss: 0.0014 - accuracy: 0.3741 - val_loss: 0.0014 - val_accuracy: 0.3662\n",
            "Epoch 21/250\n",
            "196/196 [==============================] - 2s 12ms/step - loss: 0.0013 - accuracy: 0.3806 - val_loss: 0.0014 - val_accuracy: 0.3706\n",
            "Epoch 22/250\n",
            "196/196 [==============================] - 2s 12ms/step - loss: 0.0013 - accuracy: 0.3856 - val_loss: 0.0014 - val_accuracy: 0.3720\n",
            "Epoch 23/250\n",
            "196/196 [==============================] - 2s 12ms/step - loss: 0.0014 - accuracy: 0.3797 - val_loss: 0.0014 - val_accuracy: 0.3691\n",
            "Epoch 24/250\n",
            "196/196 [==============================] - 2s 12ms/step - loss: 0.0013 - accuracy: 0.3940 - val_loss: 0.0014 - val_accuracy: 0.3793\n",
            "Epoch 25/250\n",
            "196/196 [==============================] - 2s 12ms/step - loss: 0.0013 - accuracy: 0.3952 - val_loss: 0.0013 - val_accuracy: 0.3820\n",
            "Epoch 26/250\n",
            "196/196 [==============================] - 2s 12ms/step - loss: 0.0013 - accuracy: 0.4043 - val_loss: 0.0013 - val_accuracy: 0.3883\n",
            "Epoch 27/250\n",
            "196/196 [==============================] - 2s 12ms/step - loss: 0.0013 - accuracy: 0.4070 - val_loss: 0.0013 - val_accuracy: 0.3888\n",
            "Epoch 28/250\n",
            "196/196 [==============================] - 2s 12ms/step - loss: 0.0013 - accuracy: 0.4106 - val_loss: 0.0013 - val_accuracy: 0.3933\n",
            "Epoch 29/250\n",
            "196/196 [==============================] - 2s 12ms/step - loss: 0.0013 - accuracy: 0.4137 - val_loss: 0.0013 - val_accuracy: 0.3884\n",
            "Epoch 30/250\n",
            "196/196 [==============================] - 2s 12ms/step - loss: 0.0013 - accuracy: 0.4116 - val_loss: 0.0013 - val_accuracy: 0.3919\n",
            "Epoch 31/250\n",
            "196/196 [==============================] - 2s 12ms/step - loss: 0.0013 - accuracy: 0.4202 - val_loss: 0.0013 - val_accuracy: 0.4019\n",
            "Epoch 32/250\n",
            "196/196 [==============================] - 2s 12ms/step - loss: 0.0013 - accuracy: 0.4238 - val_loss: 0.0013 - val_accuracy: 0.4047\n",
            "Epoch 33/250\n",
            "196/196 [==============================] - 2s 12ms/step - loss: 0.0013 - accuracy: 0.4273 - val_loss: 0.0013 - val_accuracy: 0.4079\n",
            "Epoch 34/250\n",
            "196/196 [==============================] - 2s 12ms/step - loss: 0.0013 - accuracy: 0.4277 - val_loss: 0.0013 - val_accuracy: 0.4129\n",
            "Epoch 35/250\n",
            "196/196 [==============================] - 2s 12ms/step - loss: 0.0012 - accuracy: 0.4324 - val_loss: 0.0013 - val_accuracy: 0.4133\n",
            "Epoch 36/250\n",
            "196/196 [==============================] - 2s 12ms/step - loss: 0.0012 - accuracy: 0.4301 - val_loss: 0.0013 - val_accuracy: 0.4135\n",
            "Epoch 37/250\n",
            "196/196 [==============================] - 2s 12ms/step - loss: 0.0012 - accuracy: 0.4383 - val_loss: 0.0013 - val_accuracy: 0.4135\n",
            "Epoch 38/250\n",
            "196/196 [==============================] - 2s 12ms/step - loss: 0.0012 - accuracy: 0.4428 - val_loss: 0.0013 - val_accuracy: 0.4185\n",
            "Epoch 39/250\n",
            "196/196 [==============================] - 2s 12ms/step - loss: 0.0012 - accuracy: 0.4384 - val_loss: 0.0013 - val_accuracy: 0.4248\n",
            "Epoch 40/250\n",
            "196/196 [==============================] - 2s 12ms/step - loss: 0.0012 - accuracy: 0.4395 - val_loss: 0.0013 - val_accuracy: 0.4065\n",
            "Epoch 41/250\n",
            "196/196 [==============================] - 2s 12ms/step - loss: 0.0012 - accuracy: 0.4428 - val_loss: 0.0013 - val_accuracy: 0.4248\n",
            "Epoch 42/250\n",
            "196/196 [==============================] - 2s 12ms/step - loss: 0.0012 - accuracy: 0.4524 - val_loss: 0.0013 - val_accuracy: 0.4288\n",
            "Epoch 43/250\n",
            "196/196 [==============================] - 2s 12ms/step - loss: 0.0012 - accuracy: 0.4563 - val_loss: 0.0012 - val_accuracy: 0.4323\n",
            "Epoch 44/250\n",
            "196/196 [==============================] - 2s 12ms/step - loss: 0.0012 - accuracy: 0.4545 - val_loss: 0.0013 - val_accuracy: 0.4264\n",
            "Epoch 45/250\n",
            "196/196 [==============================] - 2s 12ms/step - loss: 0.0012 - accuracy: 0.4345 - val_loss: 0.0013 - val_accuracy: 0.4256\n",
            "Epoch 46/250\n",
            "196/196 [==============================] - 2s 12ms/step - loss: 0.0012 - accuracy: 0.4594 - val_loss: 0.0012 - val_accuracy: 0.4364\n",
            "Epoch 47/250\n",
            "196/196 [==============================] - 2s 12ms/step - loss: 0.0012 - accuracy: 0.4660 - val_loss: 0.0012 - val_accuracy: 0.4373\n",
            "Epoch 48/250\n",
            "196/196 [==============================] - 2s 12ms/step - loss: 0.0012 - accuracy: 0.4552 - val_loss: 0.0012 - val_accuracy: 0.4340\n",
            "Epoch 49/250\n",
            "196/196 [==============================] - 2s 12ms/step - loss: 0.0012 - accuracy: 0.4686 - val_loss: 0.0012 - val_accuracy: 0.4379\n",
            "Epoch 50/250\n",
            "196/196 [==============================] - 2s 12ms/step - loss: 0.0012 - accuracy: 0.4689 - val_loss: 0.0012 - val_accuracy: 0.4404\n",
            "Epoch 51/250\n",
            "196/196 [==============================] - 2s 12ms/step - loss: 0.0012 - accuracy: 0.4523 - val_loss: 0.0013 - val_accuracy: 0.3963\n",
            "Epoch 52/250\n",
            "196/196 [==============================] - 2s 12ms/step - loss: 0.0012 - accuracy: 0.4487 - val_loss: 0.0012 - val_accuracy: 0.4377\n",
            "Epoch 53/250\n",
            "196/196 [==============================] - 2s 12ms/step - loss: 0.0012 - accuracy: 0.4726 - val_loss: 0.0012 - val_accuracy: 0.4451\n",
            "Epoch 54/250\n",
            "196/196 [==============================] - 2s 12ms/step - loss: 0.0011 - accuracy: 0.4775 - val_loss: 0.0012 - val_accuracy: 0.4452\n",
            "Epoch 55/250\n",
            "196/196 [==============================] - 2s 12ms/step - loss: 0.0011 - accuracy: 0.4788 - val_loss: 0.0012 - val_accuracy: 0.4472\n",
            "Epoch 56/250\n",
            "196/196 [==============================] - 2s 12ms/step - loss: 0.0012 - accuracy: 0.4735 - val_loss: 0.0012 - val_accuracy: 0.4454\n",
            "Epoch 57/250\n",
            "196/196 [==============================] - 2s 12ms/step - loss: 0.0012 - accuracy: 0.4782 - val_loss: 0.0012 - val_accuracy: 0.4409\n",
            "Epoch 58/250\n",
            "196/196 [==============================] - 2s 12ms/step - loss: 0.0012 - accuracy: 0.4448 - val_loss: 0.0013 - val_accuracy: 0.4242\n",
            "Epoch 59/250\n",
            "196/196 [==============================] - 2s 12ms/step - loss: 0.0012 - accuracy: 0.4743 - val_loss: 0.0012 - val_accuracy: 0.4493\n",
            "Epoch 60/250\n",
            "196/196 [==============================] - 2s 12ms/step - loss: 0.0011 - accuracy: 0.4805 - val_loss: 0.0012 - val_accuracy: 0.4505\n",
            "Epoch 61/250\n",
            "196/196 [==============================] - 2s 12ms/step - loss: 0.0011 - accuracy: 0.4880 - val_loss: 0.0012 - val_accuracy: 0.4533\n",
            "Epoch 62/250\n",
            "196/196 [==============================] - 2s 12ms/step - loss: 0.0011 - accuracy: 0.4828 - val_loss: 0.0013 - val_accuracy: 0.4301\n",
            "Epoch 63/250\n",
            "196/196 [==============================] - 2s 12ms/step - loss: 0.0012 - accuracy: 0.4752 - val_loss: 0.0012 - val_accuracy: 0.4526\n",
            "Epoch 64/250\n",
            "196/196 [==============================] - 2s 12ms/step - loss: 0.0011 - accuracy: 0.4921 - val_loss: 0.0012 - val_accuracy: 0.4535\n",
            "Epoch 65/250\n",
            "196/196 [==============================] - 2s 12ms/step - loss: 0.0011 - accuracy: 0.4938 - val_loss: 0.0012 - val_accuracy: 0.4530\n",
            "Epoch 66/250\n",
            "196/196 [==============================] - 2s 12ms/step - loss: 0.0012 - accuracy: 0.4771 - val_loss: 0.0014 - val_accuracy: 0.3764\n",
            "Epoch 67/250\n",
            "196/196 [==============================] - 2s 12ms/step - loss: 0.0012 - accuracy: 0.4735 - val_loss: 0.0012 - val_accuracy: 0.4513\n",
            "Epoch 68/250\n",
            "196/196 [==============================] - 2s 13ms/step - loss: 0.0011 - accuracy: 0.4953 - val_loss: 0.0012 - val_accuracy: 0.4606\n",
            "Epoch 69/250\n",
            "196/196 [==============================] - 2s 12ms/step - loss: 0.0011 - accuracy: 0.4987 - val_loss: 0.0012 - val_accuracy: 0.4600\n",
            "Epoch 70/250\n",
            "196/196 [==============================] - 2s 12ms/step - loss: 0.0012 - accuracy: 0.4547 - val_loss: 0.0012 - val_accuracy: 0.4422\n",
            "Epoch 71/250\n",
            "196/196 [==============================] - 2s 12ms/step - loss: 0.0011 - accuracy: 0.4890 - val_loss: 0.0012 - val_accuracy: 0.4577\n",
            "Epoch 72/250\n",
            "196/196 [==============================] - 2s 12ms/step - loss: 0.0011 - accuracy: 0.4982 - val_loss: 0.0012 - val_accuracy: 0.4588\n",
            "Epoch 73/250\n",
            "196/196 [==============================] - 2s 12ms/step - loss: 0.0011 - accuracy: 0.4998 - val_loss: 0.0012 - val_accuracy: 0.4624\n",
            "Epoch 74/250\n",
            "196/196 [==============================] - 2s 12ms/step - loss: 0.0012 - accuracy: 0.4763 - val_loss: 0.0013 - val_accuracy: 0.4115\n",
            "Epoch 75/250\n",
            "196/196 [==============================] - 2s 12ms/step - loss: 0.0012 - accuracy: 0.4617 - val_loss: 0.0013 - val_accuracy: 0.4134\n",
            "Epoch 76/250\n",
            "196/196 [==============================] - 2s 12ms/step - loss: 0.0011 - accuracy: 0.4915 - val_loss: 0.0012 - val_accuracy: 0.4654\n",
            "Epoch 77/250\n",
            "196/196 [==============================] - 2s 12ms/step - loss: 0.0011 - accuracy: 0.5072 - val_loss: 0.0012 - val_accuracy: 0.4683\n",
            "Epoch 78/250\n",
            "196/196 [==============================] - 2s 12ms/step - loss: 0.0011 - accuracy: 0.5105 - val_loss: 0.0012 - val_accuracy: 0.4687\n",
            "Epoch 79/250\n",
            "196/196 [==============================] - 2s 12ms/step - loss: 0.0011 - accuracy: 0.5124 - val_loss: 0.0012 - val_accuracy: 0.4686\n",
            "Epoch 80/250\n",
            "196/196 [==============================] - 2s 12ms/step - loss: 0.0011 - accuracy: 0.5105 - val_loss: 0.0012 - val_accuracy: 0.4703\n",
            "Epoch 81/250\n",
            "196/196 [==============================] - 2s 12ms/step - loss: 0.0011 - accuracy: 0.5143 - val_loss: 0.0012 - val_accuracy: 0.4691\n",
            "Epoch 82/250\n",
            "196/196 [==============================] - 2s 12ms/step - loss: 0.0011 - accuracy: 0.5147 - val_loss: 0.0012 - val_accuracy: 0.4691\n",
            "Epoch 83/250\n",
            "196/196 [==============================] - 2s 12ms/step - loss: 0.0011 - accuracy: 0.5137 - val_loss: 0.0012 - val_accuracy: 0.4701\n",
            "Epoch 84/250\n",
            "196/196 [==============================] - 2s 12ms/step - loss: 0.0012 - accuracy: 0.4813 - val_loss: 0.0014 - val_accuracy: 0.3853\n",
            "Epoch 85/250\n",
            "196/196 [==============================] - 2s 12ms/step - loss: 0.0013 - accuracy: 0.4313 - val_loss: 0.0014 - val_accuracy: 0.3951\n",
            "Epoch 86/250\n",
            "196/196 [==============================] - 2s 11ms/step - loss: 0.0011 - accuracy: 0.4947 - val_loss: 0.0012 - val_accuracy: 0.4638\n",
            "Epoch 87/250\n",
            "196/196 [==============================] - 2s 12ms/step - loss: 0.0011 - accuracy: 0.5123 - val_loss: 0.0012 - val_accuracy: 0.4713\n",
            "Epoch 88/250\n",
            "196/196 [==============================] - 2s 12ms/step - loss: 0.0011 - accuracy: 0.5171 - val_loss: 0.0012 - val_accuracy: 0.4729\n",
            "Epoch 89/250\n",
            "196/196 [==============================] - 2s 12ms/step - loss: 0.0011 - accuracy: 0.5202 - val_loss: 0.0012 - val_accuracy: 0.4729\n",
            "Epoch 90/250\n",
            "196/196 [==============================] - 2s 12ms/step - loss: 0.0012 - accuracy: 0.4642 - val_loss: 0.0012 - val_accuracy: 0.4463\n",
            "Epoch 91/250\n",
            "196/196 [==============================] - 2s 12ms/step - loss: 0.0012 - accuracy: 0.4484 - val_loss: 0.0012 - val_accuracy: 0.4602\n",
            "Epoch 92/250\n",
            "196/196 [==============================] - 2s 12ms/step - loss: 0.0011 - accuracy: 0.5070 - val_loss: 0.0012 - val_accuracy: 0.4695\n",
            "Epoch 93/250\n",
            "196/196 [==============================] - 2s 12ms/step - loss: 0.0011 - accuracy: 0.5165 - val_loss: 0.0012 - val_accuracy: 0.4685\n",
            "Epoch 94/250\n",
            "196/196 [==============================] - 2s 12ms/step - loss: 0.0011 - accuracy: 0.5197 - val_loss: 0.0012 - val_accuracy: 0.4739\n",
            "Epoch 95/250\n",
            "196/196 [==============================] - 2s 12ms/step - loss: 0.0011 - accuracy: 0.5223 - val_loss: 0.0012 - val_accuracy: 0.4727\n",
            "Epoch 96/250\n",
            "196/196 [==============================] - 2s 12ms/step - loss: 0.0011 - accuracy: 0.5193 - val_loss: 0.0012 - val_accuracy: 0.4729\n",
            "Epoch 97/250\n",
            "196/196 [==============================] - 2s 12ms/step - loss: 0.0011 - accuracy: 0.5236 - val_loss: 0.0012 - val_accuracy: 0.4731\n",
            "Epoch 98/250\n",
            "196/196 [==============================] - 2s 12ms/step - loss: 0.0011 - accuracy: 0.5263 - val_loss: 0.0012 - val_accuracy: 0.4754\n",
            "Epoch 99/250\n",
            "196/196 [==============================] - 2s 12ms/step - loss: 0.0011 - accuracy: 0.5265 - val_loss: 0.0012 - val_accuracy: 0.4684\n",
            "Epoch 100/250\n",
            "196/196 [==============================] - 2s 12ms/step - loss: 0.0011 - accuracy: 0.5237 - val_loss: 0.0012 - val_accuracy: 0.4764\n",
            "Epoch 101/250\n",
            "196/196 [==============================] - 2s 12ms/step - loss: 0.0011 - accuracy: 0.5229 - val_loss: 0.0012 - val_accuracy: 0.4724\n",
            "Epoch 102/250\n",
            "196/196 [==============================] - 2s 12ms/step - loss: 0.0011 - accuracy: 0.5261 - val_loss: 0.0012 - val_accuracy: 0.4772\n",
            "Epoch 103/250\n",
            "196/196 [==============================] - 2s 12ms/step - loss: 0.0012 - accuracy: 0.4786 - val_loss: 0.0013 - val_accuracy: 0.4231\n",
            "Epoch 104/250\n",
            "196/196 [==============================] - 2s 12ms/step - loss: 0.0011 - accuracy: 0.5054 - val_loss: 0.0013 - val_accuracy: 0.4381\n",
            "Epoch 105/250\n",
            "196/196 [==============================] - 2s 12ms/step - loss: 0.0012 - accuracy: 0.4683 - val_loss: 0.0012 - val_accuracy: 0.4449\n",
            "Epoch 106/250\n",
            "196/196 [==============================] - 2s 12ms/step - loss: 0.0011 - accuracy: 0.5123 - val_loss: 0.0012 - val_accuracy: 0.4760\n",
            "Epoch 107/250\n",
            "196/196 [==============================] - 2s 12ms/step - loss: 0.0011 - accuracy: 0.5257 - val_loss: 0.0012 - val_accuracy: 0.4767\n",
            "Epoch 108/250\n",
            "196/196 [==============================] - 2s 12ms/step - loss: 0.0011 - accuracy: 0.5152 - val_loss: 0.0012 - val_accuracy: 0.4694\n",
            "Epoch 109/250\n",
            "196/196 [==============================] - 2s 12ms/step - loss: 0.0011 - accuracy: 0.5238 - val_loss: 0.0012 - val_accuracy: 0.4802\n",
            "Epoch 110/250\n",
            "196/196 [==============================] - 2s 12ms/step - loss: 0.0010 - accuracy: 0.5329 - val_loss: 0.0012 - val_accuracy: 0.4819\n",
            "Epoch 111/250\n",
            "196/196 [==============================] - 2s 12ms/step - loss: 0.0010 - accuracy: 0.5346 - val_loss: 0.0012 - val_accuracy: 0.4845\n",
            "Epoch 112/250\n",
            "196/196 [==============================] - 2s 12ms/step - loss: 0.0010 - accuracy: 0.5364 - val_loss: 0.0012 - val_accuracy: 0.4809\n",
            "Epoch 113/250\n",
            "196/196 [==============================] - 2s 13ms/step - loss: 0.0010 - accuracy: 0.5392 - val_loss: 0.0012 - val_accuracy: 0.4854\n",
            "Epoch 114/250\n",
            "196/196 [==============================] - 2s 12ms/step - loss: 0.0010 - accuracy: 0.5351 - val_loss: 0.0012 - val_accuracy: 0.4751\n",
            "Epoch 115/250\n",
            "196/196 [==============================] - 2s 12ms/step - loss: 0.0015 - accuracy: 0.2786 - val_loss: 0.0015 - val_accuracy: 0.3072\n",
            "Epoch 116/250\n",
            "196/196 [==============================] - 2s 12ms/step - loss: 0.0014 - accuracy: 0.3725 - val_loss: 0.0014 - val_accuracy: 0.3822\n",
            "Epoch 117/250\n",
            "196/196 [==============================] - 2s 12ms/step - loss: 0.0013 - accuracy: 0.4016 - val_loss: 0.0013 - val_accuracy: 0.4307\n",
            "Epoch 118/250\n",
            "196/196 [==============================] - 2s 12ms/step - loss: 0.0012 - accuracy: 0.4680 - val_loss: 0.0012 - val_accuracy: 0.4576\n",
            "Epoch 119/250\n",
            "196/196 [==============================] - 2s 12ms/step - loss: 0.0012 - accuracy: 0.4828 - val_loss: 0.0018 - val_accuracy: 0.1450\n",
            "Epoch 120/250\n",
            "196/196 [==============================] - 2s 12ms/step - loss: 0.0016 - accuracy: 0.2129 - val_loss: 0.0016 - val_accuracy: 0.2509\n",
            "Epoch 121/250\n",
            "196/196 [==============================] - 3s 13ms/step - loss: 0.0015 - accuracy: 0.2958 - val_loss: 0.0015 - val_accuracy: 0.3199\n",
            "Epoch 122/250\n",
            "196/196 [==============================] - 2s 12ms/step - loss: 0.0014 - accuracy: 0.3552 - val_loss: 0.0014 - val_accuracy: 0.3558\n",
            "Epoch 123/250\n",
            "196/196 [==============================] - 2s 13ms/step - loss: 0.0013 - accuracy: 0.3868 - val_loss: 0.0013 - val_accuracy: 0.3883\n",
            "Epoch 124/250\n",
            "196/196 [==============================] - 2s 12ms/step - loss: 0.0013 - accuracy: 0.4244 - val_loss: 0.0013 - val_accuracy: 0.4181\n",
            "Epoch 125/250\n",
            "196/196 [==============================] - 2s 12ms/step - loss: 0.0012 - accuracy: 0.4542 - val_loss: 0.0013 - val_accuracy: 0.4303\n",
            "Epoch 126/250\n",
            "196/196 [==============================] - 2s 12ms/step - loss: 0.0012 - accuracy: 0.4714 - val_loss: 0.0012 - val_accuracy: 0.4415\n",
            "Epoch 127/250\n",
            "196/196 [==============================] - 2s 12ms/step - loss: 0.0012 - accuracy: 0.4435 - val_loss: 0.0012 - val_accuracy: 0.4430\n",
            "Epoch 128/250\n",
            "196/196 [==============================] - 2s 12ms/step - loss: 0.0012 - accuracy: 0.4643 - val_loss: 0.0012 - val_accuracy: 0.4442\n",
            "Epoch 129/250\n",
            "196/196 [==============================] - 2s 12ms/step - loss: 0.0011 - accuracy: 0.4902 - val_loss: 0.0012 - val_accuracy: 0.4594\n",
            "Epoch 130/250\n",
            "196/196 [==============================] - 2s 12ms/step - loss: 0.0011 - accuracy: 0.5011 - val_loss: 0.0012 - val_accuracy: 0.4656\n",
            "Epoch 131/250\n",
            "196/196 [==============================] - 2s 12ms/step - loss: 0.0011 - accuracy: 0.5080 - val_loss: 0.0012 - val_accuracy: 0.4675\n",
            "Epoch 132/250\n",
            "196/196 [==============================] - 2s 13ms/step - loss: 0.0011 - accuracy: 0.5131 - val_loss: 0.0012 - val_accuracy: 0.4658\n",
            "Epoch 133/250\n",
            "196/196 [==============================] - 3s 13ms/step - loss: 0.0011 - accuracy: 0.4894 - val_loss: 0.0014 - val_accuracy: 0.3910\n",
            "Epoch 134/250\n",
            "196/196 [==============================] - 2s 12ms/step - loss: 0.0011 - accuracy: 0.4909 - val_loss: 0.0013 - val_accuracy: 0.4387\n",
            "Epoch 135/250\n",
            "196/196 [==============================] - 2s 13ms/step - loss: 0.0012 - accuracy: 0.4640 - val_loss: 0.0016 - val_accuracy: 0.2952\n",
            "Epoch 136/250\n",
            "196/196 [==============================] - 2s 12ms/step - loss: 0.0012 - accuracy: 0.4739 - val_loss: 0.0012 - val_accuracy: 0.4726\n",
            "Epoch 137/250\n",
            "196/196 [==============================] - 2s 12ms/step - loss: 0.0011 - accuracy: 0.5207 - val_loss: 0.0012 - val_accuracy: 0.4769\n",
            "Epoch 138/250\n",
            "196/196 [==============================] - 2s 12ms/step - loss: 0.0011 - accuracy: 0.4928 - val_loss: 0.0012 - val_accuracy: 0.4597\n",
            "Epoch 139/250\n",
            "196/196 [==============================] - 2s 12ms/step - loss: 0.0011 - accuracy: 0.4924 - val_loss: 0.0012 - val_accuracy: 0.4736\n",
            "Epoch 140/250\n",
            "196/196 [==============================] - 2s 12ms/step - loss: 0.0011 - accuracy: 0.5239 - val_loss: 0.0011 - val_accuracy: 0.4809\n",
            "Epoch 141/250\n",
            "196/196 [==============================] - 2s 12ms/step - loss: 0.0010 - accuracy: 0.5318 - val_loss: 0.0011 - val_accuracy: 0.4870\n",
            "Epoch 142/250\n",
            "196/196 [==============================] - 2s 12ms/step - loss: 0.0010 - accuracy: 0.5361 - val_loss: 0.0011 - val_accuracy: 0.4865\n",
            "Epoch 143/250\n",
            "196/196 [==============================] - 2s 12ms/step - loss: 0.0010 - accuracy: 0.5357 - val_loss: 0.0012 - val_accuracy: 0.4742\n",
            "Epoch 144/250\n",
            "196/196 [==============================] - 2s 12ms/step - loss: 0.0010 - accuracy: 0.5368 - val_loss: 0.0011 - val_accuracy: 0.4878\n",
            "Epoch 145/250\n",
            "196/196 [==============================] - 2s 12ms/step - loss: 0.0011 - accuracy: 0.4984 - val_loss: 0.0012 - val_accuracy: 0.4538\n",
            "Epoch 146/250\n",
            "196/196 [==============================] - 2s 12ms/step - loss: 0.0011 - accuracy: 0.5041 - val_loss: 0.0011 - val_accuracy: 0.4838\n",
            "Epoch 147/250\n",
            "196/196 [==============================] - 2s 12ms/step - loss: 0.0010 - accuracy: 0.5371 - val_loss: 0.0011 - val_accuracy: 0.4886\n",
            "Epoch 148/250\n",
            "196/196 [==============================] - 2s 13ms/step - loss: 0.0010 - accuracy: 0.5428 - val_loss: 0.0011 - val_accuracy: 0.4923\n",
            "Epoch 149/250\n",
            "196/196 [==============================] - 2s 12ms/step - loss: 0.0010 - accuracy: 0.5472 - val_loss: 0.0011 - val_accuracy: 0.4926\n",
            "Epoch 150/250\n",
            "196/196 [==============================] - 2s 12ms/step - loss: 0.0010 - accuracy: 0.5489 - val_loss: 0.0011 - val_accuracy: 0.4916\n",
            "Epoch 151/250\n",
            "196/196 [==============================] - 2s 12ms/step - loss: 0.0010 - accuracy: 0.5502 - val_loss: 0.0011 - val_accuracy: 0.4949\n",
            "Epoch 152/250\n",
            "196/196 [==============================] - 2s 12ms/step - loss: 0.0010 - accuracy: 0.5501 - val_loss: 0.0011 - val_accuracy: 0.4877\n",
            "Epoch 153/250\n",
            "196/196 [==============================] - 2s 12ms/step - loss: 0.0010 - accuracy: 0.5503 - val_loss: 0.0011 - val_accuracy: 0.4948\n",
            "Epoch 154/250\n",
            "196/196 [==============================] - 2s 12ms/step - loss: 0.0010 - accuracy: 0.5524 - val_loss: 0.0011 - val_accuracy: 0.4960\n",
            "Epoch 155/250\n",
            "196/196 [==============================] - 2s 12ms/step - loss: 0.0013 - accuracy: 0.4301 - val_loss: 0.0013 - val_accuracy: 0.4195\n",
            "Epoch 156/250\n",
            "196/196 [==============================] - 2s 12ms/step - loss: 0.0013 - accuracy: 0.4179 - val_loss: 0.0015 - val_accuracy: 0.3442\n",
            "Epoch 157/250\n",
            "196/196 [==============================] - 2s 12ms/step - loss: 0.0012 - accuracy: 0.4831 - val_loss: 0.0012 - val_accuracy: 0.4752\n",
            "Epoch 158/250\n",
            "196/196 [==============================] - 2s 12ms/step - loss: 0.0011 - accuracy: 0.5065 - val_loss: 0.0012 - val_accuracy: 0.4817\n",
            "Epoch 159/250\n",
            "196/196 [==============================] - 2s 12ms/step - loss: 0.0010 - accuracy: 0.5376 - val_loss: 0.0011 - val_accuracy: 0.4864\n",
            "Epoch 160/250\n",
            "196/196 [==============================] - 2s 12ms/step - loss: 0.0010 - accuracy: 0.5417 - val_loss: 0.0011 - val_accuracy: 0.4888\n",
            "Epoch 161/250\n",
            "196/196 [==============================] - 2s 12ms/step - loss: 0.0010 - accuracy: 0.5510 - val_loss: 0.0011 - val_accuracy: 0.4956\n",
            "Epoch 162/250\n",
            "196/196 [==============================] - 2s 12ms/step - loss: 9.9487e-04 - accuracy: 0.5554 - val_loss: 0.0011 - val_accuracy: 0.4978\n",
            "Epoch 163/250\n",
            "196/196 [==============================] - 2s 12ms/step - loss: 9.8894e-04 - accuracy: 0.5582 - val_loss: 0.0011 - val_accuracy: 0.4965\n",
            "Epoch 164/250\n",
            "196/196 [==============================] - 2s 12ms/step - loss: 9.8801e-04 - accuracy: 0.5592 - val_loss: 0.0011 - val_accuracy: 0.4966\n",
            "Epoch 165/250\n",
            "196/196 [==============================] - 2s 12ms/step - loss: 0.0010 - accuracy: 0.5538 - val_loss: 0.0011 - val_accuracy: 0.4982\n",
            "Epoch 166/250\n",
            "196/196 [==============================] - 2s 12ms/step - loss: 9.9735e-04 - accuracy: 0.5570 - val_loss: 0.0011 - val_accuracy: 0.4968\n",
            "Epoch 167/250\n",
            "196/196 [==============================] - 2s 12ms/step - loss: 0.0010 - accuracy: 0.5531 - val_loss: 0.0012 - val_accuracy: 0.4682\n",
            "Epoch 168/250\n",
            "196/196 [==============================] - 2s 12ms/step - loss: 0.0015 - accuracy: 0.3281 - val_loss: 0.0015 - val_accuracy: 0.3380\n",
            "Epoch 169/250\n",
            "196/196 [==============================] - 2s 12ms/step - loss: 0.0014 - accuracy: 0.3850 - val_loss: 0.0014 - val_accuracy: 0.3855\n",
            "Epoch 170/250\n",
            "196/196 [==============================] - 2s 12ms/step - loss: 0.0012 - accuracy: 0.4581 - val_loss: 0.0012 - val_accuracy: 0.4500\n",
            "Epoch 171/250\n",
            "196/196 [==============================] - 2s 12ms/step - loss: 0.0012 - accuracy: 0.4685 - val_loss: 0.0013 - val_accuracy: 0.4416\n",
            "Epoch 172/250\n",
            "196/196 [==============================] - 2s 12ms/step - loss: 0.0011 - accuracy: 0.5220 - val_loss: 0.0011 - val_accuracy: 0.4848\n",
            "Epoch 173/250\n",
            "196/196 [==============================] - 2s 12ms/step - loss: 0.0010 - accuracy: 0.5426 - val_loss: 0.0011 - val_accuracy: 0.4918\n",
            "Epoch 174/250\n",
            "196/196 [==============================] - 2s 12ms/step - loss: 0.0010 - accuracy: 0.5521 - val_loss: 0.0011 - val_accuracy: 0.4955\n",
            "Epoch 175/250\n",
            "196/196 [==============================] - 2s 12ms/step - loss: 9.9196e-04 - accuracy: 0.5578 - val_loss: 0.0011 - val_accuracy: 0.5004\n",
            "Epoch 176/250\n",
            "196/196 [==============================] - 2s 12ms/step - loss: 9.8255e-04 - accuracy: 0.5619 - val_loss: 0.0011 - val_accuracy: 0.4980\n",
            "Epoch 177/250\n",
            "196/196 [==============================] - 2s 12ms/step - loss: 9.7972e-04 - accuracy: 0.5630 - val_loss: 0.0011 - val_accuracy: 0.4997\n",
            "Epoch 178/250\n",
            "196/196 [==============================] - 2s 12ms/step - loss: 0.0011 - accuracy: 0.5196 - val_loss: 0.0014 - val_accuracy: 0.4093\n",
            "Epoch 179/250\n",
            "196/196 [==============================] - 2s 12ms/step - loss: 0.0015 - accuracy: 0.2974 - val_loss: 0.0015 - val_accuracy: 0.3282\n",
            "Epoch 180/250\n",
            "196/196 [==============================] - 2s 12ms/step - loss: 0.0014 - accuracy: 0.3881 - val_loss: 0.0013 - val_accuracy: 0.3912\n",
            "Epoch 181/250\n",
            "196/196 [==============================] - 2s 12ms/step - loss: 0.0014 - accuracy: 0.3900 - val_loss: 0.0014 - val_accuracy: 0.3878\n",
            "Epoch 182/250\n",
            "196/196 [==============================] - 2s 12ms/step - loss: 0.0012 - accuracy: 0.4429 - val_loss: 0.0013 - val_accuracy: 0.4300\n",
            "Epoch 183/250\n",
            "196/196 [==============================] - 2s 12ms/step - loss: 0.0012 - accuracy: 0.4708 - val_loss: 0.0012 - val_accuracy: 0.4515\n",
            "Epoch 184/250\n",
            "196/196 [==============================] - 2s 12ms/step - loss: 0.0011 - accuracy: 0.4904 - val_loss: 0.0012 - val_accuracy: 0.4626\n",
            "Epoch 185/250\n",
            "196/196 [==============================] - 2s 12ms/step - loss: 0.0011 - accuracy: 0.5184 - val_loss: 0.0012 - val_accuracy: 0.4797\n",
            "Epoch 186/250\n",
            "196/196 [==============================] - 2s 12ms/step - loss: 0.0010 - accuracy: 0.5337 - val_loss: 0.0011 - val_accuracy: 0.4879\n",
            "Epoch 187/250\n",
            "196/196 [==============================] - 2s 12ms/step - loss: 0.0010 - accuracy: 0.5433 - val_loss: 0.0011 - val_accuracy: 0.4966\n",
            "Epoch 188/250\n",
            "196/196 [==============================] - 2s 12ms/step - loss: 0.0010 - accuracy: 0.5512 - val_loss: 0.0011 - val_accuracy: 0.4984\n",
            "Epoch 189/250\n",
            "196/196 [==============================] - 2s 12ms/step - loss: 9.9434e-04 - accuracy: 0.5583 - val_loss: 0.0011 - val_accuracy: 0.5014\n",
            "Epoch 190/250\n",
            "196/196 [==============================] - 2s 12ms/step - loss: 9.8514e-04 - accuracy: 0.5621 - val_loss: 0.0011 - val_accuracy: 0.5004\n",
            "Epoch 191/250\n",
            "196/196 [==============================] - 2s 12ms/step - loss: 9.8290e-04 - accuracy: 0.5630 - val_loss: 0.0011 - val_accuracy: 0.5009\n",
            "Epoch 192/250\n",
            "196/196 [==============================] - 2s 12ms/step - loss: 9.9473e-04 - accuracy: 0.5594 - val_loss: 0.0011 - val_accuracy: 0.5013\n",
            "Epoch 193/250\n",
            "196/196 [==============================] - 2s 13ms/step - loss: 9.7648e-04 - accuracy: 0.5664 - val_loss: 0.0011 - val_accuracy: 0.5038\n",
            "Epoch 194/250\n",
            "196/196 [==============================] - 2s 12ms/step - loss: 9.7456e-04 - accuracy: 0.5678 - val_loss: 0.0011 - val_accuracy: 0.5038\n",
            "Epoch 195/250\n",
            "196/196 [==============================] - 2s 12ms/step - loss: 0.0010 - accuracy: 0.5428 - val_loss: 0.0014 - val_accuracy: 0.4152\n",
            "Epoch 196/250\n",
            "196/196 [==============================] - 2s 12ms/step - loss: 0.0011 - accuracy: 0.5066 - val_loss: 0.0011 - val_accuracy: 0.4896\n",
            "Epoch 197/250\n",
            "196/196 [==============================] - 2s 13ms/step - loss: 9.9944e-04 - accuracy: 0.5571 - val_loss: 0.0011 - val_accuracy: 0.4993\n",
            "Epoch 198/250\n",
            "196/196 [==============================] - 2s 13ms/step - loss: 9.7045e-04 - accuracy: 0.5701 - val_loss: 0.0011 - val_accuracy: 0.5017\n",
            "Epoch 199/250\n",
            "196/196 [==============================] - 2s 13ms/step - loss: 9.6306e-04 - accuracy: 0.5738 - val_loss: 0.0011 - val_accuracy: 0.5077\n",
            "Epoch 200/250\n",
            "196/196 [==============================] - 2s 12ms/step - loss: 9.5415e-04 - accuracy: 0.5777 - val_loss: 0.0011 - val_accuracy: 0.4999\n",
            "Epoch 201/250\n",
            "196/196 [==============================] - 2s 12ms/step - loss: 0.0012 - accuracy: 0.4782 - val_loss: 0.0013 - val_accuracy: 0.4413\n",
            "Epoch 202/250\n",
            "196/196 [==============================] - 2s 13ms/step - loss: 0.0010 - accuracy: 0.5455 - val_loss: 0.0011 - val_accuracy: 0.5005\n",
            "Epoch 203/250\n",
            "196/196 [==============================] - 2s 12ms/step - loss: 9.8649e-04 - accuracy: 0.5650 - val_loss: 0.0011 - val_accuracy: 0.5052\n",
            "Epoch 204/250\n",
            "196/196 [==============================] - 2s 12ms/step - loss: 9.5304e-04 - accuracy: 0.5778 - val_loss: 0.0011 - val_accuracy: 0.5086\n",
            "Epoch 205/250\n",
            "196/196 [==============================] - 2s 12ms/step - loss: 9.4349e-04 - accuracy: 0.5827 - val_loss: 0.0011 - val_accuracy: 0.5110\n",
            "Epoch 206/250\n",
            "196/196 [==============================] - 2s 12ms/step - loss: 9.4144e-04 - accuracy: 0.5843 - val_loss: 0.0011 - val_accuracy: 0.5120\n",
            "Epoch 207/250\n",
            "196/196 [==============================] - 2s 13ms/step - loss: 9.4203e-04 - accuracy: 0.5843 - val_loss: 0.0011 - val_accuracy: 0.5079\n",
            "Epoch 208/250\n",
            "196/196 [==============================] - 2s 12ms/step - loss: 9.4046e-04 - accuracy: 0.5857 - val_loss: 0.0011 - val_accuracy: 0.5108\n",
            "Epoch 209/250\n",
            "196/196 [==============================] - 2s 12ms/step - loss: 9.3370e-04 - accuracy: 0.5882 - val_loss: 0.0011 - val_accuracy: 0.5123\n",
            "Epoch 210/250\n",
            "196/196 [==============================] - 2s 12ms/step - loss: 0.0010 - accuracy: 0.5522 - val_loss: 0.0012 - val_accuracy: 0.4577\n",
            "Epoch 211/250\n",
            "196/196 [==============================] - 2s 13ms/step - loss: 0.0012 - accuracy: 0.4891 - val_loss: 0.0012 - val_accuracy: 0.4790\n",
            "Epoch 212/250\n",
            "196/196 [==============================] - 3s 13ms/step - loss: 0.0016 - accuracy: 0.2220 - val_loss: 0.0017 - val_accuracy: 0.1743\n",
            "Epoch 213/250\n",
            "196/196 [==============================] - 2s 13ms/step - loss: 0.0016 - accuracy: 0.2154 - val_loss: 0.0016 - val_accuracy: 0.2539\n",
            "Epoch 214/250\n",
            "196/196 [==============================] - 2s 13ms/step - loss: 0.0015 - accuracy: 0.2889 - val_loss: 0.0015 - val_accuracy: 0.3133\n",
            "Epoch 215/250\n",
            "196/196 [==============================] - 2s 12ms/step - loss: 0.0014 - accuracy: 0.3577 - val_loss: 0.0014 - val_accuracy: 0.3695\n",
            "Epoch 216/250\n",
            "196/196 [==============================] - 2s 12ms/step - loss: 0.0013 - accuracy: 0.3976 - val_loss: 0.0013 - val_accuracy: 0.4112\n",
            "Epoch 217/250\n",
            "196/196 [==============================] - 2s 13ms/step - loss: 0.0013 - accuracy: 0.4261 - val_loss: 0.0013 - val_accuracy: 0.4200\n",
            "Epoch 218/250\n",
            "196/196 [==============================] - 2s 12ms/step - loss: 0.0012 - accuracy: 0.4481 - val_loss: 0.0012 - val_accuracy: 0.4561\n",
            "Epoch 219/250\n",
            "196/196 [==============================] - 2s 12ms/step - loss: 0.0012 - accuracy: 0.4810 - val_loss: 0.0014 - val_accuracy: 0.3567\n",
            "Epoch 220/250\n",
            "196/196 [==============================] - 2s 12ms/step - loss: 0.0012 - accuracy: 0.4855 - val_loss: 0.0012 - val_accuracy: 0.4746\n",
            "Epoch 221/250\n",
            "196/196 [==============================] - 2s 12ms/step - loss: 0.0013 - accuracy: 0.3975 - val_loss: 0.0014 - val_accuracy: 0.3587\n",
            "Epoch 222/250\n",
            "196/196 [==============================] - 2s 12ms/step - loss: 0.0012 - accuracy: 0.4736 - val_loss: 0.0012 - val_accuracy: 0.4728\n",
            "Epoch 223/250\n",
            "196/196 [==============================] - 2s 12ms/step - loss: 0.0013 - accuracy: 0.4467 - val_loss: 0.0013 - val_accuracy: 0.4395\n",
            "Epoch 224/250\n",
            "196/196 [==============================] - 2s 12ms/step - loss: 0.0011 - accuracy: 0.5127 - val_loss: 0.0012 - val_accuracy: 0.4743\n",
            "Epoch 225/250\n",
            "196/196 [==============================] - 2s 12ms/step - loss: 0.0011 - accuracy: 0.5281 - val_loss: 0.0011 - val_accuracy: 0.4878\n",
            "Epoch 226/250\n",
            "196/196 [==============================] - 2s 12ms/step - loss: 0.0010 - accuracy: 0.5426 - val_loss: 0.0011 - val_accuracy: 0.4928\n",
            "Epoch 227/250\n",
            "196/196 [==============================] - 2s 12ms/step - loss: 0.0010 - accuracy: 0.5498 - val_loss: 0.0011 - val_accuracy: 0.4944\n",
            "Epoch 228/250\n",
            "196/196 [==============================] - 2s 12ms/step - loss: 0.0010 - accuracy: 0.5553 - val_loss: 0.0011 - val_accuracy: 0.4991\n",
            "Epoch 229/250\n",
            "196/196 [==============================] - 2s 12ms/step - loss: 0.0010 - accuracy: 0.5563 - val_loss: 0.0012 - val_accuracy: 0.4778\n",
            "Epoch 230/250\n",
            "196/196 [==============================] - 2s 12ms/step - loss: 0.0010 - accuracy: 0.5591 - val_loss: 0.0011 - val_accuracy: 0.4973\n",
            "Epoch 231/250\n",
            "196/196 [==============================] - 2s 13ms/step - loss: 0.0010 - accuracy: 0.5602 - val_loss: 0.0014 - val_accuracy: 0.4117\n",
            "Epoch 232/250\n",
            "196/196 [==============================] - 2s 12ms/step - loss: 0.0012 - accuracy: 0.4991 - val_loss: 0.0011 - val_accuracy: 0.4964\n",
            "Epoch 233/250\n",
            "196/196 [==============================] - 2s 12ms/step - loss: 0.0010 - accuracy: 0.5547 - val_loss: 0.0011 - val_accuracy: 0.5003\n",
            "Epoch 234/250\n",
            "196/196 [==============================] - 2s 12ms/step - loss: 9.8232e-04 - accuracy: 0.5687 - val_loss: 0.0011 - val_accuracy: 0.5084\n",
            "Epoch 235/250\n",
            "196/196 [==============================] - 2s 12ms/step - loss: 9.6967e-04 - accuracy: 0.5740 - val_loss: 0.0011 - val_accuracy: 0.5044\n",
            "Epoch 236/250\n",
            "196/196 [==============================] - 3s 13ms/step - loss: 9.7563e-04 - accuracy: 0.5722 - val_loss: 0.0011 - val_accuracy: 0.5108\n",
            "Epoch 237/250\n",
            "196/196 [==============================] - 2s 12ms/step - loss: 9.6531e-04 - accuracy: 0.5765 - val_loss: 0.0011 - val_accuracy: 0.4986\n",
            "Epoch 238/250\n",
            "196/196 [==============================] - 2s 12ms/step - loss: 0.0010 - accuracy: 0.5526 - val_loss: 0.0014 - val_accuracy: 0.3780\n",
            "Epoch 239/250\n",
            "196/196 [==============================] - 2s 12ms/step - loss: 0.0016 - accuracy: 0.2183 - val_loss: 0.0017 - val_accuracy: 0.1967\n",
            "Epoch 240/250\n",
            "196/196 [==============================] - 2s 12ms/step - loss: 0.0016 - accuracy: 0.2237 - val_loss: 0.0016 - val_accuracy: 0.2482\n",
            "Epoch 241/250\n",
            "196/196 [==============================] - 2s 12ms/step - loss: 0.0016 - accuracy: 0.2792 - val_loss: 0.0015 - val_accuracy: 0.3007\n",
            "Epoch 242/250\n",
            "196/196 [==============================] - 2s 12ms/step - loss: 0.0015 - accuracy: 0.3327 - val_loss: 0.0014 - val_accuracy: 0.3478\n",
            "Epoch 243/250\n",
            "196/196 [==============================] - 2s 12ms/step - loss: 0.0014 - accuracy: 0.3768 - val_loss: 0.0014 - val_accuracy: 0.3718\n",
            "Epoch 244/250\n",
            "196/196 [==============================] - 2s 13ms/step - loss: 0.0014 - accuracy: 0.3796 - val_loss: 0.0013 - val_accuracy: 0.3986\n",
            "Epoch 245/250\n",
            "196/196 [==============================] - 2s 13ms/step - loss: 0.0012 - accuracy: 0.4468 - val_loss: 0.0013 - val_accuracy: 0.4358\n",
            "Epoch 246/250\n",
            "196/196 [==============================] - 3s 13ms/step - loss: 0.0013 - accuracy: 0.4379 - val_loss: 0.0014 - val_accuracy: 0.3942\n",
            "Epoch 247/250\n",
            "196/196 [==============================] - 2s 12ms/step - loss: 0.0012 - accuracy: 0.4515 - val_loss: 0.0012 - val_accuracy: 0.4503\n",
            "Epoch 248/250\n",
            "196/196 [==============================] - 2s 13ms/step - loss: 0.0012 - accuracy: 0.4765 - val_loss: 0.0012 - val_accuracy: 0.4533\n",
            "Epoch 249/250\n",
            "196/196 [==============================] - 2s 13ms/step - loss: 0.0012 - accuracy: 0.4924 - val_loss: 0.0012 - val_accuracy: 0.4747\n",
            "Epoch 250/250\n",
            "196/196 [==============================] - 3s 13ms/step - loss: 0.0011 - accuracy: 0.5288 - val_loss: 0.0012 - val_accuracy: 0.4841\n"
          ]
        },
        {
          "output_type": "display_data",
          "data": {
            "text/plain": [
              "<Figure size 640x480 with 1 Axes>"
            ],
            "image/png": "[encoded data removed]"
          },
          "metadata": {}
        },
        {
          "output_type": "stream",
          "name": "stdout",
          "text": [
            "****** PREDICTING *******\n",
            "245/245 [==============================] - 2s 5ms/step\n",
            "204/204 [==============================] - 1s 4ms/step\n",
            "****** 30 THRESHOLD LOOPING *******\n"
          ]
        },
        {
          "output_type": "execute_result",
          "data": {
            "text/plain": [
              "Empty DataFrame\n",
              "Columns: [seq_len, best_row]\n",
              "Index: []"
            ],
            "text/html": [
              "\n",
              "  <div id=\"df-15816dcc-4a2c-4fe8-9fb2-7b91dc73fd7d\">\n",
              "    <div class=\"colab-df-container\">\n",
              "      <div>\n",
              "<style scoped>\n",
              "    .dataframe tbody tr th:only-of-type {\n",
              "        vertical-align: middle;\n",
              "    }\n",
              "\n",
              "    .dataframe tbody tr th {\n",
              "        vertical-align: top;\n",
              "    }\n",
              "\n",
              "    .dataframe thead th {\n",
              "        text-align: right;\n",
              "    }\n",
              "</style>\n",
              "<table border=\"1\" class=\"dataframe\">\n",
              "  <thead>\n",
              "    <tr style=\"text-align: right;\">\n",
              "      <th></th>\n",
              "      <th>seq_len</th>\n",
              "      <th>best_row</th>\n",
              "    </tr>\n",
              "  </thead>\n",
              "  <tbody>\n",
              "  </tbody>\n",
              "</table>\n",
              "</div>\n",
              "      <button class=\"colab-df-convert\" onclick=\"convertToInteractive('df-15816dcc-4a2c-4fe8-9fb2-7b91dc73fd7d')\"\n",
              "              title=\"Convert this dataframe to an interactive table.\"\n",
              "              style=\"display:none;\">\n",
              "        \n",
              "  <svg xmlns=\"http://www.w3.org/2000/svg\" height=\"24px\"viewBox=\"0 0 24 24\"\n",
              "       width=\"24px\">\n",
              "    <path d=\"M0 0h24v24H0V0z\" fill=\"none\"/>\n",
              "    <path d=\"M18.56 5.44l.94 2.06.94-2.06 2.06-.94-2.06-.94-.94-2.06-.94 2.06-2.06.94zm-11 1L8.5 8.5l.94-2.06 2.06-.94-2.06-.94L8.5 2.5l-.94 2.06-2.06.94zm10 10l.94 2.06.94-2.06 2.06-.94-2.06-.94-.94-2.06-.94 2.06-2.06.94z\"/><path d=\"M17.41 7.96l-1.37-1.37c-.4-.4-.92-.59-1.43-.59-.52 0-1.04.2-1.43.59L10.3 9.45l-7.72 7.72c-.78.78-.78 2.05 0 2.83L4 21.41c.39.39.9.59 1.41.59.51 0 1.02-.2 1.41-.59l7.78-7.78 2.81-2.81c.8-.78.8-2.07 0-2.86zM5.41 20L4 18.59l7.72-7.72 1.47 1.35L5.41 20z\"/>\n",
              "  </svg>\n",
              "      </button>\n",
              "      \n",
              "  <style>\n",
              "    .colab-df-container {\n",
              "      display:flex;\n",
              "      flex-wrap:wrap;\n",
              "      gap: 12px;\n",
              "    }\n",
              "\n",
              "    .colab-df-convert {\n",
              "      background-color: #E8F0FE;\n",
              "      border: none;\n",
              "      border-radius: 50%;\n",
              "      cursor: pointer;\n",
              "      display: none;\n",
              "      fill: #1967D2;\n",
              "      height: 32px;\n",
              "      padding: 0 0 0 0;\n",
              "      width: 32px;\n",
              "    }\n",
              "\n",
              "    .colab-df-convert:hover {\n",
              "      background-color: #E2EBFA;\n",
              "      box-shadow: 0px 1px 2px rgba(60, 64, 67, 0.3), 0px 1px 3px 1px rgba(60, 64, 67, 0.15);\n",
              "      fill: #174EA6;\n",
              "    }\n",
              "\n",
              "    [theme=dark] .colab-df-convert {\n",
              "      background-color: #3B4455;\n",
              "      fill: #D2E3FC;\n",
              "    }\n",
              "\n",
              "    [theme=dark] .colab-df-convert:hover {\n",
              "      background-color: #434B5C;\n",
              "      box-shadow: 0px 1px 3px 1px rgba(0, 0, 0, 0.15);\n",
              "      filter: drop-shadow(0px 1px 2px rgba(0, 0, 0, 0.3));\n",
              "      fill: #FFFFFF;\n",
              "    }\n",
              "  </style>\n",
              "\n",
              "      <script>\n",
              "        const buttonEl =\n",
              "          document.querySelector('#df-15816dcc-4a2c-4fe8-9fb2-7b91dc73fd7d button.colab-df-convert');\n",
              "        buttonEl.style.display =\n",
              "          google.colab.kernel.accessAllowed ? 'block' : 'none';\n",
              "\n",
              "        async function convertToInteractive(key) {\n",
              "          const element = document.querySelector('#df-15816dcc-4a2c-4fe8-9fb2-7b91dc73fd7d');\n",
              "          const dataTable =\n",
              "            await google.colab.kernel.invokeFunction('convertToInteractive',\n",
              "                                                     [key], {});\n",
              "          if (!dataTable) return;\n",
              "\n",
              "          const docLinkHtml = 'Like what you see? Visit the ' +\n",
              "            '<a target=\"_blank\" href=https://colab.research.google.com/notebooks/data_table.ipynb>data table notebook</a>'\n",
              "            + ' to learn more about interactive tables.';\n",
              "          element.innerHTML = '';\n",
              "          dataTable['output_type'] = 'display_data';\n",
              "          await google.colab.output.renderOutput(dataTable, element);\n",
              "          const docLink = document.createElement('div');\n",
              "          docLink.innerHTML = docLinkHtml;\n",
              "          element.appendChild(docLink);\n",
              "        }\n",
              "      </script>\n",
              "    </div>\n",
              "  </div>\n",
              "  "
            ]
          },
          "metadata": {},
          "execution_count": 208
        }
      ]
    },
    {
      "cell_type": "markdown",
      "source": [
        "# Legacy"
      ],
      "metadata": {
        "id": "Mp11-_mcoufG"
      },
      "id": "Mp11-_mcoufG"
    },
    {
      "cell_type": "code",
      "source": [
        "TP = test_classified.count(1)\n",
        "FP = train_classified.count(1)\n",
        "TN = train_classified.count(0)\n",
        "FN = test_classified.count(0)"
      ],
      "metadata": {
        "id": "Q32yuSJeWFpP",
        "colab": {
          "base_uri": "https://localhost:8080/",
          "height": 226
        },
        "outputId": "c718c935-2c30-4498-ddf8-966954d556c9"
      },
      "id": "Q32yuSJeWFpP",
      "execution_count": 84,
      "outputs": [
        {
          "output_type": "error",
          "ename": "NameError",
          "evalue": "ignored",
          "traceback": [
            "\u001b[0;31m---------------------------------------------------------------------------\u001b[0m",
            "\u001b[0;31mNameError\u001b[0m                                 Traceback (most recent call last)",
            "\u001b[0;32m<ipython-input-84-8b023d282d97>\u001b[0m in \u001b[0;36m<cell line: 1>\u001b[0;34m()\u001b[0m\n\u001b[0;32m----> 1\u001b[0;31m \u001b[0mTP\u001b[0m \u001b[0;34m=\u001b[0m \u001b[0mtest_classified\u001b[0m\u001b[0;34m.\u001b[0m\u001b[0mcount\u001b[0m\u001b[0;34m(\u001b[0m\u001b[0;36m1\u001b[0m\u001b[0;34m)\u001b[0m\u001b[0;34m\u001b[0m\u001b[0;34m\u001b[0m\u001b[0m\n\u001b[0m\u001b[1;32m      2\u001b[0m \u001b[0mFP\u001b[0m \u001b[0;34m=\u001b[0m \u001b[0mtrain_classified\u001b[0m\u001b[0;34m.\u001b[0m\u001b[0mcount\u001b[0m\u001b[0;34m(\u001b[0m\u001b[0;36m1\u001b[0m\u001b[0;34m)\u001b[0m\u001b[0;34m\u001b[0m\u001b[0;34m\u001b[0m\u001b[0m\n\u001b[1;32m      3\u001b[0m \u001b[0mTN\u001b[0m \u001b[0;34m=\u001b[0m \u001b[0mtrain_classified\u001b[0m\u001b[0;34m.\u001b[0m\u001b[0mcount\u001b[0m\u001b[0;34m(\u001b[0m\u001b[0;36m0\u001b[0m\u001b[0;34m)\u001b[0m\u001b[0;34m\u001b[0m\u001b[0;34m\u001b[0m\u001b[0m\n\u001b[1;32m      4\u001b[0m \u001b[0mFN\u001b[0m \u001b[0;34m=\u001b[0m \u001b[0mtest_classified\u001b[0m\u001b[0;34m.\u001b[0m\u001b[0mcount\u001b[0m\u001b[0;34m(\u001b[0m\u001b[0;36m0\u001b[0m\u001b[0;34m)\u001b[0m\u001b[0;34m\u001b[0m\u001b[0;34m\u001b[0m\u001b[0m\n",
            "\u001b[0;31mNameError\u001b[0m: name 'test_classified' is not defined"
          ]
        }
      ]
    },
    {
      "cell_type": "code",
      "source": [
        "accuracy = (TP + TN) / (TP + FP + TN + FN)\n",
        "precision = TP / (TP + FP)\n",
        "recall = TP / (TP + FN)\n",
        "f1_score = 2 * (precision * recall) / (precision + recall)\n",
        "specificity = TN / (TN + FP)\n",
        "fpr = FP / (TN + FP)\n"
      ],
      "metadata": {
        "id": "urt-du3AWDsS"
      },
      "id": "urt-du3AWDsS",
      "execution_count": null,
      "outputs": []
    },
    {
      "cell_type": "code",
      "source": [
        "confusion_matrix = pd.DataFrame(\n",
        "    {\n",
        "        '': ['Actual Positive', 'Actual Negative'],\n",
        "        'Predicted Positive': [TP, FP],\n",
        "        'Predicted Negative': [FN, TN]\n",
        "    }\n",
        ")\n",
        "\n",
        "# Convert the dataframe to a LaTeX table\n",
        "confusion_matrix_latex = confusion_matrix.style.to_latex()\n",
        "\n",
        "# Print the table and the metrics\n",
        "print(confusion_matrix_latex)\n",
        "print(f'Accuracy: {accuracy:.2f}')\n",
        "print(f'Precision: {precision:.2f}')\n",
        "print(f'Recall: {recall:.2f}')\n",
        "print(f'F1-score: {f1_score:.2f}')"
      ],
      "metadata": {
        "colab": {
          "base_uri": "https://localhost:8080/"
        },
        "id": "GRWSE2s8WRiO",
        "outputId": "e02b0fb7-796c-4ca9-8902-4451308dadda"
      },
      "id": "GRWSE2s8WRiO",
      "execution_count": null,
      "outputs": [
        {
          "output_type": "stream",
          "name": "stdout",
          "text": [
            "\\begin{tabular}{llrr}\n",
            " &  & Predicted Positive & Predicted Negative \\\\\n",
            "0 & Actual Positive & 853 & 147 \\\\\n",
            "1 & Actual Negative & 345 & 655 \\\\\n",
            "\\end{tabular}\n",
            "\n",
            "Accuracy: 0.75\n",
            "Precision: 0.71\n",
            "Recall: 0.85\n",
            "F1-score: 0.78\n"
          ]
        }
      ]
    }
  ],
  "metadata": {
    "kernelspec": {
      "display_name": "Python 3",
      "language": "python",
      "name": "python3"
    },
    "language_info": {
      "codemirror_mode": {
        "name": "ipython",
        "version": 3
      },
      "file_extension": ".py",
      "mimetype": "text/x-python",
      "name": "python",
      "nbconvert_exporter": "python",
      "pygments_lexer": "ipython3",
      "version": "3.9.16"
    },
    "colab": {
      "provenance": [],
      "history_visible": true,
      "machine_shape": "hm",
      "gpuType": "T4"
    },
    "accelerator": "GPU",
    "gpuClass": "standard"
  },
  "nbformat": 4,
  "nbformat_minor": 5
}